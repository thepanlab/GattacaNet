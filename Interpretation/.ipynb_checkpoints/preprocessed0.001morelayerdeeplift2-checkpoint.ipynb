{
 "cells": [
  {
   "cell_type": "code",
   "execution_count": 1,
   "metadata": {},
   "outputs": [],
   "source": [
    "%matplotlib inline\n",
    "import tensorflow as tf\n",
    "import numpy as np\n",
    "from pandas_plink import read_plink\n",
    "import pandas as pd\n",
    "import matplotlib.pyplot as plt\n",
    "from sklearn.decomposition import PCA\n",
    "from sklearn.linear_model import LogisticRegression\n",
    "from joblib import Parallel, delayed\n",
    "from sklearn import metrics\n",
    "from math import sqrt\n",
    "import lime\n",
    "import lime.lime_tabular\n",
    "from lime import submodular_pick\n",
    "import random\n",
    "from sklearn.metrics import roc_curve,roc_auc_score"
   ]
  },
  {
   "cell_type": "code",
   "execution_count": 2,
   "metadata": {},
   "outputs": [],
   "source": [
    "from sklearn.metrics import accuracy_score\n",
    "from sklearn.metrics import auc\n",
    "from sklearn.metrics import confusion_matrix\n",
    "from sklearn.metrics import classification_report\n",
    "from sklearn.metrics import precision_score\n",
    "from sklearn.preprocessing import OneHotEncoder\n",
    "from deepexplain.tensorflow import DeepExplain"
   ]
  },
  {
   "cell_type": "code",
   "execution_count": 3,
   "metadata": {},
   "outputs": [
    {
     "name": "stderr",
     "output_type": "stream",
     "text": [
      "Mapping files: 100%|██████████| 3/3 [00:00<00:00, 24.90it/s]\n",
      "Mapping files: 100%|██████████| 3/3 [00:00<00:00, 108.48it/s]\n",
      "Mapping files: 100%|██████████| 3/3 [00:00<00:00, 29.94it/s]\n"
     ]
    }
   ],
   "source": [
    "''' Parameters for experiment '''\n",
    "threshold=\"0.001\"\n",
    "path_logs=\"/work/breastcancer/clean_test/logs/\"\n",
    "path_to_files=\"/work/breastcancer/clean_test/\""
   ]
  },
  {
   "cell_type": "code",
   "execution_count": null,
   "metadata": {},
   "outputs": [],
   "source": [
    "''' getting bim,fam,bed for training,validation and test sets '''\n",
    "(bim, fam, bed)=read_plink(path_to_files+\"train/sig\"+threshold)\n",
    "(bim2, fam2, bed2)=read_plink(path_to_files+\"validation/val\"+threshold)\n",
    "(bim3, fam3, bed3)=read_plink(path_to_files+\"test/test\"+threshold)"
   ]
  },
  {
   "cell_type": "code",
   "execution_count": null,
   "metadata": {},
   "outputs": [],
   "source": [
    "''' Creating arrays with optimal data structure and filling missing values with 2--> Homozygous major '''\n",
    "print(\"Convertion\")\n",
    "bed=bed.astype('uint8')\n",
    "print(\"Compute\")\n",
    "X=bed.compute()\n",
    "print(\"Filling Null Data\")\n",
    "X[np.isnan(X)]=2\n",
    "#validation\n",
    "print(\"Convertion\")\n",
    "bed2=bed2.astype('uint8')\n",
    "print(\"Compute\")\n",
    "X_val=bed2.compute()\n",
    "print(\"Filling Null Data\")\n",
    "X_val[np.isnan(X_val)]=2\n",
    "#test\n",
    "print(\"Convertion\")\n",
    "bed3=bed3.astype('uint8')\n",
    "print(\"Compute\")\n",
    "X_test=bed3.compute()\n",
    "print(\"Filling Null Data\")\n",
    "X_test[np.isnan(X_test)]=2\n",
    "\n",
    "''' Preparing data.shape=(individuals,SNP) '''\n",
    "#train\n",
    "Y=fam[\"trait\"].astype(\"int\")\n",
    "Y=Y-1\n",
    "Xdf=pd.DataFrame(X.T)\n",
    "Xdf[\"Y\"]=Y\n",
    "\n",
    "#validation\n",
    "Y_val=fam2[\"trait\"].astype(\"int\")\n",
    "Y_val=Y_val-1\n",
    "Xdf_val=pd.DataFrame(X_val.T)\n",
    "Xdf_val[\"Y\"]=Y_val\n",
    "\n",
    "#test\n",
    "Y_test=fam3[\"trait\"].astype(\"int\")\n",
    "Y_test=Y_test-1\n",
    "Xdf_test=pd.DataFrame(X_test.T)\n",
    "Xdf_test[\"Y\"]=Y_test\n",
    "\n",
    "''' Getting np arrays '''\n",
    "x_train=Xdf.drop(['Y'],axis=1).values\n",
    "y_train=Xdf[['Y']].values\n",
    "\n",
    "x_val=Xdf_val.drop(['Y'],axis=1).values\n",
    "y_val=Xdf_val[['Y']].values\n",
    "\n",
    "x_test=Xdf_test.drop(['Y'],axis=1).values\n",
    "y_test=Xdf_test[['Y']].values"
   ]
  },
  {
   "cell_type": "code",
   "execution_count": 18,
   "metadata": {},
   "outputs": [],
   "source": [
    "tf.reset_default_graph()"
   ]
  },
  {
   "cell_type": "code",
   "execution_count": 19,
   "metadata": {},
   "outputs": [],
   "source": [
    "sess.close()"
   ]
  },
  {
   "cell_type": "code",
   "execution_count": 20,
   "metadata": {},
   "outputs": [],
   "source": [
    "sess = tf.InteractiveSession(config=tf.ConfigProto(device_count={ \"CPU\": 44}))\n"
   ]
  },
  {
   "cell_type": "code",
   "execution_count": 21,
   "metadata": {},
   "outputs": [
    {
     "data": {
      "text/plain": [
       "<bound method Graph.get_tensor_by_name of <tensorflow.python.framework.ops.Graph object at 0x2ad337c2dbe0>>"
      ]
     },
     "execution_count": 21,
     "metadata": {},
     "output_type": "execute_result"
    }
   ],
   "source": [
    "tf.get_default_graph().get_tensor_by_name"
   ]
  },
  {
   "cell_type": "code",
   "execution_count": 22,
   "metadata": {},
   "outputs": [],
   "source": [
    "X=tf.placeholder(tf.float32,shape=(None,5273),name=\"X\")\n",
    "X_random=tf.placeholder(tf.float32,shape=(None,1),name=\"X\")\n",
    "Y=tf.placeholder(tf.float32,shape=(None,1),name=\"Y\")"
   ]
  },
  {
   "cell_type": "code",
   "execution_count": 23,
   "metadata": {},
   "outputs": [
    {
     "name": "stderr",
     "output_type": "stream",
     "text": [
      "/work/omicsbio/adbadre/src/deepexplain/deepexplain/tensorflow/methods.py:611: UserWarning: DeepExplain detected you are trying to use an attribution method that requires gradient override but the original gradient was used instead. You might have forgot to (re)create your graph within the DeepExlain context. Results are not reliable!\n",
      "  warnings.warn('DeepExplain detected you are trying to use an attribution method that requires '\n",
      "/work/omicsbio/adbadre/src/deepexplain/deepexplain/tensorflow/methods.py:611: UserWarning: DeepExplain detected you are trying to use an attribution method that requires gradient override but the original gradient was used instead. You might have forgot to (re)create your graph within the DeepExlain context. Results are not reliable!\n",
      "  warnings.warn('DeepExplain detected you are trying to use an attribution method that requires '\n"
     ]
    }
   ],
   "source": [
    "with DeepExplain(session=sess) as de:  # < enter DeepExplain context\n",
    "    #tf.reset_default_graph()\n",
    "    #tf.reset_default_graph()\n",
    "    training = tf.placeholder_with_default(False, shape=(), name='training')\n",
    "    initializer = tf.contrib.layers.xavier_initializer()\n",
    "    hidden00_drop= tf.layers.dropout(X, 0.5, training=training)\n",
    "    hidden01=tf.layers.dense(hidden00_drop, 1000, name=\"hidden01\",activation=None, kernel_initializer=initializer)\n",
    "    hidden01_norm=tf.layers.batch_normalization(hidden01, training=training, momentum=0.9)\n",
    "    act_hidden01=tf.nn.leaky_relu(hidden01_norm)\n",
    "    hidden01_drop = tf.layers.dropout(act_hidden01, 0.5, training=training)\n",
    "    hidden0=tf.layers.dense(hidden01_drop, 250, name=\"hidden0\",activation=None, kernel_initializer=initializer)\n",
    "    hidden0_norm=tf.layers.batch_normalization(hidden0, training=training, momentum=0.9)\n",
    "    act_hidden0=tf.nn.leaky_relu(hidden0_norm)\n",
    "    hidden0_drop = tf.layers.dropout(act_hidden0, 0.5, training=training)\n",
    "    hidden1=tf.layers.dense(hidden0_drop, 50, name=\"hidden1\",activation=None, kernel_initializer=initializer)\n",
    "    hidden1_norm=tf.layers.batch_normalization(hidden1, training=training, momentum=0.9)\n",
    "    act_hidden1=tf.nn.leaky_relu(hidden1_norm)\n",
    "    hidden1_drop = tf.layers.dropout(act_hidden1, 0.5, training=training)\n",
    "    output=tf.layers.dense(  hidden1_drop, 1, name=\"output_final\",activation=None)\n",
    "    saver=tf.train.Saver()\n",
    "    saver.restore(sess, \"/work/breastcancer/clean_test/logs/preprocessed001.ckpt\")\n",
    "    pred=sess.run(tf.nn.sigmoid(output),feed_dict={X:x_test,Y:y_test})\n",
    "    important1=np.argwhere(pred==pred[pred>0.67])[:,0]\n",
    "    pred=sess.run(tf.nn.sigmoid(output),feed_dict={X:x_val,Y:y_val})\n",
    "    important2=np.argwhere(pred==pred[pred>0.67])[:,0]\n",
    "    a=de.explain('deeplift', output*y_test[important1], X, x_test[important1])\n",
    "    a2=de.explain('deeplift', output*y_val[important2], X, x_val[important2])"
   ]
  },
  {
   "cell_type": "code",
   "execution_count": 24,
   "metadata": {},
   "outputs": [
    {
     "data": {
      "text/html": [
       "<div>\n",
       "<style scoped>\n",
       "    .dataframe tbody tr th:only-of-type {\n",
       "        vertical-align: middle;\n",
       "    }\n",
       "\n",
       "    .dataframe tbody tr th {\n",
       "        vertical-align: top;\n",
       "    }\n",
       "\n",
       "    .dataframe thead th {\n",
       "        text-align: right;\n",
       "    }\n",
       "</style>\n",
       "<table border=\"1\" class=\"dataframe\">\n",
       "  <thead>\n",
       "    <tr style=\"text-align: right;\">\n",
       "      <th></th>\n",
       "      <th>chrom</th>\n",
       "      <th>snp</th>\n",
       "      <th>cm</th>\n",
       "      <th>pos</th>\n",
       "      <th>a0</th>\n",
       "      <th>a1</th>\n",
       "      <th>i</th>\n",
       "    </tr>\n",
       "  </thead>\n",
       "  <tbody>\n",
       "    <tr>\n",
       "      <th>3431</th>\n",
       "      <td>10</td>\n",
       "      <td>chr10_123467015_C_G</td>\n",
       "      <td>0.0</td>\n",
       "      <td>123467015</td>\n",
       "      <td>G</td>\n",
       "      <td>C</td>\n",
       "      <td>3431</td>\n",
       "    </tr>\n",
       "  </tbody>\n",
       "</table>\n",
       "</div>"
      ],
      "text/plain": [
       "     chrom                  snp   cm        pos a0 a1     i\n",
       "3431    10  chr10_123467015_C_G  0.0  123467015  G  C  3431"
      ]
     },
     "execution_count": 24,
     "metadata": {},
     "output_type": "execute_result"
    }
   ],
   "source": [
    "bim[bim[\"snp\"]==\"chr10_123467015_C_G\"]"
   ]
  },
  {
   "cell_type": "code",
   "execution_count": 25,
   "metadata": {},
   "outputs": [],
   "source": [
    "mean_snp=[]\n",
    "aa=np.mean(np.array(a),axis=0)\n",
    "aa2=np.mean(np.array(a2),axis=0)\n",
    "#not_good=np.argwhere(aa<10**-4)\n",
    "#good=np.argwhere(aa>10**-2)\n",
    "#aa[aa>10**-4].shape"
   ]
  },
  {
   "cell_type": "code",
   "execution_count": 27,
   "metadata": {},
   "outputs": [
    {
     "data": {
      "text/plain": [
       "(531, 2)"
      ]
     },
     "execution_count": 27,
     "metadata": {},
     "output_type": "execute_result"
    }
   ],
   "source": [
    "np.argwhere(pred==pred[pred>0.67]).shape"
   ]
  },
  {
   "cell_type": "code",
   "execution_count": null,
   "metadata": {},
   "outputs": [],
   "source": []
  },
  {
   "cell_type": "code",
   "execution_count": 28,
   "metadata": {},
   "outputs": [
    {
     "data": {
      "text/plain": [
       "Text(0.5,1,'SNPs Importance using DeepLift test')"
      ]
     },
     "execution_count": 28,
     "metadata": {},
     "output_type": "execute_result"
    },
    {
     "data": {
      "image/png": "[encoded data removed]",
      "text/plain": [
       "<matplotlib.figure.Figure at 0x2ad337c13c18>"
      ]
     },
     "metadata": {
      "needs_background": "light"
     },
     "output_type": "display_data"
    }
   ],
   "source": [
    "fig,ax=plt.subplots(figsize=(20,10))\n",
    "ax.bar([x for x  in range(aa.shape[0])],np.absolute(aa))\n",
    "ax.set_xlabel(\"SNPs\")\n",
    "ax.set_ylabel(\"Importance absolute value\")\n",
    "plt.title(\"SNPs Importance using DeepLift test\")"
   ]
  },
  {
   "cell_type": "code",
   "execution_count": 170,
   "metadata": {},
   "outputs": [
    {
     "data": {
      "text/plain": [
       "Text(0.5,1,'SNPs Importance using DeepLift test')"
      ]
     },
     "execution_count": 170,
     "metadata": {},
     "output_type": "execute_result"
    },
    {
     "data": {
      "image/png": "[encoded data removed]",
      "text/plain": [
       "<matplotlib.figure.Figure at 0x2b7dd221bfd0>"
      ]
     },
     "metadata": {
      "needs_background": "light"
     },
     "output_type": "display_data"
    }
   ],
   "source": [
    "fig,ax=plt.subplots(figsize=(20,10))\n",
    "ax.bar([x for x  in range(aa.shape[0])],np.absolute(aa))\n",
    "ax.set_xlabel(\"SNPs\")\n",
    "ax.set_ylabel(\"Importance absolute value\")\n",
    "plt.title(\"SNPs Importance using DeepLift test\")"
   ]
  },
  {
   "cell_type": "code",
   "execution_count": 29,
   "metadata": {},
   "outputs": [
    {
     "data": {
      "text/plain": [
       "Text(0.5,1,'SNPs Importance using DeepLift val')"
      ]
     },
     "execution_count": 29,
     "metadata": {},
     "output_type": "execute_result"
    },
    {
     "data": {
      "image/png": "[encoded data removed]",
      "text/plain": [
       "<matplotlib.figure.Figure at 0x2ad5420eff60>"
      ]
     },
     "metadata": {
      "needs_background": "light"
     },
     "output_type": "display_data"
    }
   ],
   "source": [
    "fig,ax=plt.subplots(figsize=(20,10))\n",
    "ax.bar([x for x  in range(aa2.shape[0])],np.absolute(aa2))\n",
    "ax.set_xlabel(\"SNPs\")\n",
    "ax.set_ylabel(\"Importance absolute value\")\n",
    "plt.title(\"SNPs Importance using DeepLift val\")"
   ]
  },
  {
   "cell_type": "code",
   "execution_count": 171,
   "metadata": {},
   "outputs": [
    {
     "data": {
      "text/plain": [
       "Text(0.5,1,'SNPs Importance using DeepLift val')"
      ]
     },
     "execution_count": 171,
     "metadata": {},
     "output_type": "execute_result"
    },
    {
     "data": {
      "image/png": "[encoded data removed]",
      "text/plain": [
       "<matplotlib.figure.Figure at 0x2b7dd35234a8>"
      ]
     },
     "metadata": {
      "needs_background": "light"
     },
     "output_type": "display_data"
    }
   ],
   "source": [
    "fig,ax=plt.subplots(figsize=(20,10))\n",
    "ax.bar([x for x  in range(aa2.shape[0])],np.absolute(aa2))\n",
    "ax.set_xlabel(\"SNPs\")\n",
    "ax.set_ylabel(\"Importance absolute value\")\n",
    "plt.title(\"SNPs Importance using DeepLift val\")"
   ]
  },
  {
   "cell_type": "code",
   "execution_count": 52,
   "metadata": {},
   "outputs": [
    {
     "data": {
      "text/plain": [
       "Text(0.5,1,'SNPs Importance using DeepLift val')"
      ]
     },
     "execution_count": 52,
     "metadata": {},
     "output_type": "execute_result"
    },
    {
     "data": {
      "image/png": "[encoded data removed]",
      "text/plain": [
       "<matplotlib.figure.Figure at 0x2b7da32f0630>"
      ]
     },
     "metadata": {
      "needs_background": "light"
     },
     "output_type": "display_data"
    }
   ],
   "source": [
    "fig,ax=plt.subplots(figsize=(20,10))\n",
    "ax.bar([x for x  in range(aa2.shape[0])],np.absolute(aa2))\n",
    "ax.set_xlabel(\"SNPs\")\n",
    "ax.set_ylabel(\"Importance absolute value\")\n",
    "plt.title(\"SNPs Importance using DeepLift val\")"
   ]
  },
  {
   "cell_type": "code",
   "execution_count": 48,
   "metadata": {},
   "outputs": [],
   "source": [
    "top23=['Chr6:30954121:G:T', 'chr13_113284191_C_T', 'chr13_113796587_A_G', 'chr14_101121371_G_T', 'chr14_76886176_C_T', 'chr16_52328666_C_T', 'chr17_4961271_G_T', 'chr1_97788840_A_G', 'chr2_171708059_C_T', 'chr3_46742523_A_C', 'chr5_180405432_G_T', 'chr7_102368966_A_G', 'chr7_118831547_C_T', 'chr8_130380476_C_T', 'chr8_89514784_A_G', 'chr9_16917672_G_T', 'corect_rs116995945', 'corect_rs139337779', 'corect_rs181578054', 'rs11642757', 'rs12542492', 'rs3858522', 'rs4040605']"
   ]
  },
  {
   "cell_type": "code",
   "execution_count": 30,
   "metadata": {},
   "outputs": [
    {
     "data": {
      "text/plain": [
       "array([ 0.02917784,  0.02017858,  0.00366779, ...,  0.01704769,\n",
       "       -0.00157911,  0.00123311], dtype=float32)"
      ]
     },
     "execution_count": 30,
     "metadata": {},
     "output_type": "execute_result"
    }
   ],
   "source": []
  },
  {
   "cell_type": "code",
   "execution_count": 49,
   "metadata": {},
   "outputs": [],
   "source": [
    "val=[]\n",
    "for i in top23:\n",
    "    val.append([i,aa[bim[bim[\"snp\"].str.contains(i)].index.values[0]]])"
   ]
  },
  {
   "cell_type": "code",
   "execution_count": 50,
   "metadata": {},
   "outputs": [
    {
     "data": {
      "text/plain": [
       "[['Chr6:30954121:G:T', 0.048819035],\n",
       " ['chr13_113284191_C_T', -0.040377755],\n",
       " ['chr13_113796587_A_G', -0.037723493],\n",
       " ['chr14_101121371_G_T', 0.03885672],\n",
       " ['chr14_76886176_C_T', 0.02333687],\n",
       " ['chr16_52328666_C_T', 0.051769156],\n",
       " ['chr17_4961271_G_T', -0.02150452],\n",
       " ['chr1_97788840_A_G', -0.06829197],\n",
       " ['chr2_171708059_C_T', -0.06732696],\n",
       " ['chr3_46742523_A_C', 0.04845367],\n",
       " ['chr5_180405432_G_T', -0.034425594],\n",
       " ['chr7_102368966_A_G', -0.02607575],\n",
       " ['chr7_118831547_C_T', -0.034535807],\n",
       " ['chr8_130380476_C_T', 0.024978315],\n",
       " ['chr8_89514784_A_G', 0.037150357],\n",
       " ['chr9_16917672_G_T', -0.025123104],\n",
       " ['corect_rs116995945', -0.0445039],\n",
       " ['corect_rs139337779', -0.033444606],\n",
       " ['corect_rs181578054', 0.030053709],\n",
       " ['rs11642757', -0.02879802],\n",
       " ['rs12542492', 0.028301364],\n",
       " ['rs3858522', 0.033404596],\n",
       " ['rs4040605', 0.024004318]]"
      ]
     },
     "execution_count": 50,
     "metadata": {},
     "output_type": "execute_result"
    }
   ],
   "source": [
    "val"
   ]
  },
  {
   "cell_type": "code",
   "execution_count": 51,
   "metadata": {},
   "outputs": [],
   "source": [
    "pd.DataFrame(val).to_csv(\"/work/breastcancer/clean_test/results/deeplift23.csv\")"
   ]
  },
  {
   "cell_type": "code",
   "execution_count": 33,
   "metadata": {},
   "outputs": [
    {
     "data": {
      "text/plain": [
       "array(['corect_rs187745955', 'chr1_97788840_A_G', 'chr2_171708059_C_T',\n",
       "       'chr1_109093676_A_G', 'chr2_28150862_A_C', 'chr2_23222481_C_T',\n",
       "       'chr10_52434758_A_G', 'rs1083383', 'chr16_52328666_C_T',\n",
       "       'rs3927319', 'chr3_46742523_A_C', 'chr19_2472833_C_T',\n",
       "       'chr2_185637683_C_T', 'Chr6:30954121:G:T', 'corect_rs116995945',\n",
       "       'chr11_130943681_A_G', 'chr8_12549881_C_G', 'chr13_113284191_C_T',\n",
       "       'chr10_82842595_A_G', 'chr10_29919963_A_G', 'chr12_28530125_C_G',\n",
       "       'chrX_81467918_C_T', 'chr2_236995717_C_T', 'chrX_125912274_C_T',\n",
       "       'chr4_88507794_A_G', 'rs10752892', 'chr17_35438073_C_T',\n",
       "       'chr14_101121371_G_T', 'chr21_41532756_C_T', 'chr8_89514784_A_G',\n",
       "       'chr13_113796587_A_G', 'chr8_128146308_G_T', 'corect_rs188312854',\n",
       "       'chr12_15177511_C_T', 'corect_rs189944458', 'chr18_24094369_A_G',\n",
       "       'chr17_41196821_INDEL_T', 'chr19_38185013_A_G', 'rs3858522',\n",
       "       'chr6_32459456_A_G', 'chr11_23840192_C_T', 'chr1_10617906_A_T',\n",
       "       'chr7_118831547_C_T', 'corect_rs187434740', 'rs1614887',\n",
       "       'chr16_84664322_A_G', 'chr13_27131826_G_T', 'rs1180130',\n",
       "       'chr5_180405432_G_T', 'corect_rs139337779', 'chr2_120189404_A_G',\n",
       "       'chr7_91707921_C_T', 'chr4_114651107_A_G', 'chr2_26526169_A_G',\n",
       "       'rs398151', 'chr4_153848128_A_G', 'corect_rs181578054',\n",
       "       'rs11642757', 'chr10_118234394_C_T', 'rs62489409', 'rs2025886',\n",
       "       'rs12542492', 'chr8_38902860_C_T', 'chr8_29502120_A_G',\n",
       "       'corect_rs117872877', 'chr11_2597984_A_G', 'chr4_107862280_A_C',\n",
       "       'chr6_30701533_G_INDEL', 'chr2_150721127_A_C', 'rs11155996',\n",
       "       'chr1_62514768_C_T', 'rs9564833', 'chr7_102368966_A_G',\n",
       "       'rs6118063', 'chr8_130380476_C_T', 'rs13183603', 'rs4040605',\n",
       "       'rs2472677', 'chr4_183646766_A_T', 'chr9_16917672_G_T',\n",
       "       'chr11_68980828_G_T', 'chr10_43692630_C_T', 'chr6_68404944_G_T',\n",
       "       'rs73022296', 'rs34800900', 'chr1_114136037_C_T',\n",
       "       'chr12_116778635_C_T', 'chr4_175851520_G_T', 'chr14_76886176_C_T',\n",
       "       'rs12910968', 'rs9271611', 'chr5_174355059_A_G',\n",
       "       'chr3_28889125_C_T', 'rs11784122', 'chr6_32654149_G_T',\n",
       "       'chr17_4961271_G_T', 'chr19_13269181_A_G', 'chr4_44900597_C_T',\n",
       "       'rs132941', 'chr1_109278419_G_INDEL', 'rs10947071',\n",
       "       'chr9_7510184_C_G', 'chr5_26168640_C_T', 'rs34923393',\n",
       "       'chr4_9475301_A_C', 'chr12_34830486_A_G', 'chr2_238189206_G_T',\n",
       "       'rs6974602', 'rs410649', 'chr7_12687945_A_G', 'rs6029145',\n",
       "       'rs2974217', 'chr8_104109811_A_G', 'rs11735107',\n",
       "       'chr5_49502516_C_T', 'rs9925068', 'rs719426', 'rs746427',\n",
       "       'chr6_32473616_C_T', 'rs538800', 'Chr22:29885127:-:AAACAA',\n",
       "       'rs1990941', 'chr8_17426274_A_G', 'rs7659996', 'chr17_7164499_C_T',\n",
       "       'rs2071213', 'rs4454527', 'chr10_64288389_C_T',\n",
       "       'chr20_52304681_C_T', 'rs10798269', 'corect_rs186216026',\n",
       "       'chr7_92540226_G_T', 'rs16853045', 'chr2_135755629_A_G',\n",
       "       'rs71647871', 'chr5_99716723_A_C', 'chr6_31248091_A_G',\n",
       "       'rs7786990', 'rs6883371', 'rs1060599', 'rs67465115',\n",
       "       'chr2_202527467_A_G', 'rs425335', 'rs2643282', 'rs11719174',\n",
       "       'chr8_33883697_A_C', 'rs11162113', 'rs6440136', 'rs1175119',\n",
       "       'rs4821638', 'rs1968109', 'rs17067831', 'rs7739078', 'rs73859240',\n",
       "       'rs11609105', 'rs7564473', 'rs7220012', 'rs13179713',\n",
       "       'chr20_61052092_C_T', 'rs729125', 'chr14_68603392_A_G',\n",
       "       'rs1627990', 'corect_rs140986399', 'Chr6:32551098:C:G',\n",
       "       'rs1320969', 'chr11_111757486_A_G', 'rs67257959', 'rs17337750',\n",
       "       'rs58348977', 'rs8033207', 'rs7301270', 'rs2903992', 'rs10508296',\n",
       "       'rs2190997', 'chr9_137596148_G_T', 'rs11983474', 'rs12578839',\n",
       "       'rs71853373', 'rs2250526', 'rs1409787', 'rs2110173', 'rs59325012',\n",
       "       'rs6774290', 'rs4100227', 'chr20_11343864_C_T',\n",
       "       'chr9_106912151_C_T', 'rs2527343', 'chr1_37702050_AGA_INDEL',\n",
       "       'chr16_74714012_A_C', 'rs7514892', 'chr8_97531541_C_G', 'rs539674',\n",
       "       'rs1932945', 'rs9260313', 'chr4_146614086_A_C', 'chr5_521096_C_T',\n",
       "       'chr3_163363996_A_G', 'corect_rs185100170', 'chr20_48942648_C_T',\n",
       "       'chr4_16013048_C_T', 'rs2841632', 'rs1369177', 'rs7025424',\n",
       "       'chr17_43705518_A_G', 'rs3814354', 'rs9275851', 'rs72834723',\n",
       "       'rs10461695', 'chr16_8755147_C_T', 'chr2_29009089_A_C',\n",
       "       'rs9468919', 'chr6_32482491_C_G', 'rs997066', 'chr5_26657987_A_G',\n",
       "       'rs157512', 'rs292347', 'rs6461483', 'rs1777696', 'rs1386382',\n",
       "       'chr8_77781087_A_G', 'rs6838519', 'chr5_116877991_A_C',\n",
       "       'chr6_32551957_G_T', 'rs7259285', 'rs4633146', 'chr2_62953166_A_G',\n",
       "       'rs12682471', 'rs16914129', 'rs4700653', 'chr12_28162831_A_G',\n",
       "       'rs12890307', 'chr5_56046461_C_T', 'chr3_64097176_C_G',\n",
       "       'rs6545420', 'chr4_9462484_G_T', 'rs4810910', 'rs2019480',\n",
       "       'chr6_70512939_A_G', 'chr7_142804165_A_G', 'chr11_32938165_A_G',\n",
       "       'chr3_26877966_C_T', 'corect_rs192561656', 'rs2357322',\n",
       "       'chr2_23168305_A_G', 'chr10_114808902_G_T', 'rs11836367',\n",
       "       'rs28383245', 'rs2331979', 'rs12917403', 'rs10231759',\n",
       "       'rs12959290', 'chr9_122564896_A_G', 'rs2735846', 'rs6776229',\n",
       "       'rs204018', 'rs2322053', 'rs16933690', 'chr10_123332289_A_G',\n",
       "       'chr8_102478959_A_T', 'rs12931301', 'rs9948', 'rs6718489',\n",
       "       'rs36715', 'chr22_40801312_A_G', 'rs11589479', 'rs7728598',\n",
       "       'rs1566646', 'rs12136041', 'chr1_1914124_C_T', 'rs12557711',\n",
       "       'chr9_97029107_C_T', 'rs56681477', 'chr15_40529113_A_G',\n",
       "       'rs11701058', 'rs6460575', 'chr6_32480507_C_T', 'rs6020994',\n",
       "       'chr12_13202294_A_G', 'rs8004768', 'rs130065',\n",
       "       'chr11_59071087_C_T', 'rs13234407', 'rs10008104', 'rs10099442',\n",
       "       'rs727670', 'chr1_10879725_A_G', 'rs9396788', 'rs71905325',\n",
       "       'chr4_15682437_C_T', 'chr10_13696427_A_G', 'rs34011014',\n",
       "       'rs657686', 'rs7252798', 'chr19_460883_C_T', 'rs9346612',\n",
       "       'rs2767755', 'chr14_37239005_A_T', 'rs10283372',\n",
       "       'chr21_20106580_A_G', 'rs10064567', 'rs5920253', 'rs2182490',\n",
       "       'rs4600441', 'chr10_123431245_A_G', 'rs7386213', 'rs239765',\n",
       "       'chr10_80810849_A_C', 'chr1_121264079_A_G', 'rs11168960',\n",
       "       'corect_rs114894999', 'rs2638381', 'rs4975994', 'rs556439',\n",
       "       'chr17_77943468_C_T', 'rs702043', 'chr3_149390610_A_T',\n",
       "       'rs12266639', 'rs11248073', 'rs450710', 'chr2_83013605_A_G',\n",
       "       'rs6904241', 'chr6_32691173_C_T', 'rs8094072', 'rs2764962',\n",
       "       'chr17_57229716_A_G', 'chr19_54502409_C_T', 'rs12140373',\n",
       "       'rs532965', 'rs381125', 'chr1_200593023_C_T', 'chr6_31161571_C_G',\n",
       "       'rs922853', 'rs9327640', 'chr5_57950505_CTCTTCTC_INDEL',\n",
       "       'rs7528647', 'chr1_114338589_A_G', 'rs1174079',\n",
       "       'chr18_24122977_AAAG_INDEL', 'rs275966', 'rs922855', 'rs6431731',\n",
       "       'rs2388742', 'chr18_59402300_C_T', 'rs4268948', 'rs722895',\n",
       "       'rs2868486', 'rs17726078', 'chr10_67002675_A_C',\n",
       "       'chr3_149688990_A_G', 'chr6_32552168_A_G',\n",
       "       'chr14_53699008_C_INDEL', 'rs7544119', 'rs5975711', 'rs28637953',\n",
       "       'chr14_76249104_C_T', 'chr12_28167635_A_G', 'rs1634479',\n",
       "       'rs1562396', 'rs12540711', 'chr5_49511425_C_T',\n",
       "       'chr1_155155731_A_G', 'rs348293', 'chr1_120474899_C_T',\n",
       "       'chr20_33010892_C_T', 'chr16_80674079_A_G', 'chr19_56005289_C_T',\n",
       "       'rs4941050', 'rs2297922', 'rs58305288', 'chr21_16568856_C_T',\n",
       "       'chr1_15348453_A_C', 'rs665732', 'chr6_32491523_GC_INDEL',\n",
       "       'chr2_217969552_A_G', 'rs7645328', 'corect_rs116417157',\n",
       "       'chr7_130674481_A_G', 'rs12699727', 'rs7767114', 'rs6852016',\n",
       "       'rs7716600', 'rs352276', 'chr14_93552298_C_G', 'rs28969436',\n",
       "       'rs7119634', 'chr17_2990014_G_T', 'chr12_96035572_C_T',\n",
       "       'rs4391897', 'rs899080', 'rs2439630', 'rs3094672', 'rs2937531',\n",
       "       'rs10941679', 'rs35426', 'rs335766', 'chr7_130668586_C_T',\n",
       "       'chr20_25058424_G_T', 'rs2103389', 'rs17542285', 'rs1736999',\n",
       "       'rs4984246', 'rs10425311', 'chr7_91580030_A_G',\n",
       "       'chr10_52032876_C_T', 'rs10741843', 'chr8_11794050_A_C',\n",
       "       'chr3_64084032_G_T', 'chr12_28363760_A_C', 'rs16963205',\n",
       "       'rs13199160', 'rs801752', 'chr3_62657017_A_G', 'rs757369',\n",
       "       'rs9386604', 'chr22_37686987_G_T', 'rs76035443', 'rs6457896',\n",
       "       'rs579740', 'rs554219', 'rs30408', 'rs763480', 'rs4975655',\n",
       "       'rs12031559', 'rs8015790', 'rs2253168', 'rs4774574', 'rs9381262',\n",
       "       'chr10_22048330_C_T', 'chr2_65086804_C_T', 'rs2975359',\n",
       "       'rs10960938', 'rs227228', 'rs2369579', 'rs55722937',\n",
       "       'chr21_16417756_A_T', 'chr9_110896525_A_G', 'chr8_87938182_A_G',\n",
       "       'chr18_24125857_C_T', 'rs12718642', 'chr8_29902956_A_T',\n",
       "       'rs41272673', 'rs797319', 'chr2_121083587_A_G',\n",
       "       'chr2_217971031_A_C', 'rs4895350', 'chr10_66339904_A_T',\n",
       "       'rs1949109', 'chrX_62348191_G_INDEL', 'rs7584507', 'rs2111909',\n",
       "       'c3_pos157413713', 'rs56300148', 'rs2590275', 'chr12_67857853_C_T',\n",
       "       'rs6723108', 'chr9_30123568_A_G', 'chr10_47697667_A_C',\n",
       "       'chr16_61365835_C_T', 'chr5_1882952_A_C', 'rs2017964', 'rs4746992',\n",
       "       'rs7894378', 'chr1_145505371_A_T', 'rs973497', 'rs17127947',\n",
       "       'rs9514848', 'rs7980716', 'chr15_74592862_A_G',\n",
       "       'chr16_52623836_G_T', 'chr10_123357561_C_T',\n",
       "       'chr8_129437046_ACTCCTCCTCCTCCTCCTCC_INDEL', 'rs12566190',\n",
       "       'chr16_80645147_A_G', 'rs614367', 'chr1_121280613_A_G',\n",
       "       'rs2108494', 'rs2179766', 'chr13_103588159_A_G',\n",
       "       'chr10_114799172_A_G', 'rs36693', 'rs4877223', 'rs9787392',\n",
       "       'chr10_114773608_A_G', 'rs1429845', 'rs7194733', 'rs6977081',\n",
       "       'chr3_33698244_G_T', 'rs501817', 'chr6_32484554_A_T', 'rs1527359',\n",
       "       'chr5_56308790_G_T', 'chr6_130374102_A_C', 'chr8_11589042_A_G',\n",
       "       'chr3_27053325_A_T', 'chr8_31125843_C_T', 'rs242928', 'rs10518461',\n",
       "       'rs7036748', 'rs1384331', 'chr3_64090194_C_T', 'chr3_99387903_A_G',\n",
       "       'rs13169329', 'chr1_145669523_A_G', 'rs7525980', 'rs1500206',\n",
       "       'rs10782563', 'chr17_53010098_C_T', 'rs10847503', 'rs161658',\n",
       "       'rs7066183', 'chr18_24578138_A_G', 'rs1174900', 'rs4793290',\n",
       "       'rs2255938', 'chr3_27295434_A_G', 'chr6_42017286_C_T',\n",
       "       'chrX_65448725_C_T', 'rs1400042', 'chr13_51131109_A_G',\n",
       "       'chr11_65665988_A_G', 'rs34724', 'rs1378940', 'rs7857804',\n",
       "       'rs4842593', 'rs1537976', 'rs6452953', 'chr9_119617228_G_T',\n",
       "       'rs577293', 'rs17144411', 'chr5_2383722_A_G', 'rs28551066',\n",
       "       'rs822508', 'rs2600268', 'rs2350804', 'rs10788178', 'rs7763581',\n",
       "       'chr6_117249201_A_C', 'rs9700', 'rs4074785', 'chr7_21126458_G_T',\n",
       "       'chr5_111114379_G_T', 'rs3749748', 'rs7084454', 'rs11489600',\n",
       "       'rs7760611', 'chr12_116984684_C_T', 'rs10008376',\n",
       "       'chr5_169591115_C_T', 'rs965001', 'rs79292989', 'rs1801131',\n",
       "       'rs7156153', 'rs7158184', 'rs10160674', 'rs6557385', 'rs11125114',\n",
       "       'rs11667450', 'rs1915063', 'chr18_76753768_G_INDEL', 'rs9910757',\n",
       "       'rs2243523', 'chr6_13634072_A_G', 'rs1113946', 'rs4861163',\n",
       "       'rs10163809', 'rs66478960', 'chr1_41384436_A_G',\n",
       "       'chr2_202531547_A_C', 'rs77519294', 'chr12_28151609_A_C',\n",
       "       'chr4_145200952_C_G', 'rs2156273', 'rs13047152', 'rs3024270',\n",
       "       'chr7_6038722_C_T', 'rs7770657', 'rs7042951', 'rs1933909',\n",
       "       'rs6825684', 'rs10090153', 'chr20_18066528_A_T', 'rs1384996',\n",
       "       'rs2294551', 'chr12_26052872_G_T', 'rs8083216', 'rs13137462',\n",
       "       'rs41858', 'chr19_19495954_A_G', 'rs17105837',\n",
       "       'chr2_174076997_INDEL_TG', 'rs9824206', 'rs7848334', 'rs61759827',\n",
       "       'chr7_152644854_A_C', 'corect_rs186249643', 'chr16_80644663_C_T',\n",
       "       'rs7545533', 'chr8_25935017_CA_INDEL', 'rs648354', 'rs561795',\n",
       "       'rs11130957', 'rs1737035', 'chr6_32497068_G_T', 'rs7816345',\n",
       "       'rs259649', 'rs2420946', 'chr7_6026988_A_G', 'rs10114408',\n",
       "       'rs4808814', 'chr4_39691575_G_T', 'chr5_56286209_C_T', 'rs7230437',\n",
       "       'rs2619434', 'rs739873', 'rs1290997', 'rs11748868',\n",
       "       'chr2_218174294_C_G', 'chr15_81328368_C_T', 'rs7020353',\n",
       "       'chr3_71305759_A_G', 'chr9_110630326_C_T', 'chr1_145554450_C_T',\n",
       "       'chr6_31498384_C_INDEL', 'rs349488', 'rs12525751', 'rs74458345',\n",
       "       'chr9_124303632_C_T', 'chr21_16462189_A_G', 'chr5_1882940_A_C',\n",
       "       'chr7_157857958_A_G', 'rs13392238', 'chr10_80882589_A_G',\n",
       "       'rs851981', 'rs7259325', 'rs9918437', 'chr6_130373188_A_G',\n",
       "       'rs2685505', 'rs9881736', 'chr10_64278874_C_T', 'rs7700561',\n",
       "       'chr7_123446388_C_T', 'rs8094017', 'chr4_98460531_A_C',\n",
       "       'rs6959411', 'rs13133213', 'c12_pos28072441', 'rs557625',\n",
       "       'rs1078806', 'chr10_52043987_C_T', 'rs4237533', 'rs2686630',\n",
       "       'chr10_64268659_A_T', 'chr1_211854329_A_G', 'rs2176304',\n",
       "       'c2_pos217603619', 'rs13437553', 'rs4864109', 'chr8_76316945_C_T',\n",
       "       'rs2890707', 'rs12173562', 'chr12_19781229_C_T', 'rs33391',\n",
       "       'rs4241775', 'chr4_96333037_G_T', 'chr7_75175924_C_T',\n",
       "       'rs11807554', 'rs8004788', 'rs184277', 'rs994362', 'rs6696053',\n",
       "       'rs12646105', 'rs7997938', 'chr8_109985007_C_T',\n",
       "       'chr6_42922215_A_C', 'rs7545208', 'chr10_123438122_C_T',\n",
       "       'chr20_36836192_A_G', 'rs7851298', 'rs4783666', 'rs1052067',\n",
       "       'rs2485893', 'rs1469413', 'chr6_32480282_A_G',\n",
       "       'corect_rs148851713', 'chr3_46894988_A_C', 'chr16_29946708_A_G',\n",
       "       'rs4405007', 'chr16_52516533_A_C', 'chr12_28183286_A_G',\n",
       "       'chr9_110898052_A_G', 'rs76332667', 'rs1044516', 'rs11119860',\n",
       "       'chr6_153141841_A_G', 'rs3135761', 'rs7740366',\n",
       "       'chr22_42854569_C_G', 'chr7_148664988_A_T', 'rs1782030',\n",
       "       'chr6_1606031_G_T', 'chr13_30117740_C_T', 'rs15618', 'rs1711560',\n",
       "       'chr17_44348987_A_G', 'chr6_31358975_A_C', 'chr14_76348241_A_G',\n",
       "       'rs1997850', 'rs9210', 'chr1_156181616_C_INDEL',\n",
       "       'chr12_96027873_C_T', 'rs11876497', 'rs1608651', 'rs45631611',\n",
       "       'rs9283872', 'chr6_32626786_C_G', 'rs12579969',\n",
       "       'chr22_17733251_A_G', 'chr13_28286430_C_T', 'chr3_30688640_C_T',\n",
       "       'rs10760997', 'rs11787627', 'chr6_21905726_A_G',\n",
       "       'chr5_44619754_A_G', 'rs10733852', 'rs9552555',\n",
       "       'chr5_90659329_A_T', 'chr15_75088962_G_T', 'chr17_46157540_A_G',\n",
       "       'chr8_74329884_C_G', 'chr10_114795256_C_G', 'rs4724080',\n",
       "       'chr5_90762748_A_G', 'rs11726911', 'chr2_218303958_A_G',\n",
       "       'rs4853841', 'rs1290999', 'rs16990951', 'rs9507104', 'kgp4843671',\n",
       "       'rs70983598', 'chr7_130690021_INDEL_T', 'chr12_96021033_C_T',\n",
       "       'chr1_41486600_C_G', 'rs9494101', 'rs34114912', 'rs3131335',\n",
       "       'rs9397437', 'rs7765678', 'rs7961423', 'chr7_139943267_C_T',\n",
       "       'chr10_64273026_A_G', 'rs2977903', 'chr21_46025285_C_T',\n",
       "       'chr7_51238333_A_G', 'rs1061657', 'rs17001994',\n",
       "       'chr18_24263142_GC_INDEL', 'rs3111558', 'rs9271106',\n",
       "       'chr6_168224685_C_T', 'rs2273221', 'chr6_32494206_A_C',\n",
       "       'chr12_113267233_A_G', 'rs80331021', 'rs10902222',\n",
       "       'chr18_24587049_A_C', 'rs2027341', 'rs4430553', 'rs55920378',\n",
       "       'rs2731938', 'rs75438091', 'rs7088680', 'chr5_9991919_A_G',\n",
       "       'rs9376370', 'chr6_31324536_A_T', 'rs325247', 'chr14_76259681_C_G',\n",
       "       'rs1889384', 'rs45631580', 'rs1106387', 'rs1219642', 'rs778228',\n",
       "       'rs951993', 'rs11067419', 'rs4923013', 'chr16_52620577_C_T',\n",
       "       'chr9_10986281_C_T', 'rs11261022', 'rs793440',\n",
       "       'chr10_123424835_A_G', 'rs17107709', 'rs11249348',\n",
       "       'chr16_54346912_A_G', 'rs62126564', 'chr19_23254894_A_G',\n",
       "       'chr11_24623826_A_G', 'rs385437', 'rs11987304', 'rs2805091',\n",
       "       'rs4717142', 'chr2_202153920_A_G', 'chr2_217915414_A_G',\n",
       "       'rs35747719', 'chr2_121153979_C_T', 'rs134755',\n",
       "       'chr9_124300734_C_T', 'chr8_105462115_A_T', 'rs28488991',\n",
       "       'chr4_171180624_G_T', 'chr19_44282857_G_T', 'rs4714648',\n",
       "       'rs1992145', 'rs3732047', 'rs1219651', 'chr12_49951528_C_T',\n",
       "       'rs1033772', 'rs368243', 'rs2489733', 'rs1009211',\n",
       "       'chr22_41027354_C_T', 'rs12597422', 'chr1_204008939_C_T',\n",
       "       'chr4_103903209_A_G', 'rs2316184', 'rs4456710', 'rs62436931',\n",
       "       'chr16_52966173_A_G', 'rs7032411', 'rs11200029', 'rs17015259',\n",
       "       'chr10_123337066_C_T', 'chr2_34486645_C_T', 'rs2162540',\n",
       "       'rs4843429', 'rs1441748', 'chr3_129702637_A_G', 'rs16886650',\n",
       "       'rs10878403', 'rs12658689', 'chr1_145535921_C_T',\n",
       "       'chr4_106058423_INDEL_TTC', 'chr16_52606237_A_G', 'rs4544121',\n",
       "       'chr6_41314955_A_C', 'rs12445424', 'chr2_202526589_A_T',\n",
       "       'rs6001031', 'rs6726261', 'chr8_36758946_C_T', 'rs71361359',\n",
       "       'chr14_37132061_A_G', 'rs756873', 'chr9_21958524_C_T', 'rs2879278',\n",
       "       'rs75296154', 'rs10749423', 'rs6553719', 'chr2_217978195_C_G',\n",
       "       'rs4808812', 'rs11743915', 'rs12500587', 'chr7_16575830_A_T',\n",
       "       'rs35610231', 'rs1529893', 'chr18_9008345_A_G', 'rs1596972',\n",
       "       'rs10086016', 'chr2_111862303_C_T', 'chr11_69292337_C_T',\n",
       "       'rs1174931', 'rs4849728', 'chr16_52618113_C_T',\n",
       "       'corect_rs191528539', 'rs743605', 'rs551266', 'chr4_126466491_A_G',\n",
       "       'rs7704953', 'rs1314918', 'chr6_21902053_C_G', 'rs13259125',\n",
       "       'chr1_121211608_A_G', 'chr20_5948227_A_G', 'rs13381179',\n",
       "       'chr10_80855650_A_G', 'rs17271951', 'rs67979831', 'rs4636400',\n",
       "       'chr8_36853217_C_G', 'chr4_73793618_C_T', 'rs66475129',\n",
       "       'chr7_5819799_C_G', 'rs17081533', 'rs11201563',\n",
       "       'chr2_217968561_C_T', 'chr8_36769889_C_T', 'chr8_23494194_C_T',\n",
       "       'rs518138', 'rs10279084', 'chr5_56253450_A_G', 'rs4519482',\n",
       "       'chr3_53880367_G_T', 'chr2_25192908_A_C', 'rs4585554', 'rs9269078',\n",
       "       'chr1_121236110_C_T', 'rs66761915', 'rs2981579', 'rs1884296',\n",
       "       'chr21_16579952_A_G', 'rs661348', 'rs807597', 'rs1476413',\n",
       "       'rs11159221', 'chr8_76405814_C_T', 'chr5_90789470_A_G',\n",
       "       'chr5_56085225_C_T', 'rs7776340', 'rs2046210',\n",
       "       'chr19_44429120_C_T', 'chr8_36848357_C_T', 'chr4_175822759_C_T',\n",
       "       'chr2_217856192_A_G', 'rs13356034', 'chr1_145517561_C_T',\n",
       "       'rs629480', 'chr5_169576649_A_G', 'chr18_24589003_G_T',\n",
       "       'chr2_217897341_A_G', 'chr3_27286810_C_G', 'rs3922497',\n",
       "       'rs12456284', 'rs132972', 'chr3_99539891_A_C', 'rs13011326',\n",
       "       'chr14_104819550_C_T', 'rs17178756', 'rs9646756', 'rs132358',\n",
       "       'rs1314913', 'chr14_74568089_A_G', 'chr19_44295720_INDEL_TC',\n",
       "       'chr12_28152993_A_G', 'rs10995189', 'chr2_218239239_A_G',\n",
       "       'rs2472300', 'rs9977355', 'rs2547115', 'chr5_56205299_A_G',\n",
       "       'chr6_130353612_C_T', 'rs2912780', 'rs11977670',\n",
       "       'chr5_55773118_C_T', 'chr14_37113093_A_G', 'chr15_93691968_C_T',\n",
       "       'rs9302881', 'rs12896330', 'rs2284060', 'rs633352', 'rs10839934',\n",
       "       'rs1560835', 'rs72714579', 'rs1959527', 'rs2669264',\n",
       "       'chr6_41183859_A_C', 'rs10022462', 'chr6_152028479_G_T',\n",
       "       'chr6_13625413_A_G', 'rs9878437', 'corect_rs112923443',\n",
       "       'rs62368553', 'rs11599804', 'chr1_5178521_A_C',\n",
       "       'chr22_40975268_C_T', 'chr12_28107397_A_C', 'rs17612814',\n",
       "       'rs12451886', 'rs7740686', 'rs931494', 'rs3135718', 'rs62193397',\n",
       "       'chr2_217863554_A_T', 'rs12133543', 'chr9_22062134_G_T',\n",
       "       'chr15_47382817_C_T', 'rs1869599', 'chr15_75086655_C_T',\n",
       "       'rs7237501', 'rs7970123', 'rs238159', 'chr9_119392283_C_T',\n",
       "       'chr16_52583143_C_T', 'rs1163825', 'rs80089016',\n",
       "       'chr17_79422252_A_G', 'chr19_43866449_A_G', 'chr16_5437728_C_G',\n",
       "       'rs74295874', 'rs11661538', 'chr5_56025682_A_G', 'rs10886964'],\n",
       "      dtype=object)"
      ]
     },
     "execution_count": 33,
     "metadata": {},
     "output_type": "execute_result"
    }
   ],
   "source": [
    "#tes\n",
    "bim.loc[np.flip(np.argsort(np.absolute(aa2)))[0:1000],:][\"snp\"].values"
   ]
  },
  {
   "cell_type": "code",
   "execution_count": 34,
   "metadata": {},
   "outputs": [],
   "source": [
    "top102=bim.loc[np.flip(np.argsort(np.absolute(aa2)))[0:100],:][\"snp\"].values"
   ]
  },
  {
   "cell_type": "code",
   "execution_count": 35,
   "metadata": {},
   "outputs": [],
   "source": [
    "#test\n",
    "top101=bim.loc[np.flip(np.argsort(np.absolute(aa)))[0:100],:][\"snp\"].values"
   ]
  },
  {
   "cell_type": "code",
   "execution_count": 36,
   "metadata": {},
   "outputs": [
    {
     "data": {
      "text/plain": [
       "array(['corect_rs187745955', 'chr1_97788840_A_G', 'chr2_171708059_C_T',\n",
       "       'chr1_109093676_A_G', 'chr10_52434758_A_G', 'chr2_23222481_C_T',\n",
       "       'rs1083383', 'chr16_52328666_C_T', 'rs3927319',\n",
       "       'chr2_28150862_A_C', 'Chr6:30954121:G:T', 'chr3_46742523_A_C',\n",
       "       'chr2_185637683_C_T', 'chr19_2472833_C_T', 'chr10_82842595_A_G',\n",
       "       'chrX_81467918_C_T', 'chrX_125912274_C_T', 'corect_rs116995945',\n",
       "       'chr12_28530125_C_G', 'chr10_29919963_A_G', 'chr8_12549881_C_G',\n",
       "       'chr16_8755147_C_T', 'chr2_236995717_C_T', 'chr4_88507794_A_G',\n",
       "       'chr11_130943681_A_G', 'rs10752892', 'chr17_35438073_C_T',\n",
       "       'chr13_113284191_C_T', 'chr14_101121371_G_T', 'corect_rs189944458',\n",
       "       'corect_rs188312854', 'chr13_113796587_A_G', 'chr21_41532756_C_T',\n",
       "       'chr8_89514784_A_G', 'chr19_38185013_A_G', 'chr12_15177511_C_T',\n",
       "       'chr18_24094369_A_G', 'chr17_41196821_INDEL_T',\n",
       "       'chr8_128146308_G_T', 'chr6_32459456_A_G', 'chr1_10617906_A_T',\n",
       "       'chr7_118831547_C_T', 'chr5_180405432_G_T', 'rs1614887',\n",
       "       'chr11_23840192_C_T', 'corect_rs139337779', 'rs3858522',\n",
       "       'corect_rs187434740', 'rs1180130', 'rs398151',\n",
       "       'chr2_120189404_A_G', 'chr16_84664322_A_G', 'chr2_26526169_A_G',\n",
       "       'chr13_27131826_G_T', 'corect_rs181578054', 'chr10_118234394_C_T',\n",
       "       'rs62489409', 'chr4_114651107_A_G', 'chr4_153848128_A_G',\n",
       "       'chr8_38902860_C_T', 'rs11642757', 'rs12542492',\n",
       "       'corect_rs117872877', 'chr1_62514768_C_T', 'chr2_150721127_A_C',\n",
       "       'chr7_91707921_C_T', 'rs2025886', 'chr8_29502120_A_G',\n",
       "       'chr4_107862280_A_C', 'chr11_2597984_A_G', 'chr6_30701533_G_INDEL',\n",
       "       'rs2472677', 'chr7_102368966_A_G', 'rs11155996',\n",
       "       'chr6_68404944_G_T', 'rs6118063', 'chr9_16917672_G_T', 'rs9564833',\n",
       "       'chr8_130380476_C_T', 'chr4_183646766_A_T', 'rs13183603',\n",
       "       'rs34800900', 'rs4040605', 'chr1_114136037_C_T',\n",
       "       'chr10_43692630_C_T', 'chr11_68980828_G_T', 'chr4_175851520_G_T',\n",
       "       'rs73022296', 'chr12_116778635_C_T', 'chr3_28889125_C_T',\n",
       "       'chr14_76886176_C_T', 'rs132941', 'rs9271611', 'rs12910968',\n",
       "       'chr5_174355059_A_G', 'rs11784122', 'chr4_44900597_C_T',\n",
       "       'chr6_32654149_G_T', 'chr19_13269181_A_G', 'rs34923393'],\n",
       "      dtype=object)"
      ]
     },
     "execution_count": 36,
     "metadata": {},
     "output_type": "execute_result"
    }
   ],
   "source": [
    "bim.loc[np.flip(np.argsort(np.absolute(aa)))[0:100],:][\"snp\"].values"
   ]
  },
  {
   "cell_type": "code",
   "execution_count": 37,
   "metadata": {},
   "outputs": [
    {
     "data": {
      "text/plain": [
       "(98,)"
      ]
     },
     "execution_count": 37,
     "metadata": {},
     "output_type": "execute_result"
    }
   ],
   "source": [
    "np.intersect1d(top101,top102).shape"
   ]
  },
  {
   "cell_type": "code",
   "execution_count": null,
   "metadata": {},
   "outputs": [],
   "source": []
  },
  {
   "cell_type": "code",
   "execution_count": null,
   "metadata": {},
   "outputs": [],
   "source": []
  },
  {
   "cell_type": "code",
   "execution_count": 38,
   "metadata": {},
   "outputs": [
    {
     "data": {
      "text/plain": [
       "0.07872667"
      ]
     },
     "execution_count": 38,
     "metadata": {},
     "output_type": "execute_result"
    }
   ],
   "source": [
    "np.max(aa)"
   ]
  },
  {
   "cell_type": "code",
   "execution_count": 199,
   "metadata": {},
   "outputs": [],
   "source": [
    "dltest=bim.loc[np.argwhere(np.absolute(aa)>0.04)[:,0]][\"snp\"].values"
   ]
  },
  {
   "cell_type": "code",
   "execution_count": 200,
   "metadata": {},
   "outputs": [],
   "source": [
    "dl=bim.loc[np.argwhere(np.absolute(aa2)>0.04)[:,0]][\"snp\"].values"
   ]
  },
  {
   "cell_type": "code",
   "execution_count": 201,
   "metadata": {},
   "outputs": [
    {
     "data": {
      "text/plain": [
       "array(['chr1_10617906_A_T', 'chr1_97788840_A_G', 'chr1_109093676_A_G',\n",
       "       'rs10752892', 'corect_rs189944458', 'chr2_23222481_C_T',\n",
       "       'chr2_28150862_A_C', 'chr2_120189404_A_G', 'chr2_171708059_C_T',\n",
       "       'chr2_185637683_C_T', 'chr2_236995717_C_T', 'corect_rs187745955',\n",
       "       'chr3_46742523_A_C', 'chr4_88507794_A_G', 'Chr6:30954121:G:T',\n",
       "       'chr6_32459456_A_G', 'rs3927319', 'chr8_12549881_C_G',\n",
       "       'chr8_89514784_A_G', 'rs1083383', 'chr8_128146308_G_T',\n",
       "       'rs1180130', 'chr10_52434758_A_G', 'chr10_82842595_A_G',\n",
       "       'chr11_130943681_A_G', 'chr12_15177511_C_T', 'chr12_28530125_C_G',\n",
       "       'chr13_27131826_G_T', 'chr13_113284191_C_T', 'chr13_113796587_A_G',\n",
       "       'chr14_101121371_G_T', 'corect_rs188312854', 'chr16_52328666_C_T',\n",
       "       'chr17_41196821_INDEL_T', 'corect_rs116995945',\n",
       "       'chr18_24094369_A_G', 'chr19_2472833_C_T', 'chr19_38185013_A_G',\n",
       "       'chr21_41532756_C_T', 'chrX_81467918_C_T', 'chrX_125912274_C_T'],\n",
       "      dtype=object)"
      ]
     },
     "execution_count": 201,
     "metadata": {},
     "output_type": "execute_result"
    }
   ],
   "source": [
    "dl"
   ]
  },
  {
   "cell_type": "code",
   "execution_count": 202,
   "metadata": {},
   "outputs": [
    {
     "data": {
      "text/plain": [
       "array(['chr1_10617906_A_T', 'chr1_97788840_A_G', 'chr1_109093676_A_G',\n",
       "       'rs10752892', 'corect_rs189944458', 'chr2_23222481_C_T',\n",
       "       'chr2_120189404_A_G', 'chr2_171708059_C_T', 'chr2_185637683_C_T',\n",
       "       'chr2_236995717_C_T', 'corect_rs187745955', 'chr3_46742523_A_C',\n",
       "       'chr4_88507794_A_G', 'chr5_180405432_G_T', 'rs1614887',\n",
       "       'Chr6:30954121:G:T', 'chr6_32459456_A_G', 'rs3927319',\n",
       "       'chr8_12549881_C_G', 'chr8_89514784_A_G', 'rs1083383', 'rs1180130',\n",
       "       'chr10_52434758_A_G', 'chr10_82842595_A_G', 'chr11_23840192_C_T',\n",
       "       'chr12_28530125_C_G', 'chr13_113796587_A_G', 'chr14_101121371_G_T',\n",
       "       'corect_rs188312854', 'chr16_8755147_C_T', 'chr16_52328666_C_T',\n",
       "       'chr18_24094369_A_G', 'chr19_2472833_C_T', 'chr19_38185013_A_G',\n",
       "       'chr21_41532756_C_T', 'chrX_81467918_C_T', 'chrX_125912274_C_T'],\n",
       "      dtype=object)"
      ]
     },
     "execution_count": 202,
     "metadata": {},
     "output_type": "execute_result"
    }
   ],
   "source": [
    "dltest"
   ]
  },
  {
   "cell_type": "code",
   "execution_count": 203,
   "metadata": {},
   "outputs": [
    {
     "data": {
      "text/plain": [
       "37"
      ]
     },
     "execution_count": 203,
     "metadata": {},
     "output_type": "execute_result"
    }
   ],
   "source": [
    "len(aa[np.absolute(aa)>0.04])"
   ]
  },
  {
   "cell_type": "code",
   "execution_count": 204,
   "metadata": {},
   "outputs": [
    {
     "data": {
      "text/plain": [
       "array([ 0.02917784,  0.02017858,  0.00366779, ...,  0.01704769,\n",
       "       -0.00157911,  0.00123311], dtype=float32)"
      ]
     },
     "execution_count": 204,
     "metadata": {},
     "output_type": "execute_result"
    }
   ],
   "source": [
    "aa"
   ]
  },
  {
   "cell_type": "code",
   "execution_count": 40,
   "metadata": {},
   "outputs": [],
   "source": [
    "pf=pd.read_csv(\"/work/breastcancer/clean_test/train/logistic_filter_0_001.assoc.logistic\",sep=\"\\s+\")[[\"SNP\",\"P\"]].reset_index(drop=True)\n",
    "p_value=pd.read_csv(\"/work/breastcancer/clean_test/train/logistic_filter_0_001.assoc.logistic\",sep=\"\\s+\")[[\"SNP\",\"P\"]][\"SNP\"].values"
   ]
  },
  {
   "cell_type": "code",
   "execution_count": 42,
   "metadata": {},
   "outputs": [
    {
     "data": {
      "text/plain": [
       "array([ 715,   73,  314,   74,  253,  245, 3180, 2806, 4117, 2607, 1073,\n",
       "       4705,  342, 2253, 4594, 3632, 2637, 3837, 3247, 3169, 3716, 5256,\n",
       "        624, 5264, 1248,  182, 4449, 4043, 5026, 2798, 3838, 2818, 4059,\n",
       "       3643,  240, 4635, 4451, 4789, 3495, 2275, 3509])"
      ]
     },
     "execution_count": 42,
     "metadata": {},
     "output_type": "execute_result"
    }
   ],
   "source": [
    "np.flip(np.argsort(np.absolute(aa2)))[:41]"
   ]
  },
  {
   "cell_type": "code",
   "execution_count": 43,
   "metadata": {},
   "outputs": [],
   "source": [
    "importantpf=pf.loc[np.flip(np.argsort(np.absolute(aa2)))[:1000],:]"
   ]
  },
  {
   "cell_type": "code",
   "execution_count": 45,
   "metadata": {},
   "outputs": [],
   "source": [
    "importantpf.to_csv(\"/work/breastcancer/clean_test/results/top1000_important_deeplift22.csv\")"
   ]
  },
  {
   "cell_type": "code",
   "execution_count": 46,
   "metadata": {},
   "outputs": [
    {
     "data": {
      "text/html": [
       "<div>\n",
       "<style scoped>\n",
       "    .dataframe tbody tr th:only-of-type {\n",
       "        vertical-align: middle;\n",
       "    }\n",
       "\n",
       "    .dataframe tbody tr th {\n",
       "        vertical-align: top;\n",
       "    }\n",
       "\n",
       "    .dataframe thead th {\n",
       "        text-align: right;\n",
       "    }\n",
       "</style>\n",
       "<table border=\"1\" class=\"dataframe\">\n",
       "  <thead>\n",
       "    <tr style=\"text-align: right;\">\n",
       "      <th></th>\n",
       "      <th>SNP</th>\n",
       "      <th>P</th>\n",
       "    </tr>\n",
       "  </thead>\n",
       "  <tbody>\n",
       "    <tr>\n",
       "      <th>715</th>\n",
       "      <td>corect_rs187745955</td>\n",
       "      <td>2.982000e-04</td>\n",
       "    </tr>\n",
       "    <tr>\n",
       "      <th>73</th>\n",
       "      <td>chr1_97788840_A_G</td>\n",
       "      <td>6.635000e-34</td>\n",
       "    </tr>\n",
       "    <tr>\n",
       "      <th>314</th>\n",
       "      <td>chr2_171708059_C_T</td>\n",
       "      <td>1.900000e-11</td>\n",
       "    </tr>\n",
       "    <tr>\n",
       "      <th>74</th>\n",
       "      <td>chr1_109093676_A_G</td>\n",
       "      <td>1.212000e-05</td>\n",
       "    </tr>\n",
       "    <tr>\n",
       "      <th>253</th>\n",
       "      <td>chr2_28150862_A_C</td>\n",
       "      <td>1.665000e-44</td>\n",
       "    </tr>\n",
       "    <tr>\n",
       "      <th>245</th>\n",
       "      <td>chr2_23222481_C_T</td>\n",
       "      <td>2.026000e-24</td>\n",
       "    </tr>\n",
       "    <tr>\n",
       "      <th>3180</th>\n",
       "      <td>chr10_52434758_A_G</td>\n",
       "      <td>6.766000e-04</td>\n",
       "    </tr>\n",
       "    <tr>\n",
       "      <th>2806</th>\n",
       "      <td>rs1083383</td>\n",
       "      <td>1.038000e-10</td>\n",
       "    </tr>\n",
       "    <tr>\n",
       "      <th>4117</th>\n",
       "      <td>chr16_52328666_C_T</td>\n",
       "      <td>1.508000e-41</td>\n",
       "    </tr>\n",
       "    <tr>\n",
       "      <th>2607</th>\n",
       "      <td>rs3927319</td>\n",
       "      <td>2.900000e-14</td>\n",
       "    </tr>\n",
       "    <tr>\n",
       "      <th>1073</th>\n",
       "      <td>chr3_46742523_A_C</td>\n",
       "      <td>1.768000e-22</td>\n",
       "    </tr>\n",
       "    <tr>\n",
       "      <th>4705</th>\n",
       "      <td>chr19_2472833_C_T</td>\n",
       "      <td>4.452000e-09</td>\n",
       "    </tr>\n",
       "    <tr>\n",
       "      <th>342</th>\n",
       "      <td>chr2_185637683_C_T</td>\n",
       "      <td>4.925000e-07</td>\n",
       "    </tr>\n",
       "    <tr>\n",
       "      <th>2253</th>\n",
       "      <td>Chr6:30954121:G:T</td>\n",
       "      <td>9.993000e-09</td>\n",
       "    </tr>\n",
       "    <tr>\n",
       "      <th>4594</th>\n",
       "      <td>corect_rs116995945</td>\n",
       "      <td>2.542000e-11</td>\n",
       "    </tr>\n",
       "    <tr>\n",
       "      <th>3632</th>\n",
       "      <td>chr11_130943681_A_G</td>\n",
       "      <td>1.221000e-18</td>\n",
       "    </tr>\n",
       "    <tr>\n",
       "      <th>2637</th>\n",
       "      <td>chr8_12549881_C_G</td>\n",
       "      <td>2.057000e-09</td>\n",
       "    </tr>\n",
       "    <tr>\n",
       "      <th>3837</th>\n",
       "      <td>chr13_113284191_C_T</td>\n",
       "      <td>7.779000e-23</td>\n",
       "    </tr>\n",
       "    <tr>\n",
       "      <th>3247</th>\n",
       "      <td>chr10_82842595_A_G</td>\n",
       "      <td>1.022000e-23</td>\n",
       "    </tr>\n",
       "    <tr>\n",
       "      <th>3169</th>\n",
       "      <td>chr10_29919963_A_G</td>\n",
       "      <td>2.559000e-15</td>\n",
       "    </tr>\n",
       "    <tr>\n",
       "      <th>3716</th>\n",
       "      <td>chr12_28530125_C_G</td>\n",
       "      <td>1.251000e-25</td>\n",
       "    </tr>\n",
       "    <tr>\n",
       "      <th>5256</th>\n",
       "      <td>chrX_81467918_C_T</td>\n",
       "      <td>2.107000e-06</td>\n",
       "    </tr>\n",
       "    <tr>\n",
       "      <th>624</th>\n",
       "      <td>chr2_236995717_C_T</td>\n",
       "      <td>1.760000e-16</td>\n",
       "    </tr>\n",
       "    <tr>\n",
       "      <th>5264</th>\n",
       "      <td>chrX_125912274_C_T</td>\n",
       "      <td>4.202000e-07</td>\n",
       "    </tr>\n",
       "    <tr>\n",
       "      <th>1248</th>\n",
       "      <td>chr4_88507794_A_G</td>\n",
       "      <td>5.829000e-16</td>\n",
       "    </tr>\n",
       "    <tr>\n",
       "      <th>182</th>\n",
       "      <td>rs10752892</td>\n",
       "      <td>3.039000e-17</td>\n",
       "    </tr>\n",
       "    <tr>\n",
       "      <th>4449</th>\n",
       "      <td>chr17_35438073_C_T</td>\n",
       "      <td>6.708000e-11</td>\n",
       "    </tr>\n",
       "    <tr>\n",
       "      <th>4043</th>\n",
       "      <td>chr14_101121371_G_T</td>\n",
       "      <td>1.043000e-10</td>\n",
       "    </tr>\n",
       "    <tr>\n",
       "      <th>5026</th>\n",
       "      <td>chr21_41532756_C_T</td>\n",
       "      <td>6.616000e-25</td>\n",
       "    </tr>\n",
       "    <tr>\n",
       "      <th>2798</th>\n",
       "      <td>chr8_89514784_A_G</td>\n",
       "      <td>2.483000e-05</td>\n",
       "    </tr>\n",
       "    <tr>\n",
       "      <th>...</th>\n",
       "      <td>...</td>\n",
       "      <td>...</td>\n",
       "    </tr>\n",
       "    <tr>\n",
       "      <th>3310</th>\n",
       "      <td>rs11599804</td>\n",
       "      <td>2.943000e-46</td>\n",
       "    </tr>\n",
       "    <tr>\n",
       "      <th>5</th>\n",
       "      <td>chr1_5178521_A_C</td>\n",
       "      <td>6.736000e-06</td>\n",
       "    </tr>\n",
       "    <tr>\n",
       "      <th>5197</th>\n",
       "      <td>chr22_40975268_C_T</td>\n",
       "      <td>6.686000e-07</td>\n",
       "    </tr>\n",
       "    <tr>\n",
       "      <th>3652</th>\n",
       "      <td>chr12_28107397_A_C</td>\n",
       "      <td>2.666000e-04</td>\n",
       "    </tr>\n",
       "    <tr>\n",
       "      <th>3276</th>\n",
       "      <td>rs17612814</td>\n",
       "      <td>5.416000e-04</td>\n",
       "    </tr>\n",
       "    <tr>\n",
       "      <th>4447</th>\n",
       "      <td>rs12451886</td>\n",
       "      <td>3.681000e-04</td>\n",
       "    </tr>\n",
       "    <tr>\n",
       "      <th>2457</th>\n",
       "      <td>rs7740686</td>\n",
       "      <td>6.209000e-10</td>\n",
       "    </tr>\n",
       "    <tr>\n",
       "      <th>4659</th>\n",
       "      <td>rs931494</td>\n",
       "      <td>8.713000e-04</td>\n",
       "    </tr>\n",
       "    <tr>\n",
       "      <th>3332</th>\n",
       "      <td>rs3135718</td>\n",
       "      <td>4.507000e-46</td>\n",
       "    </tr>\n",
       "    <tr>\n",
       "      <th>384</th>\n",
       "      <td>rs62193397</td>\n",
       "      <td>2.414000e-04</td>\n",
       "    </tr>\n",
       "    <tr>\n",
       "      <th>412</th>\n",
       "      <td>chr2_217863554_A_T</td>\n",
       "      <td>1.073000e-04</td>\n",
       "    </tr>\n",
       "    <tr>\n",
       "      <th>211</th>\n",
       "      <td>rs12133543</td>\n",
       "      <td>9.860000e-04</td>\n",
       "    </tr>\n",
       "    <tr>\n",
       "      <th>2952</th>\n",
       "      <td>chr9_22062134_G_T</td>\n",
       "      <td>3.042000e-04</td>\n",
       "    </tr>\n",
       "    <tr>\n",
       "      <th>4056</th>\n",
       "      <td>chr15_47382817_C_T</td>\n",
       "      <td>6.731000e-04</td>\n",
       "    </tr>\n",
       "    <tr>\n",
       "      <th>4049</th>\n",
       "      <td>rs1869599</td>\n",
       "      <td>6.961000e-04</td>\n",
       "    </tr>\n",
       "    <tr>\n",
       "      <th>4073</th>\n",
       "      <td>chr15_75086655_C_T</td>\n",
       "      <td>6.443000e-04</td>\n",
       "    </tr>\n",
       "    <tr>\n",
       "      <th>4657</th>\n",
       "      <td>rs7237501</td>\n",
       "      <td>1.072000e-04</td>\n",
       "    </tr>\n",
       "    <tr>\n",
       "      <th>3783</th>\n",
       "      <td>rs7970123</td>\n",
       "      <td>5.046000e-04</td>\n",
       "    </tr>\n",
       "    <tr>\n",
       "      <th>4928</th>\n",
       "      <td>rs238159</td>\n",
       "      <td>6.293000e-04</td>\n",
       "    </tr>\n",
       "    <tr>\n",
       "      <th>3144</th>\n",
       "      <td>chr9_119392283_C_T</td>\n",
       "      <td>4.478000e-04</td>\n",
       "    </tr>\n",
       "    <tr>\n",
       "      <th>4189</th>\n",
       "      <td>chr16_52583143_C_T</td>\n",
       "      <td>9.468000e-35</td>\n",
       "    </tr>\n",
       "    <tr>\n",
       "      <th>3835</th>\n",
       "      <td>rs1163825</td>\n",
       "      <td>3.965000e-04</td>\n",
       "    </tr>\n",
       "    <tr>\n",
       "      <th>1919</th>\n",
       "      <td>rs80089016</td>\n",
       "      <td>1.553000e-09</td>\n",
       "    </tr>\n",
       "    <tr>\n",
       "      <th>4614</th>\n",
       "      <td>chr17_79422252_A_G</td>\n",
       "      <td>1.123000e-05</td>\n",
       "    </tr>\n",
       "    <tr>\n",
       "      <th>4793</th>\n",
       "      <td>chr19_43866449_A_G</td>\n",
       "      <td>9.221000e-05</td>\n",
       "    </tr>\n",
       "    <tr>\n",
       "      <th>4107</th>\n",
       "      <td>chr16_5437728_C_G</td>\n",
       "      <td>2.752000e-06</td>\n",
       "    </tr>\n",
       "    <tr>\n",
       "      <th>2456</th>\n",
       "      <td>rs74295874</td>\n",
       "      <td>3.030000e-06</td>\n",
       "    </tr>\n",
       "    <tr>\n",
       "      <th>4696</th>\n",
       "      <td>rs11661538</td>\n",
       "      <td>8.674000e-04</td>\n",
       "    </tr>\n",
       "    <tr>\n",
       "      <th>1668</th>\n",
       "      <td>chr5_56025682_A_G</td>\n",
       "      <td>2.787000e-08</td>\n",
       "    </tr>\n",
       "    <tr>\n",
       "      <th>3398</th>\n",
       "      <td>rs10886964</td>\n",
       "      <td>3.203000e-05</td>\n",
       "    </tr>\n",
       "  </tbody>\n",
       "</table>\n",
       "<p>1000 rows × 2 columns</p>\n",
       "</div>"
      ],
      "text/plain": [
       "                      SNP             P\n",
       "715    corect_rs187745955  2.982000e-04\n",
       "73      chr1_97788840_A_G  6.635000e-34\n",
       "314    chr2_171708059_C_T  1.900000e-11\n",
       "74     chr1_109093676_A_G  1.212000e-05\n",
       "253     chr2_28150862_A_C  1.665000e-44\n",
       "245     chr2_23222481_C_T  2.026000e-24\n",
       "3180   chr10_52434758_A_G  6.766000e-04\n",
       "2806            rs1083383  1.038000e-10\n",
       "4117   chr16_52328666_C_T  1.508000e-41\n",
       "2607            rs3927319  2.900000e-14\n",
       "1073    chr3_46742523_A_C  1.768000e-22\n",
       "4705    chr19_2472833_C_T  4.452000e-09\n",
       "342    chr2_185637683_C_T  4.925000e-07\n",
       "2253    Chr6:30954121:G:T  9.993000e-09\n",
       "4594   corect_rs116995945  2.542000e-11\n",
       "3632  chr11_130943681_A_G  1.221000e-18\n",
       "2637    chr8_12549881_C_G  2.057000e-09\n",
       "3837  chr13_113284191_C_T  7.779000e-23\n",
       "3247   chr10_82842595_A_G  1.022000e-23\n",
       "3169   chr10_29919963_A_G  2.559000e-15\n",
       "3716   chr12_28530125_C_G  1.251000e-25\n",
       "5256    chrX_81467918_C_T  2.107000e-06\n",
       "624    chr2_236995717_C_T  1.760000e-16\n",
       "5264   chrX_125912274_C_T  4.202000e-07\n",
       "1248    chr4_88507794_A_G  5.829000e-16\n",
       "182            rs10752892  3.039000e-17\n",
       "4449   chr17_35438073_C_T  6.708000e-11\n",
       "4043  chr14_101121371_G_T  1.043000e-10\n",
       "5026   chr21_41532756_C_T  6.616000e-25\n",
       "2798    chr8_89514784_A_G  2.483000e-05\n",
       "...                   ...           ...\n",
       "3310           rs11599804  2.943000e-46\n",
       "5        chr1_5178521_A_C  6.736000e-06\n",
       "5197   chr22_40975268_C_T  6.686000e-07\n",
       "3652   chr12_28107397_A_C  2.666000e-04\n",
       "3276           rs17612814  5.416000e-04\n",
       "4447           rs12451886  3.681000e-04\n",
       "2457            rs7740686  6.209000e-10\n",
       "4659             rs931494  8.713000e-04\n",
       "3332            rs3135718  4.507000e-46\n",
       "384            rs62193397  2.414000e-04\n",
       "412    chr2_217863554_A_T  1.073000e-04\n",
       "211            rs12133543  9.860000e-04\n",
       "2952    chr9_22062134_G_T  3.042000e-04\n",
       "4056   chr15_47382817_C_T  6.731000e-04\n",
       "4049            rs1869599  6.961000e-04\n",
       "4073   chr15_75086655_C_T  6.443000e-04\n",
       "4657            rs7237501  1.072000e-04\n",
       "3783            rs7970123  5.046000e-04\n",
       "4928             rs238159  6.293000e-04\n",
       "3144   chr9_119392283_C_T  4.478000e-04\n",
       "4189   chr16_52583143_C_T  9.468000e-35\n",
       "3835            rs1163825  3.965000e-04\n",
       "1919           rs80089016  1.553000e-09\n",
       "4614   chr17_79422252_A_G  1.123000e-05\n",
       "4793   chr19_43866449_A_G  9.221000e-05\n",
       "4107    chr16_5437728_C_G  2.752000e-06\n",
       "2456           rs74295874  3.030000e-06\n",
       "4696           rs11661538  8.674000e-04\n",
       "1668    chr5_56025682_A_G  2.787000e-08\n",
       "3398           rs10886964  3.203000e-05\n",
       "\n",
       "[1000 rows x 2 columns]"
      ]
     },
     "execution_count": 46,
     "metadata": {},
     "output_type": "execute_result"
    }
   ],
   "source": [
    "importantpf"
   ]
  },
  {
   "cell_type": "code",
   "execution_count": 149,
   "metadata": {},
   "outputs": [
    {
     "data": {
      "text/plain": [
       "array(['corect_rs187745955', 'chr1_109093676_A_G', 'chr1_97788840_A_G',\n",
       "       'chr2_171708059_C_T', 'rs1083383', 'chr16_52328666_C_T',\n",
       "       'chr2_23222481_C_T', 'chr10_52434758_A_G', 'rs3927319',\n",
       "       'Chr6:30954121:G:T', 'chr19_2472833_C_T', 'chr3_46742523_A_C',\n",
       "       'chr2_185637683_C_T', 'chr2_28150862_A_C', 'chr10_82842595_A_G',\n",
       "       'chrX_125912274_C_T', 'chr16_8755147_C_T', 'chr2_236995717_C_T',\n",
       "       'chr12_28530125_C_G', 'chr8_12549881_C_G', 'chrX_81467918_C_T',\n",
       "       'corect_rs116995945', 'chr4_88507794_A_G', 'rs10752892',\n",
       "       'chr10_29919963_A_G', 'chr11_130943681_A_G', 'chr13_113284191_C_T',\n",
       "       'corect_rs189944458', 'chr14_101121371_G_T', 'corect_rs188312854',\n",
       "       'chr17_35438073_C_T', 'chr13_113796587_A_G', 'chr21_41532756_C_T',\n",
       "       'chr8_89514784_A_G', 'chr19_38185013_A_G', 'chr18_24094369_A_G',\n",
       "       'chr12_15177511_C_T', 'chr6_32459456_A_G', 'chr1_10617906_A_T',\n",
       "       'chr17_41196821_INDEL_T', 'chr8_128146308_G_T',\n",
       "       'chr5_180405432_G_T', 'chr7_118831547_C_T', 'rs1180130',\n",
       "       'rs1614887', 'chr11_23840192_C_T', 'corect_rs139337779',\n",
       "       'rs3858522', 'corect_rs187434740', 'chr2_120189404_A_G',\n",
       "       'rs398151', 'chr2_26526169_A_G', 'chr13_27131826_G_T',\n",
       "       'chr16_84664322_A_G', 'corect_rs181578054', 'chr10_118234394_C_T',\n",
       "       'chr4_114651107_A_G', 'rs62489409', 'chr4_153848128_A_G',\n",
       "       'chr8_38902860_C_T', 'rs11642757', 'corect_rs117872877',\n",
       "       'chr1_62514768_C_T', 'rs2025886', 'rs12542492',\n",
       "       'chr2_150721127_A_C', 'chr7_91707921_C_T', 'chr8_29502120_A_G',\n",
       "       'chr11_2597984_A_G', 'rs2472677', 'chr4_107862280_A_C',\n",
       "       'chr6_30701533_G_INDEL', 'chr7_102368966_A_G', 'rs11155996',\n",
       "       'chr4_183646766_A_T', 'chr9_16917672_G_T', 'chr6_68404944_G_T',\n",
       "       'rs6118063', 'rs9564833', 'rs13183603', 'chr10_43692630_C_T',\n",
       "       'chr1_114136037_C_T', 'chr8_130380476_C_T', 'rs34800900',\n",
       "       'rs73022296', 'rs12910968', 'chr12_116778635_C_T',\n",
       "       'chr11_68980828_G_T', 'chr4_175851520_G_T', 'chr3_28889125_C_T',\n",
       "       'rs4040605', 'rs9271611', 'rs132941', 'chr14_76886176_C_T',\n",
       "       'chr5_174355059_A_G', 'chr6_32654149_G_T', 'chr4_44900597_C_T',\n",
       "       'chr19_13269181_A_G', 'rs34923393', 'rs11784122'], dtype=object)"
      ]
     },
     "execution_count": 149,
     "metadata": {},
     "output_type": "execute_result"
    }
   ],
   "source": [
    "bim.loc[np.flip(np.argsort(np.absolute(aa)))[0:100],:][\"snp\"].values"
   ]
  },
  {
   "cell_type": "code",
   "execution_count": 140,
   "metadata": {},
   "outputs": [
    {
     "ename": "IndexError",
     "evalue": "too many indices for array",
     "output_type": "error",
     "traceback": [
      "\u001b[0;31m---------------------------------------------------------------------------\u001b[0m",
      "\u001b[0;31mIndexError\u001b[0m                                Traceback (most recent call last)",
      "\u001b[0;32m<ipython-input-140-ac7cd1e83092>\u001b[0m in \u001b[0;36m<module>\u001b[0;34m\u001b[0m\n\u001b[0;32m----> 1\u001b[0;31m \u001b[0mp_value\u001b[0m\u001b[0;34m[\u001b[0m\u001b[0mnp\u001b[0m\u001b[0;34m.\u001b[0m\u001b[0mflip\u001b[0m\u001b[0;34m(\u001b[0m\u001b[0mnp\u001b[0m\u001b[0;34m.\u001b[0m\u001b[0margsort\u001b[0m\u001b[0;34m(\u001b[0m\u001b[0mnp\u001b[0m\u001b[0;34m.\u001b[0m\u001b[0mabsolute\u001b[0m\u001b[0;34m(\u001b[0m\u001b[0maa\u001b[0m\u001b[0;34m)\u001b[0m\u001b[0;34m)\u001b[0m\u001b[0;34m)\u001b[0m\u001b[0;34m[\u001b[0m\u001b[0;36m0\u001b[0m\u001b[0;34m:\u001b[0m\u001b[0;36m100\u001b[0m\u001b[0;34m]\u001b[0m\u001b[0;34m,\u001b[0m\u001b[0;34m:\u001b[0m\u001b[0;34m]\u001b[0m\u001b[0;34m\u001b[0m\u001b[0m\n\u001b[0m",
      "\u001b[0;31mIndexError\u001b[0m: too many indices for array"
     ]
    }
   ],
   "source": [
    "p_value.loc[np.flip(np.argsort(np.absolute(aa)))[0:100]]"
   ]
  },
  {
   "cell_type": "code",
   "execution_count": 133,
   "metadata": {},
   "outputs": [
    {
     "data": {
      "text/html": [
       "<div>\n",
       "<style scoped>\n",
       "    .dataframe tbody tr th:only-of-type {\n",
       "        vertical-align: middle;\n",
       "    }\n",
       "\n",
       "    .dataframe tbody tr th {\n",
       "        vertical-align: top;\n",
       "    }\n",
       "\n",
       "    .dataframe thead th {\n",
       "        text-align: right;\n",
       "    }\n",
       "</style>\n",
       "<table border=\"1\" class=\"dataframe\">\n",
       "  <thead>\n",
       "    <tr style=\"text-align: right;\">\n",
       "      <th></th>\n",
       "      <th>SNP</th>\n",
       "      <th>P</th>\n",
       "    </tr>\n",
       "  </thead>\n",
       "  <tbody>\n",
       "    <tr>\n",
       "      <th>715</th>\n",
       "      <td>chr16_52571436_A_C</td>\n",
       "      <td>6.328000e-09</td>\n",
       "    </tr>\n",
       "    <tr>\n",
       "      <th>74</th>\n",
       "      <td>chr1_171056203_C_T</td>\n",
       "      <td>1.831000e-21</td>\n",
       "    </tr>\n",
       "    <tr>\n",
       "      <th>73</th>\n",
       "      <td>chr2_217905779_A_G</td>\n",
       "      <td>1.475000e-21</td>\n",
       "    </tr>\n",
       "    <tr>\n",
       "      <th>314</th>\n",
       "      <td>chr6_32470283_A_C</td>\n",
       "      <td>4.506000e-11</td>\n",
       "    </tr>\n",
       "    <tr>\n",
       "      <th>245</th>\n",
       "      <td>rs130065</td>\n",
       "      <td>2.504000e-12</td>\n",
       "    </tr>\n",
       "    <tr>\n",
       "      <th>342</th>\n",
       "      <td>chr19_19548246_A_G</td>\n",
       "      <td>8.348000e-11</td>\n",
       "    </tr>\n",
       "    <tr>\n",
       "      <th>253</th>\n",
       "      <td>chr5_56142861_A_G</td>\n",
       "      <td>2.913000e-12</td>\n",
       "    </tr>\n",
       "    <tr>\n",
       "      <th>624</th>\n",
       "      <td>chr5_56079042_A_INDEL</td>\n",
       "      <td>2.429000e-09</td>\n",
       "    </tr>\n",
       "    <tr>\n",
       "      <th>182</th>\n",
       "      <td>chr4_9462484_G_T</td>\n",
       "      <td>2.617000e-14</td>\n",
       "    </tr>\n",
       "    <tr>\n",
       "      <th>240</th>\n",
       "      <td>chr5_56131350_G_T</td>\n",
       "      <td>2.249000e-12</td>\n",
       "    </tr>\n",
       "    <tr>\n",
       "      <th>11</th>\n",
       "      <td>rs4752571</td>\n",
       "      <td>8.761000e-47</td>\n",
       "    </tr>\n",
       "  </tbody>\n",
       "</table>\n",
       "</div>"
      ],
      "text/plain": [
       "                       SNP             P\n",
       "715     chr16_52571436_A_C  6.328000e-09\n",
       "74      chr1_171056203_C_T  1.831000e-21\n",
       "73      chr2_217905779_A_G  1.475000e-21\n",
       "314      chr6_32470283_A_C  4.506000e-11\n",
       "245               rs130065  2.504000e-12\n",
       "342     chr19_19548246_A_G  8.348000e-11\n",
       "253      chr5_56142861_A_G  2.913000e-12\n",
       "624  chr5_56079042_A_INDEL  2.429000e-09\n",
       "182       chr4_9462484_G_T  2.617000e-14\n",
       "240      chr5_56131350_G_T  2.249000e-12\n",
       "11               rs4752571  8.761000e-47"
      ]
     },
     "execution_count": 133,
     "metadata": {},
     "output_type": "execute_result"
    }
   ],
   "source": [
    "importantpf[importantpf[\"P\"]<10**-7]"
   ]
  },
  {
   "cell_type": "code",
   "execution_count": 130,
   "metadata": {},
   "outputs": [
    {
     "data": {
      "text/html": [
       "<div>\n",
       "<style scoped>\n",
       "    .dataframe tbody tr th:only-of-type {\n",
       "        vertical-align: middle;\n",
       "    }\n",
       "\n",
       "    .dataframe tbody tr th {\n",
       "        vertical-align: top;\n",
       "    }\n",
       "\n",
       "    .dataframe thead th {\n",
       "        text-align: right;\n",
       "    }\n",
       "</style>\n",
       "<table border=\"1\" class=\"dataframe\">\n",
       "  <thead>\n",
       "    <tr style=\"text-align: right;\">\n",
       "      <th></th>\n",
       "      <th>SNP</th>\n",
       "      <th>P</th>\n",
       "    </tr>\n",
       "  </thead>\n",
       "  <tbody>\n",
       "    <tr>\n",
       "      <th>715</th>\n",
       "      <td>chr16_52571436_A_C</td>\n",
       "      <td>6.328000e-09</td>\n",
       "    </tr>\n",
       "    <tr>\n",
       "      <th>74</th>\n",
       "      <td>chr1_171056203_C_T</td>\n",
       "      <td>1.831000e-21</td>\n",
       "    </tr>\n",
       "    <tr>\n",
       "      <th>73</th>\n",
       "      <td>chr2_217905779_A_G</td>\n",
       "      <td>1.475000e-21</td>\n",
       "    </tr>\n",
       "    <tr>\n",
       "      <th>314</th>\n",
       "      <td>chr6_32470283_A_C</td>\n",
       "      <td>4.506000e-11</td>\n",
       "    </tr>\n",
       "    <tr>\n",
       "      <th>245</th>\n",
       "      <td>rs130065</td>\n",
       "      <td>2.504000e-12</td>\n",
       "    </tr>\n",
       "    <tr>\n",
       "      <th>342</th>\n",
       "      <td>chr19_19548246_A_G</td>\n",
       "      <td>8.348000e-11</td>\n",
       "    </tr>\n",
       "    <tr>\n",
       "      <th>253</th>\n",
       "      <td>chr5_56142861_A_G</td>\n",
       "      <td>2.913000e-12</td>\n",
       "    </tr>\n",
       "    <tr>\n",
       "      <th>624</th>\n",
       "      <td>chr5_56079042_A_INDEL</td>\n",
       "      <td>2.429000e-09</td>\n",
       "    </tr>\n",
       "    <tr>\n",
       "      <th>182</th>\n",
       "      <td>chr4_9462484_G_T</td>\n",
       "      <td>2.617000e-14</td>\n",
       "    </tr>\n",
       "    <tr>\n",
       "      <th>240</th>\n",
       "      <td>chr5_56131350_G_T</td>\n",
       "      <td>2.249000e-12</td>\n",
       "    </tr>\n",
       "    <tr>\n",
       "      <th>11</th>\n",
       "      <td>rs4752571</td>\n",
       "      <td>8.761000e-47</td>\n",
       "    </tr>\n",
       "  </tbody>\n",
       "</table>\n",
       "</div>"
      ],
      "text/plain": [
       "                       SNP             P\n",
       "715     chr16_52571436_A_C  6.328000e-09\n",
       "74      chr1_171056203_C_T  1.831000e-21\n",
       "73      chr2_217905779_A_G  1.475000e-21\n",
       "314      chr6_32470283_A_C  4.506000e-11\n",
       "245               rs130065  2.504000e-12\n",
       "342     chr19_19548246_A_G  8.348000e-11\n",
       "253      chr5_56142861_A_G  2.913000e-12\n",
       "624  chr5_56079042_A_INDEL  2.429000e-09\n",
       "182       chr4_9462484_G_T  2.617000e-14\n",
       "240      chr5_56131350_G_T  2.249000e-12\n",
       "11               rs4752571  8.761000e-47"
      ]
     },
     "execution_count": 130,
     "metadata": {},
     "output_type": "execute_result"
    }
   ],
   "source": [
    "importantpf[importantpf[\"P\"]<10**-7]"
   ]
  },
  {
   "cell_type": "code",
   "execution_count": 135,
   "metadata": {},
   "outputs": [
    {
     "data": {
      "text/plain": [
       "array(['Chr6:30954121:G:T', 'chr10_29919963_A_G', 'chr10_52434758_A_G',\n",
       "       'chr10_82842595_A_G', 'chr11_130943681_A_G', 'chr12_15177511_C_T',\n",
       "       'chr12_28530125_C_G', 'chr13_113284191_C_T', 'chr13_113796587_A_G',\n",
       "       'chr14_101121371_G_T', 'chr16_52328666_C_T', 'chr17_35438073_C_T',\n",
       "       'chr18_24094369_A_G', 'chr19_2472833_C_T', 'chr1_109093676_A_G',\n",
       "       'chr1_97788840_A_G', 'chr21_41532756_C_T', 'chr2_171708059_C_T',\n",
       "       'chr2_185637683_C_T', 'chr2_23222481_C_T', 'chr2_236995717_C_T',\n",
       "       'chr2_28150862_A_C', 'chr3_46742523_A_C', 'chr4_88507794_A_G',\n",
       "       'chr8_12549881_C_G', 'chr8_128146308_G_T', 'chr8_89514784_A_G',\n",
       "       'chrX_125912274_C_T', 'chrX_81467918_C_T', 'corect_rs116995945',\n",
       "       'corect_rs187745955', 'corect_rs188312854', 'rs10752892',\n",
       "       'rs1083383', 'rs3927319'], dtype=object)"
      ]
     },
     "execution_count": 135,
     "metadata": {},
     "output_type": "execute_result"
    }
   ],
   "source": [
    " np.intersect1d(dl,p_value)"
   ]
  },
  {
   "cell_type": "code",
   "execution_count": 136,
   "metadata": {},
   "outputs": [
    {
     "data": {
      "text/plain": [
       "'Chr6:30954121:G:T|chr10_29919963_A_G|chr10_52434758_A_G|chr10_82842595_A_G|chr11_130943681_A_G|chr12_15177511_C_T|chr12_28530125_C_G|chr13_113284191_C_T|chr13_113796587_A_G|chr14_101121371_G_T|chr16_52328666_C_T|chr17_35438073_C_T|chr18_24094369_A_G|chr19_2472833_C_T|chr1_109093676_A_G|chr1_97788840_A_G|chr21_41532756_C_T|chr2_171708059_C_T|chr2_185637683_C_T|chr2_23222481_C_T|chr2_236995717_C_T|chr2_28150862_A_C|chr3_46742523_A_C|chr4_88507794_A_G|chr8_12549881_C_G|chr8_128146308_G_T|chr8_89514784_A_G|chrX_125912274_C_T|chrX_81467918_C_T|corect_rs116995945|corect_rs187745955|corect_rs188312854|rs10752892|rs1083383|rs3927319|'"
      ]
     },
     "execution_count": 136,
     "metadata": {},
     "output_type": "execute_result"
    }
   ],
   "source": [
    "cont"
   ]
  },
  {
   "cell_type": "code",
   "execution_count": 131,
   "metadata": {},
   "outputs": [
    {
     "data": {
      "text/html": [
       "<div>\n",
       "<style scoped>\n",
       "    .dataframe tbody tr th:only-of-type {\n",
       "        vertical-align: middle;\n",
       "    }\n",
       "\n",
       "    .dataframe tbody tr th {\n",
       "        vertical-align: top;\n",
       "    }\n",
       "\n",
       "    .dataframe thead th {\n",
       "        text-align: right;\n",
       "    }\n",
       "</style>\n",
       "<table border=\"1\" class=\"dataframe\">\n",
       "  <thead>\n",
       "    <tr style=\"text-align: right;\">\n",
       "      <th></th>\n",
       "      <th>SNP</th>\n",
       "      <th>P</th>\n",
       "    </tr>\n",
       "  </thead>\n",
       "  <tbody>\n",
       "    <tr>\n",
       "      <th>21</th>\n",
       "      <td>chr2_28150862_A_C</td>\n",
       "      <td>1.665000e-44</td>\n",
       "    </tr>\n",
       "    <tr>\n",
       "      <th>23</th>\n",
       "      <td>chr16_52328666_C_T</td>\n",
       "      <td>1.508000e-41</td>\n",
       "    </tr>\n",
       "    <tr>\n",
       "      <th>31</th>\n",
       "      <td>chr1_97788840_A_G</td>\n",
       "      <td>6.635000e-34</td>\n",
       "    </tr>\n",
       "    <tr>\n",
       "      <th>55</th>\n",
       "      <td>chr12_28530125_C_G</td>\n",
       "      <td>1.251000e-25</td>\n",
       "    </tr>\n",
       "    <tr>\n",
       "      <th>58</th>\n",
       "      <td>chr21_41532756_C_T</td>\n",
       "      <td>6.616000e-25</td>\n",
       "    </tr>\n",
       "    <tr>\n",
       "      <th>59</th>\n",
       "      <td>chr2_23222481_C_T</td>\n",
       "      <td>2.026000e-24</td>\n",
       "    </tr>\n",
       "    <tr>\n",
       "      <th>61</th>\n",
       "      <td>chr10_82842595_A_G</td>\n",
       "      <td>1.022000e-23</td>\n",
       "    </tr>\n",
       "    <tr>\n",
       "      <th>65</th>\n",
       "      <td>chr13_113284191_C_T</td>\n",
       "      <td>7.779000e-23</td>\n",
       "    </tr>\n",
       "    <tr>\n",
       "      <th>66</th>\n",
       "      <td>chr3_46742523_A_C</td>\n",
       "      <td>1.768000e-22</td>\n",
       "    </tr>\n",
       "    <tr>\n",
       "      <th>88</th>\n",
       "      <td>chr11_130943681_A_G</td>\n",
       "      <td>1.221000e-18</td>\n",
       "    </tr>\n",
       "    <tr>\n",
       "      <th>98</th>\n",
       "      <td>rs10752892</td>\n",
       "      <td>3.039000e-17</td>\n",
       "    </tr>\n",
       "    <tr>\n",
       "      <th>105</th>\n",
       "      <td>chr2_236995717_C_T</td>\n",
       "      <td>1.760000e-16</td>\n",
       "    </tr>\n",
       "    <tr>\n",
       "      <th>123</th>\n",
       "      <td>chr4_88507794_A_G</td>\n",
       "      <td>5.829000e-16</td>\n",
       "    </tr>\n",
       "    <tr>\n",
       "      <th>149</th>\n",
       "      <td>chr10_29919963_A_G</td>\n",
       "      <td>2.559000e-15</td>\n",
       "    </tr>\n",
       "    <tr>\n",
       "      <th>183</th>\n",
       "      <td>rs3927319</td>\n",
       "      <td>2.900000e-14</td>\n",
       "    </tr>\n",
       "    <tr>\n",
       "      <th>280</th>\n",
       "      <td>chr2_171708059_C_T</td>\n",
       "      <td>1.900000e-11</td>\n",
       "    </tr>\n",
       "    <tr>\n",
       "      <th>292</th>\n",
       "      <td>corect_rs116995945</td>\n",
       "      <td>2.542000e-11</td>\n",
       "    </tr>\n",
       "    <tr>\n",
       "      <th>330</th>\n",
       "      <td>chr17_35438073_C_T</td>\n",
       "      <td>6.708000e-11</td>\n",
       "    </tr>\n",
       "    <tr>\n",
       "      <th>356</th>\n",
       "      <td>rs1083383</td>\n",
       "      <td>1.038000e-10</td>\n",
       "    </tr>\n",
       "    <tr>\n",
       "      <th>357</th>\n",
       "      <td>chr14_101121371_G_T</td>\n",
       "      <td>1.043000e-10</td>\n",
       "    </tr>\n",
       "    <tr>\n",
       "      <th>413</th>\n",
       "      <td>chr8_128146308_G_T</td>\n",
       "      <td>2.143000e-10</td>\n",
       "    </tr>\n",
       "    <tr>\n",
       "      <th>470</th>\n",
       "      <td>chr12_15177511_C_T</td>\n",
       "      <td>4.214000e-10</td>\n",
       "    </tr>\n",
       "    <tr>\n",
       "      <th>604</th>\n",
       "      <td>chr8_12549881_C_G</td>\n",
       "      <td>2.057000e-09</td>\n",
       "    </tr>\n",
       "    <tr>\n",
       "      <th>686</th>\n",
       "      <td>chr19_2472833_C_T</td>\n",
       "      <td>4.452000e-09</td>\n",
       "    </tr>\n",
       "    <tr>\n",
       "      <th>757</th>\n",
       "      <td>Chr6:30954121:G:T</td>\n",
       "      <td>9.993000e-09</td>\n",
       "    </tr>\n",
       "    <tr>\n",
       "      <th>1339</th>\n",
       "      <td>chrX_125912274_C_T</td>\n",
       "      <td>4.202000e-07</td>\n",
       "    </tr>\n",
       "    <tr>\n",
       "      <th>1370</th>\n",
       "      <td>chr2_185637683_C_T</td>\n",
       "      <td>4.925000e-07</td>\n",
       "    </tr>\n",
       "    <tr>\n",
       "      <th>1739</th>\n",
       "      <td>chrX_81467918_C_T</td>\n",
       "      <td>2.107000e-06</td>\n",
       "    </tr>\n",
       "    <tr>\n",
       "      <th>1920</th>\n",
       "      <td>chr18_24094369_A_G</td>\n",
       "      <td>5.097000e-06</td>\n",
       "    </tr>\n",
       "    <tr>\n",
       "      <th>2155</th>\n",
       "      <td>chr1_109093676_A_G</td>\n",
       "      <td>1.212000e-05</td>\n",
       "    </tr>\n",
       "    <tr>\n",
       "      <th>2435</th>\n",
       "      <td>chr8_89514784_A_G</td>\n",
       "      <td>2.483000e-05</td>\n",
       "    </tr>\n",
       "    <tr>\n",
       "      <th>3059</th>\n",
       "      <td>corect_rs188312854</td>\n",
       "      <td>1.029000e-04</td>\n",
       "    </tr>\n",
       "    <tr>\n",
       "      <th>3749</th>\n",
       "      <td>chr13_113796587_A_G</td>\n",
       "      <td>2.752000e-04</td>\n",
       "    </tr>\n",
       "    <tr>\n",
       "      <th>3806</th>\n",
       "      <td>corect_rs187745955</td>\n",
       "      <td>2.982000e-04</td>\n",
       "    </tr>\n",
       "    <tr>\n",
       "      <th>4719</th>\n",
       "      <td>chr10_52434758_A_G</td>\n",
       "      <td>6.766000e-04</td>\n",
       "    </tr>\n",
       "  </tbody>\n",
       "</table>\n",
       "</div>"
      ],
      "text/plain": [
       "                      SNP             P\n",
       "21      chr2_28150862_A_C  1.665000e-44\n",
       "23     chr16_52328666_C_T  1.508000e-41\n",
       "31      chr1_97788840_A_G  6.635000e-34\n",
       "55     chr12_28530125_C_G  1.251000e-25\n",
       "58     chr21_41532756_C_T  6.616000e-25\n",
       "59      chr2_23222481_C_T  2.026000e-24\n",
       "61     chr10_82842595_A_G  1.022000e-23\n",
       "65    chr13_113284191_C_T  7.779000e-23\n",
       "66      chr3_46742523_A_C  1.768000e-22\n",
       "88    chr11_130943681_A_G  1.221000e-18\n",
       "98             rs10752892  3.039000e-17\n",
       "105    chr2_236995717_C_T  1.760000e-16\n",
       "123     chr4_88507794_A_G  5.829000e-16\n",
       "149    chr10_29919963_A_G  2.559000e-15\n",
       "183             rs3927319  2.900000e-14\n",
       "280    chr2_171708059_C_T  1.900000e-11\n",
       "292    corect_rs116995945  2.542000e-11\n",
       "330    chr17_35438073_C_T  6.708000e-11\n",
       "356             rs1083383  1.038000e-10\n",
       "357   chr14_101121371_G_T  1.043000e-10\n",
       "413    chr8_128146308_G_T  2.143000e-10\n",
       "470    chr12_15177511_C_T  4.214000e-10\n",
       "604     chr8_12549881_C_G  2.057000e-09\n",
       "686     chr19_2472833_C_T  4.452000e-09\n",
       "757     Chr6:30954121:G:T  9.993000e-09\n",
       "1339   chrX_125912274_C_T  4.202000e-07\n",
       "1370   chr2_185637683_C_T  4.925000e-07\n",
       "1739    chrX_81467918_C_T  2.107000e-06\n",
       "1920   chr18_24094369_A_G  5.097000e-06\n",
       "2155   chr1_109093676_A_G  1.212000e-05\n",
       "2435    chr8_89514784_A_G  2.483000e-05\n",
       "3059   corect_rs188312854  1.029000e-04\n",
       "3749  chr13_113796587_A_G  2.752000e-04\n",
       "3806   corect_rs187745955  2.982000e-04\n",
       "4719   chr10_52434758_A_G  6.766000e-04"
      ]
     },
     "execution_count": 131,
     "metadata": {},
     "output_type": "execute_result"
    }
   ],
   "source": [
    "cont=\"\"\n",
    "for i in np.intersect1d(dl,p_value):\n",
    "    cont=cont+i+\"|\"\n",
    "\n",
    "pf[pf[\"SNP\"].str.contains(cont[:-1])]"
   ]
  },
  {
   "cell_type": "code",
   "execution_count": 115,
   "metadata": {},
   "outputs": [
    {
     "data": {
      "text/html": [
       "<div>\n",
       "<style scoped>\n",
       "    .dataframe tbody tr th:only-of-type {\n",
       "        vertical-align: middle;\n",
       "    }\n",
       "\n",
       "    .dataframe tbody tr th {\n",
       "        vertical-align: top;\n",
       "    }\n",
       "\n",
       "    .dataframe thead th {\n",
       "        text-align: right;\n",
       "    }\n",
       "</style>\n",
       "<table border=\"1\" class=\"dataframe\">\n",
       "  <thead>\n",
       "    <tr style=\"text-align: right;\">\n",
       "      <th></th>\n",
       "      <th>chrom</th>\n",
       "      <th>snp</th>\n",
       "      <th>cm</th>\n",
       "      <th>pos</th>\n",
       "      <th>a0</th>\n",
       "      <th>a1</th>\n",
       "      <th>i</th>\n",
       "    </tr>\n",
       "  </thead>\n",
       "  <tbody>\n",
       "    <tr>\n",
       "      <th>1385</th>\n",
       "      <td>5</td>\n",
       "      <td>rs10064567</td>\n",
       "      <td>0.0</td>\n",
       "      <td>37796430</td>\n",
       "      <td>G</td>\n",
       "      <td>A</td>\n",
       "      <td>1385</td>\n",
       "    </tr>\n",
       "  </tbody>\n",
       "</table>\n",
       "</div>"
      ],
      "text/plain": [
       "     chrom         snp   cm       pos a0 a1     i\n",
       "1385     5  rs10064567  0.0  37796430  G  A  1385"
      ]
     },
     "execution_count": 115,
     "metadata": {},
     "output_type": "execute_result"
    }
   ],
   "source": [
    "bim[bim[\"snp\"].str.contains(\"rs10064567\")]"
   ]
  },
  {
   "cell_type": "code",
   "execution_count": null,
   "metadata": {},
   "outputs": [],
   "source": [
    "['chr11_111757486_A_G=1', 'chr1_97788840_A_G=1', 'chr2_171708059_C_T=1',\n",
    "       'chr2_28150862_A_C=1', 'chr4_169989297_G_T=1', 'corect_rs187434740=0',\n",
    "       'rs10064567=0']"
   ]
  },
  {
   "cell_type": "code",
   "execution_count": 90,
   "metadata": {},
   "outputs": [
    {
     "data": {
      "text/plain": [
       "-0.016462512"
      ]
     },
     "execution_count": 90,
     "metadata": {},
     "output_type": "execute_result"
    }
   ],
   "source": [
    "aa[1385]"
   ]
  },
  {
   "cell_type": "code",
   "execution_count": 278,
   "metadata": {},
   "outputs": [
    {
     "data": {
      "text/plain": [
       "2667"
      ]
     },
     "execution_count": 278,
     "metadata": {},
     "output_type": "execute_result"
    }
   ],
   "source": [
    "len(np.intersect1d(np.array(not_sig),not_good))"
   ]
  },
  {
   "cell_type": "code",
   "execution_count": 279,
   "metadata": {},
   "outputs": [
    {
     "data": {
      "text/plain": [
       "(446, 1)"
      ]
     },
     "execution_count": 279,
     "metadata": {},
     "output_type": "execute_result"
    }
   ],
   "source": [
    "good.shape"
   ]
  },
  {
   "cell_type": "code",
   "execution_count": 280,
   "metadata": {},
   "outputs": [
    {
     "data": {
      "text/plain": [
       "69"
      ]
     },
     "execution_count": 280,
     "metadata": {},
     "output_type": "execute_result"
    }
   ],
   "source": [
    "len(sig_val)"
   ]
  },
  {
   "cell_type": "code",
   "execution_count": 281,
   "metadata": {},
   "outputs": [
    {
     "data": {
      "text/plain": [
       "2"
      ]
     },
     "execution_count": 281,
     "metadata": {},
     "output_type": "execute_result"
    }
   ],
   "source": [
    "len(np.intersect1d(np.array(sig_val),good))"
   ]
  },
  {
   "cell_type": "code",
   "execution_count": 255,
   "metadata": {},
   "outputs": [
    {
     "data": {
      "text/html": [
       "[<matplotlib.lines.Line2D object at 0x2b747ffca208>]"
      ],
      "text/plain": [
       "[<matplotlib.lines.Line2D at 0x2b747ffca208>]"
      ]
     },
     "execution_count": 255,
     "metadata": {},
     "output_type": "execute_result"
    },
    {
     "data": {
      "image/png": "[encoded data removed]",
      "text/plain": [
       "<matplotlib.figure.Figure at 0x2b747ffca470>"
      ]
     },
     "metadata": {
      "needs_background": "light"
     },
     "output_type": "display_data"
    }
   ],
   "source": [
    "fig, ax = plt.subplots(figsize=(5,5))\n",
    "ax.plot(a[4])"
   ]
  },
  {
   "cell_type": "code",
   "execution_count": 38,
   "metadata": {},
   "outputs": [
    {
     "data": {
      "text/plain": [
       "[<matplotlib.lines.Line2D at 0x2b7452a5d978>]"
      ]
     },
     "execution_count": 38,
     "metadata": {},
     "output_type": "execute_result"
    },
    {
     "data": {
      "image/png": "[encoded data removed]",
      "text/plain": [
       "<matplotlib.figure.Figure at 0x2b7452a5da20>"
      ]
     },
     "metadata": {
      "needs_background": "light"
     },
     "output_type": "display_data"
    }
   ],
   "source": [
    "afig, ax = plt.subplots(figsize=(5,5))\n",
    "ax.plot(a[3839])"
   ]
  },
  {
   "cell_type": "code",
   "execution_count": 19,
   "metadata": {},
   "outputs": [
    {
     "data": {
      "text/plain": [
       "[<matplotlib.lines.Line2D at 0x2b72b4b8da20>]"
      ]
     },
     "execution_count": 19,
     "metadata": {},
     "output_type": "execute_result"
    },
    {
     "data": {
      "image/png": "[encoded data removed]",
      "text/plain": [
       "<matplotlib.figure.Figure at 0x2b72b4b8d978>"
      ]
     },
     "metadata": {
      "needs_background": "light"
     },
     "output_type": "display_data"
    }
   ],
   "source": [
    "afig, ax = plt.subplots(figsize=(5,5))\n",
    "ax.plot(a[3839])"
   ]
  },
  {
   "cell_type": "code",
   "execution_count": 118,
   "metadata": {},
   "outputs": [],
   "source": [
    "import shap"
   ]
  },
  {
   "cell_type": "code",
   "execution_count": 158,
   "metadata": {},
   "outputs": [],
   "source": [
    "e=shap.DeepExplainer((X,tf.nn.sigmoid(output)), x_train[np.random.choice(x_train.shape[0], 1000, replace=False)])"
   ]
  },
  {
   "cell_type": "code",
   "execution_count": 159,
   "metadata": {},
   "outputs": [
    {
     "data": {
      "text/plain": [
       "array([[2, 2, 2, ..., 1, 2, 2],\n",
       "       [1, 2, 0, ..., 1, 2, 2],\n",
       "       [2, 2, 2, ..., 2, 2, 2],\n",
       "       ...,\n",
       "       [2, 2, 1, ..., 1, 2, 2],\n",
       "       [2, 2, 2, ..., 0, 2, 2],\n",
       "       [1, 2, 2, ..., 2, 2, 2]], dtype=uint8)"
      ]
     },
     "execution_count": 159,
     "metadata": {},
     "output_type": "execute_result"
    }
   ],
   "source": [
    "x_test"
   ]
  },
  {
   "cell_type": "code",
   "execution_count": 160,
   "metadata": {},
   "outputs": [
    {
     "ename": "ValueError",
     "evalue": "Dimensions must be equal, but are 50 and 25 for 'gradients/batch_normalization_2/batchnorm/mul_1_grad/mul' (op: 'Mul') with input shapes: [?,50], [25].",
     "output_type": "error",
     "traceback": [
      "\u001b[0;31m---------------------------------------------------------------------------\u001b[0m",
      "\u001b[0;31mInvalidArgumentError\u001b[0m                      Traceback (most recent call last)",
      "\u001b[0;32m~/.local/lib/python3.6/site-packages/tensorflow/python/framework/ops.py\u001b[0m in \u001b[0;36mget_attr\u001b[0;34m(self, name)\u001b[0m\n\u001b[1;32m   2325\u001b[0m       \u001b[0;32mwith\u001b[0m \u001b[0mc_api_util\u001b[0m\u001b[0;34m.\u001b[0m\u001b[0mtf_buffer\u001b[0m\u001b[0;34m(\u001b[0m\u001b[0;34m)\u001b[0m \u001b[0;32mas\u001b[0m \u001b[0mbuf\u001b[0m\u001b[0;34m:\u001b[0m\u001b[0;34m\u001b[0m\u001b[0m\n\u001b[0;32m-> 2326\u001b[0;31m         \u001b[0mc_api\u001b[0m\u001b[0;34m.\u001b[0m\u001b[0mTF_OperationGetAttrValueProto\u001b[0m\u001b[0;34m(\u001b[0m\u001b[0mself\u001b[0m\u001b[0;34m.\u001b[0m\u001b[0m_c_op\u001b[0m\u001b[0;34m,\u001b[0m \u001b[0mname\u001b[0m\u001b[0;34m,\u001b[0m \u001b[0mbuf\u001b[0m\u001b[0;34m)\u001b[0m\u001b[0;34m\u001b[0m\u001b[0m\n\u001b[0m\u001b[1;32m   2327\u001b[0m         \u001b[0mdata\u001b[0m \u001b[0;34m=\u001b[0m \u001b[0mc_api\u001b[0m\u001b[0;34m.\u001b[0m\u001b[0mTF_GetBuffer\u001b[0m\u001b[0;34m(\u001b[0m\u001b[0mbuf\u001b[0m\u001b[0;34m)\u001b[0m\u001b[0;34m\u001b[0m\u001b[0m\n",
      "\u001b[0;31mInvalidArgumentError\u001b[0m: Operation 'batch_normalization_2/batchnorm/mul_1' has no attr named '_XlaCompile'.",
      "\nDuring handling of the above exception, another exception occurred:\n",
      "\u001b[0;31mValueError\u001b[0m                                Traceback (most recent call last)",
      "\u001b[0;32m~/.local/lib/python3.6/site-packages/tensorflow/python/ops/gradients_util.py\u001b[0m in \u001b[0;36m_MaybeCompile\u001b[0;34m(scope, op, func, grad_fn)\u001b[0m\n\u001b[1;32m    343\u001b[0m     \u001b[0;32mtry\u001b[0m\u001b[0;34m:\u001b[0m\u001b[0;34m\u001b[0m\u001b[0m\n\u001b[0;32m--> 344\u001b[0;31m       \u001b[0mxla_compile\u001b[0m \u001b[0;34m=\u001b[0m \u001b[0mop\u001b[0m\u001b[0;34m.\u001b[0m\u001b[0mget_attr\u001b[0m\u001b[0;34m(\u001b[0m\u001b[0;34m\"_XlaCompile\"\u001b[0m\u001b[0;34m)\u001b[0m\u001b[0;34m\u001b[0m\u001b[0m\n\u001b[0m\u001b[1;32m    345\u001b[0m       xla_separate_compiled_gradients = op.get_attr(\n",
      "\u001b[0;32m~/.local/lib/python3.6/site-packages/tensorflow/python/framework/ops.py\u001b[0m in \u001b[0;36mget_attr\u001b[0;34m(self, name)\u001b[0m\n\u001b[1;32m   2329\u001b[0m       \u001b[0;31m# Convert to ValueError for backwards compatibility.\u001b[0m\u001b[0;34m\u001b[0m\u001b[0;34m\u001b[0m\u001b[0m\n\u001b[0;32m-> 2330\u001b[0;31m       \u001b[0;32mraise\u001b[0m \u001b[0mValueError\u001b[0m\u001b[0;34m(\u001b[0m\u001b[0mstr\u001b[0m\u001b[0;34m(\u001b[0m\u001b[0me\u001b[0m\u001b[0;34m)\u001b[0m\u001b[0;34m)\u001b[0m\u001b[0;34m\u001b[0m\u001b[0m\n\u001b[0m\u001b[1;32m   2331\u001b[0m     \u001b[0mx\u001b[0m \u001b[0;34m=\u001b[0m \u001b[0mattr_value_pb2\u001b[0m\u001b[0;34m.\u001b[0m\u001b[0mAttrValue\u001b[0m\u001b[0;34m(\u001b[0m\u001b[0;34m)\u001b[0m\u001b[0;34m\u001b[0m\u001b[0m\n",
      "\u001b[0;31mValueError\u001b[0m: Operation 'batch_normalization_2/batchnorm/mul_1' has no attr named '_XlaCompile'.",
      "\nDuring handling of the above exception, another exception occurred:\n",
      "\u001b[0;31mInvalidArgumentError\u001b[0m                      Traceback (most recent call last)",
      "\u001b[0;32m~/.local/lib/python3.6/site-packages/tensorflow/python/framework/ops.py\u001b[0m in \u001b[0;36m_create_c_op\u001b[0;34m(graph, node_def, inputs, control_inputs)\u001b[0m\n\u001b[1;32m   1550\u001b[0m   \u001b[0;32mtry\u001b[0m\u001b[0;34m:\u001b[0m\u001b[0;34m\u001b[0m\u001b[0m\n\u001b[0;32m-> 1551\u001b[0;31m     \u001b[0mc_op\u001b[0m \u001b[0;34m=\u001b[0m \u001b[0mc_api\u001b[0m\u001b[0;34m.\u001b[0m\u001b[0mTF_FinishOperation\u001b[0m\u001b[0;34m(\u001b[0m\u001b[0mop_desc\u001b[0m\u001b[0;34m)\u001b[0m\u001b[0;34m\u001b[0m\u001b[0m\n\u001b[0m\u001b[1;32m   1552\u001b[0m   \u001b[0;32mexcept\u001b[0m \u001b[0merrors\u001b[0m\u001b[0;34m.\u001b[0m\u001b[0mInvalidArgumentError\u001b[0m \u001b[0;32mas\u001b[0m \u001b[0me\u001b[0m\u001b[0;34m:\u001b[0m\u001b[0;34m\u001b[0m\u001b[0m\n",
      "\u001b[0;31mInvalidArgumentError\u001b[0m: Dimensions must be equal, but are 50 and 25 for 'gradients/batch_normalization_2/batchnorm/mul_1_grad/mul' (op: 'Mul') with input shapes: [?,50], [25].",
      "\nDuring handling of the above exception, another exception occurred:\n",
      "\u001b[0;31mValueError\u001b[0m                                Traceback (most recent call last)",
      "\u001b[0;32m<ipython-input-160-b1a338e13509>\u001b[0m in \u001b[0;36m<module>\u001b[0;34m\u001b[0m\n\u001b[0;32m----> 1\u001b[0;31m \u001b[0me\u001b[0m\u001b[0;34m.\u001b[0m\u001b[0mshap_values\u001b[0m\u001b[0;34m(\u001b[0m\u001b[0mx_val\u001b[0m\u001b[0;34m[\u001b[0m\u001b[0mimportant\u001b[0m\u001b[0;34m]\u001b[0m\u001b[0;34m)\u001b[0m\u001b[0;34m\u001b[0m\u001b[0m\n\u001b[0m",
      "\u001b[0;32m~/.local/lib/python3.6/site-packages/shap/explainers/deep/__init__.py\u001b[0m in \u001b[0;36mshap_values\u001b[0;34m(self, X, ranked_outputs, output_rank_order)\u001b[0m\n\u001b[1;32m    117\u001b[0m         \u001b[0mwere\u001b[0m \u001b[0mchosen\u001b[0m \u001b[0;32mas\u001b[0m \u001b[0;34m\"top\"\u001b[0m\u001b[0;34m.\u001b[0m\u001b[0;34m\u001b[0m\u001b[0m\n\u001b[1;32m    118\u001b[0m         \"\"\"\n\u001b[0;32m--> 119\u001b[0;31m         \u001b[0;32mreturn\u001b[0m \u001b[0mself\u001b[0m\u001b[0;34m.\u001b[0m\u001b[0mexplainer\u001b[0m\u001b[0;34m.\u001b[0m\u001b[0mshap_values\u001b[0m\u001b[0;34m(\u001b[0m\u001b[0mX\u001b[0m\u001b[0;34m,\u001b[0m \u001b[0mranked_outputs\u001b[0m\u001b[0;34m,\u001b[0m \u001b[0moutput_rank_order\u001b[0m\u001b[0;34m)\u001b[0m\u001b[0;34m\u001b[0m\u001b[0m\n\u001b[0m",
      "\u001b[0;32m~/.local/lib/python3.6/site-packages/shap/explainers/deep/deep_tf.py\u001b[0m in \u001b[0;36mshap_values\u001b[0;34m(self, X, ranked_outputs, output_rank_order, check_additivity)\u001b[0m\n\u001b[1;32m    270\u001b[0m                 \u001b[0;31m# run attribution computation graph\u001b[0m\u001b[0;34m\u001b[0m\u001b[0;34m\u001b[0m\u001b[0m\n\u001b[1;32m    271\u001b[0m                 \u001b[0mfeature_ind\u001b[0m \u001b[0;34m=\u001b[0m \u001b[0mmodel_output_ranks\u001b[0m\u001b[0;34m[\u001b[0m\u001b[0mj\u001b[0m\u001b[0;34m,\u001b[0m\u001b[0mi\u001b[0m\u001b[0;34m]\u001b[0m\u001b[0;34m\u001b[0m\u001b[0m\n\u001b[0;32m--> 272\u001b[0;31m                 \u001b[0msample_phis\u001b[0m \u001b[0;34m=\u001b[0m \u001b[0mself\u001b[0m\u001b[0;34m.\u001b[0m\u001b[0mrun\u001b[0m\u001b[0;34m(\u001b[0m\u001b[0mself\u001b[0m\u001b[0;34m.\u001b[0m\u001b[0mphi_symbolic\u001b[0m\u001b[0;34m(\u001b[0m\u001b[0mfeature_ind\u001b[0m\u001b[0;34m)\u001b[0m\u001b[0;34m,\u001b[0m \u001b[0mself\u001b[0m\u001b[0;34m.\u001b[0m\u001b[0mmodel_inputs\u001b[0m\u001b[0;34m,\u001b[0m \u001b[0mjoint_input\u001b[0m\u001b[0;34m)\u001b[0m\u001b[0;34m\u001b[0m\u001b[0m\n\u001b[0m\u001b[1;32m    273\u001b[0m \u001b[0;34m\u001b[0m\u001b[0m\n\u001b[1;32m    274\u001b[0m                 \u001b[0;31m# assign the attributions to the right part of the output arrays\u001b[0m\u001b[0;34m\u001b[0m\u001b[0;34m\u001b[0m\u001b[0m\n",
      "\u001b[0;32m~/.local/lib/python3.6/site-packages/shap/explainers/deep/deep_tf.py\u001b[0m in \u001b[0;36mphi_symbolic\u001b[0;34m(self, i)\u001b[0m\n\u001b[1;32m    210\u001b[0m             \u001b[0;32mtry\u001b[0m\u001b[0;34m:\u001b[0m\u001b[0;34m\u001b[0m\u001b[0m\n\u001b[1;32m    211\u001b[0m                 \u001b[0mout\u001b[0m \u001b[0;34m=\u001b[0m \u001b[0mself\u001b[0m\u001b[0;34m.\u001b[0m\u001b[0mmodel_output\u001b[0m\u001b[0;34m[\u001b[0m\u001b[0;34m:\u001b[0m\u001b[0;34m,\u001b[0m\u001b[0mi\u001b[0m\u001b[0;34m]\u001b[0m \u001b[0;32mif\u001b[0m \u001b[0mself\u001b[0m\u001b[0;34m.\u001b[0m\u001b[0mmulti_output\u001b[0m \u001b[0;32melse\u001b[0m \u001b[0mself\u001b[0m\u001b[0;34m.\u001b[0m\u001b[0mmodel_output\u001b[0m\u001b[0;34m\u001b[0m\u001b[0m\n\u001b[0;32m--> 212\u001b[0;31m                 \u001b[0mself\u001b[0m\u001b[0;34m.\u001b[0m\u001b[0mphi_symbolics\u001b[0m\u001b[0;34m[\u001b[0m\u001b[0mi\u001b[0m\u001b[0;34m]\u001b[0m \u001b[0;34m=\u001b[0m \u001b[0mtf\u001b[0m\u001b[0;34m.\u001b[0m\u001b[0mgradients\u001b[0m\u001b[0;34m(\u001b[0m\u001b[0mout\u001b[0m\u001b[0;34m,\u001b[0m \u001b[0mself\u001b[0m\u001b[0;34m.\u001b[0m\u001b[0mmodel_inputs\u001b[0m\u001b[0;34m)\u001b[0m\u001b[0;34m\u001b[0m\u001b[0m\n\u001b[0m\u001b[1;32m    213\u001b[0m \u001b[0;34m\u001b[0m\u001b[0m\n\u001b[1;32m    214\u001b[0m             \u001b[0;32mfinally\u001b[0m\u001b[0;34m:\u001b[0m\u001b[0;34m\u001b[0m\u001b[0m\n",
      "\u001b[0;32m~/.local/lib/python3.6/site-packages/tensorflow/python/ops/gradients_impl.py\u001b[0m in \u001b[0;36mgradients\u001b[0;34m(ys, xs, grad_ys, name, colocate_gradients_with_ops, gate_gradients, aggregation_method, stop_gradients, unconnected_gradients)\u001b[0m\n\u001b[1;32m    156\u001b[0m         \u001b[0mys\u001b[0m\u001b[0;34m,\u001b[0m \u001b[0mxs\u001b[0m\u001b[0;34m,\u001b[0m \u001b[0mgrad_ys\u001b[0m\u001b[0;34m,\u001b[0m \u001b[0mname\u001b[0m\u001b[0;34m,\u001b[0m \u001b[0mcolocate_gradients_with_ops\u001b[0m\u001b[0;34m,\u001b[0m\u001b[0;34m\u001b[0m\u001b[0m\n\u001b[1;32m    157\u001b[0m         \u001b[0mgate_gradients\u001b[0m\u001b[0;34m,\u001b[0m \u001b[0maggregation_method\u001b[0m\u001b[0;34m,\u001b[0m \u001b[0mstop_gradients\u001b[0m\u001b[0;34m,\u001b[0m\u001b[0;34m\u001b[0m\u001b[0m\n\u001b[0;32m--> 158\u001b[0;31m         unconnected_gradients)\n\u001b[0m\u001b[1;32m    159\u001b[0m   \u001b[0;31m# pylint: enable=protected-access\u001b[0m\u001b[0;34m\u001b[0m\u001b[0;34m\u001b[0m\u001b[0m\n\u001b[1;32m    160\u001b[0m \u001b[0;34m\u001b[0m\u001b[0m\n",
      "\u001b[0;32m~/.local/lib/python3.6/site-packages/tensorflow/python/ops/gradients_util.py\u001b[0m in \u001b[0;36m_GradientsHelper\u001b[0;34m(ys, xs, grad_ys, name, colocate_gradients_with_ops, gate_gradients, aggregation_method, stop_gradients, unconnected_gradients, src_graph)\u001b[0m\n\u001b[1;32m    675\u001b[0m                 \u001b[0;31m# functions.\u001b[0m\u001b[0;34m\u001b[0m\u001b[0;34m\u001b[0m\u001b[0m\n\u001b[1;32m    676\u001b[0m                 in_grads = _MaybeCompile(grad_scope, op, func_call,\n\u001b[0;32m--> 677\u001b[0;31m                                          lambda: grad_fn(op, *out_grads))\n\u001b[0m\u001b[1;32m    678\u001b[0m               \u001b[0;32melse\u001b[0m\u001b[0;34m:\u001b[0m\u001b[0;34m\u001b[0m\u001b[0m\n\u001b[1;32m    679\u001b[0m                 \u001b[0;31m# For function call ops, we add a 'SymbolicGradient'\u001b[0m\u001b[0;34m\u001b[0m\u001b[0;34m\u001b[0m\u001b[0m\n",
      "\u001b[0;32m~/.local/lib/python3.6/site-packages/tensorflow/python/ops/gradients_util.py\u001b[0m in \u001b[0;36m_MaybeCompile\u001b[0;34m(scope, op, func, grad_fn)\u001b[0m\n\u001b[1;32m    347\u001b[0m       \u001b[0mxla_scope\u001b[0m \u001b[0;34m=\u001b[0m \u001b[0mop\u001b[0m\u001b[0;34m.\u001b[0m\u001b[0mget_attr\u001b[0m\u001b[0;34m(\u001b[0m\u001b[0;34m\"_XlaScope\"\u001b[0m\u001b[0;34m)\u001b[0m\u001b[0;34m.\u001b[0m\u001b[0mdecode\u001b[0m\u001b[0;34m(\u001b[0m\u001b[0;34m)\u001b[0m\u001b[0;34m\u001b[0m\u001b[0m\n\u001b[1;32m    348\u001b[0m     \u001b[0;32mexcept\u001b[0m \u001b[0mValueError\u001b[0m\u001b[0;34m:\u001b[0m\u001b[0;34m\u001b[0m\u001b[0m\n\u001b[0;32m--> 349\u001b[0;31m       \u001b[0;32mreturn\u001b[0m \u001b[0mgrad_fn\u001b[0m\u001b[0;34m(\u001b[0m\u001b[0;34m)\u001b[0m  \u001b[0;31m# Exit early\u001b[0m\u001b[0;34m\u001b[0m\u001b[0m\n\u001b[0m\u001b[1;32m    350\u001b[0m \u001b[0;34m\u001b[0m\u001b[0m\n\u001b[1;32m    351\u001b[0m   \u001b[0;32mif\u001b[0m \u001b[0;32mnot\u001b[0m \u001b[0mxla_compile\u001b[0m\u001b[0;34m:\u001b[0m\u001b[0;34m\u001b[0m\u001b[0m\n",
      "\u001b[0;32m~/.local/lib/python3.6/site-packages/tensorflow/python/ops/gradients_util.py\u001b[0m in \u001b[0;36m<lambda>\u001b[0;34m()\u001b[0m\n\u001b[1;32m    675\u001b[0m                 \u001b[0;31m# functions.\u001b[0m\u001b[0;34m\u001b[0m\u001b[0;34m\u001b[0m\u001b[0m\n\u001b[1;32m    676\u001b[0m                 in_grads = _MaybeCompile(grad_scope, op, func_call,\n\u001b[0;32m--> 677\u001b[0;31m                                          lambda: grad_fn(op, *out_grads))\n\u001b[0m\u001b[1;32m    678\u001b[0m               \u001b[0;32melse\u001b[0m\u001b[0;34m:\u001b[0m\u001b[0;34m\u001b[0m\u001b[0m\n\u001b[1;32m    679\u001b[0m                 \u001b[0;31m# For function call ops, we add a 'SymbolicGradient'\u001b[0m\u001b[0;34m\u001b[0m\u001b[0;34m\u001b[0m\u001b[0m\n",
      "\u001b[0;32m~/.local/lib/python3.6/site-packages/shap/explainers/deep/deep_tf.py\u001b[0m in \u001b[0;36mcustom_grad\u001b[0;34m(self, op, *grads)\u001b[0m\n\u001b[1;32m    302\u001b[0m         \"\"\" Passes a gradient op creation request to the correct handler.\n\u001b[1;32m    303\u001b[0m         \"\"\"\n\u001b[0;32m--> 304\u001b[0;31m         \u001b[0;32mreturn\u001b[0m \u001b[0mop_handlers\u001b[0m\u001b[0;34m[\u001b[0m\u001b[0mop\u001b[0m\u001b[0;34m.\u001b[0m\u001b[0mtype\u001b[0m\u001b[0;34m]\u001b[0m\u001b[0;34m(\u001b[0m\u001b[0mself\u001b[0m\u001b[0;34m,\u001b[0m \u001b[0mop\u001b[0m\u001b[0;34m,\u001b[0m \u001b[0;34m*\u001b[0m\u001b[0mgrads\u001b[0m\u001b[0;34m)\u001b[0m\u001b[0;34m\u001b[0m\u001b[0m\n\u001b[0m\u001b[1;32m    305\u001b[0m \u001b[0;34m\u001b[0m\u001b[0m\n\u001b[1;32m    306\u001b[0m \u001b[0;34m\u001b[0m\u001b[0m\n",
      "\u001b[0;32m~/.local/lib/python3.6/site-packages/shap/explainers/deep/deep_tf.py\u001b[0m in \u001b[0;36mhandler\u001b[0;34m(explainer, op, *grads)\u001b[0m\n\u001b[1;32m    432\u001b[0m             \u001b[0;32mreturn\u001b[0m \u001b[0mlinearity_1d_handler\u001b[0m\u001b[0;34m(\u001b[0m\u001b[0minput_ind1\u001b[0m\u001b[0;34m,\u001b[0m \u001b[0mexplainer\u001b[0m\u001b[0;34m,\u001b[0m \u001b[0mop\u001b[0m\u001b[0;34m,\u001b[0m \u001b[0;34m*\u001b[0m\u001b[0mgrads\u001b[0m\u001b[0;34m)\u001b[0m\u001b[0;34m\u001b[0m\u001b[0m\n\u001b[1;32m    433\u001b[0m         \u001b[0;32melif\u001b[0m \u001b[0mvar\u001b[0m\u001b[0;34m[\u001b[0m\u001b[0minput_ind0\u001b[0m\u001b[0;34m]\u001b[0m \u001b[0;32mand\u001b[0m \u001b[0mvar\u001b[0m\u001b[0;34m[\u001b[0m\u001b[0minput_ind1\u001b[0m\u001b[0;34m]\u001b[0m\u001b[0;34m:\u001b[0m\u001b[0;34m\u001b[0m\u001b[0m\n\u001b[0;32m--> 434\u001b[0;31m             \u001b[0;32mreturn\u001b[0m \u001b[0mnonlinearity_2d_handler\u001b[0m\u001b[0;34m(\u001b[0m\u001b[0minput_ind0\u001b[0m\u001b[0;34m,\u001b[0m \u001b[0minput_ind1\u001b[0m\u001b[0;34m,\u001b[0m \u001b[0mop_func\u001b[0m\u001b[0;34m,\u001b[0m \u001b[0mexplainer\u001b[0m\u001b[0;34m,\u001b[0m \u001b[0mop\u001b[0m\u001b[0;34m,\u001b[0m \u001b[0;34m*\u001b[0m\u001b[0mgrads\u001b[0m\u001b[0;34m)\u001b[0m\u001b[0;34m\u001b[0m\u001b[0m\n\u001b[0m\u001b[1;32m    435\u001b[0m         \u001b[0;32melse\u001b[0m\u001b[0;34m:\u001b[0m\u001b[0;34m\u001b[0m\u001b[0m\n\u001b[1;32m    436\u001b[0m             \u001b[0;32mreturn\u001b[0m \u001b[0;34m[\u001b[0m\u001b[0;32mNone\u001b[0m \u001b[0;32mfor\u001b[0m \u001b[0m_\u001b[0m \u001b[0;32min\u001b[0m \u001b[0mop\u001b[0m\u001b[0;34m.\u001b[0m\u001b[0minputs\u001b[0m\u001b[0;34m]\u001b[0m \u001b[0;31m# no inputs vary, we must be hidden by a switch function\u001b[0m\u001b[0;34m\u001b[0m\u001b[0m\n",
      "\u001b[0;32m~/.local/lib/python3.6/site-packages/shap/explainers/deep/deep_tf.py\u001b[0m in \u001b[0;36mnonlinearity_2d_handler\u001b[0;34m(input_ind0, input_ind1, op_func, explainer, op, *grads)\u001b[0m\n\u001b[1;32m    483\u001b[0m     \u001b[0mdelta_in1\u001b[0m \u001b[0;34m=\u001b[0m \u001b[0mxin1\u001b[0m \u001b[0;34m-\u001b[0m \u001b[0mrin1\u001b[0m\u001b[0;34m\u001b[0m\u001b[0m\n\u001b[1;32m    484\u001b[0m     \u001b[0mdup0\u001b[0m \u001b[0;34m=\u001b[0m \u001b[0;34m[\u001b[0m\u001b[0;36m2\u001b[0m\u001b[0;34m]\u001b[0m \u001b[0;34m+\u001b[0m \u001b[0;34m[\u001b[0m\u001b[0;36m1\u001b[0m \u001b[0;32mfor\u001b[0m \u001b[0mi\u001b[0m \u001b[0;32min\u001b[0m \u001b[0mdelta_in0\u001b[0m\u001b[0;34m.\u001b[0m\u001b[0mshape\u001b[0m\u001b[0;34m[\u001b[0m\u001b[0;36m1\u001b[0m\u001b[0;34m:\u001b[0m\u001b[0;34m]\u001b[0m\u001b[0;34m]\u001b[0m\u001b[0;34m\u001b[0m\u001b[0m\n\u001b[0;32m--> 485\u001b[0;31m     \u001b[0mout10\u001b[0m \u001b[0;34m=\u001b[0m \u001b[0mop_func\u001b[0m\u001b[0;34m(\u001b[0m\u001b[0mxin0\u001b[0m\u001b[0;34m,\u001b[0m \u001b[0mrin1\u001b[0m\u001b[0;34m)\u001b[0m\u001b[0;34m\u001b[0m\u001b[0m\n\u001b[0m\u001b[1;32m    486\u001b[0m     \u001b[0mout01\u001b[0m \u001b[0;34m=\u001b[0m \u001b[0mop_func\u001b[0m\u001b[0;34m(\u001b[0m\u001b[0mrin0\u001b[0m\u001b[0;34m,\u001b[0m \u001b[0mxin1\u001b[0m\u001b[0;34m)\u001b[0m\u001b[0;34m\u001b[0m\u001b[0m\n\u001b[1;32m    487\u001b[0m     \u001b[0mout11\u001b[0m\u001b[0;34m,\u001b[0m\u001b[0mout00\u001b[0m \u001b[0;34m=\u001b[0m \u001b[0mxout\u001b[0m\u001b[0;34m,\u001b[0m\u001b[0mrout\u001b[0m\u001b[0;34m\u001b[0m\u001b[0m\n",
      "\u001b[0;32m~/.local/lib/python3.6/site-packages/shap/explainers/deep/deep_tf.py\u001b[0m in \u001b[0;36m<lambda>\u001b[0;34m(x, y)\u001b[0m\n\u001b[1;32m    600\u001b[0m \u001b[0;34m\u001b[0m\u001b[0m\n\u001b[1;32m    601\u001b[0m \u001b[0;31m# ops that allow up to two inputs to vary are are linear when only one input varies\u001b[0m\u001b[0;34m\u001b[0m\u001b[0;34m\u001b[0m\u001b[0m\n\u001b[0;32m--> 602\u001b[0;31m \u001b[0mop_handlers\u001b[0m\u001b[0;34m[\u001b[0m\u001b[0;34m\"Mul\"\u001b[0m\u001b[0;34m]\u001b[0m \u001b[0;34m=\u001b[0m \u001b[0mlinearity_1d_nonlinearity_2d\u001b[0m\u001b[0;34m(\u001b[0m\u001b[0;36m0\u001b[0m\u001b[0;34m,\u001b[0m \u001b[0;36m1\u001b[0m\u001b[0;34m,\u001b[0m \u001b[0;32mlambda\u001b[0m \u001b[0mx\u001b[0m\u001b[0;34m,\u001b[0m \u001b[0my\u001b[0m\u001b[0;34m:\u001b[0m \u001b[0mx\u001b[0m \u001b[0;34m*\u001b[0m \u001b[0my\u001b[0m\u001b[0;34m)\u001b[0m\u001b[0;34m\u001b[0m\u001b[0m\n\u001b[0m\u001b[1;32m    603\u001b[0m \u001b[0mop_handlers\u001b[0m\u001b[0;34m[\u001b[0m\u001b[0;34m\"RealDiv\"\u001b[0m\u001b[0;34m]\u001b[0m \u001b[0;34m=\u001b[0m \u001b[0mlinearity_1d_nonlinearity_2d\u001b[0m\u001b[0;34m(\u001b[0m\u001b[0;36m0\u001b[0m\u001b[0;34m,\u001b[0m \u001b[0;36m1\u001b[0m\u001b[0;34m,\u001b[0m \u001b[0;32mlambda\u001b[0m \u001b[0mx\u001b[0m\u001b[0;34m,\u001b[0m \u001b[0my\u001b[0m\u001b[0;34m:\u001b[0m \u001b[0mx\u001b[0m \u001b[0;34m/\u001b[0m \u001b[0my\u001b[0m\u001b[0;34m)\u001b[0m\u001b[0;34m\u001b[0m\u001b[0m\n\u001b[1;32m    604\u001b[0m \u001b[0mop_handlers\u001b[0m\u001b[0;34m[\u001b[0m\u001b[0;34m\"MatMul\"\u001b[0m\u001b[0;34m]\u001b[0m \u001b[0;34m=\u001b[0m \u001b[0mlinearity_1d_nonlinearity_2d\u001b[0m\u001b[0;34m(\u001b[0m\u001b[0;36m0\u001b[0m\u001b[0;34m,\u001b[0m \u001b[0;36m1\u001b[0m\u001b[0;34m,\u001b[0m \u001b[0;32mlambda\u001b[0m \u001b[0mx\u001b[0m\u001b[0;34m,\u001b[0m \u001b[0my\u001b[0m\u001b[0;34m:\u001b[0m \u001b[0mtf\u001b[0m\u001b[0;34m.\u001b[0m\u001b[0mmatmul\u001b[0m\u001b[0;34m(\u001b[0m\u001b[0mx\u001b[0m\u001b[0;34m,\u001b[0m \u001b[0my\u001b[0m\u001b[0;34m)\u001b[0m\u001b[0;34m)\u001b[0m\u001b[0;34m\u001b[0m\u001b[0m\n",
      "\u001b[0;32m~/.local/lib/python3.6/site-packages/tensorflow/python/ops/math_ops.py\u001b[0m in \u001b[0;36mbinary_op_wrapper\u001b[0;34m(x, y)\u001b[0m\n\u001b[1;32m    882\u001b[0m     \u001b[0;32mwith\u001b[0m \u001b[0mops\u001b[0m\u001b[0;34m.\u001b[0m\u001b[0mname_scope\u001b[0m\u001b[0;34m(\u001b[0m\u001b[0;32mNone\u001b[0m\u001b[0;34m,\u001b[0m \u001b[0mop_name\u001b[0m\u001b[0;34m,\u001b[0m \u001b[0;34m[\u001b[0m\u001b[0mx\u001b[0m\u001b[0;34m,\u001b[0m \u001b[0my\u001b[0m\u001b[0;34m]\u001b[0m\u001b[0;34m)\u001b[0m \u001b[0;32mas\u001b[0m \u001b[0mname\u001b[0m\u001b[0;34m:\u001b[0m\u001b[0;34m\u001b[0m\u001b[0m\n\u001b[1;32m    883\u001b[0m       \u001b[0;32mif\u001b[0m \u001b[0misinstance\u001b[0m\u001b[0;34m(\u001b[0m\u001b[0mx\u001b[0m\u001b[0;34m,\u001b[0m \u001b[0mops\u001b[0m\u001b[0;34m.\u001b[0m\u001b[0mTensor\u001b[0m\u001b[0;34m)\u001b[0m \u001b[0;32mand\u001b[0m \u001b[0misinstance\u001b[0m\u001b[0;34m(\u001b[0m\u001b[0my\u001b[0m\u001b[0;34m,\u001b[0m \u001b[0mops\u001b[0m\u001b[0;34m.\u001b[0m\u001b[0mTensor\u001b[0m\u001b[0;34m)\u001b[0m\u001b[0;34m:\u001b[0m\u001b[0;34m\u001b[0m\u001b[0m\n\u001b[0;32m--> 884\u001b[0;31m         \u001b[0;32mreturn\u001b[0m \u001b[0mfunc\u001b[0m\u001b[0;34m(\u001b[0m\u001b[0mx\u001b[0m\u001b[0;34m,\u001b[0m \u001b[0my\u001b[0m\u001b[0;34m,\u001b[0m \u001b[0mname\u001b[0m\u001b[0;34m=\u001b[0m\u001b[0mname\u001b[0m\u001b[0;34m)\u001b[0m\u001b[0;34m\u001b[0m\u001b[0m\n\u001b[0m\u001b[1;32m    885\u001b[0m       \u001b[0;32melif\u001b[0m \u001b[0;32mnot\u001b[0m \u001b[0misinstance\u001b[0m\u001b[0;34m(\u001b[0m\u001b[0my\u001b[0m\u001b[0;34m,\u001b[0m \u001b[0msparse_tensor\u001b[0m\u001b[0;34m.\u001b[0m\u001b[0mSparseTensor\u001b[0m\u001b[0;34m)\u001b[0m\u001b[0;34m:\u001b[0m\u001b[0;34m\u001b[0m\u001b[0m\n\u001b[1;32m    886\u001b[0m         \u001b[0;32mtry\u001b[0m\u001b[0;34m:\u001b[0m\u001b[0;34m\u001b[0m\u001b[0m\n",
      "\u001b[0;32m~/.local/lib/python3.6/site-packages/tensorflow/python/ops/math_ops.py\u001b[0m in \u001b[0;36m_mul_dispatch\u001b[0;34m(x, y, name)\u001b[0m\n\u001b[1;32m   1178\u001b[0m   \u001b[0mis_tensor_y\u001b[0m \u001b[0;34m=\u001b[0m \u001b[0misinstance\u001b[0m\u001b[0;34m(\u001b[0m\u001b[0my\u001b[0m\u001b[0;34m,\u001b[0m \u001b[0mops\u001b[0m\u001b[0;34m.\u001b[0m\u001b[0mTensor\u001b[0m\u001b[0;34m)\u001b[0m\u001b[0;34m\u001b[0m\u001b[0m\n\u001b[1;32m   1179\u001b[0m   \u001b[0;32mif\u001b[0m \u001b[0mis_tensor_y\u001b[0m\u001b[0;34m:\u001b[0m\u001b[0;34m\u001b[0m\u001b[0m\n\u001b[0;32m-> 1180\u001b[0;31m     \u001b[0;32mreturn\u001b[0m \u001b[0mgen_math_ops\u001b[0m\u001b[0;34m.\u001b[0m\u001b[0mmul\u001b[0m\u001b[0;34m(\u001b[0m\u001b[0mx\u001b[0m\u001b[0;34m,\u001b[0m \u001b[0my\u001b[0m\u001b[0;34m,\u001b[0m \u001b[0mname\u001b[0m\u001b[0;34m=\u001b[0m\u001b[0mname\u001b[0m\u001b[0;34m)\u001b[0m\u001b[0;34m\u001b[0m\u001b[0m\n\u001b[0m\u001b[1;32m   1181\u001b[0m   \u001b[0;32melse\u001b[0m\u001b[0;34m:\u001b[0m\u001b[0;34m\u001b[0m\u001b[0m\n\u001b[1;32m   1182\u001b[0m     \u001b[0;32massert\u001b[0m \u001b[0misinstance\u001b[0m\u001b[0;34m(\u001b[0m\u001b[0my\u001b[0m\u001b[0;34m,\u001b[0m \u001b[0msparse_tensor\u001b[0m\u001b[0;34m.\u001b[0m\u001b[0mSparseTensor\u001b[0m\u001b[0;34m)\u001b[0m  \u001b[0;31m# Case: Dense * Sparse.\u001b[0m\u001b[0;34m\u001b[0m\u001b[0m\n",
      "\u001b[0;32m~/.local/lib/python3.6/site-packages/tensorflow/python/ops/gen_math_ops.py\u001b[0m in \u001b[0;36mmul\u001b[0;34m(x, y, name)\u001b[0m\n\u001b[1;32m   6488\u001b[0m   \u001b[0;31m# Add nodes to the TensorFlow graph.\u001b[0m\u001b[0;34m\u001b[0m\u001b[0;34m\u001b[0m\u001b[0m\n\u001b[1;32m   6489\u001b[0m   _, _, _op = _op_def_lib._apply_op_helper(\n\u001b[0;32m-> 6490\u001b[0;31m         \"Mul\", x=x, y=y, name=name)\n\u001b[0m\u001b[1;32m   6491\u001b[0m   \u001b[0m_result\u001b[0m \u001b[0;34m=\u001b[0m \u001b[0m_op\u001b[0m\u001b[0;34m.\u001b[0m\u001b[0moutputs\u001b[0m\u001b[0;34m[\u001b[0m\u001b[0;34m:\u001b[0m\u001b[0;34m]\u001b[0m\u001b[0;34m\u001b[0m\u001b[0m\n\u001b[1;32m   6492\u001b[0m   \u001b[0m_inputs_flat\u001b[0m \u001b[0;34m=\u001b[0m \u001b[0m_op\u001b[0m\u001b[0;34m.\u001b[0m\u001b[0minputs\u001b[0m\u001b[0;34m\u001b[0m\u001b[0m\n",
      "\u001b[0;32m~/.local/lib/python3.6/site-packages/tensorflow/python/framework/op_def_library.py\u001b[0m in \u001b[0;36m_apply_op_helper\u001b[0;34m(self, op_type_name, name, **keywords)\u001b[0m\n\u001b[1;32m    786\u001b[0m         op = g.create_op(op_type_name, inputs, dtypes=None, name=scope,\n\u001b[1;32m    787\u001b[0m                          \u001b[0minput_types\u001b[0m\u001b[0;34m=\u001b[0m\u001b[0minput_types\u001b[0m\u001b[0;34m,\u001b[0m \u001b[0mattrs\u001b[0m\u001b[0;34m=\u001b[0m\u001b[0mattr_protos\u001b[0m\u001b[0;34m,\u001b[0m\u001b[0;34m\u001b[0m\u001b[0m\n\u001b[0;32m--> 788\u001b[0;31m                          op_def=op_def)\n\u001b[0m\u001b[1;32m    789\u001b[0m       \u001b[0;32mreturn\u001b[0m \u001b[0moutput_structure\u001b[0m\u001b[0;34m,\u001b[0m \u001b[0mop_def\u001b[0m\u001b[0;34m.\u001b[0m\u001b[0mis_stateful\u001b[0m\u001b[0;34m,\u001b[0m \u001b[0mop\u001b[0m\u001b[0;34m\u001b[0m\u001b[0m\n\u001b[1;32m    790\u001b[0m \u001b[0;34m\u001b[0m\u001b[0m\n",
      "\u001b[0;32m~/.local/lib/python3.6/site-packages/tensorflow/python/util/deprecation.py\u001b[0m in \u001b[0;36mnew_func\u001b[0;34m(*args, **kwargs)\u001b[0m\n\u001b[1;32m    505\u001b[0m                 \u001b[0;34m'in a future version'\u001b[0m \u001b[0;32mif\u001b[0m \u001b[0mdate\u001b[0m \u001b[0;32mis\u001b[0m \u001b[0;32mNone\u001b[0m \u001b[0;32melse\u001b[0m \u001b[0;34m(\u001b[0m\u001b[0;34m'after %s'\u001b[0m \u001b[0;34m%\u001b[0m \u001b[0mdate\u001b[0m\u001b[0;34m)\u001b[0m\u001b[0;34m,\u001b[0m\u001b[0;34m\u001b[0m\u001b[0m\n\u001b[1;32m    506\u001b[0m                 instructions)\n\u001b[0;32m--> 507\u001b[0;31m       \u001b[0;32mreturn\u001b[0m \u001b[0mfunc\u001b[0m\u001b[0;34m(\u001b[0m\u001b[0;34m*\u001b[0m\u001b[0margs\u001b[0m\u001b[0;34m,\u001b[0m \u001b[0;34m**\u001b[0m\u001b[0mkwargs\u001b[0m\u001b[0;34m)\u001b[0m\u001b[0;34m\u001b[0m\u001b[0m\n\u001b[0m\u001b[1;32m    508\u001b[0m \u001b[0;34m\u001b[0m\u001b[0m\n\u001b[1;32m    509\u001b[0m     doc = _add_deprecated_arg_notice_to_docstring(\n",
      "\u001b[0;32m~/.local/lib/python3.6/site-packages/tensorflow/python/framework/ops.py\u001b[0m in \u001b[0;36mcreate_op\u001b[0;34m(***failed resolving arguments***)\u001b[0m\n\u001b[1;32m   3294\u001b[0m           \u001b[0minput_types\u001b[0m\u001b[0;34m=\u001b[0m\u001b[0minput_types\u001b[0m\u001b[0;34m,\u001b[0m\u001b[0;34m\u001b[0m\u001b[0m\n\u001b[1;32m   3295\u001b[0m           \u001b[0moriginal_op\u001b[0m\u001b[0;34m=\u001b[0m\u001b[0mself\u001b[0m\u001b[0;34m.\u001b[0m\u001b[0m_default_original_op\u001b[0m\u001b[0;34m,\u001b[0m\u001b[0;34m\u001b[0m\u001b[0m\n\u001b[0;32m-> 3296\u001b[0;31m           op_def=op_def)\n\u001b[0m\u001b[1;32m   3297\u001b[0m       \u001b[0mself\u001b[0m\u001b[0;34m.\u001b[0m\u001b[0m_create_op_helper\u001b[0m\u001b[0;34m(\u001b[0m\u001b[0mret\u001b[0m\u001b[0;34m,\u001b[0m \u001b[0mcompute_device\u001b[0m\u001b[0;34m=\u001b[0m\u001b[0mcompute_device\u001b[0m\u001b[0;34m)\u001b[0m\u001b[0;34m\u001b[0m\u001b[0m\n\u001b[1;32m   3298\u001b[0m     \u001b[0;32mreturn\u001b[0m \u001b[0mret\u001b[0m\u001b[0;34m\u001b[0m\u001b[0m\n",
      "\u001b[0;32m~/.local/lib/python3.6/site-packages/tensorflow/python/framework/ops.py\u001b[0m in \u001b[0;36m__init__\u001b[0;34m(self, node_def, g, inputs, output_types, control_inputs, input_types, original_op, op_def)\u001b[0m\n\u001b[1;32m   1712\u001b[0m           op_def, inputs, node_def.attr)\n\u001b[1;32m   1713\u001b[0m       self._c_op = _create_c_op(self._graph, node_def, grouped_inputs,\n\u001b[0;32m-> 1714\u001b[0;31m                                 control_input_ops)\n\u001b[0m\u001b[1;32m   1715\u001b[0m \u001b[0;34m\u001b[0m\u001b[0m\n\u001b[1;32m   1716\u001b[0m     \u001b[0;31m# Initialize self._outputs.\u001b[0m\u001b[0;34m\u001b[0m\u001b[0;34m\u001b[0m\u001b[0m\n",
      "\u001b[0;32m~/.local/lib/python3.6/site-packages/tensorflow/python/framework/ops.py\u001b[0m in \u001b[0;36m_create_c_op\u001b[0;34m(graph, node_def, inputs, control_inputs)\u001b[0m\n\u001b[1;32m   1552\u001b[0m   \u001b[0;32mexcept\u001b[0m \u001b[0merrors\u001b[0m\u001b[0;34m.\u001b[0m\u001b[0mInvalidArgumentError\u001b[0m \u001b[0;32mas\u001b[0m \u001b[0me\u001b[0m\u001b[0;34m:\u001b[0m\u001b[0;34m\u001b[0m\u001b[0m\n\u001b[1;32m   1553\u001b[0m     \u001b[0;31m# Convert to ValueError for backwards compatibility.\u001b[0m\u001b[0;34m\u001b[0m\u001b[0;34m\u001b[0m\u001b[0m\n\u001b[0;32m-> 1554\u001b[0;31m     \u001b[0;32mraise\u001b[0m \u001b[0mValueError\u001b[0m\u001b[0;34m(\u001b[0m\u001b[0mstr\u001b[0m\u001b[0;34m(\u001b[0m\u001b[0me\u001b[0m\u001b[0;34m)\u001b[0m\u001b[0;34m)\u001b[0m\u001b[0;34m\u001b[0m\u001b[0m\n\u001b[0m\u001b[1;32m   1555\u001b[0m \u001b[0;34m\u001b[0m\u001b[0m\n\u001b[1;32m   1556\u001b[0m   \u001b[0;32mreturn\u001b[0m \u001b[0mc_op\u001b[0m\u001b[0;34m\u001b[0m\u001b[0m\n",
      "\u001b[0;31mValueError\u001b[0m: Dimensions must be equal, but are 50 and 25 for 'gradients/batch_normalization_2/batchnorm/mul_1_grad/mul' (op: 'Mul') with input shapes: [?,50], [25]."
     ]
    }
   ],
   "source": [
    "e.shap_values(x_val[important])"
   ]
  },
  {
   "cell_type": "code",
   "execution_count": null,
   "metadata": {},
   "outputs": [],
   "source": []
  },
  {
   "cell_type": "code",
   "execution_count": 154,
   "metadata": {},
   "outputs": [],
   "source": []
  },
  {
   "cell_type": "code",
   "execution_count": 153,
   "metadata": {},
   "outputs": [],
   "source": []
  },
  {
   "cell_type": "code",
   "execution_count": null,
   "metadata": {},
   "outputs": [],
   "source": []
  },
  {
   "cell_type": "code",
   "execution_count": null,
   "metadata": {},
   "outputs": [],
   "source": []
  },
  {
   "cell_type": "code",
   "execution_count": null,
   "metadata": {},
   "outputs": [],
   "source": []
  },
  {
   "cell_type": "code",
   "execution_count": null,
   "metadata": {},
   "outputs": [],
   "source": []
  },
  {
   "cell_type": "code",
   "execution_count": null,
   "metadata": {},
   "outputs": [],
   "source": []
  },
  {
   "cell_type": "code",
   "execution_count": 34,
   "metadata": {},
   "outputs": [],
   "source": []
  },
  {
   "cell_type": "code",
   "execution_count": null,
   "metadata": {},
   "outputs": [],
   "source": []
  },
  {
   "cell_type": "code",
   "execution_count": null,
   "metadata": {},
   "outputs": [],
   "source": []
  },
  {
   "cell_type": "code",
   "execution_count": null,
   "metadata": {},
   "outputs": [],
   "source": []
  },
  {
   "cell_type": "code",
   "execution_count": null,
   "metadata": {},
   "outputs": [],
   "source": []
  },
  {
   "cell_type": "code",
   "execution_count": null,
   "metadata": {},
   "outputs": [],
   "source": []
  }
 ],
 "metadata": {
  "kernelspec": {
   "display_name": "Python 3",
   "language": "python",
   "name": "python3"
  },
  "language_info": {
   "codemirror_mode": {
    "name": "ipython",
    "version": 3
   },
   "file_extension": ".py",
   "mimetype": "text/x-python",
   "name": "python",
   "nbconvert_exporter": "python",
   "pygments_lexer": "ipython3",
   "version": "3.6.5"
  }
 },
 "nbformat": 4,
 "nbformat_minor": 2
}
