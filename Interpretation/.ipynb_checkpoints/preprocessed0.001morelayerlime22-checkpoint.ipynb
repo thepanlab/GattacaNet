{
 "cells": [
  {
   "cell_type": "code",
   "execution_count": 1,
   "metadata": {},
   "outputs": [],
   "source": [
    "%matplotlib inline\n",
    "import tensorflow as tf\n",
    "import numpy as np\n",
    "from pandas_plink import read_plink\n",
    "import pandas as pd\n",
    "import matplotlib.pyplot as plt\n",
    "from sklearn.decomposition import PCA\n",
    "from sklearn.linear_model import LogisticRegression\n",
    "from joblib import Parallel, delayed\n",
    "from sklearn import metrics\n",
    "from math import sqrt\n",
    "import lime\n",
    "import lime.lime_tabular\n",
    "from lime import submodular_pick\n",
    "import random\n",
    "from sklearn.metrics import roc_curve,roc_auc_score"
   ]
  },
  {
   "cell_type": "code",
   "execution_count": 2,
   "metadata": {},
   "outputs": [],
   "source": [
    "from sklearn.metrics import accuracy_score\n",
    "from sklearn.metrics import auc\n",
    "from sklearn.metrics import confusion_matrix\n",
    "from sklearn.metrics import classification_report\n",
    "from sklearn.metrics import precision_score\n",
    "from sklearn.preprocessing import OneHotEncoder"
   ]
  },
  {
   "cell_type": "code",
   "execution_count": 3,
   "metadata": {},
   "outputs": [
    {
     "name": "stderr",
     "output_type": "stream",
     "text": [
      "Mapping files: 100%|██████████| 3/3 [00:00<00:00,  7.84it/s]\n",
      "Mapping files: 100%|██████████| 3/3 [00:00<00:00, 21.15it/s]\n",
      "Mapping files: 100%|██████████| 3/3 [00:00<00:00, 10.70it/s]\n"
     ]
    }
   ],
   "source": [
    "(bim, fam, bed)=read_plink(\"/work/breastcancer/clean_test/train/sig0.001\")\n",
    "(bim2, fam2, bed2)=read_plink(\"/work/breastcancer/clean_test/validation/val0.001\")\n",
    "(bim3, fam3, bed3)=read_plink(\"/work/breastcancer/clean_test/test/test0.001\")"
   ]
  },
  {
   "cell_type": "code",
   "execution_count": null,
   "metadata": {},
   "outputs": [],
   "source": []
  },
  {
   "cell_type": "code",
   "execution_count": 4,
   "metadata": {},
   "outputs": [
    {
     "name": "stdout",
     "output_type": "stream",
     "text": [
      "     chrom                       snp   cm        pos a0 a1     i\n",
      "0        1                 rs4040605  0.0     856476  G  A     0\n",
      "1        1          chr1_1914124_C_T  0.0    1914124  A  G     1\n",
      "2        1          chr1_2501064_A_G  0.0    2501064  A  G     2\n",
      "3        1          chr1_3410935_A_G  0.0    3410935  A  G     3\n",
      "4        1          chr1_4515277_C_T  0.0    4515277  A  G     4\n",
      "5        1          chr1_5178521_A_C  0.0    5178521  C  A     5\n",
      "6        1                 rs2506889  0.0   10596022  A  G     6\n",
      "7        1         chr1_10598216_A_G  0.0   10598216  A  G     7\n",
      "8        1         chr1_10609973_G_T  0.0   10609973  A  C     8\n",
      "9        1                 rs9430149  0.0   10612820  C  G     9\n",
      "10       1                rs17035305  0.0   10616505  A  C    10\n",
      "11       1         chr1_10617906_A_T  0.0   10617906  T  A    11\n",
      "12       1                 rs4846235  0.0   10632235  A  G    12\n",
      "13       1         chr1_10700448_C_T  0.0   10700448  G  A    13\n",
      "14       1                  rs778228  0.0   10708142  G  A    14\n",
      "15       1         chr1_10709267_C_T  0.0   10709267  A  G    15\n",
      "16       1     chr1_10719375_G_INDEL  0.0   10719375  I  D    16\n",
      "17       1                  rs284322  0.0   10725498  A  G    17\n",
      "18       1         chr1_10730002_A_G  0.0   10730002  G  A    18\n",
      "19       1         chr1_10879725_A_G  0.0   10879725  G  A    19\n",
      "20       1                 rs4845877  0.0   11824303  A  G    20\n",
      "21       1                 rs6540999  0.0   11833366  A  G    21\n",
      "22       1                 rs6659541  0.0   11836442  G  A    22\n",
      "23       1         chr1_11836682_C_T  0.0   11836682  G  A    23\n",
      "24       1                 rs6697244  0.0   11838848  C  A    24\n",
      "25       1         chr1_11843167_A_G  0.0   11843167  A  G    25\n",
      "26       1                rs35134728  0.0   11847334  D  I    26\n",
      "27       1                rs70983598  0.0   11847339  D  I    27\n",
      "28       1                 rs1476413  0.0   11852300  A  G    28\n",
      "29       1                 rs1801131  0.0   11854476  C  A    29\n",
      "...    ...                       ...  ...        ... .. ..   ...\n",
      "5243    22                 rs4823650  0.0   47883698  G  A  5243\n",
      "5244    22                 rs5769415  0.0   49316305  A  G  5244\n",
      "5245    22        chr22_49317614_A_G  0.0   49317614  A  G  5245\n",
      "5246    22        corect_rs181578054  0.0   51084318  A  G  5246\n",
      "5247    23          chrX_3537035_C_T  0.0    3537035  A  G  5247\n",
      "5248    23                  rs239765  0.0   18868624  G  A  5248\n",
      "5249    23                 rs6630120  0.0   25736480  G  A  5249\n",
      "5250    23         chrX_37620412_C_T  0.0   37620412  A  G  5250\n",
      "5251    23  chrX_51249758_ATGA_INDEL  0.0   51249758  I  D  5251\n",
      "5252    23     chrX_62348191_G_INDEL  0.0   62348191  D  I  5252\n",
      "5253    23         chrX_65448725_C_T  0.0   65448725  G  A  5253\n",
      "5254    23     chrX_66472790_G_INDEL  0.0   66472790  I  D  5254\n",
      "5255    23         chrX_68562276_C_G  0.0   68562276  G  C  5255\n",
      "5256    23         chrX_81467918_C_T  0.0   81467918  G  A  5256\n",
      "5257    23                 rs7066183  0.0   85065849  G  A  5257\n",
      "5258    23                 rs2369579  0.0   86218517  A  G  5258\n",
      "5259    23                 rs6623913  0.0   86407623  G  A  5259\n",
      "5260    23         chrX_88349122_A_G  0.0   88349122  G  A  5260\n",
      "5261    23                rs17337750  0.0   95796116  A  G  5261\n",
      "5262    23        chrX_121623926_A_G  0.0  121623926  G  A  5262\n",
      "5263    23        chrX_121626224_C_T  0.0  121626224  G  A  5263\n",
      "5264    23        chrX_125912274_C_T  0.0  125912274  G  A  5264\n",
      "5265    23                 rs2273221  0.0  135310785  A  G  5265\n",
      "5266    23                 rs5975711  0.0  135350161  G  A  5266\n",
      "5267    23                 rs1174086  0.0  144553179  G  A  5267\n",
      "5268    23                 rs1174079  0.0  144557401  C  A  5268\n",
      "5269    23                rs12557711  0.0  145666265  C  A  5269\n",
      "5270    23                 rs5920253  0.0  145744293  G  A  5270\n",
      "5271    23        chrX_146095648_A_G  0.0  146095648  G  A  5271\n",
      "5272    23        chrX_152710845_A_T  0.0  152710845  T  A  5272\n",
      "\n",
      "[5273 rows x 7 columns]\n"
     ]
    }
   ],
   "source": [
    "print(bim)\n"
   ]
  },
  {
   "cell_type": "code",
   "execution_count": 5,
   "metadata": {},
   "outputs": [
    {
     "name": "stdout",
     "output_type": "stream",
     "text": [
      "                fid     iid father mother gender trait     i\n",
      "0     BCAC-10004806  103990      0      0      2     2     0\n",
      "1     BCAC-10014103  277737      0      0      2     1     1\n",
      "2     BCAC-10031360  282353      0      0      2     1     2\n",
      "3     BCAC-10058767  269188      0      0      2     1     3\n",
      "4     BCAC-10061401  127256      0      0      2     2     4\n",
      "5     BCAC-10065950  112568      0      0      2     1     5\n",
      "6     BCAC-10066137   79981      0      0      2     2     6\n",
      "7     BCAC-10094987  104959      0      0      2     1     7\n",
      "8     BCAC-10110689  265234      0      0      2     2     8\n",
      "9     BCAC-10118451  267854      0      0      2     1     9\n",
      "10    BCAC-10122271  327261      0      0      2     1    10\n",
      "11    BCAC-10158019  166687      0      0      2     2    11\n",
      "12    BCAC-10179015  267308      0      0      2     1    12\n",
      "13    BCAC-10182819  325984      0      0      2     1    13\n",
      "14    BCAC-10214855   80201      0      0      2     2    14\n",
      "15    BCAC-10220713  113341      0      0      2     1    15\n",
      "16    BCAC-10225600  102967      0      0      2     2    16\n",
      "17    BCAC-10242149  131883      0      0      2     2    17\n",
      "18    BCAC-10259396  102641      0      0      2     1    18\n",
      "19    BCAC-10268156  327877      0      0      2     1    19\n",
      "20    BCAC-10306769  266734      0      0      2     1    20\n",
      "21    BCAC-10309371  325906      0      0      2     1    21\n",
      "22    BCAC-10323485  270483      0      0      2     2    22\n",
      "23    BCAC-10370901   96999      0      0      2     2    23\n",
      "24    BCAC-10393973  283539      0      0      2     2    24\n",
      "25    BCAC-10474316  106567      0      0      2     2    25\n",
      "26    BCAC-10495248  265748      0      0      2     1    26\n",
      "27    BCAC-10514785  101954      0      0      2     1    27\n",
      "28    BCAC-10527048  110303      0      0      2     1    28\n",
      "29    BCAC-10531125  325697      0      0      2     1    29\n",
      "...             ...     ...    ...    ...    ...   ...   ...\n",
      "4882  BCAC-99409871  324783      0      0      2     1  4882\n",
      "4883  BCAC-99413406   80078      0      0      2     2  4883\n",
      "4884  BCAC-99470376  326932      0      0      2     2  4884\n",
      "4885  BCAC-99476878  277381      0      0      2     2  4885\n",
      "4886  BCAC-99482344  273880      0      0      2     1  4886\n",
      "4887  BCAC-99504751  108572      0      0      2     2  4887\n",
      "4888  BCAC-99507063   97986      0      0      2     1  4888\n",
      "4889  BCAC-99525130  102806      0      0      2     2  4889\n",
      "4890  BCAC-99536492  324084      0      0      2     1  4890\n",
      "4891  BCAC-99570256  287288      0      0      2     2  4891\n",
      "4892  BCAC-99612018  327463      0      0      2     2  4892\n",
      "4893  BCAC-99628803  269014      0      0      2     2  4893\n",
      "4894  BCAC-99674943  285997      0      0      2     1  4894\n",
      "4895  BCAC-99690161  104053      0      0      2     1  4895\n",
      "4896  BCAC-99714950  131335      0      0      2     2  4896\n",
      "4897  BCAC-99740421  357383      0      0      2     1  4897\n",
      "4898  BCAC-99765279  358976      0      0      2     1  4898\n",
      "4899  BCAC-99798169  264604      0      0      2     1  4899\n",
      "4900  BCAC-99809976  103777      0      0      2     1  4900\n",
      "4901  BCAC-99814857  326308      0      0      2     1  4901\n",
      "4902  BCAC-99828381  269245      0      0      2     1  4902\n",
      "4903  BCAC-99833381  358229      0      0      2     1  4903\n",
      "4904  BCAC-99860648  105519      0      0      2     2  4904\n",
      "4905  BCAC-99876655  126913      0      0      2     2  4905\n",
      "4906  BCAC-99877144   97837      0      0      2     1  4906\n",
      "4907  BCAC-99924667   80195      0      0      2     2  4907\n",
      "4908  BCAC-99930300  268659      0      0      2     2  4908\n",
      "4909  BCAC-99974797  277389      0      0      2     1  4909\n",
      "4910  BCAC-99983874  101510      0      0      2     2  4910\n",
      "4911  BCAC-99991787  273637      0      0      2     1  4911\n",
      "\n",
      "[4912 rows x 7 columns]\n"
     ]
    }
   ],
   "source": [
    "print(fam2)"
   ]
  },
  {
   "cell_type": "code",
   "execution_count": 6,
   "metadata": {},
   "outputs": [
    {
     "name": "stdout",
     "output_type": "stream",
     "text": [
      "Convertion\n",
      "Compute\n",
      "Filling Null Data\n",
      "Convertion\n",
      "Compute\n",
      "Filling Null Data\n",
      "Convertion\n",
      "Compute\n",
      "Filling Null Data\n"
     ]
    }
   ],
   "source": [
    "print(\"Convertion\")\n",
    "bed=bed.astype('uint8')\n",
    "print(\"Compute\")\n",
    "X=bed.compute()\n",
    "print(\"Filling Null Data\")\n",
    "X[np.isnan(X)]=2\n",
    "#test\n",
    "print(\"Convertion\")\n",
    "bed2=bed2.astype('uint8')\n",
    "print(\"Compute\")\n",
    "X_val=bed2.compute()\n",
    "print(\"Filling Null Data\")\n",
    "X_val[np.isnan(X_val)]=2\n",
    "\n",
    "print(\"Convertion\")\n",
    "bed3=bed3.astype('uint8')\n",
    "print(\"Compute\")\n",
    "X_test=bed3.compute()\n",
    "print(\"Filling Null Data\")\n",
    "X_test[np.isnan(X_test)]=2"
   ]
  },
  {
   "cell_type": "code",
   "execution_count": 7,
   "metadata": {},
   "outputs": [
    {
     "name": "stdout",
     "output_type": "stream",
     "text": [
      "(5273, 39289)\n"
     ]
    }
   ],
   "source": [
    "print(X.shape)"
   ]
  },
  {
   "cell_type": "code",
   "execution_count": 8,
   "metadata": {},
   "outputs": [],
   "source": [
    "Y=fam[\"trait\"].astype(\"int\")\n",
    "Y=Y-1\n",
    "Xdf=pd.DataFrame(X.T)\n",
    "Xdf[\"Y\"]=Y\n",
    "#Xdf=Xdf.sample(frac=1)\n",
    "\n",
    "Y_val=fam2[\"trait\"].astype(\"int\")\n",
    "Y_val=Y_val-1\n",
    "Xdf_val=pd.DataFrame(X_val.T)\n",
    "Xdf_val[\"Y\"]=Y_val\n",
    "#Xdf=Xdf.sample(frac=1)\n",
    "\n",
    "Y_test=fam3[\"trait\"].astype(\"int\")\n",
    "Y_test=Y_test-1\n",
    "Xdf_test=pd.DataFrame(X_test.T)\n",
    "Xdf_test[\"Y\"]=Y_test\n",
    "#Xdf=Xdf.sample(frac=1)"
   ]
  },
  {
   "cell_type": "code",
   "execution_count": 9,
   "metadata": {},
   "outputs": [
    {
     "name": "stdout",
     "output_type": "stream",
     "text": [
      "      0  1  2  3  4  5  6  7  8  9 ...  5264  5265  5266  5267  5268  5269  \\\n",
      "0     2  0  0  2  1  0  1  1  1  1 ...     0     1     2     2     2     1   \n",
      "1     1  2  1  2  1  2  1  1  1  1 ...     1     0     0     2     2     0   \n",
      "2     1  2  1  2  1  0  0  0  0  0 ...     2     1     1     2     2     2   \n",
      "3     2  1  2  2  2  2  0  0  0  0 ...     0     1     1     0     0     2   \n",
      "4     1  0  1  2  0  2  2  2  2  2 ...     2     1     1     1     1     1   \n",
      "5     0  1  0  1  0  0  2  2  2  2 ...     2     0     0     2     2     1   \n",
      "6     0  2  2  2  1  2  1  1  1  1 ...     2     2     2     1     2     1   \n",
      "7     0  2  0  2  0  2  1  1  1  1 ...     1     0     0     1     1     1   \n",
      "8     1  2  1  2  2  2  1  1  1  1 ...     2     1     1     1     1     1   \n",
      "9     2  2  2  2  0  2  2  2  2  2 ...     2     1     1     1     1     1   \n",
      "10    1  2  1  2  0  2  2  2  2  2 ...     2     2     2     1     1     1   \n",
      "11    1  0  0  2  1  2  1  1  1  1 ...     2     1     1     2     2     2   \n",
      "12    0  0  0  1  0  0  2  2  2  2 ...     0     1     1     0     0     1   \n",
      "13    0  0  2  2  1  2  2  2  2  2 ...     1     1     1     0     0     1   \n",
      "14    2  2  1  2  1  2  1  1  1  1 ...     2     1     1     2     2     2   \n",
      "15    2  2  0  2  2  2  1  1  1  1 ...     2     0     0     1     1     1   \n",
      "16    1  2  2  0  1  2  1  1  1  1 ...     2     2     2     1     1     1   \n",
      "17    2  2  2  2  0  2  2  2  2  2 ...     2     0     0     1     1     1   \n",
      "18    0  0  2  2  1  0  1  1  1  1 ...     2     1     1     2     2     1   \n",
      "19    1  1  2  2  2  2  2  2  2  2 ...     2     2     2     1     1     2   \n",
      "20    0  0  0  1  1  0  1  1  1  1 ...     1     1     1     2     2     0   \n",
      "21    0  2  1  2  0  2  2  2  2  2 ...     0     1     1     2     2     1   \n",
      "22    0  0  0  0  1  0  2  2  2  2 ...     0     1     1     1     1     1   \n",
      "23    0  0  0  2  0  0  2  2  2  2 ...     2     1     1     1     1     1   \n",
      "24    1  1  0  0  0  1  2  2  2  2 ...     2     2     2     0     0     1   \n",
      "25    1  0  2  2  1  2  1  1  1  1 ...     2     1     1     2     2     1   \n",
      "26    0  2  2  2  2  2  1  1  1  1 ...     2     1     1     0     0     2   \n",
      "27    0  0  2  0  1  0  0  0  0  0 ...     2     2     2     1     1     0   \n",
      "28    0  2  2  2  1  2  2  2  2  2 ...     2     2     2     1     1     1   \n",
      "29    0  2  2  2  0  2  0  0  0  0 ...     2     1     1     1     1     0   \n",
      "...  .. .. .. .. .. .. .. .. .. .. ...   ...   ...   ...   ...   ...   ...   \n",
      "4882  0  0  2  0  2  2  2  2  2  2 ...     2     1     1     0     0     2   \n",
      "4883  1  2  2  2  2  2  1  1  1  1 ...     2     1     1     1     1     1   \n",
      "4884  1  0  0  1  2  2  1  1  1  1 ...     1     1     1     2     2     1   \n",
      "4885  2  2  2  2  0  2  2  2  2  2 ...     2     0     0     1     1     2   \n",
      "4886  1  0  1  2  2  2  0  0  0  0 ...     2     2     2     0     0     1   \n",
      "4887  0  2  1  2  1  2  2  2  2  2 ...     0     1     1     1     1     0   \n",
      "4888  0  0  0  2  0  2  1  1  1  1 ...     0     2     2     2     2     1   \n",
      "4889  1  0  0  2  2  0  1  1  1  1 ...     0     2     2     2     2     2   \n",
      "4890  0  2  1  2  0  2  2  2  2  2 ...     2     2     2     2     2     2   \n",
      "4891  0  2  0  2  2  0  1  1  1  1 ...     2     0     1     2     2     0   \n",
      "4892  1  2  1  2  2  2  1  1  1  1 ...     2     1     1     2     2     1   \n",
      "4893  1  0  1  2  1  2  2  2  2  2 ...     2     2     2     1     1     0   \n",
      "4894  2  2  1  2  1  2  0  0  0  0 ...     2     1     1     1     1     0   \n",
      "4895  0  1  0  1  1  2  2  2  2  2 ...     2     1     1     1     1     2   \n",
      "4896  0  2  2  2  2  2  1  1  1  1 ...     2     1     1     1     1     1   \n",
      "4897  1  2  2  2  0  2  0  0  0  0 ...     2     2     2     0     0     2   \n",
      "4898  0  2  1  2  0  2  0  0  0  0 ...     2     1     1     2     2     2   \n",
      "4899  2  2  1  2  0  2  2  2  2  2 ...     2     2     2     2     2     1   \n",
      "4900  0  0  0  2  2  2  2  2  2  2 ...     2     1     1     1     1     0   \n",
      "4901  0  2  2  2  0  2  2  2  2  2 ...     0     1     1     1     1     2   \n",
      "4902  0  1  0  0  1  2  2  2  2  2 ...     0     1     1     1     1     2   \n",
      "4903  1  0  1  2  0  0  2  2  2  2 ...     2     1     1     1     1     0   \n",
      "4904  0  1  1  1  1  2  1  1  1  1 ...     0     2     1     2     2     1   \n",
      "4905  1  2  2  2  1  2  1  1  1  1 ...     0     2     2     2     2     0   \n",
      "4906  0  0  1  2  0  2  1  1  1  1 ...     2     2     2     2     2     1   \n",
      "4907  2  2  2  2  2  2  1  1  1  1 ...     2     1     0     2     2     1   \n",
      "4908  0  1  0  1  0  0  2  2  2  2 ...     0     0     0     2     2     2   \n",
      "4909  1  2  1  2  2  2  2  2  2  2 ...     2     1     1     1     1     1   \n",
      "4910  0  0  2  2  1  0  1  1  1  1 ...     0     1     1     1     1     1   \n",
      "4911  1  0  0  2  0  1  2  2  2  2 ...     2     1     1     1     1     0   \n",
      "\n",
      "      5270  5271  5272  Y  \n",
      "0        1     2     2  1  \n",
      "1        0     2     2  0  \n",
      "2        2     2     2  0  \n",
      "3        2     2     2  0  \n",
      "4        1     2     2  1  \n",
      "5        1     2     2  0  \n",
      "6        1     2     2  1  \n",
      "7        1     2     2  0  \n",
      "8        1     2     2  1  \n",
      "9        1     2     2  0  \n",
      "10       1     2     2  0  \n",
      "11       2     2     2  1  \n",
      "12       1     2     2  0  \n",
      "13       1     2     2  0  \n",
      "14       2     2     2  1  \n",
      "15       2     2     2  0  \n",
      "16       2     2     2  1  \n",
      "17       1     2     2  1  \n",
      "18       1     2     2  0  \n",
      "19       2     2     2  0  \n",
      "20       0     2     2  0  \n",
      "21       2     2     2  0  \n",
      "22       1     2     2  1  \n",
      "23       1     2     2  1  \n",
      "24       1     2     2  1  \n",
      "25       1     2     2  1  \n",
      "26       2     2     2  0  \n",
      "27       0     2     2  0  \n",
      "28       1     2     2  0  \n",
      "29       0     2     2  0  \n",
      "...    ...   ...   ... ..  \n",
      "4882     2     2     2  0  \n",
      "4883     1     2     2  1  \n",
      "4884     1     2     2  1  \n",
      "4885     2     2     2  1  \n",
      "4886     1     2     2  0  \n",
      "4887     1     2     2  1  \n",
      "4888     1     2     2  0  \n",
      "4889     2     2     2  1  \n",
      "4890     2     2     2  0  \n",
      "4891     0     2     2  1  \n",
      "4892     1     2     2  1  \n",
      "4893     0     2     2  1  \n",
      "4894     0     2     2  0  \n",
      "4895     2     2     2  0  \n",
      "4896     1     2     2  1  \n",
      "4897     2     2     2  0  \n",
      "4898     2     2     2  0  \n",
      "4899     1     2     2  0  \n",
      "4900     0     2     2  0  \n",
      "4901     2     2     2  0  \n",
      "4902     2     2     2  0  \n",
      "4903     0     2     2  0  \n",
      "4904     1     2     0  1  \n",
      "4905     0     2     2  1  \n",
      "4906     1     2     2  0  \n",
      "4907     1     2     2  1  \n",
      "4908     2     2     2  1  \n",
      "4909     1     2     2  0  \n",
      "4910     1     2     2  1  \n",
      "4911     0     2     2  0  \n",
      "\n",
      "[4912 rows x 5274 columns]\n"
     ]
    }
   ],
   "source": [
    "print(Xdf_val)"
   ]
  },
  {
   "cell_type": "code",
   "execution_count": 10,
   "metadata": {},
   "outputs": [],
   "source": [
    "x_train=Xdf.drop(['Y'],axis=1).values\n",
    "y_train=Xdf[['Y']].values\n",
    "\n",
    "x_val=Xdf_val.drop(['Y'],axis=1).values\n",
    "y_val=Xdf_val[['Y']].values\n",
    "\n",
    "x_test=Xdf_test.drop(['Y'],axis=1).values\n",
    "y_test=Xdf_test[['Y']].values"
   ]
  },
  {
   "cell_type": "code",
   "execution_count": null,
   "metadata": {},
   "outputs": [],
   "source": []
  },
  {
   "cell_type": "code",
   "execution_count": 11,
   "metadata": {},
   "outputs": [],
   "source": [
    "tf.reset_default_graph()\n",
    "X=tf.placeholder(tf.float32,shape=(None,5273),name=\"X\")\n",
    "X_random=tf.placeholder(tf.float32,shape=(None,1),name=\"X\")\n",
    "Y=tf.placeholder(tf.float32,shape=(None,1),name=\"Y\")"
   ]
  },
  {
   "cell_type": "code",
   "execution_count": 12,
   "metadata": {},
   "outputs": [
    {
     "name": "stderr",
     "output_type": "stream",
     "text": [
      "WARNING: Logging before flag parsing goes to stderr.\n",
      "W1212 10:04:17.383921 47345209260352 lazy_loader.py:50] \n",
      "The TensorFlow contrib module will not be included in TensorFlow 2.0.\n",
      "For more information, please see:\n",
      "  * https://github.com/tensorflow/community/blob/master/rfcs/20180907-contrib-sunset.md\n",
      "  * https://github.com/tensorflow/addons\n",
      "  * https://github.com/tensorflow/io (for I/O related ops)\n",
      "If you depend on functionality not listed there, please file an issue.\n",
      "\n",
      "W1212 10:04:17.384743 47345209260352 deprecation.py:323] From <ipython-input-12-729f23675a53>:5: dropout (from tensorflow.python.layers.core) is deprecated and will be removed in a future version.\n",
      "Instructions for updating:\n",
      "Use keras.layers.dropout instead.\n",
      "W1212 10:04:17.545887 47345209260352 deprecation.py:323] From <ipython-input-12-729f23675a53>:6: dense (from tensorflow.python.layers.core) is deprecated and will be removed in a future version.\n",
      "Instructions for updating:\n",
      "Use keras.layers.dense instead.\n",
      "W1212 10:04:17.993321 47345209260352 deprecation.py:323] From <ipython-input-12-729f23675a53>:7: batch_normalization (from tensorflow.python.layers.normalization) is deprecated and will be removed in a future version.\n",
      "Instructions for updating:\n",
      "Use keras.layers.BatchNormalization instead.  In particular, `tf.control_dependencies(tf.GraphKeys.UPDATE_OPS)` should not be used (consult the `tf.keras.layers.batch_normalization` documentation).\n"
     ]
    }
   ],
   "source": [
    "\n",
    "with tf.name_scope(\"dnn\"):\n",
    "    training = tf.placeholder_with_default(False, shape=(), name='training')\n",
    "    initializer = tf.contrib.layers.xavier_initializer()\n",
    "    hidden00_drop= tf.layers.dropout(X, 0.5, training=training)\n",
    "    hidden01=tf.layers.dense(hidden00_drop, 1000, name=\"hidden01\",activation=None, kernel_initializer=initializer)\n",
    "    hidden01_norm=tf.layers.batch_normalization(hidden01, training=training, momentum=0.9)\n",
    "    act_hidden01=tf.nn.leaky_relu(hidden01_norm)\n",
    "    hidden01_drop = tf.layers.dropout(act_hidden01, 0.5, training=training)\n",
    "    hidden0=tf.layers.dense(hidden01_drop, 250, name=\"hidden0\",activation=None, kernel_initializer=initializer)\n",
    "    hidden0_norm=tf.layers.batch_normalization(hidden0, training=training, momentum=0.9)\n",
    "    act_hidden0=tf.nn.leaky_relu(hidden0_norm)\n",
    "    hidden0_drop = tf.layers.dropout(act_hidden0, 0.5, training=training)\n",
    "    hidden1=tf.layers.dense(hidden0_drop, 50, name=\"hidden1\",activation=None, kernel_initializer=initializer)\n",
    "    hidden1_norm=tf.layers.batch_normalization(hidden1, training=training, momentum=0.9)\n",
    "    act_hidden1=tf.nn.leaky_relu(hidden1_norm)\n",
    "    hidden1_drop = tf.layers.dropout(act_hidden1, 0.5, training=training)\n",
    "    output=tf.layers.dense(  hidden1_drop, 1, name=\"output_final\",activation=None)\n"
   ]
  },
  {
   "cell_type": "code",
   "execution_count": null,
   "metadata": {},
   "outputs": [],
   "source": []
  },
  {
   "cell_type": "code",
   "execution_count": 13,
   "metadata": {},
   "outputs": [
    {
     "name": "stderr",
     "output_type": "stream",
     "text": [
      "W1212 10:04:18.365697 47345209260352 deprecation.py:323] From /home/adbadre/.local/lib/python3.6/site-packages/tensorflow/python/ops/nn_impl.py:182: add_dispatch_support.<locals>.wrapper (from tensorflow.python.ops.array_ops) is deprecated and will be removed in a future version.\n",
      "Instructions for updating:\n",
      "Use tf.where in 2.0, which has the same broadcast rule as np.where\n"
     ]
    }
   ],
   "source": [
    "with tf.name_scope(\"loss\"):\n",
    "    #l1_regularizer = tf.contrib.layers.l1_regularizer(scale=0.01, scope=None)\n",
    "    l2_regularizer = tf.contrib.layers.l2_regularizer(scale=0.01, scope=None)\n",
    "    cross_entropy = tf.nn.sigmoid_cross_entropy_with_logits(labels=Y, logits=output)\n",
    "    weights = tf.trainable_variables()\n",
    "    loss=tf.reduce_mean(cross_entropy)\n",
    "    error=loss#+tf.contrib.layers.apply_regularization(l2_regularizer, weights)"
   ]
  },
  {
   "cell_type": "code",
   "execution_count": 14,
   "metadata": {},
   "outputs": [],
   "source": [
    "with tf.name_scope(\"train\"):\n",
    "    optimizer =tf.train.AdamOptimizer(learning_rate=0.0001,beta1=0.9,beta2=0.999,epsilon=1e-08,use_locking=False,name='Adam')\n",
    "    extra_update_ops = tf.get_collection(tf.GraphKeys.UPDATE_OPS)\n",
    "    with tf.control_dependencies(extra_update_ops):\n",
    "        training_op = optimizer.minimize(error)"
   ]
  },
  {
   "cell_type": "code",
   "execution_count": 15,
   "metadata": {},
   "outputs": [
    {
     "name": "stderr",
     "output_type": "stream",
     "text": [
      "W1212 10:04:19.187172 47345209260352 deprecation.py:323] From /home/adbadre/.local/lib/python3.6/site-packages/tensorflow/python/ops/metrics_impl.py:809: div (from tensorflow.python.ops.math_ops) is deprecated and will be removed in a future version.\n",
      "Instructions for updating:\n",
      "Deprecated in favor of operator or tf.math.divide.\n"
     ]
    }
   ],
   "source": [
    "with tf.name_scope(\"eval\"):\n",
    "    predicted = tf.nn.sigmoid(output)\n",
    "    correct_pred = tf.equal(tf.round(predicted), Y)\n",
    "    acc = tf.reduce_mean(tf.cast(correct_pred, tf.float32))\n",
    "    _,auc = tf.metrics.auc(labels=Y,predictions=predicted)"
   ]
  },
  {
   "cell_type": "code",
   "execution_count": 224,
   "metadata": {},
   "outputs": [],
   "source": [
    "sess.close()"
   ]
  },
  {
   "cell_type": "code",
   "execution_count": 16,
   "metadata": {},
   "outputs": [],
   "source": [
    "saver=tf.train.Saver()\n"
   ]
  },
  {
   "cell_type": "code",
   "execution_count": 17,
   "metadata": {},
   "outputs": [],
   "source": [
    "sess = tf.InteractiveSession(config=tf.ConfigProto(device_count={ \"CPU\": 44}))\n"
   ]
  },
  {
   "cell_type": "code",
   "execution_count": 18,
   "metadata": {},
   "outputs": [
    {
     "name": "stderr",
     "output_type": "stream",
     "text": [
      "/home/adbadre/.local/lib/python3.6/site-packages/tensorflow/python/client/session.py:1735: UserWarning: An interactive session is already active. This can cause out-of-memory errors in some cases. You must explicitly call `InteractiveSession.close()` to release resources held by the other session(s).\n",
      "  warnings.warn('An interactive session is already active. This can '\n"
     ]
    }
   ],
   "source": [
    "init=tf.global_variables_initializer()\n",
    "loc=tf.local_variables_initializer()\n",
    "sess = tf.InteractiveSession(config=tf.ConfigProto(device_count={ \"CPU\": 44}))\n",
    "init.run()\n",
    "loc.run()\n",
    "auc_tab=[]\n",
    "accuracy_tab=[]\n",
    "loss_tab=[]\n",
    "epoch_tab=[]\n",
    "auc_tab_val=[]\n",
    "accuracy_tab_val=[]\n",
    "loss_tab_val=[]\n",
    "#wSNP=[[] for x in range(2000*2)]\n",
    "#wSNPout=[[] for x in range(2)]"
   ]
  },
  {
   "cell_type": "code",
   "execution_count": 19,
   "metadata": {},
   "outputs": [],
   "source": [
    "def shuffle_batch(X, y, batch_size):\n",
    "    rnd_idx = np.random.permutation(len(X))\n",
    "    n_batches = len(X) // batch_size\n",
    "    for batch_idx in np.array_split(rnd_idx, n_batches):\n",
    "        X_batch, y_batch = X[batch_idx], y[batch_idx]\n",
    "        yield X_batch, y_batch"
   ]
  },
  {
   "cell_type": "code",
   "execution_count": null,
   "metadata": {},
   "outputs": [],
   "source": []
  },
  {
   "cell_type": "code",
   "execution_count": null,
   "metadata": {},
   "outputs": [],
   "source": []
  },
  {
   "cell_type": "code",
   "execution_count": 229,
   "metadata": {},
   "outputs": [],
   "source": [
    "sess.close()"
   ]
  },
  {
   "cell_type": "code",
   "execution_count": 20,
   "metadata": {},
   "outputs": [],
   "source": [
    "sess = tf.InteractiveSession(config=tf.ConfigProto(device_count={ \"CPU\": 44}))\n"
   ]
  },
  {
   "cell_type": "code",
   "execution_count": 21,
   "metadata": {},
   "outputs": [
    {
     "name": "stderr",
     "output_type": "stream",
     "text": [
      "W1212 10:04:21.665442 47345209260352 deprecation.py:323] From /home/adbadre/.local/lib/python3.6/site-packages/tensorflow/python/training/saver.py:1276: checkpoint_exists (from tensorflow.python.training.checkpoint_management) is deprecated and will be removed in a future version.\n",
      "Instructions for updating:\n",
      "Use standard file APIs to check for files with this prefix.\n"
     ]
    }
   ],
   "source": [
    "saver.restore(sess, \"/work/breastcancer/clean_test/logs/preprocessed001.ckpt\")"
   ]
  },
  {
   "cell_type": "code",
   "execution_count": 34,
   "metadata": {},
   "outputs": [],
   "source": [
    "pred=sess.run(predicted,feed_dict={X:x_test,Y:y_test})"
   ]
  },
  {
   "cell_type": "code",
   "execution_count": 35,
   "metadata": {},
   "outputs": [],
   "source": [
    "important=np.argwhere(pred==pred[pred>0.67])[:,0]"
   ]
  },
  {
   "cell_type": "code",
   "execution_count": null,
   "metadata": {},
   "outputs": [],
   "source": []
  },
  {
   "cell_type": "code",
   "execution_count": 36,
   "metadata": {},
   "outputs": [
    {
     "data": {
      "text/plain": [
       "[0.6349695, 0.6095277, 0.6704849]"
      ]
     },
     "execution_count": 36,
     "metadata": {},
     "output_type": "execute_result"
    }
   ],
   "source": [
    "loc.run()\n",
    "sess.run([loss,acc,auc],feed_dict={X:x_val,Y:y_val})"
   ]
  },
  {
   "cell_type": "code",
   "execution_count": 37,
   "metadata": {},
   "outputs": [
    {
     "data": {
      "text/plain": [
       "[0.63160145, 0.62235343, 0.6738763]"
      ]
     },
     "execution_count": 37,
     "metadata": {},
     "output_type": "execute_result"
    }
   ],
   "source": [
    "loc.run()\n",
    "sess.run([loss,acc,auc],feed_dict={X:x_test,Y:y_test})"
   ]
  },
  {
   "cell_type": "code",
   "execution_count": 27,
   "metadata": {},
   "outputs": [],
   "source": [
    "np.random.seed(1)"
   ]
  },
  {
   "cell_type": "code",
   "execution_count": 28,
   "metadata": {},
   "outputs": [
    {
     "name": "stderr",
     "output_type": "stream",
     "text": [
      "/opt/oscer/software/scikit-learn/0.19.1-foss-2018a-Python-3.6.4/lib/python3.6/site-packages/sklearn/utils/validation.py:475: DataConversionWarning: Data with input dtype uint8 was converted to float64 by StandardScaler.\n",
      "  warnings.warn(msg, DataConversionWarning)\n"
     ]
    }
   ],
   "source": [
    "explainer = lime.lime_tabular.LimeTabularExplainer(x_train ,class_names=['not tumour', 'Tumor'],categorical_features = range(5273), feature_names = list(bim[\"snp\"].values), kernel_width=40, verbose=True)"
   ]
  },
  {
   "cell_type": "code",
   "execution_count": 29,
   "metadata": {},
   "outputs": [],
   "source": [
    "def predict_fn(x):\n",
    "    if len(x.shape)>1:\n",
    "         return np.array([1-sess.run(tf.nn.sigmoid(output),feed_dict={X:x})[:,0],sess.run(tf.nn.sigmoid(output),feed_dict={X:x})[:,0]]).T\n",
    "    else:\n",
    "        return np.array([[1-sess.run(tf.nn.sigmoid(output),feed_dict={X:np.expand_dims(x,axis=1).T})[0,0],sess.run(tf.nn.sigmoid(output),feed_dict={X:np.expand_dims(x,axis=1).T})[0,0]]])"
   ]
  },
  {
   "cell_type": "code",
   "execution_count": null,
   "metadata": {},
   "outputs": [],
   "source": []
  },
  {
   "cell_type": "code",
   "execution_count": 38,
   "metadata": {},
   "outputs": [
    {
     "data": {
      "text/plain": [
       "array([[0.4408413 ],\n",
       "       [0.72026885],\n",
       "       [0.6171559 ],\n",
       "       ...,\n",
       "       [0.53312004],\n",
       "       [0.46355894],\n",
       "       [0.65992373]], dtype=float32)"
      ]
     },
     "execution_count": 38,
     "metadata": {},
     "output_type": "execute_result"
    }
   ],
   "source": [
    "sess.run(predicted,feed_dict={X:x_test,Y:y_test})"
   ]
  },
  {
   "cell_type": "code",
   "execution_count": 39,
   "metadata": {},
   "outputs": [
    {
     "data": {
      "text/plain": [
       "(553,)"
      ]
     },
     "execution_count": 39,
     "metadata": {},
     "output_type": "execute_result"
    }
   ],
   "source": [
    "important.shape"
   ]
  },
  {
   "cell_type": "code",
   "execution_count": 51,
   "metadata": {},
   "outputs": [
    {
     "name": "stdout",
     "output_type": "stream",
     "text": [
      "Intercept 0.3751667264220283\n",
      "Prediction_local [0.60281737]\n",
      "Right: 0.6759864\n",
      "Intercept 0.45633742564847607\n",
      "Prediction_local [0.64401538]\n",
      "Right: 0.68659985\n",
      "Intercept 0.4163234853268111\n",
      "Prediction_local [0.83756244]\n",
      "Right: 0.9495586\n"
     ]
    },
    {
     "name": "stderr",
     "output_type": "stream",
     "text": [
      "/opt/oscer/software/Python/3.6.4-foss-2018a/lib/python3.6/site-packages/scipy-1.0.0-py3.6-linux-x86_64.egg/scipy/linalg/basic.py:40: RuntimeWarning: scipy.linalg.solve\n",
      "Ill-conditioned matrix detected. Result is not guaranteed to be accurate.\n",
      "Reciprocal condition number/precision: 3.203150992140917e-18 / 1.1102230246251565e-16\n",
      "  RuntimeWarning)\n"
     ]
    },
    {
     "name": "stdout",
     "output_type": "stream",
     "text": [
      "Intercept 0.34640264616911154\n",
      "Prediction_local [0.68752693]\n",
      "Right: 0.85689974\n",
      "Intercept 0.49382261473141315\n",
      "Prediction_local [0.70892854]\n",
      "Right: 0.79888475\n"
     ]
    },
    {
     "name": "stderr",
     "output_type": "stream",
     "text": [
      "/opt/oscer/software/Python/3.6.4-foss-2018a/lib/python3.6/site-packages/scipy-1.0.0-py3.6-linux-x86_64.egg/scipy/linalg/basic.py:40: RuntimeWarning: scipy.linalg.solve\n",
      "Ill-conditioned matrix detected. Result is not guaranteed to be accurate.\n",
      "Reciprocal condition number/precision: 2.2084210418215745e-19 / 1.1102230246251565e-16\n",
      "  RuntimeWarning)\n"
     ]
    },
    {
     "name": "stdout",
     "output_type": "stream",
     "text": [
      "Intercept 0.5257438297636582\n",
      "Prediction_local [0.65572417]\n",
      "Right: 0.71817464\n"
     ]
    },
    {
     "name": "stderr",
     "output_type": "stream",
     "text": [
      "/opt/oscer/software/Python/3.6.4-foss-2018a/lib/python3.6/site-packages/scipy-1.0.0-py3.6-linux-x86_64.egg/scipy/linalg/basic.py:40: RuntimeWarning: scipy.linalg.solve\n",
      "Ill-conditioned matrix detected. Result is not guaranteed to be accurate.\n",
      "Reciprocal condition number/precision: 3.954565669212088e-18 / 1.1102230246251565e-16\n",
      "  RuntimeWarning)\n"
     ]
    },
    {
     "name": "stdout",
     "output_type": "stream",
     "text": [
      "Intercept 0.4082615946836337\n",
      "Prediction_local [0.74645014]\n",
      "Right: 0.92125165\n",
      "Intercept 0.5037412889783577\n",
      "Prediction_local [0.65159719]\n",
      "Right: 0.6972147\n"
     ]
    },
    {
     "name": "stderr",
     "output_type": "stream",
     "text": [
      "/opt/oscer/software/Python/3.6.4-foss-2018a/lib/python3.6/site-packages/scipy-1.0.0-py3.6-linux-x86_64.egg/scipy/linalg/basic.py:40: RuntimeWarning: scipy.linalg.solve\n",
      "Ill-conditioned matrix detected. Result is not guaranteed to be accurate.\n",
      "Reciprocal condition number/precision: 2.52130760710368e-18 / 1.1102230246251565e-16\n",
      "  RuntimeWarning)\n"
     ]
    },
    {
     "name": "stdout",
     "output_type": "stream",
     "text": [
      "Intercept 0.4767645662790837\n",
      "Prediction_local [0.59865074]\n",
      "Right: 0.69610703\n",
      "Intercept 0.47471639839343266\n",
      "Prediction_local [0.61248229]\n",
      "Right: 0.7082203\n"
     ]
    },
    {
     "name": "stderr",
     "output_type": "stream",
     "text": [
      "/opt/oscer/software/Python/3.6.4-foss-2018a/lib/python3.6/site-packages/scipy-1.0.0-py3.6-linux-x86_64.egg/scipy/linalg/basic.py:40: RuntimeWarning: scipy.linalg.solve\n",
      "Ill-conditioned matrix detected. Result is not guaranteed to be accurate.\n",
      "Reciprocal condition number/precision: 2.7385348536338975e-19 / 1.1102230246251565e-16\n",
      "  RuntimeWarning)\n"
     ]
    },
    {
     "name": "stdout",
     "output_type": "stream",
     "text": [
      "Intercept 0.5332578168173615\n",
      "Prediction_local [0.74165288]\n",
      "Right: 0.8790473\n"
     ]
    },
    {
     "name": "stderr",
     "output_type": "stream",
     "text": [
      "/opt/oscer/software/Python/3.6.4-foss-2018a/lib/python3.6/site-packages/scipy-1.0.0-py3.6-linux-x86_64.egg/scipy/linalg/basic.py:40: RuntimeWarning: scipy.linalg.solve\n",
      "Ill-conditioned matrix detected. Result is not guaranteed to be accurate.\n",
      "Reciprocal condition number/precision: 2.685915572123427e-18 / 1.1102230246251565e-16\n",
      "  RuntimeWarning)\n"
     ]
    },
    {
     "name": "stdout",
     "output_type": "stream",
     "text": [
      "Intercept 0.38552247931597183\n",
      "Prediction_local [0.75664417]\n",
      "Right: 0.88268363\n",
      "Intercept 0.4234421054211961\n",
      "Prediction_local [0.74500483]\n",
      "Right: 0.81601286\n"
     ]
    },
    {
     "name": "stderr",
     "output_type": "stream",
     "text": [
      "/opt/oscer/software/Python/3.6.4-foss-2018a/lib/python3.6/site-packages/scipy-1.0.0-py3.6-linux-x86_64.egg/scipy/linalg/basic.py:40: RuntimeWarning: scipy.linalg.solve\n",
      "Ill-conditioned matrix detected. Result is not guaranteed to be accurate.\n",
      "Reciprocal condition number/precision: 4.363251480611358e-18 / 1.1102230246251565e-16\n",
      "  RuntimeWarning)\n"
     ]
    },
    {
     "name": "stdout",
     "output_type": "stream",
     "text": [
      "Intercept 0.42029749660719784\n",
      "Prediction_local [0.63726762]\n",
      "Right: 0.7040244\n"
     ]
    },
    {
     "name": "stderr",
     "output_type": "stream",
     "text": [
      "/opt/oscer/software/Python/3.6.4-foss-2018a/lib/python3.6/site-packages/scipy-1.0.0-py3.6-linux-x86_64.egg/scipy/linalg/basic.py:40: RuntimeWarning: scipy.linalg.solve\n",
      "Ill-conditioned matrix detected. Result is not guaranteed to be accurate.\n",
      "Reciprocal condition number/precision: 1.0010925167836453e-17 / 1.1102230246251565e-16\n",
      "  RuntimeWarning)\n"
     ]
    },
    {
     "name": "stdout",
     "output_type": "stream",
     "text": [
      "Intercept 0.3972014858189877\n",
      "Prediction_local [0.78358058]\n",
      "Right: 0.92903984\n",
      "Intercept 0.5349183448594383\n",
      "Prediction_local [0.8089301]\n",
      "Right: 0.85397744\n",
      "Intercept 0.31485266057884964\n",
      "Prediction_local [0.7091731]\n",
      "Right: 0.8276646\n"
     ]
    },
    {
     "name": "stderr",
     "output_type": "stream",
     "text": [
      "/opt/oscer/software/Python/3.6.4-foss-2018a/lib/python3.6/site-packages/scipy-1.0.0-py3.6-linux-x86_64.egg/scipy/linalg/basic.py:40: RuntimeWarning: scipy.linalg.solve\n",
      "Ill-conditioned matrix detected. Result is not guaranteed to be accurate.\n",
      "Reciprocal condition number/precision: 2.45008836140683e-18 / 1.1102230246251565e-16\n",
      "  RuntimeWarning)\n"
     ]
    },
    {
     "name": "stdout",
     "output_type": "stream",
     "text": [
      "Intercept 0.4499776208277333\n",
      "Prediction_local [0.76374599]\n",
      "Right: 0.8772795\n",
      "Intercept 0.3972428763586677\n",
      "Prediction_local [0.66678426]\n",
      "Right: 0.7126637\n"
     ]
    },
    {
     "name": "stderr",
     "output_type": "stream",
     "text": [
      "/opt/oscer/software/Python/3.6.4-foss-2018a/lib/python3.6/site-packages/scipy-1.0.0-py3.6-linux-x86_64.egg/scipy/linalg/basic.py:40: RuntimeWarning: scipy.linalg.solve\n",
      "Ill-conditioned matrix detected. Result is not guaranteed to be accurate.\n",
      "Reciprocal condition number/precision: 5.864063710565151e-19 / 1.1102230246251565e-16\n",
      "  RuntimeWarning)\n"
     ]
    },
    {
     "name": "stdout",
     "output_type": "stream",
     "text": [
      "Intercept 0.5208588542225041\n",
      "Prediction_local [0.78108378]\n",
      "Right: 0.8230212\n"
     ]
    },
    {
     "name": "stderr",
     "output_type": "stream",
     "text": [
      "/opt/oscer/software/Python/3.6.4-foss-2018a/lib/python3.6/site-packages/scipy-1.0.0-py3.6-linux-x86_64.egg/scipy/linalg/basic.py:40: RuntimeWarning: scipy.linalg.solve\n",
      "Ill-conditioned matrix detected. Result is not guaranteed to be accurate.\n",
      "Reciprocal condition number/precision: 6.7481772718847664e-18 / 1.1102230246251565e-16\n",
      "  RuntimeWarning)\n"
     ]
    },
    {
     "name": "stdout",
     "output_type": "stream",
     "text": [
      "Intercept 0.34329753190582263\n",
      "Prediction_local [0.71085923]\n",
      "Right: 0.91580284\n",
      "Intercept 0.3358645023954233\n",
      "Prediction_local [0.82934109]\n",
      "Right: 0.950099\n"
     ]
    },
    {
     "name": "stderr",
     "output_type": "stream",
     "text": [
      "/opt/oscer/software/Python/3.6.4-foss-2018a/lib/python3.6/site-packages/scipy-1.0.0-py3.6-linux-x86_64.egg/scipy/linalg/basic.py:40: RuntimeWarning: scipy.linalg.solve\n",
      "Ill-conditioned matrix detected. Result is not guaranteed to be accurate.\n",
      "Reciprocal condition number/precision: 1.8246060290514577e-18 / 1.1102230246251565e-16\n",
      "  RuntimeWarning)\n"
     ]
    },
    {
     "name": "stdout",
     "output_type": "stream",
     "text": [
      "Intercept 0.44002408789861996\n",
      "Prediction_local [0.71074183]\n",
      "Right: 0.846956\n",
      "Intercept 0.4555965956000976\n",
      "Prediction_local [0.59799619]\n",
      "Right: 0.6855926\n",
      "Intercept 0.3851422387361859\n",
      "Prediction_local [0.84225614]\n",
      "Right: 0.9451405\n"
     ]
    },
    {
     "name": "stderr",
     "output_type": "stream",
     "text": [
      "/opt/oscer/software/Python/3.6.4-foss-2018a/lib/python3.6/site-packages/scipy-1.0.0-py3.6-linux-x86_64.egg/scipy/linalg/basic.py:40: RuntimeWarning: scipy.linalg.solve\n",
      "Ill-conditioned matrix detected. Result is not guaranteed to be accurate.\n",
      "Reciprocal condition number/precision: 2.3786893504663583e-18 / 1.1102230246251565e-16\n",
      "  RuntimeWarning)\n"
     ]
    },
    {
     "name": "stdout",
     "output_type": "stream",
     "text": [
      "Intercept 0.421223996420448\n",
      "Prediction_local [0.66623467]\n",
      "Right: 0.7592738\n"
     ]
    },
    {
     "name": "stderr",
     "output_type": "stream",
     "text": [
      "/opt/oscer/software/Python/3.6.4-foss-2018a/lib/python3.6/site-packages/scipy-1.0.0-py3.6-linux-x86_64.egg/scipy/linalg/basic.py:40: RuntimeWarning: scipy.linalg.solve\n",
      "Ill-conditioned matrix detected. Result is not guaranteed to be accurate.\n",
      "Reciprocal condition number/precision: 1.3901166237826582e-18 / 1.1102230246251565e-16\n",
      "  RuntimeWarning)\n"
     ]
    },
    {
     "name": "stdout",
     "output_type": "stream",
     "text": [
      "Intercept 0.4876065638809668\n",
      "Prediction_local [0.65911109]\n",
      "Right: 0.7734486\n",
      "Intercept 0.4204384684608232\n",
      "Prediction_local [0.77179192]\n",
      "Right: 0.86436176\n"
     ]
    },
    {
     "name": "stderr",
     "output_type": "stream",
     "text": [
      "/opt/oscer/software/Python/3.6.4-foss-2018a/lib/python3.6/site-packages/scipy-1.0.0-py3.6-linux-x86_64.egg/scipy/linalg/basic.py:40: RuntimeWarning: scipy.linalg.solve\n",
      "Ill-conditioned matrix detected. Result is not guaranteed to be accurate.\n",
      "Reciprocal condition number/precision: 4.3146737929863565e-18 / 1.1102230246251565e-16\n",
      "  RuntimeWarning)\n"
     ]
    },
    {
     "name": "stdout",
     "output_type": "stream",
     "text": [
      "Intercept 0.4302197070629474\n",
      "Prediction_local [0.60459535]\n",
      "Right: 0.67374825\n",
      "Intercept 0.4600789852421307\n",
      "Prediction_local [0.67814033]\n",
      "Right: 0.78401756\n",
      "Intercept 0.38165913344072655\n",
      "Prediction_local [0.65177096]\n",
      "Right: 0.73299736\n",
      "Intercept 0.45044916813527974\n",
      "Prediction_local [0.65300026]\n",
      "Right: 0.70376414\n"
     ]
    },
    {
     "name": "stderr",
     "output_type": "stream",
     "text": [
      "/opt/oscer/software/Python/3.6.4-foss-2018a/lib/python3.6/site-packages/scipy-1.0.0-py3.6-linux-x86_64.egg/scipy/linalg/basic.py:40: RuntimeWarning: scipy.linalg.solve\n",
      "Ill-conditioned matrix detected. Result is not guaranteed to be accurate.\n",
      "Reciprocal condition number/precision: 2.6850620624661158e-18 / 1.1102230246251565e-16\n",
      "  RuntimeWarning)\n"
     ]
    },
    {
     "name": "stdout",
     "output_type": "stream",
     "text": [
      "Intercept 0.3343020010058361\n",
      "Prediction_local [0.74764907]\n",
      "Right: 0.9422427\n",
      "Intercept 0.47423952791645985\n",
      "Prediction_local [0.63540471]\n",
      "Right: 0.69747007\n",
      "Intercept 0.3957873199446156\n",
      "Prediction_local [0.76906412]\n",
      "Right: 0.9262834\n",
      "Intercept 0.37629395961270196\n",
      "Prediction_local [0.81203696]\n",
      "Right: 0.95593417\n",
      "Intercept 0.30905329650548863\n",
      "Prediction_local [0.75702708]\n",
      "Right: 0.91304684\n",
      "Intercept 0.44142710194521306\n",
      "Prediction_local [0.74284528]\n",
      "Right: 0.8727075\n"
     ]
    },
    {
     "name": "stderr",
     "output_type": "stream",
     "text": [
      "/opt/oscer/software/Python/3.6.4-foss-2018a/lib/python3.6/site-packages/scipy-1.0.0-py3.6-linux-x86_64.egg/scipy/linalg/basic.py:40: RuntimeWarning: scipy.linalg.solve\n",
      "Ill-conditioned matrix detected. Result is not guaranteed to be accurate.\n",
      "Reciprocal condition number/precision: 3.559262650192909e-18 / 1.1102230246251565e-16\n",
      "  RuntimeWarning)\n"
     ]
    },
    {
     "name": "stdout",
     "output_type": "stream",
     "text": [
      "Intercept 0.29603320527807525\n",
      "Prediction_local [0.7387864]\n",
      "Right: 0.8676115\n"
     ]
    },
    {
     "name": "stderr",
     "output_type": "stream",
     "text": [
      "/opt/oscer/software/Python/3.6.4-foss-2018a/lib/python3.6/site-packages/scipy-1.0.0-py3.6-linux-x86_64.egg/scipy/linalg/basic.py:40: RuntimeWarning: scipy.linalg.solve\n",
      "Ill-conditioned matrix detected. Result is not guaranteed to be accurate.\n",
      "Reciprocal condition number/precision: 1.6464990423655297e-18 / 1.1102230246251565e-16\n",
      "  RuntimeWarning)\n"
     ]
    },
    {
     "name": "stdout",
     "output_type": "stream",
     "text": [
      "Intercept 0.3957507587197337\n",
      "Prediction_local [0.77320073]\n",
      "Right: 0.9112849\n",
      "Intercept 0.40839883378636216\n",
      "Prediction_local [0.71673357]\n",
      "Right: 0.81883276\n"
     ]
    },
    {
     "name": "stderr",
     "output_type": "stream",
     "text": [
      "/opt/oscer/software/Python/3.6.4-foss-2018a/lib/python3.6/site-packages/scipy-1.0.0-py3.6-linux-x86_64.egg/scipy/linalg/basic.py:40: RuntimeWarning: scipy.linalg.solve\n",
      "Ill-conditioned matrix detected. Result is not guaranteed to be accurate.\n",
      "Reciprocal condition number/precision: 5.917493781160379e-18 / 1.1102230246251565e-16\n",
      "  RuntimeWarning)\n"
     ]
    },
    {
     "name": "stdout",
     "output_type": "stream",
     "text": [
      "Intercept 0.36603367773501105\n",
      "Prediction_local [0.73573607]\n",
      "Right: 0.86429346\n",
      "Intercept 0.5013658284444817\n",
      "Prediction_local [0.64557173]\n",
      "Right: 0.711102\n"
     ]
    },
    {
     "name": "stderr",
     "output_type": "stream",
     "text": [
      "/opt/oscer/software/Python/3.6.4-foss-2018a/lib/python3.6/site-packages/scipy-1.0.0-py3.6-linux-x86_64.egg/scipy/linalg/basic.py:40: RuntimeWarning: scipy.linalg.solve\n",
      "Ill-conditioned matrix detected. Result is not guaranteed to be accurate.\n",
      "Reciprocal condition number/precision: 3.685560345852359e-18 / 1.1102230246251565e-16\n",
      "  RuntimeWarning)\n"
     ]
    },
    {
     "name": "stdout",
     "output_type": "stream",
     "text": [
      "Intercept 0.43862713253007496\n",
      "Prediction_local [0.68119814]\n",
      "Right: 0.7804923\n"
     ]
    },
    {
     "name": "stderr",
     "output_type": "stream",
     "text": [
      "/opt/oscer/software/Python/3.6.4-foss-2018a/lib/python3.6/site-packages/scipy-1.0.0-py3.6-linux-x86_64.egg/scipy/linalg/basic.py:40: RuntimeWarning: scipy.linalg.solve\n",
      "Ill-conditioned matrix detected. Result is not guaranteed to be accurate.\n",
      "Reciprocal condition number/precision: 5.1886424875019614e-18 / 1.1102230246251565e-16\n",
      "  RuntimeWarning)\n"
     ]
    },
    {
     "name": "stdout",
     "output_type": "stream",
     "text": [
      "Intercept 0.38950563923847326\n",
      "Prediction_local [0.79296962]\n",
      "Right: 0.93373764\n"
     ]
    },
    {
     "name": "stderr",
     "output_type": "stream",
     "text": [
      "/opt/oscer/software/Python/3.6.4-foss-2018a/lib/python3.6/site-packages/scipy-1.0.0-py3.6-linux-x86_64.egg/scipy/linalg/basic.py:40: RuntimeWarning: scipy.linalg.solve\n",
      "Ill-conditioned matrix detected. Result is not guaranteed to be accurate.\n",
      "Reciprocal condition number/precision: 2.4591439500559666e-19 / 1.1102230246251565e-16\n",
      "  RuntimeWarning)\n"
     ]
    },
    {
     "name": "stdout",
     "output_type": "stream",
     "text": [
      "Intercept 0.4106215119637381\n",
      "Prediction_local [0.80435001]\n",
      "Right: 0.9264669\n",
      "Intercept 0.42433452735881505\n",
      "Prediction_local [0.7325591]\n",
      "Right: 0.8499174\n"
     ]
    },
    {
     "name": "stderr",
     "output_type": "stream",
     "text": [
      "/opt/oscer/software/Python/3.6.4-foss-2018a/lib/python3.6/site-packages/scipy-1.0.0-py3.6-linux-x86_64.egg/scipy/linalg/basic.py:40: RuntimeWarning: scipy.linalg.solve\n",
      "Ill-conditioned matrix detected. Result is not guaranteed to be accurate.\n",
      "Reciprocal condition number/precision: 1.9813177774721663e-18 / 1.1102230246251565e-16\n",
      "  RuntimeWarning)\n"
     ]
    },
    {
     "name": "stdout",
     "output_type": "stream",
     "text": [
      "Intercept 0.3788177814471135\n",
      "Prediction_local [0.72081166]\n",
      "Right: 0.8346158\n"
     ]
    },
    {
     "name": "stderr",
     "output_type": "stream",
     "text": [
      "/opt/oscer/software/Python/3.6.4-foss-2018a/lib/python3.6/site-packages/scipy-1.0.0-py3.6-linux-x86_64.egg/scipy/linalg/basic.py:40: RuntimeWarning: scipy.linalg.solve\n",
      "Ill-conditioned matrix detected. Result is not guaranteed to be accurate.\n",
      "Reciprocal condition number/precision: 3.544560420626484e-18 / 1.1102230246251565e-16\n",
      "  RuntimeWarning)\n"
     ]
    },
    {
     "name": "stdout",
     "output_type": "stream",
     "text": [
      "Intercept 0.3892561410804815\n",
      "Prediction_local [0.80067982]\n",
      "Right: 0.9454346\n"
     ]
    },
    {
     "name": "stderr",
     "output_type": "stream",
     "text": [
      "/opt/oscer/software/Python/3.6.4-foss-2018a/lib/python3.6/site-packages/scipy-1.0.0-py3.6-linux-x86_64.egg/scipy/linalg/basic.py:40: RuntimeWarning: scipy.linalg.solve\n",
      "Ill-conditioned matrix detected. Result is not guaranteed to be accurate.\n",
      "Reciprocal condition number/precision: 2.3086949861981878e-19 / 1.1102230246251565e-16\n",
      "  RuntimeWarning)\n"
     ]
    },
    {
     "name": "stdout",
     "output_type": "stream",
     "text": [
      "Intercept 0.42542031005543607\n",
      "Prediction_local [0.77143965]\n",
      "Right: 0.92612636\n",
      "Intercept 0.47920209474070014\n",
      "Prediction_local [0.70953236]\n",
      "Right: 0.8320203\n",
      "Intercept 0.4145244385733418\n",
      "Prediction_local [0.73056069]\n",
      "Right: 0.8687587\n",
      "Intercept 0.38105771250772996\n",
      "Prediction_local [0.64767981]\n",
      "Right: 0.74906987\n",
      "Intercept 0.47343527337584557\n",
      "Prediction_local [0.68473739]\n",
      "Right: 0.72956645\n",
      "Intercept 0.39921340814730166\n",
      "Prediction_local [0.59397297]\n",
      "Right: 0.67222786\n"
     ]
    },
    {
     "name": "stderr",
     "output_type": "stream",
     "text": [
      "/opt/oscer/software/Python/3.6.4-foss-2018a/lib/python3.6/site-packages/scipy-1.0.0-py3.6-linux-x86_64.egg/scipy/linalg/basic.py:40: RuntimeWarning: scipy.linalg.solve\n",
      "Ill-conditioned matrix detected. Result is not guaranteed to be accurate.\n",
      "Reciprocal condition number/precision: 2.213849530967953e-18 / 1.1102230246251565e-16\n",
      "  RuntimeWarning)\n"
     ]
    },
    {
     "name": "stdout",
     "output_type": "stream",
     "text": [
      "Intercept 0.41087668377352615\n",
      "Prediction_local [0.69257353]\n",
      "Right: 0.80120856\n",
      "Intercept 0.4244481661421607\n",
      "Prediction_local [0.74542326]\n",
      "Right: 0.8740401\n"
     ]
    },
    {
     "name": "stderr",
     "output_type": "stream",
     "text": [
      "/opt/oscer/software/Python/3.6.4-foss-2018a/lib/python3.6/site-packages/scipy-1.0.0-py3.6-linux-x86_64.egg/scipy/linalg/basic.py:40: RuntimeWarning: scipy.linalg.solve\n",
      "Ill-conditioned matrix detected. Result is not guaranteed to be accurate.\n",
      "Reciprocal condition number/precision: 4.724738070776523e-18 / 1.1102230246251565e-16\n",
      "  RuntimeWarning)\n"
     ]
    },
    {
     "name": "stdout",
     "output_type": "stream",
     "text": [
      "Intercept 0.3643325894588498\n",
      "Prediction_local [0.77164599]\n",
      "Right: 0.9509443\n"
     ]
    },
    {
     "name": "stderr",
     "output_type": "stream",
     "text": [
      "/opt/oscer/software/Python/3.6.4-foss-2018a/lib/python3.6/site-packages/scipy-1.0.0-py3.6-linux-x86_64.egg/scipy/linalg/basic.py:40: RuntimeWarning: scipy.linalg.solve\n",
      "Ill-conditioned matrix detected. Result is not guaranteed to be accurate.\n",
      "Reciprocal condition number/precision: 2.8281405814169076e-19 / 1.1102230246251565e-16\n",
      "  RuntimeWarning)\n"
     ]
    },
    {
     "name": "stdout",
     "output_type": "stream",
     "text": [
      "Intercept 0.4638698986375026\n",
      "Prediction_local [0.68772613]\n",
      "Right: 0.7328628\n"
     ]
    },
    {
     "name": "stderr",
     "output_type": "stream",
     "text": [
      "/opt/oscer/software/Python/3.6.4-foss-2018a/lib/python3.6/site-packages/scipy-1.0.0-py3.6-linux-x86_64.egg/scipy/linalg/basic.py:40: RuntimeWarning: scipy.linalg.solve\n",
      "Ill-conditioned matrix detected. Result is not guaranteed to be accurate.\n",
      "Reciprocal condition number/precision: 3.881202746857008e-18 / 1.1102230246251565e-16\n",
      "  RuntimeWarning)\n"
     ]
    },
    {
     "name": "stdout",
     "output_type": "stream",
     "text": [
      "Intercept 0.47236104454591105\n",
      "Prediction_local [0.74704105]\n",
      "Right: 0.8236004\n",
      "Intercept 0.2947587397798036\n",
      "Prediction_local [0.76664307]\n",
      "Right: 0.86679727\n"
     ]
    },
    {
     "name": "stderr",
     "output_type": "stream",
     "text": [
      "/opt/oscer/software/Python/3.6.4-foss-2018a/lib/python3.6/site-packages/scipy-1.0.0-py3.6-linux-x86_64.egg/scipy/linalg/basic.py:40: RuntimeWarning: scipy.linalg.solve\n",
      "Ill-conditioned matrix detected. Result is not guaranteed to be accurate.\n",
      "Reciprocal condition number/precision: 3.8997228056334325e-18 / 1.1102230246251565e-16\n",
      "  RuntimeWarning)\n"
     ]
    },
    {
     "name": "stdout",
     "output_type": "stream",
     "text": [
      "Intercept 0.4600444086416393\n",
      "Prediction_local [0.86236906]\n",
      "Right: 0.95825016\n",
      "Intercept 0.4062928072698565\n",
      "Prediction_local [0.78618885]\n",
      "Right: 0.9391781\n"
     ]
    },
    {
     "name": "stderr",
     "output_type": "stream",
     "text": [
      "/opt/oscer/software/Python/3.6.4-foss-2018a/lib/python3.6/site-packages/scipy-1.0.0-py3.6-linux-x86_64.egg/scipy/linalg/basic.py:40: RuntimeWarning: scipy.linalg.solve\n",
      "Ill-conditioned matrix detected. Result is not guaranteed to be accurate.\n",
      "Reciprocal condition number/precision: 2.7057837025568845e-18 / 1.1102230246251565e-16\n",
      "  RuntimeWarning)\n"
     ]
    },
    {
     "name": "stdout",
     "output_type": "stream",
     "text": [
      "Intercept 0.4655791422191845\n",
      "Prediction_local [0.84810511]\n",
      "Right: 0.9686072\n",
      "Intercept 0.488891174887815\n",
      "Prediction_local [0.84412537]\n",
      "Right: 0.968041\n",
      "Intercept 0.3344215794030703\n",
      "Prediction_local [0.64018932]\n",
      "Right: 0.7020353\n"
     ]
    },
    {
     "name": "stderr",
     "output_type": "stream",
     "text": [
      "/opt/oscer/software/Python/3.6.4-foss-2018a/lib/python3.6/site-packages/scipy-1.0.0-py3.6-linux-x86_64.egg/scipy/linalg/basic.py:40: RuntimeWarning: scipy.linalg.solve\n",
      "Ill-conditioned matrix detected. Result is not guaranteed to be accurate.\n",
      "Reciprocal condition number/precision: 5.562823559557001e-18 / 1.1102230246251565e-16\n",
      "  RuntimeWarning)\n"
     ]
    },
    {
     "name": "stdout",
     "output_type": "stream",
     "text": [
      "Intercept 0.45080179075611027\n",
      "Prediction_local [0.67047619]\n",
      "Right: 0.79780126\n",
      "Intercept 0.527120278751234\n",
      "Prediction_local [0.71871435]\n",
      "Right: 0.81946087\n",
      "Intercept 0.35104071213732124\n",
      "Prediction_local [0.7431862]\n",
      "Right: 0.8819598\n"
     ]
    },
    {
     "name": "stderr",
     "output_type": "stream",
     "text": [
      "/opt/oscer/software/Python/3.6.4-foss-2018a/lib/python3.6/site-packages/scipy-1.0.0-py3.6-linux-x86_64.egg/scipy/linalg/basic.py:40: RuntimeWarning: scipy.linalg.solve\n",
      "Ill-conditioned matrix detected. Result is not guaranteed to be accurate.\n",
      "Reciprocal condition number/precision: 3.895874144608805e-18 / 1.1102230246251565e-16\n",
      "  RuntimeWarning)\n"
     ]
    },
    {
     "name": "stdout",
     "output_type": "stream",
     "text": [
      "Intercept 0.4924278785623632\n",
      "Prediction_local [0.74758389]\n",
      "Right: 0.92371106\n"
     ]
    },
    {
     "name": "stderr",
     "output_type": "stream",
     "text": [
      "/opt/oscer/software/Python/3.6.4-foss-2018a/lib/python3.6/site-packages/scipy-1.0.0-py3.6-linux-x86_64.egg/scipy/linalg/basic.py:40: RuntimeWarning: scipy.linalg.solve\n",
      "Ill-conditioned matrix detected. Result is not guaranteed to be accurate.\n",
      "Reciprocal condition number/precision: 6.567320220682809e-18 / 1.1102230246251565e-16\n",
      "  RuntimeWarning)\n"
     ]
    },
    {
     "name": "stdout",
     "output_type": "stream",
     "text": [
      "Intercept 0.5183385978987669\n",
      "Prediction_local [0.78159163]\n",
      "Right: 0.91054124\n"
     ]
    },
    {
     "name": "stderr",
     "output_type": "stream",
     "text": [
      "/opt/oscer/software/Python/3.6.4-foss-2018a/lib/python3.6/site-packages/scipy-1.0.0-py3.6-linux-x86_64.egg/scipy/linalg/basic.py:40: RuntimeWarning: scipy.linalg.solve\n",
      "Ill-conditioned matrix detected. Result is not guaranteed to be accurate.\n",
      "Reciprocal condition number/precision: 3.5845979194747586e-18 / 1.1102230246251565e-16\n",
      "  RuntimeWarning)\n"
     ]
    },
    {
     "name": "stdout",
     "output_type": "stream",
     "text": [
      "Intercept 0.48134598706222675\n",
      "Prediction_local [0.64834956]\n",
      "Right: 0.6806317\n",
      "Intercept 0.4237611504113872\n",
      "Prediction_local [0.64409551]\n",
      "Right: 0.6922209\n"
     ]
    },
    {
     "name": "stderr",
     "output_type": "stream",
     "text": [
      "/opt/oscer/software/Python/3.6.4-foss-2018a/lib/python3.6/site-packages/scipy-1.0.0-py3.6-linux-x86_64.egg/scipy/linalg/basic.py:40: RuntimeWarning: scipy.linalg.solve\n",
      "Ill-conditioned matrix detected. Result is not guaranteed to be accurate.\n",
      "Reciprocal condition number/precision: 8.471541923381024e-18 / 1.1102230246251565e-16\n",
      "  RuntimeWarning)\n"
     ]
    },
    {
     "name": "stdout",
     "output_type": "stream",
     "text": [
      "Intercept 0.4123056998730663\n",
      "Prediction_local [0.65854366]\n",
      "Right: 0.7120685\n",
      "Intercept 0.4840699587415975\n",
      "Prediction_local [0.64782549]\n",
      "Right: 0.71984553\n"
     ]
    },
    {
     "name": "stderr",
     "output_type": "stream",
     "text": [
      "/opt/oscer/software/Python/3.6.4-foss-2018a/lib/python3.6/site-packages/scipy-1.0.0-py3.6-linux-x86_64.egg/scipy/linalg/basic.py:40: RuntimeWarning: scipy.linalg.solve\n",
      "Ill-conditioned matrix detected. Result is not guaranteed to be accurate.\n",
      "Reciprocal condition number/precision: 2.2220544473198043e-19 / 1.1102230246251565e-16\n",
      "  RuntimeWarning)\n"
     ]
    },
    {
     "name": "stdout",
     "output_type": "stream",
     "text": [
      "Intercept 0.4576763289701734\n",
      "Prediction_local [0.62967934]\n",
      "Right: 0.69840604\n"
     ]
    },
    {
     "name": "stderr",
     "output_type": "stream",
     "text": [
      "/opt/oscer/software/Python/3.6.4-foss-2018a/lib/python3.6/site-packages/scipy-1.0.0-py3.6-linux-x86_64.egg/scipy/linalg/basic.py:40: RuntimeWarning: scipy.linalg.solve\n",
      "Ill-conditioned matrix detected. Result is not guaranteed to be accurate.\n",
      "Reciprocal condition number/precision: 3.060769227539654e-18 / 1.1102230246251565e-16\n",
      "  RuntimeWarning)\n"
     ]
    },
    {
     "name": "stdout",
     "output_type": "stream",
     "text": [
      "Intercept 0.436138537173122\n",
      "Prediction_local [0.67396748]\n",
      "Right: 0.74628913\n",
      "Intercept 0.4093745512437089\n",
      "Prediction_local [0.73878558]\n",
      "Right: 0.8809114\n"
     ]
    },
    {
     "name": "stderr",
     "output_type": "stream",
     "text": [
      "/opt/oscer/software/Python/3.6.4-foss-2018a/lib/python3.6/site-packages/scipy-1.0.0-py3.6-linux-x86_64.egg/scipy/linalg/basic.py:40: RuntimeWarning: scipy.linalg.solve\n",
      "Ill-conditioned matrix detected. Result is not guaranteed to be accurate.\n",
      "Reciprocal condition number/precision: 2.989447270601134e-18 / 1.1102230246251565e-16\n",
      "  RuntimeWarning)\n"
     ]
    },
    {
     "name": "stdout",
     "output_type": "stream",
     "text": [
      "Intercept 0.4929850205092424\n",
      "Prediction_local [0.60658079]\n",
      "Right: 0.68795395\n",
      "Intercept 0.3802467717470032\n",
      "Prediction_local [0.7911476]\n",
      "Right: 0.8607195\n",
      "Intercept 0.38064666213003506\n",
      "Prediction_local [0.64575107]\n",
      "Right: 0.68059576\n",
      "Intercept 0.35333258443713933\n",
      "Prediction_local [0.83400118]\n",
      "Right: 0.94453466\n",
      "Intercept 0.2879378862856196\n",
      "Prediction_local [0.75469258]\n",
      "Right: 0.87163794\n"
     ]
    },
    {
     "name": "stderr",
     "output_type": "stream",
     "text": [
      "/opt/oscer/software/Python/3.6.4-foss-2018a/lib/python3.6/site-packages/scipy-1.0.0-py3.6-linux-x86_64.egg/scipy/linalg/basic.py:40: RuntimeWarning: scipy.linalg.solve\n",
      "Ill-conditioned matrix detected. Result is not guaranteed to be accurate.\n",
      "Reciprocal condition number/precision: 9.501631776356015e-19 / 1.1102230246251565e-16\n",
      "  RuntimeWarning)\n"
     ]
    },
    {
     "name": "stdout",
     "output_type": "stream",
     "text": [
      "Intercept 0.3688975986748675\n",
      "Prediction_local [0.68032397]\n",
      "Right: 0.7718002\n",
      "Intercept 0.42413508425056795\n",
      "Prediction_local [0.76579695]\n",
      "Right: 0.9228115\n"
     ]
    },
    {
     "name": "stderr",
     "output_type": "stream",
     "text": [
      "/opt/oscer/software/Python/3.6.4-foss-2018a/lib/python3.6/site-packages/scipy-1.0.0-py3.6-linux-x86_64.egg/scipy/linalg/basic.py:40: RuntimeWarning: scipy.linalg.solve\n",
      "Ill-conditioned matrix detected. Result is not guaranteed to be accurate.\n",
      "Reciprocal condition number/precision: 6.17167382360798e-18 / 1.1102230246251565e-16\n",
      "  RuntimeWarning)\n"
     ]
    },
    {
     "name": "stdout",
     "output_type": "stream",
     "text": [
      "Intercept 0.39431834178209374\n",
      "Prediction_local [0.63145464]\n",
      "Right: 0.68485075\n",
      "Intercept 0.3405381683706615\n",
      "Prediction_local [0.75799452]\n",
      "Right: 0.9269945\n",
      "Intercept 0.4227019400530281\n",
      "Prediction_local [0.74717584]\n",
      "Right: 0.76095515\n",
      "Intercept 0.3731322097793129\n",
      "Prediction_local [0.73611134]\n",
      "Right: 0.8992983\n"
     ]
    },
    {
     "name": "stderr",
     "output_type": "stream",
     "text": [
      "/opt/oscer/software/Python/3.6.4-foss-2018a/lib/python3.6/site-packages/scipy-1.0.0-py3.6-linux-x86_64.egg/scipy/linalg/basic.py:40: RuntimeWarning: scipy.linalg.solve\n",
      "Ill-conditioned matrix detected. Result is not guaranteed to be accurate.\n",
      "Reciprocal condition number/precision: 2.0681576271134177e-18 / 1.1102230246251565e-16\n",
      "  RuntimeWarning)\n"
     ]
    },
    {
     "name": "stdout",
     "output_type": "stream",
     "text": [
      "Intercept 0.43952905746610066\n",
      "Prediction_local [0.75824551]\n",
      "Right: 0.8724738\n"
     ]
    },
    {
     "name": "stderr",
     "output_type": "stream",
     "text": [
      "/opt/oscer/software/Python/3.6.4-foss-2018a/lib/python3.6/site-packages/scipy-1.0.0-py3.6-linux-x86_64.egg/scipy/linalg/basic.py:40: RuntimeWarning: scipy.linalg.solve\n",
      "Ill-conditioned matrix detected. Result is not guaranteed to be accurate.\n",
      "Reciprocal condition number/precision: 8.503552706196011e-19 / 1.1102230246251565e-16\n",
      "  RuntimeWarning)\n"
     ]
    },
    {
     "name": "stdout",
     "output_type": "stream",
     "text": [
      "Intercept 0.3023717164387385\n",
      "Prediction_local [0.79603216]\n",
      "Right: 0.961789\n",
      "Intercept 0.46989576210244\n",
      "Prediction_local [0.65334824]\n",
      "Right: 0.6995997\n",
      "Intercept 0.3226079634203579\n",
      "Prediction_local [0.79301944]\n",
      "Right: 0.95150644\n"
     ]
    },
    {
     "name": "stderr",
     "output_type": "stream",
     "text": [
      "/opt/oscer/software/Python/3.6.4-foss-2018a/lib/python3.6/site-packages/scipy-1.0.0-py3.6-linux-x86_64.egg/scipy/linalg/basic.py:40: RuntimeWarning: scipy.linalg.solve\n",
      "Ill-conditioned matrix detected. Result is not guaranteed to be accurate.\n",
      "Reciprocal condition number/precision: 8.544080054159368e-18 / 1.1102230246251565e-16\n",
      "  RuntimeWarning)\n"
     ]
    },
    {
     "name": "stdout",
     "output_type": "stream",
     "text": [
      "Intercept 0.3580203077757757\n",
      "Prediction_local [0.7313276]\n",
      "Right: 0.8777751\n"
     ]
    },
    {
     "name": "stderr",
     "output_type": "stream",
     "text": [
      "/opt/oscer/software/Python/3.6.4-foss-2018a/lib/python3.6/site-packages/scipy-1.0.0-py3.6-linux-x86_64.egg/scipy/linalg/basic.py:40: RuntimeWarning: scipy.linalg.solve\n",
      "Ill-conditioned matrix detected. Result is not guaranteed to be accurate.\n",
      "Reciprocal condition number/precision: 1.4575553793193323e-18 / 1.1102230246251565e-16\n",
      "  RuntimeWarning)\n"
     ]
    },
    {
     "name": "stdout",
     "output_type": "stream",
     "text": [
      "Intercept 0.4068518438721692\n",
      "Prediction_local [0.62320474]\n",
      "Right: 0.6909207\n"
     ]
    },
    {
     "name": "stderr",
     "output_type": "stream",
     "text": [
      "/opt/oscer/software/Python/3.6.4-foss-2018a/lib/python3.6/site-packages/scipy-1.0.0-py3.6-linux-x86_64.egg/scipy/linalg/basic.py:40: RuntimeWarning: scipy.linalg.solve\n",
      "Ill-conditioned matrix detected. Result is not guaranteed to be accurate.\n",
      "Reciprocal condition number/precision: 1.8063508904453995e-21 / 1.1102230246251565e-16\n",
      "  RuntimeWarning)\n"
     ]
    },
    {
     "name": "stdout",
     "output_type": "stream",
     "text": [
      "Intercept 0.3918824669593602\n",
      "Prediction_local [0.69113922]\n",
      "Right: 0.7302635\n",
      "Intercept 0.42314208881164894\n",
      "Prediction_local [0.71098425]\n",
      "Right: 0.79331815\n"
     ]
    },
    {
     "name": "stderr",
     "output_type": "stream",
     "text": [
      "/opt/oscer/software/Python/3.6.4-foss-2018a/lib/python3.6/site-packages/scipy-1.0.0-py3.6-linux-x86_64.egg/scipy/linalg/basic.py:40: RuntimeWarning: scipy.linalg.solve\n",
      "Ill-conditioned matrix detected. Result is not guaranteed to be accurate.\n",
      "Reciprocal condition number/precision: 6.94860458467071e-19 / 1.1102230246251565e-16\n",
      "  RuntimeWarning)\n"
     ]
    },
    {
     "name": "stdout",
     "output_type": "stream",
     "text": [
      "Intercept 0.4892607804654248\n",
      "Prediction_local [0.66767966]\n",
      "Right: 0.71419364\n"
     ]
    },
    {
     "name": "stderr",
     "output_type": "stream",
     "text": [
      "/opt/oscer/software/Python/3.6.4-foss-2018a/lib/python3.6/site-packages/scipy-1.0.0-py3.6-linux-x86_64.egg/scipy/linalg/basic.py:40: RuntimeWarning: scipy.linalg.solve\n",
      "Ill-conditioned matrix detected. Result is not guaranteed to be accurate.\n",
      "Reciprocal condition number/precision: 1.722190199700773e-18 / 1.1102230246251565e-16\n",
      "  RuntimeWarning)\n"
     ]
    },
    {
     "name": "stdout",
     "output_type": "stream",
     "text": [
      "Intercept 0.37055276732031633\n",
      "Prediction_local [0.84123647]\n",
      "Right: 0.9563651\n"
     ]
    },
    {
     "name": "stderr",
     "output_type": "stream",
     "text": [
      "/opt/oscer/software/Python/3.6.4-foss-2018a/lib/python3.6/site-packages/scipy-1.0.0-py3.6-linux-x86_64.egg/scipy/linalg/basic.py:40: RuntimeWarning: scipy.linalg.solve\n",
      "Ill-conditioned matrix detected. Result is not guaranteed to be accurate.\n",
      "Reciprocal condition number/precision: 4.4945332336973156e-18 / 1.1102230246251565e-16\n",
      "  RuntimeWarning)\n"
     ]
    },
    {
     "name": "stdout",
     "output_type": "stream",
     "text": [
      "Intercept 0.3982917770964417\n",
      "Prediction_local [0.70708033]\n",
      "Right: 0.77753687\n",
      "Intercept 0.40613639966420534\n",
      "Prediction_local [0.79293432]\n",
      "Right: 0.95991796\n"
     ]
    },
    {
     "name": "stderr",
     "output_type": "stream",
     "text": [
      "/opt/oscer/software/Python/3.6.4-foss-2018a/lib/python3.6/site-packages/scipy-1.0.0-py3.6-linux-x86_64.egg/scipy/linalg/basic.py:40: RuntimeWarning: scipy.linalg.solve\n",
      "Ill-conditioned matrix detected. Result is not guaranteed to be accurate.\n",
      "Reciprocal condition number/precision: 1.1959467387789908e-18 / 1.1102230246251565e-16\n",
      "  RuntimeWarning)\n"
     ]
    },
    {
     "name": "stdout",
     "output_type": "stream",
     "text": [
      "Intercept 0.4378842243147456\n",
      "Prediction_local [0.68039316]\n",
      "Right: 0.7590134\n"
     ]
    },
    {
     "name": "stderr",
     "output_type": "stream",
     "text": [
      "/opt/oscer/software/Python/3.6.4-foss-2018a/lib/python3.6/site-packages/scipy-1.0.0-py3.6-linux-x86_64.egg/scipy/linalg/basic.py:40: RuntimeWarning: scipy.linalg.solve\n",
      "Ill-conditioned matrix detected. Result is not guaranteed to be accurate.\n",
      "Reciprocal condition number/precision: 3.673263585676138e-18 / 1.1102230246251565e-16\n",
      "  RuntimeWarning)\n"
     ]
    },
    {
     "name": "stdout",
     "output_type": "stream",
     "text": [
      "Intercept 0.36923574076886273\n",
      "Prediction_local [0.70348266]\n",
      "Right: 0.8316779\n"
     ]
    },
    {
     "name": "stderr",
     "output_type": "stream",
     "text": [
      "/opt/oscer/software/Python/3.6.4-foss-2018a/lib/python3.6/site-packages/scipy-1.0.0-py3.6-linux-x86_64.egg/scipy/linalg/basic.py:40: RuntimeWarning: scipy.linalg.solve\n",
      "Ill-conditioned matrix detected. Result is not guaranteed to be accurate.\n",
      "Reciprocal condition number/precision: 2.6971372060236704e-18 / 1.1102230246251565e-16\n",
      "  RuntimeWarning)\n"
     ]
    },
    {
     "name": "stdout",
     "output_type": "stream",
     "text": [
      "Intercept 0.5412252214959496\n",
      "Prediction_local [0.58301526]\n",
      "Right: 0.69040525\n"
     ]
    },
    {
     "name": "stderr",
     "output_type": "stream",
     "text": [
      "/opt/oscer/software/Python/3.6.4-foss-2018a/lib/python3.6/site-packages/scipy-1.0.0-py3.6-linux-x86_64.egg/scipy/linalg/basic.py:40: RuntimeWarning: scipy.linalg.solve\n",
      "Ill-conditioned matrix detected. Result is not guaranteed to be accurate.\n",
      "Reciprocal condition number/precision: 2.2133165639642115e-18 / 1.1102230246251565e-16\n",
      "  RuntimeWarning)\n"
     ]
    },
    {
     "name": "stdout",
     "output_type": "stream",
     "text": [
      "Intercept 0.40654248787132274\n",
      "Prediction_local [0.61411144]\n",
      "Right: 0.71462744\n",
      "Intercept 0.42837917593179103\n",
      "Prediction_local [0.67948632]\n",
      "Right: 0.7140168\n",
      "Intercept 0.30513686185595024\n",
      "Prediction_local [0.79467621]\n",
      "Right: 0.9610991\n"
     ]
    },
    {
     "name": "stderr",
     "output_type": "stream",
     "text": [
      "/opt/oscer/software/Python/3.6.4-foss-2018a/lib/python3.6/site-packages/scipy-1.0.0-py3.6-linux-x86_64.egg/scipy/linalg/basic.py:40: RuntimeWarning: scipy.linalg.solve\n",
      "Ill-conditioned matrix detected. Result is not guaranteed to be accurate.\n",
      "Reciprocal condition number/precision: 5.028697102829269e-18 / 1.1102230246251565e-16\n",
      "  RuntimeWarning)\n"
     ]
    },
    {
     "name": "stdout",
     "output_type": "stream",
     "text": [
      "Intercept 0.3949469818977514\n",
      "Prediction_local [0.72185594]\n",
      "Right: 0.8163229\n",
      "Intercept 0.3590913545986528\n",
      "Prediction_local [0.84779731]\n",
      "Right: 0.96705973\n"
     ]
    },
    {
     "name": "stderr",
     "output_type": "stream",
     "text": [
      "/opt/oscer/software/Python/3.6.4-foss-2018a/lib/python3.6/site-packages/scipy-1.0.0-py3.6-linux-x86_64.egg/scipy/linalg/basic.py:40: RuntimeWarning: scipy.linalg.solve\n",
      "Ill-conditioned matrix detected. Result is not guaranteed to be accurate.\n",
      "Reciprocal condition number/precision: 8.845956704818397e-18 / 1.1102230246251565e-16\n",
      "  RuntimeWarning)\n"
     ]
    },
    {
     "name": "stdout",
     "output_type": "stream",
     "text": [
      "Intercept 0.5030273418678886\n",
      "Prediction_local [0.65728918]\n",
      "Right: 0.68318194\n"
     ]
    },
    {
     "name": "stderr",
     "output_type": "stream",
     "text": [
      "/opt/oscer/software/Python/3.6.4-foss-2018a/lib/python3.6/site-packages/scipy-1.0.0-py3.6-linux-x86_64.egg/scipy/linalg/basic.py:40: RuntimeWarning: scipy.linalg.solve\n",
      "Ill-conditioned matrix detected. Result is not guaranteed to be accurate.\n",
      "Reciprocal condition number/precision: 3.0969884043743777e-19 / 1.1102230246251565e-16\n",
      "  RuntimeWarning)\n"
     ]
    },
    {
     "name": "stdout",
     "output_type": "stream",
     "text": [
      "Intercept 0.39642103221740443\n",
      "Prediction_local [0.73314543]\n",
      "Right: 0.8715252\n"
     ]
    },
    {
     "name": "stderr",
     "output_type": "stream",
     "text": [
      "/opt/oscer/software/Python/3.6.4-foss-2018a/lib/python3.6/site-packages/scipy-1.0.0-py3.6-linux-x86_64.egg/scipy/linalg/basic.py:40: RuntimeWarning: scipy.linalg.solve\n",
      "Ill-conditioned matrix detected. Result is not guaranteed to be accurate.\n",
      "Reciprocal condition number/precision: 7.59723338632827e-19 / 1.1102230246251565e-16\n",
      "  RuntimeWarning)\n"
     ]
    },
    {
     "name": "stdout",
     "output_type": "stream",
     "text": [
      "Intercept 0.35328648554534636\n",
      "Prediction_local [0.86006742]\n",
      "Right: 0.93798417\n"
     ]
    },
    {
     "name": "stderr",
     "output_type": "stream",
     "text": [
      "/opt/oscer/software/Python/3.6.4-foss-2018a/lib/python3.6/site-packages/scipy-1.0.0-py3.6-linux-x86_64.egg/scipy/linalg/basic.py:40: RuntimeWarning: scipy.linalg.solve\n",
      "Ill-conditioned matrix detected. Result is not guaranteed to be accurate.\n",
      "Reciprocal condition number/precision: 3.655343281635156e-18 / 1.1102230246251565e-16\n",
      "  RuntimeWarning)\n"
     ]
    },
    {
     "name": "stdout",
     "output_type": "stream",
     "text": [
      "Intercept 0.493095989174472\n",
      "Prediction_local [0.60356852]\n",
      "Right: 0.6762559\n",
      "Intercept 0.3953967460421036\n",
      "Prediction_local [0.82420245]\n",
      "Right: 0.97689986\n"
     ]
    },
    {
     "name": "stderr",
     "output_type": "stream",
     "text": [
      "/opt/oscer/software/Python/3.6.4-foss-2018a/lib/python3.6/site-packages/scipy-1.0.0-py3.6-linux-x86_64.egg/scipy/linalg/basic.py:40: RuntimeWarning: scipy.linalg.solve\n",
      "Ill-conditioned matrix detected. Result is not guaranteed to be accurate.\n",
      "Reciprocal condition number/precision: 2.936844337934095e-18 / 1.1102230246251565e-16\n",
      "  RuntimeWarning)\n"
     ]
    },
    {
     "name": "stdout",
     "output_type": "stream",
     "text": [
      "Intercept 0.4031295065091859\n",
      "Prediction_local [0.74159511]\n",
      "Right: 0.88565606\n"
     ]
    },
    {
     "name": "stderr",
     "output_type": "stream",
     "text": [
      "/opt/oscer/software/Python/3.6.4-foss-2018a/lib/python3.6/site-packages/scipy-1.0.0-py3.6-linux-x86_64.egg/scipy/linalg/basic.py:40: RuntimeWarning: scipy.linalg.solve\n",
      "Ill-conditioned matrix detected. Result is not guaranteed to be accurate.\n",
      "Reciprocal condition number/precision: 1.2495061374044202e-17 / 1.1102230246251565e-16\n",
      "  RuntimeWarning)\n"
     ]
    },
    {
     "name": "stdout",
     "output_type": "stream",
     "text": [
      "Intercept 0.4629912558934851\n",
      "Prediction_local [0.62211567]\n",
      "Right: 0.6745349\n"
     ]
    },
    {
     "name": "stderr",
     "output_type": "stream",
     "text": [
      "/opt/oscer/software/Python/3.6.4-foss-2018a/lib/python3.6/site-packages/scipy-1.0.0-py3.6-linux-x86_64.egg/scipy/linalg/basic.py:40: RuntimeWarning: scipy.linalg.solve\n",
      "Ill-conditioned matrix detected. Result is not guaranteed to be accurate.\n",
      "Reciprocal condition number/precision: 9.493748020458165e-19 / 1.1102230246251565e-16\n",
      "  RuntimeWarning)\n"
     ]
    },
    {
     "name": "stdout",
     "output_type": "stream",
     "text": [
      "Intercept 0.40895603062720004\n",
      "Prediction_local [0.74885667]\n",
      "Right: 0.9149003\n"
     ]
    },
    {
     "name": "stderr",
     "output_type": "stream",
     "text": [
      "/opt/oscer/software/Python/3.6.4-foss-2018a/lib/python3.6/site-packages/scipy-1.0.0-py3.6-linux-x86_64.egg/scipy/linalg/basic.py:40: RuntimeWarning: scipy.linalg.solve\n",
      "Ill-conditioned matrix detected. Result is not guaranteed to be accurate.\n",
      "Reciprocal condition number/precision: 7.581938676063469e-19 / 1.1102230246251565e-16\n",
      "  RuntimeWarning)\n"
     ]
    },
    {
     "name": "stdout",
     "output_type": "stream",
     "text": [
      "Intercept 0.3636690570537898\n",
      "Prediction_local [0.76070037]\n",
      "Right: 0.8897607\n",
      "Intercept 0.4455234225458381\n",
      "Prediction_local [0.87669231]\n",
      "Right: 0.974059\n",
      "Intercept 0.3848635467956613\n",
      "Prediction_local [0.69511586]\n",
      "Right: 0.8005549\n"
     ]
    },
    {
     "name": "stderr",
     "output_type": "stream",
     "text": [
      "/opt/oscer/software/Python/3.6.4-foss-2018a/lib/python3.6/site-packages/scipy-1.0.0-py3.6-linux-x86_64.egg/scipy/linalg/basic.py:40: RuntimeWarning: scipy.linalg.solve\n",
      "Ill-conditioned matrix detected. Result is not guaranteed to be accurate.\n",
      "Reciprocal condition number/precision: 6.12908499986453e-18 / 1.1102230246251565e-16\n",
      "  RuntimeWarning)\n"
     ]
    },
    {
     "name": "stdout",
     "output_type": "stream",
     "text": [
      "Intercept 0.38922109473529765\n",
      "Prediction_local [0.70465905]\n",
      "Right: 0.77248985\n",
      "Intercept 0.37333953255874336\n",
      "Prediction_local [0.81570482]\n",
      "Right: 0.95666754\n",
      "Intercept 0.4280424499183929\n",
      "Prediction_local [0.66770347]\n",
      "Right: 0.81237936\n",
      "Intercept 0.47081065997682076\n",
      "Prediction_local [0.62383083]\n",
      "Right: 0.6953294\n",
      "Intercept 0.3621132611285809\n",
      "Prediction_local [0.71858475]\n",
      "Right: 0.8638532\n"
     ]
    },
    {
     "name": "stderr",
     "output_type": "stream",
     "text": [
      "/opt/oscer/software/Python/3.6.4-foss-2018a/lib/python3.6/site-packages/scipy-1.0.0-py3.6-linux-x86_64.egg/scipy/linalg/basic.py:40: RuntimeWarning: scipy.linalg.solve\n",
      "Ill-conditioned matrix detected. Result is not guaranteed to be accurate.\n",
      "Reciprocal condition number/precision: 2.5139340183052135e-18 / 1.1102230246251565e-16\n",
      "  RuntimeWarning)\n"
     ]
    },
    {
     "name": "stdout",
     "output_type": "stream",
     "text": [
      "Intercept 0.37023248711392065\n",
      "Prediction_local [0.74770348]\n",
      "Right: 0.9565108\n"
     ]
    },
    {
     "name": "stderr",
     "output_type": "stream",
     "text": [
      "/opt/oscer/software/Python/3.6.4-foss-2018a/lib/python3.6/site-packages/scipy-1.0.0-py3.6-linux-x86_64.egg/scipy/linalg/basic.py:40: RuntimeWarning: scipy.linalg.solve\n",
      "Ill-conditioned matrix detected. Result is not guaranteed to be accurate.\n",
      "Reciprocal condition number/precision: 2.28257720945392e-19 / 1.1102230246251565e-16\n",
      "  RuntimeWarning)\n"
     ]
    },
    {
     "name": "stdout",
     "output_type": "stream",
     "text": [
      "Intercept 0.32902995057500245\n",
      "Prediction_local [0.68330923]\n",
      "Right: 0.8189218\n",
      "Intercept 0.5120734725887855\n",
      "Prediction_local [0.62418339]\n",
      "Right: 0.6864512\n",
      "Intercept 0.2969712178392381\n",
      "Prediction_local [0.61113416]\n",
      "Right: 0.74245155\n"
     ]
    },
    {
     "name": "stderr",
     "output_type": "stream",
     "text": [
      "/opt/oscer/software/Python/3.6.4-foss-2018a/lib/python3.6/site-packages/scipy-1.0.0-py3.6-linux-x86_64.egg/scipy/linalg/basic.py:40: RuntimeWarning: scipy.linalg.solve\n",
      "Ill-conditioned matrix detected. Result is not guaranteed to be accurate.\n",
      "Reciprocal condition number/precision: 4.583515609076518e-18 / 1.1102230246251565e-16\n",
      "  RuntimeWarning)\n"
     ]
    },
    {
     "name": "stdout",
     "output_type": "stream",
     "text": [
      "Intercept 0.3605723456890674\n",
      "Prediction_local [0.81667845]\n",
      "Right: 0.9689338\n",
      "Intercept 0.37522052840553327\n",
      "Prediction_local [0.85578834]\n",
      "Right: 0.96328884\n",
      "Intercept 0.4309076005956767\n",
      "Prediction_local [0.71893259]\n",
      "Right: 0.8633014\n"
     ]
    },
    {
     "name": "stderr",
     "output_type": "stream",
     "text": [
      "/opt/oscer/software/Python/3.6.4-foss-2018a/lib/python3.6/site-packages/scipy-1.0.0-py3.6-linux-x86_64.egg/scipy/linalg/basic.py:40: RuntimeWarning: scipy.linalg.solve\n",
      "Ill-conditioned matrix detected. Result is not guaranteed to be accurate.\n",
      "Reciprocal condition number/precision: 3.2494723424437206e-18 / 1.1102230246251565e-16\n",
      "  RuntimeWarning)\n"
     ]
    },
    {
     "name": "stdout",
     "output_type": "stream",
     "text": [
      "Intercept 0.29065543603868393\n",
      "Prediction_local [0.78382646]\n",
      "Right: 0.8983933\n",
      "Intercept 0.3883565423082741\n",
      "Prediction_local [0.62926793]\n",
      "Right: 0.6856207\n",
      "Intercept 0.41769725050514095\n",
      "Prediction_local [0.64954527]\n",
      "Right: 0.71552163\n",
      "Intercept 0.40990515300546804\n",
      "Prediction_local [0.80928907]\n",
      "Right: 0.94302076\n"
     ]
    },
    {
     "name": "stderr",
     "output_type": "stream",
     "text": [
      "/opt/oscer/software/Python/3.6.4-foss-2018a/lib/python3.6/site-packages/scipy-1.0.0-py3.6-linux-x86_64.egg/scipy/linalg/basic.py:40: RuntimeWarning: scipy.linalg.solve\n",
      "Ill-conditioned matrix detected. Result is not guaranteed to be accurate.\n",
      "Reciprocal condition number/precision: 4.139586219283683e-18 / 1.1102230246251565e-16\n",
      "  RuntimeWarning)\n"
     ]
    },
    {
     "name": "stdout",
     "output_type": "stream",
     "text": [
      "Intercept 0.4761709003936909\n",
      "Prediction_local [0.63608255]\n",
      "Right: 0.71435344\n",
      "Intercept 0.37886568690857947\n",
      "Prediction_local [0.65477326]\n",
      "Right: 0.72725976\n"
     ]
    },
    {
     "name": "stderr",
     "output_type": "stream",
     "text": [
      "/opt/oscer/software/Python/3.6.4-foss-2018a/lib/python3.6/site-packages/scipy-1.0.0-py3.6-linux-x86_64.egg/scipy/linalg/basic.py:40: RuntimeWarning: scipy.linalg.solve\n",
      "Ill-conditioned matrix detected. Result is not guaranteed to be accurate.\n",
      "Reciprocal condition number/precision: 2.180430118758431e-18 / 1.1102230246251565e-16\n",
      "  RuntimeWarning)\n"
     ]
    },
    {
     "name": "stdout",
     "output_type": "stream",
     "text": [
      "Intercept 0.49195458087472316\n",
      "Prediction_local [0.82474614]\n",
      "Right: 0.88098705\n",
      "Intercept 0.39280844500157336\n",
      "Prediction_local [0.77752198]\n",
      "Right: 0.8890914\n"
     ]
    },
    {
     "name": "stderr",
     "output_type": "stream",
     "text": [
      "/opt/oscer/software/Python/3.6.4-foss-2018a/lib/python3.6/site-packages/scipy-1.0.0-py3.6-linux-x86_64.egg/scipy/linalg/basic.py:40: RuntimeWarning: scipy.linalg.solve\n",
      "Ill-conditioned matrix detected. Result is not guaranteed to be accurate.\n",
      "Reciprocal condition number/precision: 1.4428683184215392e-19 / 1.1102230246251565e-16\n",
      "  RuntimeWarning)\n"
     ]
    },
    {
     "name": "stdout",
     "output_type": "stream",
     "text": [
      "Intercept 0.4798096467536372\n",
      "Prediction_local [0.83957772]\n",
      "Right: 0.9022457\n",
      "Intercept 0.41375664764746406\n",
      "Prediction_local [0.65835324]\n",
      "Right: 0.7532146\n",
      "Intercept 0.42293340635793353\n",
      "Prediction_local [0.71853142]\n",
      "Right: 0.8516237\n"
     ]
    },
    {
     "name": "stderr",
     "output_type": "stream",
     "text": [
      "/opt/oscer/software/Python/3.6.4-foss-2018a/lib/python3.6/site-packages/scipy-1.0.0-py3.6-linux-x86_64.egg/scipy/linalg/basic.py:40: RuntimeWarning: scipy.linalg.solve\n",
      "Ill-conditioned matrix detected. Result is not guaranteed to be accurate.\n",
      "Reciprocal condition number/precision: 2.3355585909611674e-18 / 1.1102230246251565e-16\n",
      "  RuntimeWarning)\n"
     ]
    },
    {
     "name": "stdout",
     "output_type": "stream",
     "text": [
      "Intercept 0.4034755582474579\n",
      "Prediction_local [0.6490418]\n",
      "Right: 0.7431129\n",
      "Intercept 0.5048796379027098\n",
      "Prediction_local [0.6740786]\n",
      "Right: 0.74891925\n",
      "Intercept 0.4348133030373824\n",
      "Prediction_local [0.80202283]\n",
      "Right: 0.8906739\n"
     ]
    },
    {
     "name": "stderr",
     "output_type": "stream",
     "text": [
      "/opt/oscer/software/Python/3.6.4-foss-2018a/lib/python3.6/site-packages/scipy-1.0.0-py3.6-linux-x86_64.egg/scipy/linalg/basic.py:40: RuntimeWarning: scipy.linalg.solve\n",
      "Ill-conditioned matrix detected. Result is not guaranteed to be accurate.\n",
      "Reciprocal condition number/precision: 3.3975450222510812e-18 / 1.1102230246251565e-16\n",
      "  RuntimeWarning)\n"
     ]
    },
    {
     "name": "stdout",
     "output_type": "stream",
     "text": [
      "Intercept 0.38969826070868824\n",
      "Prediction_local [0.76089797]\n",
      "Right: 0.8776195\n",
      "Intercept 0.39588006634025424\n",
      "Prediction_local [0.7303856]\n",
      "Right: 0.83320695\n"
     ]
    },
    {
     "name": "stderr",
     "output_type": "stream",
     "text": [
      "/opt/oscer/software/Python/3.6.4-foss-2018a/lib/python3.6/site-packages/scipy-1.0.0-py3.6-linux-x86_64.egg/scipy/linalg/basic.py:40: RuntimeWarning: scipy.linalg.solve\n",
      "Ill-conditioned matrix detected. Result is not guaranteed to be accurate.\n",
      "Reciprocal condition number/precision: 3.565813187589478e-18 / 1.1102230246251565e-16\n",
      "  RuntimeWarning)\n"
     ]
    },
    {
     "name": "stdout",
     "output_type": "stream",
     "text": [
      "Intercept 0.461047085293882\n",
      "Prediction_local [0.65635555]\n",
      "Right: 0.6879386\n"
     ]
    },
    {
     "name": "stderr",
     "output_type": "stream",
     "text": [
      "/opt/oscer/software/Python/3.6.4-foss-2018a/lib/python3.6/site-packages/scipy-1.0.0-py3.6-linux-x86_64.egg/scipy/linalg/basic.py:40: RuntimeWarning: scipy.linalg.solve\n",
      "Ill-conditioned matrix detected. Result is not guaranteed to be accurate.\n",
      "Reciprocal condition number/precision: 2.320163789804406e-19 / 1.1102230246251565e-16\n",
      "  RuntimeWarning)\n"
     ]
    },
    {
     "name": "stdout",
     "output_type": "stream",
     "text": [
      "Intercept 0.4838460495000907\n",
      "Prediction_local [0.63801303]\n",
      "Right: 0.74418294\n",
      "Intercept 0.444481887983203\n",
      "Prediction_local [0.69091996]\n",
      "Right: 0.73557407\n"
     ]
    },
    {
     "name": "stderr",
     "output_type": "stream",
     "text": [
      "/opt/oscer/software/Python/3.6.4-foss-2018a/lib/python3.6/site-packages/scipy-1.0.0-py3.6-linux-x86_64.egg/scipy/linalg/basic.py:40: RuntimeWarning: scipy.linalg.solve\n",
      "Ill-conditioned matrix detected. Result is not guaranteed to be accurate.\n",
      "Reciprocal condition number/precision: 4.910575586583223e-18 / 1.1102230246251565e-16\n",
      "  RuntimeWarning)\n"
     ]
    },
    {
     "name": "stdout",
     "output_type": "stream",
     "text": [
      "Intercept 0.4432603071159922\n",
      "Prediction_local [0.65616343]\n",
      "Right: 0.76179653\n"
     ]
    },
    {
     "name": "stderr",
     "output_type": "stream",
     "text": [
      "/opt/oscer/software/Python/3.6.4-foss-2018a/lib/python3.6/site-packages/scipy-1.0.0-py3.6-linux-x86_64.egg/scipy/linalg/basic.py:40: RuntimeWarning: scipy.linalg.solve\n",
      "Ill-conditioned matrix detected. Result is not guaranteed to be accurate.\n",
      "Reciprocal condition number/precision: 2.9754204155537875e-18 / 1.1102230246251565e-16\n",
      "  RuntimeWarning)\n"
     ]
    },
    {
     "name": "stdout",
     "output_type": "stream",
     "text": [
      "Intercept 0.3898908931750113\n",
      "Prediction_local [0.59785623]\n",
      "Right: 0.713475\n",
      "Intercept 0.4893953794549707\n",
      "Prediction_local [0.71258597]\n",
      "Right: 0.82844114\n",
      "Intercept 0.4610112158112279\n",
      "Prediction_local [0.6658083]\n",
      "Right: 0.73017406\n"
     ]
    },
    {
     "name": "stderr",
     "output_type": "stream",
     "text": [
      "/opt/oscer/software/Python/3.6.4-foss-2018a/lib/python3.6/site-packages/scipy-1.0.0-py3.6-linux-x86_64.egg/scipy/linalg/basic.py:40: RuntimeWarning: scipy.linalg.solve\n",
      "Ill-conditioned matrix detected. Result is not guaranteed to be accurate.\n",
      "Reciprocal condition number/precision: 7.85568476211448e-18 / 1.1102230246251565e-16\n",
      "  RuntimeWarning)\n"
     ]
    },
    {
     "name": "stdout",
     "output_type": "stream",
     "text": [
      "Intercept 0.28106741528596113\n",
      "Prediction_local [0.75761644]\n",
      "Right: 0.9165344\n",
      "Intercept 0.396377283986466\n",
      "Prediction_local [0.60242677]\n",
      "Right: 0.6751082\n",
      "Intercept 0.32742739272317906\n",
      "Prediction_local [0.7278086]\n",
      "Right: 0.86112875\n"
     ]
    },
    {
     "name": "stderr",
     "output_type": "stream",
     "text": [
      "/opt/oscer/software/Python/3.6.4-foss-2018a/lib/python3.6/site-packages/scipy-1.0.0-py3.6-linux-x86_64.egg/scipy/linalg/basic.py:40: RuntimeWarning: scipy.linalg.solve\n",
      "Ill-conditioned matrix detected. Result is not guaranteed to be accurate.\n",
      "Reciprocal condition number/precision: 8.991167924382178e-18 / 1.1102230246251565e-16\n",
      "  RuntimeWarning)\n"
     ]
    },
    {
     "name": "stdout",
     "output_type": "stream",
     "text": [
      "Intercept 0.4148486603899921\n",
      "Prediction_local [0.7100542]\n",
      "Right: 0.83943534\n"
     ]
    },
    {
     "name": "stderr",
     "output_type": "stream",
     "text": [
      "/opt/oscer/software/Python/3.6.4-foss-2018a/lib/python3.6/site-packages/scipy-1.0.0-py3.6-linux-x86_64.egg/scipy/linalg/basic.py:40: RuntimeWarning: scipy.linalg.solve\n",
      "Ill-conditioned matrix detected. Result is not guaranteed to be accurate.\n",
      "Reciprocal condition number/precision: 1.9402162012223828e-19 / 1.1102230246251565e-16\n",
      "  RuntimeWarning)\n"
     ]
    },
    {
     "name": "stdout",
     "output_type": "stream",
     "text": [
      "Intercept 0.3810763579466363\n",
      "Prediction_local [0.69769461]\n",
      "Right: 0.8182725\n"
     ]
    },
    {
     "name": "stderr",
     "output_type": "stream",
     "text": [
      "/opt/oscer/software/Python/3.6.4-foss-2018a/lib/python3.6/site-packages/scipy-1.0.0-py3.6-linux-x86_64.egg/scipy/linalg/basic.py:40: RuntimeWarning: scipy.linalg.solve\n",
      "Ill-conditioned matrix detected. Result is not guaranteed to be accurate.\n",
      "Reciprocal condition number/precision: 2.7502884883688785e-19 / 1.1102230246251565e-16\n",
      "  RuntimeWarning)\n"
     ]
    },
    {
     "name": "stdout",
     "output_type": "stream",
     "text": [
      "Intercept 0.42791296561055164\n",
      "Prediction_local [0.67238057]\n",
      "Right: 0.71628046\n",
      "Intercept 0.42681314221307826\n",
      "Prediction_local [0.76054521]\n",
      "Right: 0.8636066\n"
     ]
    },
    {
     "name": "stderr",
     "output_type": "stream",
     "text": [
      "/opt/oscer/software/Python/3.6.4-foss-2018a/lib/python3.6/site-packages/scipy-1.0.0-py3.6-linux-x86_64.egg/scipy/linalg/basic.py:40: RuntimeWarning: scipy.linalg.solve\n",
      "Ill-conditioned matrix detected. Result is not guaranteed to be accurate.\n",
      "Reciprocal condition number/precision: 2.4788060641670497e-19 / 1.1102230246251565e-16\n",
      "  RuntimeWarning)\n"
     ]
    },
    {
     "name": "stdout",
     "output_type": "stream",
     "text": [
      "Intercept 0.45355860907249845\n",
      "Prediction_local [0.63591346]\n",
      "Right: 0.6851999\n",
      "Intercept 0.43354378835325325\n",
      "Prediction_local [0.70920753]\n",
      "Right: 0.8116332\n"
     ]
    },
    {
     "name": "stderr",
     "output_type": "stream",
     "text": [
      "/opt/oscer/software/Python/3.6.4-foss-2018a/lib/python3.6/site-packages/scipy-1.0.0-py3.6-linux-x86_64.egg/scipy/linalg/basic.py:40: RuntimeWarning: scipy.linalg.solve\n",
      "Ill-conditioned matrix detected. Result is not guaranteed to be accurate.\n",
      "Reciprocal condition number/precision: 1.651610879250776e-18 / 1.1102230246251565e-16\n",
      "  RuntimeWarning)\n"
     ]
    },
    {
     "name": "stdout",
     "output_type": "stream",
     "text": [
      "Intercept 0.4746180833177927\n",
      "Prediction_local [0.66286786]\n",
      "Right: 0.729416\n"
     ]
    },
    {
     "name": "stderr",
     "output_type": "stream",
     "text": [
      "/opt/oscer/software/Python/3.6.4-foss-2018a/lib/python3.6/site-packages/scipy-1.0.0-py3.6-linux-x86_64.egg/scipy/linalg/basic.py:40: RuntimeWarning: scipy.linalg.solve\n",
      "Ill-conditioned matrix detected. Result is not guaranteed to be accurate.\n",
      "Reciprocal condition number/precision: 3.424901209917752e-18 / 1.1102230246251565e-16\n",
      "  RuntimeWarning)\n"
     ]
    },
    {
     "name": "stdout",
     "output_type": "stream",
     "text": [
      "Intercept 0.45864802390308435\n",
      "Prediction_local [0.83260857]\n",
      "Right: 0.9039891\n",
      "Intercept 0.30269527208141866\n",
      "Prediction_local [0.80621296]\n",
      "Right: 0.9432734\n",
      "Intercept 0.44236785618086094\n",
      "Prediction_local [0.70965918]\n",
      "Right: 0.8506558\n"
     ]
    },
    {
     "name": "stderr",
     "output_type": "stream",
     "text": [
      "/opt/oscer/software/Python/3.6.4-foss-2018a/lib/python3.6/site-packages/scipy-1.0.0-py3.6-linux-x86_64.egg/scipy/linalg/basic.py:40: RuntimeWarning: scipy.linalg.solve\n",
      "Ill-conditioned matrix detected. Result is not guaranteed to be accurate.\n",
      "Reciprocal condition number/precision: 4.56229448590215e-18 / 1.1102230246251565e-16\n",
      "  RuntimeWarning)\n"
     ]
    },
    {
     "name": "stdout",
     "output_type": "stream",
     "text": [
      "Intercept 0.40868348518197706\n",
      "Prediction_local [0.70813264]\n",
      "Right: 0.8567356\n"
     ]
    },
    {
     "name": "stderr",
     "output_type": "stream",
     "text": [
      "/opt/oscer/software/Python/3.6.4-foss-2018a/lib/python3.6/site-packages/scipy-1.0.0-py3.6-linux-x86_64.egg/scipy/linalg/basic.py:40: RuntimeWarning: scipy.linalg.solve\n",
      "Ill-conditioned matrix detected. Result is not guaranteed to be accurate.\n",
      "Reciprocal condition number/precision: 1.4947786501323167e-18 / 1.1102230246251565e-16\n",
      "  RuntimeWarning)\n"
     ]
    },
    {
     "name": "stdout",
     "output_type": "stream",
     "text": [
      "Intercept 0.35155215951145025\n",
      "Prediction_local [0.74481914]\n",
      "Right: 0.89305913\n"
     ]
    },
    {
     "name": "stderr",
     "output_type": "stream",
     "text": [
      "/opt/oscer/software/Python/3.6.4-foss-2018a/lib/python3.6/site-packages/scipy-1.0.0-py3.6-linux-x86_64.egg/scipy/linalg/basic.py:40: RuntimeWarning: scipy.linalg.solve\n",
      "Ill-conditioned matrix detected. Result is not guaranteed to be accurate.\n",
      "Reciprocal condition number/precision: 2.530618675732496e-18 / 1.1102230246251565e-16\n",
      "  RuntimeWarning)\n"
     ]
    },
    {
     "name": "stdout",
     "output_type": "stream",
     "text": [
      "Intercept 0.3161909231851723\n",
      "Prediction_local [0.78368866]\n",
      "Right: 0.96095747\n",
      "Intercept 0.40241930028725525\n",
      "Prediction_local [0.73912998]\n",
      "Right: 0.8962201\n",
      "Intercept 0.356710313135573\n",
      "Prediction_local [0.82853017]\n",
      "Right: 0.9428854\n"
     ]
    },
    {
     "name": "stderr",
     "output_type": "stream",
     "text": [
      "/opt/oscer/software/Python/3.6.4-foss-2018a/lib/python3.6/site-packages/scipy-1.0.0-py3.6-linux-x86_64.egg/scipy/linalg/basic.py:40: RuntimeWarning: scipy.linalg.solve\n",
      "Ill-conditioned matrix detected. Result is not guaranteed to be accurate.\n",
      "Reciprocal condition number/precision: 9.009681568885953e-19 / 1.1102230246251565e-16\n",
      "  RuntimeWarning)\n"
     ]
    },
    {
     "name": "stdout",
     "output_type": "stream",
     "text": [
      "Intercept 0.3622053489763962\n",
      "Prediction_local [0.72724045]\n",
      "Right: 0.8791255\n",
      "Intercept 0.35574725455416184\n",
      "Prediction_local [0.66037546]\n",
      "Right: 0.7732771\n",
      "Intercept 0.5623515763502659\n",
      "Prediction_local [0.62971636]\n",
      "Right: 0.6811245\n"
     ]
    },
    {
     "name": "stderr",
     "output_type": "stream",
     "text": [
      "/opt/oscer/software/Python/3.6.4-foss-2018a/lib/python3.6/site-packages/scipy-1.0.0-py3.6-linux-x86_64.egg/scipy/linalg/basic.py:40: RuntimeWarning: scipy.linalg.solve\n",
      "Ill-conditioned matrix detected. Result is not guaranteed to be accurate.\n",
      "Reciprocal condition number/precision: 3.223515971372197e-18 / 1.1102230246251565e-16\n",
      "  RuntimeWarning)\n"
     ]
    },
    {
     "name": "stdout",
     "output_type": "stream",
     "text": [
      "Intercept 0.4749375234532281\n",
      "Prediction_local [0.77159457]\n",
      "Right: 0.90115297\n",
      "Intercept 0.368577385557443\n",
      "Prediction_local [0.7642949]\n",
      "Right: 0.9167622\n",
      "Intercept 0.3841516148571942\n",
      "Prediction_local [0.78784582]\n",
      "Right: 0.9417889\n",
      "Intercept 0.4154630727953567\n",
      "Prediction_local [0.64391324]\n",
      "Right: 0.7614682\n"
     ]
    },
    {
     "name": "stderr",
     "output_type": "stream",
     "text": [
      "/opt/oscer/software/Python/3.6.4-foss-2018a/lib/python3.6/site-packages/scipy-1.0.0-py3.6-linux-x86_64.egg/scipy/linalg/basic.py:40: RuntimeWarning: scipy.linalg.solve\n",
      "Ill-conditioned matrix detected. Result is not guaranteed to be accurate.\n",
      "Reciprocal condition number/precision: 2.1431719697898533e-18 / 1.1102230246251565e-16\n",
      "  RuntimeWarning)\n"
     ]
    },
    {
     "name": "stdout",
     "output_type": "stream",
     "text": [
      "Intercept 0.3397057400178991\n",
      "Prediction_local [0.74929662]\n",
      "Right: 0.8627173\n",
      "Intercept 0.39381402348759603\n",
      "Prediction_local [0.81372507]\n",
      "Right: 0.91652596\n",
      "Intercept 0.3903034307815793\n",
      "Prediction_local [0.69113332]\n",
      "Right: 0.80514115\n",
      "Intercept 0.41603215433217716\n",
      "Prediction_local [0.74115366]\n",
      "Right: 0.87306887\n",
      "Intercept 0.41764190981922045\n",
      "Prediction_local [0.69540712]\n",
      "Right: 0.73526883\n",
      "Intercept 0.426094675463627\n",
      "Prediction_local [0.72187681]\n",
      "Right: 0.8689044\n",
      "Intercept 0.4195255956083562\n",
      "Prediction_local [0.75773017]\n",
      "Right: 0.9458077\n"
     ]
    },
    {
     "name": "stderr",
     "output_type": "stream",
     "text": [
      "/opt/oscer/software/Python/3.6.4-foss-2018a/lib/python3.6/site-packages/scipy-1.0.0-py3.6-linux-x86_64.egg/scipy/linalg/basic.py:40: RuntimeWarning: scipy.linalg.solve\n",
      "Ill-conditioned matrix detected. Result is not guaranteed to be accurate.\n",
      "Reciprocal condition number/precision: 2.5436117300163003e-18 / 1.1102230246251565e-16\n",
      "  RuntimeWarning)\n"
     ]
    },
    {
     "name": "stdout",
     "output_type": "stream",
     "text": [
      "Intercept 0.39656367178624613\n",
      "Prediction_local [0.7662698]\n",
      "Right: 0.877445\n"
     ]
    },
    {
     "name": "stderr",
     "output_type": "stream",
     "text": [
      "/opt/oscer/software/Python/3.6.4-foss-2018a/lib/python3.6/site-packages/scipy-1.0.0-py3.6-linux-x86_64.egg/scipy/linalg/basic.py:40: RuntimeWarning: scipy.linalg.solve\n",
      "Ill-conditioned matrix detected. Result is not guaranteed to be accurate.\n",
      "Reciprocal condition number/precision: 5.8857773356561925e-18 / 1.1102230246251565e-16\n",
      "  RuntimeWarning)\n"
     ]
    },
    {
     "name": "stdout",
     "output_type": "stream",
     "text": [
      "Intercept 0.4091992357849618\n",
      "Prediction_local [0.7371264]\n",
      "Right: 0.8687756\n"
     ]
    },
    {
     "name": "stderr",
     "output_type": "stream",
     "text": [
      "/opt/oscer/software/Python/3.6.4-foss-2018a/lib/python3.6/site-packages/scipy-1.0.0-py3.6-linux-x86_64.egg/scipy/linalg/basic.py:40: RuntimeWarning: scipy.linalg.solve\n",
      "Ill-conditioned matrix detected. Result is not guaranteed to be accurate.\n",
      "Reciprocal condition number/precision: 2.5926048474082017e-18 / 1.1102230246251565e-16\n",
      "  RuntimeWarning)\n"
     ]
    },
    {
     "name": "stdout",
     "output_type": "stream",
     "text": [
      "Intercept 0.44185452093497857\n",
      "Prediction_local [0.73981183]\n",
      "Right: 0.83898795\n"
     ]
    },
    {
     "name": "stderr",
     "output_type": "stream",
     "text": [
      "/opt/oscer/software/Python/3.6.4-foss-2018a/lib/python3.6/site-packages/scipy-1.0.0-py3.6-linux-x86_64.egg/scipy/linalg/basic.py:40: RuntimeWarning: scipy.linalg.solve\n",
      "Ill-conditioned matrix detected. Result is not guaranteed to be accurate.\n",
      "Reciprocal condition number/precision: 9.39692034601553e-18 / 1.1102230246251565e-16\n",
      "  RuntimeWarning)\n"
     ]
    },
    {
     "name": "stdout",
     "output_type": "stream",
     "text": [
      "Intercept 0.42821842574569335\n",
      "Prediction_local [0.66552682]\n",
      "Right: 0.73175037\n",
      "Intercept 0.41186900298908474\n",
      "Prediction_local [0.65086631]\n",
      "Right: 0.70618707\n"
     ]
    },
    {
     "name": "stderr",
     "output_type": "stream",
     "text": [
      "/opt/oscer/software/Python/3.6.4-foss-2018a/lib/python3.6/site-packages/scipy-1.0.0-py3.6-linux-x86_64.egg/scipy/linalg/basic.py:40: RuntimeWarning: scipy.linalg.solve\n",
      "Ill-conditioned matrix detected. Result is not guaranteed to be accurate.\n",
      "Reciprocal condition number/precision: 6.907298086196373e-18 / 1.1102230246251565e-16\n",
      "  RuntimeWarning)\n"
     ]
    },
    {
     "name": "stdout",
     "output_type": "stream",
     "text": [
      "Intercept 0.3676572041006364\n",
      "Prediction_local [0.82249574]\n",
      "Right: 0.9676565\n"
     ]
    },
    {
     "name": "stderr",
     "output_type": "stream",
     "text": [
      "/opt/oscer/software/Python/3.6.4-foss-2018a/lib/python3.6/site-packages/scipy-1.0.0-py3.6-linux-x86_64.egg/scipy/linalg/basic.py:40: RuntimeWarning: scipy.linalg.solve\n",
      "Ill-conditioned matrix detected. Result is not guaranteed to be accurate.\n",
      "Reciprocal condition number/precision: 3.383830035462236e-18 / 1.1102230246251565e-16\n",
      "  RuntimeWarning)\n"
     ]
    },
    {
     "name": "stdout",
     "output_type": "stream",
     "text": [
      "Intercept 0.4237756188638636\n",
      "Prediction_local [0.84344258]\n",
      "Right: 0.9327612\n"
     ]
    },
    {
     "name": "stderr",
     "output_type": "stream",
     "text": [
      "/opt/oscer/software/Python/3.6.4-foss-2018a/lib/python3.6/site-packages/scipy-1.0.0-py3.6-linux-x86_64.egg/scipy/linalg/basic.py:40: RuntimeWarning: scipy.linalg.solve\n",
      "Ill-conditioned matrix detected. Result is not guaranteed to be accurate.\n",
      "Reciprocal condition number/precision: 3.247506065096103e-19 / 1.1102230246251565e-16\n",
      "  RuntimeWarning)\n"
     ]
    },
    {
     "name": "stdout",
     "output_type": "stream",
     "text": [
      "Intercept 0.37994443013911017\n",
      "Prediction_local [0.65859322]\n",
      "Right: 0.6748628\n",
      "Intercept 0.5021084167024924\n",
      "Prediction_local [0.60919769]\n",
      "Right: 0.68727887\n"
     ]
    },
    {
     "name": "stderr",
     "output_type": "stream",
     "text": [
      "/opt/oscer/software/Python/3.6.4-foss-2018a/lib/python3.6/site-packages/scipy-1.0.0-py3.6-linux-x86_64.egg/scipy/linalg/basic.py:40: RuntimeWarning: scipy.linalg.solve\n",
      "Ill-conditioned matrix detected. Result is not guaranteed to be accurate.\n",
      "Reciprocal condition number/precision: 1.6382479738288427e-19 / 1.1102230246251565e-16\n",
      "  RuntimeWarning)\n"
     ]
    },
    {
     "name": "stdout",
     "output_type": "stream",
     "text": [
      "Intercept 0.4185619997673\n",
      "Prediction_local [0.77390972]\n",
      "Right: 0.8980855\n"
     ]
    },
    {
     "name": "stderr",
     "output_type": "stream",
     "text": [
      "/opt/oscer/software/Python/3.6.4-foss-2018a/lib/python3.6/site-packages/scipy-1.0.0-py3.6-linux-x86_64.egg/scipy/linalg/basic.py:40: RuntimeWarning: scipy.linalg.solve\n",
      "Ill-conditioned matrix detected. Result is not guaranteed to be accurate.\n",
      "Reciprocal condition number/precision: 3.1566640343043824e-18 / 1.1102230246251565e-16\n",
      "  RuntimeWarning)\n"
     ]
    },
    {
     "name": "stdout",
     "output_type": "stream",
     "text": [
      "Intercept 0.4520268886501445\n",
      "Prediction_local [0.81464176]\n",
      "Right: 0.8884158\n",
      "Intercept 0.31380266429986703\n",
      "Prediction_local [0.65435495]\n",
      "Right: 0.7635689\n"
     ]
    },
    {
     "name": "stderr",
     "output_type": "stream",
     "text": [
      "/opt/oscer/software/Python/3.6.4-foss-2018a/lib/python3.6/site-packages/scipy-1.0.0-py3.6-linux-x86_64.egg/scipy/linalg/basic.py:40: RuntimeWarning: scipy.linalg.solve\n",
      "Ill-conditioned matrix detected. Result is not guaranteed to be accurate.\n",
      "Reciprocal condition number/precision: 4.05722465077574e-18 / 1.1102230246251565e-16\n",
      "  RuntimeWarning)\n"
     ]
    },
    {
     "name": "stdout",
     "output_type": "stream",
     "text": [
      "Intercept 0.32066603753081463\n",
      "Prediction_local [0.70434915]\n",
      "Right: 0.8041092\n"
     ]
    },
    {
     "name": "stderr",
     "output_type": "stream",
     "text": [
      "/opt/oscer/software/Python/3.6.4-foss-2018a/lib/python3.6/site-packages/scipy-1.0.0-py3.6-linux-x86_64.egg/scipy/linalg/basic.py:40: RuntimeWarning: scipy.linalg.solve\n",
      "Ill-conditioned matrix detected. Result is not guaranteed to be accurate.\n",
      "Reciprocal condition number/precision: 5.739373999428414e-18 / 1.1102230246251565e-16\n",
      "  RuntimeWarning)\n"
     ]
    },
    {
     "name": "stdout",
     "output_type": "stream",
     "text": [
      "Intercept 0.4925551298497828\n",
      "Prediction_local [0.74627334]\n",
      "Right: 0.7875956\n"
     ]
    },
    {
     "name": "stderr",
     "output_type": "stream",
     "text": [
      "/opt/oscer/software/Python/3.6.4-foss-2018a/lib/python3.6/site-packages/scipy-1.0.0-py3.6-linux-x86_64.egg/scipy/linalg/basic.py:40: RuntimeWarning: scipy.linalg.solve\n",
      "Ill-conditioned matrix detected. Result is not guaranteed to be accurate.\n",
      "Reciprocal condition number/precision: 9.766645897880465e-19 / 1.1102230246251565e-16\n",
      "  RuntimeWarning)\n"
     ]
    },
    {
     "name": "stdout",
     "output_type": "stream",
     "text": [
      "Intercept 0.3491587670517603\n",
      "Prediction_local [0.71081161]\n",
      "Right: 0.85003006\n"
     ]
    },
    {
     "name": "stderr",
     "output_type": "stream",
     "text": [
      "/opt/oscer/software/Python/3.6.4-foss-2018a/lib/python3.6/site-packages/scipy-1.0.0-py3.6-linux-x86_64.egg/scipy/linalg/basic.py:40: RuntimeWarning: scipy.linalg.solve\n",
      "Ill-conditioned matrix detected. Result is not guaranteed to be accurate.\n",
      "Reciprocal condition number/precision: 3.3393830074095998e-18 / 1.1102230246251565e-16\n",
      "  RuntimeWarning)\n"
     ]
    },
    {
     "name": "stdout",
     "output_type": "stream",
     "text": [
      "Intercept 0.3726890551048606\n",
      "Prediction_local [0.77515594]\n",
      "Right: 0.9010866\n"
     ]
    },
    {
     "name": "stderr",
     "output_type": "stream",
     "text": [
      "/opt/oscer/software/Python/3.6.4-foss-2018a/lib/python3.6/site-packages/scipy-1.0.0-py3.6-linux-x86_64.egg/scipy/linalg/basic.py:40: RuntimeWarning: scipy.linalg.solve\n",
      "Ill-conditioned matrix detected. Result is not guaranteed to be accurate.\n",
      "Reciprocal condition number/precision: 3.50056604839531e-18 / 1.1102230246251565e-16\n",
      "  RuntimeWarning)\n"
     ]
    },
    {
     "name": "stdout",
     "output_type": "stream",
     "text": [
      "Intercept 0.4196751611218384\n",
      "Prediction_local [0.64904161]\n",
      "Right: 0.7460844\n"
     ]
    },
    {
     "name": "stderr",
     "output_type": "stream",
     "text": [
      "/opt/oscer/software/Python/3.6.4-foss-2018a/lib/python3.6/site-packages/scipy-1.0.0-py3.6-linux-x86_64.egg/scipy/linalg/basic.py:40: RuntimeWarning: scipy.linalg.solve\n",
      "Ill-conditioned matrix detected. Result is not guaranteed to be accurate.\n",
      "Reciprocal condition number/precision: 3.63106623013027e-18 / 1.1102230246251565e-16\n",
      "  RuntimeWarning)\n"
     ]
    },
    {
     "name": "stdout",
     "output_type": "stream",
     "text": [
      "Intercept 0.49337511928700856\n",
      "Prediction_local [0.68574573]\n",
      "Right: 0.83273196\n",
      "Intercept 0.38937363779829826\n",
      "Prediction_local [0.64354054]\n",
      "Right: 0.7167233\n"
     ]
    },
    {
     "name": "stderr",
     "output_type": "stream",
     "text": [
      "/opt/oscer/software/Python/3.6.4-foss-2018a/lib/python3.6/site-packages/scipy-1.0.0-py3.6-linux-x86_64.egg/scipy/linalg/basic.py:40: RuntimeWarning: scipy.linalg.solve\n",
      "Ill-conditioned matrix detected. Result is not guaranteed to be accurate.\n",
      "Reciprocal condition number/precision: 2.9080184285464075e-18 / 1.1102230246251565e-16\n",
      "  RuntimeWarning)\n"
     ]
    },
    {
     "name": "stdout",
     "output_type": "stream",
     "text": [
      "Intercept 0.3857443438138818\n",
      "Prediction_local [0.74659932]\n",
      "Right: 0.8921689\n",
      "Intercept 0.4523953603825673\n",
      "Prediction_local [0.62724812]\n",
      "Right: 0.71785605\n"
     ]
    },
    {
     "name": "stderr",
     "output_type": "stream",
     "text": [
      "/opt/oscer/software/Python/3.6.4-foss-2018a/lib/python3.6/site-packages/scipy-1.0.0-py3.6-linux-x86_64.egg/scipy/linalg/basic.py:40: RuntimeWarning: scipy.linalg.solve\n",
      "Ill-conditioned matrix detected. Result is not guaranteed to be accurate.\n",
      "Reciprocal condition number/precision: 2.2732128316713226e-18 / 1.1102230246251565e-16\n",
      "  RuntimeWarning)\n"
     ]
    },
    {
     "name": "stdout",
     "output_type": "stream",
     "text": [
      "Intercept 0.43661920880472777\n",
      "Prediction_local [0.73576288]\n",
      "Right: 0.91594243\n"
     ]
    },
    {
     "name": "stderr",
     "output_type": "stream",
     "text": [
      "/opt/oscer/software/Python/3.6.4-foss-2018a/lib/python3.6/site-packages/scipy-1.0.0-py3.6-linux-x86_64.egg/scipy/linalg/basic.py:40: RuntimeWarning: scipy.linalg.solve\n",
      "Ill-conditioned matrix detected. Result is not guaranteed to be accurate.\n",
      "Reciprocal condition number/precision: 2.351455912909109e-19 / 1.1102230246251565e-16\n",
      "  RuntimeWarning)\n"
     ]
    },
    {
     "name": "stdout",
     "output_type": "stream",
     "text": [
      "Intercept 0.3533489098631061\n",
      "Prediction_local [0.68789851]\n",
      "Right: 0.822192\n",
      "Intercept 0.5278448655381894\n",
      "Prediction_local [0.64697116]\n",
      "Right: 0.73855096\n",
      "Intercept 0.3385974202166201\n",
      "Prediction_local [0.8467691]\n",
      "Right: 0.9359348\n",
      "Intercept 0.43513351614649065\n",
      "Prediction_local [0.63866902]\n",
      "Right: 0.6953005\n",
      "Intercept 0.30186808533544524\n",
      "Prediction_local [0.72460409]\n",
      "Right: 0.86695904\n"
     ]
    },
    {
     "name": "stderr",
     "output_type": "stream",
     "text": [
      "/opt/oscer/software/Python/3.6.4-foss-2018a/lib/python3.6/site-packages/scipy-1.0.0-py3.6-linux-x86_64.egg/scipy/linalg/basic.py:40: RuntimeWarning: scipy.linalg.solve\n",
      "Ill-conditioned matrix detected. Result is not guaranteed to be accurate.\n",
      "Reciprocal condition number/precision: 1.6888089319586552e-18 / 1.1102230246251565e-16\n",
      "  RuntimeWarning)\n"
     ]
    },
    {
     "name": "stdout",
     "output_type": "stream",
     "text": [
      "Intercept 0.4872603730213602\n",
      "Prediction_local [0.70401915]\n",
      "Right: 0.80320895\n"
     ]
    },
    {
     "name": "stderr",
     "output_type": "stream",
     "text": [
      "/opt/oscer/software/Python/3.6.4-foss-2018a/lib/python3.6/site-packages/scipy-1.0.0-py3.6-linux-x86_64.egg/scipy/linalg/basic.py:40: RuntimeWarning: scipy.linalg.solve\n",
      "Ill-conditioned matrix detected. Result is not guaranteed to be accurate.\n",
      "Reciprocal condition number/precision: 6.549995238576047e-19 / 1.1102230246251565e-16\n",
      "  RuntimeWarning)\n"
     ]
    },
    {
     "name": "stdout",
     "output_type": "stream",
     "text": [
      "Intercept 0.4403791329250355\n",
      "Prediction_local [0.64329261]\n",
      "Right: 0.8227142\n",
      "Intercept 0.49310164983705723\n",
      "Prediction_local [0.69883481]\n",
      "Right: 0.7902866\n"
     ]
    },
    {
     "name": "stderr",
     "output_type": "stream",
     "text": [
      "/opt/oscer/software/Python/3.6.4-foss-2018a/lib/python3.6/site-packages/scipy-1.0.0-py3.6-linux-x86_64.egg/scipy/linalg/basic.py:40: RuntimeWarning: scipy.linalg.solve\n",
      "Ill-conditioned matrix detected. Result is not guaranteed to be accurate.\n",
      "Reciprocal condition number/precision: 3.4056041745328207e-19 / 1.1102230246251565e-16\n",
      "  RuntimeWarning)\n"
     ]
    },
    {
     "name": "stdout",
     "output_type": "stream",
     "text": [
      "Intercept 0.404868410899913\n",
      "Prediction_local [0.78476511]\n",
      "Right: 0.9497439\n"
     ]
    },
    {
     "name": "stderr",
     "output_type": "stream",
     "text": [
      "/opt/oscer/software/Python/3.6.4-foss-2018a/lib/python3.6/site-packages/scipy-1.0.0-py3.6-linux-x86_64.egg/scipy/linalg/basic.py:40: RuntimeWarning: scipy.linalg.solve\n",
      "Ill-conditioned matrix detected. Result is not guaranteed to be accurate.\n",
      "Reciprocal condition number/precision: 4.726124343056446e-18 / 1.1102230246251565e-16\n",
      "  RuntimeWarning)\n"
     ]
    },
    {
     "name": "stdout",
     "output_type": "stream",
     "text": [
      "Intercept 0.2879545193514731\n",
      "Prediction_local [0.80086487]\n",
      "Right: 0.9122843\n",
      "Intercept 0.4657766469457109\n",
      "Prediction_local [0.65729853]\n",
      "Right: 0.7001506\n"
     ]
    },
    {
     "name": "stderr",
     "output_type": "stream",
     "text": [
      "/opt/oscer/software/Python/3.6.4-foss-2018a/lib/python3.6/site-packages/scipy-1.0.0-py3.6-linux-x86_64.egg/scipy/linalg/basic.py:40: RuntimeWarning: scipy.linalg.solve\n",
      "Ill-conditioned matrix detected. Result is not guaranteed to be accurate.\n",
      "Reciprocal condition number/precision: 4.899341185854902e-18 / 1.1102230246251565e-16\n",
      "  RuntimeWarning)\n"
     ]
    },
    {
     "name": "stdout",
     "output_type": "stream",
     "text": [
      "Intercept 0.5403406668091486\n",
      "Prediction_local [0.75613497]\n",
      "Right: 0.88356364\n",
      "Intercept 0.33360656156368973\n",
      "Prediction_local [0.7351096]\n",
      "Right: 0.8775649\n"
     ]
    },
    {
     "name": "stderr",
     "output_type": "stream",
     "text": [
      "/opt/oscer/software/Python/3.6.4-foss-2018a/lib/python3.6/site-packages/scipy-1.0.0-py3.6-linux-x86_64.egg/scipy/linalg/basic.py:40: RuntimeWarning: scipy.linalg.solve\n",
      "Ill-conditioned matrix detected. Result is not guaranteed to be accurate.\n",
      "Reciprocal condition number/precision: 5.564943291515637e-18 / 1.1102230246251565e-16\n",
      "  RuntimeWarning)\n"
     ]
    },
    {
     "name": "stdout",
     "output_type": "stream",
     "text": [
      "Intercept 0.39666002998024047\n",
      "Prediction_local [0.68139637]\n",
      "Right: 0.7274065\n",
      "Intercept 0.4336551421988889\n",
      "Prediction_local [0.67322217]\n",
      "Right: 0.8508234\n",
      "Intercept 0.36282885282348204\n",
      "Prediction_local [0.67372506]\n",
      "Right: 0.8126896\n"
     ]
    },
    {
     "name": "stderr",
     "output_type": "stream",
     "text": [
      "/opt/oscer/software/Python/3.6.4-foss-2018a/lib/python3.6/site-packages/scipy-1.0.0-py3.6-linux-x86_64.egg/scipy/linalg/basic.py:40: RuntimeWarning: scipy.linalg.solve\n",
      "Ill-conditioned matrix detected. Result is not guaranteed to be accurate.\n",
      "Reciprocal condition number/precision: 4.09180667505143e-18 / 1.1102230246251565e-16\n",
      "  RuntimeWarning)\n"
     ]
    },
    {
     "name": "stdout",
     "output_type": "stream",
     "text": [
      "Intercept 0.3990625530487271\n",
      "Prediction_local [0.70950596]\n",
      "Right: 0.76578295\n"
     ]
    },
    {
     "name": "stderr",
     "output_type": "stream",
     "text": [
      "/opt/oscer/software/Python/3.6.4-foss-2018a/lib/python3.6/site-packages/scipy-1.0.0-py3.6-linux-x86_64.egg/scipy/linalg/basic.py:40: RuntimeWarning: scipy.linalg.solve\n",
      "Ill-conditioned matrix detected. Result is not guaranteed to be accurate.\n",
      "Reciprocal condition number/precision: 2.8370398647166376e-19 / 1.1102230246251565e-16\n",
      "  RuntimeWarning)\n"
     ]
    },
    {
     "name": "stdout",
     "output_type": "stream",
     "text": [
      "Intercept 0.375148780318047\n",
      "Prediction_local [0.72242202]\n",
      "Right: 0.84422016\n"
     ]
    },
    {
     "name": "stderr",
     "output_type": "stream",
     "text": [
      "/opt/oscer/software/Python/3.6.4-foss-2018a/lib/python3.6/site-packages/scipy-1.0.0-py3.6-linux-x86_64.egg/scipy/linalg/basic.py:40: RuntimeWarning: scipy.linalg.solve\n",
      "Ill-conditioned matrix detected. Result is not guaranteed to be accurate.\n",
      "Reciprocal condition number/precision: 2.7671388546461277e-18 / 1.1102230246251565e-16\n",
      "  RuntimeWarning)\n"
     ]
    },
    {
     "name": "stdout",
     "output_type": "stream",
     "text": [
      "Intercept 0.4801216275953746\n",
      "Prediction_local [0.74409328]\n",
      "Right: 0.8060205\n"
     ]
    },
    {
     "name": "stderr",
     "output_type": "stream",
     "text": [
      "/opt/oscer/software/Python/3.6.4-foss-2018a/lib/python3.6/site-packages/scipy-1.0.0-py3.6-linux-x86_64.egg/scipy/linalg/basic.py:40: RuntimeWarning: scipy.linalg.solve\n",
      "Ill-conditioned matrix detected. Result is not guaranteed to be accurate.\n",
      "Reciprocal condition number/precision: 1.3280535551457322e-18 / 1.1102230246251565e-16\n",
      "  RuntimeWarning)\n"
     ]
    },
    {
     "name": "stdout",
     "output_type": "stream",
     "text": [
      "Intercept 0.4634971989387959\n",
      "Prediction_local [0.83919315]\n",
      "Right: 0.9510883\n"
     ]
    },
    {
     "name": "stderr",
     "output_type": "stream",
     "text": [
      "/opt/oscer/software/Python/3.6.4-foss-2018a/lib/python3.6/site-packages/scipy-1.0.0-py3.6-linux-x86_64.egg/scipy/linalg/basic.py:40: RuntimeWarning: scipy.linalg.solve\n",
      "Ill-conditioned matrix detected. Result is not guaranteed to be accurate.\n",
      "Reciprocal condition number/precision: 5.4903955021861866e-18 / 1.1102230246251565e-16\n",
      "  RuntimeWarning)\n"
     ]
    },
    {
     "name": "stdout",
     "output_type": "stream",
     "text": [
      "Intercept 0.45039079966396073\n",
      "Prediction_local [0.83098517]\n",
      "Right: 0.9143852\n",
      "Intercept 0.4693600780768867\n",
      "Prediction_local [0.79269228]\n",
      "Right: 0.94185424\n",
      "Intercept 0.35767437244471856\n",
      "Prediction_local [0.70061043]\n",
      "Right: 0.81608653\n",
      "Intercept 0.321400359606197\n",
      "Prediction_local [0.81443945]\n",
      "Right: 0.9321596\n",
      "Intercept 0.5020131959543239\n",
      "Prediction_local [0.65526699]\n",
      "Right: 0.7212171\n"
     ]
    },
    {
     "name": "stderr",
     "output_type": "stream",
     "text": [
      "/opt/oscer/software/Python/3.6.4-foss-2018a/lib/python3.6/site-packages/scipy-1.0.0-py3.6-linux-x86_64.egg/scipy/linalg/basic.py:40: RuntimeWarning: scipy.linalg.solve\n",
      "Ill-conditioned matrix detected. Result is not guaranteed to be accurate.\n",
      "Reciprocal condition number/precision: 6.785476388924977e-19 / 1.1102230246251565e-16\n",
      "  RuntimeWarning)\n"
     ]
    },
    {
     "name": "stdout",
     "output_type": "stream",
     "text": [
      "Intercept 0.42247541560977037\n",
      "Prediction_local [0.75282119]\n",
      "Right: 0.9438901\n"
     ]
    },
    {
     "name": "stderr",
     "output_type": "stream",
     "text": [
      "/opt/oscer/software/Python/3.6.4-foss-2018a/lib/python3.6/site-packages/scipy-1.0.0-py3.6-linux-x86_64.egg/scipy/linalg/basic.py:40: RuntimeWarning: scipy.linalg.solve\n",
      "Ill-conditioned matrix detected. Result is not guaranteed to be accurate.\n",
      "Reciprocal condition number/precision: 7.097549186144889e-19 / 1.1102230246251565e-16\n",
      "  RuntimeWarning)\n"
     ]
    },
    {
     "name": "stdout",
     "output_type": "stream",
     "text": [
      "Intercept 0.41985444425723206\n",
      "Prediction_local [0.65502337]\n",
      "Right: 0.7462665\n"
     ]
    },
    {
     "name": "stderr",
     "output_type": "stream",
     "text": [
      "/opt/oscer/software/Python/3.6.4-foss-2018a/lib/python3.6/site-packages/scipy-1.0.0-py3.6-linux-x86_64.egg/scipy/linalg/basic.py:40: RuntimeWarning: scipy.linalg.solve\n",
      "Ill-conditioned matrix detected. Result is not guaranteed to be accurate.\n",
      "Reciprocal condition number/precision: 1.115274029103019e-18 / 1.1102230246251565e-16\n",
      "  RuntimeWarning)\n"
     ]
    },
    {
     "name": "stdout",
     "output_type": "stream",
     "text": [
      "Intercept 0.31169376959599027\n",
      "Prediction_local [0.80856558]\n",
      "Right: 0.92936885\n",
      "Intercept 0.37134498114638215\n",
      "Prediction_local [0.75158449]\n",
      "Right: 0.8380889\n",
      "Intercept 0.44500594060057547\n",
      "Prediction_local [0.78686927]\n",
      "Right: 0.88237464\n"
     ]
    },
    {
     "name": "stderr",
     "output_type": "stream",
     "text": [
      "/opt/oscer/software/Python/3.6.4-foss-2018a/lib/python3.6/site-packages/scipy-1.0.0-py3.6-linux-x86_64.egg/scipy/linalg/basic.py:40: RuntimeWarning: scipy.linalg.solve\n",
      "Ill-conditioned matrix detected. Result is not guaranteed to be accurate.\n",
      "Reciprocal condition number/precision: 5.1234629207760475e-18 / 1.1102230246251565e-16\n",
      "  RuntimeWarning)\n"
     ]
    },
    {
     "name": "stdout",
     "output_type": "stream",
     "text": [
      "Intercept 0.42328630283142527\n",
      "Prediction_local [0.80965839]\n",
      "Right: 0.8526678\n",
      "Intercept 0.5303349459576915\n",
      "Prediction_local [0.83815687]\n",
      "Right: 0.87942386\n",
      "Intercept 0.37885047719397774\n",
      "Prediction_local [0.7977248]\n",
      "Right: 0.9291029\n"
     ]
    },
    {
     "name": "stderr",
     "output_type": "stream",
     "text": [
      "/opt/oscer/software/Python/3.6.4-foss-2018a/lib/python3.6/site-packages/scipy-1.0.0-py3.6-linux-x86_64.egg/scipy/linalg/basic.py:40: RuntimeWarning: scipy.linalg.solve\n",
      "Ill-conditioned matrix detected. Result is not guaranteed to be accurate.\n",
      "Reciprocal condition number/precision: 5.724151470479753e-18 / 1.1102230246251565e-16\n",
      "  RuntimeWarning)\n"
     ]
    },
    {
     "name": "stdout",
     "output_type": "stream",
     "text": [
      "Intercept 0.3464758795630754\n",
      "Prediction_local [0.7722998]\n",
      "Right: 0.9317032\n",
      "Intercept 0.39310130653973346\n",
      "Prediction_local [0.7188523]\n",
      "Right: 0.7804781\n",
      "Intercept 0.3768158118008308\n",
      "Prediction_local [0.68379858]\n",
      "Right: 0.76143986\n",
      "Intercept 0.37683993298815865\n",
      "Prediction_local [0.70650535]\n",
      "Right: 0.86714387\n"
     ]
    },
    {
     "name": "stderr",
     "output_type": "stream",
     "text": [
      "/opt/oscer/software/Python/3.6.4-foss-2018a/lib/python3.6/site-packages/scipy-1.0.0-py3.6-linux-x86_64.egg/scipy/linalg/basic.py:40: RuntimeWarning: scipy.linalg.solve\n",
      "Ill-conditioned matrix detected. Result is not guaranteed to be accurate.\n",
      "Reciprocal condition number/precision: 3.638187061625665e-19 / 1.1102230246251565e-16\n",
      "  RuntimeWarning)\n"
     ]
    },
    {
     "name": "stdout",
     "output_type": "stream",
     "text": [
      "Intercept 0.41529430080198376\n",
      "Prediction_local [0.67752513]\n",
      "Right: 0.79159975\n"
     ]
    },
    {
     "name": "stderr",
     "output_type": "stream",
     "text": [
      "/opt/oscer/software/Python/3.6.4-foss-2018a/lib/python3.6/site-packages/scipy-1.0.0-py3.6-linux-x86_64.egg/scipy/linalg/basic.py:40: RuntimeWarning: scipy.linalg.solve\n",
      "Ill-conditioned matrix detected. Result is not guaranteed to be accurate.\n",
      "Reciprocal condition number/precision: 1.5539662247356584e-18 / 1.1102230246251565e-16\n",
      "  RuntimeWarning)\n"
     ]
    },
    {
     "name": "stdout",
     "output_type": "stream",
     "text": [
      "Intercept 0.5194158034776452\n",
      "Prediction_local [0.70113028]\n",
      "Right: 0.7877493\n",
      "Intercept 0.42673576972962995\n",
      "Prediction_local [0.61175163]\n",
      "Right: 0.6701759\n"
     ]
    },
    {
     "name": "stderr",
     "output_type": "stream",
     "text": [
      "/opt/oscer/software/Python/3.6.4-foss-2018a/lib/python3.6/site-packages/scipy-1.0.0-py3.6-linux-x86_64.egg/scipy/linalg/basic.py:40: RuntimeWarning: scipy.linalg.solve\n",
      "Ill-conditioned matrix detected. Result is not guaranteed to be accurate.\n",
      "Reciprocal condition number/precision: 3.849698417174273e-18 / 1.1102230246251565e-16\n",
      "  RuntimeWarning)\n"
     ]
    },
    {
     "name": "stdout",
     "output_type": "stream",
     "text": [
      "Intercept 0.4697302838343917\n",
      "Prediction_local [0.69116597]\n",
      "Right: 0.78780025\n"
     ]
    },
    {
     "name": "stderr",
     "output_type": "stream",
     "text": [
      "/opt/oscer/software/Python/3.6.4-foss-2018a/lib/python3.6/site-packages/scipy-1.0.0-py3.6-linux-x86_64.egg/scipy/linalg/basic.py:40: RuntimeWarning: scipy.linalg.solve\n",
      "Ill-conditioned matrix detected. Result is not guaranteed to be accurate.\n",
      "Reciprocal condition number/precision: 4.3140816867834335e-18 / 1.1102230246251565e-16\n",
      "  RuntimeWarning)\n"
     ]
    },
    {
     "name": "stdout",
     "output_type": "stream",
     "text": [
      "Intercept 0.35688399538839066\n",
      "Prediction_local [0.81900532]\n",
      "Right: 0.91829026\n"
     ]
    },
    {
     "name": "stderr",
     "output_type": "stream",
     "text": [
      "/opt/oscer/software/Python/3.6.4-foss-2018a/lib/python3.6/site-packages/scipy-1.0.0-py3.6-linux-x86_64.egg/scipy/linalg/basic.py:40: RuntimeWarning: scipy.linalg.solve\n",
      "Ill-conditioned matrix detected. Result is not guaranteed to be accurate.\n",
      "Reciprocal condition number/precision: 8.253818761229781e-19 / 1.1102230246251565e-16\n",
      "  RuntimeWarning)\n"
     ]
    },
    {
     "name": "stdout",
     "output_type": "stream",
     "text": [
      "Intercept 0.3960359626704184\n",
      "Prediction_local [0.60917529]\n",
      "Right: 0.678529\n"
     ]
    },
    {
     "name": "stderr",
     "output_type": "stream",
     "text": [
      "/opt/oscer/software/Python/3.6.4-foss-2018a/lib/python3.6/site-packages/scipy-1.0.0-py3.6-linux-x86_64.egg/scipy/linalg/basic.py:40: RuntimeWarning: scipy.linalg.solve\n",
      "Ill-conditioned matrix detected. Result is not guaranteed to be accurate.\n",
      "Reciprocal condition number/precision: 3.715163885876885e-18 / 1.1102230246251565e-16\n",
      "  RuntimeWarning)\n"
     ]
    },
    {
     "name": "stdout",
     "output_type": "stream",
     "text": [
      "Intercept 0.4112847886897102\n",
      "Prediction_local [0.82162745]\n",
      "Right: 0.9644196\n"
     ]
    },
    {
     "name": "stderr",
     "output_type": "stream",
     "text": [
      "/opt/oscer/software/Python/3.6.4-foss-2018a/lib/python3.6/site-packages/scipy-1.0.0-py3.6-linux-x86_64.egg/scipy/linalg/basic.py:40: RuntimeWarning: scipy.linalg.solve\n",
      "Ill-conditioned matrix detected. Result is not guaranteed to be accurate.\n",
      "Reciprocal condition number/precision: 2.9893537596834305e-18 / 1.1102230246251565e-16\n",
      "  RuntimeWarning)\n"
     ]
    },
    {
     "name": "stdout",
     "output_type": "stream",
     "text": [
      "Intercept 0.3589316301437591\n",
      "Prediction_local [0.77467114]\n",
      "Right: 0.8887195\n",
      "Intercept 0.4079597461293253\n",
      "Prediction_local [0.6214663]\n",
      "Right: 0.686641\n",
      "Intercept 0.4491635155975643\n",
      "Prediction_local [0.67870922]\n",
      "Right: 0.83287054\n",
      "Intercept 0.27997006708745487\n",
      "Prediction_local [0.70377029]\n",
      "Right: 0.90654784\n"
     ]
    },
    {
     "name": "stderr",
     "output_type": "stream",
     "text": [
      "/opt/oscer/software/Python/3.6.4-foss-2018a/lib/python3.6/site-packages/scipy-1.0.0-py3.6-linux-x86_64.egg/scipy/linalg/basic.py:40: RuntimeWarning: scipy.linalg.solve\n",
      "Ill-conditioned matrix detected. Result is not guaranteed to be accurate.\n",
      "Reciprocal condition number/precision: 3.49571633458193e-18 / 1.1102230246251565e-16\n",
      "  RuntimeWarning)\n"
     ]
    },
    {
     "name": "stdout",
     "output_type": "stream",
     "text": [
      "Intercept 0.5372727928103098\n",
      "Prediction_local [0.64005252]\n",
      "Right: 0.7279607\n"
     ]
    },
    {
     "name": "stderr",
     "output_type": "stream",
     "text": [
      "/opt/oscer/software/Python/3.6.4-foss-2018a/lib/python3.6/site-packages/scipy-1.0.0-py3.6-linux-x86_64.egg/scipy/linalg/basic.py:40: RuntimeWarning: scipy.linalg.solve\n",
      "Ill-conditioned matrix detected. Result is not guaranteed to be accurate.\n",
      "Reciprocal condition number/precision: 4.939722018504885e-18 / 1.1102230246251565e-16\n",
      "  RuntimeWarning)\n"
     ]
    },
    {
     "name": "stdout",
     "output_type": "stream",
     "text": [
      "Intercept 0.480016413199199\n",
      "Prediction_local [0.6529435]\n",
      "Right: 0.6882514\n",
      "Intercept 0.43966663527305605\n",
      "Prediction_local [0.70079371]\n",
      "Right: 0.84120154\n",
      "Intercept 0.46880817664244206\n",
      "Prediction_local [0.67154984]\n",
      "Right: 0.7693382\n",
      "Intercept 0.38421374949270304\n",
      "Prediction_local [0.79595494]\n",
      "Right: 0.89234936\n"
     ]
    },
    {
     "name": "stderr",
     "output_type": "stream",
     "text": [
      "/opt/oscer/software/Python/3.6.4-foss-2018a/lib/python3.6/site-packages/scipy-1.0.0-py3.6-linux-x86_64.egg/scipy/linalg/basic.py:40: RuntimeWarning: scipy.linalg.solve\n",
      "Ill-conditioned matrix detected. Result is not guaranteed to be accurate.\n",
      "Reciprocal condition number/precision: 3.516543830890153e-18 / 1.1102230246251565e-16\n",
      "  RuntimeWarning)\n"
     ]
    },
    {
     "name": "stdout",
     "output_type": "stream",
     "text": [
      "Intercept 0.48979770642276066\n",
      "Prediction_local [0.63723546]\n",
      "Right: 0.71484846\n"
     ]
    },
    {
     "name": "stderr",
     "output_type": "stream",
     "text": [
      "/opt/oscer/software/Python/3.6.4-foss-2018a/lib/python3.6/site-packages/scipy-1.0.0-py3.6-linux-x86_64.egg/scipy/linalg/basic.py:40: RuntimeWarning: scipy.linalg.solve\n",
      "Ill-conditioned matrix detected. Result is not guaranteed to be accurate.\n",
      "Reciprocal condition number/precision: 4.755416004380482e-19 / 1.1102230246251565e-16\n",
      "  RuntimeWarning)\n"
     ]
    },
    {
     "name": "stdout",
     "output_type": "stream",
     "text": [
      "Intercept 0.37489290731735014\n",
      "Prediction_local [0.81965678]\n",
      "Right: 0.9464942\n",
      "Intercept 0.36090389927744926\n",
      "Prediction_local [0.64714463]\n",
      "Right: 0.7019573\n",
      "Intercept 0.4297048535197166\n",
      "Prediction_local [0.63898832]\n",
      "Right: 0.7113232\n",
      "Intercept 0.3978338754978343\n",
      "Prediction_local [0.62096091]\n",
      "Right: 0.6722193\n",
      "Intercept 0.37930585993473787\n",
      "Prediction_local [0.79114293]\n",
      "Right: 0.9090004\n"
     ]
    },
    {
     "name": "stderr",
     "output_type": "stream",
     "text": [
      "/opt/oscer/software/Python/3.6.4-foss-2018a/lib/python3.6/site-packages/scipy-1.0.0-py3.6-linux-x86_64.egg/scipy/linalg/basic.py:40: RuntimeWarning: scipy.linalg.solve\n",
      "Ill-conditioned matrix detected. Result is not guaranteed to be accurate.\n",
      "Reciprocal condition number/precision: 1.6737932612351113e-19 / 1.1102230246251565e-16\n",
      "  RuntimeWarning)\n"
     ]
    },
    {
     "name": "stdout",
     "output_type": "stream",
     "text": [
      "Intercept 0.41470671219428756\n",
      "Prediction_local [0.70834583]\n",
      "Right: 0.8096003\n"
     ]
    },
    {
     "name": "stderr",
     "output_type": "stream",
     "text": [
      "/opt/oscer/software/Python/3.6.4-foss-2018a/lib/python3.6/site-packages/scipy-1.0.0-py3.6-linux-x86_64.egg/scipy/linalg/basic.py:40: RuntimeWarning: scipy.linalg.solve\n",
      "Ill-conditioned matrix detected. Result is not guaranteed to be accurate.\n",
      "Reciprocal condition number/precision: 2.4439801345854717e-18 / 1.1102230246251565e-16\n",
      "  RuntimeWarning)\n"
     ]
    },
    {
     "name": "stdout",
     "output_type": "stream",
     "text": [
      "Intercept 0.39542865634031815\n",
      "Prediction_local [0.71874363]\n",
      "Right: 0.8617891\n"
     ]
    },
    {
     "name": "stderr",
     "output_type": "stream",
     "text": [
      "/opt/oscer/software/Python/3.6.4-foss-2018a/lib/python3.6/site-packages/scipy-1.0.0-py3.6-linux-x86_64.egg/scipy/linalg/basic.py:40: RuntimeWarning: scipy.linalg.solve\n",
      "Ill-conditioned matrix detected. Result is not guaranteed to be accurate.\n",
      "Reciprocal condition number/precision: 3.904483142315218e-18 / 1.1102230246251565e-16\n",
      "  RuntimeWarning)\n"
     ]
    },
    {
     "name": "stdout",
     "output_type": "stream",
     "text": [
      "Intercept 0.4310986651683906\n",
      "Prediction_local [0.8042717]\n",
      "Right: 0.9619663\n",
      "Intercept 0.38235914606035726\n",
      "Prediction_local [0.72922971]\n",
      "Right: 0.84959835\n"
     ]
    },
    {
     "name": "stderr",
     "output_type": "stream",
     "text": [
      "/opt/oscer/software/Python/3.6.4-foss-2018a/lib/python3.6/site-packages/scipy-1.0.0-py3.6-linux-x86_64.egg/scipy/linalg/basic.py:40: RuntimeWarning: scipy.linalg.solve\n",
      "Ill-conditioned matrix detected. Result is not guaranteed to be accurate.\n",
      "Reciprocal condition number/precision: 2.8295073066280837e-18 / 1.1102230246251565e-16\n",
      "  RuntimeWarning)\n"
     ]
    },
    {
     "name": "stdout",
     "output_type": "stream",
     "text": [
      "Intercept 0.42923734612814834\n",
      "Prediction_local [0.63072396]\n",
      "Right: 0.70361626\n"
     ]
    },
    {
     "name": "stderr",
     "output_type": "stream",
     "text": [
      "/opt/oscer/software/Python/3.6.4-foss-2018a/lib/python3.6/site-packages/scipy-1.0.0-py3.6-linux-x86_64.egg/scipy/linalg/basic.py:40: RuntimeWarning: scipy.linalg.solve\n",
      "Ill-conditioned matrix detected. Result is not guaranteed to be accurate.\n",
      "Reciprocal condition number/precision: 7.774927969025518e-19 / 1.1102230246251565e-16\n",
      "  RuntimeWarning)\n"
     ]
    },
    {
     "name": "stdout",
     "output_type": "stream",
     "text": [
      "Intercept 0.4123854226667554\n",
      "Prediction_local [0.60861398]\n",
      "Right: 0.7127217\n",
      "Intercept 0.4171247689503964\n",
      "Prediction_local [0.82079522]\n",
      "Right: 0.9270092\n",
      "Intercept 0.5606389782409037\n",
      "Prediction_local [0.87103177]\n",
      "Right: 0.92768514\n",
      "Intercept 0.4320381635706758\n",
      "Prediction_local [0.79910206]\n",
      "Right: 0.8936504\n",
      "Intercept 0.47629093219664614\n",
      "Prediction_local [0.62698068]\n",
      "Right: 0.6887466\n",
      "Intercept 0.4191590394366421\n",
      "Prediction_local [0.6966167]\n",
      "Right: 0.854829\n"
     ]
    },
    {
     "name": "stderr",
     "output_type": "stream",
     "text": [
      "/opt/oscer/software/Python/3.6.4-foss-2018a/lib/python3.6/site-packages/scipy-1.0.0-py3.6-linux-x86_64.egg/scipy/linalg/basic.py:40: RuntimeWarning: scipy.linalg.solve\n",
      "Ill-conditioned matrix detected. Result is not guaranteed to be accurate.\n",
      "Reciprocal condition number/precision: 2.379261955428205e-18 / 1.1102230246251565e-16\n",
      "  RuntimeWarning)\n"
     ]
    },
    {
     "name": "stdout",
     "output_type": "stream",
     "text": [
      "Intercept 0.45726276006991884\n",
      "Prediction_local [0.71234013]\n",
      "Right: 0.81766784\n",
      "Intercept 0.44738286184379\n",
      "Prediction_local [0.73603275]\n",
      "Right: 0.8865042\n",
      "Intercept 0.42510721041873045\n",
      "Prediction_local [0.71927362]\n",
      "Right: 0.9012687\n"
     ]
    },
    {
     "name": "stderr",
     "output_type": "stream",
     "text": [
      "/opt/oscer/software/Python/3.6.4-foss-2018a/lib/python3.6/site-packages/scipy-1.0.0-py3.6-linux-x86_64.egg/scipy/linalg/basic.py:40: RuntimeWarning: scipy.linalg.solve\n",
      "Ill-conditioned matrix detected. Result is not guaranteed to be accurate.\n",
      "Reciprocal condition number/precision: 4.115715030562883e-18 / 1.1102230246251565e-16\n",
      "  RuntimeWarning)\n"
     ]
    },
    {
     "name": "stdout",
     "output_type": "stream",
     "text": [
      "Intercept 0.38217529865696387\n",
      "Prediction_local [0.7314383]\n",
      "Right: 0.76838875\n",
      "Intercept 0.4606849630425216\n",
      "Prediction_local [0.60553608]\n",
      "Right: 0.6741184\n",
      "Intercept 0.44435593134538154\n",
      "Prediction_local [0.72406323]\n",
      "Right: 0.8146101\n"
     ]
    },
    {
     "name": "stderr",
     "output_type": "stream",
     "text": [
      "/opt/oscer/software/Python/3.6.4-foss-2018a/lib/python3.6/site-packages/scipy-1.0.0-py3.6-linux-x86_64.egg/scipy/linalg/basic.py:40: RuntimeWarning: scipy.linalg.solve\n",
      "Ill-conditioned matrix detected. Result is not guaranteed to be accurate.\n",
      "Reciprocal condition number/precision: 1.788480866246889e-18 / 1.1102230246251565e-16\n",
      "  RuntimeWarning)\n"
     ]
    },
    {
     "name": "stdout",
     "output_type": "stream",
     "text": [
      "Intercept 0.41833556625940965\n",
      "Prediction_local [0.74730911]\n",
      "Right: 0.8600356\n"
     ]
    },
    {
     "name": "stderr",
     "output_type": "stream",
     "text": [
      "/opt/oscer/software/Python/3.6.4-foss-2018a/lib/python3.6/site-packages/scipy-1.0.0-py3.6-linux-x86_64.egg/scipy/linalg/basic.py:40: RuntimeWarning: scipy.linalg.solve\n",
      "Ill-conditioned matrix detected. Result is not guaranteed to be accurate.\n",
      "Reciprocal condition number/precision: 2.2520644572280243e-19 / 1.1102230246251565e-16\n",
      "  RuntimeWarning)\n"
     ]
    },
    {
     "name": "stdout",
     "output_type": "stream",
     "text": [
      "Intercept 0.48263782818808443\n",
      "Prediction_local [0.66016026]\n",
      "Right: 0.77380836\n",
      "Intercept 0.48861824919150765\n",
      "Prediction_local [0.67993286]\n",
      "Right: 0.7314109\n",
      "Intercept 0.46551794139560493\n",
      "Prediction_local [0.63724153]\n",
      "Right: 0.70512533\n"
     ]
    },
    {
     "name": "stderr",
     "output_type": "stream",
     "text": [
      "/opt/oscer/software/Python/3.6.4-foss-2018a/lib/python3.6/site-packages/scipy-1.0.0-py3.6-linux-x86_64.egg/scipy/linalg/basic.py:40: RuntimeWarning: scipy.linalg.solve\n",
      "Ill-conditioned matrix detected. Result is not guaranteed to be accurate.\n",
      "Reciprocal condition number/precision: 8.649232288649949e-19 / 1.1102230246251565e-16\n",
      "  RuntimeWarning)\n"
     ]
    },
    {
     "name": "stdout",
     "output_type": "stream",
     "text": [
      "Intercept 0.3800283265396531\n",
      "Prediction_local [0.79390732]\n",
      "Right: 0.8958092\n",
      "Intercept 0.46469979033774306\n",
      "Prediction_local [0.69979882]\n",
      "Right: 0.8558318\n",
      "Intercept 0.3899673637872548\n",
      "Prediction_local [0.64913575]\n",
      "Right: 0.69173837\n",
      "Intercept 0.4287436174913348\n",
      "Prediction_local [0.76069546]\n",
      "Right: 0.8748776\n"
     ]
    },
    {
     "name": "stderr",
     "output_type": "stream",
     "text": [
      "/opt/oscer/software/Python/3.6.4-foss-2018a/lib/python3.6/site-packages/scipy-1.0.0-py3.6-linux-x86_64.egg/scipy/linalg/basic.py:40: RuntimeWarning: scipy.linalg.solve\n",
      "Ill-conditioned matrix detected. Result is not guaranteed to be accurate.\n",
      "Reciprocal condition number/precision: 6.6402827023655706e-18 / 1.1102230246251565e-16\n",
      "  RuntimeWarning)\n"
     ]
    },
    {
     "name": "stdout",
     "output_type": "stream",
     "text": [
      "Intercept 0.47010026880751216\n",
      "Prediction_local [0.64201942]\n",
      "Right: 0.6847299\n"
     ]
    },
    {
     "name": "stderr",
     "output_type": "stream",
     "text": [
      "/opt/oscer/software/Python/3.6.4-foss-2018a/lib/python3.6/site-packages/scipy-1.0.0-py3.6-linux-x86_64.egg/scipy/linalg/basic.py:40: RuntimeWarning: scipy.linalg.solve\n",
      "Ill-conditioned matrix detected. Result is not guaranteed to be accurate.\n",
      "Reciprocal condition number/precision: 4.50716437737209e-18 / 1.1102230246251565e-16\n",
      "  RuntimeWarning)\n"
     ]
    },
    {
     "name": "stdout",
     "output_type": "stream",
     "text": [
      "Intercept 0.3981809132960235\n",
      "Prediction_local [0.71172305]\n",
      "Right: 0.7765447\n",
      "Intercept 0.3247152578362004\n",
      "Prediction_local [0.73830866]\n",
      "Right: 0.84355295\n"
     ]
    },
    {
     "name": "stderr",
     "output_type": "stream",
     "text": [
      "/opt/oscer/software/Python/3.6.4-foss-2018a/lib/python3.6/site-packages/scipy-1.0.0-py3.6-linux-x86_64.egg/scipy/linalg/basic.py:40: RuntimeWarning: scipy.linalg.solve\n",
      "Ill-conditioned matrix detected. Result is not guaranteed to be accurate.\n",
      "Reciprocal condition number/precision: 1.5059114368264317e-18 / 1.1102230246251565e-16\n",
      "  RuntimeWarning)\n"
     ]
    },
    {
     "name": "stdout",
     "output_type": "stream",
     "text": [
      "Intercept 0.4407861729303089\n",
      "Prediction_local [0.80159706]\n",
      "Right: 0.94830614\n"
     ]
    },
    {
     "name": "stderr",
     "output_type": "stream",
     "text": [
      "/opt/oscer/software/Python/3.6.4-foss-2018a/lib/python3.6/site-packages/scipy-1.0.0-py3.6-linux-x86_64.egg/scipy/linalg/basic.py:40: RuntimeWarning: scipy.linalg.solve\n",
      "Ill-conditioned matrix detected. Result is not guaranteed to be accurate.\n",
      "Reciprocal condition number/precision: 2.3893137156927935e-18 / 1.1102230246251565e-16\n",
      "  RuntimeWarning)\n"
     ]
    },
    {
     "name": "stdout",
     "output_type": "stream",
     "text": [
      "Intercept 0.43468167282470793\n",
      "Prediction_local [0.83198921]\n",
      "Right: 0.891724\n"
     ]
    },
    {
     "name": "stderr",
     "output_type": "stream",
     "text": [
      "/opt/oscer/software/Python/3.6.4-foss-2018a/lib/python3.6/site-packages/scipy-1.0.0-py3.6-linux-x86_64.egg/scipy/linalg/basic.py:40: RuntimeWarning: scipy.linalg.solve\n",
      "Ill-conditioned matrix detected. Result is not guaranteed to be accurate.\n",
      "Reciprocal condition number/precision: 1.1628065909384761e-18 / 1.1102230246251565e-16\n",
      "  RuntimeWarning)\n"
     ]
    },
    {
     "name": "stdout",
     "output_type": "stream",
     "text": [
      "Intercept 0.34046820376468356\n",
      "Prediction_local [0.83008501]\n",
      "Right: 0.95737445\n",
      "Intercept 0.501256665068561\n",
      "Prediction_local [0.79928632]\n",
      "Right: 0.92638147\n"
     ]
    },
    {
     "name": "stderr",
     "output_type": "stream",
     "text": [
      "/opt/oscer/software/Python/3.6.4-foss-2018a/lib/python3.6/site-packages/scipy-1.0.0-py3.6-linux-x86_64.egg/scipy/linalg/basic.py:40: RuntimeWarning: scipy.linalg.solve\n",
      "Ill-conditioned matrix detected. Result is not guaranteed to be accurate.\n",
      "Reciprocal condition number/precision: 7.038899059995517e-19 / 1.1102230246251565e-16\n",
      "  RuntimeWarning)\n"
     ]
    },
    {
     "name": "stdout",
     "output_type": "stream",
     "text": [
      "Intercept 0.40795030464327375\n",
      "Prediction_local [0.78797096]\n",
      "Right: 0.93077207\n",
      "Intercept 0.5469967492390195\n",
      "Prediction_local [0.65810781]\n",
      "Right: 0.7274976\n",
      "Intercept 0.41251418583216504\n",
      "Prediction_local [0.72021573]\n",
      "Right: 0.8180448\n",
      "Intercept 0.4282143456939123\n",
      "Prediction_local [0.77663936]\n",
      "Right: 0.9086502\n",
      "Intercept 0.41652438110726847\n",
      "Prediction_local [0.69014219]\n",
      "Right: 0.7738154\n",
      "Intercept 0.3878767898334471\n",
      "Prediction_local [0.63148468]\n",
      "Right: 0.7274586\n"
     ]
    },
    {
     "name": "stderr",
     "output_type": "stream",
     "text": [
      "/opt/oscer/software/Python/3.6.4-foss-2018a/lib/python3.6/site-packages/scipy-1.0.0-py3.6-linux-x86_64.egg/scipy/linalg/basic.py:40: RuntimeWarning: scipy.linalg.solve\n",
      "Ill-conditioned matrix detected. Result is not guaranteed to be accurate.\n",
      "Reciprocal condition number/precision: 2.5420317824011662e-18 / 1.1102230246251565e-16\n",
      "  RuntimeWarning)\n"
     ]
    },
    {
     "name": "stdout",
     "output_type": "stream",
     "text": [
      "Intercept 0.4933467815232686\n",
      "Prediction_local [0.65198705]\n",
      "Right: 0.7236248\n",
      "Intercept 0.37146979426193993\n",
      "Prediction_local [0.62194263]\n",
      "Right: 0.68185174\n",
      "Intercept 0.44295864223445824\n",
      "Prediction_local [0.74286102]\n",
      "Right: 0.8835877\n"
     ]
    },
    {
     "name": "stderr",
     "output_type": "stream",
     "text": [
      "/opt/oscer/software/Python/3.6.4-foss-2018a/lib/python3.6/site-packages/scipy-1.0.0-py3.6-linux-x86_64.egg/scipy/linalg/basic.py:40: RuntimeWarning: scipy.linalg.solve\n",
      "Ill-conditioned matrix detected. Result is not guaranteed to be accurate.\n",
      "Reciprocal condition number/precision: 5.070521813296119e-19 / 1.1102230246251565e-16\n",
      "  RuntimeWarning)\n"
     ]
    },
    {
     "name": "stdout",
     "output_type": "stream",
     "text": [
      "Intercept 0.3758090640838193\n",
      "Prediction_local [0.77163222]\n",
      "Right: 0.83059275\n",
      "Intercept 0.38372566934902996\n",
      "Prediction_local [0.6922502]\n",
      "Right: 0.8044712\n",
      "Intercept 0.3564627056615557\n",
      "Prediction_local [0.73647424]\n",
      "Right: 0.8827554\n"
     ]
    },
    {
     "name": "stderr",
     "output_type": "stream",
     "text": [
      "/opt/oscer/software/Python/3.6.4-foss-2018a/lib/python3.6/site-packages/scipy-1.0.0-py3.6-linux-x86_64.egg/scipy/linalg/basic.py:40: RuntimeWarning: scipy.linalg.solve\n",
      "Ill-conditioned matrix detected. Result is not guaranteed to be accurate.\n",
      "Reciprocal condition number/precision: 8.793390250252685e-19 / 1.1102230246251565e-16\n",
      "  RuntimeWarning)\n"
     ]
    },
    {
     "name": "stdout",
     "output_type": "stream",
     "text": [
      "Intercept 0.41906353912647987\n",
      "Prediction_local [0.82879666]\n",
      "Right: 0.9667467\n"
     ]
    },
    {
     "name": "stderr",
     "output_type": "stream",
     "text": [
      "/opt/oscer/software/Python/3.6.4-foss-2018a/lib/python3.6/site-packages/scipy-1.0.0-py3.6-linux-x86_64.egg/scipy/linalg/basic.py:40: RuntimeWarning: scipy.linalg.solve\n",
      "Ill-conditioned matrix detected. Result is not guaranteed to be accurate.\n",
      "Reciprocal condition number/precision: 3.5705730678886925e-18 / 1.1102230246251565e-16\n",
      "  RuntimeWarning)\n"
     ]
    },
    {
     "name": "stdout",
     "output_type": "stream",
     "text": [
      "Intercept 0.5258400488263785\n",
      "Prediction_local [0.61106179]\n",
      "Right: 0.6911865\n"
     ]
    },
    {
     "name": "stderr",
     "output_type": "stream",
     "text": [
      "/opt/oscer/software/Python/3.6.4-foss-2018a/lib/python3.6/site-packages/scipy-1.0.0-py3.6-linux-x86_64.egg/scipy/linalg/basic.py:40: RuntimeWarning: scipy.linalg.solve\n",
      "Ill-conditioned matrix detected. Result is not guaranteed to be accurate.\n",
      "Reciprocal condition number/precision: 1.7957853419760663e-18 / 1.1102230246251565e-16\n",
      "  RuntimeWarning)\n"
     ]
    },
    {
     "name": "stdout",
     "output_type": "stream",
     "text": [
      "Intercept 0.45004987816025227\n",
      "Prediction_local [0.75963633]\n",
      "Right: 0.82586104\n",
      "Intercept 0.3911209543490203\n",
      "Prediction_local [0.594383]\n",
      "Right: 0.6974691\n",
      "Intercept 0.4122727154647378\n",
      "Prediction_local [0.72304851]\n",
      "Right: 0.8568963\n",
      "Intercept 0.34969931398181553\n",
      "Prediction_local [0.6077243]\n",
      "Right: 0.6719205\n"
     ]
    },
    {
     "name": "stderr",
     "output_type": "stream",
     "text": [
      "/opt/oscer/software/Python/3.6.4-foss-2018a/lib/python3.6/site-packages/scipy-1.0.0-py3.6-linux-x86_64.egg/scipy/linalg/basic.py:40: RuntimeWarning: scipy.linalg.solve\n",
      "Ill-conditioned matrix detected. Result is not guaranteed to be accurate.\n",
      "Reciprocal condition number/precision: 7.05707236497496e-19 / 1.1102230246251565e-16\n",
      "  RuntimeWarning)\n"
     ]
    },
    {
     "name": "stdout",
     "output_type": "stream",
     "text": [
      "Intercept 0.5188335542899893\n",
      "Prediction_local [0.73688577]\n",
      "Right: 0.8211688\n",
      "Intercept 0.40686675047125415\n",
      "Prediction_local [0.79791305]\n",
      "Right: 0.9438771\n"
     ]
    },
    {
     "name": "stderr",
     "output_type": "stream",
     "text": [
      "/opt/oscer/software/Python/3.6.4-foss-2018a/lib/python3.6/site-packages/scipy-1.0.0-py3.6-linux-x86_64.egg/scipy/linalg/basic.py:40: RuntimeWarning: scipy.linalg.solve\n",
      "Ill-conditioned matrix detected. Result is not guaranteed to be accurate.\n",
      "Reciprocal condition number/precision: 2.0833066812659196e-18 / 1.1102230246251565e-16\n",
      "  RuntimeWarning)\n"
     ]
    },
    {
     "name": "stdout",
     "output_type": "stream",
     "text": [
      "Intercept 0.3621258218811687\n",
      "Prediction_local [0.7445216]\n",
      "Right: 0.9092363\n"
     ]
    },
    {
     "name": "stderr",
     "output_type": "stream",
     "text": [
      "/opt/oscer/software/Python/3.6.4-foss-2018a/lib/python3.6/site-packages/scipy-1.0.0-py3.6-linux-x86_64.egg/scipy/linalg/basic.py:40: RuntimeWarning: scipy.linalg.solve\n",
      "Ill-conditioned matrix detected. Result is not guaranteed to be accurate.\n",
      "Reciprocal condition number/precision: 3.5105156119974755e-18 / 1.1102230246251565e-16\n",
      "  RuntimeWarning)\n"
     ]
    },
    {
     "name": "stdout",
     "output_type": "stream",
     "text": [
      "Intercept 0.4255620756064281\n",
      "Prediction_local [0.67890546]\n",
      "Right: 0.8544412\n",
      "Intercept 0.47364303488885234\n",
      "Prediction_local [0.82623861]\n",
      "Right: 0.94562685\n",
      "Intercept 0.5042053776849856\n",
      "Prediction_local [0.84540966]\n",
      "Right: 0.8955499\n",
      "Intercept 0.4455512792549944\n",
      "Prediction_local [0.61711386]\n",
      "Right: 0.67449504\n",
      "Intercept 0.4176756224543049\n",
      "Prediction_local [0.63625772]\n",
      "Right: 0.6706826\n"
     ]
    },
    {
     "name": "stderr",
     "output_type": "stream",
     "text": [
      "/opt/oscer/software/Python/3.6.4-foss-2018a/lib/python3.6/site-packages/scipy-1.0.0-py3.6-linux-x86_64.egg/scipy/linalg/basic.py:40: RuntimeWarning: scipy.linalg.solve\n",
      "Ill-conditioned matrix detected. Result is not guaranteed to be accurate.\n",
      "Reciprocal condition number/precision: 7.648854640984507e-19 / 1.1102230246251565e-16\n",
      "  RuntimeWarning)\n"
     ]
    },
    {
     "name": "stdout",
     "output_type": "stream",
     "text": [
      "Intercept 0.4384816497156183\n",
      "Prediction_local [0.63957822]\n",
      "Right: 0.75413984\n"
     ]
    },
    {
     "name": "stderr",
     "output_type": "stream",
     "text": [
      "/opt/oscer/software/Python/3.6.4-foss-2018a/lib/python3.6/site-packages/scipy-1.0.0-py3.6-linux-x86_64.egg/scipy/linalg/basic.py:40: RuntimeWarning: scipy.linalg.solve\n",
      "Ill-conditioned matrix detected. Result is not guaranteed to be accurate.\n",
      "Reciprocal condition number/precision: 1.4461115839655157e-18 / 1.1102230246251565e-16\n",
      "  RuntimeWarning)\n"
     ]
    },
    {
     "name": "stdout",
     "output_type": "stream",
     "text": [
      "Intercept 0.3830644817824331\n",
      "Prediction_local [0.71525942]\n",
      "Right: 0.7426627\n"
     ]
    },
    {
     "name": "stderr",
     "output_type": "stream",
     "text": [
      "/opt/oscer/software/Python/3.6.4-foss-2018a/lib/python3.6/site-packages/scipy-1.0.0-py3.6-linux-x86_64.egg/scipy/linalg/basic.py:40: RuntimeWarning: scipy.linalg.solve\n",
      "Ill-conditioned matrix detected. Result is not guaranteed to be accurate.\n",
      "Reciprocal condition number/precision: 1.137410542868381e-18 / 1.1102230246251565e-16\n",
      "  RuntimeWarning)\n"
     ]
    },
    {
     "name": "stdout",
     "output_type": "stream",
     "text": [
      "Intercept 0.4464043291118064\n",
      "Prediction_local [0.63025387]\n",
      "Right: 0.7130242\n",
      "Intercept 0.42067706464802934\n",
      "Prediction_local [0.72948003]\n",
      "Right: 0.881668\n",
      "Intercept 0.3616858465555932\n",
      "Prediction_local [0.7375436]\n",
      "Right: 0.92087567\n",
      "Intercept 0.3735050440891137\n",
      "Prediction_local [0.72124797]\n",
      "Right: 0.893463\n",
      "Intercept 0.463911675354496\n",
      "Prediction_local [0.59314242]\n",
      "Right: 0.6720629\n"
     ]
    },
    {
     "name": "stderr",
     "output_type": "stream",
     "text": [
      "/opt/oscer/software/Python/3.6.4-foss-2018a/lib/python3.6/site-packages/scipy-1.0.0-py3.6-linux-x86_64.egg/scipy/linalg/basic.py:40: RuntimeWarning: scipy.linalg.solve\n",
      "Ill-conditioned matrix detected. Result is not guaranteed to be accurate.\n",
      "Reciprocal condition number/precision: 2.0969369383561014e-19 / 1.1102230246251565e-16\n",
      "  RuntimeWarning)\n"
     ]
    },
    {
     "name": "stdout",
     "output_type": "stream",
     "text": [
      "Intercept 0.4393229520127353\n",
      "Prediction_local [0.62553335]\n",
      "Right: 0.70371735\n"
     ]
    },
    {
     "name": "stderr",
     "output_type": "stream",
     "text": [
      "/opt/oscer/software/Python/3.6.4-foss-2018a/lib/python3.6/site-packages/scipy-1.0.0-py3.6-linux-x86_64.egg/scipy/linalg/basic.py:40: RuntimeWarning: scipy.linalg.solve\n",
      "Ill-conditioned matrix detected. Result is not guaranteed to be accurate.\n",
      "Reciprocal condition number/precision: 4.090674555719665e-18 / 1.1102230246251565e-16\n",
      "  RuntimeWarning)\n"
     ]
    },
    {
     "name": "stdout",
     "output_type": "stream",
     "text": [
      "Intercept 0.5009060897657599\n",
      "Prediction_local [0.67314113]\n",
      "Right: 0.7441152\n"
     ]
    },
    {
     "name": "stderr",
     "output_type": "stream",
     "text": [
      "/opt/oscer/software/Python/3.6.4-foss-2018a/lib/python3.6/site-packages/scipy-1.0.0-py3.6-linux-x86_64.egg/scipy/linalg/basic.py:40: RuntimeWarning: scipy.linalg.solve\n",
      "Ill-conditioned matrix detected. Result is not guaranteed to be accurate.\n",
      "Reciprocal condition number/precision: 4.402287933149729e-18 / 1.1102230246251565e-16\n",
      "  RuntimeWarning)\n"
     ]
    },
    {
     "name": "stdout",
     "output_type": "stream",
     "text": [
      "Intercept 0.5265107153713947\n",
      "Prediction_local [0.63862177]\n",
      "Right: 0.68857753\n",
      "Intercept 0.29034936040877124\n",
      "Prediction_local [0.70875599]\n",
      "Right: 0.8296732\n"
     ]
    },
    {
     "name": "stderr",
     "output_type": "stream",
     "text": [
      "/opt/oscer/software/Python/3.6.4-foss-2018a/lib/python3.6/site-packages/scipy-1.0.0-py3.6-linux-x86_64.egg/scipy/linalg/basic.py:40: RuntimeWarning: scipy.linalg.solve\n",
      "Ill-conditioned matrix detected. Result is not guaranteed to be accurate.\n",
      "Reciprocal condition number/precision: 1.6223489044379621e-18 / 1.1102230246251565e-16\n",
      "  RuntimeWarning)\n"
     ]
    },
    {
     "name": "stdout",
     "output_type": "stream",
     "text": [
      "Intercept 0.3823454206118076\n",
      "Prediction_local [0.71006594]\n",
      "Right: 0.87676203\n",
      "Intercept 0.4100991121051816\n",
      "Prediction_local [0.61931253]\n",
      "Right: 0.6888006\n"
     ]
    },
    {
     "name": "stderr",
     "output_type": "stream",
     "text": [
      "/opt/oscer/software/Python/3.6.4-foss-2018a/lib/python3.6/site-packages/scipy-1.0.0-py3.6-linux-x86_64.egg/scipy/linalg/basic.py:40: RuntimeWarning: scipy.linalg.solve\n",
      "Ill-conditioned matrix detected. Result is not guaranteed to be accurate.\n",
      "Reciprocal condition number/precision: 1.25916418494062e-18 / 1.1102230246251565e-16\n",
      "  RuntimeWarning)\n"
     ]
    },
    {
     "name": "stdout",
     "output_type": "stream",
     "text": [
      "Intercept 0.3978851435826389\n",
      "Prediction_local [0.66493937]\n",
      "Right: 0.770096\n"
     ]
    },
    {
     "name": "stderr",
     "output_type": "stream",
     "text": [
      "/opt/oscer/software/Python/3.6.4-foss-2018a/lib/python3.6/site-packages/scipy-1.0.0-py3.6-linux-x86_64.egg/scipy/linalg/basic.py:40: RuntimeWarning: scipy.linalg.solve\n",
      "Ill-conditioned matrix detected. Result is not guaranteed to be accurate.\n",
      "Reciprocal condition number/precision: 2.0534887248091895e-18 / 1.1102230246251565e-16\n",
      "  RuntimeWarning)\n"
     ]
    },
    {
     "name": "stdout",
     "output_type": "stream",
     "text": [
      "Intercept 0.39903286698472684\n",
      "Prediction_local [0.6592348]\n",
      "Right: 0.7398678\n"
     ]
    },
    {
     "name": "stderr",
     "output_type": "stream",
     "text": [
      "/opt/oscer/software/Python/3.6.4-foss-2018a/lib/python3.6/site-packages/scipy-1.0.0-py3.6-linux-x86_64.egg/scipy/linalg/basic.py:40: RuntimeWarning: scipy.linalg.solve\n",
      "Ill-conditioned matrix detected. Result is not guaranteed to be accurate.\n",
      "Reciprocal condition number/precision: 3.4080249497994807e-19 / 1.1102230246251565e-16\n",
      "  RuntimeWarning)\n"
     ]
    },
    {
     "name": "stdout",
     "output_type": "stream",
     "text": [
      "Intercept 0.3852816839739784\n",
      "Prediction_local [0.73320632]\n",
      "Right: 0.89298564\n",
      "Intercept 0.47534225198031976\n",
      "Prediction_local [0.6782568]\n",
      "Right: 0.68773526\n"
     ]
    },
    {
     "name": "stderr",
     "output_type": "stream",
     "text": [
      "/opt/oscer/software/Python/3.6.4-foss-2018a/lib/python3.6/site-packages/scipy-1.0.0-py3.6-linux-x86_64.egg/scipy/linalg/basic.py:40: RuntimeWarning: scipy.linalg.solve\n",
      "Ill-conditioned matrix detected. Result is not guaranteed to be accurate.\n",
      "Reciprocal condition number/precision: 4.90431493175161e-18 / 1.1102230246251565e-16\n",
      "  RuntimeWarning)\n"
     ]
    },
    {
     "name": "stdout",
     "output_type": "stream",
     "text": [
      "Intercept 0.5119485040693488\n",
      "Prediction_local [0.65959029]\n",
      "Right: 0.7045194\n"
     ]
    },
    {
     "name": "stderr",
     "output_type": "stream",
     "text": [
      "/opt/oscer/software/Python/3.6.4-foss-2018a/lib/python3.6/site-packages/scipy-1.0.0-py3.6-linux-x86_64.egg/scipy/linalg/basic.py:40: RuntimeWarning: scipy.linalg.solve\n",
      "Ill-conditioned matrix detected. Result is not guaranteed to be accurate.\n",
      "Reciprocal condition number/precision: 1.878646016254769e-19 / 1.1102230246251565e-16\n",
      "  RuntimeWarning)\n"
     ]
    },
    {
     "name": "stdout",
     "output_type": "stream",
     "text": [
      "Intercept 0.4404416640191271\n",
      "Prediction_local [0.60394256]\n",
      "Right: 0.7031429\n"
     ]
    },
    {
     "name": "stderr",
     "output_type": "stream",
     "text": [
      "/opt/oscer/software/Python/3.6.4-foss-2018a/lib/python3.6/site-packages/scipy-1.0.0-py3.6-linux-x86_64.egg/scipy/linalg/basic.py:40: RuntimeWarning: scipy.linalg.solve\n",
      "Ill-conditioned matrix detected. Result is not guaranteed to be accurate.\n",
      "Reciprocal condition number/precision: 8.723103399869392e-18 / 1.1102230246251565e-16\n",
      "  RuntimeWarning)\n"
     ]
    },
    {
     "name": "stdout",
     "output_type": "stream",
     "text": [
      "Intercept 0.49931581639956324\n",
      "Prediction_local [0.7302771]\n",
      "Right: 0.8300692\n"
     ]
    },
    {
     "name": "stderr",
     "output_type": "stream",
     "text": [
      "/opt/oscer/software/Python/3.6.4-foss-2018a/lib/python3.6/site-packages/scipy-1.0.0-py3.6-linux-x86_64.egg/scipy/linalg/basic.py:40: RuntimeWarning: scipy.linalg.solve\n",
      "Ill-conditioned matrix detected. Result is not guaranteed to be accurate.\n",
      "Reciprocal condition number/precision: 6.18701960227524e-19 / 1.1102230246251565e-16\n",
      "  RuntimeWarning)\n"
     ]
    },
    {
     "name": "stdout",
     "output_type": "stream",
     "text": [
      "Intercept 0.45844249582707974\n",
      "Prediction_local [0.63150066]\n",
      "Right: 0.7050262\n"
     ]
    },
    {
     "name": "stderr",
     "output_type": "stream",
     "text": [
      "/opt/oscer/software/Python/3.6.4-foss-2018a/lib/python3.6/site-packages/scipy-1.0.0-py3.6-linux-x86_64.egg/scipy/linalg/basic.py:40: RuntimeWarning: scipy.linalg.solve\n",
      "Ill-conditioned matrix detected. Result is not guaranteed to be accurate.\n",
      "Reciprocal condition number/precision: 5.751076004284536e-18 / 1.1102230246251565e-16\n",
      "  RuntimeWarning)\n"
     ]
    },
    {
     "name": "stdout",
     "output_type": "stream",
     "text": [
      "Intercept 0.28110806902944263\n",
      "Prediction_local [0.81563668]\n",
      "Right: 0.94798255\n"
     ]
    },
    {
     "name": "stderr",
     "output_type": "stream",
     "text": [
      "/opt/oscer/software/Python/3.6.4-foss-2018a/lib/python3.6/site-packages/scipy-1.0.0-py3.6-linux-x86_64.egg/scipy/linalg/basic.py:40: RuntimeWarning: scipy.linalg.solve\n",
      "Ill-conditioned matrix detected. Result is not guaranteed to be accurate.\n",
      "Reciprocal condition number/precision: 1.7967277507937587e-18 / 1.1102230246251565e-16\n",
      "  RuntimeWarning)\n"
     ]
    },
    {
     "name": "stdout",
     "output_type": "stream",
     "text": [
      "Intercept 0.4200538100198364\n",
      "Prediction_local [0.79786883]\n",
      "Right: 0.91832054\n",
      "Intercept 0.3984384396244529\n",
      "Prediction_local [0.73728512]\n",
      "Right: 0.9087082\n"
     ]
    },
    {
     "name": "stderr",
     "output_type": "stream",
     "text": [
      "/opt/oscer/software/Python/3.6.4-foss-2018a/lib/python3.6/site-packages/scipy-1.0.0-py3.6-linux-x86_64.egg/scipy/linalg/basic.py:40: RuntimeWarning: scipy.linalg.solve\n",
      "Ill-conditioned matrix detected. Result is not guaranteed to be accurate.\n",
      "Reciprocal condition number/precision: 5.963027337219178e-19 / 1.1102230246251565e-16\n",
      "  RuntimeWarning)\n"
     ]
    },
    {
     "name": "stdout",
     "output_type": "stream",
     "text": [
      "Intercept 0.37044646616791127\n",
      "Prediction_local [0.80696068]\n",
      "Right: 0.9427332\n"
     ]
    },
    {
     "name": "stderr",
     "output_type": "stream",
     "text": [
      "/opt/oscer/software/Python/3.6.4-foss-2018a/lib/python3.6/site-packages/scipy-1.0.0-py3.6-linux-x86_64.egg/scipy/linalg/basic.py:40: RuntimeWarning: scipy.linalg.solve\n",
      "Ill-conditioned matrix detected. Result is not guaranteed to be accurate.\n",
      "Reciprocal condition number/precision: 1.0618007117943958e-18 / 1.1102230246251565e-16\n",
      "  RuntimeWarning)\n"
     ]
    },
    {
     "name": "stdout",
     "output_type": "stream",
     "text": [
      "Intercept 0.36319131200116406\n",
      "Prediction_local [0.69294868]\n",
      "Right: 0.7919481\n",
      "Intercept 0.40101586905265485\n",
      "Prediction_local [0.81826968]\n",
      "Right: 0.9106995\n",
      "Intercept 0.4154408814233881\n",
      "Prediction_local [0.62063772]\n",
      "Right: 0.6907301\n"
     ]
    },
    {
     "name": "stderr",
     "output_type": "stream",
     "text": [
      "/opt/oscer/software/Python/3.6.4-foss-2018a/lib/python3.6/site-packages/scipy-1.0.0-py3.6-linux-x86_64.egg/scipy/linalg/basic.py:40: RuntimeWarning: scipy.linalg.solve\n",
      "Ill-conditioned matrix detected. Result is not guaranteed to be accurate.\n",
      "Reciprocal condition number/precision: 1.2174302718605643e-18 / 1.1102230246251565e-16\n",
      "  RuntimeWarning)\n"
     ]
    },
    {
     "name": "stdout",
     "output_type": "stream",
     "text": [
      "Intercept 0.4109408638011483\n",
      "Prediction_local [0.79872422]\n",
      "Right: 0.9299545\n",
      "Intercept 0.36158564286248424\n",
      "Prediction_local [0.67516412]\n",
      "Right: 0.74872684\n",
      "Intercept 0.4644169882007314\n",
      "Prediction_local [0.70414444]\n",
      "Right: 0.73299754\n"
     ]
    },
    {
     "name": "stderr",
     "output_type": "stream",
     "text": [
      "/opt/oscer/software/Python/3.6.4-foss-2018a/lib/python3.6/site-packages/scipy-1.0.0-py3.6-linux-x86_64.egg/scipy/linalg/basic.py:40: RuntimeWarning: scipy.linalg.solve\n",
      "Ill-conditioned matrix detected. Result is not guaranteed to be accurate.\n",
      "Reciprocal condition number/precision: 2.2357100772952844e-18 / 1.1102230246251565e-16\n",
      "  RuntimeWarning)\n"
     ]
    },
    {
     "name": "stdout",
     "output_type": "stream",
     "text": [
      "Intercept 0.30734996867664377\n",
      "Prediction_local [0.75466726]\n",
      "Right: 0.91432166\n"
     ]
    },
    {
     "name": "stderr",
     "output_type": "stream",
     "text": [
      "/opt/oscer/software/Python/3.6.4-foss-2018a/lib/python3.6/site-packages/scipy-1.0.0-py3.6-linux-x86_64.egg/scipy/linalg/basic.py:40: RuntimeWarning: scipy.linalg.solve\n",
      "Ill-conditioned matrix detected. Result is not guaranteed to be accurate.\n",
      "Reciprocal condition number/precision: 1.4460995196006894e-18 / 1.1102230246251565e-16\n",
      "  RuntimeWarning)\n"
     ]
    },
    {
     "name": "stdout",
     "output_type": "stream",
     "text": [
      "Intercept 0.40334891189297006\n",
      "Prediction_local [0.76078703]\n",
      "Right: 0.90188843\n",
      "Intercept 0.43312079757319494\n",
      "Prediction_local [0.78145518]\n",
      "Right: 0.83617\n"
     ]
    },
    {
     "name": "stderr",
     "output_type": "stream",
     "text": [
      "/opt/oscer/software/Python/3.6.4-foss-2018a/lib/python3.6/site-packages/scipy-1.0.0-py3.6-linux-x86_64.egg/scipy/linalg/basic.py:40: RuntimeWarning: scipy.linalg.solve\n",
      "Ill-conditioned matrix detected. Result is not guaranteed to be accurate.\n",
      "Reciprocal condition number/precision: 3.06551106871722e-18 / 1.1102230246251565e-16\n",
      "  RuntimeWarning)\n"
     ]
    },
    {
     "name": "stdout",
     "output_type": "stream",
     "text": [
      "Intercept 0.3729203226212139\n",
      "Prediction_local [0.8083719]\n",
      "Right: 0.8883959\n",
      "Intercept 0.380402793764356\n",
      "Prediction_local [0.72139409]\n",
      "Right: 0.80065423\n"
     ]
    },
    {
     "name": "stderr",
     "output_type": "stream",
     "text": [
      "/opt/oscer/software/Python/3.6.4-foss-2018a/lib/python3.6/site-packages/scipy-1.0.0-py3.6-linux-x86_64.egg/scipy/linalg/basic.py:40: RuntimeWarning: scipy.linalg.solve\n",
      "Ill-conditioned matrix detected. Result is not guaranteed to be accurate.\n",
      "Reciprocal condition number/precision: 1.7209440336994084e-18 / 1.1102230246251565e-16\n",
      "  RuntimeWarning)\n"
     ]
    },
    {
     "name": "stdout",
     "output_type": "stream",
     "text": [
      "Intercept 0.38193802735798876\n",
      "Prediction_local [0.67291479]\n",
      "Right: 0.74243337\n"
     ]
    },
    {
     "name": "stderr",
     "output_type": "stream",
     "text": [
      "/opt/oscer/software/Python/3.6.4-foss-2018a/lib/python3.6/site-packages/scipy-1.0.0-py3.6-linux-x86_64.egg/scipy/linalg/basic.py:40: RuntimeWarning: scipy.linalg.solve\n",
      "Ill-conditioned matrix detected. Result is not guaranteed to be accurate.\n",
      "Reciprocal condition number/precision: 2.6143138263212736e-18 / 1.1102230246251565e-16\n",
      "  RuntimeWarning)\n"
     ]
    },
    {
     "name": "stdout",
     "output_type": "stream",
     "text": [
      "Intercept 0.4055372511447642\n",
      "Prediction_local [0.81080069]\n",
      "Right: 0.952899\n",
      "Intercept 0.42404607850886367\n",
      "Prediction_local [0.69913024]\n",
      "Right: 0.8183204\n"
     ]
    },
    {
     "name": "stderr",
     "output_type": "stream",
     "text": [
      "/opt/oscer/software/Python/3.6.4-foss-2018a/lib/python3.6/site-packages/scipy-1.0.0-py3.6-linux-x86_64.egg/scipy/linalg/basic.py:40: RuntimeWarning: scipy.linalg.solve\n",
      "Ill-conditioned matrix detected. Result is not guaranteed to be accurate.\n",
      "Reciprocal condition number/precision: 7.220577376358169e-18 / 1.1102230246251565e-16\n",
      "  RuntimeWarning)\n"
     ]
    },
    {
     "name": "stdout",
     "output_type": "stream",
     "text": [
      "Intercept 0.41522690304763804\n",
      "Prediction_local [0.70092572]\n",
      "Right: 0.8199395\n",
      "Intercept 0.42808744840792584\n",
      "Prediction_local [0.76415366]\n",
      "Right: 0.8909105\n",
      "Intercept 0.4862035273669468\n",
      "Prediction_local [0.6524062]\n",
      "Right: 0.7611865\n",
      "Intercept 0.3504716065286132\n",
      "Prediction_local [0.67368846]\n",
      "Right: 0.7454753\n",
      "Intercept 0.4160190706563675\n",
      "Prediction_local [0.60990936]\n",
      "Right: 0.67164826\n",
      "Intercept 0.4229822894266043\n",
      "Prediction_local [0.71338162]\n",
      "Right: 0.8561388\n",
      "Intercept 0.2551574759301762\n",
      "Prediction_local [0.74600898]\n",
      "Right: 0.90179753\n"
     ]
    },
    {
     "name": "stderr",
     "output_type": "stream",
     "text": [
      "/opt/oscer/software/Python/3.6.4-foss-2018a/lib/python3.6/site-packages/scipy-1.0.0-py3.6-linux-x86_64.egg/scipy/linalg/basic.py:40: RuntimeWarning: scipy.linalg.solve\n",
      "Ill-conditioned matrix detected. Result is not guaranteed to be accurate.\n",
      "Reciprocal condition number/precision: 4.0134694706035465e-18 / 1.1102230246251565e-16\n",
      "  RuntimeWarning)\n"
     ]
    },
    {
     "name": "stdout",
     "output_type": "stream",
     "text": [
      "Intercept 0.3786591724671237\n",
      "Prediction_local [0.63577593]\n",
      "Right: 0.70485616\n"
     ]
    },
    {
     "name": "stderr",
     "output_type": "stream",
     "text": [
      "/opt/oscer/software/Python/3.6.4-foss-2018a/lib/python3.6/site-packages/scipy-1.0.0-py3.6-linux-x86_64.egg/scipy/linalg/basic.py:40: RuntimeWarning: scipy.linalg.solve\n",
      "Ill-conditioned matrix detected. Result is not guaranteed to be accurate.\n",
      "Reciprocal condition number/precision: 2.6087507739849635e-18 / 1.1102230246251565e-16\n",
      "  RuntimeWarning)\n"
     ]
    },
    {
     "name": "stdout",
     "output_type": "stream",
     "text": [
      "Intercept 0.3843270949654699\n",
      "Prediction_local [0.72416215]\n",
      "Right: 0.83405036\n",
      "Intercept 0.4220251186584226\n",
      "Prediction_local [0.73345514]\n",
      "Right: 0.89495677\n",
      "Intercept 0.43028113906601123\n",
      "Prediction_local [0.668537]\n",
      "Right: 0.7566735\n",
      "Intercept 0.4314825884179893\n",
      "Prediction_local [0.76041496]\n",
      "Right: 0.7998508\n"
     ]
    },
    {
     "name": "stderr",
     "output_type": "stream",
     "text": [
      "/opt/oscer/software/Python/3.6.4-foss-2018a/lib/python3.6/site-packages/scipy-1.0.0-py3.6-linux-x86_64.egg/scipy/linalg/basic.py:40: RuntimeWarning: scipy.linalg.solve\n",
      "Ill-conditioned matrix detected. Result is not guaranteed to be accurate.\n",
      "Reciprocal condition number/precision: 3.2211506221490084e-18 / 1.1102230246251565e-16\n",
      "  RuntimeWarning)\n"
     ]
    },
    {
     "name": "stdout",
     "output_type": "stream",
     "text": [
      "Intercept 0.36892377568844636\n",
      "Prediction_local [0.81035878]\n",
      "Right: 0.9664432\n",
      "Intercept 0.36863514397609565\n",
      "Prediction_local [0.70397234]\n",
      "Right: 0.75126636\n"
     ]
    },
    {
     "name": "stderr",
     "output_type": "stream",
     "text": [
      "/opt/oscer/software/Python/3.6.4-foss-2018a/lib/python3.6/site-packages/scipy-1.0.0-py3.6-linux-x86_64.egg/scipy/linalg/basic.py:40: RuntimeWarning: scipy.linalg.solve\n",
      "Ill-conditioned matrix detected. Result is not guaranteed to be accurate.\n",
      "Reciprocal condition number/precision: 4.2695967004437315e-19 / 1.1102230246251565e-16\n",
      "  RuntimeWarning)\n"
     ]
    },
    {
     "name": "stdout",
     "output_type": "stream",
     "text": [
      "Intercept 0.3822830565987234\n",
      "Prediction_local [0.8283327]\n",
      "Right: 0.9713739\n",
      "Intercept 0.3972428278891714\n",
      "Prediction_local [0.72109632]\n",
      "Right: 0.848595\n",
      "Intercept 0.5298320033466737\n",
      "Prediction_local [0.62341386]\n",
      "Right: 0.67092836\n"
     ]
    },
    {
     "name": "stderr",
     "output_type": "stream",
     "text": [
      "/opt/oscer/software/Python/3.6.4-foss-2018a/lib/python3.6/site-packages/scipy-1.0.0-py3.6-linux-x86_64.egg/scipy/linalg/basic.py:40: RuntimeWarning: scipy.linalg.solve\n",
      "Ill-conditioned matrix detected. Result is not guaranteed to be accurate.\n",
      "Reciprocal condition number/precision: 7.705231313138713e-19 / 1.1102230246251565e-16\n",
      "  RuntimeWarning)\n"
     ]
    },
    {
     "name": "stdout",
     "output_type": "stream",
     "text": [
      "Intercept 0.395696720007293\n",
      "Prediction_local [0.67576509]\n",
      "Right: 0.7443326\n"
     ]
    },
    {
     "name": "stderr",
     "output_type": "stream",
     "text": [
      "/opt/oscer/software/Python/3.6.4-foss-2018a/lib/python3.6/site-packages/scipy-1.0.0-py3.6-linux-x86_64.egg/scipy/linalg/basic.py:40: RuntimeWarning: scipy.linalg.solve\n",
      "Ill-conditioned matrix detected. Result is not guaranteed to be accurate.\n",
      "Reciprocal condition number/precision: 1.6706668424127884e-18 / 1.1102230246251565e-16\n",
      "  RuntimeWarning)\n"
     ]
    },
    {
     "name": "stdout",
     "output_type": "stream",
     "text": [
      "Intercept 0.5149429982614887\n",
      "Prediction_local [0.64795498]\n",
      "Right: 0.6901581\n"
     ]
    },
    {
     "name": "stderr",
     "output_type": "stream",
     "text": [
      "/opt/oscer/software/Python/3.6.4-foss-2018a/lib/python3.6/site-packages/scipy-1.0.0-py3.6-linux-x86_64.egg/scipy/linalg/basic.py:40: RuntimeWarning: scipy.linalg.solve\n",
      "Ill-conditioned matrix detected. Result is not guaranteed to be accurate.\n",
      "Reciprocal condition number/precision: 1.5349702083126988e-18 / 1.1102230246251565e-16\n",
      "  RuntimeWarning)\n"
     ]
    },
    {
     "name": "stdout",
     "output_type": "stream",
     "text": [
      "Intercept 0.44563691992196963\n",
      "Prediction_local [0.79710089]\n",
      "Right: 0.8957199\n",
      "Intercept 0.3986311779807407\n",
      "Prediction_local [0.6703523]\n",
      "Right: 0.7450552\n"
     ]
    },
    {
     "name": "stderr",
     "output_type": "stream",
     "text": [
      "/opt/oscer/software/Python/3.6.4-foss-2018a/lib/python3.6/site-packages/scipy-1.0.0-py3.6-linux-x86_64.egg/scipy/linalg/basic.py:40: RuntimeWarning: scipy.linalg.solve\n",
      "Ill-conditioned matrix detected. Result is not guaranteed to be accurate.\n",
      "Reciprocal condition number/precision: 1.0734824447321685e-18 / 1.1102230246251565e-16\n",
      "  RuntimeWarning)\n"
     ]
    },
    {
     "name": "stdout",
     "output_type": "stream",
     "text": [
      "Intercept 0.4842092633468041\n",
      "Prediction_local [0.62851411]\n",
      "Right: 0.7082502\n",
      "Intercept 0.3632368728887829\n",
      "Prediction_local [0.62747868]\n",
      "Right: 0.71524256\n",
      "Intercept 0.33273264199031305\n",
      "Prediction_local [0.77072132]\n",
      "Right: 0.9088732\n"
     ]
    },
    {
     "name": "stderr",
     "output_type": "stream",
     "text": [
      "/opt/oscer/software/Python/3.6.4-foss-2018a/lib/python3.6/site-packages/scipy-1.0.0-py3.6-linux-x86_64.egg/scipy/linalg/basic.py:40: RuntimeWarning: scipy.linalg.solve\n",
      "Ill-conditioned matrix detected. Result is not guaranteed to be accurate.\n",
      "Reciprocal condition number/precision: 2.124111917133551e-18 / 1.1102230246251565e-16\n",
      "  RuntimeWarning)\n"
     ]
    },
    {
     "name": "stdout",
     "output_type": "stream",
     "text": [
      "Intercept 0.4170241640971736\n",
      "Prediction_local [0.6911599]\n",
      "Right: 0.8103899\n"
     ]
    },
    {
     "name": "stderr",
     "output_type": "stream",
     "text": [
      "/opt/oscer/software/Python/3.6.4-foss-2018a/lib/python3.6/site-packages/scipy-1.0.0-py3.6-linux-x86_64.egg/scipy/linalg/basic.py:40: RuntimeWarning: scipy.linalg.solve\n",
      "Ill-conditioned matrix detected. Result is not guaranteed to be accurate.\n",
      "Reciprocal condition number/precision: 2.1347176443851755e-18 / 1.1102230246251565e-16\n",
      "  RuntimeWarning)\n"
     ]
    },
    {
     "name": "stdout",
     "output_type": "stream",
     "text": [
      "Intercept 0.3780393042983638\n",
      "Prediction_local [0.64543322]\n",
      "Right: 0.71791506\n"
     ]
    },
    {
     "name": "stderr",
     "output_type": "stream",
     "text": [
      "/opt/oscer/software/Python/3.6.4-foss-2018a/lib/python3.6/site-packages/scipy-1.0.0-py3.6-linux-x86_64.egg/scipy/linalg/basic.py:40: RuntimeWarning: scipy.linalg.solve\n",
      "Ill-conditioned matrix detected. Result is not guaranteed to be accurate.\n",
      "Reciprocal condition number/precision: 1.1861527050207848e-18 / 1.1102230246251565e-16\n",
      "  RuntimeWarning)\n"
     ]
    },
    {
     "name": "stdout",
     "output_type": "stream",
     "text": [
      "Intercept 0.3519580986811165\n",
      "Prediction_local [0.78030707]\n",
      "Right: 0.90964043\n"
     ]
    },
    {
     "name": "stderr",
     "output_type": "stream",
     "text": [
      "/opt/oscer/software/Python/3.6.4-foss-2018a/lib/python3.6/site-packages/scipy-1.0.0-py3.6-linux-x86_64.egg/scipy/linalg/basic.py:40: RuntimeWarning: scipy.linalg.solve\n",
      "Ill-conditioned matrix detected. Result is not guaranteed to be accurate.\n",
      "Reciprocal condition number/precision: 8.188898533342817e-19 / 1.1102230246251565e-16\n",
      "  RuntimeWarning)\n"
     ]
    },
    {
     "name": "stdout",
     "output_type": "stream",
     "text": [
      "Intercept 0.36960597672146656\n",
      "Prediction_local [0.83800558]\n",
      "Right: 0.9561403\n"
     ]
    },
    {
     "name": "stderr",
     "output_type": "stream",
     "text": [
      "/opt/oscer/software/Python/3.6.4-foss-2018a/lib/python3.6/site-packages/scipy-1.0.0-py3.6-linux-x86_64.egg/scipy/linalg/basic.py:40: RuntimeWarning: scipy.linalg.solve\n",
      "Ill-conditioned matrix detected. Result is not guaranteed to be accurate.\n",
      "Reciprocal condition number/precision: 1.6398265824632438e-18 / 1.1102230246251565e-16\n",
      "  RuntimeWarning)\n"
     ]
    },
    {
     "name": "stdout",
     "output_type": "stream",
     "text": [
      "Intercept 0.37150394798906744\n",
      "Prediction_local [0.87001377]\n",
      "Right: 0.96829915\n"
     ]
    },
    {
     "name": "stderr",
     "output_type": "stream",
     "text": [
      "/opt/oscer/software/Python/3.6.4-foss-2018a/lib/python3.6/site-packages/scipy-1.0.0-py3.6-linux-x86_64.egg/scipy/linalg/basic.py:40: RuntimeWarning: scipy.linalg.solve\n",
      "Ill-conditioned matrix detected. Result is not guaranteed to be accurate.\n",
      "Reciprocal condition number/precision: 5.695188376794329e-18 / 1.1102230246251565e-16\n",
      "  RuntimeWarning)\n"
     ]
    },
    {
     "name": "stdout",
     "output_type": "stream",
     "text": [
      "Intercept 0.4624000183258407\n",
      "Prediction_local [0.64249673]\n",
      "Right: 0.72026885\n",
      "Intercept 0.4113411976888814\n",
      "Prediction_local [0.83147743]\n",
      "Right: 0.9530263\n",
      "Intercept 0.39871141761790724\n",
      "Prediction_local [0.6422647]\n",
      "Right: 0.73387575\n",
      "Intercept 0.44341702594278165\n",
      "Prediction_local [0.66353848]\n",
      "Right: 0.76708674\n",
      "Intercept 0.45580424225114424\n",
      "Prediction_local [0.70399345]\n",
      "Right: 0.83000195\n"
     ]
    },
    {
     "name": "stderr",
     "output_type": "stream",
     "text": [
      "/opt/oscer/software/Python/3.6.4-foss-2018a/lib/python3.6/site-packages/scipy-1.0.0-py3.6-linux-x86_64.egg/scipy/linalg/basic.py:40: RuntimeWarning: scipy.linalg.solve\n",
      "Ill-conditioned matrix detected. Result is not guaranteed to be accurate.\n",
      "Reciprocal condition number/precision: 6.308932750460871e-18 / 1.1102230246251565e-16\n",
      "  RuntimeWarning)\n"
     ]
    },
    {
     "name": "stdout",
     "output_type": "stream",
     "text": [
      "Intercept 0.4541883415461316\n",
      "Prediction_local [0.64326477]\n",
      "Right: 0.6761895\n"
     ]
    },
    {
     "name": "stderr",
     "output_type": "stream",
     "text": [
      "/opt/oscer/software/Python/3.6.4-foss-2018a/lib/python3.6/site-packages/scipy-1.0.0-py3.6-linux-x86_64.egg/scipy/linalg/basic.py:40: RuntimeWarning: scipy.linalg.solve\n",
      "Ill-conditioned matrix detected. Result is not guaranteed to be accurate.\n",
      "Reciprocal condition number/precision: 2.4802217797726944e-18 / 1.1102230246251565e-16\n",
      "  RuntimeWarning)\n"
     ]
    },
    {
     "name": "stdout",
     "output_type": "stream",
     "text": [
      "Intercept 0.35464716455419454\n",
      "Prediction_local [0.7568628]\n",
      "Right: 0.91101134\n",
      "Intercept 0.3153114493138961\n",
      "Prediction_local [0.82248373]\n",
      "Right: 0.9390935\n",
      "Intercept 0.5095036341194287\n",
      "Prediction_local [0.73281569]\n",
      "Right: 0.76082414\n",
      "Intercept 0.3939945189286501\n",
      "Prediction_local [0.74249776]\n",
      "Right: 0.8329718\n"
     ]
    },
    {
     "name": "stderr",
     "output_type": "stream",
     "text": [
      "/opt/oscer/software/Python/3.6.4-foss-2018a/lib/python3.6/site-packages/scipy-1.0.0-py3.6-linux-x86_64.egg/scipy/linalg/basic.py:40: RuntimeWarning: scipy.linalg.solve\n",
      "Ill-conditioned matrix detected. Result is not guaranteed to be accurate.\n",
      "Reciprocal condition number/precision: 6.273975739853272e-18 / 1.1102230246251565e-16\n",
      "  RuntimeWarning)\n"
     ]
    },
    {
     "name": "stdout",
     "output_type": "stream",
     "text": [
      "Intercept 0.4174595962320522\n",
      "Prediction_local [0.64136342]\n",
      "Right: 0.69645953\n",
      "Intercept 0.338776495599018\n",
      "Prediction_local [0.80360743]\n",
      "Right: 0.9544855\n"
     ]
    },
    {
     "name": "stderr",
     "output_type": "stream",
     "text": [
      "/opt/oscer/software/Python/3.6.4-foss-2018a/lib/python3.6/site-packages/scipy-1.0.0-py3.6-linux-x86_64.egg/scipy/linalg/basic.py:40: RuntimeWarning: scipy.linalg.solve\n",
      "Ill-conditioned matrix detected. Result is not guaranteed to be accurate.\n",
      "Reciprocal condition number/precision: 2.6670152591769406e-18 / 1.1102230246251565e-16\n",
      "  RuntimeWarning)\n"
     ]
    },
    {
     "name": "stdout",
     "output_type": "stream",
     "text": [
      "Intercept 0.3515312921723053\n",
      "Prediction_local [0.6152533]\n",
      "Right: 0.6709939\n",
      "Intercept 0.42184570592214526\n",
      "Prediction_local [0.75085151]\n",
      "Right: 0.85718215\n",
      "Intercept 0.47208895573470494\n",
      "Prediction_local [0.63626047]\n",
      "Right: 0.6987338\n",
      "Intercept 0.5156346159764017\n",
      "Prediction_local [0.67016667]\n",
      "Right: 0.7961093\n",
      "Intercept 0.3488107830958948\n",
      "Prediction_local [0.73500834]\n",
      "Right: 0.947268\n",
      "Intercept 0.41659286448629373\n",
      "Prediction_local [0.72789789]\n",
      "Right: 0.89142513\n"
     ]
    },
    {
     "name": "stderr",
     "output_type": "stream",
     "text": [
      "/opt/oscer/software/Python/3.6.4-foss-2018a/lib/python3.6/site-packages/scipy-1.0.0-py3.6-linux-x86_64.egg/scipy/linalg/basic.py:40: RuntimeWarning: scipy.linalg.solve\n",
      "Ill-conditioned matrix detected. Result is not guaranteed to be accurate.\n",
      "Reciprocal condition number/precision: 6.143166184760564e-18 / 1.1102230246251565e-16\n",
      "  RuntimeWarning)\n"
     ]
    },
    {
     "name": "stdout",
     "output_type": "stream",
     "text": [
      "Intercept 0.38025935462001853\n",
      "Prediction_local [0.70598539]\n",
      "Right: 0.88243043\n"
     ]
    },
    {
     "name": "stderr",
     "output_type": "stream",
     "text": [
      "/opt/oscer/software/Python/3.6.4-foss-2018a/lib/python3.6/site-packages/scipy-1.0.0-py3.6-linux-x86_64.egg/scipy/linalg/basic.py:40: RuntimeWarning: scipy.linalg.solve\n",
      "Ill-conditioned matrix detected. Result is not guaranteed to be accurate.\n",
      "Reciprocal condition number/precision: 3.934178297785363e-18 / 1.1102230246251565e-16\n",
      "  RuntimeWarning)\n"
     ]
    },
    {
     "name": "stdout",
     "output_type": "stream",
     "text": [
      "Intercept 0.42817655768269497\n",
      "Prediction_local [0.77015094]\n",
      "Right: 0.9029237\n",
      "Intercept 0.4197495203135744\n",
      "Prediction_local [0.79581229]\n",
      "Right: 0.9197855\n",
      "Intercept 0.36331240632185385\n",
      "Prediction_local [0.75886577]\n",
      "Right: 0.868176\n",
      "Intercept 0.4772666357162792\n",
      "Prediction_local [0.71819153]\n",
      "Right: 0.88186836\n",
      "Intercept 0.4286016611483205\n",
      "Prediction_local [0.64625695]\n",
      "Right: 0.69013715\n"
     ]
    },
    {
     "name": "stderr",
     "output_type": "stream",
     "text": [
      "/opt/oscer/software/Python/3.6.4-foss-2018a/lib/python3.6/site-packages/scipy-1.0.0-py3.6-linux-x86_64.egg/scipy/linalg/basic.py:40: RuntimeWarning: scipy.linalg.solve\n",
      "Ill-conditioned matrix detected. Result is not guaranteed to be accurate.\n",
      "Reciprocal condition number/precision: 2.0414097995723887e-18 / 1.1102230246251565e-16\n",
      "  RuntimeWarning)\n"
     ]
    },
    {
     "name": "stdout",
     "output_type": "stream",
     "text": [
      "Intercept 0.4326596522223654\n",
      "Prediction_local [0.69758721]\n",
      "Right: 0.8182488\n"
     ]
    },
    {
     "name": "stderr",
     "output_type": "stream",
     "text": [
      "/opt/oscer/software/Python/3.6.4-foss-2018a/lib/python3.6/site-packages/scipy-1.0.0-py3.6-linux-x86_64.egg/scipy/linalg/basic.py:40: RuntimeWarning: scipy.linalg.solve\n",
      "Ill-conditioned matrix detected. Result is not guaranteed to be accurate.\n",
      "Reciprocal condition number/precision: 1.0367229777473457e-17 / 1.1102230246251565e-16\n",
      "  RuntimeWarning)\n"
     ]
    },
    {
     "name": "stdout",
     "output_type": "stream",
     "text": [
      "Intercept 0.42194045042949857\n",
      "Prediction_local [0.67353386]\n",
      "Right: 0.77940744\n",
      "Intercept 0.4463931413202136\n",
      "Prediction_local [0.60455311]\n",
      "Right: 0.67094904\n"
     ]
    },
    {
     "name": "stderr",
     "output_type": "stream",
     "text": [
      "/opt/oscer/software/Python/3.6.4-foss-2018a/lib/python3.6/site-packages/scipy-1.0.0-py3.6-linux-x86_64.egg/scipy/linalg/basic.py:40: RuntimeWarning: scipy.linalg.solve\n",
      "Ill-conditioned matrix detected. Result is not guaranteed to be accurate.\n",
      "Reciprocal condition number/precision: 4.239271046888216e-18 / 1.1102230246251565e-16\n",
      "  RuntimeWarning)\n"
     ]
    },
    {
     "name": "stdout",
     "output_type": "stream",
     "text": [
      "Intercept 0.4156107833957491\n",
      "Prediction_local [0.69023956]\n",
      "Right: 0.726413\n"
     ]
    },
    {
     "name": "stderr",
     "output_type": "stream",
     "text": [
      "/opt/oscer/software/Python/3.6.4-foss-2018a/lib/python3.6/site-packages/scipy-1.0.0-py3.6-linux-x86_64.egg/scipy/linalg/basic.py:40: RuntimeWarning: scipy.linalg.solve\n",
      "Ill-conditioned matrix detected. Result is not guaranteed to be accurate.\n",
      "Reciprocal condition number/precision: 4.236307525746371e-18 / 1.1102230246251565e-16\n",
      "  RuntimeWarning)\n"
     ]
    },
    {
     "name": "stdout",
     "output_type": "stream",
     "text": [
      "Intercept 0.4089912188710921\n",
      "Prediction_local [0.63861639]\n",
      "Right: 0.6982264\n",
      "Intercept 0.4127730173914296\n",
      "Prediction_local [0.78879771]\n",
      "Right: 0.94348216\n"
     ]
    },
    {
     "name": "stderr",
     "output_type": "stream",
     "text": [
      "/opt/oscer/software/Python/3.6.4-foss-2018a/lib/python3.6/site-packages/scipy-1.0.0-py3.6-linux-x86_64.egg/scipy/linalg/basic.py:40: RuntimeWarning: scipy.linalg.solve\n",
      "Ill-conditioned matrix detected. Result is not guaranteed to be accurate.\n",
      "Reciprocal condition number/precision: 5.788889948547706e-18 / 1.1102230246251565e-16\n",
      "  RuntimeWarning)\n"
     ]
    },
    {
     "name": "stdout",
     "output_type": "stream",
     "text": [
      "Intercept 0.3334149055461888\n",
      "Prediction_local [0.62930861]\n",
      "Right: 0.69452786\n",
      "Intercept 0.4425496340557669\n",
      "Prediction_local [0.718637]\n",
      "Right: 0.7959281\n"
     ]
    },
    {
     "name": "stderr",
     "output_type": "stream",
     "text": [
      "/opt/oscer/software/Python/3.6.4-foss-2018a/lib/python3.6/site-packages/scipy-1.0.0-py3.6-linux-x86_64.egg/scipy/linalg/basic.py:40: RuntimeWarning: scipy.linalg.solve\n",
      "Ill-conditioned matrix detected. Result is not guaranteed to be accurate.\n",
      "Reciprocal condition number/precision: 4.0303368879810324e-18 / 1.1102230246251565e-16\n",
      "  RuntimeWarning)\n"
     ]
    },
    {
     "name": "stdout",
     "output_type": "stream",
     "text": [
      "Intercept 0.38096508048331146\n",
      "Prediction_local [0.78141895]\n",
      "Right: 0.8792522\n"
     ]
    },
    {
     "name": "stderr",
     "output_type": "stream",
     "text": [
      "/opt/oscer/software/Python/3.6.4-foss-2018a/lib/python3.6/site-packages/scipy-1.0.0-py3.6-linux-x86_64.egg/scipy/linalg/basic.py:40: RuntimeWarning: scipy.linalg.solve\n",
      "Ill-conditioned matrix detected. Result is not guaranteed to be accurate.\n",
      "Reciprocal condition number/precision: 3.0173245207758565e-18 / 1.1102230246251565e-16\n",
      "  RuntimeWarning)\n"
     ]
    },
    {
     "name": "stdout",
     "output_type": "stream",
     "text": [
      "Intercept 0.4277045900677384\n",
      "Prediction_local [0.77546139]\n",
      "Right: 0.920645\n",
      "Intercept 0.2787226977003232\n",
      "Prediction_local [0.84004811]\n",
      "Right: 0.9658129\n",
      "Intercept 0.4206914412693417\n",
      "Prediction_local [0.63262115]\n",
      "Right: 0.696069\n"
     ]
    },
    {
     "name": "stderr",
     "output_type": "stream",
     "text": [
      "/opt/oscer/software/Python/3.6.4-foss-2018a/lib/python3.6/site-packages/scipy-1.0.0-py3.6-linux-x86_64.egg/scipy/linalg/basic.py:40: RuntimeWarning: scipy.linalg.solve\n",
      "Ill-conditioned matrix detected. Result is not guaranteed to be accurate.\n",
      "Reciprocal condition number/precision: 3.768545611921035e-18 / 1.1102230246251565e-16\n",
      "  RuntimeWarning)\n"
     ]
    },
    {
     "name": "stdout",
     "output_type": "stream",
     "text": [
      "Intercept 0.42645643860185606\n",
      "Prediction_local [0.70108358]\n",
      "Right: 0.8503237\n",
      "Intercept 0.33648339304354485\n",
      "Prediction_local [0.79492111]\n",
      "Right: 0.9222932\n"
     ]
    },
    {
     "name": "stderr",
     "output_type": "stream",
     "text": [
      "/opt/oscer/software/Python/3.6.4-foss-2018a/lib/python3.6/site-packages/scipy-1.0.0-py3.6-linux-x86_64.egg/scipy/linalg/basic.py:40: RuntimeWarning: scipy.linalg.solve\n",
      "Ill-conditioned matrix detected. Result is not guaranteed to be accurate.\n",
      "Reciprocal condition number/precision: 4.742479627742241e-18 / 1.1102230246251565e-16\n",
      "  RuntimeWarning)\n"
     ]
    },
    {
     "name": "stdout",
     "output_type": "stream",
     "text": [
      "Intercept 0.4573641318902657\n",
      "Prediction_local [0.74099429]\n",
      "Right: 0.8796097\n",
      "Intercept 0.3761387631158412\n",
      "Prediction_local [0.72796038]\n",
      "Right: 0.84953386\n",
      "Intercept 0.3388623928245387\n",
      "Prediction_local [0.75478039]\n",
      "Right: 0.92111933\n",
      "Intercept 0.36536939220757136\n",
      "Prediction_local [0.75596894]\n",
      "Right: 0.9290512\n",
      "Intercept 0.456216613952649\n",
      "Prediction_local [0.74060947]\n",
      "Right: 0.87867796\n",
      "Intercept 0.45886167000046096\n",
      "Prediction_local [0.77137073]\n",
      "Right: 0.9273703\n"
     ]
    },
    {
     "name": "stderr",
     "output_type": "stream",
     "text": [
      "/opt/oscer/software/Python/3.6.4-foss-2018a/lib/python3.6/site-packages/scipy-1.0.0-py3.6-linux-x86_64.egg/scipy/linalg/basic.py:40: RuntimeWarning: scipy.linalg.solve\n",
      "Ill-conditioned matrix detected. Result is not guaranteed to be accurate.\n",
      "Reciprocal condition number/precision: 5.30125386178496e-18 / 1.1102230246251565e-16\n",
      "  RuntimeWarning)\n"
     ]
    },
    {
     "name": "stdout",
     "output_type": "stream",
     "text": [
      "Intercept 0.4580803084285972\n",
      "Prediction_local [0.76193304]\n",
      "Right: 0.92927784\n"
     ]
    },
    {
     "name": "stderr",
     "output_type": "stream",
     "text": [
      "/opt/oscer/software/Python/3.6.4-foss-2018a/lib/python3.6/site-packages/scipy-1.0.0-py3.6-linux-x86_64.egg/scipy/linalg/basic.py:40: RuntimeWarning: scipy.linalg.solve\n",
      "Ill-conditioned matrix detected. Result is not guaranteed to be accurate.\n",
      "Reciprocal condition number/precision: 8.116527569740786e-18 / 1.1102230246251565e-16\n",
      "  RuntimeWarning)\n"
     ]
    },
    {
     "name": "stdout",
     "output_type": "stream",
     "text": [
      "Intercept 0.36241150402452194\n",
      "Prediction_local [0.65422238]\n",
      "Right: 0.79927963\n",
      "Intercept 0.5197509290150457\n",
      "Prediction_local [0.65402233]\n",
      "Right: 0.74976933\n"
     ]
    },
    {
     "name": "stderr",
     "output_type": "stream",
     "text": [
      "/opt/oscer/software/Python/3.6.4-foss-2018a/lib/python3.6/site-packages/scipy-1.0.0-py3.6-linux-x86_64.egg/scipy/linalg/basic.py:40: RuntimeWarning: scipy.linalg.solve\n",
      "Ill-conditioned matrix detected. Result is not guaranteed to be accurate.\n",
      "Reciprocal condition number/precision: 2.4595099829170996e-18 / 1.1102230246251565e-16\n",
      "  RuntimeWarning)\n"
     ]
    },
    {
     "name": "stdout",
     "output_type": "stream",
     "text": [
      "Intercept 0.43325749539034075\n",
      "Prediction_local [0.61005243]\n",
      "Right: 0.7433381\n"
     ]
    },
    {
     "name": "stderr",
     "output_type": "stream",
     "text": [
      "/opt/oscer/software/Python/3.6.4-foss-2018a/lib/python3.6/site-packages/scipy-1.0.0-py3.6-linux-x86_64.egg/scipy/linalg/basic.py:40: RuntimeWarning: scipy.linalg.solve\n",
      "Ill-conditioned matrix detected. Result is not guaranteed to be accurate.\n",
      "Reciprocal condition number/precision: 5.505379020219825e-18 / 1.1102230246251565e-16\n",
      "  RuntimeWarning)\n"
     ]
    },
    {
     "name": "stdout",
     "output_type": "stream",
     "text": [
      "Intercept 0.4372086523256846\n",
      "Prediction_local [0.66178686]\n",
      "Right: 0.77012587\n"
     ]
    },
    {
     "name": "stderr",
     "output_type": "stream",
     "text": [
      "/opt/oscer/software/Python/3.6.4-foss-2018a/lib/python3.6/site-packages/scipy-1.0.0-py3.6-linux-x86_64.egg/scipy/linalg/basic.py:40: RuntimeWarning: scipy.linalg.solve\n",
      "Ill-conditioned matrix detected. Result is not guaranteed to be accurate.\n",
      "Reciprocal condition number/precision: 1.918630801612994e-18 / 1.1102230246251565e-16\n",
      "  RuntimeWarning)\n"
     ]
    },
    {
     "name": "stdout",
     "output_type": "stream",
     "text": [
      "Intercept 0.38078355396846125\n",
      "Prediction_local [0.76365415]\n",
      "Right: 0.9141021\n",
      "Intercept 0.44352773473135865\n",
      "Prediction_local [0.62549727]\n",
      "Right: 0.6912808\n"
     ]
    },
    {
     "name": "stderr",
     "output_type": "stream",
     "text": [
      "/opt/oscer/software/Python/3.6.4-foss-2018a/lib/python3.6/site-packages/scipy-1.0.0-py3.6-linux-x86_64.egg/scipy/linalg/basic.py:40: RuntimeWarning: scipy.linalg.solve\n",
      "Ill-conditioned matrix detected. Result is not guaranteed to be accurate.\n",
      "Reciprocal condition number/precision: 7.97101093637142e-18 / 1.1102230246251565e-16\n",
      "  RuntimeWarning)\n"
     ]
    },
    {
     "name": "stdout",
     "output_type": "stream",
     "text": [
      "Intercept 0.3891303460422526\n",
      "Prediction_local [0.66470428]\n",
      "Right: 0.70253026\n"
     ]
    },
    {
     "name": "stderr",
     "output_type": "stream",
     "text": [
      "/opt/oscer/software/Python/3.6.4-foss-2018a/lib/python3.6/site-packages/scipy-1.0.0-py3.6-linux-x86_64.egg/scipy/linalg/basic.py:40: RuntimeWarning: scipy.linalg.solve\n",
      "Ill-conditioned matrix detected. Result is not guaranteed to be accurate.\n",
      "Reciprocal condition number/precision: 4.780192934251844e-18 / 1.1102230246251565e-16\n",
      "  RuntimeWarning)\n"
     ]
    },
    {
     "name": "stdout",
     "output_type": "stream",
     "text": [
      "Intercept 0.45534084053703705\n",
      "Prediction_local [0.7384552]\n",
      "Right: 0.8575008\n"
     ]
    },
    {
     "name": "stderr",
     "output_type": "stream",
     "text": [
      "/opt/oscer/software/Python/3.6.4-foss-2018a/lib/python3.6/site-packages/scipy-1.0.0-py3.6-linux-x86_64.egg/scipy/linalg/basic.py:40: RuntimeWarning: scipy.linalg.solve\n",
      "Ill-conditioned matrix detected. Result is not guaranteed to be accurate.\n",
      "Reciprocal condition number/precision: 5.338586769859293e-19 / 1.1102230246251565e-16\n",
      "  RuntimeWarning)\n"
     ]
    },
    {
     "name": "stdout",
     "output_type": "stream",
     "text": [
      "Intercept 0.4439448882658583\n",
      "Prediction_local [0.73000647]\n",
      "Right: 0.90486515\n",
      "Intercept 0.37819067997408695\n",
      "Prediction_local [0.80602488]\n",
      "Right: 0.95968544\n",
      "Intercept 0.4574845786993404\n",
      "Prediction_local [0.74625796]\n",
      "Right: 0.82335687\n",
      "Intercept 0.46444302822493577\n",
      "Prediction_local [0.65940551]\n",
      "Right: 0.75618565\n"
     ]
    },
    {
     "name": "stderr",
     "output_type": "stream",
     "text": [
      "/opt/oscer/software/Python/3.6.4-foss-2018a/lib/python3.6/site-packages/scipy-1.0.0-py3.6-linux-x86_64.egg/scipy/linalg/basic.py:40: RuntimeWarning: scipy.linalg.solve\n",
      "Ill-conditioned matrix detected. Result is not guaranteed to be accurate.\n",
      "Reciprocal condition number/precision: 2.0388791638416054e-18 / 1.1102230246251565e-16\n",
      "  RuntimeWarning)\n"
     ]
    },
    {
     "name": "stdout",
     "output_type": "stream",
     "text": [
      "Intercept 0.5168287868140788\n",
      "Prediction_local [0.63632347]\n",
      "Right: 0.6749721\n",
      "Intercept 0.4542496916725184\n",
      "Prediction_local [0.86021279]\n",
      "Right: 0.98219454\n",
      "Intercept 0.4955459552030715\n",
      "Prediction_local [0.64992361]\n",
      "Right: 0.72892994\n"
     ]
    },
    {
     "name": "stderr",
     "output_type": "stream",
     "text": [
      "/opt/oscer/software/Python/3.6.4-foss-2018a/lib/python3.6/site-packages/scipy-1.0.0-py3.6-linux-x86_64.egg/scipy/linalg/basic.py:40: RuntimeWarning: scipy.linalg.solve\n",
      "Ill-conditioned matrix detected. Result is not guaranteed to be accurate.\n",
      "Reciprocal condition number/precision: 3.6333317585135626e-18 / 1.1102230246251565e-16\n",
      "  RuntimeWarning)\n"
     ]
    },
    {
     "name": "stdout",
     "output_type": "stream",
     "text": [
      "Intercept 0.41956549739266735\n",
      "Prediction_local [0.68618906]\n",
      "Right: 0.81499374\n",
      "Intercept 0.4453849540657012\n",
      "Prediction_local [0.64670479]\n",
      "Right: 0.7892676\n",
      "Intercept 0.43668873370110595\n",
      "Prediction_local [0.61597068]\n",
      "Right: 0.67951596\n"
     ]
    },
    {
     "name": "stderr",
     "output_type": "stream",
     "text": [
      "/opt/oscer/software/Python/3.6.4-foss-2018a/lib/python3.6/site-packages/scipy-1.0.0-py3.6-linux-x86_64.egg/scipy/linalg/basic.py:40: RuntimeWarning: scipy.linalg.solve\n",
      "Ill-conditioned matrix detected. Result is not guaranteed to be accurate.\n",
      "Reciprocal condition number/precision: 3.11246843761032e-18 / 1.1102230246251565e-16\n",
      "  RuntimeWarning)\n"
     ]
    },
    {
     "name": "stdout",
     "output_type": "stream",
     "text": [
      "Intercept 0.44138950030393254\n",
      "Prediction_local [0.60195029]\n",
      "Right: 0.6791422\n"
     ]
    },
    {
     "name": "stderr",
     "output_type": "stream",
     "text": [
      "/opt/oscer/software/Python/3.6.4-foss-2018a/lib/python3.6/site-packages/scipy-1.0.0-py3.6-linux-x86_64.egg/scipy/linalg/basic.py:40: RuntimeWarning: scipy.linalg.solve\n",
      "Ill-conditioned matrix detected. Result is not guaranteed to be accurate.\n",
      "Reciprocal condition number/precision: 2.015128564777486e-18 / 1.1102230246251565e-16\n",
      "  RuntimeWarning)\n"
     ]
    },
    {
     "name": "stdout",
     "output_type": "stream",
     "text": [
      "Intercept 0.4002580869421708\n",
      "Prediction_local [0.69565751]\n",
      "Right: 0.8494051\n",
      "Intercept 0.48163196812729636\n",
      "Prediction_local [0.60158877]\n",
      "Right: 0.6801051\n"
     ]
    },
    {
     "name": "stderr",
     "output_type": "stream",
     "text": [
      "/opt/oscer/software/Python/3.6.4-foss-2018a/lib/python3.6/site-packages/scipy-1.0.0-py3.6-linux-x86_64.egg/scipy/linalg/basic.py:40: RuntimeWarning: scipy.linalg.solve\n",
      "Ill-conditioned matrix detected. Result is not guaranteed to be accurate.\n",
      "Reciprocal condition number/precision: 4.275529466313846e-18 / 1.1102230246251565e-16\n",
      "  RuntimeWarning)\n"
     ]
    },
    {
     "name": "stdout",
     "output_type": "stream",
     "text": [
      "Intercept 0.42891808713543\n",
      "Prediction_local [0.6490639]\n",
      "Right: 0.759111\n",
      "Intercept 0.3355800709597114\n",
      "Prediction_local [0.69652562]\n",
      "Right: 0.796704\n"
     ]
    },
    {
     "name": "stderr",
     "output_type": "stream",
     "text": [
      "/opt/oscer/software/Python/3.6.4-foss-2018a/lib/python3.6/site-packages/scipy-1.0.0-py3.6-linux-x86_64.egg/scipy/linalg/basic.py:40: RuntimeWarning: scipy.linalg.solve\n",
      "Ill-conditioned matrix detected. Result is not guaranteed to be accurate.\n",
      "Reciprocal condition number/precision: 2.85258918099867e-18 / 1.1102230246251565e-16\n",
      "  RuntimeWarning)\n"
     ]
    },
    {
     "name": "stdout",
     "output_type": "stream",
     "text": [
      "Intercept 0.4366153578311838\n",
      "Prediction_local [0.83594327]\n",
      "Right: 0.91945714\n"
     ]
    },
    {
     "name": "stderr",
     "output_type": "stream",
     "text": [
      "/opt/oscer/software/Python/3.6.4-foss-2018a/lib/python3.6/site-packages/scipy-1.0.0-py3.6-linux-x86_64.egg/scipy/linalg/basic.py:40: RuntimeWarning: scipy.linalg.solve\n",
      "Ill-conditioned matrix detected. Result is not guaranteed to be accurate.\n",
      "Reciprocal condition number/precision: 1.1782715339559897e-18 / 1.1102230246251565e-16\n",
      "  RuntimeWarning)\n"
     ]
    },
    {
     "name": "stdout",
     "output_type": "stream",
     "text": [
      "Intercept 0.36613385058008213\n",
      "Prediction_local [0.73370673]\n",
      "Right: 0.88396\n"
     ]
    },
    {
     "name": "stderr",
     "output_type": "stream",
     "text": [
      "/opt/oscer/software/Python/3.6.4-foss-2018a/lib/python3.6/site-packages/scipy-1.0.0-py3.6-linux-x86_64.egg/scipy/linalg/basic.py:40: RuntimeWarning: scipy.linalg.solve\n",
      "Ill-conditioned matrix detected. Result is not guaranteed to be accurate.\n",
      "Reciprocal condition number/precision: 1.7367431984435274e-18 / 1.1102230246251565e-16\n",
      "  RuntimeWarning)\n"
     ]
    },
    {
     "name": "stdout",
     "output_type": "stream",
     "text": [
      "Intercept 0.48584034762710104\n",
      "Prediction_local [0.72687821]\n",
      "Right: 0.7973037\n"
     ]
    },
    {
     "name": "stderr",
     "output_type": "stream",
     "text": [
      "/opt/oscer/software/Python/3.6.4-foss-2018a/lib/python3.6/site-packages/scipy-1.0.0-py3.6-linux-x86_64.egg/scipy/linalg/basic.py:40: RuntimeWarning: scipy.linalg.solve\n",
      "Ill-conditioned matrix detected. Result is not guaranteed to be accurate.\n",
      "Reciprocal condition number/precision: 4.046440911488638e-18 / 1.1102230246251565e-16\n",
      "  RuntimeWarning)\n"
     ]
    },
    {
     "name": "stdout",
     "output_type": "stream",
     "text": [
      "Intercept 0.3644346108651719\n",
      "Prediction_local [0.80802961]\n",
      "Right: 0.96263933\n"
     ]
    },
    {
     "name": "stderr",
     "output_type": "stream",
     "text": [
      "/opt/oscer/software/Python/3.6.4-foss-2018a/lib/python3.6/site-packages/scipy-1.0.0-py3.6-linux-x86_64.egg/scipy/linalg/basic.py:40: RuntimeWarning: scipy.linalg.solve\n",
      "Ill-conditioned matrix detected. Result is not guaranteed to be accurate.\n",
      "Reciprocal condition number/precision: 7.864732756996333e-18 / 1.1102230246251565e-16\n",
      "  RuntimeWarning)\n"
     ]
    },
    {
     "name": "stdout",
     "output_type": "stream",
     "text": [
      "Intercept 0.4494757611480024\n",
      "Prediction_local [0.81232463]\n",
      "Right: 0.9000955\n"
     ]
    },
    {
     "name": "stderr",
     "output_type": "stream",
     "text": [
      "/opt/oscer/software/Python/3.6.4-foss-2018a/lib/python3.6/site-packages/scipy-1.0.0-py3.6-linux-x86_64.egg/scipy/linalg/basic.py:40: RuntimeWarning: scipy.linalg.solve\n",
      "Ill-conditioned matrix detected. Result is not guaranteed to be accurate.\n",
      "Reciprocal condition number/precision: 7.335576030159948e-18 / 1.1102230246251565e-16\n",
      "  RuntimeWarning)\n"
     ]
    },
    {
     "name": "stdout",
     "output_type": "stream",
     "text": [
      "Intercept 0.40459501963726535\n",
      "Prediction_local [0.79463596]\n",
      "Right: 0.8803983\n"
     ]
    },
    {
     "name": "stderr",
     "output_type": "stream",
     "text": [
      "/opt/oscer/software/Python/3.6.4-foss-2018a/lib/python3.6/site-packages/scipy-1.0.0-py3.6-linux-x86_64.egg/scipy/linalg/basic.py:40: RuntimeWarning: scipy.linalg.solve\n",
      "Ill-conditioned matrix detected. Result is not guaranteed to be accurate.\n",
      "Reciprocal condition number/precision: 1.3862102451133466e-18 / 1.1102230246251565e-16\n",
      "  RuntimeWarning)\n"
     ]
    },
    {
     "name": "stdout",
     "output_type": "stream",
     "text": [
      "Intercept 0.42168950549501816\n",
      "Prediction_local [0.70551852]\n",
      "Right: 0.7490889\n"
     ]
    },
    {
     "name": "stderr",
     "output_type": "stream",
     "text": [
      "/opt/oscer/software/Python/3.6.4-foss-2018a/lib/python3.6/site-packages/scipy-1.0.0-py3.6-linux-x86_64.egg/scipy/linalg/basic.py:40: RuntimeWarning: scipy.linalg.solve\n",
      "Ill-conditioned matrix detected. Result is not guaranteed to be accurate.\n",
      "Reciprocal condition number/precision: 7.43572499212693e-18 / 1.1102230246251565e-16\n",
      "  RuntimeWarning)\n"
     ]
    },
    {
     "name": "stdout",
     "output_type": "stream",
     "text": [
      "Intercept 0.34191160687226174\n",
      "Prediction_local [0.69491537]\n",
      "Right: 0.83600676\n"
     ]
    },
    {
     "name": "stderr",
     "output_type": "stream",
     "text": [
      "/opt/oscer/software/Python/3.6.4-foss-2018a/lib/python3.6/site-packages/scipy-1.0.0-py3.6-linux-x86_64.egg/scipy/linalg/basic.py:40: RuntimeWarning: scipy.linalg.solve\n",
      "Ill-conditioned matrix detected. Result is not guaranteed to be accurate.\n",
      "Reciprocal condition number/precision: 5.5782132828779655e-18 / 1.1102230246251565e-16\n",
      "  RuntimeWarning)\n"
     ]
    },
    {
     "name": "stdout",
     "output_type": "stream",
     "text": [
      "Intercept 0.4299295033031443\n",
      "Prediction_local [0.75893661]\n",
      "Right: 0.87875277\n"
     ]
    },
    {
     "name": "stderr",
     "output_type": "stream",
     "text": [
      "/opt/oscer/software/Python/3.6.4-foss-2018a/lib/python3.6/site-packages/scipy-1.0.0-py3.6-linux-x86_64.egg/scipy/linalg/basic.py:40: RuntimeWarning: scipy.linalg.solve\n",
      "Ill-conditioned matrix detected. Result is not guaranteed to be accurate.\n",
      "Reciprocal condition number/precision: 9.217450391947479e-19 / 1.1102230246251565e-16\n",
      "  RuntimeWarning)\n"
     ]
    },
    {
     "name": "stdout",
     "output_type": "stream",
     "text": [
      "Intercept 0.37598989670643346\n",
      "Prediction_local [0.80517755]\n",
      "Right: 0.94274235\n"
     ]
    },
    {
     "name": "stderr",
     "output_type": "stream",
     "text": [
      "/opt/oscer/software/Python/3.6.4-foss-2018a/lib/python3.6/site-packages/scipy-1.0.0-py3.6-linux-x86_64.egg/scipy/linalg/basic.py:40: RuntimeWarning: scipy.linalg.solve\n",
      "Ill-conditioned matrix detected. Result is not guaranteed to be accurate.\n",
      "Reciprocal condition number/precision: 8.75466380130373e-19 / 1.1102230246251565e-16\n",
      "  RuntimeWarning)\n"
     ]
    },
    {
     "name": "stdout",
     "output_type": "stream",
     "text": [
      "Intercept 0.3899489467707207\n",
      "Prediction_local [0.68141144]\n",
      "Right: 0.83647084\n"
     ]
    },
    {
     "name": "stderr",
     "output_type": "stream",
     "text": [
      "/opt/oscer/software/Python/3.6.4-foss-2018a/lib/python3.6/site-packages/scipy-1.0.0-py3.6-linux-x86_64.egg/scipy/linalg/basic.py:40: RuntimeWarning: scipy.linalg.solve\n",
      "Ill-conditioned matrix detected. Result is not guaranteed to be accurate.\n",
      "Reciprocal condition number/precision: 1.4920890462114332e-18 / 1.1102230246251565e-16\n",
      "  RuntimeWarning)\n"
     ]
    },
    {
     "name": "stdout",
     "output_type": "stream",
     "text": [
      "Intercept 0.37847294196055353\n",
      "Prediction_local [0.60978521]\n",
      "Right: 0.7178637\n"
     ]
    },
    {
     "name": "stderr",
     "output_type": "stream",
     "text": [
      "/opt/oscer/software/Python/3.6.4-foss-2018a/lib/python3.6/site-packages/scipy-1.0.0-py3.6-linux-x86_64.egg/scipy/linalg/basic.py:40: RuntimeWarning: scipy.linalg.solve\n",
      "Ill-conditioned matrix detected. Result is not guaranteed to be accurate.\n",
      "Reciprocal condition number/precision: 1.6819145319112905e-18 / 1.1102230246251565e-16\n",
      "  RuntimeWarning)\n"
     ]
    },
    {
     "name": "stdout",
     "output_type": "stream",
     "text": [
      "Intercept 0.45668300722651817\n",
      "Prediction_local [0.80875807]\n",
      "Right: 0.9395759\n",
      "Intercept 0.4866234725316587\n",
      "Prediction_local [0.61279708]\n",
      "Right: 0.68595886\n",
      "Intercept 0.3838221593295599\n",
      "Prediction_local [0.80652133]\n",
      "Right: 0.9678284\n"
     ]
    },
    {
     "name": "stderr",
     "output_type": "stream",
     "text": [
      "/opt/oscer/software/Python/3.6.4-foss-2018a/lib/python3.6/site-packages/scipy-1.0.0-py3.6-linux-x86_64.egg/scipy/linalg/basic.py:40: RuntimeWarning: scipy.linalg.solve\n",
      "Ill-conditioned matrix detected. Result is not guaranteed to be accurate.\n",
      "Reciprocal condition number/precision: 2.3244346140759285e-18 / 1.1102230246251565e-16\n",
      "  RuntimeWarning)\n"
     ]
    },
    {
     "name": "stdout",
     "output_type": "stream",
     "text": [
      "Intercept 0.4257500464411021\n",
      "Prediction_local [0.7723361]\n",
      "Right: 0.9635744\n",
      "Intercept 0.4181026585629336\n",
      "Prediction_local [0.73353746]\n",
      "Right: 0.8454969\n"
     ]
    },
    {
     "name": "stderr",
     "output_type": "stream",
     "text": [
      "/opt/oscer/software/Python/3.6.4-foss-2018a/lib/python3.6/site-packages/scipy-1.0.0-py3.6-linux-x86_64.egg/scipy/linalg/basic.py:40: RuntimeWarning: scipy.linalg.solve\n",
      "Ill-conditioned matrix detected. Result is not guaranteed to be accurate.\n",
      "Reciprocal condition number/precision: 3.3770368155685114e-19 / 1.1102230246251565e-16\n",
      "  RuntimeWarning)\n"
     ]
    },
    {
     "name": "stdout",
     "output_type": "stream",
     "text": [
      "Intercept 0.3198667642138642\n",
      "Prediction_local [0.79015343]\n",
      "Right: 0.9200336\n"
     ]
    },
    {
     "name": "stderr",
     "output_type": "stream",
     "text": [
      "/opt/oscer/software/Python/3.6.4-foss-2018a/lib/python3.6/site-packages/scipy-1.0.0-py3.6-linux-x86_64.egg/scipy/linalg/basic.py:40: RuntimeWarning: scipy.linalg.solve\n",
      "Ill-conditioned matrix detected. Result is not guaranteed to be accurate.\n",
      "Reciprocal condition number/precision: 5.538395303805701e-18 / 1.1102230246251565e-16\n",
      "  RuntimeWarning)\n"
     ]
    },
    {
     "name": "stdout",
     "output_type": "stream",
     "text": [
      "Intercept 0.44583370144249523\n",
      "Prediction_local [0.57239693]\n",
      "Right: 0.6708416\n"
     ]
    },
    {
     "name": "stderr",
     "output_type": "stream",
     "text": [
      "/opt/oscer/software/Python/3.6.4-foss-2018a/lib/python3.6/site-packages/scipy-1.0.0-py3.6-linux-x86_64.egg/scipy/linalg/basic.py:40: RuntimeWarning: scipy.linalg.solve\n",
      "Ill-conditioned matrix detected. Result is not guaranteed to be accurate.\n",
      "Reciprocal condition number/precision: 2.5550556097833996e-18 / 1.1102230246251565e-16\n",
      "  RuntimeWarning)\n"
     ]
    },
    {
     "name": "stdout",
     "output_type": "stream",
     "text": [
      "Intercept 0.354239942058818\n",
      "Prediction_local [0.75885895]\n",
      "Right: 0.8273817\n",
      "Intercept 0.2856905212636767\n",
      "Prediction_local [0.79077567]\n",
      "Right: 0.90559375\n",
      "Intercept 0.45523760845341926\n",
      "Prediction_local [0.77806683]\n",
      "Right: 0.94226766\n"
     ]
    },
    {
     "name": "stderr",
     "output_type": "stream",
     "text": [
      "/opt/oscer/software/Python/3.6.4-foss-2018a/lib/python3.6/site-packages/scipy-1.0.0-py3.6-linux-x86_64.egg/scipy/linalg/basic.py:40: RuntimeWarning: scipy.linalg.solve\n",
      "Ill-conditioned matrix detected. Result is not guaranteed to be accurate.\n",
      "Reciprocal condition number/precision: 1.023901598376231e-18 / 1.1102230246251565e-16\n",
      "  RuntimeWarning)\n"
     ]
    },
    {
     "name": "stdout",
     "output_type": "stream",
     "text": [
      "Intercept 0.4643389657983956\n",
      "Prediction_local [0.80309103]\n",
      "Right: 0.9208615\n",
      "Intercept 0.46606543515340737\n",
      "Prediction_local [0.62667295]\n",
      "Right: 0.68802917\n",
      "Intercept 0.3876588206843592\n",
      "Prediction_local [0.64466719]\n",
      "Right: 0.67785656\n",
      "Intercept 0.46005610647475825\n",
      "Prediction_local [0.6428525]\n",
      "Right: 0.72129476\n"
     ]
    },
    {
     "name": "stderr",
     "output_type": "stream",
     "text": [
      "/opt/oscer/software/Python/3.6.4-foss-2018a/lib/python3.6/site-packages/scipy-1.0.0-py3.6-linux-x86_64.egg/scipy/linalg/basic.py:40: RuntimeWarning: scipy.linalg.solve\n",
      "Ill-conditioned matrix detected. Result is not guaranteed to be accurate.\n",
      "Reciprocal condition number/precision: 1.317911129780846e-19 / 1.1102230246251565e-16\n",
      "  RuntimeWarning)\n"
     ]
    },
    {
     "name": "stdout",
     "output_type": "stream",
     "text": [
      "Intercept 0.42768294082765884\n",
      "Prediction_local [0.80794851]\n",
      "Right: 0.86632264\n"
     ]
    },
    {
     "name": "stderr",
     "output_type": "stream",
     "text": [
      "/opt/oscer/software/Python/3.6.4-foss-2018a/lib/python3.6/site-packages/scipy-1.0.0-py3.6-linux-x86_64.egg/scipy/linalg/basic.py:40: RuntimeWarning: scipy.linalg.solve\n",
      "Ill-conditioned matrix detected. Result is not guaranteed to be accurate.\n",
      "Reciprocal condition number/precision: 7.227221824918321e-18 / 1.1102230246251565e-16\n",
      "  RuntimeWarning)\n"
     ]
    },
    {
     "name": "stdout",
     "output_type": "stream",
     "text": [
      "Intercept 0.4313437056193834\n",
      "Prediction_local [0.64548867]\n",
      "Right: 0.67504734\n",
      "Intercept 0.49501154273104014\n",
      "Prediction_local [0.63599586]\n",
      "Right: 0.69511795\n",
      "Intercept 0.4618450334628739\n",
      "Prediction_local [0.77773935]\n",
      "Right: 0.9483549\n"
     ]
    },
    {
     "name": "stderr",
     "output_type": "stream",
     "text": [
      "/opt/oscer/software/Python/3.6.4-foss-2018a/lib/python3.6/site-packages/scipy-1.0.0-py3.6-linux-x86_64.egg/scipy/linalg/basic.py:40: RuntimeWarning: scipy.linalg.solve\n",
      "Ill-conditioned matrix detected. Result is not guaranteed to be accurate.\n",
      "Reciprocal condition number/precision: 3.2490296806264025e-18 / 1.1102230246251565e-16\n",
      "  RuntimeWarning)\n"
     ]
    },
    {
     "name": "stdout",
     "output_type": "stream",
     "text": [
      "Intercept 0.35825444098611614\n",
      "Prediction_local [0.76052003]\n",
      "Right: 0.9354148\n",
      "Intercept 0.4312905763995123\n",
      "Prediction_local [0.77290321]\n",
      "Right: 0.8780821\n",
      "Intercept 0.5715498652719259\n",
      "Prediction_local [0.69472292]\n",
      "Right: 0.7226876\n",
      "Intercept 0.33845511851530186\n",
      "Prediction_local [0.6886154]\n",
      "Right: 0.8392389\n"
     ]
    },
    {
     "name": "stderr",
     "output_type": "stream",
     "text": [
      "/opt/oscer/software/Python/3.6.4-foss-2018a/lib/python3.6/site-packages/scipy-1.0.0-py3.6-linux-x86_64.egg/scipy/linalg/basic.py:40: RuntimeWarning: scipy.linalg.solve\n",
      "Ill-conditioned matrix detected. Result is not guaranteed to be accurate.\n",
      "Reciprocal condition number/precision: 4.490147920079738e-18 / 1.1102230246251565e-16\n",
      "  RuntimeWarning)\n"
     ]
    },
    {
     "name": "stdout",
     "output_type": "stream",
     "text": [
      "Intercept 0.3789611869692835\n",
      "Prediction_local [0.83290333]\n",
      "Right: 0.891258\n"
     ]
    },
    {
     "name": "stderr",
     "output_type": "stream",
     "text": [
      "/opt/oscer/software/Python/3.6.4-foss-2018a/lib/python3.6/site-packages/scipy-1.0.0-py3.6-linux-x86_64.egg/scipy/linalg/basic.py:40: RuntimeWarning: scipy.linalg.solve\n",
      "Ill-conditioned matrix detected. Result is not guaranteed to be accurate.\n",
      "Reciprocal condition number/precision: 3.4332299457639946e-18 / 1.1102230246251565e-16\n",
      "  RuntimeWarning)\n"
     ]
    },
    {
     "name": "stdout",
     "output_type": "stream",
     "text": [
      "Intercept 0.3628541424967201\n",
      "Prediction_local [0.67701603]\n",
      "Right: 0.77625585\n",
      "Intercept 0.46096568669398075\n",
      "Prediction_local [0.69084925]\n",
      "Right: 0.804595\n",
      "Intercept 0.43940525304537015\n",
      "Prediction_local [0.76700042]\n",
      "Right: 0.86605704\n"
     ]
    },
    {
     "name": "stderr",
     "output_type": "stream",
     "text": [
      "/opt/oscer/software/Python/3.6.4-foss-2018a/lib/python3.6/site-packages/scipy-1.0.0-py3.6-linux-x86_64.egg/scipy/linalg/basic.py:40: RuntimeWarning: scipy.linalg.solve\n",
      "Ill-conditioned matrix detected. Result is not guaranteed to be accurate.\n",
      "Reciprocal condition number/precision: 5.141105623579195e-18 / 1.1102230246251565e-16\n",
      "  RuntimeWarning)\n"
     ]
    },
    {
     "name": "stdout",
     "output_type": "stream",
     "text": [
      "Intercept 0.3843900516051664\n",
      "Prediction_local [0.75949563]\n",
      "Right: 0.87426794\n",
      "Intercept 0.434464030237365\n",
      "Prediction_local [0.62565371]\n",
      "Right: 0.6867905\n"
     ]
    },
    {
     "name": "stderr",
     "output_type": "stream",
     "text": [
      "/opt/oscer/software/Python/3.6.4-foss-2018a/lib/python3.6/site-packages/scipy-1.0.0-py3.6-linux-x86_64.egg/scipy/linalg/basic.py:40: RuntimeWarning: scipy.linalg.solve\n",
      "Ill-conditioned matrix detected. Result is not guaranteed to be accurate.\n",
      "Reciprocal condition number/precision: 3.4182956164039146e-18 / 1.1102230246251565e-16\n",
      "  RuntimeWarning)\n"
     ]
    },
    {
     "name": "stdout",
     "output_type": "stream",
     "text": [
      "Intercept 0.3525207708344844\n",
      "Prediction_local [0.72083821]\n",
      "Right: 0.8915316\n",
      "Intercept 0.40222294265506725\n",
      "Prediction_local [0.61789857]\n",
      "Right: 0.67722136\n",
      "Intercept 0.4058668388827559\n",
      "Prediction_local [0.615261]\n",
      "Right: 0.7104187\n"
     ]
    },
    {
     "name": "stderr",
     "output_type": "stream",
     "text": [
      "/opt/oscer/software/Python/3.6.4-foss-2018a/lib/python3.6/site-packages/scipy-1.0.0-py3.6-linux-x86_64.egg/scipy/linalg/basic.py:40: RuntimeWarning: scipy.linalg.solve\n",
      "Ill-conditioned matrix detected. Result is not guaranteed to be accurate.\n",
      "Reciprocal condition number/precision: 2.6931164450042234e-18 / 1.1102230246251565e-16\n",
      "  RuntimeWarning)\n"
     ]
    },
    {
     "name": "stdout",
     "output_type": "stream",
     "text": [
      "Intercept 0.33557446866634827\n",
      "Prediction_local [0.63700347]\n",
      "Right: 0.6719102\n",
      "Intercept 0.46374997377548277\n",
      "Prediction_local [0.64534785]\n",
      "Right: 0.7260289\n"
     ]
    },
    {
     "name": "stderr",
     "output_type": "stream",
     "text": [
      "/opt/oscer/software/Python/3.6.4-foss-2018a/lib/python3.6/site-packages/scipy-1.0.0-py3.6-linux-x86_64.egg/scipy/linalg/basic.py:40: RuntimeWarning: scipy.linalg.solve\n",
      "Ill-conditioned matrix detected. Result is not guaranteed to be accurate.\n",
      "Reciprocal condition number/precision: 8.264846411164325e-19 / 1.1102230246251565e-16\n",
      "  RuntimeWarning)\n"
     ]
    },
    {
     "name": "stdout",
     "output_type": "stream",
     "text": [
      "Intercept 0.38506847536154687\n",
      "Prediction_local [0.60161616]\n",
      "Right: 0.7077123\n"
     ]
    },
    {
     "name": "stderr",
     "output_type": "stream",
     "text": [
      "/opt/oscer/software/Python/3.6.4-foss-2018a/lib/python3.6/site-packages/scipy-1.0.0-py3.6-linux-x86_64.egg/scipy/linalg/basic.py:40: RuntimeWarning: scipy.linalg.solve\n",
      "Ill-conditioned matrix detected. Result is not guaranteed to be accurate.\n",
      "Reciprocal condition number/precision: 4.0398427959444596e-19 / 1.1102230246251565e-16\n",
      "  RuntimeWarning)\n"
     ]
    },
    {
     "name": "stdout",
     "output_type": "stream",
     "text": [
      "Intercept 0.37619760621638665\n",
      "Prediction_local [0.78526686]\n",
      "Right: 0.94469726\n"
     ]
    },
    {
     "name": "stderr",
     "output_type": "stream",
     "text": [
      "/opt/oscer/software/Python/3.6.4-foss-2018a/lib/python3.6/site-packages/scipy-1.0.0-py3.6-linux-x86_64.egg/scipy/linalg/basic.py:40: RuntimeWarning: scipy.linalg.solve\n",
      "Ill-conditioned matrix detected. Result is not guaranteed to be accurate.\n",
      "Reciprocal condition number/precision: 1.3270132062432815e-18 / 1.1102230246251565e-16\n",
      "  RuntimeWarning)\n"
     ]
    },
    {
     "name": "stdout",
     "output_type": "stream",
     "text": [
      "Intercept 0.378429404462115\n",
      "Prediction_local [0.82408797]\n",
      "Right: 0.9425194\n",
      "Intercept 0.41630031260248934\n",
      "Prediction_local [0.67555801]\n",
      "Right: 0.6973886\n",
      "Intercept 0.4477979329715386\n",
      "Prediction_local [0.74842649]\n",
      "Right: 0.80350804\n"
     ]
    },
    {
     "name": "stderr",
     "output_type": "stream",
     "text": [
      "/opt/oscer/software/Python/3.6.4-foss-2018a/lib/python3.6/site-packages/scipy-1.0.0-py3.6-linux-x86_64.egg/scipy/linalg/basic.py:40: RuntimeWarning: scipy.linalg.solve\n",
      "Ill-conditioned matrix detected. Result is not guaranteed to be accurate.\n",
      "Reciprocal condition number/precision: 2.6773086505545576e-18 / 1.1102230246251565e-16\n",
      "  RuntimeWarning)\n"
     ]
    },
    {
     "name": "stdout",
     "output_type": "stream",
     "text": [
      "Intercept 0.3101899092451833\n",
      "Prediction_local [0.64790835]\n",
      "Right: 0.7383537\n",
      "Intercept 0.4697778356254165\n",
      "Prediction_local [0.62707322]\n",
      "Right: 0.6771555\n",
      "Intercept 0.3980846233978855\n",
      "Prediction_local [0.68382892]\n",
      "Right: 0.81801593\n"
     ]
    },
    {
     "name": "stderr",
     "output_type": "stream",
     "text": [
      "/opt/oscer/software/Python/3.6.4-foss-2018a/lib/python3.6/site-packages/scipy-1.0.0-py3.6-linux-x86_64.egg/scipy/linalg/basic.py:40: RuntimeWarning: scipy.linalg.solve\n",
      "Ill-conditioned matrix detected. Result is not guaranteed to be accurate.\n",
      "Reciprocal condition number/precision: 2.0617784675874324e-18 / 1.1102230246251565e-16\n",
      "  RuntimeWarning)\n"
     ]
    },
    {
     "name": "stdout",
     "output_type": "stream",
     "text": [
      "Intercept 0.3751033147656083\n",
      "Prediction_local [0.81602703]\n",
      "Right: 0.9594536\n",
      "Intercept 0.38501157869566044\n",
      "Prediction_local [0.65115227]\n",
      "Right: 0.7509617\n",
      "Intercept 0.4030122191447899\n",
      "Prediction_local [0.64420656]\n",
      "Right: 0.6922066\n",
      "Intercept 0.374060213263158\n",
      "Prediction_local [0.79991147]\n",
      "Right: 0.95759547\n"
     ]
    },
    {
     "name": "stderr",
     "output_type": "stream",
     "text": [
      "/opt/oscer/software/Python/3.6.4-foss-2018a/lib/python3.6/site-packages/scipy-1.0.0-py3.6-linux-x86_64.egg/scipy/linalg/basic.py:40: RuntimeWarning: scipy.linalg.solve\n",
      "Ill-conditioned matrix detected. Result is not guaranteed to be accurate.\n",
      "Reciprocal condition number/precision: 1.7752433226182737e-18 / 1.1102230246251565e-16\n",
      "  RuntimeWarning)\n"
     ]
    },
    {
     "name": "stdout",
     "output_type": "stream",
     "text": [
      "Intercept 0.49870120463469675\n",
      "Prediction_local [0.81442632]\n",
      "Right: 0.86966217\n",
      "Intercept 0.40698156304453775\n",
      "Prediction_local [0.62269503]\n",
      "Right: 0.682992\n",
      "Intercept 0.45345287733206074\n",
      "Prediction_local [0.64930012]\n",
      "Right: 0.76109165\n",
      "Intercept 0.38293734267480506\n",
      "Prediction_local [0.77594218]\n",
      "Right: 0.9231499\n",
      "Intercept 0.48531859830760304\n",
      "Prediction_local [0.64410535]\n",
      "Right: 0.75816095\n"
     ]
    },
    {
     "name": "stderr",
     "output_type": "stream",
     "text": [
      "/opt/oscer/software/Python/3.6.4-foss-2018a/lib/python3.6/site-packages/scipy-1.0.0-py3.6-linux-x86_64.egg/scipy/linalg/basic.py:40: RuntimeWarning: scipy.linalg.solve\n",
      "Ill-conditioned matrix detected. Result is not guaranteed to be accurate.\n",
      "Reciprocal condition number/precision: 1.7005847137348604e-18 / 1.1102230246251565e-16\n",
      "  RuntimeWarning)\n"
     ]
    },
    {
     "name": "stdout",
     "output_type": "stream",
     "text": [
      "Intercept 0.3955416042922345\n",
      "Prediction_local [0.82095043]\n",
      "Right: 0.9598659\n",
      "Intercept 0.38675365862196204\n",
      "Prediction_local [0.76219588]\n",
      "Right: 0.8789375\n",
      "Intercept 0.43459987157709334\n",
      "Prediction_local [0.68306526]\n",
      "Right: 0.74787915\n",
      "Intercept 0.4754481375463224\n",
      "Prediction_local [0.71723801]\n",
      "Right: 0.8079263\n",
      "Intercept 0.40556917562166767\n",
      "Prediction_local [0.63351926]\n",
      "Right: 0.68254614\n",
      "Intercept 0.30514030320589736\n",
      "Prediction_local [0.73844387]\n",
      "Right: 0.8137442\n",
      "Intercept 0.3839015196765934\n",
      "Prediction_local [0.59049113]\n",
      "Right: 0.6743494\n",
      "Intercept 0.40139089554979773\n",
      "Prediction_local [0.72174137]\n",
      "Right: 0.8277445\n",
      "Intercept 0.3800925863057575\n",
      "Prediction_local [0.66100365]\n",
      "Right: 0.68066925\n"
     ]
    },
    {
     "name": "stderr",
     "output_type": "stream",
     "text": [
      "/opt/oscer/software/Python/3.6.4-foss-2018a/lib/python3.6/site-packages/scipy-1.0.0-py3.6-linux-x86_64.egg/scipy/linalg/basic.py:40: RuntimeWarning: scipy.linalg.solve\n",
      "Ill-conditioned matrix detected. Result is not guaranteed to be accurate.\n",
      "Reciprocal condition number/precision: 8.8144729862612e-18 / 1.1102230246251565e-16\n",
      "  RuntimeWarning)\n"
     ]
    },
    {
     "name": "stdout",
     "output_type": "stream",
     "text": [
      "Intercept 0.4613194294233706\n",
      "Prediction_local [0.72982109]\n",
      "Right: 0.82393086\n"
     ]
    },
    {
     "name": "stderr",
     "output_type": "stream",
     "text": [
      "/opt/oscer/software/Python/3.6.4-foss-2018a/lib/python3.6/site-packages/scipy-1.0.0-py3.6-linux-x86_64.egg/scipy/linalg/basic.py:40: RuntimeWarning: scipy.linalg.solve\n",
      "Ill-conditioned matrix detected. Result is not guaranteed to be accurate.\n",
      "Reciprocal condition number/precision: 2.122705750302911e-18 / 1.1102230246251565e-16\n",
      "  RuntimeWarning)\n"
     ]
    },
    {
     "name": "stdout",
     "output_type": "stream",
     "text": [
      "Intercept 0.41176921538070177\n",
      "Prediction_local [0.61188194]\n",
      "Right: 0.67060524\n"
     ]
    },
    {
     "name": "stderr",
     "output_type": "stream",
     "text": [
      "/opt/oscer/software/Python/3.6.4-foss-2018a/lib/python3.6/site-packages/scipy-1.0.0-py3.6-linux-x86_64.egg/scipy/linalg/basic.py:40: RuntimeWarning: scipy.linalg.solve\n",
      "Ill-conditioned matrix detected. Result is not guaranteed to be accurate.\n",
      "Reciprocal condition number/precision: 1.630690183543934e-18 / 1.1102230246251565e-16\n",
      "  RuntimeWarning)\n"
     ]
    },
    {
     "name": "stdout",
     "output_type": "stream",
     "text": [
      "Intercept 0.40049645311247994\n",
      "Prediction_local [0.67028236]\n",
      "Right: 0.7678205\n",
      "Intercept 0.4150228432947999\n",
      "Prediction_local [0.7178283]\n",
      "Right: 0.83369493\n",
      "Intercept 0.39516916073051456\n",
      "Prediction_local [0.70320157]\n",
      "Right: 0.82492256\n",
      "Intercept 0.37843434803588827\n",
      "Prediction_local [0.65265395]\n",
      "Right: 0.7922673\n"
     ]
    },
    {
     "name": "stderr",
     "output_type": "stream",
     "text": [
      "/opt/oscer/software/Python/3.6.4-foss-2018a/lib/python3.6/site-packages/scipy-1.0.0-py3.6-linux-x86_64.egg/scipy/linalg/basic.py:40: RuntimeWarning: scipy.linalg.solve\n",
      "Ill-conditioned matrix detected. Result is not guaranteed to be accurate.\n",
      "Reciprocal condition number/precision: 3.087809673419709e-18 / 1.1102230246251565e-16\n",
      "  RuntimeWarning)\n"
     ]
    },
    {
     "name": "stdout",
     "output_type": "stream",
     "text": [
      "Intercept 0.35168415797698094\n",
      "Prediction_local [0.80343518]\n",
      "Right: 0.9437038\n"
     ]
    },
    {
     "name": "stderr",
     "output_type": "stream",
     "text": [
      "/opt/oscer/software/Python/3.6.4-foss-2018a/lib/python3.6/site-packages/scipy-1.0.0-py3.6-linux-x86_64.egg/scipy/linalg/basic.py:40: RuntimeWarning: scipy.linalg.solve\n",
      "Ill-conditioned matrix detected. Result is not guaranteed to be accurate.\n",
      "Reciprocal condition number/precision: 1.773858963477956e-18 / 1.1102230246251565e-16\n",
      "  RuntimeWarning)\n"
     ]
    },
    {
     "name": "stdout",
     "output_type": "stream",
     "text": [
      "Intercept 0.4269115673003404\n",
      "Prediction_local [0.72481343]\n",
      "Right: 0.8325144\n"
     ]
    },
    {
     "name": "stderr",
     "output_type": "stream",
     "text": [
      "/opt/oscer/software/Python/3.6.4-foss-2018a/lib/python3.6/site-packages/scipy-1.0.0-py3.6-linux-x86_64.egg/scipy/linalg/basic.py:40: RuntimeWarning: scipy.linalg.solve\n",
      "Ill-conditioned matrix detected. Result is not guaranteed to be accurate.\n",
      "Reciprocal condition number/precision: 2.7529003439861787e-18 / 1.1102230246251565e-16\n",
      "  RuntimeWarning)\n"
     ]
    },
    {
     "name": "stdout",
     "output_type": "stream",
     "text": [
      "Intercept 0.43198902462869015\n",
      "Prediction_local [0.61585791]\n",
      "Right: 0.71528107\n"
     ]
    },
    {
     "name": "stderr",
     "output_type": "stream",
     "text": [
      "/opt/oscer/software/Python/3.6.4-foss-2018a/lib/python3.6/site-packages/scipy-1.0.0-py3.6-linux-x86_64.egg/scipy/linalg/basic.py:40: RuntimeWarning: scipy.linalg.solve\n",
      "Ill-conditioned matrix detected. Result is not guaranteed to be accurate.\n",
      "Reciprocal condition number/precision: 4.30043110505854e-18 / 1.1102230246251565e-16\n",
      "  RuntimeWarning)\n"
     ]
    },
    {
     "name": "stdout",
     "output_type": "stream",
     "text": [
      "Intercept 0.38077796285347854\n",
      "Prediction_local [0.68616651]\n",
      "Right: 0.7942782\n",
      "Intercept 0.4608193678324731\n",
      "Prediction_local [0.79267181]\n",
      "Right: 0.8877202\n"
     ]
    },
    {
     "name": "stderr",
     "output_type": "stream",
     "text": [
      "/opt/oscer/software/Python/3.6.4-foss-2018a/lib/python3.6/site-packages/scipy-1.0.0-py3.6-linux-x86_64.egg/scipy/linalg/basic.py:40: RuntimeWarning: scipy.linalg.solve\n",
      "Ill-conditioned matrix detected. Result is not guaranteed to be accurate.\n",
      "Reciprocal condition number/precision: 2.5361390676516883e-18 / 1.1102230246251565e-16\n",
      "  RuntimeWarning)\n"
     ]
    },
    {
     "name": "stdout",
     "output_type": "stream",
     "text": [
      "Intercept 0.34060029301171224\n",
      "Prediction_local [0.7420499]\n",
      "Right: 0.8816416\n"
     ]
    },
    {
     "name": "stderr",
     "output_type": "stream",
     "text": [
      "/opt/oscer/software/Python/3.6.4-foss-2018a/lib/python3.6/site-packages/scipy-1.0.0-py3.6-linux-x86_64.egg/scipy/linalg/basic.py:40: RuntimeWarning: scipy.linalg.solve\n",
      "Ill-conditioned matrix detected. Result is not guaranteed to be accurate.\n",
      "Reciprocal condition number/precision: 1.915811688333063e-18 / 1.1102230246251565e-16\n",
      "  RuntimeWarning)\n"
     ]
    },
    {
     "name": "stdout",
     "output_type": "stream",
     "text": [
      "Intercept 0.3209665755728659\n",
      "Prediction_local [0.75165635]\n",
      "Right: 0.8800137\n"
     ]
    },
    {
     "name": "stderr",
     "output_type": "stream",
     "text": [
      "/opt/oscer/software/Python/3.6.4-foss-2018a/lib/python3.6/site-packages/scipy-1.0.0-py3.6-linux-x86_64.egg/scipy/linalg/basic.py:40: RuntimeWarning: scipy.linalg.solve\n",
      "Ill-conditioned matrix detected. Result is not guaranteed to be accurate.\n",
      "Reciprocal condition number/precision: 2.0090755644143979e-19 / 1.1102230246251565e-16\n",
      "  RuntimeWarning)\n"
     ]
    },
    {
     "name": "stdout",
     "output_type": "stream",
     "text": [
      "Intercept 0.33138239944737263\n",
      "Prediction_local [0.78951129]\n",
      "Right: 0.9550828\n"
     ]
    },
    {
     "name": "stderr",
     "output_type": "stream",
     "text": [
      "/opt/oscer/software/Python/3.6.4-foss-2018a/lib/python3.6/site-packages/scipy-1.0.0-py3.6-linux-x86_64.egg/scipy/linalg/basic.py:40: RuntimeWarning: scipy.linalg.solve\n",
      "Ill-conditioned matrix detected. Result is not guaranteed to be accurate.\n",
      "Reciprocal condition number/precision: 3.3505378356199425e-18 / 1.1102230246251565e-16\n",
      "  RuntimeWarning)\n"
     ]
    },
    {
     "name": "stdout",
     "output_type": "stream",
     "text": [
      "Intercept 0.4015974695347671\n",
      "Prediction_local [0.72686796]\n",
      "Right: 0.8867184\n",
      "Intercept 0.3977800875810958\n",
      "Prediction_local [0.84144451]\n",
      "Right: 0.92684686\n"
     ]
    },
    {
     "name": "stderr",
     "output_type": "stream",
     "text": [
      "/opt/oscer/software/Python/3.6.4-foss-2018a/lib/python3.6/site-packages/scipy-1.0.0-py3.6-linux-x86_64.egg/scipy/linalg/basic.py:40: RuntimeWarning: scipy.linalg.solve\n",
      "Ill-conditioned matrix detected. Result is not guaranteed to be accurate.\n",
      "Reciprocal condition number/precision: 4.917591893800591e-18 / 1.1102230246251565e-16\n",
      "  RuntimeWarning)\n"
     ]
    },
    {
     "name": "stdout",
     "output_type": "stream",
     "text": [
      "Intercept 0.4030239224969127\n",
      "Prediction_local [0.62888708]\n",
      "Right: 0.74370116\n",
      "Intercept 0.4426019293852566\n",
      "Prediction_local [0.67402978]\n",
      "Right: 0.74376374\n"
     ]
    },
    {
     "name": "stderr",
     "output_type": "stream",
     "text": [
      "/opt/oscer/software/Python/3.6.4-foss-2018a/lib/python3.6/site-packages/scipy-1.0.0-py3.6-linux-x86_64.egg/scipy/linalg/basic.py:40: RuntimeWarning: scipy.linalg.solve\n",
      "Ill-conditioned matrix detected. Result is not guaranteed to be accurate.\n",
      "Reciprocal condition number/precision: 8.261177109869767e-18 / 1.1102230246251565e-16\n",
      "  RuntimeWarning)\n"
     ]
    },
    {
     "name": "stdout",
     "output_type": "stream",
     "text": [
      "Intercept 0.3683074684340876\n",
      "Prediction_local [0.63088308]\n",
      "Right: 0.7265724\n",
      "Intercept 0.3909390574851253\n",
      "Prediction_local [0.62281895]\n",
      "Right: 0.71099985\n"
     ]
    }
   ],
   "source": [
    "pick=submodular_pick.SubmodularPick(explainer, x_test[important], predict_fn, sample_size=553, num_features=1000, num_exps_desired=1)"
   ]
  },
  {
   "cell_type": "code",
   "execution_count": 55,
   "metadata": {},
   "outputs": [],
   "source": [
    "exp_tot=[]\n",
    "for exp in pick.sp_explanations:\n",
    "    exp_tot.append(np.array(exp.as_list())[:,0])"
   ]
  },
  {
   "cell_type": "code",
   "execution_count": 56,
   "metadata": {},
   "outputs": [
    {
     "name": "stdout",
     "output_type": "stream",
     "text": [
      "['kgp17135476=2' 'chr4_28134269_A_C=2' 'chr12_28091700_A_G=2'\n",
      " 'chr3_37221053_C_G=2' 'chr11_15340237_C_T=2' 'kgp2618565=2'\n",
      " 'chr10_123467015_C_G=0' 'chr12_8779896_C_T=2' 'rs33391=2' 'rs1083383=0'\n",
      " 'chr16_89246785_A_C=2' 'rs9320750=2' 'chr13_97858238_A_G=2'\n",
      " 'chr5_56248633_G_T=2' 'chr6_168224685_C_T=2' 'rs12542492=2'\n",
      " 'chr8_76155864_C_G=1' 'chr8_142123260_C_T=2' 'chr8_89514784_A_G=2'\n",
      " 'rs34057232=2' 'chrX_121623926_A_G=2' 'chrX_88349122_A_G=2'\n",
      " 'chr6_30381544_A_G=2' 'rs17586536=2' 'chrX_152710845_A_T=2'\n",
      " 'chr1_97788840_A_G=0' 'rs36081634=2' 'chr9_124303632_C_T=2' 'rs1627990=2'\n",
      " 'chr22_17733251_A_G=2' 'chr6_127899971_A_T=2' 'newrs143374533=2'\n",
      " 'chr20_15214249_A_T=1' 'rs2373452=2' 'chr19_56005289_C_T=0'\n",
      " 'corect_rs148851713=2' 'chr1_160865815_C_T=2' 'rs204018=0'\n",
      " 'chr13_113284191_C_T=0' 'chr16_52328666_C_T=0' 'chr12_28363760_A_C=2'\n",
      " 'chr13_107080576_A_G=2' 'rs545500=0' 'rs602946=2' 'chr8_6260673_C_T=2'\n",
      " 'chr14_47823613_G_T=1' 'exm1380346=2' 'rs4821638=0'\n",
      " 'chr4_126466491_A_G=2' 'corect_rs56404467=2' 'chr22_42854569_C_G=2'\n",
      " 'rs6881563=2' 'chr3_74118286_A_T=2' 'chr7_30336156_C_G=2' 'rs2749158=2'\n",
      " 'chr12_8779921_C_T=2' 'rs35704718=2' 'exm770278=2' 'rs9507104=2'\n",
      " 'chr12_8791126_G_T=2' 'chr3_2286992_A_T=2' 'rs3135730=2' 'rs782744=2'\n",
      " 'rs1933909=2' 'chr13_74357374_C_T=2' 'chr11_69292337_C_T=2'\n",
      " 'rs11735107=0' 'rs59750788=1' 'chr12_8786160_A_C=2' 'Chr6:30954121:G:T=2'\n",
      " 'rs79835098=2' 'corect_rs140107532=2' 'rs4135136=2'\n",
      " 'chr10_80850750_C_T=2' 'chr5_55879061_C_T=1' 'rs11828525=2'\n",
      " 'chr3_71305759_A_G=2' 'chr14_53699008_C_INDEL=2' 'chr14_76801419_C_T=2'\n",
      " 'rs78620707=2' 'rs1473201=2' 'chr22_35753792_A_G=2'\n",
      " 'chr5_111413372_G_T=2' 'chr11_115507980_C_T=2' 'chr3_48767100_C_T=2'\n",
      " 'chr4_106058423_INDEL_TTC=2' 'chr5_56254772_A_G=2' 'rs797319=2'\n",
      " 'rs74412847=2' 'chr7_102368966_A_G=2' 'rs62193397=2' 'rs6553719=2'\n",
      " 'chr10_38792507_C_T=0' 'rs62368553=2' 'chr7_130674481_A_G=1'\n",
      " 'corect_rs116995945=2' 'rs1314921=1' 'chr12_28530125_C_G=0' 'rs3218820=2'\n",
      " 'rs12266639=2' 'corect_rs182230988=2' 'chr2_217920769_G_T=0'\n",
      " 'chr5_56025682_A_G=2' 'rs2523629=1' 'rs77211738=2' 'rs2405682=2'\n",
      " 'rs1959527=1' 'chr4_98460531_A_C=2' 'chr11_871530_C_T=2' 'rs6974602=2'\n",
      " 'chr10_52434758_A_G=2' 'chr5_151953200_G_T=2' 'rs79222830=2'\n",
      " 'rs9269078=2' 'rs12173562=2' 'chr11_65624934_A_C=0'\n",
      " 'chr6_138734024_A_G=2' 'rs10768905=2' 'rs1500206=0' 'kgp12104856=2'\n",
      " 'rs12547541=0' 'chr22_40739116_A_G=2' 'chr4_175839725_C_T=2'\n",
      " 'chr7_130659519_A_G=2' 'rs11667450=2' 'rs9892953=1'\n",
      " 'chr13_87802912_A_G=2' 'chr10_123337066_C_T=2' 'chr6_117598048_A_G=2'\n",
      " 'chr12_96041527_C_T=2' 'chr6_32633398_C_T=0' 'rs4301826=0'\n",
      " 'chr6_94338884_A_G=2' 'rs1250011=0' 'rs75296154=2' 'rs2863845=1'\n",
      " 'chr6_32523296_A_G=0' 'rs6825684=2' 'chr9_122206415_C_T=2'\n",
      " 'chr5_44644006_A_G=2' 'rs6431731=2' 'rs10816528=1' 'chr5_49511425_C_T=0'\n",
      " 'chr1_191899139_C_G=2' 'rs10788178=0' 'chr16_53800629_C_G=0'\n",
      " 'chr4_175828287_C_T=2' 'rs242928=2' 'rs72761383=2' 'chr9_22062134_G_T=2'\n",
      " 'chr11_24623826_A_G=2' 'chr8_142123272_C_T=2' 'rs554514=0' 'rs2011094=0'\n",
      " 'rs6852016=0' 'rs12469813=2' 'chr19_55616843_INDEL_TTTC=1'\n",
      " 'chr2_217939336_A_G=2' 'chr3_4736535_A_T=1' 'chr8_36858483_A_G=2'\n",
      " 'rs10008376=0' 'c2_pos217604061=2' 'chr15_74592862_A_G=2'\n",
      " 'chr18_7155988_A_G=2' 'rs13248797=2' 'chr6_68404944_G_T=2'\n",
      " 'chr5_56193667_C_INDEL=2' 'rs132941=2' 'chr20_30402237_C_G=2'\n",
      " 'rs4600441=2' 'rs2903992=2' 'rs11187904=2' 'chr10_80890671_A_T=1'\n",
      " 'chr10_80861077_C_T=0' 'chr1_1914124_C_T=2' 'chr16_53821297_C_T=0'\n",
      " 'chr18_24589003_G_T=2' 'rs28969436=2' 'chr12_19781229_C_T=2'\n",
      " 'chr1_109093676_A_G=2' 'chr19_23920150_A_G=2' 'chr5_56286209_C_T=0'\n",
      " 'rs3927319=2' 'chr5_56170813_C_G=2' 'rs13047152=2' 'rs7257932=2'\n",
      " 'rs1219651=2' 'rs10782563=2' 'chr4_107862280_A_C=2'\n",
      " 'chr16_54707615_C_T=2' 'chr13_32972626_A_T=2' 'chr12_28148641_A_G=2'\n",
      " 'chr1_121211608_A_G=1' 'rs10602433=2' 'chr2_168306484_C_T=2'\n",
      " 'chr17_53226622_A_G=2' 'chr5_56002070_A_T=2' 'chr7_92540226_G_T=2'\n",
      " 'rs12663264=2' 'chr7_12687945_A_G=2' 'corect_rs137869059=2'\n",
      " 'chr16_52605096_A_G=1' 'rs72834346=2' 'rs7752591=0' 'rs922853=2'\n",
      " 'rs1219642=2' 'chr17_78243909_A_G=2' 'chr6_32486299_C_T=1' 'rs3827256=2'\n",
      " 'rs11701058=2' 'rs1467673=1' 'chr5_56202346_A_G=1' 'rs45631582=2'\n",
      " 'rs2253168=2' 'chr20_34858360_C_T=2' 'chr10_29919963_A_G=0'\n",
      " 'rs17342514=2' 'rs6838519=2' 'chr22_29288474_C_T=2'\n",
      " 'chr10_134234535_C_T=2' 'chr7_30336503_A_T=2' 'rs41270640=2'\n",
      " 'chr5_56022907_A_G=2' 'chr12_28169798_A_C=2' 'rs10512852=2' 'rs1274641=1'\n",
      " 'chr18_63130057_A_G=2' 'chr22_41012819_A_T=2' 'rs62003561=2'\n",
      " 'rs9296564=2' 'rs4973860=1' 'rs11571815=2' 'corect_rs111968842=2'\n",
      " 'rs62126564=0' 'rs12413814=2' 'rs2685505=2' 'chr10_123288977_G_T=2'\n",
      " 'rs778228=2' 'chr6_42922215_A_C=2' 'rs12566190=2' 'rs6913799=2'\n",
      " 'chr9_137596148_G_T=0' 'rs1899997=2' 'chr8_29504917_A_G=1'\n",
      " 'chr5_56324570_C_G=2' 'rs10816531=1' 'chr8_76632776_A_G=2'\n",
      " 'chr16_53815435_C_T=0' 'rs4674132=2' 'chr1_171056203_C_T=2' 'rs4636400=0'\n",
      " 'rs1314919=1' 'chr5_56103809_A_G=1' 'chr19_44432840_C_T=2'\n",
      " 'c5_pos56103771=1' 'chr10_80698200_A_C=1' 'rs9301295=1' 'rs28557075=2'\n",
      " 'rs1445997=1' 'chrX_37620412_C_T=2' 'rs6892348=2' 'chr16_52549935_C_T=0'\n",
      " 'rs633352=0' 'rs72697547=2' 'chr5_81657329_G_T=2' 'rs629480=2'\n",
      " 'rs7040199=2' 'rs1400042=2' 'chr10_123332289_A_G=2'\n",
      " 'chr14_37116271_A_C=0' 'chr5_56052938_C_T=2' 'chr2_217904976_C_T=2'\n",
      " 'rs17127947=2' 'chr17_56180576_C_T=2' 'chr12_52881261_AA_INDEL=0'\n",
      " 'rs1468280=0' 'chr16_86982640_A_G=1' 'rs805288=2' 'rs2103389=0'\n",
      " 'rs11708854=1' 'rs4808806=1' 'rs11598352=2' 'chr20_52304681_C_T=2'\n",
      " 'chr20_41327067_C_T=2' 'newrs114164425=2' 'c10_pos123358091=2'\n",
      " 'exm414370=2' 'chr19_44426265_A_G=2' 'rs899080=1' 'chr4_96333037_G_T=1'\n",
      " 'chr10_123345911_A_G=2' 'rs2243523=1' 'chr7_148664988_A_T=1'\n",
      " 'chr4_16241116_A_G=2' 'rs6988647=0' 'rs12706565=2' 'rs74993558=2'\n",
      " 'rs12203668=2' 'chr5_56010465_A_C=2' 'rs1060604=0' 'chr6_130373188_A_G=1'\n",
      " 'rs1801272=1' 'chr14_37121447_A_G=0' 'rs8126454=2' 'chr16_52638962_A_G=0'\n",
      " 'rs7708506=1' 'rs11365758=1' 'rs2694027=2' 'chr3_27090490_A_T=0'\n",
      " 'chr9_106912151_C_T=2' 'corect_rs181578054=2' 'chr3_27398358_G_T=2'\n",
      " 'rs1527359=2' 'rs398151=2' 'c3_pos27207057=1' 'chr6_152028479_G_T=1'\n",
      " 'rs35440286=2' 'chr13_51131109_A_G=1' 'chr11_69306395_A_T=2'\n",
      " 'chr8_36847115_C_T=2' 'rs7704953=1' 'c5_pos56064179=2'\n",
      " 'chr5_56141155_A_G=2' 'chr3_63794592_C_T=2' 'chr7_118831547_C_T=0'\n",
      " 'rs161658=0' 'chr5_81550043_A_G=1' 'corect_rs187434740=2'\n",
      " 'chr2_217971498_C_T=2' 'chr4_39691575_G_T=2' 'chr6_32541702_A_G=2'\n",
      " 'chr5_158343969_A_G=1' 'chr9_110899675_C_G=2' 'rs2111909=2'\n",
      " 'chr19_44283232_C_T=2' 'rs2842333=2' 'rs670170=2' 'chr5_56236900_G_T=2'\n",
      " 'rs2157908=1' 'chr5_56044635_C_T=1' 'OncoSet3094122=2'\n",
      " 'chr3_31286160_A_G=2' 'chr11_65621057_C_T=0' 'chr5_56068860_C_INDEL=1'\n",
      " 'rs74497835=2' 'rs4345357=2' 'chr1_204008939_C_T=0' 'c5_pos56273516=1'\n",
      " 'rs11642757=2' 'rs6512269=2' 'chr12_13202294_A_G=2'\n",
      " 'chr11_128384480_A_G=2' 'chr5_180405432_G_T=2' 'chr16_80672381_C_G=1'\n",
      " 'rs6447662=1' 'chr1_121197263_A_G=2' 'chr19_44425682_C_T=2'\n",
      " 'chr14_37100087_A_G=0' 'chr13_28286430_C_T=2' 'rs13437553=1'\n",
      " 'rs16823301=2' 'c12_pos28072287=2' 'rs7002826=0' 'chr4_153848128_A_G=2'\n",
      " 'rs16914297=1' 'chr8_29902956_A_T=2' 'rs7838714=0' 'rs6792693=1'\n",
      " 'c3_pos27375275=1' 'chr7_139943267_C_T=0' 'rs10160674=2'\n",
      " 'chr9_97029107_C_T=1' 'chr2_218264138_A_G=2' 'chr3_27323382_C_T=1'\n",
      " 'chr5_55990052_G_T=2' 'rs518138=1' 'rs61985820=1' 'chr8_125087960_A_G=2'\n",
      " 'rs12173570=2' 'rs10850498=1' 'chr3_27389599_G_T=2' 'chr8_29431707_G_T=0'\n",
      " 'rs3757564=2' 'rs3003150=2' 'chr18_42378282_A_G=2' 'chr6_32691173_C_T=0'\n",
      " 'chr22_40968152_C_T=2' 'chr10_80846814_C_T=2' 'chr10_123367263_A_G=2'\n",
      " 'rs2110173=2' 'chr1_189302023_G_T=2' 'rs7776340=0' 'chr3_27326451_A_G=1'\n",
      " 'rs442882=2' 'rs573308=2' 'chr18_76310520_A_C=2' 'rs11677299=2'\n",
      " 'chr7_10557265_C_T=1' 'chr17_53123573_C_G=2' 'c3_pos27295019=1'\n",
      " 'rs9952872=2' 'chr2_218309899_G_T=2' 'chr4_175850605_G_T=2'\n",
      " 'chr21_16566523_C_T=1' 'chr10_80887957_A_G=1' 'chr5_56327623_C_G=2'\n",
      " 'chr3_27313875_G_T=1' 'rs9900816=2' 'chr10_123370354_A_C=2'\n",
      " 'chr20_25058424_G_T=2' 'chr22_40922332_A_G=2' 'chr2_217604955_A_G=2'\n",
      " 'chr19_44383083_C_G=2' 'rs7894378=0' 'rs58390196=1' 'rs6763931=2'\n",
      " 'chr11_65730945_G_T=1' 'chr3_4745230_C_T=1' 'chr6_31298575_C_T=0'\n",
      " 'chr19_54149225_A_C=1' 'rs12159200=1' 'chr11_65631881_A_G=0'\n",
      " 'rs11155996=2' 'chr3_27345521_C_T=1' 'chr2_171708059_C_T=0'\n",
      " 'rs17612814=2' 'rs17178756=2' 'rs12646105=0' 'rs3217986=2'\n",
      " 'chr15_91531995_C_T=2' 'rs2102397=1' 'chr2_217969552_A_G=2'\n",
      " 'c11_pos68992605=1' 'rs1182154=2' 'rs4742901=1' 'rs10252992=2'\n",
      " 'chr5_56061730_C_T=1' 'chr12_96021033_C_T=0' 'chr5_158381663_C_T=1'\n",
      " 'rs62235635=2' 'rs41858=2' 'chr3_138459216_A_G=2' 'chr5_56269512_A_G=2'\n",
      " 'rs10283372=2' 'chr22_40883599_C_T=2' 'rs1909670=2' 'chr5_56217529_C_T=2'\n",
      " 'chr19_44294849_A_G=2' 'rs58737254=2' 'chr3_27397530_A_G=2'\n",
      " 'rs11012750=2' 'chr22_40829953_A_T=2' 'chr8_76416112_C_T=2'\n",
      " 'chr17_53211110_C_T=2' 'rs916962=2' 'chr4_95508865_C_G=2' 'rs11573041=2'\n",
      " 'chr17_53055246_A_T=2' 'chr22_40989374_C_T=2' 'rs1268974=2'\n",
      " 'chr13_27131826_G_T=1' 'rs436238=2' 'rs10464695=2' 'chr17_53234912_A_T=2'\n",
      " 'chr5_111109059_G_T=0' 'chr5_158181962_C_T=1' 'chr2_217969435_A_G=1'\n",
      " 'rs75438091=2' 'c2_pos217603619=2' 'chr17_53137506_A_G=2' 'rs273240=2'\n",
      " 'rs10054818=2' 'chr17_53026824_AAAAG_INDEL=2' 'chr7_91500083_A_G=2'\n",
      " 'chr5_44619754_A_G=2' 'chr12_96027873_C_T=1' 'chr12_28175772_A_T=2'\n",
      " 'chr21_16572276_A_G=1' 'chr3_27267921_G_T=0' 'chr6_32555271_C_INDEL=2'\n",
      " 'rs9302881=0' 'rs10051592=2' 'chr16_53827479_A_G=0'\n",
      " 'chr19_17186940_C_G=2' 'rs13133213=2' 'chr15_40529113_A_G=1'\n",
      " 'chr17_53058807_G_T=2' 'chr10_114795256_C_G=2' 'chr5_2383612_A_G=2'\n",
      " 'chr2_217911696_A_G=2' 'chr3_27228010_A_G=1' 'rs11249431=1'\n",
      " 'chr5_56270181_G_T=2' 'chr1_41794225_A_G=2' 'chr13_31112376_A_G=2'\n",
      " 'chr16_54023584_C_T=1' 'chr16_52575279_A_T=1' 'rs10512865=2'\n",
      " 'chr5_158222996_G_T=2' 'chr5_56328670_INDEL_T=2' 'chr2_217923605_G_T=1'\n",
      " 'chr22_40777072_C_G=2' 'rs74948099=2' 'chr19_44422358_A_C=2'\n",
      " 'chr19_44286982_A_G=2' 'chr16_52600618_A_G=1' 'chr5_56105996_A_G=1'\n",
      " 'rs6599129=1' 'c5_pos56053644=1' 'chr5_56085225_C_T=1'\n",
      " 'chr19_44417295_C_T=2' 'rs9346612=2' 'chr3_27279610_C_T=1'\n",
      " 'chr9_16917672_G_T=2' 'chr22_41049402_G_T=2' 'chr3_27362786_A_C=1'\n",
      " 'chr11_32938165_A_G=1' 'chr12_28172545_A_G=2' 'rs72739755=2'\n",
      " 'rs12380632=2' 'chr19_23254894_A_G=2' 'chr13_113796587_A_G=2'\n",
      " 'chr7_91707921_C_T=2' 'rs2912779=2' 'chr5_656863_INDEL_TA=2'\n",
      " 'chr2_217978195_C_G=2' 'rs9371237=2' 'kgp21013528=2' 'chr8_5704180_C_T=2'\n",
      " 'rs4853841=2' 'chr2_218262547_A_G=2' 'rs16902126=0'\n",
      " 'chr10_123432188_A_G=2' 'chr2_202127947_A_C=2' 'rs7194455=1'\n",
      " 'exm-rs6707846=2' 'rs1315984=1' 'chr9_106715989_C_T=2'\n",
      " 'c3_pos157413713=2' 'chr5_158190588_G_INDEL=2' 'rs11717314=1'\n",
      " 'chr5_56218029_C_T=1' 'chr1_11857951_C_T=1' 'rs8010088=2'\n",
      " 'chr6_43185354_C_T=2' 'chr10_123363588_A_G=2' 'chr10_123405138_C_G=2'\n",
      " 'chr6_41209997_A_C=1' 'chr9_111034825_A_C=2' 'rs382824=2'\n",
      " 'chr3_27298168_A_G=1' 'chr19_44367338_A_G=2' 'rs28364422=2' 'rs1980850=1'\n",
      " 'chr13_112147612_C_T=1' 'chrX_146095648_A_G=2' 'rs35378451=1'\n",
      " 'rs688201=2' 'chr22_40921680_G_T=2' 'rs78205285=2' 'rs71423318=1'\n",
      " 'chr2_217892714_C_T=1' 'chr22_40984571_C_T=2' 'chr5_56186439_A_G=2'\n",
      " 'chr2_218290781_C_T=2' 'rs10060878=2' 'rs12380317=2' 'rs4419600=2'\n",
      " 'chr6_32620228_A_G=2' 'rs2897261=2' 'rs4074785=2' 'rs2842346=2'\n",
      " 'rs9813107=2' 'chr18_42406078_A_G=2' 'kgp9739373=2' 'rs9560439=2'\n",
      " 'rs6420417=1' 'chr22_40965443_C_T=2' 'rs5920253=0' 'chr15_74599333_A_C=1'\n",
      " 'chr22_41027870_C_T=2' 'chr3_27348535_C_T=1' 'rs17136641=2'\n",
      " 'rs12557711=0' 'chr2_34486645_C_T=2' 'rs965001=0' 'chr6_32488023_A_T=0'\n",
      " 'chr3_141081498_A_INDEL=2' 'rs10979242=2' 'chr4_175829805_C_T=2'\n",
      " 'rs9693995=2' 'rs1566307=2' 'rs1290997=2' 'chr22_41014472_C_T=2'\n",
      " 'rs12528539=2' 'chr2_143371486_A_T=2' 'rs9692890=0'\n",
      " 'chr10_80810849_A_C=2' 'chr2_217918571_C_T=2' 'chr3_47333129_A_G=2'\n",
      " 'chr20_48942648_C_T=2' 'chr14_104819550_C_T=2' 'rs2073242=2'\n",
      " 'chr2_217893943_A_G=1' 'rs2350804=0' 'chr2_217901803_C_T=1'\n",
      " 'chr22_40779197_C_T=2' 'rs9271611=0' 'chr22_40881402_C_T=2'\n",
      " 'rs11781932=1' 'rs9468919=2' 'rs11836367=2' 'chr22_41034185_A_G=2'\n",
      " 'rs75465291=2' 'chr11_65574535_A_G=2' 'chr6_32470283_A_C=0'\n",
      " 'chr21_16516282_C_T=1' 'Chr6:31496778:C:G=1' 'rs4752586=2'\n",
      " 'c2_pos217586404=2' 'chr10_123440279_C_T=1' 'rs71905325=2' 'rs77180105=2'\n",
      " 'chr19_22060007_A_G=2' 'chr10_123357561_C_T=2' 'chr5_44872353_A_T=2'\n",
      " 'chr3_27297816_C_G=2' 'chr22_41031027_C_T=2' 'chr12_8786982_C_T=2'\n",
      " 'rs4571480=2' 'chr6_31161571_C_G=0' 'chr16_52632730_C_G=0'\n",
      " 'chr5_1882940_A_C=2' 'chr10_123419652_A_G=2' 'chr5_56067434_A_G=2'\n",
      " 'chr5_158178282_A_C=1' 'rs12187196=2' 'chr14_37098741_C_G=0'\n",
      " 'chr3_127939034_A_T=1' 'chr19_44422982_A_G=2' 'chr11_65624025_C_T=0'\n",
      " 'rs7032411=2' 'chr16_52558673_G_T=2' 'rs7697216=2' 'chr11_65638719_A_G=0'\n",
      " 'chr3_27096656_C_T=1' 'c5_pos56287510=2' 'chr10_123462700_C_T=2'\n",
      " 'chr16_52579986_A_G=1' 'chr16_52558729_C_T=0' 'chr8_36772568_A_G=2'\n",
      " 'chr3_27313269_A_G=1' 'rs66970683=2' 'rs1274644=1' 'rs2420946=2'\n",
      " 'chr16_53830491_C_T=0' 'chr17_56226845_A_T=1' 'chr12_49720822_A_G=2'\n",
      " 'rs76452753=2' 'rs9866934=1' 'chr16_52626551_A_G=0' 'rs4921537=2'\n",
      " 'chr19_9322661_C_T=2' 'rs75012718=2' 'chr4_88507794_A_G=2'\n",
      " 'chr16_52517332_C_T=2' 'rs2745599=1' 'rs75612337=2'\n",
      " 'chr11_65630101_C_G=0' 'chr8_109985007_C_T=2' 'chr22_40871251_C_T=2'\n",
      " 'rs510082=2' 'rs72843938=2' 'chr3_27257026_A_G=2' 'c5_pos56068850=1'\n",
      " 'chr3_64001925_C_T=2' 'chr3_27547083_C_T=2' 'rs12652026=2' 'rs8111824=2'\n",
      " 'rs11155803=2' 'chr19_44423195_A_G=2' 'chr10_80886835_C_T=1'\n",
      " 'chr3_27120434_A_T=2' 'chr12_28107397_A_C=1' 'rs2879278=1' 'rs79200365=2'\n",
      " 'rs3734805=2' 'rs11067419=1' 'chr3_27155718_A_C=1' 'chr8_29521453_A_C=1'\n",
      " 'chr12_28145950_C_T=2' 'chr17_46041404_A_T=2' 'rs130065=2'\n",
      " 'chr5_56047342_A_C=2' 'chr2_55325001_A_G=2' 'chr11_65603252_A_G=0'\n",
      " 'chr3_60254987_C_T=2' 'rs1926098=1' 'chr2_217937567_C_T=2'\n",
      " 'chr12_28177181_G_T=2' 'chr22_37686987_G_T=2' 'chr17_53127924_C_T=2'\n",
      " 'chr16_53805207_A_C=0' 'rs79325201=2' 'chr19_44378877_G_T=2'\n",
      " 'chr22_40834346_C_T=2' 'chr5_56126840_A_G=1' 'rs6076951=2' 'rs760700=2'\n",
      " 'chr22_40784278_C_T=2' 'rs9910757=2' 'chr5_56262639_C_T=2'\n",
      " 'chr19_44423570_C_T=2' 'chr8_76440918_A_C=2' 'rs7959675=1'\n",
      " 'chr3_27374101_A_C=2' 'chr18_42415090_A_G=2' 'chr5_56188371_C_G=1'\n",
      " 'rs4492119=2' 'chr7_157857958_A_G=2' 'rs17368005=2' 'rs17271951=1'\n",
      " 'chr6_32551957_G_T=1' 'chr16_52579906_A_C=0' 'chr1_2501064_A_G=2'\n",
      " 'rs164765=1' 'rs58568222=1' 'rs673745=2' 'chr5_44341451_C_INDEL=2'\n",
      " 'rs75789737=2' 'chr21_16556728_C_T=1' 'rs4717142=2'\n",
      " 'chr17_52985982_A_G=2' 'chr3_27142918_A_G=1' 'rs62369766=1' 'rs7835046=2'\n",
      " 'chr17_4961271_G_T=2' 'rs9462199=2' 'rs1590016=2' 'chr5_81400264_A_C=1'\n",
      " 'chr2_217923816_C_G=2' 'chr1_109278419_G_INDEL=0' 'chr5_56056471_A_G=2'\n",
      " 'rs969679=2' 'chr5_56045110_C_T=1' 'chr3_149390610_A_T=2'\n",
      " 'chr22_28552698_C_T=2' 'rs4591754=2' 'rs9787392=2' 'chr5_158171808_A_G=1'\n",
      " 'rs186403=2' 'chr10_123440486_C_G=1' 'chr5_56125696_A_T=1'\n",
      " 'chr8_29496762_G_T=1' 'chr3_4751160_G_T=1' 'rs2372928=1'\n",
      " 'chr3_4762734_A_T=1' 'chr10_114758779_G_T=2' 'rs10771391=1'\n",
      " 'chr22_33304362_C_T=0' 'chr4_9475301_A_C=1' 'chr10_123355927_C_T=2'\n",
      " 'corect_rs139337779=2' 'c1_pos121048822=2' 'chr8_17426274_A_G=2'\n",
      " 'chr1_121193620_A_T=1' 'rs1354892=2' 'chr10_67002675_A_C=2'\n",
      " 'chr2_217897341_A_G=0' 'rs8082622=2' 'chr2_217937995_A_G=2'\n",
      " 'chr2_217861809_C_T=2' 'rs34409637=1' 'chr9_111016395_C_T=2'\n",
      " 'chr2_217899252_C_G=0' 'rs922855=2' 'chr10_123367946_A_G=2' 'rs2822597=1'\n",
      " 'chr6_130374102_A_C=1' 'rs1061310=2' 'chr11_65626701_C_T=1' 'rs3024270=1'\n",
      " 'rs1314915=1' 'chr22_40800518_A_G=2' 'chr16_52550307_A_G=1'\n",
      " 'chr5_56139246_C_T=1' 'chr21_16535534_A_G=1' 'chr5_2391453_A_G=2'\n",
      " 'rs2052418=1' 'rs12137733=2' 'rs9930506=0' 'chr3_27253264_A_G=1'\n",
      " 'chr16_52558907_A_C=0' 'rs7975535=1' 'rs757369=1' 'c3_pos27383815=2'\n",
      " 'rs80352121=2' 'chr5_158175140_C_T=1' 'chr6_21905726_A_G=0'\n",
      " 'rs74511984=2' 'rs2472300=1' 'chr14_37098991_A_G=0' 'rs7253990=1'\n",
      " 'rs67515900=1' 'rs73022296=1' 'rs77278383=2' 'chr2_217860468_C_G=2'\n",
      " 'rs11264352=1' 'chr4_25649387_C_G=2' 'chr16_52582816_C_G=2'\n",
      " 'chr17_53034628_A_T=2' 'c5_pos56265410=1' 'rs11701571=2'\n",
      " 'chr10_64288389_C_T=1' 'chr16_53816838_A_G=0' 'chr8_74252919_C_G=2'\n",
      " 'rs78591923=2' 'chr5_56310010_C_T=2' 'chr17_43705518_A_G=2'\n",
      " 'chr3_27135957_A_G=2' 'chr12_28176953_C_T=2' 'chr17_79422252_A_G=2'\n",
      " 'chr16_53816752_A_G=0' 'rs681887=1' 'chr6_32575843_A_C=2'\n",
      " 'chr12_28177658_C_T=2' 'chr14_37110645_C_G=0' 'chr5_45796684_CA_INDEL=1'\n",
      " 'rs134755=1' 'chr3_27250210_C_T=1' 'chr18_76753768_G_INDEL=2'\n",
      " 'chr3_27233498_A_C=1' 'chr2_217856966_A_G=2' 'rs527071=1'\n",
      " 'chr22_41019767_C_G=2' 'chr3_4731533_A_G=1'\n",
      " 'chr8_129437046_ACTCCTCCTCCTCCTCCTCC_INDEL=2' 'rs17081533=2'\n",
      " 'chr7_128561918_A_G=2' 'chr3_141118028_A_G=2' 'chr17_53271918_A_G=2'\n",
      " 'chr2_217921121_C_G=2' 'chr12_26052872_G_T=2' 'c2_pos217648168=2'\n",
      " 'c10_pos123379827=2' 'chr5_55995869_C_T=2' 'chr5_55878492_C_T=1'\n",
      " 'chr16_53810546_A_C=0' 'rs9948=0' 'rs34800900=2' 'chr2_218292141_C_T=2'\n",
      " 'chr21_16547282_C_T=1' 'rs2273221=0' 'rs17756000=1' 'rs73165091=2'\n",
      " 'rs4627114=1' 'chr22_40779964_A_G=2' 'chr19_460883_C_T=2' 'rs55662420=1'\n",
      " 'chr16_53799507_A_G=0' 'rs2871960=2' 'rs4454830=2' 'chr7_21126458_G_T=2'\n",
      " 'chr21_16575042_A_T=1' 'rs3769823=2' 'chr22_40842405_C_T=2'\n",
      " 'chr16_52612044_C_T=1' 'rs17081488=2' 'chr12_28171747_C_G=2'\n",
      " 'chr5_81593654_C_T=2' 'chr10_64278682_A_G=1' 'chr5_158317804_C_G=1'\n",
      " 'chr19_44398940_A_G=2' 'chr22_41029066_C_INDEL=2' 'chr16_53820066_C_T=0'\n",
      " 'rs9637783=2' 'chr3_4728104_A_G=1' 'chr22_41027354_C_T=2' 'rs6875409=1'\n",
      " 'rs7006882=2' 'chr16_53831354_C_T=0' 'chr3_27143527_A_G=2' 'rs332379=2'\n",
      " 'chr3_4749545_C_T=1' 'rs11588217=2' 'rs3104751=1' 'chr5_158253542_C_T=1'\n",
      " 'chr2_217866038_A_G=1' 'rs45631632=2' 'chr14_37124770_C_T=0' 'rs651829=2'\n",
      " 'chr1_222575684_C_T=2' 'rs1044516=1' 'corect_rs117872877=2'\n",
      " 'chr5_44645998_C_T=2' 'chr21_16536756_C_T=1' 'chr1_121236110_C_T=2'\n",
      " 'rs1371024=2' 'rs2281634=2' 'chr21_16570484_A_G=1' 'chr6_32543079_A_G=2'\n",
      " 'chr2_73726925_A_G=2' 'chr14_37018022_G_T=1' 'chr22_40883088_C_T=2'\n",
      " 'rs10956361=2' 'chr9_18730789_G_T=2' 'rs674991=2' 'chr16_52583143_C_T=1'\n",
      " 'chr3_27270459_C_G=2' 'rs1472357=2' 'chr11_75324599_A_G=2' 'rs74458345=2'\n",
      " 'chr2_217968969_G_T=2' 'chr8_76415046_A_T=2' 'chr21_16544977_A_G=1'\n",
      " 'c3_pos27624952=2' 'rs1801131=1' 'chr5_56206675_A_C=1'\n",
      " 'chr6_32559758_A_C=0' 'chr19_44412583_G_T=2' 'chr3_4756338_G_T=1'\n",
      " 'chr5_2392267_A_G=2' 'chr22_40849495_C_T=2' 'rs6776229=2'\n",
      " 'chr16_53821690_A_G=0' 'c2_pos217625467=0' 'chr4_175838941_A_G=2'\n",
      " 'rs62436931=2' 'chr8_76412152_A_T=2' 'rs9397069=2' 'chr17_53060033_C_T=2'\n",
      " 'chr18_24064359_A_G=2' 'chr11_1078456_C_T=2' 'chr2_217925123_C_G=1'\n",
      " 'rs12451886=2' 'rs35986494=2' 'chrX_51249758_ATGA_INDEL=1'\n",
      " 'chr22_40855131_A_G=2' 'rs80089016=2' 'rs366793=2' 'rs28379235=0'\n",
      " 'rs35067073=1' 'c3_pos27314141=1' 'chr9_110894608_C_G=2'\n",
      " 'chr8_36820557_A_C=2' 'chr22_41026018_G_T=2' 'chr8_36848038_C_T=2'\n",
      " 'chr5_158259699_G_T=2' 'rs35134728=1' 'chr22_41000964_C_T=2'\n",
      " 'chr7_142804165_A_G=0' 'chr5_56122344_A_G=2' 'chr5_56213672_A_G=1'\n",
      " 'chr3_27487705_C_T=1' 'rs8031937=1' 'rs11200012=2' 'rs8055197=2'\n",
      " 'chr5_56172646_C_T=1' 'chr3_131987377_C_T=1' 'chr11_65631973_A_G=0'\n",
      " 'rs77514138=2' 'chr16_88908306_A_G=1' 'chr22_40920723_INDEL_TCCA=2'\n",
      " 'rs11200029=2' 'rs12636719=2' 'chr9_111073103_C_T=1'\n",
      " 'chr5_56043426_C_T=1' 'rs1109216=1' 'rs1990941=2' 'rs12540711=1'\n",
      " 'c3_pos27096946=2' 'rs7152548=2' 'rs4415085=2' 'rs3760982=2'\n",
      " 'rs13169329=1' 'chr5_56038148_A_C=1' 'chr9_110980594_A_G=2' 'rs252912=1'\n",
      " 'chr22_28999668_A_C=2' 'chr5_56219698_C_T=2' 'rs41272673=1'\n",
      " 'chr3_27292683_A_C=2' 'rs58144701=2' 'rs3135761=1' 'rs6001931=2'\n",
      " 'rs2284060=1' 'chr5_56098370_A_G=1' 'chr18_42382733_C_T=2'\n",
      " 'chr3_27229286_C_T=2' 'rs10878403=2' 'chr14_37122790_A_G=0'\n",
      " 'rs10852521=2' 'rs655655=2' 'rs2015489=2' 'rs7635995=1' 'rs73122135=2'\n",
      " 'chr2_217753980_C_T=2' 'rs3135781=2' 'chr16_52651714_A_G=1' 'rs1274650=1']\n"
     ]
    }
   ],
   "source": [
    "inter=exp_tot[0]\n",
    "for i in range(len(exp_tot)-1):\n",
    "    inter=np.intersect1d(inter,exp_tot[i+1])\n",
    "print(inter)"
   ]
  },
  {
   "cell_type": "code",
   "execution_count": null,
   "metadata": {},
   "outputs": [],
   "source": []
  },
  {
   "cell_type": "code",
   "execution_count": 57,
   "metadata": {},
   "outputs": [
    {
     "ename": "IndexError",
     "evalue": "list index out of range",
     "output_type": "error",
     "traceback": [
      "\u001b[0;31m---------------------------------------------------------------------------\u001b[0m",
      "\u001b[0;31mIndexError\u001b[0m                                Traceback (most recent call last)",
      "\u001b[0;32m<ipython-input-57-92edd28fffed>\u001b[0m in \u001b[0;36m<module>\u001b[0;34m\u001b[0m\n\u001b[0;32m----> 1\u001b[0;31m \u001b[0mnp\u001b[0m\u001b[0;34m.\u001b[0m\u001b[0marray\u001b[0m\u001b[0;34m(\u001b[0m\u001b[0mpick\u001b[0m\u001b[0;34m.\u001b[0m\u001b[0msp_explanations\u001b[0m\u001b[0;34m[\u001b[0m\u001b[0;36m1\u001b[0m\u001b[0;34m]\u001b[0m\u001b[0;34m.\u001b[0m\u001b[0mas_list\u001b[0m\u001b[0;34m(\u001b[0m\u001b[0;34m)\u001b[0m\u001b[0;34m)\u001b[0m\u001b[0;34m[\u001b[0m\u001b[0;34m:\u001b[0m\u001b[0;34m,\u001b[0m\u001b[0;36m0\u001b[0m\u001b[0;34m]\u001b[0m\u001b[0;34m\u001b[0m\u001b[0m\n\u001b[0m",
      "\u001b[0;31mIndexError\u001b[0m: list index out of range"
     ]
    }
   ],
   "source": [
    "np.array(pick.sp_explanations[1].as_list())[:,0]"
   ]
  },
  {
   "cell_type": "code",
   "execution_count": null,
   "metadata": {},
   "outputs": [],
   "source": []
  },
  {
   "cell_type": "code",
   "execution_count": 58,
   "metadata": {},
   "outputs": [
    {
     "data": {
      "text/plain": [
       "{'chr7_154165614_C_T=2': 0.026311572280578774,\n",
       " 'rs1150850=2': 0.018625021216712844,\n",
       " 'chr4_39691575_G_T=1': 0.011826929028525106,\n",
       " 'chr12_28162383_G_INDEL=0': 0.008706661025563318,\n",
       " 'rs61850917=2': -0.007588678441431335,\n",
       " 'chr10_123363588_A_G=2': 0.007456558068779451,\n",
       " 'exm1380346=2': -0.00713086061565415,\n",
       " 'chr8_89514784_A_G=2': 0.006963273241806421,\n",
       " 'chr4_126466491_A_G=2': -0.0069301789012393665,\n",
       " 'chr5_167595594_C_T=1': 0.006891443653425541,\n",
       " 'chr17_43705518_A_G=2': -0.00680630433475619,\n",
       " 'newrs114164425=2': 0.006684120438312292,\n",
       " 'rs62235635=2': 0.006673053972471142,\n",
       " 'chrX_121623926_A_G=2': 0.006441836391766667,\n",
       " 'chr11_15340237_C_T=2': -0.006331749418548232,\n",
       " 'chr16_87045177_C_T=0': -0.006257689992770372,\n",
       " 'chr1_191899139_C_G=2': 0.006193181554628644,\n",
       " 'chr12_49982617_C_G=2': 0.005926982242640091,\n",
       " 'chr7_51238333_A_G=2': 0.005915879359589499,\n",
       " 'rs11573041=2': 0.005862048366800222,\n",
       " 'rs12940064=2': -0.005806654647559895,\n",
       " 'kgp17470638=2': 0.005421645582672162,\n",
       " 'rs79459889=2': -0.0052952125391749335,\n",
       " 'rs17103452=2': -0.005204771626548844,\n",
       " 'rs2388742=1': 0.005188561795985213,\n",
       " 'chr12_28152993_A_G=0': -0.005152125491871474,\n",
       " 'chr20_1335187_C_T=2': 0.0050901312355721715,\n",
       " 'rs74458345=2': 0.005069973010069653,\n",
       " 'rs368243=0': 0.005064987534335615,\n",
       " 'rs4722557=0': 0.005013880857650127,\n",
       " 'rs62003561=2': 0.004904456792363549,\n",
       " 'rs7301270=2': -0.004865280870952575,\n",
       " 'chr12_19781229_C_T=2': -0.004844778110545008,\n",
       " 'rs602946=2': -0.0048369027636386884,\n",
       " 'chr11_69292337_C_T=2': -0.004813914478459809,\n",
       " 'rs12542492=2': 0.004807480508880633,\n",
       " 'chr2_217892714_C_T=0': 0.004762149481377563,\n",
       " 'rs17614209=2': 0.004749076257499677,\n",
       " 'chr2_8196361_A_C=2': 0.004650520559463886,\n",
       " 'rs1863390=0': 0.004637461600636973,\n",
       " 'rs7775178=1': 0.004634052128998013,\n",
       " 'chr2_28150862_A_C=0': -0.004586380144134167,\n",
       " 'chr8_142123272_C_T=2': 0.004579719521548612,\n",
       " 'chr4_89246214_G_T=0': 0.004558527303838373,\n",
       " 'rs11869626=0': -0.004493027651596309,\n",
       " 'chr13_87789734_C_T=2': 0.00443684528667326,\n",
       " 'c12_pos28072441=0': -0.0044149256175801625,\n",
       " 'rs3218820=2': 0.004390118947649074,\n",
       " 'chr1_2501064_A_G=2': -0.004361592198113199,\n",
       " 'rs2731938=0': 0.0043216186270478825,\n",
       " 'chr7_14143370_G_T=2': -0.00415123101313075,\n",
       " 'c3_pos157413713=2': 0.004133425238146917,\n",
       " 'chr18_24059940_AC_INDEL=2': 0.004118912129467376,\n",
       " 'chr12_96041527_C_T=2': 0.004109250839020689,\n",
       " 'chr1_121171942_A_G=0': -0.0041035653415916525,\n",
       " 'chrX_152710845_A_T=2': 0.004025101385936826,\n",
       " 'rs10752892=2': 0.004015888024022352,\n",
       " 'chr22_46273341_C_T=2': 0.0039459378730588544,\n",
       " 'rs273240=2': 0.003924621851402515,\n",
       " 'rs2749158=2': 0.003909354655258752,\n",
       " 'chr6_1606031_G_T=2': 0.003908857666197188,\n",
       " 'chr6_4812235_C_T=2': 0.0038966732797538904,\n",
       " 'chr10_52434758_A_G=2': -0.0038676021403891156,\n",
       " 'rs11489600=0': 0.0038665192200572746,\n",
       " 'rs1464758=2': -0.00385581495738223,\n",
       " 'rs11977670=0': 0.003807416710026689,\n",
       " 'chr7_5819799_C_G=2': -0.0037519032928555844,\n",
       " 'corect_rs186216026=2': 0.0037346016041354697,\n",
       " 'rs1274650=1': 0.003729391393027311,\n",
       " 'chr6_32479493_A_G=2': -0.003713137539230159,\n",
       " 'chr5_111413372_G_T=2': 0.0036853215540641224,\n",
       " 'chr5_56308632_A_G=2': 0.0036485110919066755,\n",
       " 'rs4100227=1': 0.0036352680450931294,\n",
       " 'chr14_78791625_C_T=2': -0.0036263786701262136,\n",
       " 'rs3814354=2': 0.003618323695178439,\n",
       " 'rs10805686=0': 0.003589744520977974,\n",
       " 'chr10_123352403_C_T=2': 0.0035821887034672576,\n",
       " 'rs1933909=2': -0.0035807045503357536,\n",
       " 'rs1771351=2': 0.0035734574302293577,\n",
       " 'chr19_56005289_C_T=2': -0.003564892804168954,\n",
       " 'chr5_656863_INDEL_TA=2': -0.003484931062804082,\n",
       " 'chr12_49720822_A_G=2': 0.0034810142879334403,\n",
       " 'rs17035311=2': 0.0034717644691942325,\n",
       " 'rs2343912=2': -0.0034563881939073,\n",
       " 'chr22_40921816_A_G=2': 0.003426681324046145,\n",
       " 'chr5_26657987_A_G=2': 0.0034117019786287046,\n",
       " 'chr3_63794592_C_T=2': 0.0034036602037361284,\n",
       " 'rs1869599=0': -0.003400138696513076,\n",
       " 'chr10_123367263_A_G=2': 0.0033858797470980775,\n",
       " 'rs17368005=2': 0.003354045311114711,\n",
       " 'rs3920005=2': 0.003342960558547562,\n",
       " 'rs4742901=2': 0.003338442267218626,\n",
       " 'rs2735846=2': 0.003330422488647024,\n",
       " 'chr6_41209997_A_C=0': -0.0033195944644287116,\n",
       " 'rs1250011=2': 0.0033175896202755684,\n",
       " 'chr3_27361880_C_T=2': 0.00329617081324559,\n",
       " 'rs4724080=2': 0.003289071818554616,\n",
       " 'rs1560835=2': 0.00328740226996745,\n",
       " 'rs10054818=2': -0.003281285277360252,\n",
       " 'rs7720787=0': 0.0032758309569394235,\n",
       " 'chr16_89246785_A_C=2': 0.00327328086056992,\n",
       " 'rs11119860=2': -0.0032721397547567756,\n",
       " 'rs12133543=0': 0.0032595355393674674,\n",
       " 'chr18_76310520_A_C=2': -0.003246710275098664,\n",
       " 'rs11248073=2': -0.0032311672975070035,\n",
       " 'rs36081634=2': 0.0032305548601661103,\n",
       " 'chr19_44001379_C_T=2': 0.0032192433247809483,\n",
       " 'rs2017964=2': -0.00320575934181183,\n",
       " 'chr5_81600339_A_G=2': 0.0031909303064803405,\n",
       " 'rs10808353=2': 0.003187911803785448,\n",
       " 'chr5_56245803_C_G=1': 0.0031874876745995226,\n",
       " 'rs80331021=2': -0.0031787232151842077,\n",
       " 'rs1061657=0': 0.003170310392153069,\n",
       " 'rs6447662=2': 0.003149140117874431,\n",
       " 'chr5_56324570_C_G=2': -0.00312996022017738,\n",
       " 'chr10_22736258_G_INDEL=2': 0.0031283914136387187,\n",
       " 'rs9397441=2': 0.003115574762497474,\n",
       " 'chr5_157160713_A_G=2': -0.0031132478954763185,\n",
       " 'rs4846235=1': -0.0031031104340615043,\n",
       " 'chr1_211854329_A_G=2': 0.003055825762523049,\n",
       " 'rs10097200=1': 0.003055285823711832,\n",
       " 'chr3_4729632_C_T=0': -0.0030498909552611714,\n",
       " 'chr12_28530125_C_G=2': 0.0030446703159169313,\n",
       " 'chr5_56006008_A_C=2': -0.0030404140246461315,\n",
       " 'chr3_56034298_C_T=2': 0.003035341976129965,\n",
       " 'chr3_27257943_A_G=2': 0.0030305759947905366,\n",
       " 'rs35986494=2': 0.00302435818769952,\n",
       " 'chr18_24263142_GC_INDEL=2': -0.003014205919778961,\n",
       " 'rs13004652=1': 0.003007572263133907,\n",
       " 'rs4600441=0': -0.0029972436717777854,\n",
       " 'chr22_40829953_A_T=2': 0.002988825182825092,\n",
       " 'rs2322053=2': 0.0029866969244448003,\n",
       " 'chr11_32938165_A_G=2': 0.0029753429080441253,\n",
       " 'chr7_30322482_A_T=2': -0.0029677799447887896,\n",
       " 'chr5_158264020_A_G=1': 0.0029610377748416844,\n",
       " 'rs17756000=2': -0.002940812130781931,\n",
       " 'rs12665607=2': -0.002925358063419048,\n",
       " 'rs1590016=2': -0.002910641879111916,\n",
       " 'chr22_40870488_C_T=2': -0.0029058063896654227,\n",
       " 'chr12_28163500_C_T=2': -0.002895599957643045,\n",
       " 'rs3217986=2': -0.0028948405863040484,\n",
       " 'rs579740=2': -0.002889485477908981,\n",
       " 'rs2232818=2': -0.0028798849690772235,\n",
       " 'rs2806532=0': 0.0028589713712923646,\n",
       " 'chr8_29529168_A_C=2': -0.002856154812383849,\n",
       " 'rs801752=2': -0.0028501926327378422,\n",
       " 'chr22_40895706_A_T=2': 0.0028374743197195802,\n",
       " 'rs12655019=2': -0.0028356308269493666,\n",
       " 'rs725453=1': 0.0028344586406529484,\n",
       " 'chr19_9322661_C_T=2': -0.0028340341097138426,\n",
       " 'rs965001=0': -0.002833563254059247,\n",
       " 'chr17_53053379_G_T=2': 0.0028330845558305366,\n",
       " 'rs2903992=0': -0.002823962788930269,\n",
       " 'rs13234407=0': 0.002811473144090774,\n",
       " 'rs72758096=2': 0.002804207925011098,\n",
       " 'chr4_16013048_C_T=1': 0.002793160768067773,\n",
       " 'rs55662420=2': -0.002785976527292956,\n",
       " 'chr11_2597984_A_G=2': -0.002778626045355127,\n",
       " 'chr5_56248636_C_G=2': 0.0027754574855579223,\n",
       " 'rs77514138=2': -0.002773247834159955,\n",
       " 'chr15_47382817_C_T=2': -0.0027730783762384046,\n",
       " 'rs17031739=2': -0.002756519342814396,\n",
       " 'rs363500=2': 0.002752953213112288,\n",
       " 'chr19_23254894_A_G=2': -0.002743450768723677,\n",
       " 'rs9462199=2': 0.002741933492372136,\n",
       " 'chr5_56025682_A_G=2': -0.002734814307344849,\n",
       " 'c10_pos123357237=2': -0.002731982766703653,\n",
       " 'chr10_123405138_C_G=2': 0.0027284712872169647,\n",
       " 'rs11677299=2': 0.002717856891488715,\n",
       " 'chr19_44296006_A_G=2': 0.002710291138850005,\n",
       " 'chr4_143980541_C_T=2': -0.0027076903824821783,\n",
       " 'chr19_44397225_C_G=2': -0.002700361077796215,\n",
       " 'chr3_47333129_A_G=2': -0.002695849982006083,\n",
       " 'kgp17135476=2': 0.002682337852169136,\n",
       " 'chr1_41486600_C_G=2': 0.0026766297256579897,\n",
       " 'rs7544119=0': 0.002676244593328143,\n",
       " 'chr6_32470283_A_C=0': -0.002666841822572781,\n",
       " 'chr13_32813518_C_T=2': -0.0026663341029593947,\n",
       " 'rs36225442=2': 0.002661540830825221,\n",
       " 'rs973497=0': 0.0026534930865696024,\n",
       " 'rs34997141=2': 0.002633355257735019,\n",
       " 'rs4345357=2': -0.0026323347986379995,\n",
       " 'rs12469813=2': -0.0026263523576594613,\n",
       " 'chr17_53222920_C_T=2': 0.002626055789261828,\n",
       " 'rs12657615=2': -0.0026210123310163513,\n",
       " 'rs11624097=2': 0.002603064524758032,\n",
       " 'chr22_40854814_A_G=2': -0.002600525890178264,\n",
       " 'chr1_1914124_C_T=2': -0.0025956243545745433,\n",
       " 'chr8_31125843_C_T=2': 0.0025939743389588646,\n",
       " 'rs45631580=2': -0.002593077323854635,\n",
       " 'rs3215401=1': -0.002589078675256921,\n",
       " 'rs16901964=1': 0.0025849477259103364,\n",
       " 'rs7711697=0': 0.0025717067635492538,\n",
       " 'chr22_40968152_C_T=2': 0.0025687874160739404,\n",
       " 'rs7728598=2': -0.0025643956898468065,\n",
       " 'chr17_53137974_A_G=2': 0.0025611588122556907,\n",
       " 'rs12456284=2': 0.0025605590570187274,\n",
       " 'chr13_97858238_A_G=2': 0.0025579583326037153,\n",
       " 'chr5_56310641_G_T=2': -0.0025399203065792015,\n",
       " 'chr8_76373807_A_G=2': -0.002537244088839061,\n",
       " 'chr2_218245294_C_T=2': -0.0025372363599390955,\n",
       " 'chr6_32552168_A_G=2': -0.0025303164057249774,\n",
       " 'chr22_42854569_C_G=2': -0.0025260121025717642,\n",
       " 'rs2540334=2': -0.002521618115815318,\n",
       " 'rs352678=2': -0.0025171674702920486,\n",
       " 'rs79165890=2': -0.0025045928621897457,\n",
       " 'chr4_175831761_A_C=2': -0.0024937950550059217,\n",
       " 'chr8_36819382_A_G=2': 0.002489808231773726,\n",
       " 'chr21_16533640_A_C=1': -0.002488605731428674,\n",
       " 'chr5_111114379_G_T=2': 0.0024800310984272943,\n",
       " 'chr5_158268426_C_T=2': 0.0024760000594674135,\n",
       " 'chr5_121426675_A_G=2': -0.0024751299168951847,\n",
       " 'rs16823301=2': -0.0024723489144610564,\n",
       " 'chr4_27297599_C_T=2': -0.002466983070820291,\n",
       " 'rs7025424=1': 0.0024462582623080566,\n",
       " 'chr18_76753768_G_INDEL=0': -0.002443720862797301,\n",
       " 'rs1295780=1': 0.0024423614774130094,\n",
       " 'chr8_128146308_G_T=2': -0.0024395513560824256,\n",
       " 'corect_rs137869059=0': 0.00243361377245375,\n",
       " 'chr5_56044903_C_T=2': -0.0024246624684229746,\n",
       " 'chr5_169576649_A_G=2': -0.002423478102067762,\n",
       " 'chr1_121211608_A_G=2': -0.0024211161066662245,\n",
       " 'rs6545420=1': 0.0024159073514593184,\n",
       " 'chr13_28286430_C_T=2': 0.0024132562625012377,\n",
       " 'chr13_74357374_C_T=2': 0.00241245253671453,\n",
       " 'rs2218081=0': 0.0024077289109459476,\n",
       " 'chr5_56127866_A_G=2': 0.002400524097305148,\n",
       " 'chr5_56052938_C_T=2': -0.0023970862190967252,\n",
       " 'chr17_53221368_A_G=2': 0.0023729401722447354,\n",
       " 'rs75465291=2': 0.002364200616269077,\n",
       " 'chr10_123381255_C_T=2': 0.002353101624880122,\n",
       " 'chr17_44365374_C_T=1': -0.002346365862998165,\n",
       " 'rs10886958=2': -0.0023452619936092335,\n",
       " 'rs9275851=0': 0.0023417478988128552,\n",
       " 'rs10402322=2': 0.0023411965066058075,\n",
       " 'rs13186320=2': 0.0023388994451999075,\n",
       " 'chr5_81370760_C_T=2': -0.002334483254361037,\n",
       " 'rs3814318=0': 0.0023252040096722747,\n",
       " 'rs1744949=1': 0.00231809296454897,\n",
       " 'rs10279084=2': -0.0023160334856382175,\n",
       " 'chr16_52575907_A_G=2': -0.0023084464649740792,\n",
       " 'chr17_53163478_A_T=2': 0.0023032590474336262,\n",
       " 'chr22_40984571_C_T=2': -0.002302858012681592,\n",
       " 'chr9_110303538_GT_INDEL=1': 0.002300465676415235,\n",
       " 'chr5_56163787_A_G=1': 0.0022956227512782993,\n",
       " 'rs4879262=2': 0.002289366833632999,\n",
       " 'chr16_52565641_G_T=2': -0.002284660045351644,\n",
       " 'rs72658071=2': -0.002284066396572406,\n",
       " 'rs12547541=1': -0.002281444546639875,\n",
       " 'rs1627990=0': 0.00226046010535228,\n",
       " 'chr5_81322547_A_G=2': 0.0022600282231436406,\n",
       " 'rs670170=2': -0.002259822464593243,\n",
       " 'rs78620707=2': -0.0022516849729615073,\n",
       " 'kgp4843671=2': 0.0022480121696475098,\n",
       " 'rs24023=2': -0.002245025128479985,\n",
       " 'rs7725377=2': -0.0022434369392259953,\n",
       " 'corect_rs117045048=2': -0.002240059365673723,\n",
       " 'chr5_56064107_A_G=2': 0.002235012180214678,\n",
       " 'rs12917403=1': -0.0022334720877624907,\n",
       " 'rs13016963=2': -0.0022334399264049435,\n",
       " 'rs1151523=1': 0.0022306437218050164,\n",
       " 'rs383748=2': 0.0022283352587794862,\n",
       " 'chr4_42107115_A_G=2': 0.0022202090650726737,\n",
       " 'chr10_123436524_C_T=2': 0.0022199356620384103,\n",
       " 'chr5_56103809_A_G=2': -0.002218531625812375,\n",
       " 'exm1555702=2': -0.0022181673667385844,\n",
       " 'rs45631611=2': -0.00221437208387819,\n",
       " 'chr10_64276964_A_C=1': -0.0021941768863253754,\n",
       " 'rs1268974=1': 0.0021926741139182792,\n",
       " 'rs10054419=2': 0.002190595766533653,\n",
       " 'chr1_10879725_A_G=2': 0.002185180608416598,\n",
       " 'chr12_96037389_A_T=0': -0.0021829429931694475,\n",
       " 'chr5_176734657_C_T=2': 0.0021748247911275186,\n",
       " 'chr12_28151609_A_C=0': -0.0021738859491503815,\n",
       " 'chr5_56165914_A_G=2': -0.0021644033974917492,\n",
       " 'c5_pos56279723=2': -0.00215889275768088,\n",
       " 'chr18_9111084_C_T=2': 0.0021433359977798784,\n",
       " 'chr20_62328445_ACAACCGTG_INDEL=2': -0.002139379821230094,\n",
       " 'chr5_44644495_A_G=0': 0.0021350349889771737,\n",
       " 'rs34636650=2': 0.002129733484969225,\n",
       " 'corect_rs148099022=2': 0.002122584535053396,\n",
       " 'rs13174122=1': -0.0021161673439257424,\n",
       " 'chr16_5437728_C_G=2': 0.0021084250184293927,\n",
       " 'rs2970653=0': 0.0020926063370213374,\n",
       " 'chr10_123288977_G_T=2': 0.002087385843758165,\n",
       " 'rs7870781=2': 0.0020490266279199203,\n",
       " 'chr16_52620577_C_T=2': 0.0020407751386612226,\n",
       " 'rs45631632=2': 0.0020382443734250012,\n",
       " 'rs1182154=1': 0.002037226365136436,\n",
       " 'rs2420946=1': 0.002029857211094166,\n",
       " 'chr8_76338122_C_T=1': 0.002026832127190819,\n",
       " 'chr3_27368875_C_G=2': 0.002025380284144672,\n",
       " 'chr16_52630145_C_G=2': 0.002024042888068368,\n",
       " 'chr8_36832310_A_G=2': 0.002021558956256179,\n",
       " 'rs6452953=2': 0.002020776175909738,\n",
       " 'rs727670=0': 0.0020116525606444988,\n",
       " 'c10_pos123426824=2': -0.0020093391407147677,\n",
       " 'chr14_76144828_A_G=2': 0.0020092419968898993,\n",
       " 'chr3_2336399_C_T=2': -0.002006968122168497,\n",
       " 'chr7_12687945_A_G=2': -0.0020042063430735168,\n",
       " 'rs12451886=1': 0.002003017174967327,\n",
       " 'rs72750030=2': 0.0019997027070983845,\n",
       " 'rs9790115=0': -0.0019987660851583273,\n",
       " 'chr10_52043987_C_T=2': -0.0019952002256499366,\n",
       " 'chr14_71179985_C_T=2': -0.0019924193670146527,\n",
       " 'chr12_28363760_A_C=0': -0.001975662002399481,\n",
       " 'rs75915166=2': -0.0019746024342446587,\n",
       " 'chr1_226923938_A_C=1': -0.0019729109595599524,\n",
       " 'chr14_37140781_A_G=2': -0.0019465381059253733,\n",
       " 'rs59750788=2': -0.0019312571516202116,\n",
       " 'rs9386604=0': 0.001930675255468229,\n",
       " 'rs4752586=2': -0.0019125872379388883,\n",
       " 'chr6_32482491_C_G=2': 0.0019121618576621617,\n",
       " 'rs16963205=2': -0.0019046778937716446,\n",
       " 'rs10098985=1': 0.0019046324400331242,\n",
       " 'chr5_44619754_A_G=2': 0.0019038201741186957,\n",
       " 'rs997066=1': 0.0019026076540840978,\n",
       " 'chr9_111002172_C_T=1': 0.0019007177375260232,\n",
       " 'chr16_52577504_A_G=2': 0.0018975682213996932,\n",
       " 'chr2_217969552_A_G=2': 0.0018941480227503754,\n",
       " 'chr1_97788840_A_G=2': -0.0018904667963512884,\n",
       " 'chr8_130380476_C_T=2': 0.0018901816704588418,\n",
       " 'rs55920378=0': 0.0018894946030644847,\n",
       " 'chr1_10730002_A_G=2': -0.0018848401896151906,\n",
       " 'rs6495122=2': 0.0018833665156582449,\n",
       " 'chr4_107862280_A_C=2': -0.0018786788632683198,\n",
       " 'rs12541064=0': 0.0018712734574415969,\n",
       " 'chr8_76375777_C_T=2': -0.0018667679752869132,\n",
       " 'chr5_90789470_A_G=2': 0.0018666733373050276,\n",
       " 'chr3_27054003_C_T=2': 0.0018589602995347624,\n",
       " 'chr22_40779964_A_G=2': -0.0018531964993178706,\n",
       " 'corect_rs148851713=2': 0.0018515377322146779,\n",
       " 'rs62090589=2': 0.001843245801815805,\n",
       " 'rs6803471=0': -0.0018389009451378819,\n",
       " 'rs9273112=0': -0.0018343965432877749,\n",
       " 'chr2_150721127_A_C=2': 0.0018330772974743583,\n",
       " 'chr2_217860966_C_T=1': 0.0018273993259617072,\n",
       " 'corect_rs56404467=2': 0.0018267414368301992,\n",
       " 'chr6_32529177_A_G=2': -0.0018200478354843074,\n",
       " 'rs4636400=1': 0.001815812580811014,\n",
       " 'rs10979227=2': 0.0018154757375851013,\n",
       " 'rs8082622=2': 0.0018139736332864799,\n",
       " 'rs35890856=1': -0.001811395369994797,\n",
       " 'chr16_52575279_A_T=2': -0.0018106026465576383,\n",
       " 'chr7_118831547_C_T=2': -0.0018087444714031278,\n",
       " 'rs10064567=2': -0.0018063843942626389,\n",
       " 'c5_pos56174939=2': -0.0018016822840418118,\n",
       " 'rs419018=1': 0.0018009775250686976,\n",
       " 'rs35784892=2': -0.0018004712951195804,\n",
       " 'chr18_42394381_A_T=2': -0.0017973914844507549,\n",
       " 'chr19_44294849_A_G=2': 0.0017926171994295294,\n",
       " 'chr4_114651107_A_G=2': -0.001773930812759294,\n",
       " 'chr12_28172545_A_G=2': -0.0017728949240947611,\n",
       " 'rs1159906=2': 0.0017598792848685272,\n",
       " 'chr1_10719375_G_INDEL=2': -0.0017589271996798792,\n",
       " 'chr5_56001002_C_G=2': 0.0017483166639632938,\n",
       " 'chr17_52979985_C_T=2': 0.001744698066921456,\n",
       " 'chr3_27284083_A_G=2': -0.0017393720779961379,\n",
       " 'chr22_40855788_C_T=2': 0.001735868866586106,\n",
       " 'rs17549261=2': 0.001735505100584741,\n",
       " 'rs55865274=1': -0.0017302203830339943,\n",
       " 'chr16_52639236_C_T=2': -0.0017227776647023797,\n",
       " 'chr7_139943267_C_T=0': 0.001721891934233592,\n",
       " 'chr16_88835229_C_T=2': -0.0017090292400486085,\n",
       " 'rs28550561=2': -0.001705985318493751,\n",
       " 'rs10872676=2': -0.0017056722110999946,\n",
       " 'chr12_95088149_C_T=2': -0.0017043308570586398,\n",
       " 'chr4_175847144_A_T=2': 0.0017039709490886438,\n",
       " 'rs669329=1': 0.0017008874876850962,\n",
       " 'chr17_53127924_C_T=2': 0.0017001961202638652,\n",
       " 'rs2547115=1': -0.0016996016247865444,\n",
       " 'chr19_44408973_A_C=2': -0.0016985409498562064,\n",
       " 'chr3_27263248_C_G=2': 0.0016975135701952943,\n",
       " 'chr3_27343644_C_T=2': -0.0016943013422461653,\n",
       " 'chr21_20106580_A_G=2': -0.0016939209151337936,\n",
       " 'rs10956362=1': -0.001690440521532185,\n",
       " 'rs1052067=2': -0.0016785528153051143,\n",
       " 'rs595107=1': -0.0016635274419274173,\n",
       " 'chr5_56238204_A_G=2': -0.001663123590866131,\n",
       " 'rs743605=1': 0.0016630828283703786,\n",
       " 'chr8_76393596_A_T=2': -0.001660148336956126,\n",
       " 'rs4695984=2': 0.0016593636255166323,\n",
       " 'rs1384331=2': -0.0016554291827352147,\n",
       " 'chr18_24531290_C_INDEL=2': -0.0016493485538800676,\n",
       " 'chr16_53809247_A_G=1': 0.0016413931923586838,\n",
       " 'rs67257959=1': 0.0016363096275983787,\n",
       " 'rs56116165=2': -0.0016359051036350845,\n",
       " 'chr5_56080347_C_T=1': -0.0016358463625979266,\n",
       " 'rs398099=2': -0.0016339445011153463,\n",
       " 'chr3_4758244_G_T=2': -0.0016292917769341055,\n",
       " 'chr19_44410846_A_G=2': -0.0016268368806175062,\n",
       " 'chr5_56047342_A_C=2': -0.0016242273479904609,\n",
       " 'corect_rs116417157=2': -0.0016165126191480736,\n",
       " 'rs7763637=1': -0.0016116747512579653,\n",
       " 'chr9_110630326_C_T=2': 0.0016086330242701197,\n",
       " 'chr3_30684907_C_T=1': 0.0016071781172020407,\n",
       " 'rs1061651=0': 0.0016069293150486822,\n",
       " 'rs10816528=1': 0.0016059034546734457,\n",
       " 'rs8017501=2': 0.0016056570949814241,\n",
       " 'chr8_29431707_G_T=1': 0.0016050803999879894,\n",
       " 'chr19_44401793_A_G=2': -0.0016048139967311192,\n",
       " 'rs9355450=2': 0.0016017442434062285,\n",
       " 'chr5_56025200_C_G=2': 0.0016015476037076427,\n",
       " 'chr6_168224685_C_T=2': -0.0015989509712208555,\n",
       " 'rs442882=1': 0.001595889518545311,\n",
       " 'chr8_29504917_A_G=2': 0.0015949818800772785,\n",
       " 'rs12159200=2': 0.0015947905858726033,\n",
       " 'rs1420533=0': -0.0015722103595858484,\n",
       " 'chr7_75175924_C_T=1': 0.0015699160051281008,\n",
       " 'chr19_43866449_A_G=2': -0.0015689105124809632,\n",
       " 'rs2361543=1': 0.00156838717600664,\n",
       " 'rs637635=1': 0.0015620353904323649,\n",
       " 'rs2824268=1': 0.0015581463343807061,\n",
       " 'chr5_56184926_C_G=2': 0.001556886663488253,\n",
       " 'chr11_65631167_C_T=1': -0.001555952488793325,\n",
       " 'rs7198953=2': 0.001555933865645756,\n",
       " 'rs136832=2': 0.0015475272348417866,\n",
       " 'chr22_40825814_A_G=2': 0.0015425692288108805,\n",
       " 'rs12540711=0': -0.0015393994967716597,\n",
       " 'rs7237501=2': 0.001530645713699588,\n",
       " 'rs2897261=1': 0.0015294874323075176,\n",
       " 'rs66478960=1': -0.0015185706305283133,\n",
       " 'chr2_217860799_A_T=1': -0.0015172774580583164,\n",
       " 'chr3_27249284_A_G=2': -0.0015110543638613178,\n",
       " 'chr6_127899971_A_T=2': -0.0015086517552503368,\n",
       " 'rs3804989=2': -0.0015080710154336569,\n",
       " 'chr4_183646766_A_T=2': 0.0015064059148555172,\n",
       " 'rs2027342=2': 0.0015058082659750584,\n",
       " 'rs561337=2': -0.0014978499215667724,\n",
       " 'chr5_55995869_C_T=2': -0.001496154145850176,\n",
       " 'rs6557161=1': 0.0014916788423452842,\n",
       " 'chr11_115507980_C_T=2': 0.0014915308684165008,\n",
       " 'chr16_53837144_G_T=1': 0.001488136201109595,\n",
       " 'chr10_64278874_C_T=1': -0.0014864556130658765,\n",
       " 'chr3_4738774_A_G=0': -0.0014843596081640731,\n",
       " 'chr22_40920723_INDEL_TCCA=2': -0.001473246542658331,\n",
       " 'chr5_56040643_C_T=2': -0.0014681216134648305,\n",
       " 'chr9_106715989_C_T=2': -0.0014623260602293715,\n",
       " 'chr5_55878492_C_T=2': -0.001459921453089742,\n",
       " 'chr3_147484611_C_T=1': 0.0014501789406535267,\n",
       " 'rs6883371=1': 0.0014471832724266553,\n",
       " 'chr17_56180576_C_T=2': 0.0014465554346598155,\n",
       " 'chr18_42415090_A_G=2': 0.0014430500084969173,\n",
       " 'chr3_2286992_A_T=2': 0.0014412041757997525,\n",
       " 'chr9_119617228_G_T=2': -0.0014396605451755925,\n",
       " 'c5_pos44839303=2': 0.0014382510900496084,\n",
       " 'rs992423=0': 0.001433594002677646,\n",
       " 'chr5_158227898_A_G=1': -0.0014331853864186822,\n",
       " 'chr3_37221053_C_G=2': 0.0014326111979472748,\n",
       " 'chr19_23920150_A_G=2': 0.001427497193983609,\n",
       " 'rs3732047=2': 0.0014205961160119532,\n",
       " 'rs36693=2': -0.0014195646655968145,\n",
       " 'rs3756586=2': -0.0014138292655638185,\n",
       " 'chr18_24094369_A_G=1': 0.0014096840129861118,\n",
       " 'chr5_56001407_C_T=2': 0.0014030553812546314,\n",
       " 'chr12_96021033_C_T=2': -0.0013955482617630248,\n",
       " 'chr16_80652476_C_T=2': 0.0013913145466691978,\n",
       " 'chr14_37128564_A_C=2': -0.001391276082819553,\n",
       " 'chr4_153848128_A_G=2': 0.0013857181814703125,\n",
       " 'exm433046=2': 0.001384942325680084,\n",
       " 'chr9_110900418_A_G=2': 0.0013843503645381628,\n",
       " 'rs12242201=2': -0.0013810420094271386,\n",
       " 'rs381551=2': 0.0013743430129900085,\n",
       " 'kgp2633599=2': 0.0013741288710960057,\n",
       " 'rs11733534=0': 0.0013738256080783108,\n",
       " 'chr8_29516481_A_G=2': 0.001373137633257183,\n",
       " 'chr8_36778319_A_G=2': 0.0013639492327811897,\n",
       " 'rs11609105=0': 0.0013523396723886868,\n",
       " 'chr5_158207587_A_G=2': 0.0013474604159415952,\n",
       " 'rs78205285=2': 0.0013430646137123593,\n",
       " 'rs2669264=2': -0.0013402031631048951,\n",
       " 'chr19_44281898_A_G=2': -0.0013399448561745534,\n",
       " 'rs7006882=1': 0.0013382809647640799,\n",
       " 'chr19_44414467_C_G=2': -0.0013381998190952784,\n",
       " 'chr2_64300944_G_T=1': -0.0013352926755370708,\n",
       " 'chr6_41314955_A_C=0': -0.001334615356302459,\n",
       " 'chr6_13713099_A_G=2': -0.0013343834222161977,\n",
       " 'rs4975994=2': 0.0013341408293883414,\n",
       " 'rs12445424=0': -0.0013338271084861397,\n",
       " 'chr16_80649830_A_G=2': -0.0013291878055471972,\n",
       " 'chr22_40979164_A_G=2': 0.0013179597343535021,\n",
       " 'rs13329835=2': -0.001316052884730792,\n",
       " 'rs73122199=2': -0.0013143819885718313,\n",
       " 'rs719426=1': 0.0013143142912585954,\n",
       " 'chr6_32590428_C_T=2': -0.0013133001444521337,\n",
       " 'rs9918437=2': -0.0013127933141017232,\n",
       " 'chr5_44858451_A_G=0': 0.0013108480404655733,\n",
       " 'chr6_32456753_C_T=1': 0.0013094050770997212,\n",
       " 'chr17_53271365_G_T=2': -0.0013000218121670697,\n",
       " 'chr8_76388982_C_T=2': 0.001298367882675504,\n",
       " 'chr8_76328331_A_G=2': 0.0012976091531113835,\n",
       " 'rs45631581=2': -0.0012859418786718177,\n",
       " 'chr9_110900060_C_T=2': -0.0012857242546789086,\n",
       " 'chr3_27360463_C_T=2': -0.0012812280769174482,\n",
       " 'rs73756772=2': -0.00128080476807292,\n",
       " 'chr10_123423047_A_G=2': -0.0012790596055540769,\n",
       " 'c3_pos27038052=1': -0.001276137888814709,\n",
       " 'chr9_111034825_A_C=1': -0.001275210515269507,\n",
       " 'chr10_123419652_A_G=2': 0.0012716510617355437,\n",
       " 'rs10941677=0': 0.0012625008402032342,\n",
       " 'rs7224905=2': -0.0012585001805602285,\n",
       " 'chr21_26091601_A_G=1': 0.0012579125821402235,\n",
       " 'rs74854644=1': 0.0012561067785052883,\n",
       " 'rs6029145=2': -0.0012524866418007717,\n",
       " 'chr21_16542909_A_INDEL=2': -0.0012520529136505277,\n",
       " 'chr3_141106954_A_T=2': -0.0012515110586299113,\n",
       " 'chr11_75324599_A_G=2': -0.0012504033824808016,\n",
       " 'rs9948=2': 0.0012445614413457773,\n",
       " 'rs3748317=2': -0.0012438318188322062,\n",
       " 'chr5_56112698_C_T=2': -0.0012397784911013367,\n",
       " 'chr16_52566454_G_T=0': -0.0012358430886233378,\n",
       " 'chr3_27123670_A_G=1': 0.0012336433402355418,\n",
       " 'rs1608651=1': 0.0012314452888127281,\n",
       " 'chr16_52643924_C_T=2': 0.0012286777400747821,\n",
       " 'chr3_27089482_C_T=2': 0.0012281999051989773,\n",
       " 'chr10_123441192_A_T=2': 0.0012189394905277732,\n",
       " 'chr5_56206675_A_C=1': 0.0012188793214166892,\n",
       " 'chr13_19524950_A_G=1': 0.0012166221952877847,\n",
       " 'chr9_110892030_C_G=2': 0.001214137724679266,\n",
       " 'chr5_56109154_A_G=1': -0.001213855545641287,\n",
       " 'rs10816653=1': -0.0012136759396557078,\n",
       " 'chr5_56062821_G_T=2': -0.0012111819254072898,\n",
       " 'chr2_217839801_G_T=2': 0.0012045640718144719,\n",
       " 'chr17_70130892_A_G=2': 0.001202011534677062,\n",
       " 'chr2_218258530_C_T=2': -0.0011976199347651043,\n",
       " 'chr11_24623826_A_G=2': 0.001197284706734986,\n",
       " 'chr6_138734024_A_G=2': -0.0011972301083841854,\n",
       " 'chr22_28999668_A_C=2': 0.001196296456274688,\n",
       " 'chr5_56222358_A_T=1': 0.001196108671380035,\n",
       " 'rs2868486=2': 0.0011949991048314154,\n",
       " 'rs832402=1': -0.0011947259454559104,\n",
       " 'chr12_28169335_C_T=2': 0.0011906741930340107,\n",
       " 'rs13270266=2': -0.001190531928277244,\n",
       " 'chr19_44423195_A_G=2': -0.0011858587712722441,\n",
       " 'corect_rs114894999=2': 0.0011840850060761167,\n",
       " 'chr4_175854469_C_T=2': -0.0011813620987817216,\n",
       " 'chr12_28174569_C_T=2': -0.0011772540827987294,\n",
       " 'rs519144=1': 0.0011764112265599533,\n",
       " 'chr6_32659535_A_C=2': 0.0011716536604137065,\n",
       " 'rs8063248=2': -0.0011700525334440769,\n",
       " 'chr17_53166495_A_T=2': -0.0011698449254771315,\n",
       " 'chr5_56233737_A_C=2': -0.0011680929452712767,\n",
       " 'chr11_130943681_A_G=2': 0.00116419804407427,\n",
       " 'chr10_64273026_A_G=1': 0.0011609989630611908,\n",
       " 'rs868895=1': -0.001158133205098696,\n",
       " 'rs6914432=1': 0.0011568883600015253,\n",
       " 'chr22_40901345_C_T=2': -0.0011535189507981825,\n",
       " 'rs1110776=2': -0.001150740371141877,\n",
       " 'rs643753=1': -0.001150371266737949,\n",
       " 'rs28379235=2': -0.0011492591968350447,\n",
       " 'chr14_69045460_A_T=1': -0.00114909789833428,\n",
       " 'rs4980383=1': -0.0011488732176030201,\n",
       " 'rs10462079=0': -0.00114587517684377,\n",
       " 'rs7718871=2': 0.0011451270898990627,\n",
       " 'chr19_44376681_G_T=2': 0.0011420648275407535,\n",
       " 'chr12_28153018_A_G=2': -0.0011339321471371744,\n",
       " 'chr16_53798622_G_T=1': 0.0011333978428366429,\n",
       " 'chr17_53222874_A_G=2': 0.0011331667715005584,\n",
       " 'rs1558901=1': -0.0011245040644908462,\n",
       " 'rs78591923=2': 0.0011235561071573895,\n",
       " 'rs595821=1': 0.0011227864837388328,\n",
       " 'rs793443=2': -0.001121326180317454,\n",
       " 'chr3_86895086_G_T=2': 0.001116135006114848,\n",
       " 'rs1476413=2': 0.0011151005272552338,\n",
       " 'chr2_202124502_G_T=2': 0.0011126140635500973,\n",
       " 'chr5_111109059_G_T=0': 0.001110757383659463,\n",
       " 'rs11485175=2': 0.001109528976297641,\n",
       " 'rs7923788=2': 0.0011065246574691267,\n",
       " 'chr12_8786982_C_T=2': 0.0011039906568831909,\n",
       " 'chr11_46015152_C_T=2': -0.001102929221029491,\n",
       " 'chr3_141094769_A_C=2': 0.001097990238919927,\n",
       " 'rs900195=0': 0.0010966777014875379,\n",
       " 'chr5_56042972_C_T=2': 0.0010920776617108488,\n",
       " 'chr19_44403055_A_G=2': -0.0010850252124017445,\n",
       " 'rs1274644=1': 0.001081334056585267,\n",
       " 'rs6122372=2': 0.001079059433079558,\n",
       " 'rs341832=0': 0.0010727267481374222,\n",
       " 'rs6838519=1': -0.0010709949475219674,\n",
       " 'chr12_28171528_A_T=2': 0.0010604691767957164,\n",
       " 'rs10255163=2': 0.001057416367603556,\n",
       " 'chr11_65712413_A_G=1': 0.0010535267475919013,\n",
       " 'chr5_56046651_C_T=2': -0.0010529771707372278,\n",
       " 'chr2_111735129_G_T=2': -0.0010482021932538411,\n",
       " 'rs17015259=1': 0.0010469879467144545,\n",
       " 'chr8_29502120_A_G=0': 0.0010465470635357718,\n",
       " 'chr3_27356779_C_G=2': 0.001045836580514244,\n",
       " 'chr22_40870794_C_T=2': -0.0010452484307616667,\n",
       " 'chr19_44426265_A_G=2': -0.0010438245007917942,\n",
       " 'chr5_158222797_C_T=2': 0.0010417477770569338,\n",
       " 'rs7319261=2': 0.0010411901380155428,\n",
       " 'rs1566307=2': -0.0010317148966721146,\n",
       " 'chr14_37113093_A_G=2': -0.0010311123953613054,\n",
       " 'chr3_27250003_C_G=2': -0.0010232880237036324,\n",
       " 'rs6743216=2': 0.001022023222595349,\n",
       " 'chr17_53048469_C_T=2': 0.0010181327987383052,\n",
       " 'rs7155764=1': -0.0010141490430863838,\n",
       " 'rs865898=2': -0.0010130051869707644,\n",
       " 'rs17741337=2': -0.0010120670786915955,\n",
       " 'chr16_80674445_C_G=2': 0.0010112941700595424,\n",
       " 'chr4_16241116_A_G=2': -0.001005915464395115,\n",
       " 'chr12_96027873_C_T=2': -0.0010043172287079241,\n",
       " 'rs11748868=2': -0.0010011255645864198,\n",
       " 'c5_pos56053644=2': -0.0009984819505668547,\n",
       " 'rs77275268=2': 0.0009963565293191433,\n",
       " 'chr8_25935017_CA_INDEL=2': 0.0009881057724254747,\n",
       " 'chr22_40905072_A_G=2': 0.000982772907585685,\n",
       " 'rs13333789=1': -0.0009800081534302668,\n",
       " 'chr15_93691968_C_T=1': -0.0009769221902796762,\n",
       " 'chr3_27281689_A_T=2': 0.0009728398618546182,\n",
       " 'rs410649=2': -0.0009713105462256353,\n",
       " 'chr22_40886993_C_T=2': -0.0009698884595364934,\n",
       " 'chr8_17426274_A_G=2': -0.0009680970714391245,\n",
       " 'rs1290999=1': -0.0009641631379283778,\n",
       " 'chr11_69471746_C_T=2': 0.0009551162601577834,\n",
       " 'chr5_56196276_A_G=2': -0.0009528444076401268,\n",
       " 'chr16_53801549_C_T=1': -0.0009525330610891344,\n",
       " 'rs9271106=2': 0.0009503348123480793,\n",
       " 'rs132358=2': -0.0009495106951366756,\n",
       " 'chr11_65631881_A_G=1': 0.0009432989642709123,\n",
       " 'chr8_76522680_A_G=2': 0.000936743288691501,\n",
       " 'rs2823139=2': -0.0009362037613633267,\n",
       " 'chr3_27337929_A_G=2': 0.0009341535914420442,\n",
       " 'chr14_37095987_C_T=1': 0.00093410718045954,\n",
       " 'rs4844616=0': 0.0009340785889826687,\n",
       " 'chr21_16505031_A_G=2': 0.0009308946157749563,\n",
       " 'c3_pos27212439=2': 0.0009260532722870866,\n",
       " 'chr5_49511425_C_T=2': 0.0009234356216640684,\n",
       " 'chr3_27297684_A_C=2': 0.0009213487983720258,\n",
       " 'chr17_53083122_A_G=2': -0.0009170419914416923,\n",
       " 'rs17083080=2': -0.0009139497050859526,\n",
       " 'chr20_30402237_C_G=2': -0.0009131788030978968,\n",
       " 'chr2_217895626_A_G=1': -0.000911813386513828,\n",
       " 'rs227228=1': -0.0009061499993051711,\n",
       " 'rs72846765=2': 0.0009011360158614725,\n",
       " 'chr5_56010465_A_C=2': -0.0009001954878289899,\n",
       " 'chr12_8779896_C_T=2': 0.0008967898901092062,\n",
       " 'rs11951657=1': 0.0008947458712047734,\n",
       " 'chr3_63765264_A_G=1': 0.0008940662252402918,\n",
       " 'rs4774574=1': 0.0008900292595444218,\n",
       " 'chr3_35138707_A_G=2': 0.0008879932833147625,\n",
       " 'chr2_217919565_C_G=2': -0.00088538662193247,\n",
       " 'chr3_74118286_A_T=2': -0.0008790540639061611,\n",
       " 'chr3_46742523_A_C=1': 0.0008784973425723973,\n",
       " 'chr5_2392267_A_G=2': 0.0008771643122932251,\n",
       " 'rs3135730=2': 0.0008765187122832717,\n",
       " 'rs2175391=1': -0.0008678869690367343,\n",
       " 'rs12959290=1': -0.000864025169144143,\n",
       " 'chr3_27299001_A_G=2': 0.000860873487082758,\n",
       " 'rs10956364=1': 0.0008526239176999625,\n",
       " 'chr5_56113850_G_T=1': 0.0008471473219198608,\n",
       " 'c3_pos27113590=1': 0.0008460910943727819,\n",
       " 'rs2070571=1': 0.0008426602694623758,\n",
       " 'chr5_132192547_C_T=0': 0.0008411857876639993,\n",
       " 'rs629480=2': -0.0008408119721473697,\n",
       " 'chr3_27248163_A_G=2': -0.0008397866286171153,\n",
       " 'chr18_24552932_C_T=2': 0.000838998871917482,\n",
       " 'chr16_52585440_C_T=2': 0.0008371113210509024,\n",
       " 'rs9940128=1': -0.0008363080985853122,\n",
       " 'rs10886963=2': -0.0008355615533858475,\n",
       " 'rs519679=1': 0.000833781968525548,\n",
       " 'rs72764708=2': 0.000821026911745158,\n",
       " 'chr5_44939293_A_G=1': 0.0008207553055876055,\n",
       " 'chr4_9462484_G_T=2': 0.0008181570072590898,\n",
       " 'chr3_27330335_A_C=2': -0.0008165431717857052,\n",
       " 'chr22_28552698_C_T=2': 0.0008146475540872359,\n",
       " 'chr10_123462700_C_T=2': -0.0008122228443414821,\n",
       " 'chr22_40726183_C_T=2': -0.000811488425184102,\n",
       " 'chr10_114781950_C_G=2': -0.0008093327116387536,\n",
       " 'rs10474352=2': 0.000808590358733256,\n",
       " 'rs9266064=2': 0.0008072360182928307,\n",
       " 'chr5_56277191_A_G=1': 0.0008072333221558183,\n",
       " 'chr4_95508865_C_G=2': 0.0008061094225713221,\n",
       " 'chr16_52600618_A_G=2': 0.0008060142790356196,\n",
       " 'rs788455=2': 0.0008009339104722246,\n",
       " 'chr10_80888590_A_G=1': -0.000800570961490745,\n",
       " 'chr16_52580247_A_C=2': -0.0008004339862507129,\n",
       " 'chr17_56057565_A_G=2': -0.0007996838460902256,\n",
       " 'rs56300148=0': 0.0007965617573621349,\n",
       " 'rs2242312=2': 0.0007890463264989282,\n",
       " 'chr5_56011740_A_G=2': -0.0007851481586747165,\n",
       " 'chr2_55325001_A_G=2': 0.0007848954947538627,\n",
       " 'rs11125114=2': -0.0007816502858181562,\n",
       " 'chr5_56175566_C_G=1': 0.0007789209097069473,\n",
       " 'chr9_106912151_C_T=2': 0.0007750640816556553,\n",
       " 'chr7_16575830_A_T=2': 0.0007748311811690081,\n",
       " 'chr3_27398358_G_T=2': 0.0007729212785628162,\n",
       " 'rs66466850=1': 0.0007725038211700998,\n",
       " 'chr21_16574122_C_T=2': -0.0007682447530467409,\n",
       " 'chr16_53816275_A_C=1': -0.0007652996629660944,\n",
       " 'chr14_68637906_A_T=1': 0.0007567847234290012,\n",
       " 'chr5_56168712_C_T=2': 0.0007556139679849802,\n",
       " 'chr5_56310359_A_G=2': 0.0007530767685822198,\n",
       " 'chr3_27236734_G_T=2': -0.000751070274547535,\n",
       " 'rs72935553=2': -0.0007442829937874692,\n",
       " 'chr5_56012880_C_T=0': -0.0007437256137410274,\n",
       " 'chr3_64090194_C_T=2': -0.000743415609647458,\n",
       " 'chr11_4584569_A_G=1': -0.0007409083457817428,\n",
       " 'c3_pos27178868=2': -0.0007374068044994605,\n",
       " 'c11_pos1916762=2': -0.0007350639009732957,\n",
       " 'chr22_40895810_A_C=2': -0.000733989839218062,\n",
       " 'chr12_28169798_A_C=0': -0.0007310591886324291,\n",
       " 'rs1072781=0': 0.0007304662483458351,\n",
       " 'chr21_16544919_A_G=2': -0.0007290098143002743,\n",
       " 'rs4866784=1': -0.0007240159218465959,\n",
       " 'rs7736092=1': 0.0007230894740066977,\n",
       " 'chr12_28142950_C_T=2': -0.0007228263757304923,\n",
       " 'rs67451499=2': 0.000721848636216602,\n",
       " 'chr2_202151163_A_G=2': -0.0007189195418773883,\n",
       " 'chr5_56047143_A_G=2': 0.0007188166868147047,\n",
       " 'chr12_28181233_C_T=2': -0.0007044367818357086,\n",
       " 'chr17_53249679_A_G=1': 0.0007020158807869417,\n",
       " 'chr5_56307959_C_T=2': 0.0007014770489645928,\n",
       " 'rs2255767=1': -0.0006997098149634591,\n",
       " 'chr9_124300734_C_T=2': -0.0006987891181445978,\n",
       " 'rs978683=1': 0.0006978402933231595,\n",
       " 'rs56237600=1': 0.0006961244431350195,\n",
       " 'rs2441132=1': -0.0006947117628100303,\n",
       " 'rs9271611=2': -0.0006891958660091046,\n",
       " 'chr3_27296796_C_G=2': -0.0006891745332708092,\n",
       " 'chr5_56110684_A_C=2': -0.0006880805277536096,\n",
       " 'rs1295782=1': 0.0006874620378921329,\n",
       " 'chr16_53803223_A_G=1': 0.0006861130436481824,\n",
       " 'rs7525980=1': 0.0006822868766325804,\n",
       " 'chr22_40906635_C_G=2': -0.000681602599566562,\n",
       " 'chr9_110900744_A_G=2': 0.0006815421707079595,\n",
       " 'chr5_56170813_C_G=2': 0.0006705927646217505,\n",
       " 'rs497006=1': -0.0006631287440887859,\n",
       " 'chr4_175837394_A_G=2': 0.0006604499870532533,\n",
       " 'c10_pos123422565=2': -0.0006585909610073514,\n",
       " 'rs13083158=1': 0.000653542066741064,\n",
       " 'rs9383938=2': -0.000653440924980073,\n",
       " 'chr16_53812614_A_G=1': -0.0006528431629581502,\n",
       " 'rs9272718=0': -0.0006519018645258649,\n",
       " 'rs8094072=1': -0.0006488715227379764,\n",
       " 'chr21_16543510_A_G=2': 0.0006443227864140956,\n",
       " 'rs74412847=2': 0.0006412806279667836,\n",
       " 'chr5_44876288_C_T=0': 0.0006406820755214638,\n",
       " 'rs10991125=1': -0.0006403693585084607,\n",
       " 'chr17_53111383_A_C=2': 0.0006396600778732352,\n",
       " 'chr17_53214654_C_T=2': 0.0006395084479155871,\n",
       " 'chr5_174355059_A_G=2': 0.0006384535330497238,\n",
       " 'chr17_53064550_C_T=2': -0.0006222844754716712,\n",
       " 'chr7_30336156_C_G=2': 0.0006219061494954132,\n",
       " 'chr22_40832375_A_G=2': 0.0006134494969796976,\n",
       " 'chr2_217968561_C_T=1': -0.0006099184676092026,\n",
       " 'rs6882428=2': 0.0006076642726962006,\n",
       " 'rs7749324=1': -0.00060493647097841,\n",
       " 'rs34762678=0': -0.0006046974779275239,\n",
       " 'chr12_28146490_A_T=2': 0.0006046883775081177,\n",
       " 'chr20_52304681_C_T=2': 0.0006018042021936109,\n",
       " 'chr5_56176306_C_T=2': -0.0006005778360539983,\n",
       " 'rs45631630=2': -0.0005980390575036693,\n",
       " 'rs1315984=1': 0.0005969709676496314,\n",
       " 'chr5_56278199_A_C=2': -0.0005969388736332709,\n",
       " 'chr17_53224088_A_G=2': 0.0005938084078298797,\n",
       " 'rs6787229=1': 0.0005931928881310031,\n",
       " 'rs4454830=2': -0.0005926871930068749,\n",
       " 'chr17_35438073_C_T=2': 0.0005843784970745239,\n",
       " 'rs11200030=2': 0.0005821560047406141,\n",
       " 'chr22_41026018_G_T=2': -0.0005816914758539328,\n",
       " 'chr10_123429042_A_G=2': 0.0005803817260438385,\n",
       " 'chr15_91548601_A_G=2': 0.0005793383743852619,\n",
       " 'rs7645328=2': -0.0005766988821525619,\n",
       " 'chr8_76401357_A_C=2': -0.000572764146746322,\n",
       " 'chr8_76465360_A_G=2': 0.0005699737176841314,\n",
       " 'chr18_42382663_C_T=2': 0.0005671353024270781,\n",
       " 'rs6726261=1': -0.0005632086453426784,\n",
       " 'chr22_40973610_C_T=2': 0.0005608077023768784,\n",
       " 'rs7545208=0': 0.0005557000698119333,\n",
       " 'rs11672385=2': -0.0005521744688535826,\n",
       " 'chr16_80652246_C_G=2': 0.0005507336926989423,\n",
       " 'chr3_27471831_A_C=2': -0.0005491625363650451,\n",
       " 'chr17_4961271_G_T=2': -0.0005434919812100577,\n",
       " 'chr7_33061694_G_T=2': 0.0005406618997848169,\n",
       " 'rs13392238=2': -0.0005405095218154243,\n",
       " 'chr16_53819877_C_T=1': -0.0005386617006981258,\n",
       " 'chr10_64254983_A_G=2': 0.0005369077636584174,\n",
       " 'chr10_123408682_C_G=2': 0.0005356017175762129,\n",
       " 'rs12528539=2': -0.0005352692395686637,\n",
       " 'chr5_56213334_C_T=1': 0.0005319989843473458,\n",
       " 'chr5_56172646_C_T=1': -0.0005291245900293547,\n",
       " 'chr14_37132061_A_G=2': 0.0005244746298737464,\n",
       " 'rs12158945=1': -0.0005224905014175584,\n",
       " 'rs1052190=1': 0.0005206318360915204,\n",
       " 'chr21_24447648_C_T=2': 0.0005204719736774904,\n",
       " 'rs1551892=2': 0.0005162737832245304,\n",
       " 'rs55675376=2': -0.0005136657782645902,\n",
       " 'chr10_123387326_G_T=2': -0.000513602247267248,\n",
       " 'rs7831303=1': -0.0005135262579141151,\n",
       " 'rs1180130=2': 0.0005131969279597324,\n",
       " 'chr8_29515831_C_T=2': 0.0005085323513127548,\n",
       " 'chr10_123431846_A_C=2': 0.0005080471625424407,\n",
       " 'chr5_44646195_C_T=0': -0.0005074951961807113,\n",
       " 'rs7071275=2': 0.0005051141534517291,\n",
       " 'chr17_52986908_C_T=2': -0.0005030909788335548,\n",
       " 'rs1320969=2': 0.00050143648791292,\n",
       " 'rs7014657=1': 0.0005012732827048348,\n",
       " 'chr21_46025285_C_T=2': 0.0005004482194108695,\n",
       " 'rs1466007=2': -0.0005004115436473816,\n",
       " 'rs4457088=1': 0.0004969481433568062,\n",
       " 'chr5_56260606_A_G=2': 0.0004959571193266574,\n",
       " 'chr22_40851728_A_G=2': 0.0004908891776154964,\n",
       " 'chr8_76333056_C_T=2': -0.0004895851612453273,\n",
       " 'chr16_88908306_A_G=0': -0.0004893690014331373,\n",
       " 'chr10_123390024_A_G=2': 0.00048779372407390005,\n",
       " 'rs79071597=2': 0.00048497409925545053,\n",
       " 'rs4714432=0': -0.00048234209037952827,\n",
       " 'chr16_70828269_C_T=2': 0.0004821198720305847,\n",
       " 'chr16_52536885_C_T=2': 0.0004777447650344663,\n",
       " 'chr5_158366759_A_G=1': -0.00047515425092157745,\n",
       " 'rs9871261=2': 0.0004744818710061895,\n",
       " 'chr2_217939959_C_T=2': -0.0004718380009995158,\n",
       " 'chr21_16520832_A_G=1': 0.0004716681660736621,\n",
       " 'rs6599129=2': -0.0004704305900767235,\n",
       " 'rs9383589=2': 0.00046888842113944584,\n",
       " 'chr14_47823613_G_T=2': -0.0004682570173794023,\n",
       " 'rs1473201=0': 0.0004625824108417449,\n",
       " 'chr3_27292557_C_T=2': 0.0004572859593532713,\n",
       " 'rs6997019=2': -0.00045707880113151007,\n",
       " 'chr3_27392625_A_T=2': -0.0004540344413134363,\n",
       " 'chr5_56173934_A_G=2': -0.00045231598768635133,\n",
       " 'rs2158357=2': -0.0004510284286328902,\n",
       " 'rs77211738=2': -0.0004486105260678055,\n",
       " 'chr3_46894988_A_C=1': -0.0004465837486503589,\n",
       " 'rs2372052=1': 0.00044413259038564675,\n",
       " 'chr19_13269181_A_G=2': -0.00044051668373548144,\n",
       " 'chr9_18730789_G_T=2': 0.0004396088234678276,\n",
       " 'chr5_56310501_A_G=2': -0.0004385386767850979,\n",
       " 'chr2_111603426_C_T=2': -0.00043807113727983035,\n",
       " 'chr10_51514474_A_G=2': 0.00043801906231223376,\n",
       " 'corect_rs187434740=2': -0.00043674749317221885,\n",
       " 'chr20_34858360_C_T=2': -0.00042958601468337163,\n",
       " 'chr5_158357280_G_INDEL=1': 0.0004240784988603256,\n",
       " 'chr2_217939739_C_T=2': 0.00041954592458820646,\n",
       " 'rs2157908=2': 0.0004178887719732431,\n",
       " 'chr10_114799172_A_G=2': -0.00041669999312252717,\n",
       " 'rs677872=1': -0.00041660817906808524,\n",
       " 'rs602690=2': -0.000407913367681283,\n",
       " 'rs9274733=1': 0.0004049906309856578,\n",
       " 'chr16_52632350_A_C=2': 0.0004033149031419122,\n",
       " 'chr6_130386971_G_T=1': 0.00040251752927114316,\n",
       " 'rs10512852=2': 0.00039877915121647845,\n",
       " 'chr11_69318518_A_G=2': 0.00039848732781398916,\n",
       " 'chr9_111008909_A_G=1': 0.00039711599088490984,\n",
       " 'chr22_40734241_C_G=2': 0.0003970005243228624,\n",
       " 'rs9297753=1': 0.00039688227300201145,\n",
       " 'chr3_99387903_A_G=2': 0.0003909939412492536,\n",
       " 'rs130065=1': 0.0003794352198124821,\n",
       " 'rs11067640=2': -0.0003777159720683031,\n",
       " 'chr5_56172001_C_G=2': 0.00037495284593450697,\n",
       " 'chr5_56265025_C_T=2': -0.0003692937402929965,\n",
       " 'chr6_13716711_A_G=2': -0.0003689152547217283,\n",
       " 'rs6440003=2': -0.0003596394128019996,\n",
       " 'chr3_4754125_C_T=1': -0.0003592992306432682,\n",
       " 'chr2_217886101_A_G=2': 0.00035490519953689816,\n",
       " 'rs9790896=0': 0.000353927379485019,\n",
       " 'rs9910653=1': -0.0003532435291914603,\n",
       " 'rs72739755=2': -0.0003521193887639451,\n",
       " 'chr11_65683531_A_G=1': -0.00035128352932211346,\n",
       " 'rs12646105=2': -0.0003464905953280277,\n",
       " 'chr1_109093676_A_G=1': -0.0003444144179156187,\n",
       " 'chr22_41024854_C_T=2': 0.00034277301377552477,\n",
       " 'chr5_44650176_A_G=0': -0.00033879832020588244,\n",
       " 'chr9_110893793_A_T=2': -0.00033540717355808546,\n",
       " 'chr2_34486645_C_T=2': -0.0003327515794365606,\n",
       " 'rs9383933=1': -0.0003291136617272742,\n",
       " 'chr8_29530479_A_G=2': 0.0003238698631141039,\n",
       " 'rs56274956=2': -0.00032315695725868243,\n",
       " 'rs2218080=0': 0.0003215709268020157,\n",
       " 'chr2_217893189_A_G=0': -0.00031676210488436655,\n",
       " 'rs80352121=2': 0.00031294589181748723,\n",
       " 'rs4316319=0': 0.00030929880105643603,\n",
       " 'chrX_121626224_C_T=2': 0.0002988870393753774,\n",
       " 'chr10_123403660_C_T=2': 0.00029494385216752067,\n",
       " 'rs12746592=1': -0.0002946712164345266,\n",
       " 'chr12_113164556_A_G=1': -0.0002946438844009261,\n",
       " 'rs6574252=2': 0.0002915646622470225,\n",
       " 'chr2_134955210_C_T=2': 0.0002904249534678562,\n",
       " 'chr3_141125186_C_T=2': -0.00028804902880209636,\n",
       " 'chr21_16522082_A_G=2': 0.0002876455602170929,\n",
       " 'chr16_53822651_A_G=1': -0.00027824062272753313,\n",
       " 'chr2_217900397_A_G=2': 0.00027598678148442474,\n",
       " 'chr11_65644363_A_G=1': -0.00027589336884005744,\n",
       " 'chr16_52528044_A_G=2': -0.00027504363990887794,\n",
       " 'chr6_75480993_GT_INDEL=2': -0.00027403173799441085,\n",
       " 'rs2694027=2': -0.0002717783450358395,\n",
       " 'chr2_217787536_C_T=2': -0.0002681474774600171,\n",
       " 'rs12931301=1': 0.0002642926112441485,\n",
       " 'rs5838651=2': -0.00026273046525429004,\n",
       " 'chr6_160840769_C_T=2': 0.00025991626265957227,\n",
       " 'rs10425311=1': 0.0002559427698189118,\n",
       " 'chr18_24064359_A_G=2': 0.0002550219265120681,\n",
       " 'chr1_145438067_A_G=2': 0.00025308857909085253,\n",
       " 'chr6_151920851_A_C=1': 0.0002528140482520568,\n",
       " 'chr10_123446164_C_G=2': 0.00025207736317899195,\n",
       " 'chr5_56061564_A_G=2': -0.0002509146736126284,\n",
       " 'chr19_44286660_C_T=2': -0.00025010287166977633,\n",
       " 'chr16_80641653_C_G=2': 0.0002455984573540306,\n",
       " 'chr5_157797081_CA_INDEL=2': -0.00024286191312436126,\n",
       " 'chr18_42372487_C_T=2': -0.00024124570403603413,\n",
       " 'rs6688636=1': -0.00023516866209963066,\n",
       " 'chr21_16534968_C_T=2': 0.00023487563618603574,\n",
       " 'chr3_27249655_C_G=2': -0.0002279459815004967,\n",
       " 'chr3_27068677_A_G=1': -0.0002253191509631341,\n",
       " 'rs13248797=2': -0.0002226403900057717,\n",
       " 'rs9607721=2': 0.00021963933128400906,\n",
       " 'kgp12104856=2': -0.00021788184327972958,\n",
       " 'chr1_160865815_C_T=2': -0.00021739352520192963,\n",
       " 'chr22_40922332_A_G=2': -0.0002149952157079966,\n",
       " 'rs12698826=2': -0.00021418934755655858,\n",
       " 'chr10_123438864_A_T=2': 0.0002139796020175901,\n",
       " 'c5_pos56307481=2': -0.00020947491621359587,\n",
       " 'chr14_37124770_C_T=1': 0.00020897848678994304,\n",
       " 'chr1_168138084_A_G=2': -0.00020875066515848732,\n",
       " 'chr2_96796599_INDEL_T=2': -0.00020698031091408357,\n",
       " 'rs16924538=1': 0.00020675366373417765,\n",
       " 'chr4_39737914_C_T=2': -0.00020651321671981808,\n",
       " 'rs62368553=2': 0.00020625555076440652,\n",
       " 'chr16_53799847_A_G=1': -0.00020545485068457597,\n",
       " 'chr5_56026843_C_T=2': -0.00020136944121693678,\n",
       " 'rs13176502=0': 0.00020133750505549398,\n",
       " 'c5_pos44489027=2': 0.00020090091830374674,\n",
       " 'rs7514892=1': 0.0001998407581220338,\n",
       " 'rs7835046=2': -0.00019982985327396364,\n",
       " 'chr16_53809123_C_T=1': 0.0001963382917720941,\n",
       " 'chr2_217926328_C_T=1': 0.0001954969529574382,\n",
       " 'rs12636719=1': 0.0001895189384150958,\n",
       " 'rs1837285=1': 0.00018736569127628162,\n",
       " 'rs12137733=2': -0.00018652158453353663,\n",
       " 'chr2_238229802_C_T=2': 0.00018328444158407576,\n",
       " 'rs2111324=2': -0.00018306183099109867,\n",
       " 'chr8_76388113_C_T=2': 0.00017387841833551267,\n",
       " 'chr5_55995035_G_T=2': 0.00017181948642036382,\n",
       " 'chr3_141072289_A_G=2': -0.00016450013641856136,\n",
       " 'rs72714579=2': -0.0001637178117619681,\n",
       " 'chr5_56088170_A_G=2': -0.00016115117978845374,\n",
       " 'chr2_202221239_CTT_INDEL=2': 0.00015913174941680017,\n",
       " 'chr5_56228401_A_G=1': 0.00015901296835007617,\n",
       " 'chr10_29919963_A_G=0': -0.0001568849776083884,\n",
       " 'rs1083383=2': -0.00015338275794432178,\n",
       " 'rs378109=2': -0.00015308661615535913,\n",
       " 'rs687279=2': -0.00015063969951182392,\n",
       " 'c3_pos27203358=2': -0.00014948153434166434,\n",
       " 'rs9388766=1': -0.00014774246227333105,\n",
       " 'rs8055197=1': -0.00014450753201920705,\n",
       " 'chr2_25192908_A_C=1': 0.00014082175402778166,\n",
       " 'chr16_52613037_A_G=2': -0.0001350461685494513,\n",
       " 'chr4_42099799_A_G=2': -0.00013032310178224575,\n",
       " 'chr14_93098339_C_G=1': 0.00011568309490349673,\n",
       " 'chr16_52571605_C_T=0': -0.00011308330999673466,\n",
       " 'rs7856798=2': -0.00011154522696173885,\n",
       " 'rs12783517=1': -0.0001100830995106884,\n",
       " 'rs2619434=0': -0.00010285331294353269,\n",
       " 'rs10820580=2': -0.00010153670133751436,\n",
       " 'chr3_27326554_C_INDEL=2': -9.487279787447441e-05,\n",
       " 'chr17_53013595_G_T=2': 9.204803078474588e-05,\n",
       " 'chr5_56021821_C_T=2': -9.114897797406206e-05,\n",
       " 'chr2_217865990_G_T=1': -9.094666715860642e-05,\n",
       " 'chr22_40888068_G_INDEL=2': 9.070484931310464e-05,\n",
       " 'chr5_56085225_C_T=1': -8.869007198384986e-05,\n",
       " 'chr6_31161571_C_G=2': -8.829238028359175e-05,\n",
       " 'rs45631582=2': -8.49515597641579e-05,\n",
       " 'chr19_44398940_A_G=2': 8.430504276359692e-05,\n",
       " 'rs893496=1': 8.190703720916456e-05,\n",
       " 'rs1838564=2': -8.033928435662427e-05,\n",
       " 'chr10_80810849_A_C=2': -7.976964969539358e-05,\n",
       " 'rs9371226=2': -7.86235511510038e-05,\n",
       " 'chr2_217916052_G_T=1': 7.785145264173556e-05,\n",
       " 'rs3104688=2': -7.779926745762411e-05,\n",
       " 'chr8_22472949_C_T=2': 7.646110014783952e-05,\n",
       " 'chr3_27186602_C_T=2': -7.325465753007526e-05,\n",
       " 'chr1_114136037_C_T=1': -7.075976044686363e-05,\n",
       " 'rs1314913=1': -6.929179750083218e-05,\n",
       " 'c10_pos123379827=2': -6.791700042004522e-05,\n",
       " 'chr5_56141155_A_G=2': -6.385548651163598e-05,\n",
       " 'chr5_44341451_C_INDEL=2': -6.287160692481217e-05,\n",
       " 'chr3_27059664_A_G=1': -6.137767425719563e-05,\n",
       " 'rs6932603=2': -6.024667158677991e-05,\n",
       " 'chr3_4743623_A_C=2': -5.446718700831276e-05,\n",
       " 'rs7816345=2': -5.346603300711974e-05,\n",
       " 'rs7701656=1': -5.294228390167192e-05,\n",
       " 'rs12663827=2': -4.812498174238628e-05,\n",
       " 'chr3_28889125_C_T=2': 4.432944446319212e-05,\n",
       " 'chr16_52516607_A_C=2': 4.157588348110961e-05,\n",
       " 'rs820429=1': -4.1441673789970756e-05,\n",
       " 'chr5_56226410_C_T=1': -4.137287550471184e-05,\n",
       " 'chr8_29434590_G_INDEL=1': 4.013354733600109e-05,\n",
       " 'chr2_218276161_C_T=1': -3.926240101431661e-05,\n",
       " 'chr3_27545356_A_G=1': 3.706234932459511e-05,\n",
       " 'chr3_27055517_C_T=1': -3.605724790080881e-05,\n",
       " 'chr9_111043009_C_T=1': 2.985819437518505e-05,\n",
       " 'rs34749493=1': 2.641602015607836e-05,\n",
       " 'chr15_91512067_A_G=2': -2.0707998691271913e-05,\n",
       " 'chr18_42378282_A_G=2': -1.3233728933311259e-05,\n",
       " 'rs6763931=2': -1.2747530301042767e-05,\n",
       " 'chr17_43295973_G_T=2': 1.2557895484241438e-05,\n",
       " 'chr5_56040390_A_T=2': 1.0165618530206928e-05,\n",
       " 'chr10_123432188_A_G=2': -9.88392215119977e-06,\n",
       " 'rs1274647=1': -7.0252043294511145e-06,\n",
       " 'rs60926789=1': -3.874312410533564e-06}"
      ]
     },
     "execution_count": 58,
     "metadata": {},
     "output_type": "execute_result"
    }
   ],
   "source": [
    "dict(pick.explanations[0].as_list())"
   ]
  },
  {
   "cell_type": "code",
   "execution_count": 59,
   "metadata": {},
   "outputs": [
    {
     "data": {
      "text/plain": [
       "{'chr7_154165614_C_T=2': 0.026311572280578774,\n",
       " 'rs1150850=2': 0.018625021216712844,\n",
       " 'chr4_39691575_G_T=1': 0.011826929028525106,\n",
       " 'chr12_28162383_G_INDEL=0': 0.008706661025563318,\n",
       " 'rs61850917=2': -0.007588678441431335,\n",
       " 'chr10_123363588_A_G=2': 0.007456558068779451,\n",
       " 'exm1380346=2': -0.00713086061565415,\n",
       " 'chr8_89514784_A_G=2': 0.006963273241806421,\n",
       " 'chr4_126466491_A_G=2': -0.0069301789012393665,\n",
       " 'chr5_167595594_C_T=1': 0.006891443653425541,\n",
       " 'chr17_43705518_A_G=2': -0.00680630433475619,\n",
       " 'newrs114164425=2': 0.006684120438312292,\n",
       " 'rs62235635=2': 0.006673053972471142,\n",
       " 'chrX_121623926_A_G=2': 0.006441836391766667,\n",
       " 'chr11_15340237_C_T=2': -0.006331749418548232,\n",
       " 'chr16_87045177_C_T=0': -0.006257689992770372,\n",
       " 'chr1_191899139_C_G=2': 0.006193181554628644,\n",
       " 'chr12_49982617_C_G=2': 0.005926982242640091,\n",
       " 'chr7_51238333_A_G=2': 0.005915879359589499,\n",
       " 'rs11573041=2': 0.005862048366800222,\n",
       " 'rs12940064=2': -0.005806654647559895,\n",
       " 'kgp17470638=2': 0.005421645582672162,\n",
       " 'rs79459889=2': -0.0052952125391749335,\n",
       " 'rs17103452=2': -0.005204771626548844,\n",
       " 'rs2388742=1': 0.005188561795985213,\n",
       " 'chr12_28152993_A_G=0': -0.005152125491871474,\n",
       " 'chr20_1335187_C_T=2': 0.0050901312355721715,\n",
       " 'rs74458345=2': 0.005069973010069653,\n",
       " 'rs368243=0': 0.005064987534335615,\n",
       " 'rs4722557=0': 0.005013880857650127,\n",
       " 'rs62003561=2': 0.004904456792363549,\n",
       " 'rs7301270=2': -0.004865280870952575,\n",
       " 'chr12_19781229_C_T=2': -0.004844778110545008,\n",
       " 'rs602946=2': -0.0048369027636386884,\n",
       " 'chr11_69292337_C_T=2': -0.004813914478459809,\n",
       " 'rs12542492=2': 0.004807480508880633,\n",
       " 'chr2_217892714_C_T=0': 0.004762149481377563,\n",
       " 'rs17614209=2': 0.004749076257499677,\n",
       " 'chr2_8196361_A_C=2': 0.004650520559463886,\n",
       " 'rs1863390=0': 0.004637461600636973,\n",
       " 'rs7775178=1': 0.004634052128998013,\n",
       " 'chr2_28150862_A_C=0': -0.004586380144134167,\n",
       " 'chr8_142123272_C_T=2': 0.004579719521548612,\n",
       " 'chr4_89246214_G_T=0': 0.004558527303838373,\n",
       " 'rs11869626=0': -0.004493027651596309,\n",
       " 'chr13_87789734_C_T=2': 0.00443684528667326,\n",
       " 'c12_pos28072441=0': -0.0044149256175801625,\n",
       " 'rs3218820=2': 0.004390118947649074,\n",
       " 'chr1_2501064_A_G=2': -0.004361592198113199,\n",
       " 'rs2731938=0': 0.0043216186270478825,\n",
       " 'chr7_14143370_G_T=2': -0.00415123101313075,\n",
       " 'c3_pos157413713=2': 0.004133425238146917,\n",
       " 'chr18_24059940_AC_INDEL=2': 0.004118912129467376,\n",
       " 'chr12_96041527_C_T=2': 0.004109250839020689,\n",
       " 'chr1_121171942_A_G=0': -0.0041035653415916525,\n",
       " 'chrX_152710845_A_T=2': 0.004025101385936826,\n",
       " 'rs10752892=2': 0.004015888024022352,\n",
       " 'chr22_46273341_C_T=2': 0.0039459378730588544,\n",
       " 'rs273240=2': 0.003924621851402515,\n",
       " 'rs2749158=2': 0.003909354655258752,\n",
       " 'chr6_1606031_G_T=2': 0.003908857666197188,\n",
       " 'chr6_4812235_C_T=2': 0.0038966732797538904,\n",
       " 'chr10_52434758_A_G=2': -0.0038676021403891156,\n",
       " 'rs11489600=0': 0.0038665192200572746,\n",
       " 'rs1464758=2': -0.00385581495738223,\n",
       " 'rs11977670=0': 0.003807416710026689,\n",
       " 'chr7_5819799_C_G=2': -0.0037519032928555844,\n",
       " 'corect_rs186216026=2': 0.0037346016041354697,\n",
       " 'rs1274650=1': 0.003729391393027311,\n",
       " 'chr6_32479493_A_G=2': -0.003713137539230159,\n",
       " 'chr5_111413372_G_T=2': 0.0036853215540641224,\n",
       " 'chr5_56308632_A_G=2': 0.0036485110919066755,\n",
       " 'rs4100227=1': 0.0036352680450931294,\n",
       " 'chr14_78791625_C_T=2': -0.0036263786701262136,\n",
       " 'rs3814354=2': 0.003618323695178439,\n",
       " 'rs10805686=0': 0.003589744520977974,\n",
       " 'chr10_123352403_C_T=2': 0.0035821887034672576,\n",
       " 'rs1933909=2': -0.0035807045503357536,\n",
       " 'rs1771351=2': 0.0035734574302293577,\n",
       " 'chr19_56005289_C_T=2': -0.003564892804168954,\n",
       " 'chr5_656863_INDEL_TA=2': -0.003484931062804082,\n",
       " 'chr12_49720822_A_G=2': 0.0034810142879334403,\n",
       " 'rs17035311=2': 0.0034717644691942325,\n",
       " 'rs2343912=2': -0.0034563881939073,\n",
       " 'chr22_40921816_A_G=2': 0.003426681324046145,\n",
       " 'chr5_26657987_A_G=2': 0.0034117019786287046,\n",
       " 'chr3_63794592_C_T=2': 0.0034036602037361284,\n",
       " 'rs1869599=0': -0.003400138696513076,\n",
       " 'chr10_123367263_A_G=2': 0.0033858797470980775,\n",
       " 'rs17368005=2': 0.003354045311114711,\n",
       " 'rs3920005=2': 0.003342960558547562,\n",
       " 'rs4742901=2': 0.003338442267218626,\n",
       " 'rs2735846=2': 0.003330422488647024,\n",
       " 'chr6_41209997_A_C=0': -0.0033195944644287116,\n",
       " 'rs1250011=2': 0.0033175896202755684,\n",
       " 'chr3_27361880_C_T=2': 0.00329617081324559,\n",
       " 'rs4724080=2': 0.003289071818554616,\n",
       " 'rs1560835=2': 0.00328740226996745,\n",
       " 'rs10054818=2': -0.003281285277360252,\n",
       " 'rs7720787=0': 0.0032758309569394235,\n",
       " 'chr16_89246785_A_C=2': 0.00327328086056992,\n",
       " 'rs11119860=2': -0.0032721397547567756,\n",
       " 'rs12133543=0': 0.0032595355393674674,\n",
       " 'chr18_76310520_A_C=2': -0.003246710275098664,\n",
       " 'rs11248073=2': -0.0032311672975070035,\n",
       " 'rs36081634=2': 0.0032305548601661103,\n",
       " 'chr19_44001379_C_T=2': 0.0032192433247809483,\n",
       " 'rs2017964=2': -0.00320575934181183,\n",
       " 'chr5_81600339_A_G=2': 0.0031909303064803405,\n",
       " 'rs10808353=2': 0.003187911803785448,\n",
       " 'chr5_56245803_C_G=1': 0.0031874876745995226,\n",
       " 'rs80331021=2': -0.0031787232151842077,\n",
       " 'rs1061657=0': 0.003170310392153069,\n",
       " 'rs6447662=2': 0.003149140117874431,\n",
       " 'chr5_56324570_C_G=2': -0.00312996022017738,\n",
       " 'chr10_22736258_G_INDEL=2': 0.0031283914136387187,\n",
       " 'rs9397441=2': 0.003115574762497474,\n",
       " 'chr5_157160713_A_G=2': -0.0031132478954763185,\n",
       " 'rs4846235=1': -0.0031031104340615043,\n",
       " 'chr1_211854329_A_G=2': 0.003055825762523049,\n",
       " 'rs10097200=1': 0.003055285823711832,\n",
       " 'chr3_4729632_C_T=0': -0.0030498909552611714,\n",
       " 'chr12_28530125_C_G=2': 0.0030446703159169313,\n",
       " 'chr5_56006008_A_C=2': -0.0030404140246461315,\n",
       " 'chr3_56034298_C_T=2': 0.003035341976129965,\n",
       " 'chr3_27257943_A_G=2': 0.0030305759947905366,\n",
       " 'rs35986494=2': 0.00302435818769952,\n",
       " 'chr18_24263142_GC_INDEL=2': -0.003014205919778961,\n",
       " 'rs13004652=1': 0.003007572263133907,\n",
       " 'rs4600441=0': -0.0029972436717777854,\n",
       " 'chr22_40829953_A_T=2': 0.002988825182825092,\n",
       " 'rs2322053=2': 0.0029866969244448003,\n",
       " 'chr11_32938165_A_G=2': 0.0029753429080441253,\n",
       " 'chr7_30322482_A_T=2': -0.0029677799447887896,\n",
       " 'chr5_158264020_A_G=1': 0.0029610377748416844,\n",
       " 'rs17756000=2': -0.002940812130781931,\n",
       " 'rs12665607=2': -0.002925358063419048,\n",
       " 'rs1590016=2': -0.002910641879111916,\n",
       " 'chr22_40870488_C_T=2': -0.0029058063896654227,\n",
       " 'chr12_28163500_C_T=2': -0.002895599957643045,\n",
       " 'rs3217986=2': -0.0028948405863040484,\n",
       " 'rs579740=2': -0.002889485477908981,\n",
       " 'rs2232818=2': -0.0028798849690772235,\n",
       " 'rs2806532=0': 0.0028589713712923646,\n",
       " 'chr8_29529168_A_C=2': -0.002856154812383849,\n",
       " 'rs801752=2': -0.0028501926327378422,\n",
       " 'chr22_40895706_A_T=2': 0.0028374743197195802,\n",
       " 'rs12655019=2': -0.0028356308269493666,\n",
       " 'rs725453=1': 0.0028344586406529484,\n",
       " 'chr19_9322661_C_T=2': -0.0028340341097138426,\n",
       " 'rs965001=0': -0.002833563254059247,\n",
       " 'chr17_53053379_G_T=2': 0.0028330845558305366,\n",
       " 'rs2903992=0': -0.002823962788930269,\n",
       " 'rs13234407=0': 0.002811473144090774,\n",
       " 'rs72758096=2': 0.002804207925011098,\n",
       " 'chr4_16013048_C_T=1': 0.002793160768067773,\n",
       " 'rs55662420=2': -0.002785976527292956,\n",
       " 'chr11_2597984_A_G=2': -0.002778626045355127,\n",
       " 'chr5_56248636_C_G=2': 0.0027754574855579223,\n",
       " 'rs77514138=2': -0.002773247834159955,\n",
       " 'chr15_47382817_C_T=2': -0.0027730783762384046,\n",
       " 'rs17031739=2': -0.002756519342814396,\n",
       " 'rs363500=2': 0.002752953213112288,\n",
       " 'chr19_23254894_A_G=2': -0.002743450768723677,\n",
       " 'rs9462199=2': 0.002741933492372136,\n",
       " 'chr5_56025682_A_G=2': -0.002734814307344849,\n",
       " 'c10_pos123357237=2': -0.002731982766703653,\n",
       " 'chr10_123405138_C_G=2': 0.0027284712872169647,\n",
       " 'rs11677299=2': 0.002717856891488715,\n",
       " 'chr19_44296006_A_G=2': 0.002710291138850005,\n",
       " 'chr4_143980541_C_T=2': -0.0027076903824821783,\n",
       " 'chr19_44397225_C_G=2': -0.002700361077796215,\n",
       " 'chr3_47333129_A_G=2': -0.002695849982006083,\n",
       " 'kgp17135476=2': 0.002682337852169136,\n",
       " 'chr1_41486600_C_G=2': 0.0026766297256579897,\n",
       " 'rs7544119=0': 0.002676244593328143,\n",
       " 'chr6_32470283_A_C=0': -0.002666841822572781,\n",
       " 'chr13_32813518_C_T=2': -0.0026663341029593947,\n",
       " 'rs36225442=2': 0.002661540830825221,\n",
       " 'rs973497=0': 0.0026534930865696024,\n",
       " 'rs34997141=2': 0.002633355257735019,\n",
       " 'rs4345357=2': -0.0026323347986379995,\n",
       " 'rs12469813=2': -0.0026263523576594613,\n",
       " 'chr17_53222920_C_T=2': 0.002626055789261828,\n",
       " 'rs12657615=2': -0.0026210123310163513,\n",
       " 'rs11624097=2': 0.002603064524758032,\n",
       " 'chr22_40854814_A_G=2': -0.002600525890178264,\n",
       " 'chr1_1914124_C_T=2': -0.0025956243545745433,\n",
       " 'chr8_31125843_C_T=2': 0.0025939743389588646,\n",
       " 'rs45631580=2': -0.002593077323854635,\n",
       " 'rs3215401=1': -0.002589078675256921,\n",
       " 'rs16901964=1': 0.0025849477259103364,\n",
       " 'rs7711697=0': 0.0025717067635492538,\n",
       " 'chr22_40968152_C_T=2': 0.0025687874160739404,\n",
       " 'rs7728598=2': -0.0025643956898468065,\n",
       " 'chr17_53137974_A_G=2': 0.0025611588122556907,\n",
       " 'rs12456284=2': 0.0025605590570187274,\n",
       " 'chr13_97858238_A_G=2': 0.0025579583326037153,\n",
       " 'chr5_56310641_G_T=2': -0.0025399203065792015,\n",
       " 'chr8_76373807_A_G=2': -0.002537244088839061,\n",
       " 'chr2_218245294_C_T=2': -0.0025372363599390955,\n",
       " 'chr6_32552168_A_G=2': -0.0025303164057249774,\n",
       " 'chr22_42854569_C_G=2': -0.0025260121025717642,\n",
       " 'rs2540334=2': -0.002521618115815318,\n",
       " 'rs352678=2': -0.0025171674702920486,\n",
       " 'rs79165890=2': -0.0025045928621897457,\n",
       " 'chr4_175831761_A_C=2': -0.0024937950550059217,\n",
       " 'chr8_36819382_A_G=2': 0.002489808231773726,\n",
       " 'chr21_16533640_A_C=1': -0.002488605731428674,\n",
       " 'chr5_111114379_G_T=2': 0.0024800310984272943,\n",
       " 'chr5_158268426_C_T=2': 0.0024760000594674135,\n",
       " 'chr5_121426675_A_G=2': -0.0024751299168951847,\n",
       " 'rs16823301=2': -0.0024723489144610564,\n",
       " 'chr4_27297599_C_T=2': -0.002466983070820291,\n",
       " 'rs7025424=1': 0.0024462582623080566,\n",
       " 'chr18_76753768_G_INDEL=0': -0.002443720862797301,\n",
       " 'rs1295780=1': 0.0024423614774130094,\n",
       " 'chr8_128146308_G_T=2': -0.0024395513560824256,\n",
       " 'corect_rs137869059=0': 0.00243361377245375,\n",
       " 'chr5_56044903_C_T=2': -0.0024246624684229746,\n",
       " 'chr5_169576649_A_G=2': -0.002423478102067762,\n",
       " 'chr1_121211608_A_G=2': -0.0024211161066662245,\n",
       " 'rs6545420=1': 0.0024159073514593184,\n",
       " 'chr13_28286430_C_T=2': 0.0024132562625012377,\n",
       " 'chr13_74357374_C_T=2': 0.00241245253671453,\n",
       " 'rs2218081=0': 0.0024077289109459476,\n",
       " 'chr5_56127866_A_G=2': 0.002400524097305148,\n",
       " 'chr5_56052938_C_T=2': -0.0023970862190967252,\n",
       " 'chr17_53221368_A_G=2': 0.0023729401722447354,\n",
       " 'rs75465291=2': 0.002364200616269077,\n",
       " 'chr10_123381255_C_T=2': 0.002353101624880122,\n",
       " 'chr17_44365374_C_T=1': -0.002346365862998165,\n",
       " 'rs10886958=2': -0.0023452619936092335,\n",
       " 'rs9275851=0': 0.0023417478988128552,\n",
       " 'rs10402322=2': 0.0023411965066058075,\n",
       " 'rs13186320=2': 0.0023388994451999075,\n",
       " 'chr5_81370760_C_T=2': -0.002334483254361037,\n",
       " 'rs3814318=0': 0.0023252040096722747,\n",
       " 'rs1744949=1': 0.00231809296454897,\n",
       " 'rs10279084=2': -0.0023160334856382175,\n",
       " 'chr16_52575907_A_G=2': -0.0023084464649740792,\n",
       " 'chr17_53163478_A_T=2': 0.0023032590474336262,\n",
       " 'chr22_40984571_C_T=2': -0.002302858012681592,\n",
       " 'chr9_110303538_GT_INDEL=1': 0.002300465676415235,\n",
       " 'chr5_56163787_A_G=1': 0.0022956227512782993,\n",
       " 'rs4879262=2': 0.002289366833632999,\n",
       " 'chr16_52565641_G_T=2': -0.002284660045351644,\n",
       " 'rs72658071=2': -0.002284066396572406,\n",
       " 'rs12547541=1': -0.002281444546639875,\n",
       " 'rs1627990=0': 0.00226046010535228,\n",
       " 'chr5_81322547_A_G=2': 0.0022600282231436406,\n",
       " 'rs670170=2': -0.002259822464593243,\n",
       " 'rs78620707=2': -0.0022516849729615073,\n",
       " 'kgp4843671=2': 0.0022480121696475098,\n",
       " 'rs24023=2': -0.002245025128479985,\n",
       " 'rs7725377=2': -0.0022434369392259953,\n",
       " 'corect_rs117045048=2': -0.002240059365673723,\n",
       " 'chr5_56064107_A_G=2': 0.002235012180214678,\n",
       " 'rs12917403=1': -0.0022334720877624907,\n",
       " 'rs13016963=2': -0.0022334399264049435,\n",
       " 'rs1151523=1': 0.0022306437218050164,\n",
       " 'rs383748=2': 0.0022283352587794862,\n",
       " 'chr4_42107115_A_G=2': 0.0022202090650726737,\n",
       " 'chr10_123436524_C_T=2': 0.0022199356620384103,\n",
       " 'chr5_56103809_A_G=2': -0.002218531625812375,\n",
       " 'exm1555702=2': -0.0022181673667385844,\n",
       " 'rs45631611=2': -0.00221437208387819,\n",
       " 'chr10_64276964_A_C=1': -0.0021941768863253754,\n",
       " 'rs1268974=1': 0.0021926741139182792,\n",
       " 'rs10054419=2': 0.002190595766533653,\n",
       " 'chr1_10879725_A_G=2': 0.002185180608416598,\n",
       " 'chr12_96037389_A_T=0': -0.0021829429931694475,\n",
       " 'chr5_176734657_C_T=2': 0.0021748247911275186,\n",
       " 'chr12_28151609_A_C=0': -0.0021738859491503815,\n",
       " 'chr5_56165914_A_G=2': -0.0021644033974917492,\n",
       " 'c5_pos56279723=2': -0.00215889275768088,\n",
       " 'chr18_9111084_C_T=2': 0.0021433359977798784,\n",
       " 'chr20_62328445_ACAACCGTG_INDEL=2': -0.002139379821230094,\n",
       " 'chr5_44644495_A_G=0': 0.0021350349889771737,\n",
       " 'rs34636650=2': 0.002129733484969225,\n",
       " 'corect_rs148099022=2': 0.002122584535053396,\n",
       " 'rs13174122=1': -0.0021161673439257424,\n",
       " 'chr16_5437728_C_G=2': 0.0021084250184293927,\n",
       " 'rs2970653=0': 0.0020926063370213374,\n",
       " 'chr10_123288977_G_T=2': 0.002087385843758165,\n",
       " 'rs7870781=2': 0.0020490266279199203,\n",
       " 'chr16_52620577_C_T=2': 0.0020407751386612226,\n",
       " 'rs45631632=2': 0.0020382443734250012,\n",
       " 'rs1182154=1': 0.002037226365136436,\n",
       " 'rs2420946=1': 0.002029857211094166,\n",
       " 'chr8_76338122_C_T=1': 0.002026832127190819,\n",
       " 'chr3_27368875_C_G=2': 0.002025380284144672,\n",
       " 'chr16_52630145_C_G=2': 0.002024042888068368,\n",
       " 'chr8_36832310_A_G=2': 0.002021558956256179,\n",
       " 'rs6452953=2': 0.002020776175909738,\n",
       " 'rs727670=0': 0.0020116525606444988,\n",
       " 'c10_pos123426824=2': -0.0020093391407147677,\n",
       " 'chr14_76144828_A_G=2': 0.0020092419968898993,\n",
       " 'chr3_2336399_C_T=2': -0.002006968122168497,\n",
       " 'chr7_12687945_A_G=2': -0.0020042063430735168,\n",
       " 'rs12451886=1': 0.002003017174967327,\n",
       " 'rs72750030=2': 0.0019997027070983845,\n",
       " 'rs9790115=0': -0.0019987660851583273,\n",
       " 'chr10_52043987_C_T=2': -0.0019952002256499366,\n",
       " 'chr14_71179985_C_T=2': -0.0019924193670146527,\n",
       " 'chr12_28363760_A_C=0': -0.001975662002399481,\n",
       " 'rs75915166=2': -0.0019746024342446587,\n",
       " 'chr1_226923938_A_C=1': -0.0019729109595599524,\n",
       " 'chr14_37140781_A_G=2': -0.0019465381059253733,\n",
       " 'rs59750788=2': -0.0019312571516202116,\n",
       " 'rs9386604=0': 0.001930675255468229,\n",
       " 'rs4752586=2': -0.0019125872379388883,\n",
       " 'chr6_32482491_C_G=2': 0.0019121618576621617,\n",
       " 'rs16963205=2': -0.0019046778937716446,\n",
       " 'rs10098985=1': 0.0019046324400331242,\n",
       " 'chr5_44619754_A_G=2': 0.0019038201741186957,\n",
       " 'rs997066=1': 0.0019026076540840978,\n",
       " 'chr9_111002172_C_T=1': 0.0019007177375260232,\n",
       " 'chr16_52577504_A_G=2': 0.0018975682213996932,\n",
       " 'chr2_217969552_A_G=2': 0.0018941480227503754,\n",
       " 'chr1_97788840_A_G=2': -0.0018904667963512884,\n",
       " 'chr8_130380476_C_T=2': 0.0018901816704588418,\n",
       " 'rs55920378=0': 0.0018894946030644847,\n",
       " 'chr1_10730002_A_G=2': -0.0018848401896151906,\n",
       " 'rs6495122=2': 0.0018833665156582449,\n",
       " 'chr4_107862280_A_C=2': -0.0018786788632683198,\n",
       " 'rs12541064=0': 0.0018712734574415969,\n",
       " 'chr8_76375777_C_T=2': -0.0018667679752869132,\n",
       " 'chr5_90789470_A_G=2': 0.0018666733373050276,\n",
       " 'chr3_27054003_C_T=2': 0.0018589602995347624,\n",
       " 'chr22_40779964_A_G=2': -0.0018531964993178706,\n",
       " 'corect_rs148851713=2': 0.0018515377322146779,\n",
       " 'rs62090589=2': 0.001843245801815805,\n",
       " 'rs6803471=0': -0.0018389009451378819,\n",
       " 'rs9273112=0': -0.0018343965432877749,\n",
       " 'chr2_150721127_A_C=2': 0.0018330772974743583,\n",
       " 'chr2_217860966_C_T=1': 0.0018273993259617072,\n",
       " 'corect_rs56404467=2': 0.0018267414368301992,\n",
       " 'chr6_32529177_A_G=2': -0.0018200478354843074,\n",
       " 'rs4636400=1': 0.001815812580811014,\n",
       " 'rs10979227=2': 0.0018154757375851013,\n",
       " 'rs8082622=2': 0.0018139736332864799,\n",
       " 'rs35890856=1': -0.001811395369994797,\n",
       " 'chr16_52575279_A_T=2': -0.0018106026465576383,\n",
       " 'chr7_118831547_C_T=2': -0.0018087444714031278,\n",
       " 'rs10064567=2': -0.0018063843942626389,\n",
       " 'c5_pos56174939=2': -0.0018016822840418118,\n",
       " 'rs419018=1': 0.0018009775250686976,\n",
       " 'rs35784892=2': -0.0018004712951195804,\n",
       " 'chr18_42394381_A_T=2': -0.0017973914844507549,\n",
       " 'chr19_44294849_A_G=2': 0.0017926171994295294,\n",
       " 'chr4_114651107_A_G=2': -0.001773930812759294,\n",
       " 'chr12_28172545_A_G=2': -0.0017728949240947611,\n",
       " 'rs1159906=2': 0.0017598792848685272,\n",
       " 'chr1_10719375_G_INDEL=2': -0.0017589271996798792,\n",
       " 'chr5_56001002_C_G=2': 0.0017483166639632938,\n",
       " 'chr17_52979985_C_T=2': 0.001744698066921456,\n",
       " 'chr3_27284083_A_G=2': -0.0017393720779961379,\n",
       " 'chr22_40855788_C_T=2': 0.001735868866586106,\n",
       " 'rs17549261=2': 0.001735505100584741,\n",
       " 'rs55865274=1': -0.0017302203830339943,\n",
       " 'chr16_52639236_C_T=2': -0.0017227776647023797,\n",
       " 'chr7_139943267_C_T=0': 0.001721891934233592,\n",
       " 'chr16_88835229_C_T=2': -0.0017090292400486085,\n",
       " 'rs28550561=2': -0.001705985318493751,\n",
       " 'rs10872676=2': -0.0017056722110999946,\n",
       " 'chr12_95088149_C_T=2': -0.0017043308570586398,\n",
       " 'chr4_175847144_A_T=2': 0.0017039709490886438,\n",
       " 'rs669329=1': 0.0017008874876850962,\n",
       " 'chr17_53127924_C_T=2': 0.0017001961202638652,\n",
       " 'rs2547115=1': -0.0016996016247865444,\n",
       " 'chr19_44408973_A_C=2': -0.0016985409498562064,\n",
       " 'chr3_27263248_C_G=2': 0.0016975135701952943,\n",
       " 'chr3_27343644_C_T=2': -0.0016943013422461653,\n",
       " 'chr21_20106580_A_G=2': -0.0016939209151337936,\n",
       " 'rs10956362=1': -0.001690440521532185,\n",
       " 'rs1052067=2': -0.0016785528153051143,\n",
       " 'rs595107=1': -0.0016635274419274173,\n",
       " 'chr5_56238204_A_G=2': -0.001663123590866131,\n",
       " 'rs743605=1': 0.0016630828283703786,\n",
       " 'chr8_76393596_A_T=2': -0.001660148336956126,\n",
       " 'rs4695984=2': 0.0016593636255166323,\n",
       " 'rs1384331=2': -0.0016554291827352147,\n",
       " 'chr18_24531290_C_INDEL=2': -0.0016493485538800676,\n",
       " 'chr16_53809247_A_G=1': 0.0016413931923586838,\n",
       " 'rs67257959=1': 0.0016363096275983787,\n",
       " 'rs56116165=2': -0.0016359051036350845,\n",
       " 'chr5_56080347_C_T=1': -0.0016358463625979266,\n",
       " 'rs398099=2': -0.0016339445011153463,\n",
       " 'chr3_4758244_G_T=2': -0.0016292917769341055,\n",
       " 'chr19_44410846_A_G=2': -0.0016268368806175062,\n",
       " 'chr5_56047342_A_C=2': -0.0016242273479904609,\n",
       " 'corect_rs116417157=2': -0.0016165126191480736,\n",
       " 'rs7763637=1': -0.0016116747512579653,\n",
       " 'chr9_110630326_C_T=2': 0.0016086330242701197,\n",
       " 'chr3_30684907_C_T=1': 0.0016071781172020407,\n",
       " 'rs1061651=0': 0.0016069293150486822,\n",
       " 'rs10816528=1': 0.0016059034546734457,\n",
       " 'rs8017501=2': 0.0016056570949814241,\n",
       " 'chr8_29431707_G_T=1': 0.0016050803999879894,\n",
       " 'chr19_44401793_A_G=2': -0.0016048139967311192,\n",
       " 'rs9355450=2': 0.0016017442434062285,\n",
       " 'chr5_56025200_C_G=2': 0.0016015476037076427,\n",
       " 'chr6_168224685_C_T=2': -0.0015989509712208555,\n",
       " 'rs442882=1': 0.001595889518545311,\n",
       " 'chr8_29504917_A_G=2': 0.0015949818800772785,\n",
       " 'rs12159200=2': 0.0015947905858726033,\n",
       " 'rs1420533=0': -0.0015722103595858484,\n",
       " 'chr7_75175924_C_T=1': 0.0015699160051281008,\n",
       " 'chr19_43866449_A_G=2': -0.0015689105124809632,\n",
       " 'rs2361543=1': 0.00156838717600664,\n",
       " 'rs637635=1': 0.0015620353904323649,\n",
       " 'rs2824268=1': 0.0015581463343807061,\n",
       " 'chr5_56184926_C_G=2': 0.001556886663488253,\n",
       " 'chr11_65631167_C_T=1': -0.001555952488793325,\n",
       " 'rs7198953=2': 0.001555933865645756,\n",
       " 'rs136832=2': 0.0015475272348417866,\n",
       " 'chr22_40825814_A_G=2': 0.0015425692288108805,\n",
       " 'rs12540711=0': -0.0015393994967716597,\n",
       " 'rs7237501=2': 0.001530645713699588,\n",
       " 'rs2897261=1': 0.0015294874323075176,\n",
       " 'rs66478960=1': -0.0015185706305283133,\n",
       " 'chr2_217860799_A_T=1': -0.0015172774580583164,\n",
       " 'chr3_27249284_A_G=2': -0.0015110543638613178,\n",
       " 'chr6_127899971_A_T=2': -0.0015086517552503368,\n",
       " 'rs3804989=2': -0.0015080710154336569,\n",
       " 'chr4_183646766_A_T=2': 0.0015064059148555172,\n",
       " 'rs2027342=2': 0.0015058082659750584,\n",
       " 'rs561337=2': -0.0014978499215667724,\n",
       " 'chr5_55995869_C_T=2': -0.001496154145850176,\n",
       " 'rs6557161=1': 0.0014916788423452842,\n",
       " 'chr11_115507980_C_T=2': 0.0014915308684165008,\n",
       " 'chr16_53837144_G_T=1': 0.001488136201109595,\n",
       " 'chr10_64278874_C_T=1': -0.0014864556130658765,\n",
       " 'chr3_4738774_A_G=0': -0.0014843596081640731,\n",
       " 'chr22_40920723_INDEL_TCCA=2': -0.001473246542658331,\n",
       " 'chr5_56040643_C_T=2': -0.0014681216134648305,\n",
       " 'chr9_106715989_C_T=2': -0.0014623260602293715,\n",
       " 'chr5_55878492_C_T=2': -0.001459921453089742,\n",
       " 'chr3_147484611_C_T=1': 0.0014501789406535267,\n",
       " 'rs6883371=1': 0.0014471832724266553,\n",
       " 'chr17_56180576_C_T=2': 0.0014465554346598155,\n",
       " 'chr18_42415090_A_G=2': 0.0014430500084969173,\n",
       " 'chr3_2286992_A_T=2': 0.0014412041757997525,\n",
       " 'chr9_119617228_G_T=2': -0.0014396605451755925,\n",
       " 'c5_pos44839303=2': 0.0014382510900496084,\n",
       " 'rs992423=0': 0.001433594002677646,\n",
       " 'chr5_158227898_A_G=1': -0.0014331853864186822,\n",
       " 'chr3_37221053_C_G=2': 0.0014326111979472748,\n",
       " 'chr19_23920150_A_G=2': 0.001427497193983609,\n",
       " 'rs3732047=2': 0.0014205961160119532,\n",
       " 'rs36693=2': -0.0014195646655968145,\n",
       " 'rs3756586=2': -0.0014138292655638185,\n",
       " 'chr18_24094369_A_G=1': 0.0014096840129861118,\n",
       " 'chr5_56001407_C_T=2': 0.0014030553812546314,\n",
       " 'chr12_96021033_C_T=2': -0.0013955482617630248,\n",
       " 'chr16_80652476_C_T=2': 0.0013913145466691978,\n",
       " 'chr14_37128564_A_C=2': -0.001391276082819553,\n",
       " 'chr4_153848128_A_G=2': 0.0013857181814703125,\n",
       " 'exm433046=2': 0.001384942325680084,\n",
       " 'chr9_110900418_A_G=2': 0.0013843503645381628,\n",
       " 'rs12242201=2': -0.0013810420094271386,\n",
       " 'rs381551=2': 0.0013743430129900085,\n",
       " 'kgp2633599=2': 0.0013741288710960057,\n",
       " 'rs11733534=0': 0.0013738256080783108,\n",
       " 'chr8_29516481_A_G=2': 0.001373137633257183,\n",
       " 'chr8_36778319_A_G=2': 0.0013639492327811897,\n",
       " 'rs11609105=0': 0.0013523396723886868,\n",
       " 'chr5_158207587_A_G=2': 0.0013474604159415952,\n",
       " 'rs78205285=2': 0.0013430646137123593,\n",
       " 'rs2669264=2': -0.0013402031631048951,\n",
       " 'chr19_44281898_A_G=2': -0.0013399448561745534,\n",
       " 'rs7006882=1': 0.0013382809647640799,\n",
       " 'chr19_44414467_C_G=2': -0.0013381998190952784,\n",
       " 'chr2_64300944_G_T=1': -0.0013352926755370708,\n",
       " 'chr6_41314955_A_C=0': -0.001334615356302459,\n",
       " 'chr6_13713099_A_G=2': -0.0013343834222161977,\n",
       " 'rs4975994=2': 0.0013341408293883414,\n",
       " 'rs12445424=0': -0.0013338271084861397,\n",
       " 'chr16_80649830_A_G=2': -0.0013291878055471972,\n",
       " 'chr22_40979164_A_G=2': 0.0013179597343535021,\n",
       " 'rs13329835=2': -0.001316052884730792,\n",
       " 'rs73122199=2': -0.0013143819885718313,\n",
       " 'rs719426=1': 0.0013143142912585954,\n",
       " 'chr6_32590428_C_T=2': -0.0013133001444521337,\n",
       " 'rs9918437=2': -0.0013127933141017232,\n",
       " 'chr5_44858451_A_G=0': 0.0013108480404655733,\n",
       " 'chr6_32456753_C_T=1': 0.0013094050770997212,\n",
       " 'chr17_53271365_G_T=2': -0.0013000218121670697,\n",
       " 'chr8_76388982_C_T=2': 0.001298367882675504,\n",
       " 'chr8_76328331_A_G=2': 0.0012976091531113835,\n",
       " 'rs45631581=2': -0.0012859418786718177,\n",
       " 'chr9_110900060_C_T=2': -0.0012857242546789086,\n",
       " 'chr3_27360463_C_T=2': -0.0012812280769174482,\n",
       " 'rs73756772=2': -0.00128080476807292,\n",
       " 'chr10_123423047_A_G=2': -0.0012790596055540769,\n",
       " 'c3_pos27038052=1': -0.001276137888814709,\n",
       " 'chr9_111034825_A_C=1': -0.001275210515269507,\n",
       " 'chr10_123419652_A_G=2': 0.0012716510617355437,\n",
       " 'rs10941677=0': 0.0012625008402032342,\n",
       " 'rs7224905=2': -0.0012585001805602285,\n",
       " 'chr21_26091601_A_G=1': 0.0012579125821402235,\n",
       " 'rs74854644=1': 0.0012561067785052883,\n",
       " 'rs6029145=2': -0.0012524866418007717,\n",
       " 'chr21_16542909_A_INDEL=2': -0.0012520529136505277,\n",
       " 'chr3_141106954_A_T=2': -0.0012515110586299113,\n",
       " 'chr11_75324599_A_G=2': -0.0012504033824808016,\n",
       " 'rs9948=2': 0.0012445614413457773,\n",
       " 'rs3748317=2': -0.0012438318188322062,\n",
       " 'chr5_56112698_C_T=2': -0.0012397784911013367,\n",
       " 'chr16_52566454_G_T=0': -0.0012358430886233378,\n",
       " 'chr3_27123670_A_G=1': 0.0012336433402355418,\n",
       " 'rs1608651=1': 0.0012314452888127281,\n",
       " 'chr16_52643924_C_T=2': 0.0012286777400747821,\n",
       " 'chr3_27089482_C_T=2': 0.0012281999051989773,\n",
       " 'chr10_123441192_A_T=2': 0.0012189394905277732,\n",
       " 'chr5_56206675_A_C=1': 0.0012188793214166892,\n",
       " 'chr13_19524950_A_G=1': 0.0012166221952877847,\n",
       " 'chr9_110892030_C_G=2': 0.001214137724679266,\n",
       " 'chr5_56109154_A_G=1': -0.001213855545641287,\n",
       " 'rs10816653=1': -0.0012136759396557078,\n",
       " 'chr5_56062821_G_T=2': -0.0012111819254072898,\n",
       " 'chr2_217839801_G_T=2': 0.0012045640718144719,\n",
       " 'chr17_70130892_A_G=2': 0.001202011534677062,\n",
       " 'chr2_218258530_C_T=2': -0.0011976199347651043,\n",
       " 'chr11_24623826_A_G=2': 0.001197284706734986,\n",
       " 'chr6_138734024_A_G=2': -0.0011972301083841854,\n",
       " 'chr22_28999668_A_C=2': 0.001196296456274688,\n",
       " 'chr5_56222358_A_T=1': 0.001196108671380035,\n",
       " 'rs2868486=2': 0.0011949991048314154,\n",
       " 'rs832402=1': -0.0011947259454559104,\n",
       " 'chr12_28169335_C_T=2': 0.0011906741930340107,\n",
       " 'rs13270266=2': -0.001190531928277244,\n",
       " 'chr19_44423195_A_G=2': -0.0011858587712722441,\n",
       " 'corect_rs114894999=2': 0.0011840850060761167,\n",
       " 'chr4_175854469_C_T=2': -0.0011813620987817216,\n",
       " 'chr12_28174569_C_T=2': -0.0011772540827987294,\n",
       " 'rs519144=1': 0.0011764112265599533,\n",
       " 'chr6_32659535_A_C=2': 0.0011716536604137065,\n",
       " 'rs8063248=2': -0.0011700525334440769,\n",
       " 'chr17_53166495_A_T=2': -0.0011698449254771315,\n",
       " 'chr5_56233737_A_C=2': -0.0011680929452712767,\n",
       " 'chr11_130943681_A_G=2': 0.00116419804407427,\n",
       " 'chr10_64273026_A_G=1': 0.0011609989630611908,\n",
       " 'rs868895=1': -0.001158133205098696,\n",
       " 'rs6914432=1': 0.0011568883600015253,\n",
       " 'chr22_40901345_C_T=2': -0.0011535189507981825,\n",
       " 'rs1110776=2': -0.001150740371141877,\n",
       " 'rs643753=1': -0.001150371266737949,\n",
       " 'rs28379235=2': -0.0011492591968350447,\n",
       " 'chr14_69045460_A_T=1': -0.00114909789833428,\n",
       " 'rs4980383=1': -0.0011488732176030201,\n",
       " 'rs10462079=0': -0.00114587517684377,\n",
       " 'rs7718871=2': 0.0011451270898990627,\n",
       " 'chr19_44376681_G_T=2': 0.0011420648275407535,\n",
       " 'chr12_28153018_A_G=2': -0.0011339321471371744,\n",
       " 'chr16_53798622_G_T=1': 0.0011333978428366429,\n",
       " 'chr17_53222874_A_G=2': 0.0011331667715005584,\n",
       " 'rs1558901=1': -0.0011245040644908462,\n",
       " 'rs78591923=2': 0.0011235561071573895,\n",
       " 'rs595821=1': 0.0011227864837388328,\n",
       " 'rs793443=2': -0.001121326180317454,\n",
       " 'chr3_86895086_G_T=2': 0.001116135006114848,\n",
       " 'rs1476413=2': 0.0011151005272552338,\n",
       " 'chr2_202124502_G_T=2': 0.0011126140635500973,\n",
       " 'chr5_111109059_G_T=0': 0.001110757383659463,\n",
       " 'rs11485175=2': 0.001109528976297641,\n",
       " 'rs7923788=2': 0.0011065246574691267,\n",
       " 'chr12_8786982_C_T=2': 0.0011039906568831909,\n",
       " 'chr11_46015152_C_T=2': -0.001102929221029491,\n",
       " 'chr3_141094769_A_C=2': 0.001097990238919927,\n",
       " 'rs900195=0': 0.0010966777014875379,\n",
       " 'chr5_56042972_C_T=2': 0.0010920776617108488,\n",
       " 'chr19_44403055_A_G=2': -0.0010850252124017445,\n",
       " 'rs1274644=1': 0.001081334056585267,\n",
       " 'rs6122372=2': 0.001079059433079558,\n",
       " 'rs341832=0': 0.0010727267481374222,\n",
       " 'rs6838519=1': -0.0010709949475219674,\n",
       " 'chr12_28171528_A_T=2': 0.0010604691767957164,\n",
       " 'rs10255163=2': 0.001057416367603556,\n",
       " 'chr11_65712413_A_G=1': 0.0010535267475919013,\n",
       " 'chr5_56046651_C_T=2': -0.0010529771707372278,\n",
       " 'chr2_111735129_G_T=2': -0.0010482021932538411,\n",
       " 'rs17015259=1': 0.0010469879467144545,\n",
       " 'chr8_29502120_A_G=0': 0.0010465470635357718,\n",
       " 'chr3_27356779_C_G=2': 0.001045836580514244,\n",
       " 'chr22_40870794_C_T=2': -0.0010452484307616667,\n",
       " 'chr19_44426265_A_G=2': -0.0010438245007917942,\n",
       " 'chr5_158222797_C_T=2': 0.0010417477770569338,\n",
       " 'rs7319261=2': 0.0010411901380155428,\n",
       " 'rs1566307=2': -0.0010317148966721146,\n",
       " 'chr14_37113093_A_G=2': -0.0010311123953613054,\n",
       " 'chr3_27250003_C_G=2': -0.0010232880237036324,\n",
       " 'rs6743216=2': 0.001022023222595349,\n",
       " 'chr17_53048469_C_T=2': 0.0010181327987383052,\n",
       " 'rs7155764=1': -0.0010141490430863838,\n",
       " 'rs865898=2': -0.0010130051869707644,\n",
       " 'rs17741337=2': -0.0010120670786915955,\n",
       " 'chr16_80674445_C_G=2': 0.0010112941700595424,\n",
       " 'chr4_16241116_A_G=2': -0.001005915464395115,\n",
       " 'chr12_96027873_C_T=2': -0.0010043172287079241,\n",
       " 'rs11748868=2': -0.0010011255645864198,\n",
       " 'c5_pos56053644=2': -0.0009984819505668547,\n",
       " 'rs77275268=2': 0.0009963565293191433,\n",
       " 'chr8_25935017_CA_INDEL=2': 0.0009881057724254747,\n",
       " 'chr22_40905072_A_G=2': 0.000982772907585685,\n",
       " 'rs13333789=1': -0.0009800081534302668,\n",
       " 'chr15_93691968_C_T=1': -0.0009769221902796762,\n",
       " 'chr3_27281689_A_T=2': 0.0009728398618546182,\n",
       " 'rs410649=2': -0.0009713105462256353,\n",
       " 'chr22_40886993_C_T=2': -0.0009698884595364934,\n",
       " 'chr8_17426274_A_G=2': -0.0009680970714391245,\n",
       " 'rs1290999=1': -0.0009641631379283778,\n",
       " 'chr11_69471746_C_T=2': 0.0009551162601577834,\n",
       " 'chr5_56196276_A_G=2': -0.0009528444076401268,\n",
       " 'chr16_53801549_C_T=1': -0.0009525330610891344,\n",
       " 'rs9271106=2': 0.0009503348123480793,\n",
       " 'rs132358=2': -0.0009495106951366756,\n",
       " 'chr11_65631881_A_G=1': 0.0009432989642709123,\n",
       " 'chr8_76522680_A_G=2': 0.000936743288691501,\n",
       " 'rs2823139=2': -0.0009362037613633267,\n",
       " 'chr3_27337929_A_G=2': 0.0009341535914420442,\n",
       " 'chr14_37095987_C_T=1': 0.00093410718045954,\n",
       " 'rs4844616=0': 0.0009340785889826687,\n",
       " 'chr21_16505031_A_G=2': 0.0009308946157749563,\n",
       " 'c3_pos27212439=2': 0.0009260532722870866,\n",
       " 'chr5_49511425_C_T=2': 0.0009234356216640684,\n",
       " 'chr3_27297684_A_C=2': 0.0009213487983720258,\n",
       " 'chr17_53083122_A_G=2': -0.0009170419914416923,\n",
       " 'rs17083080=2': -0.0009139497050859526,\n",
       " 'chr20_30402237_C_G=2': -0.0009131788030978968,\n",
       " 'chr2_217895626_A_G=1': -0.000911813386513828,\n",
       " 'rs227228=1': -0.0009061499993051711,\n",
       " 'rs72846765=2': 0.0009011360158614725,\n",
       " 'chr5_56010465_A_C=2': -0.0009001954878289899,\n",
       " 'chr12_8779896_C_T=2': 0.0008967898901092062,\n",
       " 'rs11951657=1': 0.0008947458712047734,\n",
       " 'chr3_63765264_A_G=1': 0.0008940662252402918,\n",
       " 'rs4774574=1': 0.0008900292595444218,\n",
       " 'chr3_35138707_A_G=2': 0.0008879932833147625,\n",
       " 'chr2_217919565_C_G=2': -0.00088538662193247,\n",
       " 'chr3_74118286_A_T=2': -0.0008790540639061611,\n",
       " 'chr3_46742523_A_C=1': 0.0008784973425723973,\n",
       " 'chr5_2392267_A_G=2': 0.0008771643122932251,\n",
       " 'rs3135730=2': 0.0008765187122832717,\n",
       " 'rs2175391=1': -0.0008678869690367343,\n",
       " 'rs12959290=1': -0.000864025169144143,\n",
       " 'chr3_27299001_A_G=2': 0.000860873487082758,\n",
       " 'rs10956364=1': 0.0008526239176999625,\n",
       " 'chr5_56113850_G_T=1': 0.0008471473219198608,\n",
       " 'c3_pos27113590=1': 0.0008460910943727819,\n",
       " 'rs2070571=1': 0.0008426602694623758,\n",
       " 'chr5_132192547_C_T=0': 0.0008411857876639993,\n",
       " 'rs629480=2': -0.0008408119721473697,\n",
       " 'chr3_27248163_A_G=2': -0.0008397866286171153,\n",
       " 'chr18_24552932_C_T=2': 0.000838998871917482,\n",
       " 'chr16_52585440_C_T=2': 0.0008371113210509024,\n",
       " 'rs9940128=1': -0.0008363080985853122,\n",
       " 'rs10886963=2': -0.0008355615533858475,\n",
       " 'rs519679=1': 0.000833781968525548,\n",
       " 'rs72764708=2': 0.000821026911745158,\n",
       " 'chr5_44939293_A_G=1': 0.0008207553055876055,\n",
       " 'chr4_9462484_G_T=2': 0.0008181570072590898,\n",
       " 'chr3_27330335_A_C=2': -0.0008165431717857052,\n",
       " 'chr22_28552698_C_T=2': 0.0008146475540872359,\n",
       " 'chr10_123462700_C_T=2': -0.0008122228443414821,\n",
       " 'chr22_40726183_C_T=2': -0.000811488425184102,\n",
       " 'chr10_114781950_C_G=2': -0.0008093327116387536,\n",
       " 'rs10474352=2': 0.000808590358733256,\n",
       " 'rs9266064=2': 0.0008072360182928307,\n",
       " 'chr5_56277191_A_G=1': 0.0008072333221558183,\n",
       " 'chr4_95508865_C_G=2': 0.0008061094225713221,\n",
       " 'chr16_52600618_A_G=2': 0.0008060142790356196,\n",
       " 'rs788455=2': 0.0008009339104722246,\n",
       " 'chr10_80888590_A_G=1': -0.000800570961490745,\n",
       " 'chr16_52580247_A_C=2': -0.0008004339862507129,\n",
       " 'chr17_56057565_A_G=2': -0.0007996838460902256,\n",
       " 'rs56300148=0': 0.0007965617573621349,\n",
       " 'rs2242312=2': 0.0007890463264989282,\n",
       " 'chr5_56011740_A_G=2': -0.0007851481586747165,\n",
       " 'chr2_55325001_A_G=2': 0.0007848954947538627,\n",
       " 'rs11125114=2': -0.0007816502858181562,\n",
       " 'chr5_56175566_C_G=1': 0.0007789209097069473,\n",
       " 'chr9_106912151_C_T=2': 0.0007750640816556553,\n",
       " 'chr7_16575830_A_T=2': 0.0007748311811690081,\n",
       " 'chr3_27398358_G_T=2': 0.0007729212785628162,\n",
       " 'rs66466850=1': 0.0007725038211700998,\n",
       " 'chr21_16574122_C_T=2': -0.0007682447530467409,\n",
       " 'chr16_53816275_A_C=1': -0.0007652996629660944,\n",
       " 'chr14_68637906_A_T=1': 0.0007567847234290012,\n",
       " 'chr5_56168712_C_T=2': 0.0007556139679849802,\n",
       " 'chr5_56310359_A_G=2': 0.0007530767685822198,\n",
       " 'chr3_27236734_G_T=2': -0.000751070274547535,\n",
       " 'rs72935553=2': -0.0007442829937874692,\n",
       " 'chr5_56012880_C_T=0': -0.0007437256137410274,\n",
       " 'chr3_64090194_C_T=2': -0.000743415609647458,\n",
       " 'chr11_4584569_A_G=1': -0.0007409083457817428,\n",
       " 'c3_pos27178868=2': -0.0007374068044994605,\n",
       " 'c11_pos1916762=2': -0.0007350639009732957,\n",
       " 'chr22_40895810_A_C=2': -0.000733989839218062,\n",
       " 'chr12_28169798_A_C=0': -0.0007310591886324291,\n",
       " 'rs1072781=0': 0.0007304662483458351,\n",
       " 'chr21_16544919_A_G=2': -0.0007290098143002743,\n",
       " 'rs4866784=1': -0.0007240159218465959,\n",
       " 'rs7736092=1': 0.0007230894740066977,\n",
       " 'chr12_28142950_C_T=2': -0.0007228263757304923,\n",
       " 'rs67451499=2': 0.000721848636216602,\n",
       " 'chr2_202151163_A_G=2': -0.0007189195418773883,\n",
       " 'chr5_56047143_A_G=2': 0.0007188166868147047,\n",
       " 'chr12_28181233_C_T=2': -0.0007044367818357086,\n",
       " 'chr17_53249679_A_G=1': 0.0007020158807869417,\n",
       " 'chr5_56307959_C_T=2': 0.0007014770489645928,\n",
       " 'rs2255767=1': -0.0006997098149634591,\n",
       " 'chr9_124300734_C_T=2': -0.0006987891181445978,\n",
       " 'rs978683=1': 0.0006978402933231595,\n",
       " 'rs56237600=1': 0.0006961244431350195,\n",
       " 'rs2441132=1': -0.0006947117628100303,\n",
       " 'rs9271611=2': -0.0006891958660091046,\n",
       " 'chr3_27296796_C_G=2': -0.0006891745332708092,\n",
       " 'chr5_56110684_A_C=2': -0.0006880805277536096,\n",
       " 'rs1295782=1': 0.0006874620378921329,\n",
       " 'chr16_53803223_A_G=1': 0.0006861130436481824,\n",
       " 'rs7525980=1': 0.0006822868766325804,\n",
       " 'chr22_40906635_C_G=2': -0.000681602599566562,\n",
       " 'chr9_110900744_A_G=2': 0.0006815421707079595,\n",
       " 'chr5_56170813_C_G=2': 0.0006705927646217505,\n",
       " 'rs497006=1': -0.0006631287440887859,\n",
       " 'chr4_175837394_A_G=2': 0.0006604499870532533,\n",
       " 'c10_pos123422565=2': -0.0006585909610073514,\n",
       " 'rs13083158=1': 0.000653542066741064,\n",
       " 'rs9383938=2': -0.000653440924980073,\n",
       " 'chr16_53812614_A_G=1': -0.0006528431629581502,\n",
       " 'rs9272718=0': -0.0006519018645258649,\n",
       " 'rs8094072=1': -0.0006488715227379764,\n",
       " 'chr21_16543510_A_G=2': 0.0006443227864140956,\n",
       " 'rs74412847=2': 0.0006412806279667836,\n",
       " 'chr5_44876288_C_T=0': 0.0006406820755214638,\n",
       " 'rs10991125=1': -0.0006403693585084607,\n",
       " 'chr17_53111383_A_C=2': 0.0006396600778732352,\n",
       " 'chr17_53214654_C_T=2': 0.0006395084479155871,\n",
       " 'chr5_174355059_A_G=2': 0.0006384535330497238,\n",
       " 'chr17_53064550_C_T=2': -0.0006222844754716712,\n",
       " 'chr7_30336156_C_G=2': 0.0006219061494954132,\n",
       " 'chr22_40832375_A_G=2': 0.0006134494969796976,\n",
       " 'chr2_217968561_C_T=1': -0.0006099184676092026,\n",
       " 'rs6882428=2': 0.0006076642726962006,\n",
       " 'rs7749324=1': -0.00060493647097841,\n",
       " 'rs34762678=0': -0.0006046974779275239,\n",
       " 'chr12_28146490_A_T=2': 0.0006046883775081177,\n",
       " 'chr20_52304681_C_T=2': 0.0006018042021936109,\n",
       " 'chr5_56176306_C_T=2': -0.0006005778360539983,\n",
       " 'rs45631630=2': -0.0005980390575036693,\n",
       " 'rs1315984=1': 0.0005969709676496314,\n",
       " 'chr5_56278199_A_C=2': -0.0005969388736332709,\n",
       " 'chr17_53224088_A_G=2': 0.0005938084078298797,\n",
       " 'rs6787229=1': 0.0005931928881310031,\n",
       " 'rs4454830=2': -0.0005926871930068749,\n",
       " 'chr17_35438073_C_T=2': 0.0005843784970745239,\n",
       " 'rs11200030=2': 0.0005821560047406141,\n",
       " 'chr22_41026018_G_T=2': -0.0005816914758539328,\n",
       " 'chr10_123429042_A_G=2': 0.0005803817260438385,\n",
       " 'chr15_91548601_A_G=2': 0.0005793383743852619,\n",
       " 'rs7645328=2': -0.0005766988821525619,\n",
       " 'chr8_76401357_A_C=2': -0.000572764146746322,\n",
       " 'chr8_76465360_A_G=2': 0.0005699737176841314,\n",
       " 'chr18_42382663_C_T=2': 0.0005671353024270781,\n",
       " 'rs6726261=1': -0.0005632086453426784,\n",
       " 'chr22_40973610_C_T=2': 0.0005608077023768784,\n",
       " 'rs7545208=0': 0.0005557000698119333,\n",
       " 'rs11672385=2': -0.0005521744688535826,\n",
       " 'chr16_80652246_C_G=2': 0.0005507336926989423,\n",
       " 'chr3_27471831_A_C=2': -0.0005491625363650451,\n",
       " 'chr17_4961271_G_T=2': -0.0005434919812100577,\n",
       " 'chr7_33061694_G_T=2': 0.0005406618997848169,\n",
       " 'rs13392238=2': -0.0005405095218154243,\n",
       " 'chr16_53819877_C_T=1': -0.0005386617006981258,\n",
       " 'chr10_64254983_A_G=2': 0.0005369077636584174,\n",
       " 'chr10_123408682_C_G=2': 0.0005356017175762129,\n",
       " 'rs12528539=2': -0.0005352692395686637,\n",
       " 'chr5_56213334_C_T=1': 0.0005319989843473458,\n",
       " 'chr5_56172646_C_T=1': -0.0005291245900293547,\n",
       " 'chr14_37132061_A_G=2': 0.0005244746298737464,\n",
       " 'rs12158945=1': -0.0005224905014175584,\n",
       " 'rs1052190=1': 0.0005206318360915204,\n",
       " 'chr21_24447648_C_T=2': 0.0005204719736774904,\n",
       " 'rs1551892=2': 0.0005162737832245304,\n",
       " 'rs55675376=2': -0.0005136657782645902,\n",
       " 'chr10_123387326_G_T=2': -0.000513602247267248,\n",
       " 'rs7831303=1': -0.0005135262579141151,\n",
       " 'rs1180130=2': 0.0005131969279597324,\n",
       " 'chr8_29515831_C_T=2': 0.0005085323513127548,\n",
       " 'chr10_123431846_A_C=2': 0.0005080471625424407,\n",
       " 'chr5_44646195_C_T=0': -0.0005074951961807113,\n",
       " 'rs7071275=2': 0.0005051141534517291,\n",
       " 'chr17_52986908_C_T=2': -0.0005030909788335548,\n",
       " 'rs1320969=2': 0.00050143648791292,\n",
       " 'rs7014657=1': 0.0005012732827048348,\n",
       " 'chr21_46025285_C_T=2': 0.0005004482194108695,\n",
       " 'rs1466007=2': -0.0005004115436473816,\n",
       " 'rs4457088=1': 0.0004969481433568062,\n",
       " 'chr5_56260606_A_G=2': 0.0004959571193266574,\n",
       " 'chr22_40851728_A_G=2': 0.0004908891776154964,\n",
       " 'chr8_76333056_C_T=2': -0.0004895851612453273,\n",
       " 'chr16_88908306_A_G=0': -0.0004893690014331373,\n",
       " 'chr10_123390024_A_G=2': 0.00048779372407390005,\n",
       " 'rs79071597=2': 0.00048497409925545053,\n",
       " 'rs4714432=0': -0.00048234209037952827,\n",
       " 'chr16_70828269_C_T=2': 0.0004821198720305847,\n",
       " 'chr16_52536885_C_T=2': 0.0004777447650344663,\n",
       " 'chr5_158366759_A_G=1': -0.00047515425092157745,\n",
       " 'rs9871261=2': 0.0004744818710061895,\n",
       " 'chr2_217939959_C_T=2': -0.0004718380009995158,\n",
       " 'chr21_16520832_A_G=1': 0.0004716681660736621,\n",
       " 'rs6599129=2': -0.0004704305900767235,\n",
       " 'rs9383589=2': 0.00046888842113944584,\n",
       " 'chr14_47823613_G_T=2': -0.0004682570173794023,\n",
       " 'rs1473201=0': 0.0004625824108417449,\n",
       " 'chr3_27292557_C_T=2': 0.0004572859593532713,\n",
       " 'rs6997019=2': -0.00045707880113151007,\n",
       " 'chr3_27392625_A_T=2': -0.0004540344413134363,\n",
       " 'chr5_56173934_A_G=2': -0.00045231598768635133,\n",
       " 'rs2158357=2': -0.0004510284286328902,\n",
       " 'rs77211738=2': -0.0004486105260678055,\n",
       " 'chr3_46894988_A_C=1': -0.0004465837486503589,\n",
       " 'rs2372052=1': 0.00044413259038564675,\n",
       " 'chr19_13269181_A_G=2': -0.00044051668373548144,\n",
       " 'chr9_18730789_G_T=2': 0.0004396088234678276,\n",
       " 'chr5_56310501_A_G=2': -0.0004385386767850979,\n",
       " 'chr2_111603426_C_T=2': -0.00043807113727983035,\n",
       " 'chr10_51514474_A_G=2': 0.00043801906231223376,\n",
       " 'corect_rs187434740=2': -0.00043674749317221885,\n",
       " 'chr20_34858360_C_T=2': -0.00042958601468337163,\n",
       " 'chr5_158357280_G_INDEL=1': 0.0004240784988603256,\n",
       " 'chr2_217939739_C_T=2': 0.00041954592458820646,\n",
       " 'rs2157908=2': 0.0004178887719732431,\n",
       " 'chr10_114799172_A_G=2': -0.00041669999312252717,\n",
       " 'rs677872=1': -0.00041660817906808524,\n",
       " 'rs602690=2': -0.000407913367681283,\n",
       " 'rs9274733=1': 0.0004049906309856578,\n",
       " 'chr16_52632350_A_C=2': 0.0004033149031419122,\n",
       " 'chr6_130386971_G_T=1': 0.00040251752927114316,\n",
       " 'rs10512852=2': 0.00039877915121647845,\n",
       " 'chr11_69318518_A_G=2': 0.00039848732781398916,\n",
       " 'chr9_111008909_A_G=1': 0.00039711599088490984,\n",
       " 'chr22_40734241_C_G=2': 0.0003970005243228624,\n",
       " 'rs9297753=1': 0.00039688227300201145,\n",
       " 'chr3_99387903_A_G=2': 0.0003909939412492536,\n",
       " 'rs130065=1': 0.0003794352198124821,\n",
       " 'rs11067640=2': -0.0003777159720683031,\n",
       " 'chr5_56172001_C_G=2': 0.00037495284593450697,\n",
       " 'chr5_56265025_C_T=2': -0.0003692937402929965,\n",
       " 'chr6_13716711_A_G=2': -0.0003689152547217283,\n",
       " 'rs6440003=2': -0.0003596394128019996,\n",
       " 'chr3_4754125_C_T=1': -0.0003592992306432682,\n",
       " 'chr2_217886101_A_G=2': 0.00035490519953689816,\n",
       " 'rs9790896=0': 0.000353927379485019,\n",
       " 'rs9910653=1': -0.0003532435291914603,\n",
       " 'rs72739755=2': -0.0003521193887639451,\n",
       " 'chr11_65683531_A_G=1': -0.00035128352932211346,\n",
       " 'rs12646105=2': -0.0003464905953280277,\n",
       " 'chr1_109093676_A_G=1': -0.0003444144179156187,\n",
       " 'chr22_41024854_C_T=2': 0.00034277301377552477,\n",
       " 'chr5_44650176_A_G=0': -0.00033879832020588244,\n",
       " 'chr9_110893793_A_T=2': -0.00033540717355808546,\n",
       " 'chr2_34486645_C_T=2': -0.0003327515794365606,\n",
       " 'rs9383933=1': -0.0003291136617272742,\n",
       " 'chr8_29530479_A_G=2': 0.0003238698631141039,\n",
       " 'rs56274956=2': -0.00032315695725868243,\n",
       " 'rs2218080=0': 0.0003215709268020157,\n",
       " 'chr2_217893189_A_G=0': -0.00031676210488436655,\n",
       " 'rs80352121=2': 0.00031294589181748723,\n",
       " 'rs4316319=0': 0.00030929880105643603,\n",
       " 'chrX_121626224_C_T=2': 0.0002988870393753774,\n",
       " 'chr10_123403660_C_T=2': 0.00029494385216752067,\n",
       " 'rs12746592=1': -0.0002946712164345266,\n",
       " 'chr12_113164556_A_G=1': -0.0002946438844009261,\n",
       " 'rs6574252=2': 0.0002915646622470225,\n",
       " 'chr2_134955210_C_T=2': 0.0002904249534678562,\n",
       " 'chr3_141125186_C_T=2': -0.00028804902880209636,\n",
       " 'chr21_16522082_A_G=2': 0.0002876455602170929,\n",
       " 'chr16_53822651_A_G=1': -0.00027824062272753313,\n",
       " 'chr2_217900397_A_G=2': 0.00027598678148442474,\n",
       " 'chr11_65644363_A_G=1': -0.00027589336884005744,\n",
       " 'chr16_52528044_A_G=2': -0.00027504363990887794,\n",
       " 'chr6_75480993_GT_INDEL=2': -0.00027403173799441085,\n",
       " 'rs2694027=2': -0.0002717783450358395,\n",
       " 'chr2_217787536_C_T=2': -0.0002681474774600171,\n",
       " 'rs12931301=1': 0.0002642926112441485,\n",
       " 'rs5838651=2': -0.00026273046525429004,\n",
       " 'chr6_160840769_C_T=2': 0.00025991626265957227,\n",
       " 'rs10425311=1': 0.0002559427698189118,\n",
       " 'chr18_24064359_A_G=2': 0.0002550219265120681,\n",
       " 'chr1_145438067_A_G=2': 0.00025308857909085253,\n",
       " 'chr6_151920851_A_C=1': 0.0002528140482520568,\n",
       " 'chr10_123446164_C_G=2': 0.00025207736317899195,\n",
       " 'chr5_56061564_A_G=2': -0.0002509146736126284,\n",
       " 'chr19_44286660_C_T=2': -0.00025010287166977633,\n",
       " 'chr16_80641653_C_G=2': 0.0002455984573540306,\n",
       " 'chr5_157797081_CA_INDEL=2': -0.00024286191312436126,\n",
       " 'chr18_42372487_C_T=2': -0.00024124570403603413,\n",
       " 'rs6688636=1': -0.00023516866209963066,\n",
       " 'chr21_16534968_C_T=2': 0.00023487563618603574,\n",
       " 'chr3_27249655_C_G=2': -0.0002279459815004967,\n",
       " 'chr3_27068677_A_G=1': -0.0002253191509631341,\n",
       " 'rs13248797=2': -0.0002226403900057717,\n",
       " 'rs9607721=2': 0.00021963933128400906,\n",
       " 'kgp12104856=2': -0.00021788184327972958,\n",
       " 'chr1_160865815_C_T=2': -0.00021739352520192963,\n",
       " 'chr22_40922332_A_G=2': -0.0002149952157079966,\n",
       " 'rs12698826=2': -0.00021418934755655858,\n",
       " 'chr10_123438864_A_T=2': 0.0002139796020175901,\n",
       " 'c5_pos56307481=2': -0.00020947491621359587,\n",
       " 'chr14_37124770_C_T=1': 0.00020897848678994304,\n",
       " 'chr1_168138084_A_G=2': -0.00020875066515848732,\n",
       " 'chr2_96796599_INDEL_T=2': -0.00020698031091408357,\n",
       " 'rs16924538=1': 0.00020675366373417765,\n",
       " 'chr4_39737914_C_T=2': -0.00020651321671981808,\n",
       " 'rs62368553=2': 0.00020625555076440652,\n",
       " 'chr16_53799847_A_G=1': -0.00020545485068457597,\n",
       " 'chr5_56026843_C_T=2': -0.00020136944121693678,\n",
       " 'rs13176502=0': 0.00020133750505549398,\n",
       " 'c5_pos44489027=2': 0.00020090091830374674,\n",
       " 'rs7514892=1': 0.0001998407581220338,\n",
       " 'rs7835046=2': -0.00019982985327396364,\n",
       " 'chr16_53809123_C_T=1': 0.0001963382917720941,\n",
       " 'chr2_217926328_C_T=1': 0.0001954969529574382,\n",
       " 'rs12636719=1': 0.0001895189384150958,\n",
       " 'rs1837285=1': 0.00018736569127628162,\n",
       " 'rs12137733=2': -0.00018652158453353663,\n",
       " 'chr2_238229802_C_T=2': 0.00018328444158407576,\n",
       " 'rs2111324=2': -0.00018306183099109867,\n",
       " 'chr8_76388113_C_T=2': 0.00017387841833551267,\n",
       " 'chr5_55995035_G_T=2': 0.00017181948642036382,\n",
       " 'chr3_141072289_A_G=2': -0.00016450013641856136,\n",
       " 'rs72714579=2': -0.0001637178117619681,\n",
       " 'chr5_56088170_A_G=2': -0.00016115117978845374,\n",
       " 'chr2_202221239_CTT_INDEL=2': 0.00015913174941680017,\n",
       " 'chr5_56228401_A_G=1': 0.00015901296835007617,\n",
       " 'chr10_29919963_A_G=0': -0.0001568849776083884,\n",
       " 'rs1083383=2': -0.00015338275794432178,\n",
       " 'rs378109=2': -0.00015308661615535913,\n",
       " 'rs687279=2': -0.00015063969951182392,\n",
       " 'c3_pos27203358=2': -0.00014948153434166434,\n",
       " 'rs9388766=1': -0.00014774246227333105,\n",
       " 'rs8055197=1': -0.00014450753201920705,\n",
       " 'chr2_25192908_A_C=1': 0.00014082175402778166,\n",
       " 'chr16_52613037_A_G=2': -0.0001350461685494513,\n",
       " 'chr4_42099799_A_G=2': -0.00013032310178224575,\n",
       " 'chr14_93098339_C_G=1': 0.00011568309490349673,\n",
       " 'chr16_52571605_C_T=0': -0.00011308330999673466,\n",
       " 'rs7856798=2': -0.00011154522696173885,\n",
       " 'rs12783517=1': -0.0001100830995106884,\n",
       " 'rs2619434=0': -0.00010285331294353269,\n",
       " 'rs10820580=2': -0.00010153670133751436,\n",
       " 'chr3_27326554_C_INDEL=2': -9.487279787447441e-05,\n",
       " 'chr17_53013595_G_T=2': 9.204803078474588e-05,\n",
       " 'chr5_56021821_C_T=2': -9.114897797406206e-05,\n",
       " 'chr2_217865990_G_T=1': -9.094666715860642e-05,\n",
       " 'chr22_40888068_G_INDEL=2': 9.070484931310464e-05,\n",
       " 'chr5_56085225_C_T=1': -8.869007198384986e-05,\n",
       " 'chr6_31161571_C_G=2': -8.829238028359175e-05,\n",
       " 'rs45631582=2': -8.49515597641579e-05,\n",
       " 'chr19_44398940_A_G=2': 8.430504276359692e-05,\n",
       " 'rs893496=1': 8.190703720916456e-05,\n",
       " 'rs1838564=2': -8.033928435662427e-05,\n",
       " 'chr10_80810849_A_C=2': -7.976964969539358e-05,\n",
       " 'rs9371226=2': -7.86235511510038e-05,\n",
       " 'chr2_217916052_G_T=1': 7.785145264173556e-05,\n",
       " 'rs3104688=2': -7.779926745762411e-05,\n",
       " 'chr8_22472949_C_T=2': 7.646110014783952e-05,\n",
       " 'chr3_27186602_C_T=2': -7.325465753007526e-05,\n",
       " 'chr1_114136037_C_T=1': -7.075976044686363e-05,\n",
       " 'rs1314913=1': -6.929179750083218e-05,\n",
       " 'c10_pos123379827=2': -6.791700042004522e-05,\n",
       " 'chr5_56141155_A_G=2': -6.385548651163598e-05,\n",
       " 'chr5_44341451_C_INDEL=2': -6.287160692481217e-05,\n",
       " 'chr3_27059664_A_G=1': -6.137767425719563e-05,\n",
       " 'rs6932603=2': -6.024667158677991e-05,\n",
       " 'chr3_4743623_A_C=2': -5.446718700831276e-05,\n",
       " 'rs7816345=2': -5.346603300711974e-05,\n",
       " 'rs7701656=1': -5.294228390167192e-05,\n",
       " 'rs12663827=2': -4.812498174238628e-05,\n",
       " 'chr3_28889125_C_T=2': 4.432944446319212e-05,\n",
       " 'chr16_52516607_A_C=2': 4.157588348110961e-05,\n",
       " 'rs820429=1': -4.1441673789970756e-05,\n",
       " 'chr5_56226410_C_T=1': -4.137287550471184e-05,\n",
       " 'chr8_29434590_G_INDEL=1': 4.013354733600109e-05,\n",
       " 'chr2_218276161_C_T=1': -3.926240101431661e-05,\n",
       " 'chr3_27545356_A_G=1': 3.706234932459511e-05,\n",
       " 'chr3_27055517_C_T=1': -3.605724790080881e-05,\n",
       " 'chr9_111043009_C_T=1': 2.985819437518505e-05,\n",
       " 'rs34749493=1': 2.641602015607836e-05,\n",
       " 'chr15_91512067_A_G=2': -2.0707998691271913e-05,\n",
       " 'chr18_42378282_A_G=2': -1.3233728933311259e-05,\n",
       " 'rs6763931=2': -1.2747530301042767e-05,\n",
       " 'chr17_43295973_G_T=2': 1.2557895484241438e-05,\n",
       " 'chr5_56040390_A_T=2': 1.0165618530206928e-05,\n",
       " 'chr10_123432188_A_G=2': -9.88392215119977e-06,\n",
       " 'rs1274647=1': -7.0252043294511145e-06,\n",
       " 'rs60926789=1': -3.874312410533564e-06}"
      ]
     },
     "execution_count": 59,
     "metadata": {},
     "output_type": "execute_result"
    }
   ],
   "source": [
    "dict(pick.explanations[0].as_list())"
   ]
  },
  {
   "cell_type": "code",
   "execution_count": 60,
   "metadata": {},
   "outputs": [],
   "source": [
    "\n",
    "W=pd.DataFrame([dict(this.as_list()) for this in pick.explanations])\n"
   ]
  },
  {
   "cell_type": "code",
   "execution_count": 61,
   "metadata": {},
   "outputs": [],
   "source": [
    "W.to_csv(\"/work/breastcancer/clean_test/results/wsign_lime2.csv\")"
   ]
  },
  {
   "cell_type": "code",
   "execution_count": null,
   "metadata": {},
   "outputs": [],
   "source": []
  },
  {
   "cell_type": "code",
   "execution_count": 62,
   "metadata": {},
   "outputs": [
    {
     "data": {
      "text/plain": [
       "array(['rs4040605', 'chr1_1914124_C_T', 'chr1_2501064_A_G', ...,\n",
       "       'rs5920253', 'chrX_146095648_A_G', 'chrX_152710845_A_T'],\n",
       "      dtype=object)"
      ]
     },
     "execution_count": 62,
     "metadata": {},
     "output_type": "execute_result"
    }
   ],
   "source": [
    "W=pd.read_csv(\"/work/breastcancer/clean_test/results/wsign_lime2.csv\",index_col=[\"Unnamed: 0\"])\n",
    "bim.snp.values"
   ]
  },
  {
   "cell_type": "code",
   "execution_count": 63,
   "metadata": {},
   "outputs": [
    {
     "data": {
      "text/html": [
       "<div>\n",
       "<style scoped>\n",
       "    .dataframe tbody tr th:only-of-type {\n",
       "        vertical-align: middle;\n",
       "    }\n",
       "\n",
       "    .dataframe tbody tr th {\n",
       "        vertical-align: top;\n",
       "    }\n",
       "\n",
       "    .dataframe thead th {\n",
       "        text-align: right;\n",
       "    }\n",
       "</style>\n",
       "<table border=\"1\" class=\"dataframe\">\n",
       "  <thead>\n",
       "    <tr style=\"text-align: right;\">\n",
       "      <th></th>\n",
       "      <th>Chr22:29885127:-:AAACAA=0</th>\n",
       "      <th>Chr22:29885127:-:AAACAA=1</th>\n",
       "      <th>Chr22:29885127:-:AAACAA=2</th>\n",
       "      <th>Chr6:30954121:G:T=0</th>\n",
       "      <th>Chr6:30954121:G:T=1</th>\n",
       "      <th>Chr6:30954121:G:T=2</th>\n",
       "      <th>Chr6:31496778:C:G=0</th>\n",
       "      <th>Chr6:31496778:C:G=1</th>\n",
       "      <th>Chr6:31496778:C:G=2</th>\n",
       "      <th>Chr6:32551098:C:G=0</th>\n",
       "      <th>...</th>\n",
       "      <th>rs997066=2</th>\n",
       "      <th>rs9977355=0</th>\n",
       "      <th>rs9977355=1</th>\n",
       "      <th>rs9977355=2</th>\n",
       "      <th>rs9980825=0</th>\n",
       "      <th>rs9980825=1</th>\n",
       "      <th>rs9980825=2</th>\n",
       "      <th>rs999737=0</th>\n",
       "      <th>rs999737=1</th>\n",
       "      <th>rs999737=2</th>\n",
       "    </tr>\n",
       "  </thead>\n",
       "  <tbody>\n",
       "    <tr>\n",
       "      <th>0</th>\n",
       "      <td>NaN</td>\n",
       "      <td>NaN</td>\n",
       "      <td>NaN</td>\n",
       "      <td>NaN</td>\n",
       "      <td>NaN</td>\n",
       "      <td>NaN</td>\n",
       "      <td>NaN</td>\n",
       "      <td>NaN</td>\n",
       "      <td>NaN</td>\n",
       "      <td>NaN</td>\n",
       "      <td>...</td>\n",
       "      <td>NaN</td>\n",
       "      <td>NaN</td>\n",
       "      <td>NaN</td>\n",
       "      <td>NaN</td>\n",
       "      <td>NaN</td>\n",
       "      <td>NaN</td>\n",
       "      <td>NaN</td>\n",
       "      <td>NaN</td>\n",
       "      <td>NaN</td>\n",
       "      <td>NaN</td>\n",
       "    </tr>\n",
       "    <tr>\n",
       "      <th>1</th>\n",
       "      <td>0.002250</td>\n",
       "      <td>NaN</td>\n",
       "      <td>NaN</td>\n",
       "      <td>NaN</td>\n",
       "      <td>NaN</td>\n",
       "      <td>0.002159</td>\n",
       "      <td>-0.000204</td>\n",
       "      <td>NaN</td>\n",
       "      <td>NaN</td>\n",
       "      <td>NaN</td>\n",
       "      <td>...</td>\n",
       "      <td>NaN</td>\n",
       "      <td>NaN</td>\n",
       "      <td>NaN</td>\n",
       "      <td>NaN</td>\n",
       "      <td>NaN</td>\n",
       "      <td>NaN</td>\n",
       "      <td>NaN</td>\n",
       "      <td>NaN</td>\n",
       "      <td>NaN</td>\n",
       "      <td>NaN</td>\n",
       "    </tr>\n",
       "    <tr>\n",
       "      <th>2</th>\n",
       "      <td>NaN</td>\n",
       "      <td>NaN</td>\n",
       "      <td>NaN</td>\n",
       "      <td>NaN</td>\n",
       "      <td>NaN</td>\n",
       "      <td>0.002450</td>\n",
       "      <td>NaN</td>\n",
       "      <td>NaN</td>\n",
       "      <td>NaN</td>\n",
       "      <td>NaN</td>\n",
       "      <td>...</td>\n",
       "      <td>NaN</td>\n",
       "      <td>NaN</td>\n",
       "      <td>NaN</td>\n",
       "      <td>NaN</td>\n",
       "      <td>NaN</td>\n",
       "      <td>NaN</td>\n",
       "      <td>NaN</td>\n",
       "      <td>NaN</td>\n",
       "      <td>NaN</td>\n",
       "      <td>NaN</td>\n",
       "    </tr>\n",
       "    <tr>\n",
       "      <th>3</th>\n",
       "      <td>NaN</td>\n",
       "      <td>NaN</td>\n",
       "      <td>NaN</td>\n",
       "      <td>NaN</td>\n",
       "      <td>NaN</td>\n",
       "      <td>NaN</td>\n",
       "      <td>NaN</td>\n",
       "      <td>NaN</td>\n",
       "      <td>NaN</td>\n",
       "      <td>NaN</td>\n",
       "      <td>...</td>\n",
       "      <td>NaN</td>\n",
       "      <td>NaN</td>\n",
       "      <td>NaN</td>\n",
       "      <td>NaN</td>\n",
       "      <td>NaN</td>\n",
       "      <td>NaN</td>\n",
       "      <td>NaN</td>\n",
       "      <td>NaN</td>\n",
       "      <td>NaN</td>\n",
       "      <td>NaN</td>\n",
       "    </tr>\n",
       "    <tr>\n",
       "      <th>4</th>\n",
       "      <td>NaN</td>\n",
       "      <td>NaN</td>\n",
       "      <td>-0.002109</td>\n",
       "      <td>NaN</td>\n",
       "      <td>NaN</td>\n",
       "      <td>0.002603</td>\n",
       "      <td>NaN</td>\n",
       "      <td>0.000704</td>\n",
       "      <td>NaN</td>\n",
       "      <td>NaN</td>\n",
       "      <td>...</td>\n",
       "      <td>NaN</td>\n",
       "      <td>NaN</td>\n",
       "      <td>NaN</td>\n",
       "      <td>NaN</td>\n",
       "      <td>NaN</td>\n",
       "      <td>NaN</td>\n",
       "      <td>NaN</td>\n",
       "      <td>NaN</td>\n",
       "      <td>NaN</td>\n",
       "      <td>NaN</td>\n",
       "    </tr>\n",
       "    <tr>\n",
       "      <th>5</th>\n",
       "      <td>NaN</td>\n",
       "      <td>NaN</td>\n",
       "      <td>NaN</td>\n",
       "      <td>NaN</td>\n",
       "      <td>NaN</td>\n",
       "      <td>0.002624</td>\n",
       "      <td>NaN</td>\n",
       "      <td>NaN</td>\n",
       "      <td>NaN</td>\n",
       "      <td>NaN</td>\n",
       "      <td>...</td>\n",
       "      <td>NaN</td>\n",
       "      <td>NaN</td>\n",
       "      <td>NaN</td>\n",
       "      <td>NaN</td>\n",
       "      <td>NaN</td>\n",
       "      <td>NaN</td>\n",
       "      <td>NaN</td>\n",
       "      <td>NaN</td>\n",
       "      <td>NaN</td>\n",
       "      <td>NaN</td>\n",
       "    </tr>\n",
       "    <tr>\n",
       "      <th>6</th>\n",
       "      <td>NaN</td>\n",
       "      <td>NaN</td>\n",
       "      <td>-0.002820</td>\n",
       "      <td>NaN</td>\n",
       "      <td>NaN</td>\n",
       "      <td>NaN</td>\n",
       "      <td>NaN</td>\n",
       "      <td>NaN</td>\n",
       "      <td>NaN</td>\n",
       "      <td>NaN</td>\n",
       "      <td>...</td>\n",
       "      <td>NaN</td>\n",
       "      <td>NaN</td>\n",
       "      <td>0.001258</td>\n",
       "      <td>NaN</td>\n",
       "      <td>NaN</td>\n",
       "      <td>NaN</td>\n",
       "      <td>NaN</td>\n",
       "      <td>NaN</td>\n",
       "      <td>NaN</td>\n",
       "      <td>NaN</td>\n",
       "    </tr>\n",
       "    <tr>\n",
       "      <th>7</th>\n",
       "      <td>NaN</td>\n",
       "      <td>NaN</td>\n",
       "      <td>NaN</td>\n",
       "      <td>NaN</td>\n",
       "      <td>NaN</td>\n",
       "      <td>NaN</td>\n",
       "      <td>NaN</td>\n",
       "      <td>NaN</td>\n",
       "      <td>NaN</td>\n",
       "      <td>NaN</td>\n",
       "      <td>...</td>\n",
       "      <td>NaN</td>\n",
       "      <td>NaN</td>\n",
       "      <td>NaN</td>\n",
       "      <td>NaN</td>\n",
       "      <td>NaN</td>\n",
       "      <td>NaN</td>\n",
       "      <td>NaN</td>\n",
       "      <td>NaN</td>\n",
       "      <td>NaN</td>\n",
       "      <td>NaN</td>\n",
       "    </tr>\n",
       "    <tr>\n",
       "      <th>8</th>\n",
       "      <td>NaN</td>\n",
       "      <td>NaN</td>\n",
       "      <td>NaN</td>\n",
       "      <td>NaN</td>\n",
       "      <td>NaN</td>\n",
       "      <td>0.004200</td>\n",
       "      <td>NaN</td>\n",
       "      <td>NaN</td>\n",
       "      <td>NaN</td>\n",
       "      <td>NaN</td>\n",
       "      <td>...</td>\n",
       "      <td>NaN</td>\n",
       "      <td>NaN</td>\n",
       "      <td>NaN</td>\n",
       "      <td>NaN</td>\n",
       "      <td>NaN</td>\n",
       "      <td>NaN</td>\n",
       "      <td>0.002518</td>\n",
       "      <td>NaN</td>\n",
       "      <td>NaN</td>\n",
       "      <td>NaN</td>\n",
       "    </tr>\n",
       "    <tr>\n",
       "      <th>9</th>\n",
       "      <td>NaN</td>\n",
       "      <td>NaN</td>\n",
       "      <td>NaN</td>\n",
       "      <td>NaN</td>\n",
       "      <td>NaN</td>\n",
       "      <td>NaN</td>\n",
       "      <td>NaN</td>\n",
       "      <td>NaN</td>\n",
       "      <td>NaN</td>\n",
       "      <td>NaN</td>\n",
       "      <td>...</td>\n",
       "      <td>NaN</td>\n",
       "      <td>NaN</td>\n",
       "      <td>NaN</td>\n",
       "      <td>NaN</td>\n",
       "      <td>NaN</td>\n",
       "      <td>NaN</td>\n",
       "      <td>NaN</td>\n",
       "      <td>NaN</td>\n",
       "      <td>NaN</td>\n",
       "      <td>NaN</td>\n",
       "    </tr>\n",
       "    <tr>\n",
       "      <th>10</th>\n",
       "      <td>NaN</td>\n",
       "      <td>NaN</td>\n",
       "      <td>NaN</td>\n",
       "      <td>NaN</td>\n",
       "      <td>NaN</td>\n",
       "      <td>NaN</td>\n",
       "      <td>NaN</td>\n",
       "      <td>NaN</td>\n",
       "      <td>NaN</td>\n",
       "      <td>NaN</td>\n",
       "      <td>...</td>\n",
       "      <td>NaN</td>\n",
       "      <td>NaN</td>\n",
       "      <td>NaN</td>\n",
       "      <td>NaN</td>\n",
       "      <td>NaN</td>\n",
       "      <td>NaN</td>\n",
       "      <td>NaN</td>\n",
       "      <td>NaN</td>\n",
       "      <td>NaN</td>\n",
       "      <td>NaN</td>\n",
       "    </tr>\n",
       "    <tr>\n",
       "      <th>11</th>\n",
       "      <td>0.002467</td>\n",
       "      <td>NaN</td>\n",
       "      <td>NaN</td>\n",
       "      <td>NaN</td>\n",
       "      <td>NaN</td>\n",
       "      <td>NaN</td>\n",
       "      <td>NaN</td>\n",
       "      <td>NaN</td>\n",
       "      <td>NaN</td>\n",
       "      <td>NaN</td>\n",
       "      <td>...</td>\n",
       "      <td>NaN</td>\n",
       "      <td>NaN</td>\n",
       "      <td>NaN</td>\n",
       "      <td>NaN</td>\n",
       "      <td>NaN</td>\n",
       "      <td>NaN</td>\n",
       "      <td>NaN</td>\n",
       "      <td>NaN</td>\n",
       "      <td>NaN</td>\n",
       "      <td>NaN</td>\n",
       "    </tr>\n",
       "    <tr>\n",
       "      <th>12</th>\n",
       "      <td>NaN</td>\n",
       "      <td>NaN</td>\n",
       "      <td>-0.003193</td>\n",
       "      <td>NaN</td>\n",
       "      <td>NaN</td>\n",
       "      <td>NaN</td>\n",
       "      <td>NaN</td>\n",
       "      <td>NaN</td>\n",
       "      <td>NaN</td>\n",
       "      <td>NaN</td>\n",
       "      <td>...</td>\n",
       "      <td>NaN</td>\n",
       "      <td>NaN</td>\n",
       "      <td>NaN</td>\n",
       "      <td>NaN</td>\n",
       "      <td>NaN</td>\n",
       "      <td>-0.001317</td>\n",
       "      <td>NaN</td>\n",
       "      <td>NaN</td>\n",
       "      <td>NaN</td>\n",
       "      <td>NaN</td>\n",
       "    </tr>\n",
       "    <tr>\n",
       "      <th>13</th>\n",
       "      <td>NaN</td>\n",
       "      <td>NaN</td>\n",
       "      <td>NaN</td>\n",
       "      <td>NaN</td>\n",
       "      <td>NaN</td>\n",
       "      <td>NaN</td>\n",
       "      <td>NaN</td>\n",
       "      <td>NaN</td>\n",
       "      <td>NaN</td>\n",
       "      <td>NaN</td>\n",
       "      <td>...</td>\n",
       "      <td>NaN</td>\n",
       "      <td>NaN</td>\n",
       "      <td>NaN</td>\n",
       "      <td>NaN</td>\n",
       "      <td>NaN</td>\n",
       "      <td>NaN</td>\n",
       "      <td>NaN</td>\n",
       "      <td>NaN</td>\n",
       "      <td>NaN</td>\n",
       "      <td>NaN</td>\n",
       "    </tr>\n",
       "    <tr>\n",
       "      <th>14</th>\n",
       "      <td>NaN</td>\n",
       "      <td>NaN</td>\n",
       "      <td>NaN</td>\n",
       "      <td>NaN</td>\n",
       "      <td>NaN</td>\n",
       "      <td>NaN</td>\n",
       "      <td>NaN</td>\n",
       "      <td>-0.001455</td>\n",
       "      <td>NaN</td>\n",
       "      <td>NaN</td>\n",
       "      <td>...</td>\n",
       "      <td>NaN</td>\n",
       "      <td>NaN</td>\n",
       "      <td>NaN</td>\n",
       "      <td>NaN</td>\n",
       "      <td>NaN</td>\n",
       "      <td>NaN</td>\n",
       "      <td>NaN</td>\n",
       "      <td>NaN</td>\n",
       "      <td>NaN</td>\n",
       "      <td>NaN</td>\n",
       "    </tr>\n",
       "    <tr>\n",
       "      <th>15</th>\n",
       "      <td>NaN</td>\n",
       "      <td>NaN</td>\n",
       "      <td>NaN</td>\n",
       "      <td>NaN</td>\n",
       "      <td>NaN</td>\n",
       "      <td>NaN</td>\n",
       "      <td>NaN</td>\n",
       "      <td>NaN</td>\n",
       "      <td>NaN</td>\n",
       "      <td>NaN</td>\n",
       "      <td>...</td>\n",
       "      <td>NaN</td>\n",
       "      <td>NaN</td>\n",
       "      <td>NaN</td>\n",
       "      <td>NaN</td>\n",
       "      <td>NaN</td>\n",
       "      <td>NaN</td>\n",
       "      <td>NaN</td>\n",
       "      <td>NaN</td>\n",
       "      <td>NaN</td>\n",
       "      <td>NaN</td>\n",
       "    </tr>\n",
       "    <tr>\n",
       "      <th>16</th>\n",
       "      <td>NaN</td>\n",
       "      <td>NaN</td>\n",
       "      <td>NaN</td>\n",
       "      <td>NaN</td>\n",
       "      <td>NaN</td>\n",
       "      <td>0.003776</td>\n",
       "      <td>NaN</td>\n",
       "      <td>NaN</td>\n",
       "      <td>-0.000498</td>\n",
       "      <td>NaN</td>\n",
       "      <td>...</td>\n",
       "      <td>NaN</td>\n",
       "      <td>NaN</td>\n",
       "      <td>NaN</td>\n",
       "      <td>NaN</td>\n",
       "      <td>NaN</td>\n",
       "      <td>NaN</td>\n",
       "      <td>NaN</td>\n",
       "      <td>NaN</td>\n",
       "      <td>NaN</td>\n",
       "      <td>NaN</td>\n",
       "    </tr>\n",
       "    <tr>\n",
       "      <th>17</th>\n",
       "      <td>NaN</td>\n",
       "      <td>NaN</td>\n",
       "      <td>NaN</td>\n",
       "      <td>NaN</td>\n",
       "      <td>NaN</td>\n",
       "      <td>NaN</td>\n",
       "      <td>NaN</td>\n",
       "      <td>NaN</td>\n",
       "      <td>NaN</td>\n",
       "      <td>NaN</td>\n",
       "      <td>...</td>\n",
       "      <td>-0.001251</td>\n",
       "      <td>NaN</td>\n",
       "      <td>NaN</td>\n",
       "      <td>NaN</td>\n",
       "      <td>NaN</td>\n",
       "      <td>NaN</td>\n",
       "      <td>NaN</td>\n",
       "      <td>NaN</td>\n",
       "      <td>NaN</td>\n",
       "      <td>NaN</td>\n",
       "    </tr>\n",
       "    <tr>\n",
       "      <th>18</th>\n",
       "      <td>NaN</td>\n",
       "      <td>NaN</td>\n",
       "      <td>NaN</td>\n",
       "      <td>NaN</td>\n",
       "      <td>NaN</td>\n",
       "      <td>NaN</td>\n",
       "      <td>NaN</td>\n",
       "      <td>NaN</td>\n",
       "      <td>NaN</td>\n",
       "      <td>NaN</td>\n",
       "      <td>...</td>\n",
       "      <td>NaN</td>\n",
       "      <td>NaN</td>\n",
       "      <td>NaN</td>\n",
       "      <td>NaN</td>\n",
       "      <td>NaN</td>\n",
       "      <td>NaN</td>\n",
       "      <td>0.004474</td>\n",
       "      <td>NaN</td>\n",
       "      <td>NaN</td>\n",
       "      <td>NaN</td>\n",
       "    </tr>\n",
       "    <tr>\n",
       "      <th>19</th>\n",
       "      <td>NaN</td>\n",
       "      <td>NaN</td>\n",
       "      <td>NaN</td>\n",
       "      <td>NaN</td>\n",
       "      <td>NaN</td>\n",
       "      <td>0.004158</td>\n",
       "      <td>NaN</td>\n",
       "      <td>NaN</td>\n",
       "      <td>NaN</td>\n",
       "      <td>-0.002015</td>\n",
       "      <td>...</td>\n",
       "      <td>NaN</td>\n",
       "      <td>NaN</td>\n",
       "      <td>NaN</td>\n",
       "      <td>NaN</td>\n",
       "      <td>NaN</td>\n",
       "      <td>NaN</td>\n",
       "      <td>NaN</td>\n",
       "      <td>NaN</td>\n",
       "      <td>NaN</td>\n",
       "      <td>NaN</td>\n",
       "    </tr>\n",
       "    <tr>\n",
       "      <th>20</th>\n",
       "      <td>NaN</td>\n",
       "      <td>NaN</td>\n",
       "      <td>NaN</td>\n",
       "      <td>NaN</td>\n",
       "      <td>NaN</td>\n",
       "      <td>0.003010</td>\n",
       "      <td>NaN</td>\n",
       "      <td>NaN</td>\n",
       "      <td>NaN</td>\n",
       "      <td>NaN</td>\n",
       "      <td>...</td>\n",
       "      <td>NaN</td>\n",
       "      <td>NaN</td>\n",
       "      <td>NaN</td>\n",
       "      <td>NaN</td>\n",
       "      <td>NaN</td>\n",
       "      <td>NaN</td>\n",
       "      <td>NaN</td>\n",
       "      <td>NaN</td>\n",
       "      <td>NaN</td>\n",
       "      <td>NaN</td>\n",
       "    </tr>\n",
       "    <tr>\n",
       "      <th>21</th>\n",
       "      <td>0.002799</td>\n",
       "      <td>NaN</td>\n",
       "      <td>NaN</td>\n",
       "      <td>NaN</td>\n",
       "      <td>NaN</td>\n",
       "      <td>0.003952</td>\n",
       "      <td>NaN</td>\n",
       "      <td>NaN</td>\n",
       "      <td>NaN</td>\n",
       "      <td>NaN</td>\n",
       "      <td>...</td>\n",
       "      <td>NaN</td>\n",
       "      <td>NaN</td>\n",
       "      <td>NaN</td>\n",
       "      <td>NaN</td>\n",
       "      <td>NaN</td>\n",
       "      <td>NaN</td>\n",
       "      <td>NaN</td>\n",
       "      <td>NaN</td>\n",
       "      <td>NaN</td>\n",
       "      <td>NaN</td>\n",
       "    </tr>\n",
       "    <tr>\n",
       "      <th>22</th>\n",
       "      <td>0.003260</td>\n",
       "      <td>NaN</td>\n",
       "      <td>NaN</td>\n",
       "      <td>NaN</td>\n",
       "      <td>NaN</td>\n",
       "      <td>NaN</td>\n",
       "      <td>NaN</td>\n",
       "      <td>NaN</td>\n",
       "      <td>NaN</td>\n",
       "      <td>NaN</td>\n",
       "      <td>...</td>\n",
       "      <td>NaN</td>\n",
       "      <td>NaN</td>\n",
       "      <td>NaN</td>\n",
       "      <td>NaN</td>\n",
       "      <td>-0.002387</td>\n",
       "      <td>NaN</td>\n",
       "      <td>NaN</td>\n",
       "      <td>NaN</td>\n",
       "      <td>NaN</td>\n",
       "      <td>NaN</td>\n",
       "    </tr>\n",
       "    <tr>\n",
       "      <th>23</th>\n",
       "      <td>NaN</td>\n",
       "      <td>NaN</td>\n",
       "      <td>-0.001773</td>\n",
       "      <td>NaN</td>\n",
       "      <td>NaN</td>\n",
       "      <td>0.004194</td>\n",
       "      <td>NaN</td>\n",
       "      <td>NaN</td>\n",
       "      <td>NaN</td>\n",
       "      <td>NaN</td>\n",
       "      <td>...</td>\n",
       "      <td>NaN</td>\n",
       "      <td>NaN</td>\n",
       "      <td>NaN</td>\n",
       "      <td>NaN</td>\n",
       "      <td>NaN</td>\n",
       "      <td>NaN</td>\n",
       "      <td>NaN</td>\n",
       "      <td>NaN</td>\n",
       "      <td>NaN</td>\n",
       "      <td>NaN</td>\n",
       "    </tr>\n",
       "    <tr>\n",
       "      <th>24</th>\n",
       "      <td>NaN</td>\n",
       "      <td>NaN</td>\n",
       "      <td>NaN</td>\n",
       "      <td>NaN</td>\n",
       "      <td>NaN</td>\n",
       "      <td>NaN</td>\n",
       "      <td>NaN</td>\n",
       "      <td>NaN</td>\n",
       "      <td>NaN</td>\n",
       "      <td>NaN</td>\n",
       "      <td>...</td>\n",
       "      <td>NaN</td>\n",
       "      <td>NaN</td>\n",
       "      <td>NaN</td>\n",
       "      <td>NaN</td>\n",
       "      <td>NaN</td>\n",
       "      <td>NaN</td>\n",
       "      <td>NaN</td>\n",
       "      <td>NaN</td>\n",
       "      <td>NaN</td>\n",
       "      <td>NaN</td>\n",
       "    </tr>\n",
       "    <tr>\n",
       "      <th>25</th>\n",
       "      <td>NaN</td>\n",
       "      <td>NaN</td>\n",
       "      <td>NaN</td>\n",
       "      <td>NaN</td>\n",
       "      <td>NaN</td>\n",
       "      <td>0.002757</td>\n",
       "      <td>NaN</td>\n",
       "      <td>NaN</td>\n",
       "      <td>NaN</td>\n",
       "      <td>NaN</td>\n",
       "      <td>...</td>\n",
       "      <td>NaN</td>\n",
       "      <td>NaN</td>\n",
       "      <td>NaN</td>\n",
       "      <td>NaN</td>\n",
       "      <td>NaN</td>\n",
       "      <td>NaN</td>\n",
       "      <td>NaN</td>\n",
       "      <td>NaN</td>\n",
       "      <td>NaN</td>\n",
       "      <td>NaN</td>\n",
       "    </tr>\n",
       "    <tr>\n",
       "      <th>26</th>\n",
       "      <td>NaN</td>\n",
       "      <td>NaN</td>\n",
       "      <td>NaN</td>\n",
       "      <td>NaN</td>\n",
       "      <td>NaN</td>\n",
       "      <td>0.002309</td>\n",
       "      <td>NaN</td>\n",
       "      <td>NaN</td>\n",
       "      <td>NaN</td>\n",
       "      <td>NaN</td>\n",
       "      <td>...</td>\n",
       "      <td>NaN</td>\n",
       "      <td>NaN</td>\n",
       "      <td>NaN</td>\n",
       "      <td>NaN</td>\n",
       "      <td>NaN</td>\n",
       "      <td>NaN</td>\n",
       "      <td>NaN</td>\n",
       "      <td>NaN</td>\n",
       "      <td>NaN</td>\n",
       "      <td>NaN</td>\n",
       "    </tr>\n",
       "    <tr>\n",
       "      <th>27</th>\n",
       "      <td>NaN</td>\n",
       "      <td>NaN</td>\n",
       "      <td>NaN</td>\n",
       "      <td>NaN</td>\n",
       "      <td>NaN</td>\n",
       "      <td>NaN</td>\n",
       "      <td>NaN</td>\n",
       "      <td>NaN</td>\n",
       "      <td>NaN</td>\n",
       "      <td>NaN</td>\n",
       "      <td>...</td>\n",
       "      <td>NaN</td>\n",
       "      <td>NaN</td>\n",
       "      <td>NaN</td>\n",
       "      <td>NaN</td>\n",
       "      <td>NaN</td>\n",
       "      <td>NaN</td>\n",
       "      <td>NaN</td>\n",
       "      <td>0.000741</td>\n",
       "      <td>NaN</td>\n",
       "      <td>NaN</td>\n",
       "    </tr>\n",
       "    <tr>\n",
       "      <th>28</th>\n",
       "      <td>NaN</td>\n",
       "      <td>NaN</td>\n",
       "      <td>-0.001179</td>\n",
       "      <td>NaN</td>\n",
       "      <td>NaN</td>\n",
       "      <td>NaN</td>\n",
       "      <td>NaN</td>\n",
       "      <td>0.002232</td>\n",
       "      <td>NaN</td>\n",
       "      <td>NaN</td>\n",
       "      <td>...</td>\n",
       "      <td>NaN</td>\n",
       "      <td>NaN</td>\n",
       "      <td>NaN</td>\n",
       "      <td>NaN</td>\n",
       "      <td>NaN</td>\n",
       "      <td>NaN</td>\n",
       "      <td>NaN</td>\n",
       "      <td>NaN</td>\n",
       "      <td>NaN</td>\n",
       "      <td>NaN</td>\n",
       "    </tr>\n",
       "    <tr>\n",
       "      <th>29</th>\n",
       "      <td>NaN</td>\n",
       "      <td>NaN</td>\n",
       "      <td>NaN</td>\n",
       "      <td>NaN</td>\n",
       "      <td>NaN</td>\n",
       "      <td>NaN</td>\n",
       "      <td>NaN</td>\n",
       "      <td>NaN</td>\n",
       "      <td>NaN</td>\n",
       "      <td>NaN</td>\n",
       "      <td>...</td>\n",
       "      <td>NaN</td>\n",
       "      <td>NaN</td>\n",
       "      <td>NaN</td>\n",
       "      <td>NaN</td>\n",
       "      <td>NaN</td>\n",
       "      <td>NaN</td>\n",
       "      <td>NaN</td>\n",
       "      <td>NaN</td>\n",
       "      <td>NaN</td>\n",
       "      <td>NaN</td>\n",
       "    </tr>\n",
       "    <tr>\n",
       "      <th>...</th>\n",
       "      <td>...</td>\n",
       "      <td>...</td>\n",
       "      <td>...</td>\n",
       "      <td>...</td>\n",
       "      <td>...</td>\n",
       "      <td>...</td>\n",
       "      <td>...</td>\n",
       "      <td>...</td>\n",
       "      <td>...</td>\n",
       "      <td>...</td>\n",
       "      <td>...</td>\n",
       "      <td>...</td>\n",
       "      <td>...</td>\n",
       "      <td>...</td>\n",
       "      <td>...</td>\n",
       "      <td>...</td>\n",
       "      <td>...</td>\n",
       "      <td>...</td>\n",
       "      <td>...</td>\n",
       "      <td>...</td>\n",
       "      <td>...</td>\n",
       "    </tr>\n",
       "    <tr>\n",
       "      <th>523</th>\n",
       "      <td>NaN</td>\n",
       "      <td>NaN</td>\n",
       "      <td>NaN</td>\n",
       "      <td>NaN</td>\n",
       "      <td>NaN</td>\n",
       "      <td>NaN</td>\n",
       "      <td>NaN</td>\n",
       "      <td>NaN</td>\n",
       "      <td>NaN</td>\n",
       "      <td>NaN</td>\n",
       "      <td>...</td>\n",
       "      <td>NaN</td>\n",
       "      <td>NaN</td>\n",
       "      <td>-0.001158</td>\n",
       "      <td>NaN</td>\n",
       "      <td>NaN</td>\n",
       "      <td>NaN</td>\n",
       "      <td>NaN</td>\n",
       "      <td>NaN</td>\n",
       "      <td>0.000188</td>\n",
       "      <td>NaN</td>\n",
       "    </tr>\n",
       "    <tr>\n",
       "      <th>524</th>\n",
       "      <td>NaN</td>\n",
       "      <td>NaN</td>\n",
       "      <td>NaN</td>\n",
       "      <td>NaN</td>\n",
       "      <td>NaN</td>\n",
       "      <td>NaN</td>\n",
       "      <td>NaN</td>\n",
       "      <td>NaN</td>\n",
       "      <td>NaN</td>\n",
       "      <td>NaN</td>\n",
       "      <td>...</td>\n",
       "      <td>NaN</td>\n",
       "      <td>NaN</td>\n",
       "      <td>NaN</td>\n",
       "      <td>NaN</td>\n",
       "      <td>NaN</td>\n",
       "      <td>-0.000258</td>\n",
       "      <td>NaN</td>\n",
       "      <td>NaN</td>\n",
       "      <td>0.000793</td>\n",
       "      <td>NaN</td>\n",
       "    </tr>\n",
       "    <tr>\n",
       "      <th>525</th>\n",
       "      <td>NaN</td>\n",
       "      <td>NaN</td>\n",
       "      <td>NaN</td>\n",
       "      <td>NaN</td>\n",
       "      <td>NaN</td>\n",
       "      <td>NaN</td>\n",
       "      <td>NaN</td>\n",
       "      <td>NaN</td>\n",
       "      <td>NaN</td>\n",
       "      <td>NaN</td>\n",
       "      <td>...</td>\n",
       "      <td>NaN</td>\n",
       "      <td>NaN</td>\n",
       "      <td>NaN</td>\n",
       "      <td>NaN</td>\n",
       "      <td>NaN</td>\n",
       "      <td>NaN</td>\n",
       "      <td>NaN</td>\n",
       "      <td>NaN</td>\n",
       "      <td>NaN</td>\n",
       "      <td>NaN</td>\n",
       "    </tr>\n",
       "    <tr>\n",
       "      <th>526</th>\n",
       "      <td>NaN</td>\n",
       "      <td>NaN</td>\n",
       "      <td>NaN</td>\n",
       "      <td>NaN</td>\n",
       "      <td>NaN</td>\n",
       "      <td>0.003276</td>\n",
       "      <td>NaN</td>\n",
       "      <td>NaN</td>\n",
       "      <td>NaN</td>\n",
       "      <td>NaN</td>\n",
       "      <td>...</td>\n",
       "      <td>NaN</td>\n",
       "      <td>NaN</td>\n",
       "      <td>NaN</td>\n",
       "      <td>NaN</td>\n",
       "      <td>NaN</td>\n",
       "      <td>NaN</td>\n",
       "      <td>NaN</td>\n",
       "      <td>NaN</td>\n",
       "      <td>NaN</td>\n",
       "      <td>NaN</td>\n",
       "    </tr>\n",
       "    <tr>\n",
       "      <th>527</th>\n",
       "      <td>NaN</td>\n",
       "      <td>NaN</td>\n",
       "      <td>NaN</td>\n",
       "      <td>NaN</td>\n",
       "      <td>NaN</td>\n",
       "      <td>0.004319</td>\n",
       "      <td>NaN</td>\n",
       "      <td>NaN</td>\n",
       "      <td>NaN</td>\n",
       "      <td>NaN</td>\n",
       "      <td>...</td>\n",
       "      <td>NaN</td>\n",
       "      <td>NaN</td>\n",
       "      <td>NaN</td>\n",
       "      <td>NaN</td>\n",
       "      <td>NaN</td>\n",
       "      <td>NaN</td>\n",
       "      <td>NaN</td>\n",
       "      <td>NaN</td>\n",
       "      <td>NaN</td>\n",
       "      <td>NaN</td>\n",
       "    </tr>\n",
       "    <tr>\n",
       "      <th>528</th>\n",
       "      <td>NaN</td>\n",
       "      <td>NaN</td>\n",
       "      <td>-0.003711</td>\n",
       "      <td>NaN</td>\n",
       "      <td>NaN</td>\n",
       "      <td>NaN</td>\n",
       "      <td>NaN</td>\n",
       "      <td>NaN</td>\n",
       "      <td>NaN</td>\n",
       "      <td>NaN</td>\n",
       "      <td>...</td>\n",
       "      <td>NaN</td>\n",
       "      <td>NaN</td>\n",
       "      <td>NaN</td>\n",
       "      <td>NaN</td>\n",
       "      <td>NaN</td>\n",
       "      <td>NaN</td>\n",
       "      <td>NaN</td>\n",
       "      <td>NaN</td>\n",
       "      <td>NaN</td>\n",
       "      <td>-0.000338</td>\n",
       "    </tr>\n",
       "    <tr>\n",
       "      <th>529</th>\n",
       "      <td>NaN</td>\n",
       "      <td>NaN</td>\n",
       "      <td>NaN</td>\n",
       "      <td>NaN</td>\n",
       "      <td>NaN</td>\n",
       "      <td>NaN</td>\n",
       "      <td>NaN</td>\n",
       "      <td>NaN</td>\n",
       "      <td>NaN</td>\n",
       "      <td>NaN</td>\n",
       "      <td>...</td>\n",
       "      <td>NaN</td>\n",
       "      <td>NaN</td>\n",
       "      <td>NaN</td>\n",
       "      <td>NaN</td>\n",
       "      <td>NaN</td>\n",
       "      <td>NaN</td>\n",
       "      <td>NaN</td>\n",
       "      <td>NaN</td>\n",
       "      <td>NaN</td>\n",
       "      <td>NaN</td>\n",
       "    </tr>\n",
       "    <tr>\n",
       "      <th>530</th>\n",
       "      <td>NaN</td>\n",
       "      <td>NaN</td>\n",
       "      <td>NaN</td>\n",
       "      <td>NaN</td>\n",
       "      <td>NaN</td>\n",
       "      <td>NaN</td>\n",
       "      <td>NaN</td>\n",
       "      <td>NaN</td>\n",
       "      <td>NaN</td>\n",
       "      <td>NaN</td>\n",
       "      <td>...</td>\n",
       "      <td>NaN</td>\n",
       "      <td>NaN</td>\n",
       "      <td>NaN</td>\n",
       "      <td>NaN</td>\n",
       "      <td>NaN</td>\n",
       "      <td>NaN</td>\n",
       "      <td>NaN</td>\n",
       "      <td>NaN</td>\n",
       "      <td>NaN</td>\n",
       "      <td>NaN</td>\n",
       "    </tr>\n",
       "    <tr>\n",
       "      <th>531</th>\n",
       "      <td>NaN</td>\n",
       "      <td>NaN</td>\n",
       "      <td>-0.001628</td>\n",
       "      <td>NaN</td>\n",
       "      <td>NaN</td>\n",
       "      <td>NaN</td>\n",
       "      <td>NaN</td>\n",
       "      <td>NaN</td>\n",
       "      <td>NaN</td>\n",
       "      <td>NaN</td>\n",
       "      <td>...</td>\n",
       "      <td>NaN</td>\n",
       "      <td>NaN</td>\n",
       "      <td>NaN</td>\n",
       "      <td>NaN</td>\n",
       "      <td>NaN</td>\n",
       "      <td>NaN</td>\n",
       "      <td>NaN</td>\n",
       "      <td>NaN</td>\n",
       "      <td>NaN</td>\n",
       "      <td>NaN</td>\n",
       "    </tr>\n",
       "    <tr>\n",
       "      <th>532</th>\n",
       "      <td>NaN</td>\n",
       "      <td>NaN</td>\n",
       "      <td>NaN</td>\n",
       "      <td>NaN</td>\n",
       "      <td>NaN</td>\n",
       "      <td>NaN</td>\n",
       "      <td>NaN</td>\n",
       "      <td>NaN</td>\n",
       "      <td>NaN</td>\n",
       "      <td>NaN</td>\n",
       "      <td>...</td>\n",
       "      <td>NaN</td>\n",
       "      <td>NaN</td>\n",
       "      <td>NaN</td>\n",
       "      <td>NaN</td>\n",
       "      <td>NaN</td>\n",
       "      <td>NaN</td>\n",
       "      <td>NaN</td>\n",
       "      <td>NaN</td>\n",
       "      <td>NaN</td>\n",
       "      <td>NaN</td>\n",
       "    </tr>\n",
       "    <tr>\n",
       "      <th>533</th>\n",
       "      <td>NaN</td>\n",
       "      <td>NaN</td>\n",
       "      <td>NaN</td>\n",
       "      <td>NaN</td>\n",
       "      <td>NaN</td>\n",
       "      <td>0.001796</td>\n",
       "      <td>NaN</td>\n",
       "      <td>NaN</td>\n",
       "      <td>NaN</td>\n",
       "      <td>NaN</td>\n",
       "      <td>...</td>\n",
       "      <td>NaN</td>\n",
       "      <td>NaN</td>\n",
       "      <td>NaN</td>\n",
       "      <td>NaN</td>\n",
       "      <td>NaN</td>\n",
       "      <td>0.000356</td>\n",
       "      <td>NaN</td>\n",
       "      <td>NaN</td>\n",
       "      <td>NaN</td>\n",
       "      <td>NaN</td>\n",
       "    </tr>\n",
       "    <tr>\n",
       "      <th>534</th>\n",
       "      <td>NaN</td>\n",
       "      <td>NaN</td>\n",
       "      <td>-0.002773</td>\n",
       "      <td>NaN</td>\n",
       "      <td>NaN</td>\n",
       "      <td>NaN</td>\n",
       "      <td>NaN</td>\n",
       "      <td>NaN</td>\n",
       "      <td>NaN</td>\n",
       "      <td>NaN</td>\n",
       "      <td>...</td>\n",
       "      <td>NaN</td>\n",
       "      <td>NaN</td>\n",
       "      <td>NaN</td>\n",
       "      <td>NaN</td>\n",
       "      <td>NaN</td>\n",
       "      <td>NaN</td>\n",
       "      <td>NaN</td>\n",
       "      <td>NaN</td>\n",
       "      <td>NaN</td>\n",
       "      <td>NaN</td>\n",
       "    </tr>\n",
       "    <tr>\n",
       "      <th>535</th>\n",
       "      <td>NaN</td>\n",
       "      <td>NaN</td>\n",
       "      <td>0.002159</td>\n",
       "      <td>NaN</td>\n",
       "      <td>NaN</td>\n",
       "      <td>NaN</td>\n",
       "      <td>NaN</td>\n",
       "      <td>NaN</td>\n",
       "      <td>NaN</td>\n",
       "      <td>NaN</td>\n",
       "      <td>...</td>\n",
       "      <td>NaN</td>\n",
       "      <td>NaN</td>\n",
       "      <td>NaN</td>\n",
       "      <td>NaN</td>\n",
       "      <td>NaN</td>\n",
       "      <td>NaN</td>\n",
       "      <td>NaN</td>\n",
       "      <td>NaN</td>\n",
       "      <td>NaN</td>\n",
       "      <td>NaN</td>\n",
       "    </tr>\n",
       "    <tr>\n",
       "      <th>536</th>\n",
       "      <td>NaN</td>\n",
       "      <td>NaN</td>\n",
       "      <td>NaN</td>\n",
       "      <td>NaN</td>\n",
       "      <td>NaN</td>\n",
       "      <td>0.002182</td>\n",
       "      <td>NaN</td>\n",
       "      <td>NaN</td>\n",
       "      <td>NaN</td>\n",
       "      <td>NaN</td>\n",
       "      <td>...</td>\n",
       "      <td>NaN</td>\n",
       "      <td>NaN</td>\n",
       "      <td>NaN</td>\n",
       "      <td>NaN</td>\n",
       "      <td>NaN</td>\n",
       "      <td>NaN</td>\n",
       "      <td>NaN</td>\n",
       "      <td>NaN</td>\n",
       "      <td>NaN</td>\n",
       "      <td>NaN</td>\n",
       "    </tr>\n",
       "    <tr>\n",
       "      <th>537</th>\n",
       "      <td>NaN</td>\n",
       "      <td>NaN</td>\n",
       "      <td>NaN</td>\n",
       "      <td>NaN</td>\n",
       "      <td>NaN</td>\n",
       "      <td>NaN</td>\n",
       "      <td>NaN</td>\n",
       "      <td>NaN</td>\n",
       "      <td>NaN</td>\n",
       "      <td>NaN</td>\n",
       "      <td>...</td>\n",
       "      <td>NaN</td>\n",
       "      <td>NaN</td>\n",
       "      <td>NaN</td>\n",
       "      <td>NaN</td>\n",
       "      <td>NaN</td>\n",
       "      <td>NaN</td>\n",
       "      <td>NaN</td>\n",
       "      <td>NaN</td>\n",
       "      <td>NaN</td>\n",
       "      <td>NaN</td>\n",
       "    </tr>\n",
       "    <tr>\n",
       "      <th>538</th>\n",
       "      <td>NaN</td>\n",
       "      <td>NaN</td>\n",
       "      <td>NaN</td>\n",
       "      <td>NaN</td>\n",
       "      <td>NaN</td>\n",
       "      <td>0.004330</td>\n",
       "      <td>NaN</td>\n",
       "      <td>NaN</td>\n",
       "      <td>NaN</td>\n",
       "      <td>NaN</td>\n",
       "      <td>...</td>\n",
       "      <td>NaN</td>\n",
       "      <td>NaN</td>\n",
       "      <td>NaN</td>\n",
       "      <td>0.001087</td>\n",
       "      <td>NaN</td>\n",
       "      <td>NaN</td>\n",
       "      <td>NaN</td>\n",
       "      <td>NaN</td>\n",
       "      <td>NaN</td>\n",
       "      <td>NaN</td>\n",
       "    </tr>\n",
       "    <tr>\n",
       "      <th>539</th>\n",
       "      <td>0.000671</td>\n",
       "      <td>NaN</td>\n",
       "      <td>NaN</td>\n",
       "      <td>NaN</td>\n",
       "      <td>NaN</td>\n",
       "      <td>0.004079</td>\n",
       "      <td>NaN</td>\n",
       "      <td>NaN</td>\n",
       "      <td>NaN</td>\n",
       "      <td>NaN</td>\n",
       "      <td>...</td>\n",
       "      <td>NaN</td>\n",
       "      <td>NaN</td>\n",
       "      <td>NaN</td>\n",
       "      <td>NaN</td>\n",
       "      <td>NaN</td>\n",
       "      <td>NaN</td>\n",
       "      <td>NaN</td>\n",
       "      <td>NaN</td>\n",
       "      <td>NaN</td>\n",
       "      <td>NaN</td>\n",
       "    </tr>\n",
       "    <tr>\n",
       "      <th>540</th>\n",
       "      <td>NaN</td>\n",
       "      <td>NaN</td>\n",
       "      <td>NaN</td>\n",
       "      <td>NaN</td>\n",
       "      <td>NaN</td>\n",
       "      <td>NaN</td>\n",
       "      <td>NaN</td>\n",
       "      <td>NaN</td>\n",
       "      <td>NaN</td>\n",
       "      <td>NaN</td>\n",
       "      <td>...</td>\n",
       "      <td>NaN</td>\n",
       "      <td>NaN</td>\n",
       "      <td>NaN</td>\n",
       "      <td>NaN</td>\n",
       "      <td>NaN</td>\n",
       "      <td>NaN</td>\n",
       "      <td>NaN</td>\n",
       "      <td>NaN</td>\n",
       "      <td>NaN</td>\n",
       "      <td>NaN</td>\n",
       "    </tr>\n",
       "    <tr>\n",
       "      <th>541</th>\n",
       "      <td>0.002957</td>\n",
       "      <td>NaN</td>\n",
       "      <td>NaN</td>\n",
       "      <td>NaN</td>\n",
       "      <td>NaN</td>\n",
       "      <td>NaN</td>\n",
       "      <td>NaN</td>\n",
       "      <td>NaN</td>\n",
       "      <td>NaN</td>\n",
       "      <td>NaN</td>\n",
       "      <td>...</td>\n",
       "      <td>NaN</td>\n",
       "      <td>NaN</td>\n",
       "      <td>NaN</td>\n",
       "      <td>NaN</td>\n",
       "      <td>NaN</td>\n",
       "      <td>NaN</td>\n",
       "      <td>NaN</td>\n",
       "      <td>NaN</td>\n",
       "      <td>NaN</td>\n",
       "      <td>NaN</td>\n",
       "    </tr>\n",
       "    <tr>\n",
       "      <th>542</th>\n",
       "      <td>NaN</td>\n",
       "      <td>NaN</td>\n",
       "      <td>NaN</td>\n",
       "      <td>NaN</td>\n",
       "      <td>NaN</td>\n",
       "      <td>NaN</td>\n",
       "      <td>NaN</td>\n",
       "      <td>NaN</td>\n",
       "      <td>NaN</td>\n",
       "      <td>NaN</td>\n",
       "      <td>...</td>\n",
       "      <td>NaN</td>\n",
       "      <td>NaN</td>\n",
       "      <td>NaN</td>\n",
       "      <td>NaN</td>\n",
       "      <td>NaN</td>\n",
       "      <td>NaN</td>\n",
       "      <td>NaN</td>\n",
       "      <td>NaN</td>\n",
       "      <td>NaN</td>\n",
       "      <td>NaN</td>\n",
       "    </tr>\n",
       "    <tr>\n",
       "      <th>543</th>\n",
       "      <td>NaN</td>\n",
       "      <td>NaN</td>\n",
       "      <td>NaN</td>\n",
       "      <td>NaN</td>\n",
       "      <td>NaN</td>\n",
       "      <td>NaN</td>\n",
       "      <td>NaN</td>\n",
       "      <td>NaN</td>\n",
       "      <td>NaN</td>\n",
       "      <td>NaN</td>\n",
       "      <td>...</td>\n",
       "      <td>NaN</td>\n",
       "      <td>NaN</td>\n",
       "      <td>NaN</td>\n",
       "      <td>NaN</td>\n",
       "      <td>NaN</td>\n",
       "      <td>NaN</td>\n",
       "      <td>NaN</td>\n",
       "      <td>NaN</td>\n",
       "      <td>NaN</td>\n",
       "      <td>NaN</td>\n",
       "    </tr>\n",
       "    <tr>\n",
       "      <th>544</th>\n",
       "      <td>NaN</td>\n",
       "      <td>NaN</td>\n",
       "      <td>NaN</td>\n",
       "      <td>NaN</td>\n",
       "      <td>NaN</td>\n",
       "      <td>0.002519</td>\n",
       "      <td>NaN</td>\n",
       "      <td>NaN</td>\n",
       "      <td>NaN</td>\n",
       "      <td>NaN</td>\n",
       "      <td>...</td>\n",
       "      <td>NaN</td>\n",
       "      <td>NaN</td>\n",
       "      <td>NaN</td>\n",
       "      <td>NaN</td>\n",
       "      <td>NaN</td>\n",
       "      <td>NaN</td>\n",
       "      <td>NaN</td>\n",
       "      <td>NaN</td>\n",
       "      <td>NaN</td>\n",
       "      <td>NaN</td>\n",
       "    </tr>\n",
       "    <tr>\n",
       "      <th>545</th>\n",
       "      <td>NaN</td>\n",
       "      <td>NaN</td>\n",
       "      <td>NaN</td>\n",
       "      <td>NaN</td>\n",
       "      <td>NaN</td>\n",
       "      <td>NaN</td>\n",
       "      <td>NaN</td>\n",
       "      <td>NaN</td>\n",
       "      <td>NaN</td>\n",
       "      <td>NaN</td>\n",
       "      <td>...</td>\n",
       "      <td>NaN</td>\n",
       "      <td>NaN</td>\n",
       "      <td>NaN</td>\n",
       "      <td>NaN</td>\n",
       "      <td>NaN</td>\n",
       "      <td>NaN</td>\n",
       "      <td>NaN</td>\n",
       "      <td>NaN</td>\n",
       "      <td>NaN</td>\n",
       "      <td>NaN</td>\n",
       "    </tr>\n",
       "    <tr>\n",
       "      <th>546</th>\n",
       "      <td>NaN</td>\n",
       "      <td>NaN</td>\n",
       "      <td>NaN</td>\n",
       "      <td>NaN</td>\n",
       "      <td>NaN</td>\n",
       "      <td>NaN</td>\n",
       "      <td>NaN</td>\n",
       "      <td>-0.000058</td>\n",
       "      <td>NaN</td>\n",
       "      <td>NaN</td>\n",
       "      <td>...</td>\n",
       "      <td>NaN</td>\n",
       "      <td>NaN</td>\n",
       "      <td>NaN</td>\n",
       "      <td>NaN</td>\n",
       "      <td>NaN</td>\n",
       "      <td>NaN</td>\n",
       "      <td>NaN</td>\n",
       "      <td>NaN</td>\n",
       "      <td>NaN</td>\n",
       "      <td>NaN</td>\n",
       "    </tr>\n",
       "    <tr>\n",
       "      <th>547</th>\n",
       "      <td>NaN</td>\n",
       "      <td>NaN</td>\n",
       "      <td>NaN</td>\n",
       "      <td>NaN</td>\n",
       "      <td>NaN</td>\n",
       "      <td>NaN</td>\n",
       "      <td>NaN</td>\n",
       "      <td>NaN</td>\n",
       "      <td>NaN</td>\n",
       "      <td>NaN</td>\n",
       "      <td>...</td>\n",
       "      <td>NaN</td>\n",
       "      <td>NaN</td>\n",
       "      <td>NaN</td>\n",
       "      <td>NaN</td>\n",
       "      <td>NaN</td>\n",
       "      <td>NaN</td>\n",
       "      <td>NaN</td>\n",
       "      <td>NaN</td>\n",
       "      <td>NaN</td>\n",
       "      <td>NaN</td>\n",
       "    </tr>\n",
       "    <tr>\n",
       "      <th>548</th>\n",
       "      <td>NaN</td>\n",
       "      <td>NaN</td>\n",
       "      <td>NaN</td>\n",
       "      <td>NaN</td>\n",
       "      <td>NaN</td>\n",
       "      <td>0.004443</td>\n",
       "      <td>NaN</td>\n",
       "      <td>NaN</td>\n",
       "      <td>NaN</td>\n",
       "      <td>-0.002009</td>\n",
       "      <td>...</td>\n",
       "      <td>NaN</td>\n",
       "      <td>NaN</td>\n",
       "      <td>NaN</td>\n",
       "      <td>NaN</td>\n",
       "      <td>NaN</td>\n",
       "      <td>NaN</td>\n",
       "      <td>NaN</td>\n",
       "      <td>NaN</td>\n",
       "      <td>NaN</td>\n",
       "      <td>NaN</td>\n",
       "    </tr>\n",
       "    <tr>\n",
       "      <th>549</th>\n",
       "      <td>NaN</td>\n",
       "      <td>NaN</td>\n",
       "      <td>NaN</td>\n",
       "      <td>NaN</td>\n",
       "      <td>NaN</td>\n",
       "      <td>NaN</td>\n",
       "      <td>NaN</td>\n",
       "      <td>NaN</td>\n",
       "      <td>NaN</td>\n",
       "      <td>NaN</td>\n",
       "      <td>...</td>\n",
       "      <td>NaN</td>\n",
       "      <td>NaN</td>\n",
       "      <td>NaN</td>\n",
       "      <td>NaN</td>\n",
       "      <td>NaN</td>\n",
       "      <td>0.001447</td>\n",
       "      <td>NaN</td>\n",
       "      <td>NaN</td>\n",
       "      <td>NaN</td>\n",
       "      <td>NaN</td>\n",
       "    </tr>\n",
       "    <tr>\n",
       "      <th>550</th>\n",
       "      <td>NaN</td>\n",
       "      <td>NaN</td>\n",
       "      <td>NaN</td>\n",
       "      <td>NaN</td>\n",
       "      <td>NaN</td>\n",
       "      <td>NaN</td>\n",
       "      <td>NaN</td>\n",
       "      <td>NaN</td>\n",
       "      <td>NaN</td>\n",
       "      <td>NaN</td>\n",
       "      <td>...</td>\n",
       "      <td>NaN</td>\n",
       "      <td>NaN</td>\n",
       "      <td>NaN</td>\n",
       "      <td>NaN</td>\n",
       "      <td>NaN</td>\n",
       "      <td>NaN</td>\n",
       "      <td>NaN</td>\n",
       "      <td>NaN</td>\n",
       "      <td>NaN</td>\n",
       "      <td>NaN</td>\n",
       "    </tr>\n",
       "    <tr>\n",
       "      <th>551</th>\n",
       "      <td>NaN</td>\n",
       "      <td>NaN</td>\n",
       "      <td>NaN</td>\n",
       "      <td>NaN</td>\n",
       "      <td>NaN</td>\n",
       "      <td>NaN</td>\n",
       "      <td>NaN</td>\n",
       "      <td>NaN</td>\n",
       "      <td>-0.001853</td>\n",
       "      <td>NaN</td>\n",
       "      <td>...</td>\n",
       "      <td>NaN</td>\n",
       "      <td>NaN</td>\n",
       "      <td>NaN</td>\n",
       "      <td>NaN</td>\n",
       "      <td>NaN</td>\n",
       "      <td>NaN</td>\n",
       "      <td>NaN</td>\n",
       "      <td>NaN</td>\n",
       "      <td>NaN</td>\n",
       "      <td>NaN</td>\n",
       "    </tr>\n",
       "    <tr>\n",
       "      <th>552</th>\n",
       "      <td>NaN</td>\n",
       "      <td>NaN</td>\n",
       "      <td>NaN</td>\n",
       "      <td>NaN</td>\n",
       "      <td>NaN</td>\n",
       "      <td>NaN</td>\n",
       "      <td>NaN</td>\n",
       "      <td>NaN</td>\n",
       "      <td>NaN</td>\n",
       "      <td>NaN</td>\n",
       "      <td>...</td>\n",
       "      <td>NaN</td>\n",
       "      <td>NaN</td>\n",
       "      <td>NaN</td>\n",
       "      <td>NaN</td>\n",
       "      <td>NaN</td>\n",
       "      <td>NaN</td>\n",
       "      <td>NaN</td>\n",
       "      <td>NaN</td>\n",
       "      <td>NaN</td>\n",
       "      <td>NaN</td>\n",
       "    </tr>\n",
       "  </tbody>\n",
       "</table>\n",
       "<p>553 rows × 15607 columns</p>\n",
       "</div>"
      ],
      "text/plain": [
       "     Chr22:29885127:-:AAACAA=0  Chr22:29885127:-:AAACAA=1  \\\n",
       "0                          NaN                        NaN   \n",
       "1                     0.002250                        NaN   \n",
       "2                          NaN                        NaN   \n",
       "3                          NaN                        NaN   \n",
       "4                          NaN                        NaN   \n",
       "5                          NaN                        NaN   \n",
       "6                          NaN                        NaN   \n",
       "7                          NaN                        NaN   \n",
       "8                          NaN                        NaN   \n",
       "9                          NaN                        NaN   \n",
       "10                         NaN                        NaN   \n",
       "11                    0.002467                        NaN   \n",
       "12                         NaN                        NaN   \n",
       "13                         NaN                        NaN   \n",
       "14                         NaN                        NaN   \n",
       "15                         NaN                        NaN   \n",
       "16                         NaN                        NaN   \n",
       "17                         NaN                        NaN   \n",
       "18                         NaN                        NaN   \n",
       "19                         NaN                        NaN   \n",
       "20                         NaN                        NaN   \n",
       "21                    0.002799                        NaN   \n",
       "22                    0.003260                        NaN   \n",
       "23                         NaN                        NaN   \n",
       "24                         NaN                        NaN   \n",
       "25                         NaN                        NaN   \n",
       "26                         NaN                        NaN   \n",
       "27                         NaN                        NaN   \n",
       "28                         NaN                        NaN   \n",
       "29                         NaN                        NaN   \n",
       "..                         ...                        ...   \n",
       "523                        NaN                        NaN   \n",
       "524                        NaN                        NaN   \n",
       "525                        NaN                        NaN   \n",
       "526                        NaN                        NaN   \n",
       "527                        NaN                        NaN   \n",
       "528                        NaN                        NaN   \n",
       "529                        NaN                        NaN   \n",
       "530                        NaN                        NaN   \n",
       "531                        NaN                        NaN   \n",
       "532                        NaN                        NaN   \n",
       "533                        NaN                        NaN   \n",
       "534                        NaN                        NaN   \n",
       "535                        NaN                        NaN   \n",
       "536                        NaN                        NaN   \n",
       "537                        NaN                        NaN   \n",
       "538                        NaN                        NaN   \n",
       "539                   0.000671                        NaN   \n",
       "540                        NaN                        NaN   \n",
       "541                   0.002957                        NaN   \n",
       "542                        NaN                        NaN   \n",
       "543                        NaN                        NaN   \n",
       "544                        NaN                        NaN   \n",
       "545                        NaN                        NaN   \n",
       "546                        NaN                        NaN   \n",
       "547                        NaN                        NaN   \n",
       "548                        NaN                        NaN   \n",
       "549                        NaN                        NaN   \n",
       "550                        NaN                        NaN   \n",
       "551                        NaN                        NaN   \n",
       "552                        NaN                        NaN   \n",
       "\n",
       "     Chr22:29885127:-:AAACAA=2  Chr6:30954121:G:T=0  Chr6:30954121:G:T=1  \\\n",
       "0                          NaN                  NaN                  NaN   \n",
       "1                          NaN                  NaN                  NaN   \n",
       "2                          NaN                  NaN                  NaN   \n",
       "3                          NaN                  NaN                  NaN   \n",
       "4                    -0.002109                  NaN                  NaN   \n",
       "5                          NaN                  NaN                  NaN   \n",
       "6                    -0.002820                  NaN                  NaN   \n",
       "7                          NaN                  NaN                  NaN   \n",
       "8                          NaN                  NaN                  NaN   \n",
       "9                          NaN                  NaN                  NaN   \n",
       "10                         NaN                  NaN                  NaN   \n",
       "11                         NaN                  NaN                  NaN   \n",
       "12                   -0.003193                  NaN                  NaN   \n",
       "13                         NaN                  NaN                  NaN   \n",
       "14                         NaN                  NaN                  NaN   \n",
       "15                         NaN                  NaN                  NaN   \n",
       "16                         NaN                  NaN                  NaN   \n",
       "17                         NaN                  NaN                  NaN   \n",
       "18                         NaN                  NaN                  NaN   \n",
       "19                         NaN                  NaN                  NaN   \n",
       "20                         NaN                  NaN                  NaN   \n",
       "21                         NaN                  NaN                  NaN   \n",
       "22                         NaN                  NaN                  NaN   \n",
       "23                   -0.001773                  NaN                  NaN   \n",
       "24                         NaN                  NaN                  NaN   \n",
       "25                         NaN                  NaN                  NaN   \n",
       "26                         NaN                  NaN                  NaN   \n",
       "27                         NaN                  NaN                  NaN   \n",
       "28                   -0.001179                  NaN                  NaN   \n",
       "29                         NaN                  NaN                  NaN   \n",
       "..                         ...                  ...                  ...   \n",
       "523                        NaN                  NaN                  NaN   \n",
       "524                        NaN                  NaN                  NaN   \n",
       "525                        NaN                  NaN                  NaN   \n",
       "526                        NaN                  NaN                  NaN   \n",
       "527                        NaN                  NaN                  NaN   \n",
       "528                  -0.003711                  NaN                  NaN   \n",
       "529                        NaN                  NaN                  NaN   \n",
       "530                        NaN                  NaN                  NaN   \n",
       "531                  -0.001628                  NaN                  NaN   \n",
       "532                        NaN                  NaN                  NaN   \n",
       "533                        NaN                  NaN                  NaN   \n",
       "534                  -0.002773                  NaN                  NaN   \n",
       "535                   0.002159                  NaN                  NaN   \n",
       "536                        NaN                  NaN                  NaN   \n",
       "537                        NaN                  NaN                  NaN   \n",
       "538                        NaN                  NaN                  NaN   \n",
       "539                        NaN                  NaN                  NaN   \n",
       "540                        NaN                  NaN                  NaN   \n",
       "541                        NaN                  NaN                  NaN   \n",
       "542                        NaN                  NaN                  NaN   \n",
       "543                        NaN                  NaN                  NaN   \n",
       "544                        NaN                  NaN                  NaN   \n",
       "545                        NaN                  NaN                  NaN   \n",
       "546                        NaN                  NaN                  NaN   \n",
       "547                        NaN                  NaN                  NaN   \n",
       "548                        NaN                  NaN                  NaN   \n",
       "549                        NaN                  NaN                  NaN   \n",
       "550                        NaN                  NaN                  NaN   \n",
       "551                        NaN                  NaN                  NaN   \n",
       "552                        NaN                  NaN                  NaN   \n",
       "\n",
       "     Chr6:30954121:G:T=2  Chr6:31496778:C:G=0  Chr6:31496778:C:G=1  \\\n",
       "0                    NaN                  NaN                  NaN   \n",
       "1               0.002159            -0.000204                  NaN   \n",
       "2               0.002450                  NaN                  NaN   \n",
       "3                    NaN                  NaN                  NaN   \n",
       "4               0.002603                  NaN             0.000704   \n",
       "5               0.002624                  NaN                  NaN   \n",
       "6                    NaN                  NaN                  NaN   \n",
       "7                    NaN                  NaN                  NaN   \n",
       "8               0.004200                  NaN                  NaN   \n",
       "9                    NaN                  NaN                  NaN   \n",
       "10                   NaN                  NaN                  NaN   \n",
       "11                   NaN                  NaN                  NaN   \n",
       "12                   NaN                  NaN                  NaN   \n",
       "13                   NaN                  NaN                  NaN   \n",
       "14                   NaN                  NaN            -0.001455   \n",
       "15                   NaN                  NaN                  NaN   \n",
       "16              0.003776                  NaN                  NaN   \n",
       "17                   NaN                  NaN                  NaN   \n",
       "18                   NaN                  NaN                  NaN   \n",
       "19              0.004158                  NaN                  NaN   \n",
       "20              0.003010                  NaN                  NaN   \n",
       "21              0.003952                  NaN                  NaN   \n",
       "22                   NaN                  NaN                  NaN   \n",
       "23              0.004194                  NaN                  NaN   \n",
       "24                   NaN                  NaN                  NaN   \n",
       "25              0.002757                  NaN                  NaN   \n",
       "26              0.002309                  NaN                  NaN   \n",
       "27                   NaN                  NaN                  NaN   \n",
       "28                   NaN                  NaN             0.002232   \n",
       "29                   NaN                  NaN                  NaN   \n",
       "..                   ...                  ...                  ...   \n",
       "523                  NaN                  NaN                  NaN   \n",
       "524                  NaN                  NaN                  NaN   \n",
       "525                  NaN                  NaN                  NaN   \n",
       "526             0.003276                  NaN                  NaN   \n",
       "527             0.004319                  NaN                  NaN   \n",
       "528                  NaN                  NaN                  NaN   \n",
       "529                  NaN                  NaN                  NaN   \n",
       "530                  NaN                  NaN                  NaN   \n",
       "531                  NaN                  NaN                  NaN   \n",
       "532                  NaN                  NaN                  NaN   \n",
       "533             0.001796                  NaN                  NaN   \n",
       "534                  NaN                  NaN                  NaN   \n",
       "535                  NaN                  NaN                  NaN   \n",
       "536             0.002182                  NaN                  NaN   \n",
       "537                  NaN                  NaN                  NaN   \n",
       "538             0.004330                  NaN                  NaN   \n",
       "539             0.004079                  NaN                  NaN   \n",
       "540                  NaN                  NaN                  NaN   \n",
       "541                  NaN                  NaN                  NaN   \n",
       "542                  NaN                  NaN                  NaN   \n",
       "543                  NaN                  NaN                  NaN   \n",
       "544             0.002519                  NaN                  NaN   \n",
       "545                  NaN                  NaN                  NaN   \n",
       "546                  NaN                  NaN            -0.000058   \n",
       "547                  NaN                  NaN                  NaN   \n",
       "548             0.004443                  NaN                  NaN   \n",
       "549                  NaN                  NaN                  NaN   \n",
       "550                  NaN                  NaN                  NaN   \n",
       "551                  NaN                  NaN                  NaN   \n",
       "552                  NaN                  NaN                  NaN   \n",
       "\n",
       "     Chr6:31496778:C:G=2  Chr6:32551098:C:G=0     ...      rs997066=2  \\\n",
       "0                    NaN                  NaN     ...             NaN   \n",
       "1                    NaN                  NaN     ...             NaN   \n",
       "2                    NaN                  NaN     ...             NaN   \n",
       "3                    NaN                  NaN     ...             NaN   \n",
       "4                    NaN                  NaN     ...             NaN   \n",
       "5                    NaN                  NaN     ...             NaN   \n",
       "6                    NaN                  NaN     ...             NaN   \n",
       "7                    NaN                  NaN     ...             NaN   \n",
       "8                    NaN                  NaN     ...             NaN   \n",
       "9                    NaN                  NaN     ...             NaN   \n",
       "10                   NaN                  NaN     ...             NaN   \n",
       "11                   NaN                  NaN     ...             NaN   \n",
       "12                   NaN                  NaN     ...             NaN   \n",
       "13                   NaN                  NaN     ...             NaN   \n",
       "14                   NaN                  NaN     ...             NaN   \n",
       "15                   NaN                  NaN     ...             NaN   \n",
       "16             -0.000498                  NaN     ...             NaN   \n",
       "17                   NaN                  NaN     ...       -0.001251   \n",
       "18                   NaN                  NaN     ...             NaN   \n",
       "19                   NaN            -0.002015     ...             NaN   \n",
       "20                   NaN                  NaN     ...             NaN   \n",
       "21                   NaN                  NaN     ...             NaN   \n",
       "22                   NaN                  NaN     ...             NaN   \n",
       "23                   NaN                  NaN     ...             NaN   \n",
       "24                   NaN                  NaN     ...             NaN   \n",
       "25                   NaN                  NaN     ...             NaN   \n",
       "26                   NaN                  NaN     ...             NaN   \n",
       "27                   NaN                  NaN     ...             NaN   \n",
       "28                   NaN                  NaN     ...             NaN   \n",
       "29                   NaN                  NaN     ...             NaN   \n",
       "..                   ...                  ...     ...             ...   \n",
       "523                  NaN                  NaN     ...             NaN   \n",
       "524                  NaN                  NaN     ...             NaN   \n",
       "525                  NaN                  NaN     ...             NaN   \n",
       "526                  NaN                  NaN     ...             NaN   \n",
       "527                  NaN                  NaN     ...             NaN   \n",
       "528                  NaN                  NaN     ...             NaN   \n",
       "529                  NaN                  NaN     ...             NaN   \n",
       "530                  NaN                  NaN     ...             NaN   \n",
       "531                  NaN                  NaN     ...             NaN   \n",
       "532                  NaN                  NaN     ...             NaN   \n",
       "533                  NaN                  NaN     ...             NaN   \n",
       "534                  NaN                  NaN     ...             NaN   \n",
       "535                  NaN                  NaN     ...             NaN   \n",
       "536                  NaN                  NaN     ...             NaN   \n",
       "537                  NaN                  NaN     ...             NaN   \n",
       "538                  NaN                  NaN     ...             NaN   \n",
       "539                  NaN                  NaN     ...             NaN   \n",
       "540                  NaN                  NaN     ...             NaN   \n",
       "541                  NaN                  NaN     ...             NaN   \n",
       "542                  NaN                  NaN     ...             NaN   \n",
       "543                  NaN                  NaN     ...             NaN   \n",
       "544                  NaN                  NaN     ...             NaN   \n",
       "545                  NaN                  NaN     ...             NaN   \n",
       "546                  NaN                  NaN     ...             NaN   \n",
       "547                  NaN                  NaN     ...             NaN   \n",
       "548                  NaN            -0.002009     ...             NaN   \n",
       "549                  NaN                  NaN     ...             NaN   \n",
       "550                  NaN                  NaN     ...             NaN   \n",
       "551            -0.001853                  NaN     ...             NaN   \n",
       "552                  NaN                  NaN     ...             NaN   \n",
       "\n",
       "     rs9977355=0  rs9977355=1  rs9977355=2  rs9980825=0  rs9980825=1  \\\n",
       "0            NaN          NaN          NaN          NaN          NaN   \n",
       "1            NaN          NaN          NaN          NaN          NaN   \n",
       "2            NaN          NaN          NaN          NaN          NaN   \n",
       "3            NaN          NaN          NaN          NaN          NaN   \n",
       "4            NaN          NaN          NaN          NaN          NaN   \n",
       "5            NaN          NaN          NaN          NaN          NaN   \n",
       "6            NaN     0.001258          NaN          NaN          NaN   \n",
       "7            NaN          NaN          NaN          NaN          NaN   \n",
       "8            NaN          NaN          NaN          NaN          NaN   \n",
       "9            NaN          NaN          NaN          NaN          NaN   \n",
       "10           NaN          NaN          NaN          NaN          NaN   \n",
       "11           NaN          NaN          NaN          NaN          NaN   \n",
       "12           NaN          NaN          NaN          NaN    -0.001317   \n",
       "13           NaN          NaN          NaN          NaN          NaN   \n",
       "14           NaN          NaN          NaN          NaN          NaN   \n",
       "15           NaN          NaN          NaN          NaN          NaN   \n",
       "16           NaN          NaN          NaN          NaN          NaN   \n",
       "17           NaN          NaN          NaN          NaN          NaN   \n",
       "18           NaN          NaN          NaN          NaN          NaN   \n",
       "19           NaN          NaN          NaN          NaN          NaN   \n",
       "20           NaN          NaN          NaN          NaN          NaN   \n",
       "21           NaN          NaN          NaN          NaN          NaN   \n",
       "22           NaN          NaN          NaN    -0.002387          NaN   \n",
       "23           NaN          NaN          NaN          NaN          NaN   \n",
       "24           NaN          NaN          NaN          NaN          NaN   \n",
       "25           NaN          NaN          NaN          NaN          NaN   \n",
       "26           NaN          NaN          NaN          NaN          NaN   \n",
       "27           NaN          NaN          NaN          NaN          NaN   \n",
       "28           NaN          NaN          NaN          NaN          NaN   \n",
       "29           NaN          NaN          NaN          NaN          NaN   \n",
       "..           ...          ...          ...          ...          ...   \n",
       "523          NaN    -0.001158          NaN          NaN          NaN   \n",
       "524          NaN          NaN          NaN          NaN    -0.000258   \n",
       "525          NaN          NaN          NaN          NaN          NaN   \n",
       "526          NaN          NaN          NaN          NaN          NaN   \n",
       "527          NaN          NaN          NaN          NaN          NaN   \n",
       "528          NaN          NaN          NaN          NaN          NaN   \n",
       "529          NaN          NaN          NaN          NaN          NaN   \n",
       "530          NaN          NaN          NaN          NaN          NaN   \n",
       "531          NaN          NaN          NaN          NaN          NaN   \n",
       "532          NaN          NaN          NaN          NaN          NaN   \n",
       "533          NaN          NaN          NaN          NaN     0.000356   \n",
       "534          NaN          NaN          NaN          NaN          NaN   \n",
       "535          NaN          NaN          NaN          NaN          NaN   \n",
       "536          NaN          NaN          NaN          NaN          NaN   \n",
       "537          NaN          NaN          NaN          NaN          NaN   \n",
       "538          NaN          NaN     0.001087          NaN          NaN   \n",
       "539          NaN          NaN          NaN          NaN          NaN   \n",
       "540          NaN          NaN          NaN          NaN          NaN   \n",
       "541          NaN          NaN          NaN          NaN          NaN   \n",
       "542          NaN          NaN          NaN          NaN          NaN   \n",
       "543          NaN          NaN          NaN          NaN          NaN   \n",
       "544          NaN          NaN          NaN          NaN          NaN   \n",
       "545          NaN          NaN          NaN          NaN          NaN   \n",
       "546          NaN          NaN          NaN          NaN          NaN   \n",
       "547          NaN          NaN          NaN          NaN          NaN   \n",
       "548          NaN          NaN          NaN          NaN          NaN   \n",
       "549          NaN          NaN          NaN          NaN     0.001447   \n",
       "550          NaN          NaN          NaN          NaN          NaN   \n",
       "551          NaN          NaN          NaN          NaN          NaN   \n",
       "552          NaN          NaN          NaN          NaN          NaN   \n",
       "\n",
       "     rs9980825=2  rs999737=0  rs999737=1  rs999737=2  \n",
       "0            NaN         NaN         NaN         NaN  \n",
       "1            NaN         NaN         NaN         NaN  \n",
       "2            NaN         NaN         NaN         NaN  \n",
       "3            NaN         NaN         NaN         NaN  \n",
       "4            NaN         NaN         NaN         NaN  \n",
       "5            NaN         NaN         NaN         NaN  \n",
       "6            NaN         NaN         NaN         NaN  \n",
       "7            NaN         NaN         NaN         NaN  \n",
       "8       0.002518         NaN         NaN         NaN  \n",
       "9            NaN         NaN         NaN         NaN  \n",
       "10           NaN         NaN         NaN         NaN  \n",
       "11           NaN         NaN         NaN         NaN  \n",
       "12           NaN         NaN         NaN         NaN  \n",
       "13           NaN         NaN         NaN         NaN  \n",
       "14           NaN         NaN         NaN         NaN  \n",
       "15           NaN         NaN         NaN         NaN  \n",
       "16           NaN         NaN         NaN         NaN  \n",
       "17           NaN         NaN         NaN         NaN  \n",
       "18      0.004474         NaN         NaN         NaN  \n",
       "19           NaN         NaN         NaN         NaN  \n",
       "20           NaN         NaN         NaN         NaN  \n",
       "21           NaN         NaN         NaN         NaN  \n",
       "22           NaN         NaN         NaN         NaN  \n",
       "23           NaN         NaN         NaN         NaN  \n",
       "24           NaN         NaN         NaN         NaN  \n",
       "25           NaN         NaN         NaN         NaN  \n",
       "26           NaN         NaN         NaN         NaN  \n",
       "27           NaN    0.000741         NaN         NaN  \n",
       "28           NaN         NaN         NaN         NaN  \n",
       "29           NaN         NaN         NaN         NaN  \n",
       "..           ...         ...         ...         ...  \n",
       "523          NaN         NaN    0.000188         NaN  \n",
       "524          NaN         NaN    0.000793         NaN  \n",
       "525          NaN         NaN         NaN         NaN  \n",
       "526          NaN         NaN         NaN         NaN  \n",
       "527          NaN         NaN         NaN         NaN  \n",
       "528          NaN         NaN         NaN   -0.000338  \n",
       "529          NaN         NaN         NaN         NaN  \n",
       "530          NaN         NaN         NaN         NaN  \n",
       "531          NaN         NaN         NaN         NaN  \n",
       "532          NaN         NaN         NaN         NaN  \n",
       "533          NaN         NaN         NaN         NaN  \n",
       "534          NaN         NaN         NaN         NaN  \n",
       "535          NaN         NaN         NaN         NaN  \n",
       "536          NaN         NaN         NaN         NaN  \n",
       "537          NaN         NaN         NaN         NaN  \n",
       "538          NaN         NaN         NaN         NaN  \n",
       "539          NaN         NaN         NaN         NaN  \n",
       "540          NaN         NaN         NaN         NaN  \n",
       "541          NaN         NaN         NaN         NaN  \n",
       "542          NaN         NaN         NaN         NaN  \n",
       "543          NaN         NaN         NaN         NaN  \n",
       "544          NaN         NaN         NaN         NaN  \n",
       "545          NaN         NaN         NaN         NaN  \n",
       "546          NaN         NaN         NaN         NaN  \n",
       "547          NaN         NaN         NaN         NaN  \n",
       "548          NaN         NaN         NaN         NaN  \n",
       "549          NaN         NaN         NaN         NaN  \n",
       "550          NaN         NaN         NaN         NaN  \n",
       "551          NaN         NaN         NaN         NaN  \n",
       "552          NaN         NaN         NaN         NaN  \n",
       "\n",
       "[553 rows x 15607 columns]"
      ]
     },
     "execution_count": 63,
     "metadata": {},
     "output_type": "execute_result"
    }
   ],
   "source": [
    "W"
   ]
  },
  {
   "cell_type": "code",
   "execution_count": 77,
   "metadata": {},
   "outputs": [
    {
     "data": {
      "text/plain": [
       "array(['rs12542492=2', 'chr8_89514784_A_G=2', 'chr16_52328666_C_T=2', ...,\n",
       "       'rs602946=2', 'rs28969436=2', 'chr8_89514784_A_G=0'], dtype=object)"
      ]
     },
     "execution_count": 77,
     "metadata": {},
     "output_type": "execute_result"
    }
   ],
   "source": [
    "important_lime_full.values[:,0]"
   ]
  },
  {
   "cell_type": "code",
   "execution_count": 103,
   "metadata": {},
   "outputs": [],
   "source": [
    "top23=['Chr6:30954121:G:T', 'chr13_113284191_C_T', 'chr13_113796587_A_G', 'chr14_101121371_G_T', 'chr14_76886176_C_T', 'chr16_52328666_C_T', 'chr17_4961271_G_T', 'chr1_97788840_A_G', 'chr2_171708059_C_T', 'chr3_46742523_A_C', 'chr5_180405432_G_T', 'chr7_102368966_A_G', 'chr7_118831547_C_T', 'chr8_130380476_C_T', 'chr8_89514784_A_G', 'chr9_16917672_G_T', 'corect_rs116995945', 'corect_rs139337779', 'corect_rs181578054', 'rs11642757', 'rs12542492', 'rs3858522', 'rs4040605']"
   ]
  },
  {
   "cell_type": "code",
   "execution_count": 104,
   "metadata": {},
   "outputs": [],
   "source": [
    "important_lime_full=pd.DataFrame(W.fillna(0).mean()).sort_values(by=[0],ascending=False).reset_index()"
   ]
  },
  {
   "cell_type": "code",
   "execution_count": 105,
   "metadata": {},
   "outputs": [],
   "source": [
    "val=[]\n",
    "for i in top23:\n",
    "    val.append([i,important_lime_full[important_lime_full[\"index\"].str.contains(i)].max()[1]])"
   ]
  },
  {
   "cell_type": "code",
   "execution_count": 108,
   "metadata": {},
   "outputs": [
    {
     "data": {
      "text/plain": [
       "[['Chr6:30954121:G:T', 0.0006834230167885658],\n",
       " ['chr13_113284191_C_T', 0.0003946451893483206],\n",
       " ['chr13_113796587_A_G', 0.0004333880462660605],\n",
       " ['chr14_101121371_G_T', 0.0005807430475045648],\n",
       " ['chr14_76886176_C_T', 0.0003473546733269619],\n",
       " ['chr16_52328666_C_T', 0.0022498241782948286],\n",
       " ['chr17_4961271_G_T', 0.0004194484664256056],\n",
       " ['chr1_97788840_A_G', 0.0006019075940333382],\n",
       " ['chr2_171708059_C_T', 0.00040571285758306676],\n",
       " ['chr3_46742523_A_C', 0.0005208866859668232],\n",
       " ['chr5_180405432_G_T', 0.00040996836130488925],\n",
       " ['chr7_102368966_A_G', 0.0004088091878084925],\n",
       " ['chr7_118831547_C_T', 0.00040298936858181847],\n",
       " ['chr8_130380476_C_T', 0.00043260582725992676],\n",
       " ['chr8_89514784_A_G', 0.0027004602176965292],\n",
       " ['chr9_16917672_G_T', 0.00045048282079602163],\n",
       " ['corect_rs116995945', 0.00035720081091181167],\n",
       " ['corect_rs139337779', 0.0004535540901532768],\n",
       " ['corect_rs181578054', 0.000405156588306864],\n",
       " ['rs11642757', 0.0005259856815362881],\n",
       " ['rs12542492', 0.003990774218558466],\n",
       " ['rs3858522', 0.0007689011000843075],\n",
       " ['rs4040605', 0.000443213942642684]]"
      ]
     },
     "execution_count": 108,
     "metadata": {},
     "output_type": "execute_result"
    }
   ],
   "source": [
    "val"
   ]
  },
  {
   "cell_type": "code",
   "execution_count": 109,
   "metadata": {},
   "outputs": [],
   "source": [
    "pd.DataFrame(val).to_csv(\"/work/breastcancer/clean_test/results/lime23.csv\")"
   ]
  },
  {
   "cell_type": "code",
   "execution_count": 78,
   "metadata": {},
   "outputs": [],
   "source": [
    "important_lime=important_lime_full.values[:1000,0]"
   ]
  },
  {
   "cell_type": "code",
   "execution_count": 79,
   "metadata": {},
   "outputs": [
    {
     "data": {
      "text/plain": [
       "array(['rs12542492=2', 'chr8_89514784_A_G=2', 'chr16_52328666_C_T=2',\n",
       "       'chr10_123467015_C_G=0', 'chr5_111413372_G_T=2',\n",
       "       'chr5_26657987_A_G=2', 'chr2_8196361_A_C=2', 'chr16_8755147_C_T=2',\n",
       "       'chr19_56005289_C_T=0', 'rs3858522=2', 'chr2_168306484_C_T=2',\n",
       "       'chr6_117598048_A_G=2', 'Chr6:30954121:G:T=2', 'rs132392=0',\n",
       "       'chr5_56324570_C_G=2', 'chr11_1937696_C_T=2',\n",
       "       'chr1_97788840_A_G=0', 'chr4_73793618_C_T=2',\n",
       "       'chr20_11343864_C_T=2', 'rs1737035=2', 'chr14_101121371_G_T=2',\n",
       "       'chr2_217957699_G_T=2', 'chr4_53438173_A_G=2', 'rs34839759=2',\n",
       "       'exm414370=2', 'rs28637953=0', 'rs11642757=2',\n",
       "       'chr3_46742523_A_C=2', 'rs68018508=2', 'rs425335=2', 'rs7025424=2',\n",
       "       'rs11869626=2', 'chr17_2990014_G_T=2', 'corect_rs139337779=2',\n",
       "       'chr9_16917672_G_T=2', 'rs1150850=2', 'chr6_32486299_C_T=2',\n",
       "       'rs4040605=2', 'chr13_113796587_A_G=2', 'rs4714648=2',\n",
       "       'chr4_28134269_A_C=2', 'chr8_130380476_C_T=2', 'rs1500206=2',\n",
       "       'chr11_111757486_A_G=2', 'chr1_121264079_A_G=2', 'rs28533496=2',\n",
       "       'chr17_4961271_G_T=2', 'rs10947071=2', 'rs34923393=1',\n",
       "       'chr5_180405432_G_T=2', 'chr7_102368966_A_G=2',\n",
       "       'chr7_92540226_G_T=2', 'rs994362=2', 'chr3_83413654_A_INDEL=2',\n",
       "       'rs12597422=2', 'chr2_171708059_C_T=0', 'corect_rs181578054=2',\n",
       "       'rs2243523=2', 'chr7_118831547_C_T=1', 'chr15_93691968_C_T=0',\n",
       "       'chr6_127899971_A_T=2', 'chr1_121280613_A_G=0',\n",
       "       'chr5_56248636_C_G=2', 'chr5_174341949_A_G=2',\n",
       "       'chr4_39691575_G_T=2', 'chr3_31286160_A_G=2',\n",
       "       'chr13_113284191_C_T=1', 'chr3_87040392_A_G=0', 'rs3215401=2',\n",
       "       'chr5_55985377_C_G=2', 'chr17_43295973_G_T=2',\n",
       "       'chr12_28363760_A_C=2', 'exm2256878=2', 'chr11_111757486_A_G=1',\n",
       "       'chr18_13897371_A_G=2', 'chr5_656863_INDEL_TA=2', 'rs2981579=0',\n",
       "       'rs13047152=2', 'chr7_16893129_A_G=2', 'chr3_71305759_A_G=2',\n",
       "       'chr4_169989297_G_T=1', 'chr9_110630326_C_T=2', 'rs9917486=2',\n",
       "       'rs34114912=2', 'chr7_142804165_A_G=2', 'rs7980716=2',\n",
       "       'rs45631582=2', 'corect_rs116995945=1', 'chr12_96041527_C_T=2',\n",
       "       'rs80181238=2', 'rs7040199=2', 'chr12_49982617_C_G=2',\n",
       "       'rs1627990=0', 'rs74854644=2', 'chr1_204008939_C_T=2',\n",
       "       'rs9507104=0', 'chr1_97788840_A_G=1', 'chr10_38792507_C_T=0',\n",
       "       'chr13_31112376_A_G=2', 'chr14_76886176_C_T=2', 'rs2736108=2',\n",
       "       'chr5_167595594_C_T=2', 'rs9386604=0', 'rs273240=2',\n",
       "       'chr4_39737914_C_T=2', 'rs965001=2', 'rs2903992=2',\n",
       "       'chr6_32551957_G_T=2', 'rs17342514=2', 'chr22_17733251_A_G=1',\n",
       "       'chr4_5025750_A_T=2', 'rs1083383=1', 'chr7_128561918_A_G=2',\n",
       "       'rs259649=2', 'rs922853=2', 'chr7_130659519_A_G=2', 'rs17368005=2',\n",
       "       'chr1_189302023_G_T=2', 'rs10752892=1', 'rs1943980=2',\n",
       "       'rs60926789=2', 'rs4519482=2', 'rs1915063=2',\n",
       "       'chr6_32659535_A_C=2', 'rs17035311=2', 'chr21_46025285_C_T=2',\n",
       "       'rs1926098=2', 'chr6_41209997_A_C=2', 'chr9_124303632_C_T=2',\n",
       "       'chr16_62383079_C_T=2', 'kgp2633599=2', 'chr6_75480993_GT_INDEL=2',\n",
       "       'rs4600441=2', 'rs7158184=2', 'rs1537976=0',\n",
       "       'chr10_13696427_A_G=0', 'chr1_200593023_C_T=2',\n",
       "       'chr22_29288474_C_T=2', 'chr6_41183859_A_C=2', 'rs62205109=2',\n",
       "       'rs6118063=2', 'corect_rs187434740=0', 'chr7_30336503_A_T=2',\n",
       "       'rs4717142=1', 'chr8_17426274_A_G=1', 'rs7570745=2',\n",
       "       'chr8_38902860_C_T=2', 'rs7301270=0', 'rs2936870=0', 'rs9381262=2',\n",
       "       'rs71905325=2', 'rs2103389=2', 'rs6726261=2', 'rs1219642=0',\n",
       "       'rs782744=2', 'rs11787627=2', 'chr4_89246214_G_T=0', 'rs2686630=0',\n",
       "       'rs9599076=2', 'rs2278746=2', 'rs6447662=2', 'rs9291180=2',\n",
       "       'exm433046=2', 'rs801752=1', 'chr19_23920150_A_G=2',\n",
       "       'exm1063738=2', 'rs10768905=0', 'rs11261022=2',\n",
       "       'chr12_116984684_C_T=2', 'chr2_4977289_A_C=2', 'rs7767114=0',\n",
       "       'rs11200014=0', 'rs2912778=2', 'rs17656537=2', 'rs9665348=2',\n",
       "       'rs1320969=2', 'rs7312430=2', 'rs6534472=2', 'chr2_25192908_A_C=2',\n",
       "       'chr5_90789470_A_G=2', 'chr2_217969552_A_G=2', 'rs7818404=2',\n",
       "       'rs2289065=2', 'chr10_123337066_C_T=0', 'rs6708858=0',\n",
       "       'rs11571815=2', 'chr6_1606031_G_T=2', 'rs922855=2',\n",
       "       'chr18_42387945_A_G=2', 'chr1_191899139_C_G=2', 'rs62489409=1',\n",
       "       'chr10_54132317_A_G=2', 'rs2373452=2', 'chr18_42373791_A_C=2',\n",
       "       'chr19_11303068_C_T=2', 'chr11_24623826_A_G=1',\n",
       "       'corect_rs111968842=2', 'chr8_104109811_A_G=2',\n",
       "       'chr11_130943681_A_G=1', 'rs4237709=0', 'rs9260313=0',\n",
       "       'rs10808353=2', 'rs72764708=2', 'chr18_42378282_A_G=2',\n",
       "       'chr5_44508174_INDEL_TTC=2', 'chr11_59071087_C_T=2',\n",
       "       'chr9_16917672_G_T=1', 'rs2372964=2', 'chr5_151953200_G_T=1',\n",
       "       'chr2_217954982_A_T=2', 'rs9271611=1', 'chr11_24623826_A_G=2',\n",
       "       'chr1_189310286_A_G=2', 'rs9824206=2', 'chr2_23222481_C_T=1',\n",
       "       'rs9266064=0', 'chr10_29919963_A_G=1', 'rs12940064=2',\n",
       "       'rs10907360=0', 'rs2294551=2', 'chr10_134234535_C_T=2',\n",
       "       'rs11784122=2', 'chr17_151877_A_G=2', 'chr18_42374466_A_G=2',\n",
       "       'rs3213223=2', 'rs16853045=2', 'rs3927124=2', 'rs9925068=2',\n",
       "       'chr10_64288389_C_T=2', 'rs11119860=0', 'chr21_41532756_C_T=1',\n",
       "       'rs72646635=2', 'chr8_128146308_G_T=1', 'chr2_217971498_C_T=2',\n",
       "       'rs33391=1', 'chrX_3537035_C_T=2', 'chr20_52304681_C_T=0',\n",
       "       'rs729125=1', 'rs4714432=2', 'chr5_165900741_C_T=2', 'rs132941=2',\n",
       "       'rs13183603=2', 'rs17754047=2', 'chr18_59402300_C_T=2',\n",
       "       'chr8_8933310_A_T=2', 'chr6_31324536_A_T=0', 'rs2111324=2',\n",
       "       'chr15_91548601_A_G=2', 'chr6_32523296_A_G=2', 'rs2041070=2',\n",
       "       'rs9827866=2', 'rs909116=2', 'chr2_55325001_A_G=2',\n",
       "       'chr18_42386553_C_T=2', 'chr17_56180576_C_T=2',\n",
       "       'chr6_138734024_A_G=2', 'chr1_232388727_C_G=1', 'rs17067831=2',\n",
       "       'chr14_76144828_A_G=2', 'rs72834723=0', 'chr2_171708059_C_T=1',\n",
       "       'c3_pos157413713=2', 'rs4766992=2', 'rs2297922=2', 'rs6735848=2',\n",
       "       'chr17_4961271_G_T=1', 'rs3135718=0', 'chr2_217971031_A_C=2',\n",
       "       'chr5_2392267_A_G=2', 'chr4_145200952_C_G=2', 'rs17549261=2',\n",
       "       'chr10_80850750_C_T=0', 'rs10995189=2', 'rs4301826=0',\n",
       "       'chr8_87938182_A_G=2', 'chr1_171056203_C_T=1', 'rs13381179=2',\n",
       "       'rs11599804=0', 'chr12_96027759_A_G=2', 'chr18_42371256_A_G=2',\n",
       "       'rs11729069=2', 'rs9952872=2', 'chr4_153848128_A_G=2',\n",
       "       'rs9606958=2', 'rs9272535=0', 'rs899080=0', 'rs2912774=0',\n",
       "       'rs136832=2', 'rs7259325=2', 'chr17_68777048_C_T=2',\n",
       "       'chr13_107080576_A_G=2', 'rs9790115=2', 'rs10143451=2',\n",
       "       'chr1_211854329_A_G=2', 'chr13_42025812_A_G=0',\n",
       "       'chr6_32525284_C_T=2', 'chr7_30336156_C_G=2', 'rs7851298=2',\n",
       "       'rs6557385=0', 'rs55920378=1', 'chr10_82842595_A_G=2',\n",
       "       'chr3_37221053_C_G=2', 'rs4975655=2', 'rs12718642=0',\n",
       "       'rs6440136=2', 'rs74458345=2', 'chr15_47382817_C_T=2',\n",
       "       'chr11_65665988_A_G=1', 'rs10461695=2', 'rs35610231=2',\n",
       "       'chr10_29919963_A_G=2', 'rs551266=2', 'chr18_42382733_C_T=2',\n",
       "       'rs1175119=2', 'rs525448=2', 'chr2_134955210_C_T=2',\n",
       "       'rs10255163=2', 'rs239765=2', 'rs45631580=2', 'exm1380346=2',\n",
       "       'rs2912780=0', 'chr5_90676483_A_C=2', 'chr12_116984684_C_T=1',\n",
       "       'rs17586536=2', 'rs4793290=0', 'chr16_50766886_A_G=0',\n",
       "       'corect_rs137869059=2', 'chr19_17186940_C_G=2', 'rs9559334=0',\n",
       "       'corect_rs116995945=2', 'rs2372052=0', 'chr1_62514768_C_T=2',\n",
       "       'rs6825684=2', 'chr17_46041404_A_T=1', 'chr5_521096_C_T=1',\n",
       "       'chr3_141054579_C_T=0', 'chr4_153848128_A_G=0',\n",
       "       'chr6_32484554_A_T=2', 'rs13234407=0', 'chr4_9475301_A_C=0',\n",
       "       'Chr22:29885127:-:AAACAA=0', 'rs2527343=2', 'rs9910757=0',\n",
       "       'chr16_54707615_C_T=2', 'rs11159221=2', 'chr19_13140341_C_T=2',\n",
       "       'rs1083383=0', 'chr5_49511425_C_T=1', 'chr10_126236440_C_G=2',\n",
       "       'rs1219651=0', 'chr7_142804165_A_G=1', 'rs2638381=2',\n",
       "       'chr18_42406078_A_G=2', 'rs1174931=2', 'chr12_28530125_C_G=1',\n",
       "       'rs583034=0', 'chr5_41775546_A_INDEL=2', 'rs2244817=0',\n",
       "       'rs17542285=2', 'chr8_142123272_C_T=2', 'rs2040639=0',\n",
       "       'rs383748=2', 'rs3927319=2', 'rs7204722=2', 'chr17_46157540_A_G=0',\n",
       "       'chr10_126256127_C_T=2', 'rs11735107=1', 'chr11_65665988_A_G=2',\n",
       "       'chr2_217968969_G_T=2', 'rs17081488=2', 'rs72935553=2',\n",
       "       'chr13_87789734_C_T=2', 'rs2981575=0', 'chr3_47333129_A_G=2',\n",
       "       'chr6_30701533_G_INDEL=2', 'rs2981584=0', 'rs71647871=1',\n",
       "       'rs1464028=2', 'rs1614887=0', 'chr4_175851520_G_T=2',\n",
       "       'chr15_40529113_A_G=0', 'rs2343912=0', 'rs10064567=2',\n",
       "       'rs16907085=2', 'rs5769415=2', 'rs3827256=0',\n",
       "       'chr9_110303538_GT_INDEL=0', 'rs2981582=0', 'chr20_1335187_C_T=1',\n",
       "       'rs28364422=1', 'rs11726911=2', 'chr4_96333037_G_T=2',\n",
       "       'rs4714648=1', 'rs1106387=2', 'chr12_49720822_A_G=2',\n",
       "       'chr12_28530125_C_G=2', 'chr16_52599188_C_T=0',\n",
       "       'chr3_66437521_C_T=2', 'chr18_42375578_A_C=2', 'rs7084454=0',\n",
       "       'rs165400=2', 'chr3_37221053_C_G=1', 'chr15_81328368_C_T=0',\n",
       "       'rs6862125=2', 'chr8_40413080_G_T=2', 'rs4972555=2',\n",
       "       'rs75612337=2', 'rs12673394=0', 'chr2_217920769_G_T=2',\n",
       "       'chr6_32552168_A_G=1', 'chr8_11589042_A_G=0', 'rs335766=2',\n",
       "       'chr4_9462484_G_T=2', 'rs132972=0', 'rs10112904=2',\n",
       "       'chr4_107862280_A_C=0', 'rs1838564=2', 'rs12158945=0',\n",
       "       'rs10512852=2', 'rs921792=0', 'chr9_78210915_A_T=2', 'rs1174900=0',\n",
       "       'chr14_47823613_G_T=2', 'rs7728598=0', 'rs4843429=0',\n",
       "       'chr1_232388727_C_G=2', 'chr5_123650264_A_G=2', 'rs2190997=2',\n",
       "       'chr6_43185354_C_T=2', 'corect_rs137869059=1',\n",
       "       'chr11_15340237_C_T=2', 'rs12896330=0', 'chr21_30847259_C_T=2',\n",
       "       'rs7775178=0', 'rs4752571=0', 'chr6_31248091_A_G=2',\n",
       "       'rs10760997=2', 'rs7220012=2', 'rs10782563=0', 'rs1078806=0',\n",
       "       'rs398151=1', 'chr15_74592862_A_G=0', 'chr18_24531290_C_INDEL=2',\n",
       "       'rs11836367=2', 'chr1_1914124_C_T=0', 'rs3195954=2',\n",
       "       'chr1_217223816_G_T=2', 'rs1072781=2', 'rs2111909=0',\n",
       "       'rs12863638=2', 'chr10_64278874_C_T=2', 'chr9_119392283_C_T=2',\n",
       "       'chr12_96037389_A_T=2', 'chr10_64268659_A_T=2',\n",
       "       'chr1_121349358_A_G=2', 'rs1527359=0', 'chr12_116778635_C_T=2',\n",
       "       'chr8_128146308_G_T=0', 'rs2176304=2', 'rs1419926=2',\n",
       "       'corect_rs187434740=1', 'chr11_46015152_C_T=2',\n",
       "       'chr17_56226845_A_T=2', 'chr18_63130057_A_G=2',\n",
       "       'chr5_2394715_C_T=2', 'chr6_30701533_G_INDEL=1',\n",
       "       'chr22_42854569_C_G=1', 'chr4_39691575_G_T=1', 'rs7088680=2',\n",
       "       'rs7786990=2', 'rs2162540=0', 'chr8_22472949_C_T=2', 'rs2255938=0',\n",
       "       'rs2388742=2', 'rs6904241=2', 'rs4671379=2',\n",
       "       'chr5_158064752_G_T=2', 'chr15_100551541_A_G=2',\n",
       "       'chr4_175828287_C_T=2', 'rs2369579=0', 'chr10_67002675_A_C=2',\n",
       "       'rs9945779=2', 'chr2_238229802_C_T=2', 'rs10054818=0',\n",
       "       'chr18_42374800_G_T=2', 'rs1997850=2', 'rs562434=2',\n",
       "       'rs10833472=0', 'rs2017964=0', 'chr19_44282857_G_T=0',\n",
       "       'chr7_91580030_A_G=2', 'chr15_91538920_C_T=2',\n",
       "       'chr3_71305759_A_G=0', 'chr2_25127801_C_T=2',\n",
       "       'chr3_87906039_A_T=0', 'rs1863390=0', 'rs10491562=2',\n",
       "       'rs12566190=2', 'rs6461483=2', 'rs2841632=2', 'rs6553719=2',\n",
       "       'rs1429845=2', 'chr7_21126458_G_T=2', 'rs8010088=2',\n",
       "       'chr16_88908306_A_G=2', 'chr2_189555506_A_G=2', 'rs5920253=2',\n",
       "       'chr2_28150862_A_C=2', 'chr2_23168305_A_G=1',\n",
       "       'chr10_123390024_A_G=2', 'rs7015470=0', 'rs6718489=2',\n",
       "       'rs9327640=0', 'rs6974602=0', 'chr17_41196821_INDEL_T=0',\n",
       "       'rs7194455=2', 'chr6_32633398_C_T=2', 'rs6787229=2', 'rs579740=0',\n",
       "       'rs4717142=2', 'rs9787392=2', 'rs10114408=2', 'rs17035289=2',\n",
       "       'rs1777696=0', 'chr14_37239005_A_T=0', 'rs10752892=0',\n",
       "       'rs11117754=2', 'chr2_28150862_A_C=1', 'chr3_74118286_A_T=0',\n",
       "       'rs10902222=2', 'rs7787009=0', 'rs2912779=0', 'rs1433711=2',\n",
       "       'chr2_217857493_C_T=2', 'chr7_91707921_C_T=2',\n",
       "       'chr19_23254894_A_G=0', 'chr21_41532756_C_T=0',\n",
       "       'chr4_39737914_C_T=1', 'rs7589172=2', 'rs12975216=2',\n",
       "       'rs4899795=2', 'chr16_29946708_A_G=2', 'chr2_202531547_A_C=2',\n",
       "       'chr16_80402324_C_G=0', 'rs17271951=0', 'rs1229469=2',\n",
       "       'rs7545208=0', 'rs1529893=2', 'c3_pos27093595=2', 'rs6838519=2',\n",
       "       'rs9514848=0', 'chr6_32479493_A_G=0', 'chr5_521096_C_T=2',\n",
       "       'rs10008104=0', 'rs2745599=0', 'rs10425311=2', 'rs10928485=2',\n",
       "       'rs2413715=1', 'rs4777372=2', 'rs763480=2', 'chr19_9322661_C_T=2',\n",
       "       'chr4_16013048_C_T=2', 'rs4980383=0', 'rs1159906=2',\n",
       "       'rs17726078=2', 'rs12932319=2', 'rs275966=2', 'rs12658689=2',\n",
       "       'rs7760611=2', 'rs6685305=2', 'rs13098429=2', 'rs2863845=2',\n",
       "       'chr5_1882940_A_C=2', 'rs4879262=2', 'rs10473013=2',\n",
       "       'chr8_36218924_C_T=2', 'chr10_80810849_A_C=2',\n",
       "       'chr1_156191149_C_T=0', 'chr5_116877991_A_C=1', 'rs186403=2',\n",
       "       'chr2_202527467_A_G=2', 'chr21_20106580_A_G=1', 'rs72847947=2',\n",
       "       'rs555115=2', 'rs59325012=2', 'chr10_80882589_A_G=0',\n",
       "       'rs10160674=1', 'rs6464573=2', 'chr20_52304681_C_T=2',\n",
       "       'chr9_122206415_C_T=2', 'chr2_153169227_C_T=2', 'rs4454527=2',\n",
       "       'rs2420946=0', 'rs7734515=0', 'rs12540711=2', 'chr5_2391453_A_G=2',\n",
       "       'chr4_103903209_A_G=2', 'rs10736303=2', 'chr11_69509669_C_T=0',\n",
       "       'chr7_33061694_G_T=2', 'chr2_29009089_A_C=1', 'rs352276=2',\n",
       "       'chr3_99387903_A_G=2', 'rs9302881=0', 'rs8094017=0', 'rs9210=2',\n",
       "       'rs2372972=2', 'chr2_185637683_C_T=2', 'rs11977670=0',\n",
       "       'exm296923=2', 'chr3_74118286_A_T=2', 'chr16_52574343_A_G=0',\n",
       "       'rs2052418=1', 'rs4849728=0', 'rs2108494=2', 'rs2357322=2',\n",
       "       'rs1055328=2', 'rs7770657=2', 'rs15618=2', 'rs12699727=2',\n",
       "       'rs1219648=0', 'rs2075882=2', 'rs13199160=0', 'rs2853669=2',\n",
       "       'chr9_119617228_G_T=1', 'chr3_156557220_A_G=2',\n",
       "       'chr10_43692630_C_T=0', 'rs6537756=0', 'rs7237501=2', 'rs385437=2',\n",
       "       'rs9346612=2', 'rs743605=2', 'chr5_44619754_A_G=2',\n",
       "       'chr2_217924394_A_G=2', 'chr3_50192826_C_T=1', 'rs7404209=2',\n",
       "       'rs4661736=2', 'chr5_174355059_A_G=2', 'rs7119634=0',\n",
       "       'chr10_80887337_A_G=0', 'chr8_105462115_A_T=2', 'rs11875326=2',\n",
       "       'chr10_64254983_A_G=2', 'chr16_54346912_A_G=2', 'rs6449947=0',\n",
       "       'chr5_90762748_A_G=2', 'chr5_56193547_C_T=2',\n",
       "       'chr4_175847144_A_T=2', 'chr6_70512939_A_G=0', 'rs10090153=0',\n",
       "       'chr7_3099256_C_T=2', 'corect_rs150013368=2',\n",
       "       'chr13_113796587_A_G=0', 'chr6_17589375_C_T=0', 'rs7156153=2',\n",
       "       'chr2_83013605_A_G=2', 'chr11_23840192_C_T=0', 'rs2071213=0',\n",
       "       'rs72832402=2', 'chr20_52304681_C_T=1', 'rs7016229=2',\n",
       "       'rs7257932=2', 'chr2_217909463_A_G=2', 'chr4_175830130_A_G=2',\n",
       "       'rs2250526=2', 'rs11580915=2', 'rs4821638=2', 'rs501817=0',\n",
       "       'rs1634479=2', 'rs33391=0', 'rs2977903=0', 'chr4_114651107_A_G=2',\n",
       "       'rs934612=0', 'rs381125=2', 'rs4544121=2', 'chr18_42383005_A_G=2',\n",
       "       'chr6_21905726_A_G=2', 'rs34636650=2', 'chr2_217857493_C_T=0',\n",
       "       'chr12_28140918_C_T=2', 'rs11807554=0', 'chr10_64301817_C_T=2',\n",
       "       'corect_rs185100170=1', 'chr7_92540226_G_T=1',\n",
       "       'chr9_124300734_C_T=2', 'chr5_55773118_C_T=2', 'rs2177153=0',\n",
       "       'rs11051=2', 'chr3_26877966_C_T=2', 'rs17842141=2',\n",
       "       'chr12_19781229_C_T=2', 'chr12_28163977_C_T=2',\n",
       "       'chr12_13202294_A_G=0', 'rs7144699=2', 'chr11_24623826_A_G=0',\n",
       "       'rs4391897=2', 'rs35426=2', 'rs4941050=2', 'chr3_60254987_C_T=2',\n",
       "       'chr9_110303538_GT_INDEL=1', 'chr12_28147351_A_G=2',\n",
       "       'corect_rs116417157=2', 'rs242928=0', 'chr19_44001379_C_T=2',\n",
       "       'chr21_41532756_C_T=2', 'rs11735107=2', 'chr9_7510184_C_G=2',\n",
       "       'rs161658=2', 'rs9980825=2', 'rs13133213=0', 'chr1_2501064_A_G=0',\n",
       "       'rs614367=1', 'rs132941=0', 'rs17178756=2', 'rs7765678=2',\n",
       "       'chr1_10879725_A_G=0', 'rs17744022=2', 'rs3927319=1',\n",
       "       'chr16_52581979_C_G=0', 'rs6568433=0', 'rs7230437=1',\n",
       "       'chrX_125912274_C_T=2', 'chr4_42107115_A_G=2', 'rs28969436=0',\n",
       "       'rs11804252=2', 'rs4805487=0', 'rs7124765=2', 'rs12889251=2',\n",
       "       'rs10518461=2', 'rs398151=2', 'rs11641297=2',\n",
       "       'chr2_185637683_C_T=1', 'chr12_28169798_A_C=2', 'rs602946=0',\n",
       "       'chr8_36853213_C_T=2', 'rs8094072=0', 'chr15_91528070_C_G=2',\n",
       "       'rs157512=1', 'chr12_28152993_A_G=2', 'chr8_11794050_A_C=0',\n",
       "       'chr7_154165614_C_T=2', 'chr13_27131826_G_T=0', 'rs2110173=2',\n",
       "       'rs4388446=2', 'rs8033207=0', 'rs2242312=2',\n",
       "       'chr2_218174294_C_G=2', 'rs1551892=2', 'rs2981578=2',\n",
       "       'rs8090363=2', 'rs4973842=2', 'rs6959411=0',\n",
       "       'chr3_4803735_AAG_INDEL=0', 'rs1863390=1', 'chr4_175821735_C_T=2',\n",
       "       'chr7_12687945_A_G=1', 'rs8126454=2', 'rs624376=2', 'rs55722937=2',\n",
       "       'rs11155996=2', 'chr16_52623836_G_T=2', 'rs1876469=0',\n",
       "       'chr18_42379511_A_G=2', 'rs10184558=2', 'rs5975711=2',\n",
       "       'rs10798269=0', 'rs661348=2', 'rs9430149=2',\n",
       "       'chr5_44301566_INDEL_T=2', 'rs175889=2', 'chr8_74329884_C_G=0',\n",
       "       'chr16_52537526_A_G=2', 'rs72761383=2', 'rs34010330=2',\n",
       "       'rs61850917=0', 'rs6574252=2', 'chr5_2383722_A_G=2',\n",
       "       'chr21_16537447_C_T=2', 'rs34800900=0', 'chr12_28172342_G_T=2',\n",
       "       'rs10054818=1', 'rs12542467=0', 'rs13356034=2',\n",
       "       'chr7_16575830_A_T=2', 'rs12557711=2', 'chr12_28155080_A_G=2',\n",
       "       'rs9270529=2', 'corect_rs186216026=0', 'chr7_6038722_C_T=2',\n",
       "       'rs4808814=2', 'rs643753=2', 'chr21_20106580_A_G=0',\n",
       "       'chr4_175838941_A_G=2', 'chr22_40428433_A_G=2', 'rs79222830=0',\n",
       "       'rs7739078=2', 'chr5_56280245_A_G=2', 'chr10_52434758_A_G=0',\n",
       "       'chr16_52585440_C_T=0', 'chr22_35753792_A_G=2', 'rs7917438=2',\n",
       "       'chr19_57444967_C_T=1', 'rs4237533=2', 'rs9320750=1',\n",
       "       'chr4_175829693_G_T=2', 'chr12_28149659_C_T=2',\n",
       "       'chr22_28552698_C_T=2', 'chr4_57426243_A_T=2',\n",
       "       'chr13_74357374_C_T=2', 'chr15_74599333_A_C=2', 'rs10788178=2',\n",
       "       'rs45465998=0', 'rs1472357=2', 'rs2669264=2',\n",
       "       'chr4_32190891_G_T=2', 'rs11067419=0', 'chr14_93070286_C_T=2',\n",
       "       'chr5_56022251_C_T=2', 'chr21_19567725_C_T=2',\n",
       "       'chr5_56001002_C_G=2', 'rs7740366=2', 'chr10_64288130_C_G=2',\n",
       "       'chr19_44295720_INDEL_TC=0', 'chr13_19524950_A_G=0', 'rs7848334=2',\n",
       "       'rs9700=0', 'rs2957792=2', 'chr4_44900597_C_T=1',\n",
       "       'chr7_51238333_A_G=0', 'rs16963205=2', 'rs7852038=2',\n",
       "       'chr6_42017286_C_T=2', 'chr6_68404944_G_T=0', 'rs6545420=0',\n",
       "       'rs3094122=2', 'rs1400042=2', 'rs6943934=2',\n",
       "       'chr1_37702050_AGA_INDEL=0', 'rs1064627=2',\n",
       "       'chr2_202221239_CTT_INDEL=2', 'rs34800900=1', 'rs75915166=1',\n",
       "       'rs12483016=2', 'chrX_81467918_C_T=0', 'rs1384331=1',\n",
       "       'chr14_37018022_G_T=2', 'chr4_42105865_A_C=2',\n",
       "       'chr6_32552168_A_G=0', 'rs4853841=2', 'rs7230437=0',\n",
       "       'chr11_65665256_A_G=0', 'rs11733534=0', 'chr1_200593023_C_T=1',\n",
       "       'rs1869599=2', 'rs907573=2', 'rs10508296=0', 'rs1473201=2',\n",
       "       'rs45631630=2', 'chr5_9991919_A_G=2', 'chr3_74118286_A_T=1',\n",
       "       'chr16_52564669_C_T=2', 'rs7259285=2', 'chr3_27135957_A_G=0',\n",
       "       'rs79222830=2', 'chr17_49782061_C_T=2', 'chr4_182294897_G_T=2',\n",
       "       'chr6_32631556_G_INDEL=2', 'chr22_42854569_C_G=0', 'rs2288993=2',\n",
       "       'kgp11577530=2', 'chr2_202213061_C_G=2', 'rs1990941=1',\n",
       "       'rs12547541=2', 'rs12456284=2', 'chr2_217968561_C_T=2',\n",
       "       'rs368243=0', 'rs6118063=0', 'chr7_139943267_C_T=0',\n",
       "       'rs34923393=0', 'rs11677299=2', 'chr8_36697279_G_T=2',\n",
       "       'rs6001031=2', 'corect_rs148851713=2', 'chr5_111114379_G_T=2',\n",
       "       'chr2_29133688_C_T=2', 'chr18_24578138_A_G=2', 'rs7236228=2',\n",
       "       'chr4_175822759_C_T=2', 'rs134755=0', 'chr2_121153979_C_T=2',\n",
       "       'chr6_32470283_A_C=2', 'chr4_44900597_C_T=0',\n",
       "       'chr16_52560213_A_G=0', 'chr13_113284191_C_T=2',\n",
       "       'chr7_30322482_A_T=2', 'chr1_155155731_A_G=0',\n",
       "       'chrX_68562276_C_G=0', 'chr12_15177511_C_T=1', 'rs7066183=0',\n",
       "       'chr15_91551876_C_T=2', 'rs12682471=2', 'chr20_18066528_A_T=0',\n",
       "       'rs2273221=2', 'chr4_126466491_A_G=0', 'chr10_123437540_C_T=2',\n",
       "       'chr4_25649387_C_G=0', 'rs2162797=2', 'chr3_30576258_A_C=1',\n",
       "       'rs35742476=2', 'chr11_69306395_A_T=2', 'rs893496=2',\n",
       "       'rs11876497=0', 'rs542362=2', 'chr5_1882952_A_C=2', 'rs67257959=2',\n",
       "       'rs11573041=0', 'rs10514398=2', 'rs10960938=2', 'rs12018446=1',\n",
       "       'chrX_146095648_A_G=1', 'chr16_52581424_C_T=0', 'rs2737455=2',\n",
       "       'rs10204104=2', 'chr21_26091601_A_G=2', 'rs2685505=2',\n",
       "       'rs34882439=2', 'chr10_80852768_G_T=0', 'rs9383936=0',\n",
       "       'chr5_45796684_CA_INDEL=2', 'rs1033772=2', 'chr10_80883572_A_G=0',\n",
       "       'chr3_71305759_A_G=1', 'chr6_130374102_A_C=2',\n",
       "       'chr18_42394381_A_T=2', 'chr8_77781087_A_G=0',\n",
       "       'chr16_52558834_A_G=2', 'rs7796764=0', 'rs12646105=2',\n",
       "       'rs3805550=2', 'rs4980389=2', 'rs157512=2', 'chr6_130349119_C_T=2',\n",
       "       'chr15_91522253_A_G=2', 'chr4_175844585_C_G=2',\n",
       "       'chr2_217976869_A_C=2', 'rs403334=2', 'rs71647871=0',\n",
       "       'chr5_56060400_C_T=2', 'chr1_10609973_G_T=2',\n",
       "       'chr2_202150914_A_G=2', 'chr4_175859723_C_T=2', 'rs12541064=0',\n",
       "       'chr12_28091700_A_G=0', 'chr6_32575843_A_C=2',\n",
       "       'chr11_11376765_C_T=2', 'chr8_12549881_C_G=1',\n",
       "       'chr18_42414965_A_G=2', 'rs7786990=1', 'rs973497=2',\n",
       "       'c5_pos44489027=2', 'rs805288=0', 'rs9355450=2', 'rs9376370=2',\n",
       "       'rs3732047=2', 'rs1054998=0', 'rs72765759=2',\n",
       "       'chr12_28179701_C_T=2', 'chr5_111103258_C_T=2', 'rs12890307=2',\n",
       "       'rs10500702=2', 'chr12_96021033_C_T=0', 'rs12445424=2',\n",
       "       'chr3_50192826_C_T=2', 'chr15_74596494_C_T=2',\n",
       "       'chr7_12687945_A_G=0', 'rs28364422=0', 'chr5_44341451_C_INDEL=2',\n",
       "       'chr14_21816052_C_T=2', 'rs2157908=2', 'rs398151=0',\n",
       "       'chr16_52517332_C_T=2', 'rs12018446=0', 'rs4689599=2',\n",
       "       'rs3135772=2', 'rs10064567=0', 'rs17136641=1', 'rs7386213=2',\n",
       "       'chr1_109093676_A_G=2', 'rs67451499=2', 'rs657686=1',\n",
       "       'chr10_64278682_A_G=2', 'rs11788139=2', 'rs595107=2',\n",
       "       'chr8_36846435_A_G=2', 'rs6630120=1', 'chr4_42114671_G_T=2',\n",
       "       'rs797319=0', 'chr3_46894988_A_C=2', 'rs12940064=0', 'rs8015790=2'],\n",
       "      dtype=object)"
      ]
     },
     "execution_count": 79,
     "metadata": {},
     "output_type": "execute_result"
    }
   ],
   "source": [
    "important_lime"
   ]
  },
  {
   "cell_type": "code",
   "execution_count": 80,
   "metadata": {},
   "outputs": [],
   "source": [
    "important_lime2=[]\n",
    "for snp in important_lime:\n",
    "    important_lime2.append(snp.split(\"=\")[0])"
   ]
  },
  {
   "cell_type": "code",
   "execution_count": 81,
   "metadata": {},
   "outputs": [],
   "source": [
    "pd.DataFrame(important_lime2).to_csv(\"/work/breastcancer/clean_test/results/limekernel155.csv\")"
   ]
  },
  {
   "cell_type": "code",
   "execution_count": 82,
   "metadata": {},
   "outputs": [
    {
     "data": {
      "text/plain": [
       "[<matplotlib.lines.Line2D at 0x2b1450cb5828>]"
      ]
     },
     "execution_count": 82,
     "metadata": {},
     "output_type": "execute_result"
    },
    {
     "data": {
      "image/png": "[encoded data removed]",
      "text/plain": [
       "<matplotlib.figure.Figure at 0x2b1450cb5860>"
      ]
     },
     "metadata": {
      "needs_background": "light"
     },
     "output_type": "display_data"
    }
   ],
   "source": [
    "fig,ax=plt.subplots(figsize=(20,5))\n",
    "\n",
    "ax.plot(W.fillna(0).mean().values)"
   ]
  },
  {
   "cell_type": "code",
   "execution_count": 88,
   "metadata": {},
   "outputs": [],
   "source": [
    "tf.reset_default_graph()"
   ]
  },
  {
   "cell_type": "code",
   "execution_count": 89,
   "metadata": {},
   "outputs": [],
   "source": [
    "sess.close()"
   ]
  },
  {
   "cell_type": "code",
   "execution_count": 90,
   "metadata": {},
   "outputs": [],
   "source": [
    "from deepexplain.tensorflow import DeepExplain\n",
    "sess = tf.InteractiveSession(config=tf.ConfigProto(device_count={ \"CPU\": 44}))\n"
   ]
  },
  {
   "cell_type": "code",
   "execution_count": 91,
   "metadata": {},
   "outputs": [
    {
     "ename": "RuntimeError",
     "evalue": "The Session graph is empty.  Add operations to the graph before calling run().",
     "output_type": "error",
     "traceback": [
      "\u001b[0;31m---------------------------------------------------------------------------\u001b[0m",
      "\u001b[0;31mRuntimeError\u001b[0m                              Traceback (most recent call last)",
      "\u001b[0;32m<ipython-input-91-f49111bc4e5d>\u001b[0m in \u001b[0;36m<module>\u001b[0;34m\u001b[0m\n\u001b[0;32m----> 1\u001b[0;31m \u001b[0msaver\u001b[0m\u001b[0;34m.\u001b[0m\u001b[0mrestore\u001b[0m\u001b[0;34m(\u001b[0m\u001b[0msess\u001b[0m\u001b[0;34m,\u001b[0m \u001b[0;34m\"/work/breastcancer/clean_test/logs/preprocessed001.ckpt\"\u001b[0m\u001b[0;34m)\u001b[0m\u001b[0;34m\u001b[0m\u001b[0m\n\u001b[0m\u001b[1;32m      2\u001b[0m \u001b[0mr\u001b[0m\u001b[0;34m=\u001b[0m\u001b[0msess\u001b[0m\u001b[0;34m.\u001b[0m\u001b[0mrun\u001b[0m\u001b[0;34m(\u001b[0m\u001b[0mtf\u001b[0m\u001b[0;34m.\u001b[0m\u001b[0mnn\u001b[0m\u001b[0;34m.\u001b[0m\u001b[0msigmoid\u001b[0m\u001b[0;34m(\u001b[0m\u001b[0moutput\u001b[0m\u001b[0;34m)\u001b[0m\u001b[0;34m,\u001b[0m\u001b[0mfeed_dict\u001b[0m\u001b[0;34m=\u001b[0m\u001b[0;34m{\u001b[0m\u001b[0mX\u001b[0m\u001b[0;34m:\u001b[0m\u001b[0mx_val\u001b[0m\u001b[0;34m,\u001b[0m\u001b[0mY\u001b[0m\u001b[0;34m:\u001b[0m\u001b[0my_val\u001b[0m\u001b[0;34m}\u001b[0m\u001b[0;34m)\u001b[0m\u001b[0;34m\u001b[0m\u001b[0m\n",
      "\u001b[0;32m~/.local/lib/python3.6/site-packages/tensorflow/python/training/saver.py\u001b[0m in \u001b[0;36mrestore\u001b[0;34m(self, sess, save_path)\u001b[0m\n\u001b[1;32m   1284\u001b[0m       \u001b[0;32melse\u001b[0m\u001b[0;34m:\u001b[0m\u001b[0;34m\u001b[0m\u001b[0m\n\u001b[1;32m   1285\u001b[0m         sess.run(self.saver_def.restore_op_name,\n\u001b[0;32m-> 1286\u001b[0;31m                  {self.saver_def.filename_tensor_name: save_path})\n\u001b[0m\u001b[1;32m   1287\u001b[0m     \u001b[0;32mexcept\u001b[0m \u001b[0merrors\u001b[0m\u001b[0;34m.\u001b[0m\u001b[0mNotFoundError\u001b[0m \u001b[0;32mas\u001b[0m \u001b[0merr\u001b[0m\u001b[0;34m:\u001b[0m\u001b[0;34m\u001b[0m\u001b[0m\n\u001b[1;32m   1288\u001b[0m       \u001b[0;31m# There are three common conditions that might cause this error:\u001b[0m\u001b[0;34m\u001b[0m\u001b[0;34m\u001b[0m\u001b[0m\n",
      "\u001b[0;32m~/.local/lib/python3.6/site-packages/tensorflow/python/client/session.py\u001b[0m in \u001b[0;36mrun\u001b[0;34m(self, fetches, feed_dict, options, run_metadata)\u001b[0m\n\u001b[1;32m    948\u001b[0m     \u001b[0;32mtry\u001b[0m\u001b[0;34m:\u001b[0m\u001b[0;34m\u001b[0m\u001b[0m\n\u001b[1;32m    949\u001b[0m       result = self._run(None, fetches, feed_dict, options_ptr,\n\u001b[0;32m--> 950\u001b[0;31m                          run_metadata_ptr)\n\u001b[0m\u001b[1;32m    951\u001b[0m       \u001b[0;32mif\u001b[0m \u001b[0mrun_metadata\u001b[0m\u001b[0;34m:\u001b[0m\u001b[0;34m\u001b[0m\u001b[0m\n\u001b[1;32m    952\u001b[0m         \u001b[0mproto_data\u001b[0m \u001b[0;34m=\u001b[0m \u001b[0mtf_session\u001b[0m\u001b[0;34m.\u001b[0m\u001b[0mTF_GetBuffer\u001b[0m\u001b[0;34m(\u001b[0m\u001b[0mrun_metadata_ptr\u001b[0m\u001b[0;34m)\u001b[0m\u001b[0;34m\u001b[0m\u001b[0m\n",
      "\u001b[0;32m~/.local/lib/python3.6/site-packages/tensorflow/python/client/session.py\u001b[0m in \u001b[0;36m_run\u001b[0;34m(self, handle, fetches, feed_dict, options, run_metadata)\u001b[0m\n\u001b[1;32m   1096\u001b[0m       \u001b[0;32mraise\u001b[0m \u001b[0mRuntimeError\u001b[0m\u001b[0;34m(\u001b[0m\u001b[0;34m'Attempted to use a closed Session.'\u001b[0m\u001b[0;34m)\u001b[0m\u001b[0;34m\u001b[0m\u001b[0m\n\u001b[1;32m   1097\u001b[0m     \u001b[0;32mif\u001b[0m \u001b[0mself\u001b[0m\u001b[0;34m.\u001b[0m\u001b[0mgraph\u001b[0m\u001b[0;34m.\u001b[0m\u001b[0mversion\u001b[0m \u001b[0;34m==\u001b[0m \u001b[0;36m0\u001b[0m\u001b[0;34m:\u001b[0m\u001b[0;34m\u001b[0m\u001b[0m\n\u001b[0;32m-> 1098\u001b[0;31m       raise RuntimeError('The Session graph is empty.  Add operations to the '\n\u001b[0m\u001b[1;32m   1099\u001b[0m                          'graph before calling run().')\n\u001b[1;32m   1100\u001b[0m \u001b[0;34m\u001b[0m\u001b[0m\n",
      "\u001b[0;31mRuntimeError\u001b[0m: The Session graph is empty.  Add operations to the graph before calling run()."
     ]
    }
   ],
   "source": [
    "saver.restore(sess, \"/work/breastcancer/clean_test/logs/preprocessed001.ckpt\")\n",
    "r=sess.run(tf.nn.sigmoid(output),feed_dict={X:x_val,Y:y_val})"
   ]
  },
  {
   "cell_type": "code",
   "execution_count": 37,
   "metadata": {},
   "outputs": [
    {
     "ename": "NameError",
     "evalue": "name 'r' is not defined",
     "output_type": "error",
     "traceback": [
      "\u001b[0;31m---------------------------------------------------------------------------\u001b[0m",
      "\u001b[0;31mNameError\u001b[0m                                 Traceback (most recent call last)",
      "\u001b[0;32m<ipython-input-37-d17ca1acc36c>\u001b[0m in \u001b[0;36m<module>\u001b[0;34m\u001b[0m\n\u001b[0;32m----> 1\u001b[0;31m \u001b[0mr\u001b[0m\u001b[0;34m\u001b[0m\u001b[0m\n\u001b[0m",
      "\u001b[0;31mNameError\u001b[0m: name 'r' is not defined"
     ]
    }
   ],
   "source": [
    "r"
   ]
  },
  {
   "cell_type": "code",
   "execution_count": 51,
   "metadata": {},
   "outputs": [
    {
     "name": "stderr",
     "output_type": "stream",
     "text": [
      "W1120 13:48:10.414178 47675134122304 deprecation_wrapper.py:118] From /work/omicsbio/adbadre/src/deepexplain/deepexplain/tensorflow/methods.py:635: The name tf.get_default_graph is deprecated. Please use tf.compat.v1.get_default_graph instead.\n",
      "\n",
      "W1120 13:48:10.416981 47675134122304 deprecation_wrapper.py:118] From /work/omicsbio/adbadre/src/deepexplain/deepexplain/tensorflow/methods.py:76: The name tf.placeholder is deprecated. Please use tf.compat.v1.placeholder instead.\n",
      "\n",
      "/work/omicsbio/adbadre/src/deepexplain/deepexplain/tensorflow/methods.py:611: UserWarning: DeepExplain detected you are trying to use an attribution method that requires gradient override but the original gradient was used instead. You might have forgot to (re)create your graph within the DeepExlain context. Results are not reliable!\n",
      "  warnings.warn('DeepExplain detected you are trying to use an attribution method that requires '\n"
     ]
    }
   ],
   "source": [
    "with DeepExplain(session=sess) as de:  # < enter DeepExplain context\n",
    "    #tf.reset_default_graph()\n",
    "    #tf.reset_default_graph()\n",
    "    X=tf.placeholder(tf.float32,shape=(None,5273),name=\"X\")\n",
    "    X_random=tf.placeholder(tf.float32,shape=(None,1),name=\"X\")\n",
    "    Y=tf.placeholder(tf.float32,shape=(None,1),name=\"Y\")\n",
    "    training = tf.placeholder_with_default(False, shape=(), name='training')\n",
    "    initializer = tf.contrib.layers.xavier_initializer()\n",
    "    hidden00_drop= tf.layers.dropout(X, 0.5, training=training)\n",
    "    hidden01=tf.layers.dense(hidden00_drop, 1000, name=\"hidden01\",activation=None, kernel_initializer=initializer)\n",
    "    hidden01_norm=tf.layers.batch_normalization(hidden01, training=training, momentum=0.9)\n",
    "    act_hidden01=tf.nn.leaky_relu(hidden01_norm)\n",
    "    hidden01_drop = tf.layers.dropout(act_hidden01, 0.5, training=training)\n",
    "    hidden0=tf.layers.dense(hidden01_drop, 250, name=\"hidden0\",activation=None, kernel_initializer=initializer)\n",
    "    hidden0_norm=tf.layers.batch_normalization(hidden0, training=training, momentum=0.9)\n",
    "    act_hidden0=tf.nn.leaky_relu(hidden0_norm)\n",
    "    hidden0_drop = tf.layers.dropout(act_hidden0, 0.5, training=training)\n",
    "    hidden1=tf.layers.dense(hidden0_drop, 50, name=\"hidden1\",activation=None, kernel_initializer=initializer)\n",
    "    hidden1_norm=tf.layers.batch_normalization(hidden1, training=training, momentum=0.9)\n",
    "    act_hidden1=tf.nn.leaky_relu(hidden1_norm)\n",
    "    hidden1_drop = tf.layers.dropout(act_hidden1, 0.5, training=training)\n",
    "    output=tf.layers.dense(  hidden1_drop, 1, name=\"output_final\",activation=None)\n",
    "    saver=tf.train.Saver()\n",
    "    saver.restore(sess, \"/work/breastcancer/clean_test/logs/preprocessed001.ckpt\")\n",
    "    a=de.explain('deeplift', output*y_val[important], X, x_val[important])"
   ]
  },
  {
   "cell_type": "code",
   "execution_count": 52,
   "metadata": {},
   "outputs": [
    {
     "data": {
      "text/html": [
       "<div>\n",
       "<style scoped>\n",
       "    .dataframe tbody tr th:only-of-type {\n",
       "        vertical-align: middle;\n",
       "    }\n",
       "\n",
       "    .dataframe tbody tr th {\n",
       "        vertical-align: top;\n",
       "    }\n",
       "\n",
       "    .dataframe thead th {\n",
       "        text-align: right;\n",
       "    }\n",
       "</style>\n",
       "<table border=\"1\" class=\"dataframe\">\n",
       "  <thead>\n",
       "    <tr style=\"text-align: right;\">\n",
       "      <th></th>\n",
       "      <th>chrom</th>\n",
       "      <th>snp</th>\n",
       "      <th>cm</th>\n",
       "      <th>pos</th>\n",
       "      <th>a0</th>\n",
       "      <th>a1</th>\n",
       "      <th>i</th>\n",
       "    </tr>\n",
       "  </thead>\n",
       "  <tbody>\n",
       "    <tr>\n",
       "      <th>3431</th>\n",
       "      <td>10</td>\n",
       "      <td>chr10_123467015_C_G</td>\n",
       "      <td>0.0</td>\n",
       "      <td>123467015</td>\n",
       "      <td>G</td>\n",
       "      <td>C</td>\n",
       "      <td>3431</td>\n",
       "    </tr>\n",
       "  </tbody>\n",
       "</table>\n",
       "</div>"
      ],
      "text/plain": [
       "     chrom                  snp   cm        pos a0 a1     i\n",
       "3431    10  chr10_123467015_C_G  0.0  123467015  G  C  3431"
      ]
     },
     "execution_count": 52,
     "metadata": {},
     "output_type": "execute_result"
    }
   ],
   "source": [
    "bim[bim[\"snp\"]==\"chr10_123467015_C_G\"]"
   ]
  },
  {
   "cell_type": "code",
   "execution_count": 53,
   "metadata": {},
   "outputs": [],
   "source": [
    "mean_snp=[]\n",
    "aa=np.mean(np.array(a),axis=0)\n",
    "\n",
    "#not_good=np.argwhere(aa<10**-4)\n",
    "#good=np.argwhere(aa>10**-2)\n",
    "#aa[aa>10**-4].shape"
   ]
  },
  {
   "cell_type": "code",
   "execution_count": 263,
   "metadata": {},
   "outputs": [],
   "source": []
  },
  {
   "cell_type": "code",
   "execution_count": 92,
   "metadata": {},
   "outputs": [],
   "source": [
    "pf=pd.read_csv(\"/work/breastcancer/clean_test/train/logistic_filter_0_001.assoc.logistic\",sep=\"\\s+\")[[\"SNP\",\"P\"]].sort_values(by=[\"P\"]).reset_index(drop=True)\n",
    "p_value=pd.read_csv(\"/work/breastcancer/clean_test/train/logistic_filter_0_001.assoc.logistic\",sep=\"\\s+\")[[\"SNP\",\"P\"]][\"SNP\"].values"
   ]
  },
  {
   "cell_type": "code",
   "execution_count": 93,
   "metadata": {},
   "outputs": [],
   "source": [
    "lime_logistic=[]\n",
    "for i in important_lime2:\n",
    "    lime_logistic.append(pf[pf[\"SNP\"].str.contains(i)].values[0])"
   ]
  },
  {
   "cell_type": "code",
   "execution_count": 94,
   "metadata": {},
   "outputs": [
    {
     "data": {
      "text/html": [
       "<div>\n",
       "<style scoped>\n",
       "    .dataframe tbody tr th:only-of-type {\n",
       "        vertical-align: middle;\n",
       "    }\n",
       "\n",
       "    .dataframe tbody tr th {\n",
       "        vertical-align: top;\n",
       "    }\n",
       "\n",
       "    .dataframe thead th {\n",
       "        text-align: right;\n",
       "    }\n",
       "</style>\n",
       "<table border=\"1\" class=\"dataframe\">\n",
       "  <thead>\n",
       "    <tr style=\"text-align: right;\">\n",
       "      <th></th>\n",
       "      <th>SNP</th>\n",
       "      <th>P</th>\n",
       "    </tr>\n",
       "  </thead>\n",
       "  <tbody>\n",
       "    <tr>\n",
       "      <th>0</th>\n",
       "      <td>rs62489409</td>\n",
       "      <td>2.178000e-59</td>\n",
       "    </tr>\n",
       "    <tr>\n",
       "      <th>1</th>\n",
       "      <td>rs2981584</td>\n",
       "      <td>1.369000e-49</td>\n",
       "    </tr>\n",
       "    <tr>\n",
       "      <th>2</th>\n",
       "      <td>rs2912774</td>\n",
       "      <td>2.918000e-49</td>\n",
       "    </tr>\n",
       "    <tr>\n",
       "      <th>3</th>\n",
       "      <td>rs2936870</td>\n",
       "      <td>6.122000e-49</td>\n",
       "    </tr>\n",
       "    <tr>\n",
       "      <th>4</th>\n",
       "      <td>rs2981575</td>\n",
       "      <td>3.757000e-48</td>\n",
       "    </tr>\n",
       "    <tr>\n",
       "      <th>5</th>\n",
       "      <td>rs1219651</td>\n",
       "      <td>4.433000e-48</td>\n",
       "    </tr>\n",
       "    <tr>\n",
       "      <th>6</th>\n",
       "      <td>rs1219642</td>\n",
       "      <td>1.455000e-47</td>\n",
       "    </tr>\n",
       "    <tr>\n",
       "      <th>7</th>\n",
       "      <td>rs2912780</td>\n",
       "      <td>1.572000e-47</td>\n",
       "    </tr>\n",
       "    <tr>\n",
       "      <th>8</th>\n",
       "      <td>rs1219648</td>\n",
       "      <td>2.104000e-47</td>\n",
       "    </tr>\n",
       "    <tr>\n",
       "      <th>9</th>\n",
       "      <td>rs2981579</td>\n",
       "      <td>2.305000e-47</td>\n",
       "    </tr>\n",
       "    <tr>\n",
       "      <th>10</th>\n",
       "      <td>rs2912779</td>\n",
       "      <td>2.894000e-47</td>\n",
       "    </tr>\n",
       "    <tr>\n",
       "      <th>11</th>\n",
       "      <td>rs4752571</td>\n",
       "      <td>8.761000e-47</td>\n",
       "    </tr>\n",
       "    <tr>\n",
       "      <th>12</th>\n",
       "      <td>rs2860197</td>\n",
       "      <td>1.542000e-46</td>\n",
       "    </tr>\n",
       "    <tr>\n",
       "      <th>13</th>\n",
       "      <td>rs2420946</td>\n",
       "      <td>2.685000e-46</td>\n",
       "    </tr>\n",
       "    <tr>\n",
       "      <th>14</th>\n",
       "      <td>rs11599804</td>\n",
       "      <td>2.943000e-46</td>\n",
       "    </tr>\n",
       "    <tr>\n",
       "      <th>15</th>\n",
       "      <td>rs2162540</td>\n",
       "      <td>3.940000e-46</td>\n",
       "    </tr>\n",
       "    <tr>\n",
       "      <th>16</th>\n",
       "      <td>rs3135718</td>\n",
       "      <td>4.507000e-46</td>\n",
       "    </tr>\n",
       "    <tr>\n",
       "      <th>17</th>\n",
       "      <td>rs2981582</td>\n",
       "      <td>1.529000e-45</td>\n",
       "    </tr>\n",
       "    <tr>\n",
       "      <th>18</th>\n",
       "      <td>chr10_123337066_C_T</td>\n",
       "      <td>2.413000e-45</td>\n",
       "    </tr>\n",
       "    <tr>\n",
       "      <th>19</th>\n",
       "      <td>rs1078806</td>\n",
       "      <td>8.450000e-45</td>\n",
       "    </tr>\n",
       "    <tr>\n",
       "      <th>20</th>\n",
       "      <td>rs11200014</td>\n",
       "      <td>1.171000e-44</td>\n",
       "    </tr>\n",
       "    <tr>\n",
       "      <th>21</th>\n",
       "      <td>chr2_28150862_A_C</td>\n",
       "      <td>1.665000e-44</td>\n",
       "    </tr>\n",
       "    <tr>\n",
       "      <th>22</th>\n",
       "      <td>chr17_41196821_INDEL_T</td>\n",
       "      <td>1.318000e-42</td>\n",
       "    </tr>\n",
       "    <tr>\n",
       "      <th>23</th>\n",
       "      <td>chr16_52328666_C_T</td>\n",
       "      <td>1.508000e-41</td>\n",
       "    </tr>\n",
       "    <tr>\n",
       "      <th>24</th>\n",
       "      <td>chr7_118831547_C_T</td>\n",
       "      <td>1.864000e-40</td>\n",
       "    </tr>\n",
       "    <tr>\n",
       "      <th>25</th>\n",
       "      <td>rs2981578</td>\n",
       "      <td>1.388000e-35</td>\n",
       "    </tr>\n",
       "    <tr>\n",
       "      <th>26</th>\n",
       "      <td>rs2912778</td>\n",
       "      <td>6.965000e-35</td>\n",
       "    </tr>\n",
       "    <tr>\n",
       "      <th>27</th>\n",
       "      <td>rs7959675</td>\n",
       "      <td>9.239000e-35</td>\n",
       "    </tr>\n",
       "    <tr>\n",
       "      <th>28</th>\n",
       "      <td>chr16_52583143_C_T</td>\n",
       "      <td>9.468000e-35</td>\n",
       "    </tr>\n",
       "    <tr>\n",
       "      <th>29</th>\n",
       "      <td>chr16_52599188_C_T</td>\n",
       "      <td>1.002000e-34</td>\n",
       "    </tr>\n",
       "    <tr>\n",
       "      <th>...</th>\n",
       "      <td>...</td>\n",
       "      <td>...</td>\n",
       "    </tr>\n",
       "    <tr>\n",
       "      <th>5243</th>\n",
       "      <td>rs1560118</td>\n",
       "      <td>9.764000e-04</td>\n",
       "    </tr>\n",
       "    <tr>\n",
       "      <th>5244</th>\n",
       "      <td>rs2111909</td>\n",
       "      <td>9.769000e-04</td>\n",
       "    </tr>\n",
       "    <tr>\n",
       "      <th>5245</th>\n",
       "      <td>chr19_30362112_C_T</td>\n",
       "      <td>9.773000e-04</td>\n",
       "    </tr>\n",
       "    <tr>\n",
       "      <th>5246</th>\n",
       "      <td>chr19_44424254_A_T</td>\n",
       "      <td>9.780000e-04</td>\n",
       "    </tr>\n",
       "    <tr>\n",
       "      <th>5247</th>\n",
       "      <td>chr7_123446388_C_T</td>\n",
       "      <td>9.783000e-04</td>\n",
       "    </tr>\n",
       "    <tr>\n",
       "      <th>5248</th>\n",
       "      <td>chr17_53158361_A_G</td>\n",
       "      <td>9.787000e-04</td>\n",
       "    </tr>\n",
       "    <tr>\n",
       "      <th>5249</th>\n",
       "      <td>chr6_130353612_C_T</td>\n",
       "      <td>9.792000e-04</td>\n",
       "    </tr>\n",
       "    <tr>\n",
       "      <th>5250</th>\n",
       "      <td>chr3_113979320_C_T</td>\n",
       "      <td>9.818000e-04</td>\n",
       "    </tr>\n",
       "    <tr>\n",
       "      <th>5251</th>\n",
       "      <td>rs132972</td>\n",
       "      <td>9.831000e-04</td>\n",
       "    </tr>\n",
       "    <tr>\n",
       "      <th>5252</th>\n",
       "      <td>rs11248073</td>\n",
       "      <td>9.851000e-04</td>\n",
       "    </tr>\n",
       "    <tr>\n",
       "      <th>5253</th>\n",
       "      <td>rs12133543</td>\n",
       "      <td>9.860000e-04</td>\n",
       "    </tr>\n",
       "    <tr>\n",
       "      <th>5254</th>\n",
       "      <td>rs6852016</td>\n",
       "      <td>9.868000e-04</td>\n",
       "    </tr>\n",
       "    <tr>\n",
       "      <th>5255</th>\n",
       "      <td>chr16_80674445_C_G</td>\n",
       "      <td>9.871000e-04</td>\n",
       "    </tr>\n",
       "    <tr>\n",
       "      <th>5256</th>\n",
       "      <td>chr18_24094388_A_G</td>\n",
       "      <td>9.897000e-04</td>\n",
       "    </tr>\n",
       "    <tr>\n",
       "      <th>5257</th>\n",
       "      <td>rs2289583</td>\n",
       "      <td>9.897000e-04</td>\n",
       "    </tr>\n",
       "    <tr>\n",
       "      <th>5258</th>\n",
       "      <td>rs7100411</td>\n",
       "      <td>9.903000e-04</td>\n",
       "    </tr>\n",
       "    <tr>\n",
       "      <th>5259</th>\n",
       "      <td>chr20_15214249_A_T</td>\n",
       "      <td>9.905000e-04</td>\n",
       "    </tr>\n",
       "    <tr>\n",
       "      <th>5260</th>\n",
       "      <td>chr14_93098339_C_G</td>\n",
       "      <td>9.912000e-04</td>\n",
       "    </tr>\n",
       "    <tr>\n",
       "      <th>5261</th>\n",
       "      <td>rs8017398</td>\n",
       "      <td>9.913000e-04</td>\n",
       "    </tr>\n",
       "    <tr>\n",
       "      <th>5262</th>\n",
       "      <td>chr7_33061694_G_T</td>\n",
       "      <td>9.914000e-04</td>\n",
       "    </tr>\n",
       "    <tr>\n",
       "      <th>5263</th>\n",
       "      <td>chr5_55878492_C_T</td>\n",
       "      <td>9.932000e-04</td>\n",
       "    </tr>\n",
       "    <tr>\n",
       "      <th>5264</th>\n",
       "      <td>rs2890707</td>\n",
       "      <td>9.953000e-04</td>\n",
       "    </tr>\n",
       "    <tr>\n",
       "      <th>5265</th>\n",
       "      <td>rs2019480</td>\n",
       "      <td>9.956000e-04</td>\n",
       "    </tr>\n",
       "    <tr>\n",
       "      <th>5266</th>\n",
       "      <td>rs7652586</td>\n",
       "      <td>9.964000e-04</td>\n",
       "    </tr>\n",
       "    <tr>\n",
       "      <th>5267</th>\n",
       "      <td>rs6460575</td>\n",
       "      <td>9.968000e-04</td>\n",
       "    </tr>\n",
       "    <tr>\n",
       "      <th>5268</th>\n",
       "      <td>rs9878437</td>\n",
       "      <td>9.974000e-04</td>\n",
       "    </tr>\n",
       "    <tr>\n",
       "      <th>5269</th>\n",
       "      <td>rs3135730</td>\n",
       "      <td>9.984000e-04</td>\n",
       "    </tr>\n",
       "    <tr>\n",
       "      <th>5270</th>\n",
       "      <td>chr20_18066528_A_T</td>\n",
       "      <td>9.986000e-04</td>\n",
       "    </tr>\n",
       "    <tr>\n",
       "      <th>5271</th>\n",
       "      <td>rs4846235</td>\n",
       "      <td>9.991000e-04</td>\n",
       "    </tr>\n",
       "    <tr>\n",
       "      <th>5272</th>\n",
       "      <td>rs992423</td>\n",
       "      <td>9.996000e-04</td>\n",
       "    </tr>\n",
       "  </tbody>\n",
       "</table>\n",
       "<p>5273 rows × 2 columns</p>\n",
       "</div>"
      ],
      "text/plain": [
       "                         SNP             P\n",
       "0                 rs62489409  2.178000e-59\n",
       "1                  rs2981584  1.369000e-49\n",
       "2                  rs2912774  2.918000e-49\n",
       "3                  rs2936870  6.122000e-49\n",
       "4                  rs2981575  3.757000e-48\n",
       "5                  rs1219651  4.433000e-48\n",
       "6                  rs1219642  1.455000e-47\n",
       "7                  rs2912780  1.572000e-47\n",
       "8                  rs1219648  2.104000e-47\n",
       "9                  rs2981579  2.305000e-47\n",
       "10                 rs2912779  2.894000e-47\n",
       "11                 rs4752571  8.761000e-47\n",
       "12                 rs2860197  1.542000e-46\n",
       "13                 rs2420946  2.685000e-46\n",
       "14                rs11599804  2.943000e-46\n",
       "15                 rs2162540  3.940000e-46\n",
       "16                 rs3135718  4.507000e-46\n",
       "17                 rs2981582  1.529000e-45\n",
       "18       chr10_123337066_C_T  2.413000e-45\n",
       "19                 rs1078806  8.450000e-45\n",
       "20                rs11200014  1.171000e-44\n",
       "21         chr2_28150862_A_C  1.665000e-44\n",
       "22    chr17_41196821_INDEL_T  1.318000e-42\n",
       "23        chr16_52328666_C_T  1.508000e-41\n",
       "24        chr7_118831547_C_T  1.864000e-40\n",
       "25                 rs2981578  1.388000e-35\n",
       "26                 rs2912778  6.965000e-35\n",
       "27                 rs7959675  9.239000e-35\n",
       "28        chr16_52583143_C_T  9.468000e-35\n",
       "29        chr16_52599188_C_T  1.002000e-34\n",
       "...                      ...           ...\n",
       "5243               rs1560118  9.764000e-04\n",
       "5244               rs2111909  9.769000e-04\n",
       "5245      chr19_30362112_C_T  9.773000e-04\n",
       "5246      chr19_44424254_A_T  9.780000e-04\n",
       "5247      chr7_123446388_C_T  9.783000e-04\n",
       "5248      chr17_53158361_A_G  9.787000e-04\n",
       "5249      chr6_130353612_C_T  9.792000e-04\n",
       "5250      chr3_113979320_C_T  9.818000e-04\n",
       "5251                rs132972  9.831000e-04\n",
       "5252              rs11248073  9.851000e-04\n",
       "5253              rs12133543  9.860000e-04\n",
       "5254               rs6852016  9.868000e-04\n",
       "5255      chr16_80674445_C_G  9.871000e-04\n",
       "5256      chr18_24094388_A_G  9.897000e-04\n",
       "5257               rs2289583  9.897000e-04\n",
       "5258               rs7100411  9.903000e-04\n",
       "5259      chr20_15214249_A_T  9.905000e-04\n",
       "5260      chr14_93098339_C_G  9.912000e-04\n",
       "5261               rs8017398  9.913000e-04\n",
       "5262       chr7_33061694_G_T  9.914000e-04\n",
       "5263       chr5_55878492_C_T  9.932000e-04\n",
       "5264               rs2890707  9.953000e-04\n",
       "5265               rs2019480  9.956000e-04\n",
       "5266               rs7652586  9.964000e-04\n",
       "5267               rs6460575  9.968000e-04\n",
       "5268               rs9878437  9.974000e-04\n",
       "5269               rs3135730  9.984000e-04\n",
       "5270      chr20_18066528_A_T  9.986000e-04\n",
       "5271               rs4846235  9.991000e-04\n",
       "5272                rs992423  9.996000e-04\n",
       "\n",
       "[5273 rows x 2 columns]"
      ]
     },
     "execution_count": 94,
     "metadata": {},
     "output_type": "execute_result"
    }
   ],
   "source": [
    "pf#.sort_values(by=[\"P\"])"
   ]
  },
  {
   "cell_type": "code",
   "execution_count": 95,
   "metadata": {},
   "outputs": [
    {
     "data": {
      "text/plain": [
       "array(['rs12542492=2', 'chr8_89514784_A_G=2', 'chr16_52328666_C_T=2',\n",
       "       'chr10_123467015_C_G=0', 'chr5_111413372_G_T=2',\n",
       "       'chr5_26657987_A_G=2', 'chr2_8196361_A_C=2', 'chr16_8755147_C_T=2',\n",
       "       'chr19_56005289_C_T=0', 'rs3858522=2', 'chr2_168306484_C_T=2',\n",
       "       'chr6_117598048_A_G=2', 'Chr6:30954121:G:T=2', 'rs132392=0',\n",
       "       'chr5_56324570_C_G=2', 'chr11_1937696_C_T=2',\n",
       "       'chr1_97788840_A_G=0', 'chr4_73793618_C_T=2',\n",
       "       'chr20_11343864_C_T=2', 'rs1737035=2', 'chr14_101121371_G_T=2',\n",
       "       'chr2_217957699_G_T=2', 'chr4_53438173_A_G=2', 'rs34839759=2',\n",
       "       'exm414370=2', 'rs28637953=0', 'rs11642757=2',\n",
       "       'chr3_46742523_A_C=2', 'rs68018508=2', 'rs425335=2', 'rs7025424=2',\n",
       "       'rs11869626=2', 'chr17_2990014_G_T=2', 'corect_rs139337779=2',\n",
       "       'chr9_16917672_G_T=2', 'rs1150850=2', 'chr6_32486299_C_T=2',\n",
       "       'rs4040605=2', 'chr13_113796587_A_G=2', 'rs4714648=2',\n",
       "       'chr4_28134269_A_C=2', 'chr8_130380476_C_T=2', 'rs1500206=2',\n",
       "       'chr11_111757486_A_G=2', 'chr1_121264079_A_G=2', 'rs28533496=2',\n",
       "       'chr17_4961271_G_T=2', 'rs10947071=2', 'rs34923393=1',\n",
       "       'chr5_180405432_G_T=2', 'chr7_102368966_A_G=2',\n",
       "       'chr7_92540226_G_T=2', 'rs994362=2', 'chr3_83413654_A_INDEL=2',\n",
       "       'rs12597422=2', 'chr2_171708059_C_T=0', 'corect_rs181578054=2',\n",
       "       'rs2243523=2', 'chr7_118831547_C_T=1', 'chr15_93691968_C_T=0',\n",
       "       'chr6_127899971_A_T=2', 'chr1_121280613_A_G=0',\n",
       "       'chr5_56248636_C_G=2', 'chr5_174341949_A_G=2',\n",
       "       'chr4_39691575_G_T=2', 'chr3_31286160_A_G=2',\n",
       "       'chr13_113284191_C_T=1', 'chr3_87040392_A_G=0', 'rs3215401=2',\n",
       "       'chr5_55985377_C_G=2', 'chr17_43295973_G_T=2',\n",
       "       'chr12_28363760_A_C=2', 'exm2256878=2', 'chr11_111757486_A_G=1',\n",
       "       'chr18_13897371_A_G=2', 'chr5_656863_INDEL_TA=2', 'rs2981579=0',\n",
       "       'rs13047152=2', 'chr7_16893129_A_G=2', 'chr3_71305759_A_G=2',\n",
       "       'chr4_169989297_G_T=1', 'chr9_110630326_C_T=2', 'rs9917486=2',\n",
       "       'rs34114912=2', 'chr7_142804165_A_G=2', 'rs7980716=2',\n",
       "       'rs45631582=2', 'corect_rs116995945=1', 'chr12_96041527_C_T=2',\n",
       "       'rs80181238=2', 'rs7040199=2', 'chr12_49982617_C_G=2',\n",
       "       'rs1627990=0', 'rs74854644=2', 'chr1_204008939_C_T=2',\n",
       "       'rs9507104=0', 'chr1_97788840_A_G=1', 'chr10_38792507_C_T=0',\n",
       "       'chr13_31112376_A_G=2', 'chr14_76886176_C_T=2', 'rs2736108=2',\n",
       "       'chr5_167595594_C_T=2', 'rs9386604=0', 'rs273240=2',\n",
       "       'chr4_39737914_C_T=2', 'rs965001=2', 'rs2903992=2',\n",
       "       'chr6_32551957_G_T=2', 'rs17342514=2', 'chr22_17733251_A_G=1',\n",
       "       'chr4_5025750_A_T=2', 'rs1083383=1', 'chr7_128561918_A_G=2',\n",
       "       'rs259649=2', 'rs922853=2', 'chr7_130659519_A_G=2', 'rs17368005=2',\n",
       "       'chr1_189302023_G_T=2', 'rs10752892=1', 'rs1943980=2',\n",
       "       'rs60926789=2', 'rs4519482=2', 'rs1915063=2',\n",
       "       'chr6_32659535_A_C=2', 'rs17035311=2', 'chr21_46025285_C_T=2',\n",
       "       'rs1926098=2', 'chr6_41209997_A_C=2', 'chr9_124303632_C_T=2',\n",
       "       'chr16_62383079_C_T=2', 'kgp2633599=2', 'chr6_75480993_GT_INDEL=2',\n",
       "       'rs4600441=2', 'rs7158184=2', 'rs1537976=0',\n",
       "       'chr10_13696427_A_G=0', 'chr1_200593023_C_T=2',\n",
       "       'chr22_29288474_C_T=2', 'chr6_41183859_A_C=2', 'rs62205109=2',\n",
       "       'rs6118063=2', 'corect_rs187434740=0', 'chr7_30336503_A_T=2',\n",
       "       'rs4717142=1', 'chr8_17426274_A_G=1', 'rs7570745=2',\n",
       "       'chr8_38902860_C_T=2', 'rs7301270=0', 'rs2936870=0', 'rs9381262=2',\n",
       "       'rs71905325=2', 'rs2103389=2', 'rs6726261=2', 'rs1219642=0',\n",
       "       'rs782744=2', 'rs11787627=2', 'chr4_89246214_G_T=0', 'rs2686630=0',\n",
       "       'rs9599076=2', 'rs2278746=2', 'rs6447662=2', 'rs9291180=2',\n",
       "       'exm433046=2', 'rs801752=1', 'chr19_23920150_A_G=2',\n",
       "       'exm1063738=2', 'rs10768905=0', 'rs11261022=2',\n",
       "       'chr12_116984684_C_T=2', 'chr2_4977289_A_C=2', 'rs7767114=0',\n",
       "       'rs11200014=0', 'rs2912778=2', 'rs17656537=2', 'rs9665348=2',\n",
       "       'rs1320969=2', 'rs7312430=2', 'rs6534472=2', 'chr2_25192908_A_C=2',\n",
       "       'chr5_90789470_A_G=2', 'chr2_217969552_A_G=2', 'rs7818404=2',\n",
       "       'rs2289065=2', 'chr10_123337066_C_T=0', 'rs6708858=0',\n",
       "       'rs11571815=2', 'chr6_1606031_G_T=2', 'rs922855=2',\n",
       "       'chr18_42387945_A_G=2', 'chr1_191899139_C_G=2', 'rs62489409=1',\n",
       "       'chr10_54132317_A_G=2', 'rs2373452=2', 'chr18_42373791_A_C=2',\n",
       "       'chr19_11303068_C_T=2', 'chr11_24623826_A_G=1',\n",
       "       'corect_rs111968842=2', 'chr8_104109811_A_G=2',\n",
       "       'chr11_130943681_A_G=1', 'rs4237709=0', 'rs9260313=0',\n",
       "       'rs10808353=2', 'rs72764708=2', 'chr18_42378282_A_G=2',\n",
       "       'chr5_44508174_INDEL_TTC=2', 'chr11_59071087_C_T=2',\n",
       "       'chr9_16917672_G_T=1', 'rs2372964=2', 'chr5_151953200_G_T=1',\n",
       "       'chr2_217954982_A_T=2', 'rs9271611=1', 'chr11_24623826_A_G=2',\n",
       "       'chr1_189310286_A_G=2', 'rs9824206=2', 'chr2_23222481_C_T=1',\n",
       "       'rs9266064=0', 'chr10_29919963_A_G=1', 'rs12940064=2',\n",
       "       'rs10907360=0', 'rs2294551=2', 'chr10_134234535_C_T=2',\n",
       "       'rs11784122=2', 'chr17_151877_A_G=2', 'chr18_42374466_A_G=2',\n",
       "       'rs3213223=2', 'rs16853045=2', 'rs3927124=2', 'rs9925068=2',\n",
       "       'chr10_64288389_C_T=2', 'rs11119860=0', 'chr21_41532756_C_T=1',\n",
       "       'rs72646635=2', 'chr8_128146308_G_T=1', 'chr2_217971498_C_T=2',\n",
       "       'rs33391=1', 'chrX_3537035_C_T=2', 'chr20_52304681_C_T=0',\n",
       "       'rs729125=1', 'rs4714432=2', 'chr5_165900741_C_T=2', 'rs132941=2',\n",
       "       'rs13183603=2', 'rs17754047=2', 'chr18_59402300_C_T=2',\n",
       "       'chr8_8933310_A_T=2', 'chr6_31324536_A_T=0', 'rs2111324=2',\n",
       "       'chr15_91548601_A_G=2', 'chr6_32523296_A_G=2', 'rs2041070=2',\n",
       "       'rs9827866=2', 'rs909116=2', 'chr2_55325001_A_G=2',\n",
       "       'chr18_42386553_C_T=2', 'chr17_56180576_C_T=2',\n",
       "       'chr6_138734024_A_G=2', 'chr1_232388727_C_G=1', 'rs17067831=2',\n",
       "       'chr14_76144828_A_G=2', 'rs72834723=0', 'chr2_171708059_C_T=1',\n",
       "       'c3_pos157413713=2', 'rs4766992=2', 'rs2297922=2', 'rs6735848=2',\n",
       "       'chr17_4961271_G_T=1', 'rs3135718=0', 'chr2_217971031_A_C=2',\n",
       "       'chr5_2392267_A_G=2', 'chr4_145200952_C_G=2', 'rs17549261=2',\n",
       "       'chr10_80850750_C_T=0', 'rs10995189=2', 'rs4301826=0',\n",
       "       'chr8_87938182_A_G=2', 'chr1_171056203_C_T=1', 'rs13381179=2',\n",
       "       'rs11599804=0', 'chr12_96027759_A_G=2', 'chr18_42371256_A_G=2',\n",
       "       'rs11729069=2', 'rs9952872=2', 'chr4_153848128_A_G=2',\n",
       "       'rs9606958=2', 'rs9272535=0', 'rs899080=0', 'rs2912774=0',\n",
       "       'rs136832=2', 'rs7259325=2', 'chr17_68777048_C_T=2',\n",
       "       'chr13_107080576_A_G=2', 'rs9790115=2', 'rs10143451=2',\n",
       "       'chr1_211854329_A_G=2', 'chr13_42025812_A_G=0',\n",
       "       'chr6_32525284_C_T=2', 'chr7_30336156_C_G=2', 'rs7851298=2',\n",
       "       'rs6557385=0', 'rs55920378=1', 'chr10_82842595_A_G=2',\n",
       "       'chr3_37221053_C_G=2', 'rs4975655=2', 'rs12718642=0',\n",
       "       'rs6440136=2', 'rs74458345=2', 'chr15_47382817_C_T=2',\n",
       "       'chr11_65665988_A_G=1', 'rs10461695=2', 'rs35610231=2',\n",
       "       'chr10_29919963_A_G=2', 'rs551266=2', 'chr18_42382733_C_T=2',\n",
       "       'rs1175119=2', 'rs525448=2', 'chr2_134955210_C_T=2',\n",
       "       'rs10255163=2', 'rs239765=2', 'rs45631580=2', 'exm1380346=2',\n",
       "       'rs2912780=0', 'chr5_90676483_A_C=2', 'chr12_116984684_C_T=1',\n",
       "       'rs17586536=2', 'rs4793290=0', 'chr16_50766886_A_G=0',\n",
       "       'corect_rs137869059=2', 'chr19_17186940_C_G=2', 'rs9559334=0',\n",
       "       'corect_rs116995945=2', 'rs2372052=0', 'chr1_62514768_C_T=2',\n",
       "       'rs6825684=2', 'chr17_46041404_A_T=1', 'chr5_521096_C_T=1',\n",
       "       'chr3_141054579_C_T=0', 'chr4_153848128_A_G=0',\n",
       "       'chr6_32484554_A_T=2', 'rs13234407=0', 'chr4_9475301_A_C=0',\n",
       "       'Chr22:29885127:-:AAACAA=0', 'rs2527343=2', 'rs9910757=0',\n",
       "       'chr16_54707615_C_T=2', 'rs11159221=2', 'chr19_13140341_C_T=2',\n",
       "       'rs1083383=0', 'chr5_49511425_C_T=1', 'chr10_126236440_C_G=2',\n",
       "       'rs1219651=0', 'chr7_142804165_A_G=1', 'rs2638381=2',\n",
       "       'chr18_42406078_A_G=2', 'rs1174931=2', 'chr12_28530125_C_G=1',\n",
       "       'rs583034=0', 'chr5_41775546_A_INDEL=2', 'rs2244817=0',\n",
       "       'rs17542285=2', 'chr8_142123272_C_T=2', 'rs2040639=0',\n",
       "       'rs383748=2', 'rs3927319=2', 'rs7204722=2', 'chr17_46157540_A_G=0',\n",
       "       'chr10_126256127_C_T=2', 'rs11735107=1', 'chr11_65665988_A_G=2',\n",
       "       'chr2_217968969_G_T=2', 'rs17081488=2', 'rs72935553=2',\n",
       "       'chr13_87789734_C_T=2', 'rs2981575=0', 'chr3_47333129_A_G=2',\n",
       "       'chr6_30701533_G_INDEL=2', 'rs2981584=0', 'rs71647871=1',\n",
       "       'rs1464028=2', 'rs1614887=0', 'chr4_175851520_G_T=2',\n",
       "       'chr15_40529113_A_G=0', 'rs2343912=0', 'rs10064567=2',\n",
       "       'rs16907085=2', 'rs5769415=2', 'rs3827256=0',\n",
       "       'chr9_110303538_GT_INDEL=0', 'rs2981582=0', 'chr20_1335187_C_T=1',\n",
       "       'rs28364422=1', 'rs11726911=2', 'chr4_96333037_G_T=2',\n",
       "       'rs4714648=1', 'rs1106387=2', 'chr12_49720822_A_G=2',\n",
       "       'chr12_28530125_C_G=2', 'chr16_52599188_C_T=0',\n",
       "       'chr3_66437521_C_T=2', 'chr18_42375578_A_C=2', 'rs7084454=0',\n",
       "       'rs165400=2', 'chr3_37221053_C_G=1', 'chr15_81328368_C_T=0',\n",
       "       'rs6862125=2', 'chr8_40413080_G_T=2', 'rs4972555=2',\n",
       "       'rs75612337=2', 'rs12673394=0', 'chr2_217920769_G_T=2',\n",
       "       'chr6_32552168_A_G=1', 'chr8_11589042_A_G=0', 'rs335766=2',\n",
       "       'chr4_9462484_G_T=2', 'rs132972=0', 'rs10112904=2',\n",
       "       'chr4_107862280_A_C=0', 'rs1838564=2', 'rs12158945=0',\n",
       "       'rs10512852=2', 'rs921792=0', 'chr9_78210915_A_T=2', 'rs1174900=0',\n",
       "       'chr14_47823613_G_T=2', 'rs7728598=0', 'rs4843429=0',\n",
       "       'chr1_232388727_C_G=2', 'chr5_123650264_A_G=2', 'rs2190997=2',\n",
       "       'chr6_43185354_C_T=2', 'corect_rs137869059=1',\n",
       "       'chr11_15340237_C_T=2', 'rs12896330=0', 'chr21_30847259_C_T=2',\n",
       "       'rs7775178=0', 'rs4752571=0', 'chr6_31248091_A_G=2',\n",
       "       'rs10760997=2', 'rs7220012=2', 'rs10782563=0', 'rs1078806=0',\n",
       "       'rs398151=1', 'chr15_74592862_A_G=0', 'chr18_24531290_C_INDEL=2',\n",
       "       'rs11836367=2', 'chr1_1914124_C_T=0', 'rs3195954=2',\n",
       "       'chr1_217223816_G_T=2', 'rs1072781=2', 'rs2111909=0',\n",
       "       'rs12863638=2', 'chr10_64278874_C_T=2', 'chr9_119392283_C_T=2',\n",
       "       'chr12_96037389_A_T=2', 'chr10_64268659_A_T=2',\n",
       "       'chr1_121349358_A_G=2', 'rs1527359=0', 'chr12_116778635_C_T=2',\n",
       "       'chr8_128146308_G_T=0', 'rs2176304=2', 'rs1419926=2',\n",
       "       'corect_rs187434740=1', 'chr11_46015152_C_T=2',\n",
       "       'chr17_56226845_A_T=2', 'chr18_63130057_A_G=2',\n",
       "       'chr5_2394715_C_T=2', 'chr6_30701533_G_INDEL=1',\n",
       "       'chr22_42854569_C_G=1', 'chr4_39691575_G_T=1', 'rs7088680=2',\n",
       "       'rs7786990=2', 'rs2162540=0', 'chr8_22472949_C_T=2', 'rs2255938=0',\n",
       "       'rs2388742=2', 'rs6904241=2', 'rs4671379=2',\n",
       "       'chr5_158064752_G_T=2', 'chr15_100551541_A_G=2',\n",
       "       'chr4_175828287_C_T=2', 'rs2369579=0', 'chr10_67002675_A_C=2',\n",
       "       'rs9945779=2', 'chr2_238229802_C_T=2', 'rs10054818=0',\n",
       "       'chr18_42374800_G_T=2', 'rs1997850=2', 'rs562434=2',\n",
       "       'rs10833472=0', 'rs2017964=0', 'chr19_44282857_G_T=0',\n",
       "       'chr7_91580030_A_G=2', 'chr15_91538920_C_T=2',\n",
       "       'chr3_71305759_A_G=0', 'chr2_25127801_C_T=2',\n",
       "       'chr3_87906039_A_T=0', 'rs1863390=0', 'rs10491562=2',\n",
       "       'rs12566190=2', 'rs6461483=2', 'rs2841632=2', 'rs6553719=2',\n",
       "       'rs1429845=2', 'chr7_21126458_G_T=2', 'rs8010088=2',\n",
       "       'chr16_88908306_A_G=2', 'chr2_189555506_A_G=2', 'rs5920253=2',\n",
       "       'chr2_28150862_A_C=2', 'chr2_23168305_A_G=1',\n",
       "       'chr10_123390024_A_G=2', 'rs7015470=0', 'rs6718489=2',\n",
       "       'rs9327640=0', 'rs6974602=0', 'chr17_41196821_INDEL_T=0',\n",
       "       'rs7194455=2', 'chr6_32633398_C_T=2', 'rs6787229=2', 'rs579740=0',\n",
       "       'rs4717142=2', 'rs9787392=2', 'rs10114408=2', 'rs17035289=2',\n",
       "       'rs1777696=0', 'chr14_37239005_A_T=0', 'rs10752892=0',\n",
       "       'rs11117754=2', 'chr2_28150862_A_C=1', 'chr3_74118286_A_T=0',\n",
       "       'rs10902222=2', 'rs7787009=0', 'rs2912779=0', 'rs1433711=2',\n",
       "       'chr2_217857493_C_T=2', 'chr7_91707921_C_T=2',\n",
       "       'chr19_23254894_A_G=0', 'chr21_41532756_C_T=0',\n",
       "       'chr4_39737914_C_T=1', 'rs7589172=2', 'rs12975216=2',\n",
       "       'rs4899795=2', 'chr16_29946708_A_G=2', 'chr2_202531547_A_C=2',\n",
       "       'chr16_80402324_C_G=0', 'rs17271951=0', 'rs1229469=2',\n",
       "       'rs7545208=0', 'rs1529893=2', 'c3_pos27093595=2', 'rs6838519=2',\n",
       "       'rs9514848=0', 'chr6_32479493_A_G=0', 'chr5_521096_C_T=2',\n",
       "       'rs10008104=0', 'rs2745599=0', 'rs10425311=2', 'rs10928485=2',\n",
       "       'rs2413715=1', 'rs4777372=2', 'rs763480=2', 'chr19_9322661_C_T=2',\n",
       "       'chr4_16013048_C_T=2', 'rs4980383=0', 'rs1159906=2',\n",
       "       'rs17726078=2', 'rs12932319=2', 'rs275966=2', 'rs12658689=2',\n",
       "       'rs7760611=2', 'rs6685305=2', 'rs13098429=2', 'rs2863845=2',\n",
       "       'chr5_1882940_A_C=2', 'rs4879262=2', 'rs10473013=2',\n",
       "       'chr8_36218924_C_T=2', 'chr10_80810849_A_C=2',\n",
       "       'chr1_156191149_C_T=0', 'chr5_116877991_A_C=1', 'rs186403=2',\n",
       "       'chr2_202527467_A_G=2', 'chr21_20106580_A_G=1', 'rs72847947=2',\n",
       "       'rs555115=2', 'rs59325012=2', 'chr10_80882589_A_G=0',\n",
       "       'rs10160674=1', 'rs6464573=2', 'chr20_52304681_C_T=2',\n",
       "       'chr9_122206415_C_T=2', 'chr2_153169227_C_T=2', 'rs4454527=2',\n",
       "       'rs2420946=0', 'rs7734515=0', 'rs12540711=2', 'chr5_2391453_A_G=2',\n",
       "       'chr4_103903209_A_G=2', 'rs10736303=2', 'chr11_69509669_C_T=0',\n",
       "       'chr7_33061694_G_T=2', 'chr2_29009089_A_C=1', 'rs352276=2',\n",
       "       'chr3_99387903_A_G=2', 'rs9302881=0', 'rs8094017=0', 'rs9210=2',\n",
       "       'rs2372972=2', 'chr2_185637683_C_T=2', 'rs11977670=0',\n",
       "       'exm296923=2', 'chr3_74118286_A_T=2', 'chr16_52574343_A_G=0',\n",
       "       'rs2052418=1', 'rs4849728=0', 'rs2108494=2', 'rs2357322=2',\n",
       "       'rs1055328=2', 'rs7770657=2', 'rs15618=2', 'rs12699727=2',\n",
       "       'rs1219648=0', 'rs2075882=2', 'rs13199160=0', 'rs2853669=2',\n",
       "       'chr9_119617228_G_T=1', 'chr3_156557220_A_G=2',\n",
       "       'chr10_43692630_C_T=0', 'rs6537756=0', 'rs7237501=2', 'rs385437=2',\n",
       "       'rs9346612=2', 'rs743605=2', 'chr5_44619754_A_G=2',\n",
       "       'chr2_217924394_A_G=2', 'chr3_50192826_C_T=1', 'rs7404209=2',\n",
       "       'rs4661736=2', 'chr5_174355059_A_G=2', 'rs7119634=0',\n",
       "       'chr10_80887337_A_G=0', 'chr8_105462115_A_T=2', 'rs11875326=2',\n",
       "       'chr10_64254983_A_G=2', 'chr16_54346912_A_G=2', 'rs6449947=0',\n",
       "       'chr5_90762748_A_G=2', 'chr5_56193547_C_T=2',\n",
       "       'chr4_175847144_A_T=2', 'chr6_70512939_A_G=0', 'rs10090153=0',\n",
       "       'chr7_3099256_C_T=2', 'corect_rs150013368=2',\n",
       "       'chr13_113796587_A_G=0', 'chr6_17589375_C_T=0', 'rs7156153=2',\n",
       "       'chr2_83013605_A_G=2', 'chr11_23840192_C_T=0', 'rs2071213=0',\n",
       "       'rs72832402=2', 'chr20_52304681_C_T=1', 'rs7016229=2',\n",
       "       'rs7257932=2', 'chr2_217909463_A_G=2', 'chr4_175830130_A_G=2',\n",
       "       'rs2250526=2', 'rs11580915=2', 'rs4821638=2', 'rs501817=0',\n",
       "       'rs1634479=2', 'rs33391=0', 'rs2977903=0', 'chr4_114651107_A_G=2',\n",
       "       'rs934612=0', 'rs381125=2', 'rs4544121=2', 'chr18_42383005_A_G=2',\n",
       "       'chr6_21905726_A_G=2', 'rs34636650=2', 'chr2_217857493_C_T=0',\n",
       "       'chr12_28140918_C_T=2', 'rs11807554=0', 'chr10_64301817_C_T=2',\n",
       "       'corect_rs185100170=1', 'chr7_92540226_G_T=1',\n",
       "       'chr9_124300734_C_T=2', 'chr5_55773118_C_T=2', 'rs2177153=0',\n",
       "       'rs11051=2', 'chr3_26877966_C_T=2', 'rs17842141=2',\n",
       "       'chr12_19781229_C_T=2', 'chr12_28163977_C_T=2',\n",
       "       'chr12_13202294_A_G=0', 'rs7144699=2', 'chr11_24623826_A_G=0',\n",
       "       'rs4391897=2', 'rs35426=2', 'rs4941050=2', 'chr3_60254987_C_T=2',\n",
       "       'chr9_110303538_GT_INDEL=1', 'chr12_28147351_A_G=2',\n",
       "       'corect_rs116417157=2', 'rs242928=0', 'chr19_44001379_C_T=2',\n",
       "       'chr21_41532756_C_T=2', 'rs11735107=2', 'chr9_7510184_C_G=2',\n",
       "       'rs161658=2', 'rs9980825=2', 'rs13133213=0', 'chr1_2501064_A_G=0',\n",
       "       'rs614367=1', 'rs132941=0', 'rs17178756=2', 'rs7765678=2',\n",
       "       'chr1_10879725_A_G=0', 'rs17744022=2', 'rs3927319=1',\n",
       "       'chr16_52581979_C_G=0', 'rs6568433=0', 'rs7230437=1',\n",
       "       'chrX_125912274_C_T=2', 'chr4_42107115_A_G=2', 'rs28969436=0',\n",
       "       'rs11804252=2', 'rs4805487=0', 'rs7124765=2', 'rs12889251=2',\n",
       "       'rs10518461=2', 'rs398151=2', 'rs11641297=2',\n",
       "       'chr2_185637683_C_T=1', 'chr12_28169798_A_C=2', 'rs602946=0',\n",
       "       'chr8_36853213_C_T=2', 'rs8094072=0', 'chr15_91528070_C_G=2',\n",
       "       'rs157512=1', 'chr12_28152993_A_G=2', 'chr8_11794050_A_C=0',\n",
       "       'chr7_154165614_C_T=2', 'chr13_27131826_G_T=0', 'rs2110173=2',\n",
       "       'rs4388446=2', 'rs8033207=0', 'rs2242312=2',\n",
       "       'chr2_218174294_C_G=2', 'rs1551892=2', 'rs2981578=2',\n",
       "       'rs8090363=2', 'rs4973842=2', 'rs6959411=0',\n",
       "       'chr3_4803735_AAG_INDEL=0', 'rs1863390=1', 'chr4_175821735_C_T=2',\n",
       "       'chr7_12687945_A_G=1', 'rs8126454=2', 'rs624376=2', 'rs55722937=2',\n",
       "       'rs11155996=2', 'chr16_52623836_G_T=2', 'rs1876469=0',\n",
       "       'chr18_42379511_A_G=2', 'rs10184558=2', 'rs5975711=2',\n",
       "       'rs10798269=0', 'rs661348=2', 'rs9430149=2',\n",
       "       'chr5_44301566_INDEL_T=2', 'rs175889=2', 'chr8_74329884_C_G=0',\n",
       "       'chr16_52537526_A_G=2', 'rs72761383=2', 'rs34010330=2',\n",
       "       'rs61850917=0', 'rs6574252=2', 'chr5_2383722_A_G=2',\n",
       "       'chr21_16537447_C_T=2', 'rs34800900=0', 'chr12_28172342_G_T=2',\n",
       "       'rs10054818=1', 'rs12542467=0', 'rs13356034=2',\n",
       "       'chr7_16575830_A_T=2', 'rs12557711=2', 'chr12_28155080_A_G=2',\n",
       "       'rs9270529=2', 'corect_rs186216026=0', 'chr7_6038722_C_T=2',\n",
       "       'rs4808814=2', 'rs643753=2', 'chr21_20106580_A_G=0',\n",
       "       'chr4_175838941_A_G=2', 'chr22_40428433_A_G=2', 'rs79222830=0',\n",
       "       'rs7739078=2', 'chr5_56280245_A_G=2', 'chr10_52434758_A_G=0',\n",
       "       'chr16_52585440_C_T=0', 'chr22_35753792_A_G=2', 'rs7917438=2',\n",
       "       'chr19_57444967_C_T=1', 'rs4237533=2', 'rs9320750=1',\n",
       "       'chr4_175829693_G_T=2', 'chr12_28149659_C_T=2',\n",
       "       'chr22_28552698_C_T=2', 'chr4_57426243_A_T=2',\n",
       "       'chr13_74357374_C_T=2', 'chr15_74599333_A_C=2', 'rs10788178=2',\n",
       "       'rs45465998=0', 'rs1472357=2', 'rs2669264=2',\n",
       "       'chr4_32190891_G_T=2', 'rs11067419=0', 'chr14_93070286_C_T=2',\n",
       "       'chr5_56022251_C_T=2', 'chr21_19567725_C_T=2',\n",
       "       'chr5_56001002_C_G=2', 'rs7740366=2', 'chr10_64288130_C_G=2',\n",
       "       'chr19_44295720_INDEL_TC=0', 'chr13_19524950_A_G=0', 'rs7848334=2',\n",
       "       'rs9700=0', 'rs2957792=2', 'chr4_44900597_C_T=1',\n",
       "       'chr7_51238333_A_G=0', 'rs16963205=2', 'rs7852038=2',\n",
       "       'chr6_42017286_C_T=2', 'chr6_68404944_G_T=0', 'rs6545420=0',\n",
       "       'rs3094122=2', 'rs1400042=2', 'rs6943934=2',\n",
       "       'chr1_37702050_AGA_INDEL=0', 'rs1064627=2',\n",
       "       'chr2_202221239_CTT_INDEL=2', 'rs34800900=1', 'rs75915166=1',\n",
       "       'rs12483016=2', 'chrX_81467918_C_T=0', 'rs1384331=1',\n",
       "       'chr14_37018022_G_T=2', 'chr4_42105865_A_C=2',\n",
       "       'chr6_32552168_A_G=0', 'rs4853841=2', 'rs7230437=0',\n",
       "       'chr11_65665256_A_G=0', 'rs11733534=0', 'chr1_200593023_C_T=1',\n",
       "       'rs1869599=2', 'rs907573=2', 'rs10508296=0', 'rs1473201=2',\n",
       "       'rs45631630=2', 'chr5_9991919_A_G=2', 'chr3_74118286_A_T=1',\n",
       "       'chr16_52564669_C_T=2', 'rs7259285=2', 'chr3_27135957_A_G=0',\n",
       "       'rs79222830=2', 'chr17_49782061_C_T=2', 'chr4_182294897_G_T=2',\n",
       "       'chr6_32631556_G_INDEL=2', 'chr22_42854569_C_G=0', 'rs2288993=2',\n",
       "       'kgp11577530=2', 'chr2_202213061_C_G=2', 'rs1990941=1',\n",
       "       'rs12547541=2', 'rs12456284=2', 'chr2_217968561_C_T=2',\n",
       "       'rs368243=0', 'rs6118063=0', 'chr7_139943267_C_T=0',\n",
       "       'rs34923393=0', 'rs11677299=2', 'chr8_36697279_G_T=2',\n",
       "       'rs6001031=2', 'corect_rs148851713=2', 'chr5_111114379_G_T=2',\n",
       "       'chr2_29133688_C_T=2', 'chr18_24578138_A_G=2', 'rs7236228=2',\n",
       "       'chr4_175822759_C_T=2', 'rs134755=0', 'chr2_121153979_C_T=2',\n",
       "       'chr6_32470283_A_C=2', 'chr4_44900597_C_T=0',\n",
       "       'chr16_52560213_A_G=0', 'chr13_113284191_C_T=2',\n",
       "       'chr7_30322482_A_T=2', 'chr1_155155731_A_G=0',\n",
       "       'chrX_68562276_C_G=0', 'chr12_15177511_C_T=1', 'rs7066183=0',\n",
       "       'chr15_91551876_C_T=2', 'rs12682471=2', 'chr20_18066528_A_T=0',\n",
       "       'rs2273221=2', 'chr4_126466491_A_G=0', 'chr10_123437540_C_T=2',\n",
       "       'chr4_25649387_C_G=0', 'rs2162797=2', 'chr3_30576258_A_C=1',\n",
       "       'rs35742476=2', 'chr11_69306395_A_T=2', 'rs893496=2',\n",
       "       'rs11876497=0', 'rs542362=2', 'chr5_1882952_A_C=2', 'rs67257959=2',\n",
       "       'rs11573041=0', 'rs10514398=2', 'rs10960938=2', 'rs12018446=1',\n",
       "       'chrX_146095648_A_G=1', 'chr16_52581424_C_T=0', 'rs2737455=2',\n",
       "       'rs10204104=2', 'chr21_26091601_A_G=2', 'rs2685505=2',\n",
       "       'rs34882439=2', 'chr10_80852768_G_T=0', 'rs9383936=0',\n",
       "       'chr5_45796684_CA_INDEL=2', 'rs1033772=2', 'chr10_80883572_A_G=0',\n",
       "       'chr3_71305759_A_G=1', 'chr6_130374102_A_C=2',\n",
       "       'chr18_42394381_A_T=2', 'chr8_77781087_A_G=0',\n",
       "       'chr16_52558834_A_G=2', 'rs7796764=0', 'rs12646105=2',\n",
       "       'rs3805550=2', 'rs4980389=2', 'rs157512=2', 'chr6_130349119_C_T=2',\n",
       "       'chr15_91522253_A_G=2', 'chr4_175844585_C_G=2',\n",
       "       'chr2_217976869_A_C=2', 'rs403334=2', 'rs71647871=0',\n",
       "       'chr5_56060400_C_T=2', 'chr1_10609973_G_T=2',\n",
       "       'chr2_202150914_A_G=2', 'chr4_175859723_C_T=2', 'rs12541064=0',\n",
       "       'chr12_28091700_A_G=0', 'chr6_32575843_A_C=2',\n",
       "       'chr11_11376765_C_T=2', 'chr8_12549881_C_G=1',\n",
       "       'chr18_42414965_A_G=2', 'rs7786990=1', 'rs973497=2',\n",
       "       'c5_pos44489027=2', 'rs805288=0', 'rs9355450=2', 'rs9376370=2',\n",
       "       'rs3732047=2', 'rs1054998=0', 'rs72765759=2',\n",
       "       'chr12_28179701_C_T=2', 'chr5_111103258_C_T=2', 'rs12890307=2',\n",
       "       'rs10500702=2', 'chr12_96021033_C_T=0', 'rs12445424=2',\n",
       "       'chr3_50192826_C_T=2', 'chr15_74596494_C_T=2',\n",
       "       'chr7_12687945_A_G=0', 'rs28364422=0', 'chr5_44341451_C_INDEL=2',\n",
       "       'chr14_21816052_C_T=2', 'rs2157908=2', 'rs398151=0',\n",
       "       'chr16_52517332_C_T=2', 'rs12018446=0', 'rs4689599=2',\n",
       "       'rs3135772=2', 'rs10064567=0', 'rs17136641=1', 'rs7386213=2',\n",
       "       'chr1_109093676_A_G=2', 'rs67451499=2', 'rs657686=1',\n",
       "       'chr10_64278682_A_G=2', 'rs11788139=2', 'rs595107=2',\n",
       "       'chr8_36846435_A_G=2', 'rs6630120=1', 'chr4_42114671_G_T=2',\n",
       "       'rs797319=0', 'chr3_46894988_A_C=2', 'rs12940064=0', 'rs8015790=2'],\n",
       "      dtype=object)"
      ]
     },
     "execution_count": 95,
     "metadata": {},
     "output_type": "execute_result"
    }
   ],
   "source": [
    "important_lime"
   ]
  },
  {
   "cell_type": "code",
   "execution_count": 96,
   "metadata": {},
   "outputs": [
    {
     "data": {
      "text/plain": [
       "array([['rs12542492', 6.305e-11],\n",
       "       ['chr8_89514784_A_G', 2.483e-05],\n",
       "       ['chr16_52328666_C_T', 1.5079999999999998e-41],\n",
       "       ...,\n",
       "       ['chr3_46894988_A_C', 0.0006642],\n",
       "       ['rs12940064', 0.0007673],\n",
       "       ['rs8015790', 0.0004921]], dtype=object)"
      ]
     },
     "execution_count": 96,
     "metadata": {},
     "output_type": "execute_result"
    }
   ],
   "source": [
    "np.array(lime_logistic)"
   ]
  },
  {
   "cell_type": "code",
   "execution_count": 97,
   "metadata": {},
   "outputs": [],
   "source": [
    "imp=pd.DataFrame(lime_logistic)[:1000]"
   ]
  },
  {
   "cell_type": "code",
   "execution_count": 98,
   "metadata": {},
   "outputs": [],
   "source": [
    "imp.columns=[\"SNP\",\"P\"]"
   ]
  },
  {
   "cell_type": "code",
   "execution_count": 99,
   "metadata": {},
   "outputs": [],
   "source": [
    "imp.to_csv(\"/work/breastcancer/clean_test/results/top1000_important_lime2.csv\")"
   ]
  },
  {
   "cell_type": "code",
   "execution_count": 351,
   "metadata": {},
   "outputs": [
    {
     "data": {
      "text/html": [
       "<div>\n",
       "<style scoped>\n",
       "    .dataframe tbody tr th:only-of-type {\n",
       "        vertical-align: middle;\n",
       "    }\n",
       "\n",
       "    .dataframe tbody tr th {\n",
       "        vertical-align: top;\n",
       "    }\n",
       "\n",
       "    .dataframe thead th {\n",
       "        text-align: right;\n",
       "    }\n",
       "</style>\n",
       "<table border=\"1\" class=\"dataframe\">\n",
       "  <thead>\n",
       "    <tr style=\"text-align: right;\">\n",
       "      <th></th>\n",
       "      <th>SNP</th>\n",
       "      <th>P</th>\n",
       "    </tr>\n",
       "  </thead>\n",
       "  <tbody>\n",
       "    <tr>\n",
       "      <th>0</th>\n",
       "      <td>rs34923393</td>\n",
       "      <td>5.043000e-15</td>\n",
       "    </tr>\n",
       "    <tr>\n",
       "      <th>1</th>\n",
       "      <td>rs10792009</td>\n",
       "      <td>5.465000e-05</td>\n",
       "    </tr>\n",
       "    <tr>\n",
       "      <th>2</th>\n",
       "      <td>chr13_113284191_C_T</td>\n",
       "      <td>7.779000e-23</td>\n",
       "    </tr>\n",
       "    <tr>\n",
       "      <th>3</th>\n",
       "      <td>rs6118063</td>\n",
       "      <td>7.790000e-10</td>\n",
       "    </tr>\n",
       "    <tr>\n",
       "      <th>4</th>\n",
       "      <td>chr21_20106580_A_G</td>\n",
       "      <td>2.079000e-10</td>\n",
       "    </tr>\n",
       "    <tr>\n",
       "      <th>5</th>\n",
       "      <td>chr12_15177511_C_T</td>\n",
       "      <td>4.214000e-10</td>\n",
       "    </tr>\n",
       "    <tr>\n",
       "      <th>6</th>\n",
       "      <td>chr2_150721127_A_C</td>\n",
       "      <td>4.395000e-15</td>\n",
       "    </tr>\n",
       "    <tr>\n",
       "      <th>7</th>\n",
       "      <td>chr2_23222481_C_T</td>\n",
       "      <td>2.026000e-24</td>\n",
       "    </tr>\n",
       "    <tr>\n",
       "      <th>8</th>\n",
       "      <td>chr2_171708059_C_T</td>\n",
       "      <td>1.900000e-11</td>\n",
       "    </tr>\n",
       "    <tr>\n",
       "      <th>9</th>\n",
       "      <td>chr3_71305759_A_G</td>\n",
       "      <td>1.003000e-04</td>\n",
       "    </tr>\n",
       "    <tr>\n",
       "      <th>10</th>\n",
       "      <td>rs1150850</td>\n",
       "      <td>4.423000e-04</td>\n",
       "    </tr>\n",
       "    <tr>\n",
       "      <th>11</th>\n",
       "      <td>chr12_116778635_C_T</td>\n",
       "      <td>5.677000e-08</td>\n",
       "    </tr>\n",
       "    <tr>\n",
       "      <th>12</th>\n",
       "      <td>chr17_4961271_G_T</td>\n",
       "      <td>8.213000e-06</td>\n",
       "    </tr>\n",
       "    <tr>\n",
       "      <th>13</th>\n",
       "      <td>rs1083383</td>\n",
       "      <td>1.038000e-10</td>\n",
       "    </tr>\n",
       "    <tr>\n",
       "      <th>14</th>\n",
       "      <td>chr1_97788840_A_G</td>\n",
       "      <td>6.635000e-34</td>\n",
       "    </tr>\n",
       "    <tr>\n",
       "      <th>15</th>\n",
       "      <td>rs72935553</td>\n",
       "      <td>2.758000e-04</td>\n",
       "    </tr>\n",
       "    <tr>\n",
       "      <th>16</th>\n",
       "      <td>chr2_28150862_A_C</td>\n",
       "      <td>1.665000e-44</td>\n",
       "    </tr>\n",
       "    <tr>\n",
       "      <th>17</th>\n",
       "      <td>corect_rs187434740</td>\n",
       "      <td>1.633000e-08</td>\n",
       "    </tr>\n",
       "    <tr>\n",
       "      <th>18</th>\n",
       "      <td>chr4_39691575_G_T</td>\n",
       "      <td>2.139000e-07</td>\n",
       "    </tr>\n",
       "    <tr>\n",
       "      <th>19</th>\n",
       "      <td>chr16_89246785_A_C</td>\n",
       "      <td>4.946000e-04</td>\n",
       "    </tr>\n",
       "    <tr>\n",
       "      <th>20</th>\n",
       "      <td>chr2_29009089_A_C</td>\n",
       "      <td>2.641000e-10</td>\n",
       "    </tr>\n",
       "    <tr>\n",
       "      <th>21</th>\n",
       "      <td>rs398151</td>\n",
       "      <td>1.058000e-08</td>\n",
       "    </tr>\n",
       "    <tr>\n",
       "      <th>22</th>\n",
       "      <td>rs2111909</td>\n",
       "      <td>9.769000e-04</td>\n",
       "    </tr>\n",
       "    <tr>\n",
       "      <th>23</th>\n",
       "      <td>chr20_34858360_C_T</td>\n",
       "      <td>2.784000e-11</td>\n",
       "    </tr>\n",
       "    <tr>\n",
       "      <th>24</th>\n",
       "      <td>chr13_32813518_C_T</td>\n",
       "      <td>8.911000e-04</td>\n",
       "    </tr>\n",
       "    <tr>\n",
       "      <th>25</th>\n",
       "      <td>rs56116165</td>\n",
       "      <td>6.905000e-04</td>\n",
       "    </tr>\n",
       "    <tr>\n",
       "      <th>26</th>\n",
       "      <td>chr6_68404944_G_T</td>\n",
       "      <td>7.370000e-04</td>\n",
       "    </tr>\n",
       "    <tr>\n",
       "      <th>27</th>\n",
       "      <td>chr3_37221053_C_G</td>\n",
       "      <td>6.784000e-05</td>\n",
       "    </tr>\n",
       "    <tr>\n",
       "      <th>28</th>\n",
       "      <td>chr7_51238333_A_G</td>\n",
       "      <td>1.703000e-04</td>\n",
       "    </tr>\n",
       "    <tr>\n",
       "      <th>29</th>\n",
       "      <td>chr22_49317614_A_G</td>\n",
       "      <td>4.838000e-04</td>\n",
       "    </tr>\n",
       "    <tr>\n",
       "      <th>...</th>\n",
       "      <td>...</td>\n",
       "      <td>...</td>\n",
       "    </tr>\n",
       "    <tr>\n",
       "      <th>970</th>\n",
       "      <td>chr8_102478959_A_T</td>\n",
       "      <td>1.712000e-04</td>\n",
       "    </tr>\n",
       "    <tr>\n",
       "      <th>971</th>\n",
       "      <td>corect_rs186216026</td>\n",
       "      <td>1.490000e-04</td>\n",
       "    </tr>\n",
       "    <tr>\n",
       "      <th>972</th>\n",
       "      <td>rs79200365</td>\n",
       "      <td>2.957000e-06</td>\n",
       "    </tr>\n",
       "    <tr>\n",
       "      <th>973</th>\n",
       "      <td>rs2215994</td>\n",
       "      <td>3.928000e-04</td>\n",
       "    </tr>\n",
       "    <tr>\n",
       "      <th>974</th>\n",
       "      <td>chr4_39737914_C_T</td>\n",
       "      <td>9.300000e-04</td>\n",
       "    </tr>\n",
       "    <tr>\n",
       "      <th>975</th>\n",
       "      <td>chr5_2391453_A_G</td>\n",
       "      <td>7.277000e-04</td>\n",
       "    </tr>\n",
       "    <tr>\n",
       "      <th>976</th>\n",
       "      <td>rs36028293</td>\n",
       "      <td>4.531000e-10</td>\n",
       "    </tr>\n",
       "    <tr>\n",
       "      <th>977</th>\n",
       "      <td>chr3_27305614_C_G</td>\n",
       "      <td>1.205000e-06</td>\n",
       "    </tr>\n",
       "    <tr>\n",
       "      <th>978</th>\n",
       "      <td>rs1314915</td>\n",
       "      <td>1.010000e-04</td>\n",
       "    </tr>\n",
       "    <tr>\n",
       "      <th>979</th>\n",
       "      <td>rs7237501</td>\n",
       "      <td>1.072000e-04</td>\n",
       "    </tr>\n",
       "    <tr>\n",
       "      <th>980</th>\n",
       "      <td>rs1274641</td>\n",
       "      <td>1.352000e-04</td>\n",
       "    </tr>\n",
       "    <tr>\n",
       "      <th>981</th>\n",
       "      <td>chr8_128146308_G_T</td>\n",
       "      <td>2.143000e-10</td>\n",
       "    </tr>\n",
       "    <tr>\n",
       "      <th>982</th>\n",
       "      <td>chr5_56248636_C_G</td>\n",
       "      <td>1.389000e-04</td>\n",
       "    </tr>\n",
       "    <tr>\n",
       "      <th>983</th>\n",
       "      <td>chr7_16575830_A_T</td>\n",
       "      <td>6.778000e-04</td>\n",
       "    </tr>\n",
       "    <tr>\n",
       "      <th>984</th>\n",
       "      <td>chr3_30684907_C_T</td>\n",
       "      <td>8.621000e-04</td>\n",
       "    </tr>\n",
       "    <tr>\n",
       "      <th>985</th>\n",
       "      <td>rs4040605</td>\n",
       "      <td>9.605000e-07</td>\n",
       "    </tr>\n",
       "    <tr>\n",
       "      <th>986</th>\n",
       "      <td>chr17_53010670_C_T</td>\n",
       "      <td>2.714000e-04</td>\n",
       "    </tr>\n",
       "    <tr>\n",
       "      <th>987</th>\n",
       "      <td>rs7404209</td>\n",
       "      <td>9.316000e-04</td>\n",
       "    </tr>\n",
       "    <tr>\n",
       "      <th>988</th>\n",
       "      <td>chr17_41196821_INDEL_T</td>\n",
       "      <td>1.318000e-42</td>\n",
       "    </tr>\n",
       "    <tr>\n",
       "      <th>989</th>\n",
       "      <td>chr5_56010025_C_G</td>\n",
       "      <td>5.026000e-08</td>\n",
       "    </tr>\n",
       "    <tr>\n",
       "      <th>990</th>\n",
       "      <td>chr22_40875199_C_G</td>\n",
       "      <td>3.423000e-07</td>\n",
       "    </tr>\n",
       "    <tr>\n",
       "      <th>991</th>\n",
       "      <td>chr3_27251050_G_T</td>\n",
       "      <td>3.242000e-07</td>\n",
       "    </tr>\n",
       "    <tr>\n",
       "      <th>992</th>\n",
       "      <td>chr10_104399349_A_G</td>\n",
       "      <td>9.100000e-04</td>\n",
       "    </tr>\n",
       "    <tr>\n",
       "      <th>993</th>\n",
       "      <td>chr3_27337929_A_G</td>\n",
       "      <td>4.353000e-07</td>\n",
       "    </tr>\n",
       "    <tr>\n",
       "      <th>994</th>\n",
       "      <td>chr5_158259583_C_T</td>\n",
       "      <td>3.019000e-11</td>\n",
       "    </tr>\n",
       "    <tr>\n",
       "      <th>995</th>\n",
       "      <td>rs2890707</td>\n",
       "      <td>9.953000e-04</td>\n",
       "    </tr>\n",
       "    <tr>\n",
       "      <th>996</th>\n",
       "      <td>chr5_176734657_C_T</td>\n",
       "      <td>3.258000e-04</td>\n",
       "    </tr>\n",
       "    <tr>\n",
       "      <th>997</th>\n",
       "      <td>chr21_20106580_A_G</td>\n",
       "      <td>2.079000e-10</td>\n",
       "    </tr>\n",
       "    <tr>\n",
       "      <th>998</th>\n",
       "      <td>chr2_217860966_C_T</td>\n",
       "      <td>1.239000e-05</td>\n",
       "    </tr>\n",
       "    <tr>\n",
       "      <th>999</th>\n",
       "      <td>rs2472677</td>\n",
       "      <td>4.534000e-04</td>\n",
       "    </tr>\n",
       "  </tbody>\n",
       "</table>\n",
       "<p>1000 rows × 2 columns</p>\n",
       "</div>"
      ],
      "text/plain": [
       "                        SNP             P\n",
       "0                rs34923393  5.043000e-15\n",
       "1                rs10792009  5.465000e-05\n",
       "2       chr13_113284191_C_T  7.779000e-23\n",
       "3                 rs6118063  7.790000e-10\n",
       "4        chr21_20106580_A_G  2.079000e-10\n",
       "5        chr12_15177511_C_T  4.214000e-10\n",
       "6        chr2_150721127_A_C  4.395000e-15\n",
       "7         chr2_23222481_C_T  2.026000e-24\n",
       "8        chr2_171708059_C_T  1.900000e-11\n",
       "9         chr3_71305759_A_G  1.003000e-04\n",
       "10                rs1150850  4.423000e-04\n",
       "11      chr12_116778635_C_T  5.677000e-08\n",
       "12        chr17_4961271_G_T  8.213000e-06\n",
       "13                rs1083383  1.038000e-10\n",
       "14        chr1_97788840_A_G  6.635000e-34\n",
       "15               rs72935553  2.758000e-04\n",
       "16        chr2_28150862_A_C  1.665000e-44\n",
       "17       corect_rs187434740  1.633000e-08\n",
       "18        chr4_39691575_G_T  2.139000e-07\n",
       "19       chr16_89246785_A_C  4.946000e-04\n",
       "20        chr2_29009089_A_C  2.641000e-10\n",
       "21                 rs398151  1.058000e-08\n",
       "22                rs2111909  9.769000e-04\n",
       "23       chr20_34858360_C_T  2.784000e-11\n",
       "24       chr13_32813518_C_T  8.911000e-04\n",
       "25               rs56116165  6.905000e-04\n",
       "26        chr6_68404944_G_T  7.370000e-04\n",
       "27        chr3_37221053_C_G  6.784000e-05\n",
       "28        chr7_51238333_A_G  1.703000e-04\n",
       "29       chr22_49317614_A_G  4.838000e-04\n",
       "..                      ...           ...\n",
       "970      chr8_102478959_A_T  1.712000e-04\n",
       "971      corect_rs186216026  1.490000e-04\n",
       "972              rs79200365  2.957000e-06\n",
       "973               rs2215994  3.928000e-04\n",
       "974       chr4_39737914_C_T  9.300000e-04\n",
       "975        chr5_2391453_A_G  7.277000e-04\n",
       "976              rs36028293  4.531000e-10\n",
       "977       chr3_27305614_C_G  1.205000e-06\n",
       "978               rs1314915  1.010000e-04\n",
       "979               rs7237501  1.072000e-04\n",
       "980               rs1274641  1.352000e-04\n",
       "981      chr8_128146308_G_T  2.143000e-10\n",
       "982       chr5_56248636_C_G  1.389000e-04\n",
       "983       chr7_16575830_A_T  6.778000e-04\n",
       "984       chr3_30684907_C_T  8.621000e-04\n",
       "985               rs4040605  9.605000e-07\n",
       "986      chr17_53010670_C_T  2.714000e-04\n",
       "987               rs7404209  9.316000e-04\n",
       "988  chr17_41196821_INDEL_T  1.318000e-42\n",
       "989       chr5_56010025_C_G  5.026000e-08\n",
       "990      chr22_40875199_C_G  3.423000e-07\n",
       "991       chr3_27251050_G_T  3.242000e-07\n",
       "992     chr10_104399349_A_G  9.100000e-04\n",
       "993       chr3_27337929_A_G  4.353000e-07\n",
       "994      chr5_158259583_C_T  3.019000e-11\n",
       "995               rs2890707  9.953000e-04\n",
       "996      chr5_176734657_C_T  3.258000e-04\n",
       "997      chr21_20106580_A_G  2.079000e-10\n",
       "998      chr2_217860966_C_T  1.239000e-05\n",
       "999               rs2472677  4.534000e-04\n",
       "\n",
       "[1000 rows x 2 columns]"
      ]
     },
     "execution_count": 351,
     "metadata": {},
     "output_type": "execute_result"
    }
   ],
   "source": [
    "imp"
   ]
  },
  {
   "cell_type": "code",
   "execution_count": 80,
   "metadata": {},
   "outputs": [],
   "source": [
    "positions=[]\n",
    "for i in important_lime2:\n",
    "    positions.append(bim[bim[\"snp\"].str.contains(i)].index.values[0])"
   ]
  },
  {
   "cell_type": "code",
   "execution_count": null,
   "metadata": {},
   "outputs": [],
   "source": []
  },
  {
   "cell_type": "code",
   "execution_count": 145,
   "metadata": {},
   "outputs": [
    {
     "data": {
      "text/plain": [
       "Text(0.5,1,'SNPs Importance using DeepLift')"
      ]
     },
     "execution_count": 145,
     "metadata": {},
     "output_type": "execute_result"
    },
    {
     "data": {
      "image/png": "[encoded data removed]",
      "text/plain": [
       "<matplotlib.figure.Figure at 0x2b6260d72160>"
      ]
     },
     "metadata": {
      "needs_background": "light"
     },
     "output_type": "display_data"
    }
   ],
   "source": [
    "fig,ax=plt.subplots(figsize=(20,10))\n",
    "ax.bar([x for x  in range(aa.shape[0])],np.absolute(aa))\n",
    "ax.set_xlabel(\"SNPs with p_value<10^-3\",fontsize=16)\n",
    "ax.set_ylabel(\"Importance absolute value\",fontsize=16)\n",
    "plt.title(\"SNPs Importance using DeepLift\",fontsize=16)"
   ]
  },
  {
   "cell_type": "code",
   "execution_count": 135,
   "metadata": {},
   "outputs": [
    {
     "data": {
      "text/plain": [
       "(5,)"
      ]
     },
     "execution_count": 135,
     "metadata": {},
     "output_type": "execute_result"
    }
   ],
   "source": [
    "aa[positions][np.absolute(aa[positions])>0.04442].shape"
   ]
  },
  {
   "cell_type": "code",
   "execution_count": 136,
   "metadata": {},
   "outputs": [
    {
     "data": {
      "text/plain": [
       "(25,)"
      ]
     },
     "execution_count": 136,
     "metadata": {},
     "output_type": "execute_result"
    }
   ],
   "source": [
    "aa[np.absolute(aa)>0.04442].shape"
   ]
  },
  {
   "cell_type": "code",
   "execution_count": 146,
   "metadata": {},
   "outputs": [
    {
     "data": {
      "text/html": [
       "<div>\n",
       "<style scoped>\n",
       "    .dataframe tbody tr th:only-of-type {\n",
       "        vertical-align: middle;\n",
       "    }\n",
       "\n",
       "    .dataframe tbody tr th {\n",
       "        vertical-align: top;\n",
       "    }\n",
       "\n",
       "    .dataframe thead th {\n",
       "        text-align: right;\n",
       "    }\n",
       "</style>\n",
       "<table border=\"1\" class=\"dataframe\">\n",
       "  <thead>\n",
       "    <tr style=\"text-align: right;\">\n",
       "      <th></th>\n",
       "      <th>chrom</th>\n",
       "      <th>snp</th>\n",
       "      <th>cm</th>\n",
       "      <th>pos</th>\n",
       "      <th>a0</th>\n",
       "      <th>a1</th>\n",
       "      <th>i</th>\n",
       "    </tr>\n",
       "  </thead>\n",
       "  <tbody>\n",
       "    <tr>\n",
       "      <th>0</th>\n",
       "      <td>1</td>\n",
       "      <td>rs4040605</td>\n",
       "      <td>0.0</td>\n",
       "      <td>856476</td>\n",
       "      <td>G</td>\n",
       "      <td>A</td>\n",
       "      <td>0</td>\n",
       "    </tr>\n",
       "    <tr>\n",
       "      <th>1</th>\n",
       "      <td>1</td>\n",
       "      <td>chr1_1914124_C_T</td>\n",
       "      <td>0.0</td>\n",
       "      <td>1914124</td>\n",
       "      <td>A</td>\n",
       "      <td>G</td>\n",
       "      <td>1</td>\n",
       "    </tr>\n",
       "    <tr>\n",
       "      <th>2</th>\n",
       "      <td>1</td>\n",
       "      <td>chr1_2501064_A_G</td>\n",
       "      <td>0.0</td>\n",
       "      <td>2501064</td>\n",
       "      <td>A</td>\n",
       "      <td>G</td>\n",
       "      <td>2</td>\n",
       "    </tr>\n",
       "    <tr>\n",
       "      <th>3</th>\n",
       "      <td>1</td>\n",
       "      <td>chr1_3410935_A_G</td>\n",
       "      <td>0.0</td>\n",
       "      <td>3410935</td>\n",
       "      <td>A</td>\n",
       "      <td>G</td>\n",
       "      <td>3</td>\n",
       "    </tr>\n",
       "    <tr>\n",
       "      <th>4</th>\n",
       "      <td>1</td>\n",
       "      <td>chr1_4515277_C_T</td>\n",
       "      <td>0.0</td>\n",
       "      <td>4515277</td>\n",
       "      <td>A</td>\n",
       "      <td>G</td>\n",
       "      <td>4</td>\n",
       "    </tr>\n",
       "    <tr>\n",
       "      <th>5</th>\n",
       "      <td>1</td>\n",
       "      <td>chr1_5178521_A_C</td>\n",
       "      <td>0.0</td>\n",
       "      <td>5178521</td>\n",
       "      <td>C</td>\n",
       "      <td>A</td>\n",
       "      <td>5</td>\n",
       "    </tr>\n",
       "    <tr>\n",
       "      <th>6</th>\n",
       "      <td>1</td>\n",
       "      <td>rs2506889</td>\n",
       "      <td>0.0</td>\n",
       "      <td>10596022</td>\n",
       "      <td>A</td>\n",
       "      <td>G</td>\n",
       "      <td>6</td>\n",
       "    </tr>\n",
       "    <tr>\n",
       "      <th>7</th>\n",
       "      <td>1</td>\n",
       "      <td>chr1_10598216_A_G</td>\n",
       "      <td>0.0</td>\n",
       "      <td>10598216</td>\n",
       "      <td>A</td>\n",
       "      <td>G</td>\n",
       "      <td>7</td>\n",
       "    </tr>\n",
       "    <tr>\n",
       "      <th>8</th>\n",
       "      <td>1</td>\n",
       "      <td>chr1_10609973_G_T</td>\n",
       "      <td>0.0</td>\n",
       "      <td>10609973</td>\n",
       "      <td>A</td>\n",
       "      <td>C</td>\n",
       "      <td>8</td>\n",
       "    </tr>\n",
       "    <tr>\n",
       "      <th>9</th>\n",
       "      <td>1</td>\n",
       "      <td>rs9430149</td>\n",
       "      <td>0.0</td>\n",
       "      <td>10612820</td>\n",
       "      <td>C</td>\n",
       "      <td>G</td>\n",
       "      <td>9</td>\n",
       "    </tr>\n",
       "    <tr>\n",
       "      <th>10</th>\n",
       "      <td>1</td>\n",
       "      <td>rs17035305</td>\n",
       "      <td>0.0</td>\n",
       "      <td>10616505</td>\n",
       "      <td>A</td>\n",
       "      <td>C</td>\n",
       "      <td>10</td>\n",
       "    </tr>\n",
       "    <tr>\n",
       "      <th>11</th>\n",
       "      <td>1</td>\n",
       "      <td>chr1_10617906_A_T</td>\n",
       "      <td>0.0</td>\n",
       "      <td>10617906</td>\n",
       "      <td>T</td>\n",
       "      <td>A</td>\n",
       "      <td>11</td>\n",
       "    </tr>\n",
       "    <tr>\n",
       "      <th>12</th>\n",
       "      <td>1</td>\n",
       "      <td>rs4846235</td>\n",
       "      <td>0.0</td>\n",
       "      <td>10632235</td>\n",
       "      <td>A</td>\n",
       "      <td>G</td>\n",
       "      <td>12</td>\n",
       "    </tr>\n",
       "    <tr>\n",
       "      <th>13</th>\n",
       "      <td>1</td>\n",
       "      <td>chr1_10700448_C_T</td>\n",
       "      <td>0.0</td>\n",
       "      <td>10700448</td>\n",
       "      <td>G</td>\n",
       "      <td>A</td>\n",
       "      <td>13</td>\n",
       "    </tr>\n",
       "    <tr>\n",
       "      <th>14</th>\n",
       "      <td>1</td>\n",
       "      <td>rs778228</td>\n",
       "      <td>0.0</td>\n",
       "      <td>10708142</td>\n",
       "      <td>G</td>\n",
       "      <td>A</td>\n",
       "      <td>14</td>\n",
       "    </tr>\n",
       "    <tr>\n",
       "      <th>15</th>\n",
       "      <td>1</td>\n",
       "      <td>chr1_10709267_C_T</td>\n",
       "      <td>0.0</td>\n",
       "      <td>10709267</td>\n",
       "      <td>A</td>\n",
       "      <td>G</td>\n",
       "      <td>15</td>\n",
       "    </tr>\n",
       "    <tr>\n",
       "      <th>16</th>\n",
       "      <td>1</td>\n",
       "      <td>chr1_10719375_G_INDEL</td>\n",
       "      <td>0.0</td>\n",
       "      <td>10719375</td>\n",
       "      <td>I</td>\n",
       "      <td>D</td>\n",
       "      <td>16</td>\n",
       "    </tr>\n",
       "    <tr>\n",
       "      <th>17</th>\n",
       "      <td>1</td>\n",
       "      <td>rs284322</td>\n",
       "      <td>0.0</td>\n",
       "      <td>10725498</td>\n",
       "      <td>A</td>\n",
       "      <td>G</td>\n",
       "      <td>17</td>\n",
       "    </tr>\n",
       "    <tr>\n",
       "      <th>18</th>\n",
       "      <td>1</td>\n",
       "      <td>chr1_10730002_A_G</td>\n",
       "      <td>0.0</td>\n",
       "      <td>10730002</td>\n",
       "      <td>G</td>\n",
       "      <td>A</td>\n",
       "      <td>18</td>\n",
       "    </tr>\n",
       "    <tr>\n",
       "      <th>19</th>\n",
       "      <td>1</td>\n",
       "      <td>chr1_10879725_A_G</td>\n",
       "      <td>0.0</td>\n",
       "      <td>10879725</td>\n",
       "      <td>G</td>\n",
       "      <td>A</td>\n",
       "      <td>19</td>\n",
       "    </tr>\n",
       "    <tr>\n",
       "      <th>20</th>\n",
       "      <td>1</td>\n",
       "      <td>rs4845877</td>\n",
       "      <td>0.0</td>\n",
       "      <td>11824303</td>\n",
       "      <td>A</td>\n",
       "      <td>G</td>\n",
       "      <td>20</td>\n",
       "    </tr>\n",
       "    <tr>\n",
       "      <th>21</th>\n",
       "      <td>1</td>\n",
       "      <td>rs6540999</td>\n",
       "      <td>0.0</td>\n",
       "      <td>11833366</td>\n",
       "      <td>A</td>\n",
       "      <td>G</td>\n",
       "      <td>21</td>\n",
       "    </tr>\n",
       "    <tr>\n",
       "      <th>22</th>\n",
       "      <td>1</td>\n",
       "      <td>rs6659541</td>\n",
       "      <td>0.0</td>\n",
       "      <td>11836442</td>\n",
       "      <td>G</td>\n",
       "      <td>A</td>\n",
       "      <td>22</td>\n",
       "    </tr>\n",
       "    <tr>\n",
       "      <th>23</th>\n",
       "      <td>1</td>\n",
       "      <td>chr1_11836682_C_T</td>\n",
       "      <td>0.0</td>\n",
       "      <td>11836682</td>\n",
       "      <td>G</td>\n",
       "      <td>A</td>\n",
       "      <td>23</td>\n",
       "    </tr>\n",
       "    <tr>\n",
       "      <th>24</th>\n",
       "      <td>1</td>\n",
       "      <td>rs6697244</td>\n",
       "      <td>0.0</td>\n",
       "      <td>11838848</td>\n",
       "      <td>C</td>\n",
       "      <td>A</td>\n",
       "      <td>24</td>\n",
       "    </tr>\n",
       "    <tr>\n",
       "      <th>25</th>\n",
       "      <td>1</td>\n",
       "      <td>chr1_11843167_A_G</td>\n",
       "      <td>0.0</td>\n",
       "      <td>11843167</td>\n",
       "      <td>A</td>\n",
       "      <td>G</td>\n",
       "      <td>25</td>\n",
       "    </tr>\n",
       "    <tr>\n",
       "      <th>26</th>\n",
       "      <td>1</td>\n",
       "      <td>rs35134728</td>\n",
       "      <td>0.0</td>\n",
       "      <td>11847334</td>\n",
       "      <td>D</td>\n",
       "      <td>I</td>\n",
       "      <td>26</td>\n",
       "    </tr>\n",
       "    <tr>\n",
       "      <th>27</th>\n",
       "      <td>1</td>\n",
       "      <td>rs70983598</td>\n",
       "      <td>0.0</td>\n",
       "      <td>11847339</td>\n",
       "      <td>D</td>\n",
       "      <td>I</td>\n",
       "      <td>27</td>\n",
       "    </tr>\n",
       "    <tr>\n",
       "      <th>28</th>\n",
       "      <td>1</td>\n",
       "      <td>rs1476413</td>\n",
       "      <td>0.0</td>\n",
       "      <td>11852300</td>\n",
       "      <td>A</td>\n",
       "      <td>G</td>\n",
       "      <td>28</td>\n",
       "    </tr>\n",
       "    <tr>\n",
       "      <th>29</th>\n",
       "      <td>1</td>\n",
       "      <td>rs1801131</td>\n",
       "      <td>0.0</td>\n",
       "      <td>11854476</td>\n",
       "      <td>C</td>\n",
       "      <td>A</td>\n",
       "      <td>29</td>\n",
       "    </tr>\n",
       "    <tr>\n",
       "      <th>...</th>\n",
       "      <td>...</td>\n",
       "      <td>...</td>\n",
       "      <td>...</td>\n",
       "      <td>...</td>\n",
       "      <td>...</td>\n",
       "      <td>...</td>\n",
       "      <td>...</td>\n",
       "    </tr>\n",
       "    <tr>\n",
       "      <th>5243</th>\n",
       "      <td>22</td>\n",
       "      <td>rs4823650</td>\n",
       "      <td>0.0</td>\n",
       "      <td>47883698</td>\n",
       "      <td>G</td>\n",
       "      <td>A</td>\n",
       "      <td>5243</td>\n",
       "    </tr>\n",
       "    <tr>\n",
       "      <th>5244</th>\n",
       "      <td>22</td>\n",
       "      <td>rs5769415</td>\n",
       "      <td>0.0</td>\n",
       "      <td>49316305</td>\n",
       "      <td>A</td>\n",
       "      <td>G</td>\n",
       "      <td>5244</td>\n",
       "    </tr>\n",
       "    <tr>\n",
       "      <th>5245</th>\n",
       "      <td>22</td>\n",
       "      <td>chr22_49317614_A_G</td>\n",
       "      <td>0.0</td>\n",
       "      <td>49317614</td>\n",
       "      <td>A</td>\n",
       "      <td>G</td>\n",
       "      <td>5245</td>\n",
       "    </tr>\n",
       "    <tr>\n",
       "      <th>5246</th>\n",
       "      <td>22</td>\n",
       "      <td>corect_rs181578054</td>\n",
       "      <td>0.0</td>\n",
       "      <td>51084318</td>\n",
       "      <td>A</td>\n",
       "      <td>G</td>\n",
       "      <td>5246</td>\n",
       "    </tr>\n",
       "    <tr>\n",
       "      <th>5247</th>\n",
       "      <td>23</td>\n",
       "      <td>chrX_3537035_C_T</td>\n",
       "      <td>0.0</td>\n",
       "      <td>3537035</td>\n",
       "      <td>A</td>\n",
       "      <td>G</td>\n",
       "      <td>5247</td>\n",
       "    </tr>\n",
       "    <tr>\n",
       "      <th>5248</th>\n",
       "      <td>23</td>\n",
       "      <td>rs239765</td>\n",
       "      <td>0.0</td>\n",
       "      <td>18868624</td>\n",
       "      <td>G</td>\n",
       "      <td>A</td>\n",
       "      <td>5248</td>\n",
       "    </tr>\n",
       "    <tr>\n",
       "      <th>5249</th>\n",
       "      <td>23</td>\n",
       "      <td>rs6630120</td>\n",
       "      <td>0.0</td>\n",
       "      <td>25736480</td>\n",
       "      <td>G</td>\n",
       "      <td>A</td>\n",
       "      <td>5249</td>\n",
       "    </tr>\n",
       "    <tr>\n",
       "      <th>5250</th>\n",
       "      <td>23</td>\n",
       "      <td>chrX_37620412_C_T</td>\n",
       "      <td>0.0</td>\n",
       "      <td>37620412</td>\n",
       "      <td>A</td>\n",
       "      <td>G</td>\n",
       "      <td>5250</td>\n",
       "    </tr>\n",
       "    <tr>\n",
       "      <th>5251</th>\n",
       "      <td>23</td>\n",
       "      <td>chrX_51249758_ATGA_INDEL</td>\n",
       "      <td>0.0</td>\n",
       "      <td>51249758</td>\n",
       "      <td>I</td>\n",
       "      <td>D</td>\n",
       "      <td>5251</td>\n",
       "    </tr>\n",
       "    <tr>\n",
       "      <th>5252</th>\n",
       "      <td>23</td>\n",
       "      <td>chrX_62348191_G_INDEL</td>\n",
       "      <td>0.0</td>\n",
       "      <td>62348191</td>\n",
       "      <td>D</td>\n",
       "      <td>I</td>\n",
       "      <td>5252</td>\n",
       "    </tr>\n",
       "    <tr>\n",
       "      <th>5253</th>\n",
       "      <td>23</td>\n",
       "      <td>chrX_65448725_C_T</td>\n",
       "      <td>0.0</td>\n",
       "      <td>65448725</td>\n",
       "      <td>G</td>\n",
       "      <td>A</td>\n",
       "      <td>5253</td>\n",
       "    </tr>\n",
       "    <tr>\n",
       "      <th>5254</th>\n",
       "      <td>23</td>\n",
       "      <td>chrX_66472790_G_INDEL</td>\n",
       "      <td>0.0</td>\n",
       "      <td>66472790</td>\n",
       "      <td>I</td>\n",
       "      <td>D</td>\n",
       "      <td>5254</td>\n",
       "    </tr>\n",
       "    <tr>\n",
       "      <th>5255</th>\n",
       "      <td>23</td>\n",
       "      <td>chrX_68562276_C_G</td>\n",
       "      <td>0.0</td>\n",
       "      <td>68562276</td>\n",
       "      <td>G</td>\n",
       "      <td>C</td>\n",
       "      <td>5255</td>\n",
       "    </tr>\n",
       "    <tr>\n",
       "      <th>5256</th>\n",
       "      <td>23</td>\n",
       "      <td>chrX_81467918_C_T</td>\n",
       "      <td>0.0</td>\n",
       "      <td>81467918</td>\n",
       "      <td>G</td>\n",
       "      <td>A</td>\n",
       "      <td>5256</td>\n",
       "    </tr>\n",
       "    <tr>\n",
       "      <th>5257</th>\n",
       "      <td>23</td>\n",
       "      <td>rs7066183</td>\n",
       "      <td>0.0</td>\n",
       "      <td>85065849</td>\n",
       "      <td>G</td>\n",
       "      <td>A</td>\n",
       "      <td>5257</td>\n",
       "    </tr>\n",
       "    <tr>\n",
       "      <th>5258</th>\n",
       "      <td>23</td>\n",
       "      <td>rs2369579</td>\n",
       "      <td>0.0</td>\n",
       "      <td>86218517</td>\n",
       "      <td>A</td>\n",
       "      <td>G</td>\n",
       "      <td>5258</td>\n",
       "    </tr>\n",
       "    <tr>\n",
       "      <th>5259</th>\n",
       "      <td>23</td>\n",
       "      <td>rs6623913</td>\n",
       "      <td>0.0</td>\n",
       "      <td>86407623</td>\n",
       "      <td>G</td>\n",
       "      <td>A</td>\n",
       "      <td>5259</td>\n",
       "    </tr>\n",
       "    <tr>\n",
       "      <th>5260</th>\n",
       "      <td>23</td>\n",
       "      <td>chrX_88349122_A_G</td>\n",
       "      <td>0.0</td>\n",
       "      <td>88349122</td>\n",
       "      <td>G</td>\n",
       "      <td>A</td>\n",
       "      <td>5260</td>\n",
       "    </tr>\n",
       "    <tr>\n",
       "      <th>5261</th>\n",
       "      <td>23</td>\n",
       "      <td>rs17337750</td>\n",
       "      <td>0.0</td>\n",
       "      <td>95796116</td>\n",
       "      <td>A</td>\n",
       "      <td>G</td>\n",
       "      <td>5261</td>\n",
       "    </tr>\n",
       "    <tr>\n",
       "      <th>5262</th>\n",
       "      <td>23</td>\n",
       "      <td>chrX_121623926_A_G</td>\n",
       "      <td>0.0</td>\n",
       "      <td>121623926</td>\n",
       "      <td>G</td>\n",
       "      <td>A</td>\n",
       "      <td>5262</td>\n",
       "    </tr>\n",
       "    <tr>\n",
       "      <th>5263</th>\n",
       "      <td>23</td>\n",
       "      <td>chrX_121626224_C_T</td>\n",
       "      <td>0.0</td>\n",
       "      <td>121626224</td>\n",
       "      <td>G</td>\n",
       "      <td>A</td>\n",
       "      <td>5263</td>\n",
       "    </tr>\n",
       "    <tr>\n",
       "      <th>5264</th>\n",
       "      <td>23</td>\n",
       "      <td>chrX_125912274_C_T</td>\n",
       "      <td>0.0</td>\n",
       "      <td>125912274</td>\n",
       "      <td>G</td>\n",
       "      <td>A</td>\n",
       "      <td>5264</td>\n",
       "    </tr>\n",
       "    <tr>\n",
       "      <th>5265</th>\n",
       "      <td>23</td>\n",
       "      <td>rs2273221</td>\n",
       "      <td>0.0</td>\n",
       "      <td>135310785</td>\n",
       "      <td>A</td>\n",
       "      <td>G</td>\n",
       "      <td>5265</td>\n",
       "    </tr>\n",
       "    <tr>\n",
       "      <th>5266</th>\n",
       "      <td>23</td>\n",
       "      <td>rs5975711</td>\n",
       "      <td>0.0</td>\n",
       "      <td>135350161</td>\n",
       "      <td>G</td>\n",
       "      <td>A</td>\n",
       "      <td>5266</td>\n",
       "    </tr>\n",
       "    <tr>\n",
       "      <th>5267</th>\n",
       "      <td>23</td>\n",
       "      <td>rs1174086</td>\n",
       "      <td>0.0</td>\n",
       "      <td>144553179</td>\n",
       "      <td>G</td>\n",
       "      <td>A</td>\n",
       "      <td>5267</td>\n",
       "    </tr>\n",
       "    <tr>\n",
       "      <th>5268</th>\n",
       "      <td>23</td>\n",
       "      <td>rs1174079</td>\n",
       "      <td>0.0</td>\n",
       "      <td>144557401</td>\n",
       "      <td>C</td>\n",
       "      <td>A</td>\n",
       "      <td>5268</td>\n",
       "    </tr>\n",
       "    <tr>\n",
       "      <th>5269</th>\n",
       "      <td>23</td>\n",
       "      <td>rs12557711</td>\n",
       "      <td>0.0</td>\n",
       "      <td>145666265</td>\n",
       "      <td>C</td>\n",
       "      <td>A</td>\n",
       "      <td>5269</td>\n",
       "    </tr>\n",
       "    <tr>\n",
       "      <th>5270</th>\n",
       "      <td>23</td>\n",
       "      <td>rs5920253</td>\n",
       "      <td>0.0</td>\n",
       "      <td>145744293</td>\n",
       "      <td>G</td>\n",
       "      <td>A</td>\n",
       "      <td>5270</td>\n",
       "    </tr>\n",
       "    <tr>\n",
       "      <th>5271</th>\n",
       "      <td>23</td>\n",
       "      <td>chrX_146095648_A_G</td>\n",
       "      <td>0.0</td>\n",
       "      <td>146095648</td>\n",
       "      <td>G</td>\n",
       "      <td>A</td>\n",
       "      <td>5271</td>\n",
       "    </tr>\n",
       "    <tr>\n",
       "      <th>5272</th>\n",
       "      <td>23</td>\n",
       "      <td>chrX_152710845_A_T</td>\n",
       "      <td>0.0</td>\n",
       "      <td>152710845</td>\n",
       "      <td>T</td>\n",
       "      <td>A</td>\n",
       "      <td>5272</td>\n",
       "    </tr>\n",
       "  </tbody>\n",
       "</table>\n",
       "<p>5273 rows × 7 columns</p>\n",
       "</div>"
      ],
      "text/plain": [
       "     chrom                       snp   cm        pos a0 a1     i\n",
       "0        1                 rs4040605  0.0     856476  G  A     0\n",
       "1        1          chr1_1914124_C_T  0.0    1914124  A  G     1\n",
       "2        1          chr1_2501064_A_G  0.0    2501064  A  G     2\n",
       "3        1          chr1_3410935_A_G  0.0    3410935  A  G     3\n",
       "4        1          chr1_4515277_C_T  0.0    4515277  A  G     4\n",
       "5        1          chr1_5178521_A_C  0.0    5178521  C  A     5\n",
       "6        1                 rs2506889  0.0   10596022  A  G     6\n",
       "7        1         chr1_10598216_A_G  0.0   10598216  A  G     7\n",
       "8        1         chr1_10609973_G_T  0.0   10609973  A  C     8\n",
       "9        1                 rs9430149  0.0   10612820  C  G     9\n",
       "10       1                rs17035305  0.0   10616505  A  C    10\n",
       "11       1         chr1_10617906_A_T  0.0   10617906  T  A    11\n",
       "12       1                 rs4846235  0.0   10632235  A  G    12\n",
       "13       1         chr1_10700448_C_T  0.0   10700448  G  A    13\n",
       "14       1                  rs778228  0.0   10708142  G  A    14\n",
       "15       1         chr1_10709267_C_T  0.0   10709267  A  G    15\n",
       "16       1     chr1_10719375_G_INDEL  0.0   10719375  I  D    16\n",
       "17       1                  rs284322  0.0   10725498  A  G    17\n",
       "18       1         chr1_10730002_A_G  0.0   10730002  G  A    18\n",
       "19       1         chr1_10879725_A_G  0.0   10879725  G  A    19\n",
       "20       1                 rs4845877  0.0   11824303  A  G    20\n",
       "21       1                 rs6540999  0.0   11833366  A  G    21\n",
       "22       1                 rs6659541  0.0   11836442  G  A    22\n",
       "23       1         chr1_11836682_C_T  0.0   11836682  G  A    23\n",
       "24       1                 rs6697244  0.0   11838848  C  A    24\n",
       "25       1         chr1_11843167_A_G  0.0   11843167  A  G    25\n",
       "26       1                rs35134728  0.0   11847334  D  I    26\n",
       "27       1                rs70983598  0.0   11847339  D  I    27\n",
       "28       1                 rs1476413  0.0   11852300  A  G    28\n",
       "29       1                 rs1801131  0.0   11854476  C  A    29\n",
       "...    ...                       ...  ...        ... .. ..   ...\n",
       "5243    22                 rs4823650  0.0   47883698  G  A  5243\n",
       "5244    22                 rs5769415  0.0   49316305  A  G  5244\n",
       "5245    22        chr22_49317614_A_G  0.0   49317614  A  G  5245\n",
       "5246    22        corect_rs181578054  0.0   51084318  A  G  5246\n",
       "5247    23          chrX_3537035_C_T  0.0    3537035  A  G  5247\n",
       "5248    23                  rs239765  0.0   18868624  G  A  5248\n",
       "5249    23                 rs6630120  0.0   25736480  G  A  5249\n",
       "5250    23         chrX_37620412_C_T  0.0   37620412  A  G  5250\n",
       "5251    23  chrX_51249758_ATGA_INDEL  0.0   51249758  I  D  5251\n",
       "5252    23     chrX_62348191_G_INDEL  0.0   62348191  D  I  5252\n",
       "5253    23         chrX_65448725_C_T  0.0   65448725  G  A  5253\n",
       "5254    23     chrX_66472790_G_INDEL  0.0   66472790  I  D  5254\n",
       "5255    23         chrX_68562276_C_G  0.0   68562276  G  C  5255\n",
       "5256    23         chrX_81467918_C_T  0.0   81467918  G  A  5256\n",
       "5257    23                 rs7066183  0.0   85065849  G  A  5257\n",
       "5258    23                 rs2369579  0.0   86218517  A  G  5258\n",
       "5259    23                 rs6623913  0.0   86407623  G  A  5259\n",
       "5260    23         chrX_88349122_A_G  0.0   88349122  G  A  5260\n",
       "5261    23                rs17337750  0.0   95796116  A  G  5261\n",
       "5262    23        chrX_121623926_A_G  0.0  121623926  G  A  5262\n",
       "5263    23        chrX_121626224_C_T  0.0  121626224  G  A  5263\n",
       "5264    23        chrX_125912274_C_T  0.0  125912274  G  A  5264\n",
       "5265    23                 rs2273221  0.0  135310785  A  G  5265\n",
       "5266    23                 rs5975711  0.0  135350161  G  A  5266\n",
       "5267    23                 rs1174086  0.0  144553179  G  A  5267\n",
       "5268    23                 rs1174079  0.0  144557401  C  A  5268\n",
       "5269    23                rs12557711  0.0  145666265  C  A  5269\n",
       "5270    23                 rs5920253  0.0  145744293  G  A  5270\n",
       "5271    23        chrX_146095648_A_G  0.0  146095648  G  A  5271\n",
       "5272    23        chrX_152710845_A_T  0.0  152710845  T  A  5272\n",
       "\n",
       "[5273 rows x 7 columns]"
      ]
     },
     "execution_count": 146,
     "metadata": {},
     "output_type": "execute_result"
    }
   ],
   "source": [
    "bim"
   ]
  },
  {
   "cell_type": "code",
   "execution_count": null,
   "metadata": {},
   "outputs": [],
   "source": []
  },
  {
   "cell_type": "code",
   "execution_count": null,
   "metadata": {},
   "outputs": [],
   "source": []
  },
  {
   "cell_type": "code",
   "execution_count": 106,
   "metadata": {},
   "outputs": [
    {
     "data": {
      "text/plain": [
       "(23,)"
      ]
     },
     "execution_count": 106,
     "metadata": {},
     "output_type": "execute_result"
    }
   ],
   "source": []
  },
  {
   "cell_type": "code",
   "execution_count": null,
   "metadata": {},
   "outputs": [],
   "source": []
  },
  {
   "cell_type": "code",
   "execution_count": null,
   "metadata": {},
   "outputs": [],
   "source": []
  },
  {
   "cell_type": "code",
   "execution_count": null,
   "metadata": {},
   "outputs": [],
   "source": []
  },
  {
   "cell_type": "code",
   "execution_count": 140,
   "metadata": {},
   "outputs": [],
   "source": [
    "concordance=[]\n",
    "for i in range(100):\n",
    "    concordance.append(aa[positions][np.absolute(aa[positions])>i*0.001].shape[0]/aa[np.absolute(aa)>i*0.001].shape[0])"
   ]
  },
  {
   "cell_type": "code",
   "execution_count": 141,
   "metadata": {},
   "outputs": [],
   "source": [
    "np.savetxt(\"/work/breastcancer/clean_test/results/corcordance.csv\",np.array(concordance))"
   ]
  },
  {
   "cell_type": "code",
   "execution_count": 142,
   "metadata": {},
   "outputs": [
    {
     "data": {
      "text/plain": [
       "0.100322604"
      ]
     },
     "execution_count": 142,
     "metadata": {},
     "output_type": "execute_result"
    }
   ],
   "source": [
    "np.max(np.absolute(aa))"
   ]
  },
  {
   "cell_type": "code",
   "execution_count": 143,
   "metadata": {},
   "outputs": [
    {
     "data": {
      "text/plain": [
       "Text(0.5,1,'Concordance Rate between Deep Lift and Lime')"
      ]
     },
     "execution_count": 143,
     "metadata": {},
     "output_type": "execute_result"
    },
    {
     "data": {
      "image/png": "[encoded data removed]",
      "text/plain": [
       "<matplotlib.figure.Figure at 0x2b62605b8eb8>"
      ]
     },
     "metadata": {
      "needs_background": "light"
     },
     "output_type": "display_data"
    }
   ],
   "source": [
    "fig,ax=plt.subplots(figsize=(5,5))\n",
    "ax.plot([i*0.001 for i in range(100)],concordance)\n",
    "ax.set_ylabel(\"Percentage of concordance \")\n",
    "ax.set_xlabel(\"Importance value Threshold \")\n",
    "plt.title(\"Concordance Rate between Deep Lift and Lime\")"
   ]
  },
  {
   "cell_type": "code",
   "execution_count": 89,
   "metadata": {},
   "outputs": [
    {
     "data": {
      "text/html": [
       "<div>\n",
       "<style scoped>\n",
       "    .dataframe tbody tr th:only-of-type {\n",
       "        vertical-align: middle;\n",
       "    }\n",
       "\n",
       "    .dataframe tbody tr th {\n",
       "        vertical-align: top;\n",
       "    }\n",
       "\n",
       "    .dataframe thead th {\n",
       "        text-align: right;\n",
       "    }\n",
       "</style>\n",
       "<table border=\"1\" class=\"dataframe\">\n",
       "  <thead>\n",
       "    <tr style=\"text-align: right;\">\n",
       "      <th></th>\n",
       "      <th>chrom</th>\n",
       "      <th>snp</th>\n",
       "      <th>cm</th>\n",
       "      <th>pos</th>\n",
       "      <th>a0</th>\n",
       "      <th>a1</th>\n",
       "      <th>i</th>\n",
       "    </tr>\n",
       "  </thead>\n",
       "  <tbody>\n",
       "    <tr>\n",
       "      <th>1385</th>\n",
       "      <td>5</td>\n",
       "      <td>rs10064567</td>\n",
       "      <td>0.0</td>\n",
       "      <td>37796430</td>\n",
       "      <td>G</td>\n",
       "      <td>A</td>\n",
       "      <td>1385</td>\n",
       "    </tr>\n",
       "  </tbody>\n",
       "</table>\n",
       "</div>"
      ],
      "text/plain": [
       "     chrom         snp   cm       pos a0 a1     i\n",
       "1385     5  rs10064567  0.0  37796430  G  A  1385"
      ]
     },
     "execution_count": 89,
     "metadata": {},
     "output_type": "execute_result"
    }
   ],
   "source": [
    "bim[bim[\"snp\"].str.contains(\"rs10064567\")]"
   ]
  },
  {
   "cell_type": "code",
   "execution_count": null,
   "metadata": {},
   "outputs": [],
   "source": [
    "['chr11_111757486_A_G=1', 'chr1_97788840_A_G=1', 'chr2_171708059_C_T=1',\n",
    "       'chr2_28150862_A_C=1', 'chr4_169989297_G_T=1', 'corect_rs187434740=0',\n",
    "       'rs10064567=0']"
   ]
  },
  {
   "cell_type": "code",
   "execution_count": 90,
   "metadata": {},
   "outputs": [
    {
     "data": {
      "text/plain": [
       "-0.016462512"
      ]
     },
     "execution_count": 90,
     "metadata": {},
     "output_type": "execute_result"
    }
   ],
   "source": [
    "aa[1385]"
   ]
  },
  {
   "cell_type": "code",
   "execution_count": 278,
   "metadata": {},
   "outputs": [
    {
     "data": {
      "text/plain": [
       "2667"
      ]
     },
     "execution_count": 278,
     "metadata": {},
     "output_type": "execute_result"
    }
   ],
   "source": [
    "len(np.intersect1d(np.array(not_sig),not_good))"
   ]
  },
  {
   "cell_type": "code",
   "execution_count": 279,
   "metadata": {},
   "outputs": [
    {
     "data": {
      "text/plain": [
       "(446, 1)"
      ]
     },
     "execution_count": 279,
     "metadata": {},
     "output_type": "execute_result"
    }
   ],
   "source": [
    "good.shape"
   ]
  },
  {
   "cell_type": "code",
   "execution_count": 280,
   "metadata": {},
   "outputs": [
    {
     "data": {
      "text/plain": [
       "69"
      ]
     },
     "execution_count": 280,
     "metadata": {},
     "output_type": "execute_result"
    }
   ],
   "source": [
    "len(sig_val)"
   ]
  },
  {
   "cell_type": "code",
   "execution_count": 281,
   "metadata": {},
   "outputs": [
    {
     "data": {
      "text/plain": [
       "2"
      ]
     },
     "execution_count": 281,
     "metadata": {},
     "output_type": "execute_result"
    }
   ],
   "source": [
    "len(np.intersect1d(np.array(sig_val),good))"
   ]
  },
  {
   "cell_type": "code",
   "execution_count": 255,
   "metadata": {},
   "outputs": [
    {
     "data": {
      "text/html": [
       "[<matplotlib.lines.Line2D object at 0x2b747ffca208>]"
      ],
      "text/plain": [
       "[<matplotlib.lines.Line2D at 0x2b747ffca208>]"
      ]
     },
     "execution_count": 255,
     "metadata": {},
     "output_type": "execute_result"
    },
    {
     "data": {
      "image/png": "[encoded data removed]",
      "text/plain": [
       "<matplotlib.figure.Figure at 0x2b747ffca470>"
      ]
     },
     "metadata": {
      "needs_background": "light"
     },
     "output_type": "display_data"
    }
   ],
   "source": [
    "fig, ax = plt.subplots(figsize=(5,5))\n",
    "ax.plot(a[4])"
   ]
  },
  {
   "cell_type": "code",
   "execution_count": 38,
   "metadata": {},
   "outputs": [
    {
     "data": {
      "text/plain": [
       "[<matplotlib.lines.Line2D at 0x2b7452a5d978>]"
      ]
     },
     "execution_count": 38,
     "metadata": {},
     "output_type": "execute_result"
    },
    {
     "data": {
      "image/png": "[encoded data removed]",
      "text/plain": [
       "<matplotlib.figure.Figure at 0x2b7452a5da20>"
      ]
     },
     "metadata": {
      "needs_background": "light"
     },
     "output_type": "display_data"
    }
   ],
   "source": [
    "afig, ax = plt.subplots(figsize=(5,5))\n",
    "ax.plot(a[3839])"
   ]
  },
  {
   "cell_type": "code",
   "execution_count": 19,
   "metadata": {},
   "outputs": [
    {
     "data": {
      "text/plain": [
       "[<matplotlib.lines.Line2D at 0x2b72b4b8da20>]"
      ]
     },
     "execution_count": 19,
     "metadata": {},
     "output_type": "execute_result"
    },
    {
     "data": {
      "image/png": "[encoded data removed]",
      "text/plain": [
       "<matplotlib.figure.Figure at 0x2b72b4b8d978>"
      ]
     },
     "metadata": {
      "needs_background": "light"
     },
     "output_type": "display_data"
    }
   ],
   "source": [
    "afig, ax = plt.subplots(figsize=(5,5))\n",
    "ax.plot(a[3839])"
   ]
  },
  {
   "cell_type": "code",
   "execution_count": 118,
   "metadata": {},
   "outputs": [],
   "source": [
    "import shap"
   ]
  },
  {
   "cell_type": "code",
   "execution_count": 158,
   "metadata": {},
   "outputs": [],
   "source": [
    "e=shap.DeepExplainer((X,tf.nn.sigmoid(output)), x_train[np.random.choice(x_train.shape[0], 1000, replace=False)])"
   ]
  },
  {
   "cell_type": "code",
   "execution_count": 159,
   "metadata": {},
   "outputs": [
    {
     "data": {
      "text/plain": [
       "array([[2, 2, 2, ..., 1, 2, 2],\n",
       "       [1, 2, 0, ..., 1, 2, 2],\n",
       "       [2, 2, 2, ..., 2, 2, 2],\n",
       "       ...,\n",
       "       [2, 2, 1, ..., 1, 2, 2],\n",
       "       [2, 2, 2, ..., 0, 2, 2],\n",
       "       [1, 2, 2, ..., 2, 2, 2]], dtype=uint8)"
      ]
     },
     "execution_count": 159,
     "metadata": {},
     "output_type": "execute_result"
    }
   ],
   "source": [
    "x_test"
   ]
  },
  {
   "cell_type": "code",
   "execution_count": 160,
   "metadata": {},
   "outputs": [
    {
     "ename": "ValueError",
     "evalue": "Dimensions must be equal, but are 50 and 25 for 'gradients/batch_normalization_2/batchnorm/mul_1_grad/mul' (op: 'Mul') with input shapes: [?,50], [25].",
     "output_type": "error",
     "traceback": [
      "\u001b[0;31m---------------------------------------------------------------------------\u001b[0m",
      "\u001b[0;31mInvalidArgumentError\u001b[0m                      Traceback (most recent call last)",
      "\u001b[0;32m~/.local/lib/python3.6/site-packages/tensorflow/python/framework/ops.py\u001b[0m in \u001b[0;36mget_attr\u001b[0;34m(self, name)\u001b[0m\n\u001b[1;32m   2325\u001b[0m       \u001b[0;32mwith\u001b[0m \u001b[0mc_api_util\u001b[0m\u001b[0;34m.\u001b[0m\u001b[0mtf_buffer\u001b[0m\u001b[0;34m(\u001b[0m\u001b[0;34m)\u001b[0m \u001b[0;32mas\u001b[0m \u001b[0mbuf\u001b[0m\u001b[0;34m:\u001b[0m\u001b[0;34m\u001b[0m\u001b[0m\n\u001b[0;32m-> 2326\u001b[0;31m         \u001b[0mc_api\u001b[0m\u001b[0;34m.\u001b[0m\u001b[0mTF_OperationGetAttrValueProto\u001b[0m\u001b[0;34m(\u001b[0m\u001b[0mself\u001b[0m\u001b[0;34m.\u001b[0m\u001b[0m_c_op\u001b[0m\u001b[0;34m,\u001b[0m \u001b[0mname\u001b[0m\u001b[0;34m,\u001b[0m \u001b[0mbuf\u001b[0m\u001b[0;34m)\u001b[0m\u001b[0;34m\u001b[0m\u001b[0m\n\u001b[0m\u001b[1;32m   2327\u001b[0m         \u001b[0mdata\u001b[0m \u001b[0;34m=\u001b[0m \u001b[0mc_api\u001b[0m\u001b[0;34m.\u001b[0m\u001b[0mTF_GetBuffer\u001b[0m\u001b[0;34m(\u001b[0m\u001b[0mbuf\u001b[0m\u001b[0;34m)\u001b[0m\u001b[0;34m\u001b[0m\u001b[0m\n",
      "\u001b[0;31mInvalidArgumentError\u001b[0m: Operation 'batch_normalization_2/batchnorm/mul_1' has no attr named '_XlaCompile'.",
      "\nDuring handling of the above exception, another exception occurred:\n",
      "\u001b[0;31mValueError\u001b[0m                                Traceback (most recent call last)",
      "\u001b[0;32m~/.local/lib/python3.6/site-packages/tensorflow/python/ops/gradients_util.py\u001b[0m in \u001b[0;36m_MaybeCompile\u001b[0;34m(scope, op, func, grad_fn)\u001b[0m\n\u001b[1;32m    343\u001b[0m     \u001b[0;32mtry\u001b[0m\u001b[0;34m:\u001b[0m\u001b[0;34m\u001b[0m\u001b[0m\n\u001b[0;32m--> 344\u001b[0;31m       \u001b[0mxla_compile\u001b[0m \u001b[0;34m=\u001b[0m \u001b[0mop\u001b[0m\u001b[0;34m.\u001b[0m\u001b[0mget_attr\u001b[0m\u001b[0;34m(\u001b[0m\u001b[0;34m\"_XlaCompile\"\u001b[0m\u001b[0;34m)\u001b[0m\u001b[0;34m\u001b[0m\u001b[0m\n\u001b[0m\u001b[1;32m    345\u001b[0m       xla_separate_compiled_gradients = op.get_attr(\n",
      "\u001b[0;32m~/.local/lib/python3.6/site-packages/tensorflow/python/framework/ops.py\u001b[0m in \u001b[0;36mget_attr\u001b[0;34m(self, name)\u001b[0m\n\u001b[1;32m   2329\u001b[0m       \u001b[0;31m# Convert to ValueError for backwards compatibility.\u001b[0m\u001b[0;34m\u001b[0m\u001b[0;34m\u001b[0m\u001b[0m\n\u001b[0;32m-> 2330\u001b[0;31m       \u001b[0;32mraise\u001b[0m \u001b[0mValueError\u001b[0m\u001b[0;34m(\u001b[0m\u001b[0mstr\u001b[0m\u001b[0;34m(\u001b[0m\u001b[0me\u001b[0m\u001b[0;34m)\u001b[0m\u001b[0;34m)\u001b[0m\u001b[0;34m\u001b[0m\u001b[0m\n\u001b[0m\u001b[1;32m   2331\u001b[0m     \u001b[0mx\u001b[0m \u001b[0;34m=\u001b[0m \u001b[0mattr_value_pb2\u001b[0m\u001b[0;34m.\u001b[0m\u001b[0mAttrValue\u001b[0m\u001b[0;34m(\u001b[0m\u001b[0;34m)\u001b[0m\u001b[0;34m\u001b[0m\u001b[0m\n",
      "\u001b[0;31mValueError\u001b[0m: Operation 'batch_normalization_2/batchnorm/mul_1' has no attr named '_XlaCompile'.",
      "\nDuring handling of the above exception, another exception occurred:\n",
      "\u001b[0;31mInvalidArgumentError\u001b[0m                      Traceback (most recent call last)",
      "\u001b[0;32m~/.local/lib/python3.6/site-packages/tensorflow/python/framework/ops.py\u001b[0m in \u001b[0;36m_create_c_op\u001b[0;34m(graph, node_def, inputs, control_inputs)\u001b[0m\n\u001b[1;32m   1550\u001b[0m   \u001b[0;32mtry\u001b[0m\u001b[0;34m:\u001b[0m\u001b[0;34m\u001b[0m\u001b[0m\n\u001b[0;32m-> 1551\u001b[0;31m     \u001b[0mc_op\u001b[0m \u001b[0;34m=\u001b[0m \u001b[0mc_api\u001b[0m\u001b[0;34m.\u001b[0m\u001b[0mTF_FinishOperation\u001b[0m\u001b[0;34m(\u001b[0m\u001b[0mop_desc\u001b[0m\u001b[0;34m)\u001b[0m\u001b[0;34m\u001b[0m\u001b[0m\n\u001b[0m\u001b[1;32m   1552\u001b[0m   \u001b[0;32mexcept\u001b[0m \u001b[0merrors\u001b[0m\u001b[0;34m.\u001b[0m\u001b[0mInvalidArgumentError\u001b[0m \u001b[0;32mas\u001b[0m \u001b[0me\u001b[0m\u001b[0;34m:\u001b[0m\u001b[0;34m\u001b[0m\u001b[0m\n",
      "\u001b[0;31mInvalidArgumentError\u001b[0m: Dimensions must be equal, but are 50 and 25 for 'gradients/batch_normalization_2/batchnorm/mul_1_grad/mul' (op: 'Mul') with input shapes: [?,50], [25].",
      "\nDuring handling of the above exception, another exception occurred:\n",
      "\u001b[0;31mValueError\u001b[0m                                Traceback (most recent call last)",
      "\u001b[0;32m<ipython-input-160-b1a338e13509>\u001b[0m in \u001b[0;36m<module>\u001b[0;34m\u001b[0m\n\u001b[0;32m----> 1\u001b[0;31m \u001b[0me\u001b[0m\u001b[0;34m.\u001b[0m\u001b[0mshap_values\u001b[0m\u001b[0;34m(\u001b[0m\u001b[0mx_val\u001b[0m\u001b[0;34m[\u001b[0m\u001b[0mimportant\u001b[0m\u001b[0;34m]\u001b[0m\u001b[0;34m)\u001b[0m\u001b[0;34m\u001b[0m\u001b[0m\n\u001b[0m",
      "\u001b[0;32m~/.local/lib/python3.6/site-packages/shap/explainers/deep/__init__.py\u001b[0m in \u001b[0;36mshap_values\u001b[0;34m(self, X, ranked_outputs, output_rank_order)\u001b[0m\n\u001b[1;32m    117\u001b[0m         \u001b[0mwere\u001b[0m \u001b[0mchosen\u001b[0m \u001b[0;32mas\u001b[0m \u001b[0;34m\"top\"\u001b[0m\u001b[0;34m.\u001b[0m\u001b[0;34m\u001b[0m\u001b[0m\n\u001b[1;32m    118\u001b[0m         \"\"\"\n\u001b[0;32m--> 119\u001b[0;31m         \u001b[0;32mreturn\u001b[0m \u001b[0mself\u001b[0m\u001b[0;34m.\u001b[0m\u001b[0mexplainer\u001b[0m\u001b[0;34m.\u001b[0m\u001b[0mshap_values\u001b[0m\u001b[0;34m(\u001b[0m\u001b[0mX\u001b[0m\u001b[0;34m,\u001b[0m \u001b[0mranked_outputs\u001b[0m\u001b[0;34m,\u001b[0m \u001b[0moutput_rank_order\u001b[0m\u001b[0;34m)\u001b[0m\u001b[0;34m\u001b[0m\u001b[0m\n\u001b[0m",
      "\u001b[0;32m~/.local/lib/python3.6/site-packages/shap/explainers/deep/deep_tf.py\u001b[0m in \u001b[0;36mshap_values\u001b[0;34m(self, X, ranked_outputs, output_rank_order, check_additivity)\u001b[0m\n\u001b[1;32m    270\u001b[0m                 \u001b[0;31m# run attribution computation graph\u001b[0m\u001b[0;34m\u001b[0m\u001b[0;34m\u001b[0m\u001b[0m\n\u001b[1;32m    271\u001b[0m                 \u001b[0mfeature_ind\u001b[0m \u001b[0;34m=\u001b[0m \u001b[0mmodel_output_ranks\u001b[0m\u001b[0;34m[\u001b[0m\u001b[0mj\u001b[0m\u001b[0;34m,\u001b[0m\u001b[0mi\u001b[0m\u001b[0;34m]\u001b[0m\u001b[0;34m\u001b[0m\u001b[0m\n\u001b[0;32m--> 272\u001b[0;31m                 \u001b[0msample_phis\u001b[0m \u001b[0;34m=\u001b[0m \u001b[0mself\u001b[0m\u001b[0;34m.\u001b[0m\u001b[0mrun\u001b[0m\u001b[0;34m(\u001b[0m\u001b[0mself\u001b[0m\u001b[0;34m.\u001b[0m\u001b[0mphi_symbolic\u001b[0m\u001b[0;34m(\u001b[0m\u001b[0mfeature_ind\u001b[0m\u001b[0;34m)\u001b[0m\u001b[0;34m,\u001b[0m \u001b[0mself\u001b[0m\u001b[0;34m.\u001b[0m\u001b[0mmodel_inputs\u001b[0m\u001b[0;34m,\u001b[0m \u001b[0mjoint_input\u001b[0m\u001b[0;34m)\u001b[0m\u001b[0;34m\u001b[0m\u001b[0m\n\u001b[0m\u001b[1;32m    273\u001b[0m \u001b[0;34m\u001b[0m\u001b[0m\n\u001b[1;32m    274\u001b[0m                 \u001b[0;31m# assign the attributions to the right part of the output arrays\u001b[0m\u001b[0;34m\u001b[0m\u001b[0;34m\u001b[0m\u001b[0m\n",
      "\u001b[0;32m~/.local/lib/python3.6/site-packages/shap/explainers/deep/deep_tf.py\u001b[0m in \u001b[0;36mphi_symbolic\u001b[0;34m(self, i)\u001b[0m\n\u001b[1;32m    210\u001b[0m             \u001b[0;32mtry\u001b[0m\u001b[0;34m:\u001b[0m\u001b[0;34m\u001b[0m\u001b[0m\n\u001b[1;32m    211\u001b[0m                 \u001b[0mout\u001b[0m \u001b[0;34m=\u001b[0m \u001b[0mself\u001b[0m\u001b[0;34m.\u001b[0m\u001b[0mmodel_output\u001b[0m\u001b[0;34m[\u001b[0m\u001b[0;34m:\u001b[0m\u001b[0;34m,\u001b[0m\u001b[0mi\u001b[0m\u001b[0;34m]\u001b[0m \u001b[0;32mif\u001b[0m \u001b[0mself\u001b[0m\u001b[0;34m.\u001b[0m\u001b[0mmulti_output\u001b[0m \u001b[0;32melse\u001b[0m \u001b[0mself\u001b[0m\u001b[0;34m.\u001b[0m\u001b[0mmodel_output\u001b[0m\u001b[0;34m\u001b[0m\u001b[0m\n\u001b[0;32m--> 212\u001b[0;31m                 \u001b[0mself\u001b[0m\u001b[0;34m.\u001b[0m\u001b[0mphi_symbolics\u001b[0m\u001b[0;34m[\u001b[0m\u001b[0mi\u001b[0m\u001b[0;34m]\u001b[0m \u001b[0;34m=\u001b[0m \u001b[0mtf\u001b[0m\u001b[0;34m.\u001b[0m\u001b[0mgradients\u001b[0m\u001b[0;34m(\u001b[0m\u001b[0mout\u001b[0m\u001b[0;34m,\u001b[0m \u001b[0mself\u001b[0m\u001b[0;34m.\u001b[0m\u001b[0mmodel_inputs\u001b[0m\u001b[0;34m)\u001b[0m\u001b[0;34m\u001b[0m\u001b[0m\n\u001b[0m\u001b[1;32m    213\u001b[0m \u001b[0;34m\u001b[0m\u001b[0m\n\u001b[1;32m    214\u001b[0m             \u001b[0;32mfinally\u001b[0m\u001b[0;34m:\u001b[0m\u001b[0;34m\u001b[0m\u001b[0m\n",
      "\u001b[0;32m~/.local/lib/python3.6/site-packages/tensorflow/python/ops/gradients_impl.py\u001b[0m in \u001b[0;36mgradients\u001b[0;34m(ys, xs, grad_ys, name, colocate_gradients_with_ops, gate_gradients, aggregation_method, stop_gradients, unconnected_gradients)\u001b[0m\n\u001b[1;32m    156\u001b[0m         \u001b[0mys\u001b[0m\u001b[0;34m,\u001b[0m \u001b[0mxs\u001b[0m\u001b[0;34m,\u001b[0m \u001b[0mgrad_ys\u001b[0m\u001b[0;34m,\u001b[0m \u001b[0mname\u001b[0m\u001b[0;34m,\u001b[0m \u001b[0mcolocate_gradients_with_ops\u001b[0m\u001b[0;34m,\u001b[0m\u001b[0;34m\u001b[0m\u001b[0m\n\u001b[1;32m    157\u001b[0m         \u001b[0mgate_gradients\u001b[0m\u001b[0;34m,\u001b[0m \u001b[0maggregation_method\u001b[0m\u001b[0;34m,\u001b[0m \u001b[0mstop_gradients\u001b[0m\u001b[0;34m,\u001b[0m\u001b[0;34m\u001b[0m\u001b[0m\n\u001b[0;32m--> 158\u001b[0;31m         unconnected_gradients)\n\u001b[0m\u001b[1;32m    159\u001b[0m   \u001b[0;31m# pylint: enable=protected-access\u001b[0m\u001b[0;34m\u001b[0m\u001b[0;34m\u001b[0m\u001b[0m\n\u001b[1;32m    160\u001b[0m \u001b[0;34m\u001b[0m\u001b[0m\n",
      "\u001b[0;32m~/.local/lib/python3.6/site-packages/tensorflow/python/ops/gradients_util.py\u001b[0m in \u001b[0;36m_GradientsHelper\u001b[0;34m(ys, xs, grad_ys, name, colocate_gradients_with_ops, gate_gradients, aggregation_method, stop_gradients, unconnected_gradients, src_graph)\u001b[0m\n\u001b[1;32m    675\u001b[0m                 \u001b[0;31m# functions.\u001b[0m\u001b[0;34m\u001b[0m\u001b[0;34m\u001b[0m\u001b[0m\n\u001b[1;32m    676\u001b[0m                 in_grads = _MaybeCompile(grad_scope, op, func_call,\n\u001b[0;32m--> 677\u001b[0;31m                                          lambda: grad_fn(op, *out_grads))\n\u001b[0m\u001b[1;32m    678\u001b[0m               \u001b[0;32melse\u001b[0m\u001b[0;34m:\u001b[0m\u001b[0;34m\u001b[0m\u001b[0m\n\u001b[1;32m    679\u001b[0m                 \u001b[0;31m# For function call ops, we add a 'SymbolicGradient'\u001b[0m\u001b[0;34m\u001b[0m\u001b[0;34m\u001b[0m\u001b[0m\n",
      "\u001b[0;32m~/.local/lib/python3.6/site-packages/tensorflow/python/ops/gradients_util.py\u001b[0m in \u001b[0;36m_MaybeCompile\u001b[0;34m(scope, op, func, grad_fn)\u001b[0m\n\u001b[1;32m    347\u001b[0m       \u001b[0mxla_scope\u001b[0m \u001b[0;34m=\u001b[0m \u001b[0mop\u001b[0m\u001b[0;34m.\u001b[0m\u001b[0mget_attr\u001b[0m\u001b[0;34m(\u001b[0m\u001b[0;34m\"_XlaScope\"\u001b[0m\u001b[0;34m)\u001b[0m\u001b[0;34m.\u001b[0m\u001b[0mdecode\u001b[0m\u001b[0;34m(\u001b[0m\u001b[0;34m)\u001b[0m\u001b[0;34m\u001b[0m\u001b[0m\n\u001b[1;32m    348\u001b[0m     \u001b[0;32mexcept\u001b[0m \u001b[0mValueError\u001b[0m\u001b[0;34m:\u001b[0m\u001b[0;34m\u001b[0m\u001b[0m\n\u001b[0;32m--> 349\u001b[0;31m       \u001b[0;32mreturn\u001b[0m \u001b[0mgrad_fn\u001b[0m\u001b[0;34m(\u001b[0m\u001b[0;34m)\u001b[0m  \u001b[0;31m# Exit early\u001b[0m\u001b[0;34m\u001b[0m\u001b[0m\n\u001b[0m\u001b[1;32m    350\u001b[0m \u001b[0;34m\u001b[0m\u001b[0m\n\u001b[1;32m    351\u001b[0m   \u001b[0;32mif\u001b[0m \u001b[0;32mnot\u001b[0m \u001b[0mxla_compile\u001b[0m\u001b[0;34m:\u001b[0m\u001b[0;34m\u001b[0m\u001b[0m\n",
      "\u001b[0;32m~/.local/lib/python3.6/site-packages/tensorflow/python/ops/gradients_util.py\u001b[0m in \u001b[0;36m<lambda>\u001b[0;34m()\u001b[0m\n\u001b[1;32m    675\u001b[0m                 \u001b[0;31m# functions.\u001b[0m\u001b[0;34m\u001b[0m\u001b[0;34m\u001b[0m\u001b[0m\n\u001b[1;32m    676\u001b[0m                 in_grads = _MaybeCompile(grad_scope, op, func_call,\n\u001b[0;32m--> 677\u001b[0;31m                                          lambda: grad_fn(op, *out_grads))\n\u001b[0m\u001b[1;32m    678\u001b[0m               \u001b[0;32melse\u001b[0m\u001b[0;34m:\u001b[0m\u001b[0;34m\u001b[0m\u001b[0m\n\u001b[1;32m    679\u001b[0m                 \u001b[0;31m# For function call ops, we add a 'SymbolicGradient'\u001b[0m\u001b[0;34m\u001b[0m\u001b[0;34m\u001b[0m\u001b[0m\n",
      "\u001b[0;32m~/.local/lib/python3.6/site-packages/shap/explainers/deep/deep_tf.py\u001b[0m in \u001b[0;36mcustom_grad\u001b[0;34m(self, op, *grads)\u001b[0m\n\u001b[1;32m    302\u001b[0m         \"\"\" Passes a gradient op creation request to the correct handler.\n\u001b[1;32m    303\u001b[0m         \"\"\"\n\u001b[0;32m--> 304\u001b[0;31m         \u001b[0;32mreturn\u001b[0m \u001b[0mop_handlers\u001b[0m\u001b[0;34m[\u001b[0m\u001b[0mop\u001b[0m\u001b[0;34m.\u001b[0m\u001b[0mtype\u001b[0m\u001b[0;34m]\u001b[0m\u001b[0;34m(\u001b[0m\u001b[0mself\u001b[0m\u001b[0;34m,\u001b[0m \u001b[0mop\u001b[0m\u001b[0;34m,\u001b[0m \u001b[0;34m*\u001b[0m\u001b[0mgrads\u001b[0m\u001b[0;34m)\u001b[0m\u001b[0;34m\u001b[0m\u001b[0m\n\u001b[0m\u001b[1;32m    305\u001b[0m \u001b[0;34m\u001b[0m\u001b[0m\n\u001b[1;32m    306\u001b[0m \u001b[0;34m\u001b[0m\u001b[0m\n",
      "\u001b[0;32m~/.local/lib/python3.6/site-packages/shap/explainers/deep/deep_tf.py\u001b[0m in \u001b[0;36mhandler\u001b[0;34m(explainer, op, *grads)\u001b[0m\n\u001b[1;32m    432\u001b[0m             \u001b[0;32mreturn\u001b[0m \u001b[0mlinearity_1d_handler\u001b[0m\u001b[0;34m(\u001b[0m\u001b[0minput_ind1\u001b[0m\u001b[0;34m,\u001b[0m \u001b[0mexplainer\u001b[0m\u001b[0;34m,\u001b[0m \u001b[0mop\u001b[0m\u001b[0;34m,\u001b[0m \u001b[0;34m*\u001b[0m\u001b[0mgrads\u001b[0m\u001b[0;34m)\u001b[0m\u001b[0;34m\u001b[0m\u001b[0m\n\u001b[1;32m    433\u001b[0m         \u001b[0;32melif\u001b[0m \u001b[0mvar\u001b[0m\u001b[0;34m[\u001b[0m\u001b[0minput_ind0\u001b[0m\u001b[0;34m]\u001b[0m \u001b[0;32mand\u001b[0m \u001b[0mvar\u001b[0m\u001b[0;34m[\u001b[0m\u001b[0minput_ind1\u001b[0m\u001b[0;34m]\u001b[0m\u001b[0;34m:\u001b[0m\u001b[0;34m\u001b[0m\u001b[0m\n\u001b[0;32m--> 434\u001b[0;31m             \u001b[0;32mreturn\u001b[0m \u001b[0mnonlinearity_2d_handler\u001b[0m\u001b[0;34m(\u001b[0m\u001b[0minput_ind0\u001b[0m\u001b[0;34m,\u001b[0m \u001b[0minput_ind1\u001b[0m\u001b[0;34m,\u001b[0m \u001b[0mop_func\u001b[0m\u001b[0;34m,\u001b[0m \u001b[0mexplainer\u001b[0m\u001b[0;34m,\u001b[0m \u001b[0mop\u001b[0m\u001b[0;34m,\u001b[0m \u001b[0;34m*\u001b[0m\u001b[0mgrads\u001b[0m\u001b[0;34m)\u001b[0m\u001b[0;34m\u001b[0m\u001b[0m\n\u001b[0m\u001b[1;32m    435\u001b[0m         \u001b[0;32melse\u001b[0m\u001b[0;34m:\u001b[0m\u001b[0;34m\u001b[0m\u001b[0m\n\u001b[1;32m    436\u001b[0m             \u001b[0;32mreturn\u001b[0m \u001b[0;34m[\u001b[0m\u001b[0;32mNone\u001b[0m \u001b[0;32mfor\u001b[0m \u001b[0m_\u001b[0m \u001b[0;32min\u001b[0m \u001b[0mop\u001b[0m\u001b[0;34m.\u001b[0m\u001b[0minputs\u001b[0m\u001b[0;34m]\u001b[0m \u001b[0;31m# no inputs vary, we must be hidden by a switch function\u001b[0m\u001b[0;34m\u001b[0m\u001b[0m\n",
      "\u001b[0;32m~/.local/lib/python3.6/site-packages/shap/explainers/deep/deep_tf.py\u001b[0m in \u001b[0;36mnonlinearity_2d_handler\u001b[0;34m(input_ind0, input_ind1, op_func, explainer, op, *grads)\u001b[0m\n\u001b[1;32m    483\u001b[0m     \u001b[0mdelta_in1\u001b[0m \u001b[0;34m=\u001b[0m \u001b[0mxin1\u001b[0m \u001b[0;34m-\u001b[0m \u001b[0mrin1\u001b[0m\u001b[0;34m\u001b[0m\u001b[0m\n\u001b[1;32m    484\u001b[0m     \u001b[0mdup0\u001b[0m \u001b[0;34m=\u001b[0m \u001b[0;34m[\u001b[0m\u001b[0;36m2\u001b[0m\u001b[0;34m]\u001b[0m \u001b[0;34m+\u001b[0m \u001b[0;34m[\u001b[0m\u001b[0;36m1\u001b[0m \u001b[0;32mfor\u001b[0m \u001b[0mi\u001b[0m \u001b[0;32min\u001b[0m \u001b[0mdelta_in0\u001b[0m\u001b[0;34m.\u001b[0m\u001b[0mshape\u001b[0m\u001b[0;34m[\u001b[0m\u001b[0;36m1\u001b[0m\u001b[0;34m:\u001b[0m\u001b[0;34m]\u001b[0m\u001b[0;34m]\u001b[0m\u001b[0;34m\u001b[0m\u001b[0m\n\u001b[0;32m--> 485\u001b[0;31m     \u001b[0mout10\u001b[0m \u001b[0;34m=\u001b[0m \u001b[0mop_func\u001b[0m\u001b[0;34m(\u001b[0m\u001b[0mxin0\u001b[0m\u001b[0;34m,\u001b[0m \u001b[0mrin1\u001b[0m\u001b[0;34m)\u001b[0m\u001b[0;34m\u001b[0m\u001b[0m\n\u001b[0m\u001b[1;32m    486\u001b[0m     \u001b[0mout01\u001b[0m \u001b[0;34m=\u001b[0m \u001b[0mop_func\u001b[0m\u001b[0;34m(\u001b[0m\u001b[0mrin0\u001b[0m\u001b[0;34m,\u001b[0m \u001b[0mxin1\u001b[0m\u001b[0;34m)\u001b[0m\u001b[0;34m\u001b[0m\u001b[0m\n\u001b[1;32m    487\u001b[0m     \u001b[0mout11\u001b[0m\u001b[0;34m,\u001b[0m\u001b[0mout00\u001b[0m \u001b[0;34m=\u001b[0m \u001b[0mxout\u001b[0m\u001b[0;34m,\u001b[0m\u001b[0mrout\u001b[0m\u001b[0;34m\u001b[0m\u001b[0m\n",
      "\u001b[0;32m~/.local/lib/python3.6/site-packages/shap/explainers/deep/deep_tf.py\u001b[0m in \u001b[0;36m<lambda>\u001b[0;34m(x, y)\u001b[0m\n\u001b[1;32m    600\u001b[0m \u001b[0;34m\u001b[0m\u001b[0m\n\u001b[1;32m    601\u001b[0m \u001b[0;31m# ops that allow up to two inputs to vary are are linear when only one input varies\u001b[0m\u001b[0;34m\u001b[0m\u001b[0;34m\u001b[0m\u001b[0m\n\u001b[0;32m--> 602\u001b[0;31m \u001b[0mop_handlers\u001b[0m\u001b[0;34m[\u001b[0m\u001b[0;34m\"Mul\"\u001b[0m\u001b[0;34m]\u001b[0m \u001b[0;34m=\u001b[0m \u001b[0mlinearity_1d_nonlinearity_2d\u001b[0m\u001b[0;34m(\u001b[0m\u001b[0;36m0\u001b[0m\u001b[0;34m,\u001b[0m \u001b[0;36m1\u001b[0m\u001b[0;34m,\u001b[0m \u001b[0;32mlambda\u001b[0m \u001b[0mx\u001b[0m\u001b[0;34m,\u001b[0m \u001b[0my\u001b[0m\u001b[0;34m:\u001b[0m \u001b[0mx\u001b[0m \u001b[0;34m*\u001b[0m \u001b[0my\u001b[0m\u001b[0;34m)\u001b[0m\u001b[0;34m\u001b[0m\u001b[0m\n\u001b[0m\u001b[1;32m    603\u001b[0m \u001b[0mop_handlers\u001b[0m\u001b[0;34m[\u001b[0m\u001b[0;34m\"RealDiv\"\u001b[0m\u001b[0;34m]\u001b[0m \u001b[0;34m=\u001b[0m \u001b[0mlinearity_1d_nonlinearity_2d\u001b[0m\u001b[0;34m(\u001b[0m\u001b[0;36m0\u001b[0m\u001b[0;34m,\u001b[0m \u001b[0;36m1\u001b[0m\u001b[0;34m,\u001b[0m \u001b[0;32mlambda\u001b[0m \u001b[0mx\u001b[0m\u001b[0;34m,\u001b[0m \u001b[0my\u001b[0m\u001b[0;34m:\u001b[0m \u001b[0mx\u001b[0m \u001b[0;34m/\u001b[0m \u001b[0my\u001b[0m\u001b[0;34m)\u001b[0m\u001b[0;34m\u001b[0m\u001b[0m\n\u001b[1;32m    604\u001b[0m \u001b[0mop_handlers\u001b[0m\u001b[0;34m[\u001b[0m\u001b[0;34m\"MatMul\"\u001b[0m\u001b[0;34m]\u001b[0m \u001b[0;34m=\u001b[0m \u001b[0mlinearity_1d_nonlinearity_2d\u001b[0m\u001b[0;34m(\u001b[0m\u001b[0;36m0\u001b[0m\u001b[0;34m,\u001b[0m \u001b[0;36m1\u001b[0m\u001b[0;34m,\u001b[0m \u001b[0;32mlambda\u001b[0m \u001b[0mx\u001b[0m\u001b[0;34m,\u001b[0m \u001b[0my\u001b[0m\u001b[0;34m:\u001b[0m \u001b[0mtf\u001b[0m\u001b[0;34m.\u001b[0m\u001b[0mmatmul\u001b[0m\u001b[0;34m(\u001b[0m\u001b[0mx\u001b[0m\u001b[0;34m,\u001b[0m \u001b[0my\u001b[0m\u001b[0;34m)\u001b[0m\u001b[0;34m)\u001b[0m\u001b[0;34m\u001b[0m\u001b[0m\n",
      "\u001b[0;32m~/.local/lib/python3.6/site-packages/tensorflow/python/ops/math_ops.py\u001b[0m in \u001b[0;36mbinary_op_wrapper\u001b[0;34m(x, y)\u001b[0m\n\u001b[1;32m    882\u001b[0m     \u001b[0;32mwith\u001b[0m \u001b[0mops\u001b[0m\u001b[0;34m.\u001b[0m\u001b[0mname_scope\u001b[0m\u001b[0;34m(\u001b[0m\u001b[0;32mNone\u001b[0m\u001b[0;34m,\u001b[0m \u001b[0mop_name\u001b[0m\u001b[0;34m,\u001b[0m \u001b[0;34m[\u001b[0m\u001b[0mx\u001b[0m\u001b[0;34m,\u001b[0m \u001b[0my\u001b[0m\u001b[0;34m]\u001b[0m\u001b[0;34m)\u001b[0m \u001b[0;32mas\u001b[0m \u001b[0mname\u001b[0m\u001b[0;34m:\u001b[0m\u001b[0;34m\u001b[0m\u001b[0m\n\u001b[1;32m    883\u001b[0m       \u001b[0;32mif\u001b[0m \u001b[0misinstance\u001b[0m\u001b[0;34m(\u001b[0m\u001b[0mx\u001b[0m\u001b[0;34m,\u001b[0m \u001b[0mops\u001b[0m\u001b[0;34m.\u001b[0m\u001b[0mTensor\u001b[0m\u001b[0;34m)\u001b[0m \u001b[0;32mand\u001b[0m \u001b[0misinstance\u001b[0m\u001b[0;34m(\u001b[0m\u001b[0my\u001b[0m\u001b[0;34m,\u001b[0m \u001b[0mops\u001b[0m\u001b[0;34m.\u001b[0m\u001b[0mTensor\u001b[0m\u001b[0;34m)\u001b[0m\u001b[0;34m:\u001b[0m\u001b[0;34m\u001b[0m\u001b[0m\n\u001b[0;32m--> 884\u001b[0;31m         \u001b[0;32mreturn\u001b[0m \u001b[0mfunc\u001b[0m\u001b[0;34m(\u001b[0m\u001b[0mx\u001b[0m\u001b[0;34m,\u001b[0m \u001b[0my\u001b[0m\u001b[0;34m,\u001b[0m \u001b[0mname\u001b[0m\u001b[0;34m=\u001b[0m\u001b[0mname\u001b[0m\u001b[0;34m)\u001b[0m\u001b[0;34m\u001b[0m\u001b[0m\n\u001b[0m\u001b[1;32m    885\u001b[0m       \u001b[0;32melif\u001b[0m \u001b[0;32mnot\u001b[0m \u001b[0misinstance\u001b[0m\u001b[0;34m(\u001b[0m\u001b[0my\u001b[0m\u001b[0;34m,\u001b[0m \u001b[0msparse_tensor\u001b[0m\u001b[0;34m.\u001b[0m\u001b[0mSparseTensor\u001b[0m\u001b[0;34m)\u001b[0m\u001b[0;34m:\u001b[0m\u001b[0;34m\u001b[0m\u001b[0m\n\u001b[1;32m    886\u001b[0m         \u001b[0;32mtry\u001b[0m\u001b[0;34m:\u001b[0m\u001b[0;34m\u001b[0m\u001b[0m\n",
      "\u001b[0;32m~/.local/lib/python3.6/site-packages/tensorflow/python/ops/math_ops.py\u001b[0m in \u001b[0;36m_mul_dispatch\u001b[0;34m(x, y, name)\u001b[0m\n\u001b[1;32m   1178\u001b[0m   \u001b[0mis_tensor_y\u001b[0m \u001b[0;34m=\u001b[0m \u001b[0misinstance\u001b[0m\u001b[0;34m(\u001b[0m\u001b[0my\u001b[0m\u001b[0;34m,\u001b[0m \u001b[0mops\u001b[0m\u001b[0;34m.\u001b[0m\u001b[0mTensor\u001b[0m\u001b[0;34m)\u001b[0m\u001b[0;34m\u001b[0m\u001b[0m\n\u001b[1;32m   1179\u001b[0m   \u001b[0;32mif\u001b[0m \u001b[0mis_tensor_y\u001b[0m\u001b[0;34m:\u001b[0m\u001b[0;34m\u001b[0m\u001b[0m\n\u001b[0;32m-> 1180\u001b[0;31m     \u001b[0;32mreturn\u001b[0m \u001b[0mgen_math_ops\u001b[0m\u001b[0;34m.\u001b[0m\u001b[0mmul\u001b[0m\u001b[0;34m(\u001b[0m\u001b[0mx\u001b[0m\u001b[0;34m,\u001b[0m \u001b[0my\u001b[0m\u001b[0;34m,\u001b[0m \u001b[0mname\u001b[0m\u001b[0;34m=\u001b[0m\u001b[0mname\u001b[0m\u001b[0;34m)\u001b[0m\u001b[0;34m\u001b[0m\u001b[0m\n\u001b[0m\u001b[1;32m   1181\u001b[0m   \u001b[0;32melse\u001b[0m\u001b[0;34m:\u001b[0m\u001b[0;34m\u001b[0m\u001b[0m\n\u001b[1;32m   1182\u001b[0m     \u001b[0;32massert\u001b[0m \u001b[0misinstance\u001b[0m\u001b[0;34m(\u001b[0m\u001b[0my\u001b[0m\u001b[0;34m,\u001b[0m \u001b[0msparse_tensor\u001b[0m\u001b[0;34m.\u001b[0m\u001b[0mSparseTensor\u001b[0m\u001b[0;34m)\u001b[0m  \u001b[0;31m# Case: Dense * Sparse.\u001b[0m\u001b[0;34m\u001b[0m\u001b[0m\n",
      "\u001b[0;32m~/.local/lib/python3.6/site-packages/tensorflow/python/ops/gen_math_ops.py\u001b[0m in \u001b[0;36mmul\u001b[0;34m(x, y, name)\u001b[0m\n\u001b[1;32m   6488\u001b[0m   \u001b[0;31m# Add nodes to the TensorFlow graph.\u001b[0m\u001b[0;34m\u001b[0m\u001b[0;34m\u001b[0m\u001b[0m\n\u001b[1;32m   6489\u001b[0m   _, _, _op = _op_def_lib._apply_op_helper(\n\u001b[0;32m-> 6490\u001b[0;31m         \"Mul\", x=x, y=y, name=name)\n\u001b[0m\u001b[1;32m   6491\u001b[0m   \u001b[0m_result\u001b[0m \u001b[0;34m=\u001b[0m \u001b[0m_op\u001b[0m\u001b[0;34m.\u001b[0m\u001b[0moutputs\u001b[0m\u001b[0;34m[\u001b[0m\u001b[0;34m:\u001b[0m\u001b[0;34m]\u001b[0m\u001b[0;34m\u001b[0m\u001b[0m\n\u001b[1;32m   6492\u001b[0m   \u001b[0m_inputs_flat\u001b[0m \u001b[0;34m=\u001b[0m \u001b[0m_op\u001b[0m\u001b[0;34m.\u001b[0m\u001b[0minputs\u001b[0m\u001b[0;34m\u001b[0m\u001b[0m\n",
      "\u001b[0;32m~/.local/lib/python3.6/site-packages/tensorflow/python/framework/op_def_library.py\u001b[0m in \u001b[0;36m_apply_op_helper\u001b[0;34m(self, op_type_name, name, **keywords)\u001b[0m\n\u001b[1;32m    786\u001b[0m         op = g.create_op(op_type_name, inputs, dtypes=None, name=scope,\n\u001b[1;32m    787\u001b[0m                          \u001b[0minput_types\u001b[0m\u001b[0;34m=\u001b[0m\u001b[0minput_types\u001b[0m\u001b[0;34m,\u001b[0m \u001b[0mattrs\u001b[0m\u001b[0;34m=\u001b[0m\u001b[0mattr_protos\u001b[0m\u001b[0;34m,\u001b[0m\u001b[0;34m\u001b[0m\u001b[0m\n\u001b[0;32m--> 788\u001b[0;31m                          op_def=op_def)\n\u001b[0m\u001b[1;32m    789\u001b[0m       \u001b[0;32mreturn\u001b[0m \u001b[0moutput_structure\u001b[0m\u001b[0;34m,\u001b[0m \u001b[0mop_def\u001b[0m\u001b[0;34m.\u001b[0m\u001b[0mis_stateful\u001b[0m\u001b[0;34m,\u001b[0m \u001b[0mop\u001b[0m\u001b[0;34m\u001b[0m\u001b[0m\n\u001b[1;32m    790\u001b[0m \u001b[0;34m\u001b[0m\u001b[0m\n",
      "\u001b[0;32m~/.local/lib/python3.6/site-packages/tensorflow/python/util/deprecation.py\u001b[0m in \u001b[0;36mnew_func\u001b[0;34m(*args, **kwargs)\u001b[0m\n\u001b[1;32m    505\u001b[0m                 \u001b[0;34m'in a future version'\u001b[0m \u001b[0;32mif\u001b[0m \u001b[0mdate\u001b[0m \u001b[0;32mis\u001b[0m \u001b[0;32mNone\u001b[0m \u001b[0;32melse\u001b[0m \u001b[0;34m(\u001b[0m\u001b[0;34m'after %s'\u001b[0m \u001b[0;34m%\u001b[0m \u001b[0mdate\u001b[0m\u001b[0;34m)\u001b[0m\u001b[0;34m,\u001b[0m\u001b[0;34m\u001b[0m\u001b[0m\n\u001b[1;32m    506\u001b[0m                 instructions)\n\u001b[0;32m--> 507\u001b[0;31m       \u001b[0;32mreturn\u001b[0m \u001b[0mfunc\u001b[0m\u001b[0;34m(\u001b[0m\u001b[0;34m*\u001b[0m\u001b[0margs\u001b[0m\u001b[0;34m,\u001b[0m \u001b[0;34m**\u001b[0m\u001b[0mkwargs\u001b[0m\u001b[0;34m)\u001b[0m\u001b[0;34m\u001b[0m\u001b[0m\n\u001b[0m\u001b[1;32m    508\u001b[0m \u001b[0;34m\u001b[0m\u001b[0m\n\u001b[1;32m    509\u001b[0m     doc = _add_deprecated_arg_notice_to_docstring(\n",
      "\u001b[0;32m~/.local/lib/python3.6/site-packages/tensorflow/python/framework/ops.py\u001b[0m in \u001b[0;36mcreate_op\u001b[0;34m(***failed resolving arguments***)\u001b[0m\n\u001b[1;32m   3294\u001b[0m           \u001b[0minput_types\u001b[0m\u001b[0;34m=\u001b[0m\u001b[0minput_types\u001b[0m\u001b[0;34m,\u001b[0m\u001b[0;34m\u001b[0m\u001b[0m\n\u001b[1;32m   3295\u001b[0m           \u001b[0moriginal_op\u001b[0m\u001b[0;34m=\u001b[0m\u001b[0mself\u001b[0m\u001b[0;34m.\u001b[0m\u001b[0m_default_original_op\u001b[0m\u001b[0;34m,\u001b[0m\u001b[0;34m\u001b[0m\u001b[0m\n\u001b[0;32m-> 3296\u001b[0;31m           op_def=op_def)\n\u001b[0m\u001b[1;32m   3297\u001b[0m       \u001b[0mself\u001b[0m\u001b[0;34m.\u001b[0m\u001b[0m_create_op_helper\u001b[0m\u001b[0;34m(\u001b[0m\u001b[0mret\u001b[0m\u001b[0;34m,\u001b[0m \u001b[0mcompute_device\u001b[0m\u001b[0;34m=\u001b[0m\u001b[0mcompute_device\u001b[0m\u001b[0;34m)\u001b[0m\u001b[0;34m\u001b[0m\u001b[0m\n\u001b[1;32m   3298\u001b[0m     \u001b[0;32mreturn\u001b[0m \u001b[0mret\u001b[0m\u001b[0;34m\u001b[0m\u001b[0m\n",
      "\u001b[0;32m~/.local/lib/python3.6/site-packages/tensorflow/python/framework/ops.py\u001b[0m in \u001b[0;36m__init__\u001b[0;34m(self, node_def, g, inputs, output_types, control_inputs, input_types, original_op, op_def)\u001b[0m\n\u001b[1;32m   1712\u001b[0m           op_def, inputs, node_def.attr)\n\u001b[1;32m   1713\u001b[0m       self._c_op = _create_c_op(self._graph, node_def, grouped_inputs,\n\u001b[0;32m-> 1714\u001b[0;31m                                 control_input_ops)\n\u001b[0m\u001b[1;32m   1715\u001b[0m \u001b[0;34m\u001b[0m\u001b[0m\n\u001b[1;32m   1716\u001b[0m     \u001b[0;31m# Initialize self._outputs.\u001b[0m\u001b[0;34m\u001b[0m\u001b[0;34m\u001b[0m\u001b[0m\n",
      "\u001b[0;32m~/.local/lib/python3.6/site-packages/tensorflow/python/framework/ops.py\u001b[0m in \u001b[0;36m_create_c_op\u001b[0;34m(graph, node_def, inputs, control_inputs)\u001b[0m\n\u001b[1;32m   1552\u001b[0m   \u001b[0;32mexcept\u001b[0m \u001b[0merrors\u001b[0m\u001b[0;34m.\u001b[0m\u001b[0mInvalidArgumentError\u001b[0m \u001b[0;32mas\u001b[0m \u001b[0me\u001b[0m\u001b[0;34m:\u001b[0m\u001b[0;34m\u001b[0m\u001b[0m\n\u001b[1;32m   1553\u001b[0m     \u001b[0;31m# Convert to ValueError for backwards compatibility.\u001b[0m\u001b[0;34m\u001b[0m\u001b[0;34m\u001b[0m\u001b[0m\n\u001b[0;32m-> 1554\u001b[0;31m     \u001b[0;32mraise\u001b[0m \u001b[0mValueError\u001b[0m\u001b[0;34m(\u001b[0m\u001b[0mstr\u001b[0m\u001b[0;34m(\u001b[0m\u001b[0me\u001b[0m\u001b[0;34m)\u001b[0m\u001b[0;34m)\u001b[0m\u001b[0;34m\u001b[0m\u001b[0m\n\u001b[0m\u001b[1;32m   1555\u001b[0m \u001b[0;34m\u001b[0m\u001b[0m\n\u001b[1;32m   1556\u001b[0m   \u001b[0;32mreturn\u001b[0m \u001b[0mc_op\u001b[0m\u001b[0;34m\u001b[0m\u001b[0m\n",
      "\u001b[0;31mValueError\u001b[0m: Dimensions must be equal, but are 50 and 25 for 'gradients/batch_normalization_2/batchnorm/mul_1_grad/mul' (op: 'Mul') with input shapes: [?,50], [25]."
     ]
    }
   ],
   "source": [
    "e.shap_values(x_val[important])"
   ]
  },
  {
   "cell_type": "code",
   "execution_count": null,
   "metadata": {},
   "outputs": [],
   "source": []
  },
  {
   "cell_type": "code",
   "execution_count": 154,
   "metadata": {},
   "outputs": [],
   "source": []
  },
  {
   "cell_type": "code",
   "execution_count": 153,
   "metadata": {},
   "outputs": [],
   "source": []
  },
  {
   "cell_type": "code",
   "execution_count": null,
   "metadata": {},
   "outputs": [],
   "source": []
  },
  {
   "cell_type": "code",
   "execution_count": null,
   "metadata": {},
   "outputs": [],
   "source": []
  },
  {
   "cell_type": "code",
   "execution_count": null,
   "metadata": {},
   "outputs": [],
   "source": []
  },
  {
   "cell_type": "code",
   "execution_count": null,
   "metadata": {},
   "outputs": [],
   "source": []
  },
  {
   "cell_type": "code",
   "execution_count": null,
   "metadata": {},
   "outputs": [],
   "source": []
  },
  {
   "cell_type": "code",
   "execution_count": 34,
   "metadata": {},
   "outputs": [],
   "source": []
  },
  {
   "cell_type": "code",
   "execution_count": null,
   "metadata": {},
   "outputs": [],
   "source": []
  },
  {
   "cell_type": "code",
   "execution_count": null,
   "metadata": {},
   "outputs": [],
   "source": []
  },
  {
   "cell_type": "code",
   "execution_count": null,
   "metadata": {},
   "outputs": [],
   "source": []
  },
  {
   "cell_type": "code",
   "execution_count": null,
   "metadata": {},
   "outputs": [],
   "source": []
  },
  {
   "cell_type": "code",
   "execution_count": null,
   "metadata": {},
   "outputs": [],
   "source": []
  }
 ],
 "metadata": {
  "kernelspec": {
   "display_name": "Python 3",
   "language": "python",
   "name": "python3"
  },
  "language_info": {
   "codemirror_mode": {
    "name": "ipython",
    "version": 3
   },
   "file_extension": ".py",
   "mimetype": "text/x-python",
   "name": "python",
   "nbconvert_exporter": "python",
   "pygments_lexer": "ipython3",
   "version": "3.6.5"
  }
 },
 "nbformat": 4,
 "nbformat_minor": 2
}
