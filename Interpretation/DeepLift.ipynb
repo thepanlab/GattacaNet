{
 "cells": [
  {
   "cell_type": "code",
   "execution_count": null,
   "metadata": {},
   "outputs": [],
   "source": [
    "%matplotlib inline\n",
    "import tensorflow as tf\n",
    "import numpy as np\n",
    "from pandas_plink import read_plink\n",
    "import pandas as pd\n",
    "import matplotlib.pyplot as plt\n",
    "from sklearn.decomposition import PCA\n",
    "from sklearn.linear_model import LogisticRegression\n",
    "from joblib import Parallel, delayed\n",
    "from sklearn import metrics\n",
    "from math import sqrt\n",
    "import lime\n",
    "import lime.lime_tabular\n",
    "from lime import submodular_pick\n",
    "import random\n",
    "from sklearn.metrics import roc_curve,roc_auc_score"
   ]
  },
  {
   "cell_type": "code",
   "execution_count": null,
   "metadata": {},
   "outputs": [],
   "source": [
    "from sklearn.metrics import accuracy_score\n",
    "from sklearn.metrics import auc\n",
    "from sklearn.metrics import confusion_matrix\n",
    "from sklearn.metrics import classification_report\n",
    "from sklearn.metrics import precision_score\n",
    "from sklearn.preprocessing import OneHotEncoder\n",
    "from deepexplain.tensorflow import DeepExplain"
   ]
  },
  {
   "cell_type": "code",
   "execution_count": null,
   "metadata": {},
   "outputs": [],
   "source": [
    "''' Parameters for experiment '''\n",
    "threshold=\"0.001\"\n",
    "path_logs=\"/work/breastcancer/clean_test/logs/\"\n",
    "path_to_files=\"/work/breastcancer/clean_test/\""
   ]
  },
  {
   "cell_type": "code",
   "execution_count": null,
   "metadata": {},
   "outputs": [],
   "source": [
    "''' getting bim,fam,bed for training,validation and test sets '''\n",
    "(bim, fam, bed)=read_plink(path_to_files+\"train/sig\"+threshold)\n",
    "(bim2, fam2, bed2)=read_plink(path_to_files+\"validation/val\"+threshold)\n",
    "(bim3, fam3, bed3)=read_plink(path_to_files+\"test/test\"+threshold)"
   ]
  },
  {
   "cell_type": "code",
   "execution_count": null,
   "metadata": {},
   "outputs": [],
   "source": [
    "''' Creating arrays with optimal data structure and filling missing values with 2--> Homozygous major '''\n",
    "print(\"Convertion\")\n",
    "bed=bed.astype('uint8')\n",
    "print(\"Compute\")\n",
    "X=bed.compute()\n",
    "print(\"Filling Null Data\")\n",
    "X[np.isnan(X)]=2\n",
    "#validation\n",
    "print(\"Convertion\")\n",
    "bed2=bed2.astype('uint8')\n",
    "print(\"Compute\")\n",
    "X_val=bed2.compute()\n",
    "print(\"Filling Null Data\")\n",
    "X_val[np.isnan(X_val)]=2\n",
    "#test\n",
    "print(\"Convertion\")\n",
    "bed3=bed3.astype('uint8')\n",
    "print(\"Compute\")\n",
    "X_test=bed3.compute()\n",
    "print(\"Filling Null Data\")\n",
    "X_test[np.isnan(X_test)]=2\n",
    "\n",
    "''' Preparing data.shape=(individuals,SNP) '''\n",
    "#train\n",
    "Y=fam[\"trait\"].astype(\"int\")\n",
    "Y=Y-1\n",
    "Xdf=pd.DataFrame(X.T)\n",
    "Xdf[\"Y\"]=Y\n",
    "\n",
    "#validation\n",
    "Y_val=fam2[\"trait\"].astype(\"int\")\n",
    "Y_val=Y_val-1\n",
    "Xdf_val=pd.DataFrame(X_val.T)\n",
    "Xdf_val[\"Y\"]=Y_val\n",
    "\n",
    "#test\n",
    "Y_test=fam3[\"trait\"].astype(\"int\")\n",
    "Y_test=Y_test-1\n",
    "Xdf_test=pd.DataFrame(X_test.T)\n",
    "Xdf_test[\"Y\"]=Y_test\n",
    "\n",
    "''' Getting np arrays '''\n",
    "x_train=Xdf.drop(['Y'],axis=1).values\n",
    "y_train=Xdf[['Y']].values\n",
    "\n",
    "x_val=Xdf_val.drop(['Y'],axis=1).values\n",
    "y_val=Xdf_val[['Y']].values\n",
    "\n",
    "x_test=Xdf_test.drop(['Y'],axis=1).values\n",
    "y_test=Xdf_test[['Y']].values"
   ]
  },
  {
   "cell_type": "code",
   "execution_count": null,
   "metadata": {},
   "outputs": [],
   "source": [
    "'''Creating a Graph'''"
   ]
  },
  {
   "cell_type": "code",
   "execution_count": null,
   "metadata": {},
   "outputs": [],
   "source": [
    "tf.reset_default_graph()"
   ]
  },
  {
   "cell_type": "code",
   "execution_count": null,
   "metadata": {},
   "outputs": [],
   "source": [
    "sess.close()"
   ]
  },
  {
   "cell_type": "code",
   "execution_count": null,
   "metadata": {},
   "outputs": [],
   "source": [
    "sess = tf.InteractiveSession(config=tf.ConfigProto(device_count={ \"CPU\": 44}))\n"
   ]
  },
  {
   "cell_type": "code",
   "execution_count": null,
   "metadata": {},
   "outputs": [],
   "source": [
    "X=tf.placeholder(tf.float32,shape=(None,5273),name=\"X\")\n",
    "X_random=tf.placeholder(tf.float32,shape=(None,1),name=\"X\")\n",
    "Y=tf.placeholder(tf.float32,shape=(None,1),name=\"Y\")"
   ]
  },
  {
   "cell_type": "code",
   "execution_count": null,
   "metadata": {},
   "outputs": [],
   "source": [
    "'''Instanciating graph in DeepExplain context'''\n",
    "with DeepExplain(session=sess) as de:  # < enter DeepExplain context\n",
    "    training = tf.placeholder_with_default(False, shape=(), name='training')\n",
    "    initializer = tf.contrib.layers.xavier_initializer()\n",
    "    hidden00_drop= tf.layers.dropout(X, 0.5, training=training)\n",
    "    hidden01=tf.layers.dense(hidden00_drop, 1000, name=\"hidden01\",activation=None, kernel_initializer=initializer)\n",
    "    hidden01_norm=tf.layers.batch_normalization(hidden01, training=training, momentum=0.9)\n",
    "    act_hidden01=tf.nn.leaky_relu(hidden01_norm)\n",
    "    hidden01_drop = tf.layers.dropout(act_hidden01, 0.5, training=training)\n",
    "    hidden0=tf.layers.dense(hidden01_drop, 250, name=\"hidden0\",activation=None, kernel_initializer=initializer)\n",
    "    hidden0_norm=tf.layers.batch_normalization(hidden0, training=training, momentum=0.9)\n",
    "    act_hidden0=tf.nn.leaky_relu(hidden0_norm)\n",
    "    hidden0_drop = tf.layers.dropout(act_hidden0, 0.5, training=training)\n",
    "    hidden1=tf.layers.dense(hidden0_drop, 50, name=\"hidden1\",activation=None, kernel_initializer=initializer)\n",
    "    hidden1_norm=tf.layers.batch_normalization(hidden1, training=training, momentum=0.9)\n",
    "    act_hidden1=tf.nn.leaky_relu(hidden1_norm)\n",
    "    hidden1_drop = tf.layers.dropout(act_hidden1, 0.5, training=training)\n",
    "    output=tf.layers.dense(  hidden1_drop, 1, name=\"output_final\",activation=None)\n",
    "    saver=tf.train.Saver()\n",
    "    saver.restore(sess, path_logs+\"preprocessed001.ckpt\")\n",
    "    pred=sess.run(tf.nn.sigmoid(output),feed_dict={X:x_test,Y:y_test})\n",
    "    #0.67==Threshold whre precision=90%\n",
    "    important1=np.argwhere(pred==pred[pred>0.67])[:,0]\n",
    "    pred=sess.run(tf.nn.sigmoid(output),feed_dict={X:x_val,Y:y_val})\n",
    "    important2=np.argwhere(pred==pred[pred>0.67])[:,0]\n",
    "    explanation_test=de.explain('deeplift', output*y_test[important1], X, x_test[important1])\n",
    "    explanation_val=de.explain('deeplift', output*y_val[important2], X, x_val[important2])"
   ]
  },
  {
   "cell_type": "code",
   "execution_count": null,
   "metadata": {},
   "outputs": [],
   "source": [
    "average_test_explanation=np.mean(np.array(explanation_test),axis=0)\n",
    "average_val_explanation=np.mean(np.array(explanation_val),axis=0)"
   ]
  },
  {
   "cell_type": "code",
   "execution_count": null,
   "metadata": {},
   "outputs": [],
   "source": [
    "np.argwhere(pred==pred[pred>0.67]).shape"
   ]
  },
  {
   "cell_type": "code",
   "execution_count": null,
   "metadata": {},
   "outputs": [],
   "source": [
    "fig,ax=plt.subplots(figsize=(20,10))\n",
    "ax.bar([x for x  in range(aa.shape[0])],np.absolute(average_test_explanation))\n",
    "ax.set_xlabel(\"SNPs\")\n",
    "ax.set_ylabel(\"Importance absolute value\")\n",
    "plt.title(\"SNPs Importance using DeepLift test\")"
   ]
  },
  {
   "cell_type": "code",
   "execution_count": null,
   "metadata": {
    "scrolled": true
   },
   "outputs": [],
   "source": [
    "fig,ax=plt.subplots(figsize=(20,10))\n",
    "ax.bar([x for x  in range(average_val_explanation.shape[0])],np.absolute(average_val_explanation))\n",
    "ax.set_xlabel(\"SNPs\")\n",
    "ax.set_ylabel(\"Importance absolute value\")\n",
    "plt.title(\"SNPs Importance using DeepLift val\")"
   ]
  }
 ],
 "metadata": {
  "kernelspec": {
   "display_name": "Python 3",
   "language": "python",
   "name": "python3"
  },
  "language_info": {
   "codemirror_mode": {
    "name": "ipython",
    "version": 3
   },
   "file_extension": ".py",
   "mimetype": "text/x-python",
   "name": "python",
   "nbconvert_exporter": "python",
   "pygments_lexer": "ipython3",
   "version": "3.6.5"
  }
 },
 "nbformat": 4,
 "nbformat_minor": 2
}
