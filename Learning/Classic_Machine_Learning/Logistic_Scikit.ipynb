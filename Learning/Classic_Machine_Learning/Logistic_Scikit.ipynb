{
 "cells": [
  {
   "cell_type": "code",
   "execution_count": 1,
   "metadata": {},
   "outputs": [
    {
     "name": "stderr",
     "output_type": "stream",
     "text": [
      "/home/adbadre/.local/lib/python3.6/site-packages/tensorflow/python/framework/dtypes.py:516: FutureWarning: Passing (type, 1) or '1type' as a synonym of type is deprecated; in a future version of numpy, it will be understood as (type, (1,)) / '(1,)type'.\n",
      "  _np_qint8 = np.dtype([(\"qint8\", np.int8, 1)])\n",
      "/home/adbadre/.local/lib/python3.6/site-packages/tensorflow/python/framework/dtypes.py:517: FutureWarning: Passing (type, 1) or '1type' as a synonym of type is deprecated; in a future version of numpy, it will be understood as (type, (1,)) / '(1,)type'.\n",
      "  _np_quint8 = np.dtype([(\"quint8\", np.uint8, 1)])\n",
      "/home/adbadre/.local/lib/python3.6/site-packages/tensorflow/python/framework/dtypes.py:518: FutureWarning: Passing (type, 1) or '1type' as a synonym of type is deprecated; in a future version of numpy, it will be understood as (type, (1,)) / '(1,)type'.\n",
      "  _np_qint16 = np.dtype([(\"qint16\", np.int16, 1)])\n",
      "/home/adbadre/.local/lib/python3.6/site-packages/tensorflow/python/framework/dtypes.py:519: FutureWarning: Passing (type, 1) or '1type' as a synonym of type is deprecated; in a future version of numpy, it will be understood as (type, (1,)) / '(1,)type'.\n",
      "  _np_quint16 = np.dtype([(\"quint16\", np.uint16, 1)])\n",
      "/home/adbadre/.local/lib/python3.6/site-packages/tensorflow/python/framework/dtypes.py:520: FutureWarning: Passing (type, 1) or '1type' as a synonym of type is deprecated; in a future version of numpy, it will be understood as (type, (1,)) / '(1,)type'.\n",
      "  _np_qint32 = np.dtype([(\"qint32\", np.int32, 1)])\n",
      "/home/adbadre/.local/lib/python3.6/site-packages/tensorflow/python/framework/dtypes.py:525: FutureWarning: Passing (type, 1) or '1type' as a synonym of type is deprecated; in a future version of numpy, it will be understood as (type, (1,)) / '(1,)type'.\n",
      "  np_resource = np.dtype([(\"resource\", np.ubyte, 1)])\n",
      "/home/adbadre/.local/lib/python3.6/site-packages/tensorboard/compat/tensorflow_stub/dtypes.py:541: FutureWarning: Passing (type, 1) or '1type' as a synonym of type is deprecated; in a future version of numpy, it will be understood as (type, (1,)) / '(1,)type'.\n",
      "  _np_qint8 = np.dtype([(\"qint8\", np.int8, 1)])\n",
      "/home/adbadre/.local/lib/python3.6/site-packages/tensorboard/compat/tensorflow_stub/dtypes.py:542: FutureWarning: Passing (type, 1) or '1type' as a synonym of type is deprecated; in a future version of numpy, it will be understood as (type, (1,)) / '(1,)type'.\n",
      "  _np_quint8 = np.dtype([(\"quint8\", np.uint8, 1)])\n",
      "/home/adbadre/.local/lib/python3.6/site-packages/tensorboard/compat/tensorflow_stub/dtypes.py:543: FutureWarning: Passing (type, 1) or '1type' as a synonym of type is deprecated; in a future version of numpy, it will be understood as (type, (1,)) / '(1,)type'.\n",
      "  _np_qint16 = np.dtype([(\"qint16\", np.int16, 1)])\n",
      "/home/adbadre/.local/lib/python3.6/site-packages/tensorboard/compat/tensorflow_stub/dtypes.py:544: FutureWarning: Passing (type, 1) or '1type' as a synonym of type is deprecated; in a future version of numpy, it will be understood as (type, (1,)) / '(1,)type'.\n",
      "  _np_quint16 = np.dtype([(\"quint16\", np.uint16, 1)])\n",
      "/home/adbadre/.local/lib/python3.6/site-packages/tensorboard/compat/tensorflow_stub/dtypes.py:545: FutureWarning: Passing (type, 1) or '1type' as a synonym of type is deprecated; in a future version of numpy, it will be understood as (type, (1,)) / '(1,)type'.\n",
      "  _np_qint32 = np.dtype([(\"qint32\", np.int32, 1)])\n",
      "/home/adbadre/.local/lib/python3.6/site-packages/tensorboard/compat/tensorflow_stub/dtypes.py:550: FutureWarning: Passing (type, 1) or '1type' as a synonym of type is deprecated; in a future version of numpy, it will be understood as (type, (1,)) / '(1,)type'.\n",
      "  np_resource = np.dtype([(\"resource\", np.ubyte, 1)])\n",
      "/opt/oscer/software/scikit-learn/0.19.1-foss-2018a-Python-3.6.4/lib/python3.6/site-packages/sklearn/ensemble/weight_boosting.py:29: DeprecationWarning: numpy.core.umath_tests is an internal NumPy module and should not be imported. It will be removed in a future NumPy release.\n",
      "  from numpy.core.umath_tests import inner1d\n"
     ]
    }
   ],
   "source": [
    "%matplotlib inline\n",
    "import tensorflow as tf\n",
    "import numpy as np\n",
    "from pandas_plink import read_plink\n",
    "import pandas as pd\n",
    "import matplotlib.pyplot as plt\n",
    "from sklearn.decomposition import PCA\n",
    "from sklearn.linear_model import LogisticRegression\n",
    "from joblib import Parallel, delayed\n",
    "from sklearn import metrics\n",
    "from math import sqrt\n",
    "\n",
    "import random\n",
    "from sklearn.metrics import roc_curve\n",
    "from sklearn.metrics import accuracy_score\n",
    "from sklearn.metrics import auc\n",
    "from sklearn.metrics import confusion_matrix\n",
    "from sklearn.metrics import classification_report\n",
    "from sklearn.metrics import precision_score\n",
    "from sklearn.preprocessing import OneHotEncoder\n",
    "from sklearn.metrics import roc_auc_score\n",
    "from sklearn.tree import DecisionTreeClassifier\n",
    "from sklearn.ensemble import RandomForestClassifier,AdaBoostClassifier,GradientBoostingClassifier\n",
    "from sklearn.ensemble import BaggingClassifier\n",
    "from sklearn.multiclass import OneVsRestClassifier\n",
    "from sklearn.svm import SVC\n",
    "from sklearn.preprocessing import StandardScaler\n",
    "from sklearn.model_selection import GridSearchCV\n",
    "from sklearn.metrics import log_loss"
   ]
  },
  {
   "cell_type": "code",
   "execution_count": 2,
   "metadata": {},
   "outputs": [
    {
     "name": "stderr",
     "output_type": "stream",
     "text": [
      "Mapping files: 100%|██████████| 3/3 [00:00<00:00,  5.47it/s]\n",
      "Mapping files: 100%|██████████| 3/3 [00:00<00:00, 18.70it/s]\n",
      "Mapping files: 100%|██████████| 3/3 [00:00<00:00, 20.38it/s]\n"
     ]
    }
   ],
   "source": [
    "(bim, fam, bed)=read_plink(\"/work/breastcancer/clean_test/train/sig0.001\")\n",
    "(bim2, fam2, bed2)=read_plink(\"/work/breastcancer/clean_test/validation/val0.001\")\n",
    "(bim3, fam3, bed3)=read_plink(\"/work/breastcancer/clean_test/test/test0.001\")"
   ]
  },
  {
   "cell_type": "code",
   "execution_count": null,
   "metadata": {},
   "outputs": [],
   "source": []
  },
  {
   "cell_type": "code",
   "execution_count": null,
   "metadata": {},
   "outputs": [],
   "source": [
    "\n"
   ]
  },
  {
   "cell_type": "code",
   "execution_count": 3,
   "metadata": {},
   "outputs": [
    {
     "name": "stdout",
     "output_type": "stream",
     "text": [
      "     chrom                       snp   cm        pos a0 a1     i\n",
      "0        1                 rs4040605  0.0     856476  G  A     0\n",
      "1        1          chr1_1914124_C_T  0.0    1914124  A  G     1\n",
      "2        1          chr1_2501064_A_G  0.0    2501064  A  G     2\n",
      "3        1          chr1_3410935_A_G  0.0    3410935  A  G     3\n",
      "4        1          chr1_4515277_C_T  0.0    4515277  A  G     4\n",
      "5        1          chr1_5178521_A_C  0.0    5178521  C  A     5\n",
      "6        1                 rs2506889  0.0   10596022  A  G     6\n",
      "7        1         chr1_10598216_A_G  0.0   10598216  A  G     7\n",
      "8        1         chr1_10609973_G_T  0.0   10609973  A  C     8\n",
      "9        1                 rs9430149  0.0   10612820  C  G     9\n",
      "10       1                rs17035305  0.0   10616505  A  C    10\n",
      "11       1         chr1_10617906_A_T  0.0   10617906  T  A    11\n",
      "12       1                 rs4846235  0.0   10632235  A  G    12\n",
      "13       1         chr1_10700448_C_T  0.0   10700448  G  A    13\n",
      "14       1                  rs778228  0.0   10708142  G  A    14\n",
      "15       1         chr1_10709267_C_T  0.0   10709267  A  G    15\n",
      "16       1     chr1_10719375_G_INDEL  0.0   10719375  I  D    16\n",
      "17       1                  rs284322  0.0   10725498  A  G    17\n",
      "18       1         chr1_10730002_A_G  0.0   10730002  G  A    18\n",
      "19       1         chr1_10879725_A_G  0.0   10879725  G  A    19\n",
      "20       1                 rs4845877  0.0   11824303  A  G    20\n",
      "21       1                 rs6540999  0.0   11833366  A  G    21\n",
      "22       1                 rs6659541  0.0   11836442  G  A    22\n",
      "23       1         chr1_11836682_C_T  0.0   11836682  G  A    23\n",
      "24       1                 rs6697244  0.0   11838848  C  A    24\n",
      "25       1         chr1_11843167_A_G  0.0   11843167  A  G    25\n",
      "26       1                rs35134728  0.0   11847334  D  I    26\n",
      "27       1                rs70983598  0.0   11847339  D  I    27\n",
      "28       1                 rs1476413  0.0   11852300  A  G    28\n",
      "29       1                 rs1801131  0.0   11854476  C  A    29\n",
      "...    ...                       ...  ...        ... .. ..   ...\n",
      "5243    22                 rs4823650  0.0   47883698  G  A  5243\n",
      "5244    22                 rs5769415  0.0   49316305  A  G  5244\n",
      "5245    22        chr22_49317614_A_G  0.0   49317614  A  G  5245\n",
      "5246    22        corect_rs181578054  0.0   51084318  A  G  5246\n",
      "5247    23          chrX_3537035_C_T  0.0    3537035  A  G  5247\n",
      "5248    23                  rs239765  0.0   18868624  G  A  5248\n",
      "5249    23                 rs6630120  0.0   25736480  G  A  5249\n",
      "5250    23         chrX_37620412_C_T  0.0   37620412  A  G  5250\n",
      "5251    23  chrX_51249758_ATGA_INDEL  0.0   51249758  I  D  5251\n",
      "5252    23     chrX_62348191_G_INDEL  0.0   62348191  D  I  5252\n",
      "5253    23         chrX_65448725_C_T  0.0   65448725  G  A  5253\n",
      "5254    23     chrX_66472790_G_INDEL  0.0   66472790  I  D  5254\n",
      "5255    23         chrX_68562276_C_G  0.0   68562276  G  C  5255\n",
      "5256    23         chrX_81467918_C_T  0.0   81467918  G  A  5256\n",
      "5257    23                 rs7066183  0.0   85065849  G  A  5257\n",
      "5258    23                 rs2369579  0.0   86218517  A  G  5258\n",
      "5259    23                 rs6623913  0.0   86407623  G  A  5259\n",
      "5260    23         chrX_88349122_A_G  0.0   88349122  G  A  5260\n",
      "5261    23                rs17337750  0.0   95796116  A  G  5261\n",
      "5262    23        chrX_121623926_A_G  0.0  121623926  G  A  5262\n",
      "5263    23        chrX_121626224_C_T  0.0  121626224  G  A  5263\n",
      "5264    23        chrX_125912274_C_T  0.0  125912274  G  A  5264\n",
      "5265    23                 rs2273221  0.0  135310785  A  G  5265\n",
      "5266    23                 rs5975711  0.0  135350161  G  A  5266\n",
      "5267    23                 rs1174086  0.0  144553179  G  A  5267\n",
      "5268    23                 rs1174079  0.0  144557401  C  A  5268\n",
      "5269    23                rs12557711  0.0  145666265  C  A  5269\n",
      "5270    23                 rs5920253  0.0  145744293  G  A  5270\n",
      "5271    23        chrX_146095648_A_G  0.0  146095648  G  A  5271\n",
      "5272    23        chrX_152710845_A_T  0.0  152710845  T  A  5272\n",
      "\n",
      "[5273 rows x 7 columns]\n"
     ]
    }
   ],
   "source": [
    "print(bim)"
   ]
  },
  {
   "cell_type": "code",
   "execution_count": 4,
   "metadata": {},
   "outputs": [
    {
     "name": "stdout",
     "output_type": "stream",
     "text": [
      "Convertion\n",
      "Compute\n",
      "Filling Null Data\n"
     ]
    }
   ],
   "source": [
    "print(\"Convertion\")\n",
    "bed=bed.astype('uint8')\n",
    "print(\"Compute\")\n",
    "X=bed.compute()\n",
    "print(\"Filling Null Data\")\n",
    "X[np.isnan(X)]=2"
   ]
  },
  {
   "cell_type": "code",
   "execution_count": 5,
   "metadata": {},
   "outputs": [
    {
     "name": "stdout",
     "output_type": "stream",
     "text": [
      "Convertion\n",
      "Compute\n",
      "Filling Null Data\n"
     ]
    }
   ],
   "source": [
    "print(\"Convertion\")\n",
    "bedt=bed2.astype('uint8')\n",
    "print(\"Compute\")\n",
    "Xt=bedt.compute()\n",
    "print(\"Filling Null Data\")\n",
    "Xt[np.isnan(Xt)]=2"
   ]
  },
  {
   "cell_type": "code",
   "execution_count": 6,
   "metadata": {},
   "outputs": [
    {
     "name": "stdout",
     "output_type": "stream",
     "text": [
      "Convertion\n",
      "Compute\n",
      "Filling Null Data\n"
     ]
    }
   ],
   "source": [
    "print(\"Convertion\")\n",
    "bedtt=bed3.astype('uint8')\n",
    "print(\"Compute\")\n",
    "Xtt=bedtt.compute()\n",
    "print(\"Filling Null Data\")\n",
    "Xtt[np.isnan(Xtt)]=2"
   ]
  },
  {
   "cell_type": "code",
   "execution_count": 7,
   "metadata": {},
   "outputs": [
    {
     "name": "stdout",
     "output_type": "stream",
     "text": [
      "(5273, 39289)\n",
      "(5273, 4912)\n"
     ]
    }
   ],
   "source": [
    "print(X.shape)\n",
    "print(Xt.shape)"
   ]
  },
  {
   "cell_type": "code",
   "execution_count": 8,
   "metadata": {},
   "outputs": [],
   "source": [
    "Y=fam[\"trait\"].astype(\"int\")\n",
    "Y=Y-1\n",
    "Xdf=pd.DataFrame(X.T)\n",
    "Xdf[\"Y\"]=Y\n",
    "#Xdf=Xdf.sample(frac=1)"
   ]
  },
  {
   "cell_type": "code",
   "execution_count": 9,
   "metadata": {},
   "outputs": [],
   "source": [
    "Yt=fam2[\"trait\"].astype(\"int\")\n",
    "Yt=Yt-1\n",
    "Xdft=pd.DataFrame(Xt.T)\n",
    "Xdft[\"Y\"]=Yt\n",
    "#Xdf=Xdf.sample(frac=1)"
   ]
  },
  {
   "cell_type": "code",
   "execution_count": 10,
   "metadata": {},
   "outputs": [],
   "source": [
    "Ytt=fam3[\"trait\"].astype(\"int\")\n",
    "Ytt=Ytt-1\n",
    "Xdftt=pd.DataFrame(Xtt.T)\n",
    "Xdftt[\"Y\"]=Ytt\n",
    "#Xdf=Xdf.sample(frac=1)"
   ]
  },
  {
   "cell_type": "code",
   "execution_count": null,
   "metadata": {},
   "outputs": [],
   "source": []
  },
  {
   "cell_type": "code",
   "execution_count": 11,
   "metadata": {},
   "outputs": [
    {
     "name": "stdout",
     "output_type": "stream",
     "text": [
      "       0  1  2  3  4  5  6  7  8  9 ...  5264  5265  5266  5267  5268  5269  \\\n",
      "0      1  0  2  0  0  0  1  1  1  1 ...     0     2     2     1     1     0   \n",
      "1      0  1  1  0  1  2  2  2  2  2 ...     0     0     0     2     2     1   \n",
      "2      2  2  0  2  0  2  0  0  0  0 ...     0     1     1     2     2     1   \n",
      "3      2  0  0  2  1  2  1  1  1  1 ...     2     1     1     1     1     2   \n",
      "4      0  2  2  2  0  2  1  1  1  1 ...     2     0     0     2     2     1   \n",
      "5      1  2  1  2  0  2  1  1  1  1 ...     2     1     1     1     1     1   \n",
      "6      2  2  2  2  0  2  2  2  2  2 ...     2     1     1     2     2     1   \n",
      "7      0  2  2  2  1  2  2  2  2  2 ...     2     0     0     1     1     0   \n",
      "8      0  0  0  2  1  0  2  2  2  2 ...     2     0     0     0     0     2   \n",
      "9      1  2  0  0  0  2  1  1  1  1 ...     0     1     1     1     1     0   \n",
      "10     0  0  1  0  0  2  1  1  1  1 ...     0     1     1     1     1     2   \n",
      "11     1  0  0  2  2  0  2  2  2  2 ...     1     2     2     2     2     1   \n",
      "12     1  2  1  2  0  2  2  2  2  2 ...     2     1     1     1     1     0   \n",
      "13     2  0  1  2  0  0  1  1  1  1 ...     0     2     2     2     2     1   \n",
      "14     1  2  2  2  2  2  1  1  1  1 ...     0     1     0     2     2     1   \n",
      "15     0  1  0  1  0  0  2  2  2  2 ...     2     2     1     2     2     2   \n",
      "16     2  2  2  2  0  2  1  1  1  1 ...     2     0     0     1     1     2   \n",
      "17     0  1  0  0  1  0  2  2  1  2 ...     2     1     1     2     2     1   \n",
      "18     0  2  0  2  1  2  1  1  1  1 ...     2     1     1     1     1     0   \n",
      "19     2  2  2  2  1  2  1  1  1  1 ...     2     1     1     2     2     1   \n",
      "20     2  2  2  2  2  2  2  2  2  2 ...     2     2     2     1     1     1   \n",
      "21     2  2  2  2  0  2  2  2  2  2 ...     2     1     1     1     1     2   \n",
      "22     1  2  0  2  0  2  1  1  1  1 ...     2     2     2     1     1     1   \n",
      "23     0  2  1  2  1  0  2  2  2  2 ...     2     0     0     1     1     1   \n",
      "24     0  2  2  2  2  2  2  2  2  2 ...     2     2     2     1     1     0   \n",
      "25     0  2  1  2  0  2  1  1  1  1 ...     2     2     2     2     2     1   \n",
      "26     2  2  2  2  2  2  1  1  1  1 ...     2     1     1     0     0     1   \n",
      "27     2  0  2  2  1  2  2  2  2  0 ...     0     1     1     1     1     1   \n",
      "28     0  0  0  1  0  2  2  2  2  2 ...     2     1     1     1     1     2   \n",
      "29     2  2  2  1  2  2  1  1  1  1 ...     0     1     0     2     2     1   \n",
      "...   .. .. .. .. .. .. .. .. .. .. ...   ...   ...   ...   ...   ...   ...   \n",
      "39259  0  1  0  1  0  2  1  1  1  1 ...     2     2     2     2     2     0   \n",
      "39260  0  0  2  2  2  2  2  2  2  2 ...     0     0     0     1     1     2   \n",
      "39261  2  2  2  2  2  2  2  2  2  2 ...     2     1     1     1     1     1   \n",
      "39262  2  0  2  2  2  2  1  0  1  1 ...     2     1     1     1     1     0   \n",
      "39263  1  1  1  2  2  2  1  1  1  1 ...     2     2     2     1     1     0   \n",
      "39264  2  1  2  2  1  2  2  2  2  2 ...     1     2     2     2     2     2   \n",
      "39265  2  2  2  2  1  2  2  2  2  2 ...     2     1     1     1     1     1   \n",
      "39266  1  0  2  0  1  2  2  2  2  2 ...     2     1     2     1     1     0   \n",
      "39267  2  2  2  2  1  2  2  2  2  2 ...     2     0     0     2     2     2   \n",
      "39268  2  1  2  2  2  2  0  0  0  0 ...     0     0     0     1     1     2   \n",
      "39269  1  2  1  2  0  2  2  2  2  2 ...     2     1     1     2     2     2   \n",
      "39270  1  2  1  2  0  2  1  1  1  1 ...     2     1     1     2     2     0   \n",
      "39271  0  2  1  0  1  0  0  0  0  0 ...     1     1     1     2     2     0   \n",
      "39272  1  2  1  2  0  2  1  1  1  1 ...     2     1     1     1     1     1   \n",
      "39273  1  0  0  2  1  1  0  0  0  0 ...     0     2     2     0     0     1   \n",
      "39274  1  0  1  2  1  1  2  2  2  2 ...     2     1     1     1     1     1   \n",
      "39275  0  2  2  2  0  2  2  2  2  2 ...     0     1     1     2     2     2   \n",
      "39276  1  0  2  2  0  2  2  2  2  2 ...     2     0     0     2     2     1   \n",
      "39277  1  0  1  2  2  2  1  1  1  1 ...     2     2     2     2     2     0   \n",
      "39278  1  2  2  2  1  2  1  1  1  1 ...     2     1     1     2     2     2   \n",
      "39279  1  0  0  0  2  0  1  1  1  1 ...     0     0     0     2     2     1   \n",
      "39280  1  2  0  0  0  2  1  1  1  1 ...     0     0     0     2     2     0   \n",
      "39281  1  0  2  0  0  2  1  1  1  1 ...     0     2     2     2     2     1   \n",
      "39282  2  2  1  2  2  2  2  2  2  2 ...     2     0     0     2     2     1   \n",
      "39283  0  2  2  2  1  2  1  1  1  1 ...     2     0     0     0     0     1   \n",
      "39284  1  2  2  2  1  2  2  2  2  2 ...     2     1     1     0     0     2   \n",
      "39285  1  2  2  2  1  2  0  0  0  0 ...     2     2     2     0     0     1   \n",
      "39286  1  2  2  2  2  2  2  2  2  2 ...     0     2     2     1     1     1   \n",
      "39287  1  2  2  2  1  2  1  1  1  1 ...     2     0     0     2     2     2   \n",
      "39288  0  0  2  2  2  2  1  1  1  1 ...     2     1     1     1     1     0   \n",
      "\n",
      "       5270  5271  5272  Y  \n",
      "0         0     2     2  0  \n",
      "1         1     2     2  0  \n",
      "2         1     2     2  1  \n",
      "3         2     2     2  1  \n",
      "4         1     2     2  1  \n",
      "5         1     2     2  0  \n",
      "6         1     0     2  0  \n",
      "7         0     2     2  1  \n",
      "8         2     2     2  1  \n",
      "9         0     2     2  1  \n",
      "10        2     2     2  1  \n",
      "11        1     2     2  1  \n",
      "12        0     2     2  0  \n",
      "13        1     2     2  1  \n",
      "14        1     2     2  1  \n",
      "15        1     2     2  0  \n",
      "16        2     2     2  1  \n",
      "17        1     2     2  0  \n",
      "18        0     2     2  1  \n",
      "19        1     2     2  1  \n",
      "20        1     2     2  0  \n",
      "21        2     2     2  0  \n",
      "22        1     2     2  1  \n",
      "23        2     2     2  0  \n",
      "24        1     2     2  1  \n",
      "25        1     2     2  1  \n",
      "26        2     2     2  0  \n",
      "27        2     2     2  1  \n",
      "28        2     2     2  0  \n",
      "29        1     2     2  1  \n",
      "...     ...   ...   ... ..  \n",
      "39259     1     2     2  0  \n",
      "39260     2     2     2  1  \n",
      "39261     2     2     2  1  \n",
      "39262     1     2     2  0  \n",
      "39263     0     2     2  1  \n",
      "39264     2     2     2  0  \n",
      "39265     1     2     2  0  \n",
      "39266     0     2     2  0  \n",
      "39267     2     2     2  1  \n",
      "39268     2     2     2  0  \n",
      "39269     2     2     2  0  \n",
      "39270     0     2     2  0  \n",
      "39271     0     2     2  0  \n",
      "39272     1     2     2  0  \n",
      "39273     1     2     2  1  \n",
      "39274     1     2     2  0  \n",
      "39275     2     2     2  1  \n",
      "39276     1     2     2  0  \n",
      "39277     1     0     2  0  \n",
      "39278     2     2     2  0  \n",
      "39279     2     2     2  1  \n",
      "39280     0     2     2  0  \n",
      "39281     1     2     2  0  \n",
      "39282     1     2     2  1  \n",
      "39283     1     2     2  1  \n",
      "39284     2     2     2  1  \n",
      "39285     0     2     2  1  \n",
      "39286     1     2     2  1  \n",
      "39287     2     2     2  0  \n",
      "39288     0     2     2  1  \n",
      "\n",
      "[39289 rows x 5274 columns]\n"
     ]
    }
   ],
   "source": [
    "print(Xdf)"
   ]
  },
  {
   "cell_type": "code",
   "execution_count": 12,
   "metadata": {},
   "outputs": [
    {
     "name": "stdout",
     "output_type": "stream",
     "text": [
      "      0  1  2  3  4  5  6  7  8  9 ...  5264  5265  5266  5267  5268  5269  \\\n",
      "0     2  0  0  2  1  0  1  1  1  1 ...     0     1     2     2     2     1   \n",
      "1     1  2  1  2  1  2  1  1  1  1 ...     1     0     0     2     2     0   \n",
      "2     1  2  1  2  1  0  0  0  0  0 ...     2     1     1     2     2     2   \n",
      "3     2  1  2  2  2  2  0  0  0  0 ...     0     1     1     0     0     2   \n",
      "4     1  0  1  2  0  2  2  2  2  2 ...     2     1     1     1     1     1   \n",
      "5     0  1  0  1  0  0  2  2  2  2 ...     2     0     0     2     2     1   \n",
      "6     0  2  2  2  1  2  1  1  1  1 ...     2     2     2     1     2     1   \n",
      "7     0  2  0  2  0  2  1  1  1  1 ...     1     0     0     1     1     1   \n",
      "8     1  2  1  2  2  2  1  1  1  1 ...     2     1     1     1     1     1   \n",
      "9     2  2  2  2  0  2  2  2  2  2 ...     2     1     1     1     1     1   \n",
      "10    1  2  1  2  0  2  2  2  2  2 ...     2     2     2     1     1     1   \n",
      "11    1  0  0  2  1  2  1  1  1  1 ...     2     1     1     2     2     2   \n",
      "12    0  0  0  1  0  0  2  2  2  2 ...     0     1     1     0     0     1   \n",
      "13    0  0  2  2  1  2  2  2  2  2 ...     1     1     1     0     0     1   \n",
      "14    2  2  1  2  1  2  1  1  1  1 ...     2     1     1     2     2     2   \n",
      "15    2  2  0  2  2  2  1  1  1  1 ...     2     0     0     1     1     1   \n",
      "16    1  2  2  0  1  2  1  1  1  1 ...     2     2     2     1     1     1   \n",
      "17    2  2  2  2  0  2  2  2  2  2 ...     2     0     0     1     1     1   \n",
      "18    0  0  2  2  1  0  1  1  1  1 ...     2     1     1     2     2     1   \n",
      "19    1  1  2  2  2  2  2  2  2  2 ...     2     2     2     1     1     2   \n",
      "20    0  0  0  1  1  0  1  1  1  1 ...     1     1     1     2     2     0   \n",
      "21    0  2  1  2  0  2  2  2  2  2 ...     0     1     1     2     2     1   \n",
      "22    0  0  0  0  1  0  2  2  2  2 ...     0     1     1     1     1     1   \n",
      "23    0  0  0  2  0  0  2  2  2  2 ...     2     1     1     1     1     1   \n",
      "24    1  1  0  0  0  1  2  2  2  2 ...     2     2     2     0     0     1   \n",
      "25    1  0  2  2  1  2  1  1  1  1 ...     2     1     1     2     2     1   \n",
      "26    0  2  2  2  2  2  1  1  1  1 ...     2     1     1     0     0     2   \n",
      "27    0  0  2  0  1  0  0  0  0  0 ...     2     2     2     1     1     0   \n",
      "28    0  2  2  2  1  2  2  2  2  2 ...     2     2     2     1     1     1   \n",
      "29    0  2  2  2  0  2  0  0  0  0 ...     2     1     1     1     1     0   \n",
      "...  .. .. .. .. .. .. .. .. .. .. ...   ...   ...   ...   ...   ...   ...   \n",
      "4882  0  0  2  0  2  2  2  2  2  2 ...     2     1     1     0     0     2   \n",
      "4883  1  2  2  2  2  2  1  1  1  1 ...     2     1     1     1     1     1   \n",
      "4884  1  0  0  1  2  2  1  1  1  1 ...     1     1     1     2     2     1   \n",
      "4885  2  2  2  2  0  2  2  2  2  2 ...     2     0     0     1     1     2   \n",
      "4886  1  0  1  2  2  2  0  0  0  0 ...     2     2     2     0     0     1   \n",
      "4887  0  2  1  2  1  2  2  2  2  2 ...     0     1     1     1     1     0   \n",
      "4888  0  0  0  2  0  2  1  1  1  1 ...     0     2     2     2     2     1   \n",
      "4889  1  0  0  2  2  0  1  1  1  1 ...     0     2     2     2     2     2   \n",
      "4890  0  2  1  2  0  2  2  2  2  2 ...     2     2     2     2     2     2   \n",
      "4891  0  2  0  2  2  0  1  1  1  1 ...     2     0     1     2     2     0   \n",
      "4892  1  2  1  2  2  2  1  1  1  1 ...     2     1     1     2     2     1   \n",
      "4893  1  0  1  2  1  2  2  2  2  2 ...     2     2     2     1     1     0   \n",
      "4894  2  2  1  2  1  2  0  0  0  0 ...     2     1     1     1     1     0   \n",
      "4895  0  1  0  1  1  2  2  2  2  2 ...     2     1     1     1     1     2   \n",
      "4896  0  2  2  2  2  2  1  1  1  1 ...     2     1     1     1     1     1   \n",
      "4897  1  2  2  2  0  2  0  0  0  0 ...     2     2     2     0     0     2   \n",
      "4898  0  2  1  2  0  2  0  0  0  0 ...     2     1     1     2     2     2   \n",
      "4899  2  2  1  2  0  2  2  2  2  2 ...     2     2     2     2     2     1   \n",
      "4900  0  0  0  2  2  2  2  2  2  2 ...     2     1     1     1     1     0   \n",
      "4901  0  2  2  2  0  2  2  2  2  2 ...     0     1     1     1     1     2   \n",
      "4902  0  1  0  0  1  2  2  2  2  2 ...     0     1     1     1     1     2   \n",
      "4903  1  0  1  2  0  0  2  2  2  2 ...     2     1     1     1     1     0   \n",
      "4904  0  1  1  1  1  2  1  1  1  1 ...     0     2     1     2     2     1   \n",
      "4905  1  2  2  2  1  2  1  1  1  1 ...     0     2     2     2     2     0   \n",
      "4906  0  0  1  2  0  2  1  1  1  1 ...     2     2     2     2     2     1   \n",
      "4907  2  2  2  2  2  2  1  1  1  1 ...     2     1     0     2     2     1   \n",
      "4908  0  1  0  1  0  0  2  2  2  2 ...     0     0     0     2     2     2   \n",
      "4909  1  2  1  2  2  2  2  2  2  2 ...     2     1     1     1     1     1   \n",
      "4910  0  0  2  2  1  0  1  1  1  1 ...     0     1     1     1     1     1   \n",
      "4911  1  0  0  2  0  1  2  2  2  2 ...     2     1     1     1     1     0   \n",
      "\n",
      "      5270  5271  5272  Y  \n",
      "0        1     2     2  1  \n",
      "1        0     2     2  0  \n",
      "2        2     2     2  0  \n",
      "3        2     2     2  0  \n",
      "4        1     2     2  1  \n",
      "5        1     2     2  0  \n",
      "6        1     2     2  1  \n",
      "7        1     2     2  0  \n",
      "8        1     2     2  1  \n",
      "9        1     2     2  0  \n",
      "10       1     2     2  0  \n",
      "11       2     2     2  1  \n",
      "12       1     2     2  0  \n",
      "13       1     2     2  0  \n",
      "14       2     2     2  1  \n",
      "15       2     2     2  0  \n",
      "16       2     2     2  1  \n",
      "17       1     2     2  1  \n",
      "18       1     2     2  0  \n",
      "19       2     2     2  0  \n",
      "20       0     2     2  0  \n",
      "21       2     2     2  0  \n",
      "22       1     2     2  1  \n",
      "23       1     2     2  1  \n",
      "24       1     2     2  1  \n",
      "25       1     2     2  1  \n",
      "26       2     2     2  0  \n",
      "27       0     2     2  0  \n",
      "28       1     2     2  0  \n",
      "29       0     2     2  0  \n",
      "...    ...   ...   ... ..  \n",
      "4882     2     2     2  0  \n",
      "4883     1     2     2  1  \n",
      "4884     1     2     2  1  \n",
      "4885     2     2     2  1  \n",
      "4886     1     2     2  0  \n",
      "4887     1     2     2  1  \n",
      "4888     1     2     2  0  \n",
      "4889     2     2     2  1  \n",
      "4890     2     2     2  0  \n",
      "4891     0     2     2  1  \n",
      "4892     1     2     2  1  \n",
      "4893     0     2     2  1  \n",
      "4894     0     2     2  0  \n",
      "4895     2     2     2  0  \n",
      "4896     1     2     2  1  \n",
      "4897     2     2     2  0  \n",
      "4898     2     2     2  0  \n",
      "4899     1     2     2  0  \n",
      "4900     0     2     2  0  \n",
      "4901     2     2     2  0  \n",
      "4902     2     2     2  0  \n",
      "4903     0     2     2  0  \n",
      "4904     1     2     0  1  \n",
      "4905     0     2     2  1  \n",
      "4906     1     2     2  0  \n",
      "4907     1     2     2  1  \n",
      "4908     2     2     2  1  \n",
      "4909     1     2     2  0  \n",
      "4910     1     2     2  1  \n",
      "4911     0     2     2  0  \n",
      "\n",
      "[4912 rows x 5274 columns]\n"
     ]
    }
   ],
   "source": [
    "print(Xdft)"
   ]
  },
  {
   "cell_type": "code",
   "execution_count": 13,
   "metadata": {},
   "outputs": [],
   "source": [
    "x=Xdf.drop(['Y'],axis=1).values\n",
    "y=Xdf[['Y']].values"
   ]
  },
  {
   "cell_type": "code",
   "execution_count": 14,
   "metadata": {},
   "outputs": [],
   "source": [
    "xt=Xdft.drop(['Y'],axis=1).values\n",
    "yt=Xdft[['Y']].values"
   ]
  },
  {
   "cell_type": "code",
   "execution_count": 15,
   "metadata": {},
   "outputs": [],
   "source": [
    "xtt=Xdftt.drop(['Y'],axis=1).values\n",
    "ytt=Xdftt[['Y']].values"
   ]
  },
  {
   "cell_type": "code",
   "execution_count": 16,
   "metadata": {
    "scrolled": true
   },
   "outputs": [
    {
     "name": "stdout",
     "output_type": "stream",
     "text": [
      "(39289, 5273) (39289, 1)\n"
     ]
    }
   ],
   "source": [
    "#sc = StandardScaler()\n",
    "#sc.fit(x)\n",
    "print(x.shape,y.shape)\n",
    "x_val=xt#sc.transform(xt)\n",
    "y_val=yt\n",
    "x_train=x#sc.transform(x)\n",
    "y_train=y\n",
    "x_test=xtt#sc.transform(xtt)\n",
    "y_test=ytt"
   ]
  },
  {
   "cell_type": "code",
   "execution_count": 17,
   "metadata": {},
   "outputs": [
    {
     "data": {
      "text/plain": [
       "array([[1],\n",
       "       [1],\n",
       "       [1],\n",
       "       ...,\n",
       "       [0],\n",
       "       [1],\n",
       "       [1]])"
      ]
     },
     "execution_count": 17,
     "metadata": {},
     "output_type": "execute_result"
    }
   ],
   "source": [
    "ytt"
   ]
  },
  {
   "cell_type": "code",
   "execution_count": 18,
   "metadata": {},
   "outputs": [
    {
     "data": {
      "text/plain": [
       "(array([2280.,    0.,    0.,    0.,    0.,    0.,    0.,    0.,    0.,\n",
       "        2632.]),\n",
       " array([0. , 0.1, 0.2, 0.3, 0.4, 0.5, 0.6, 0.7, 0.8, 0.9, 1. ]),\n",
       " <a list of 10 Patch objects>)"
      ]
     },
     "execution_count": 18,
     "metadata": {},
     "output_type": "execute_result"
    },
    {
     "data": {
      "image/png": "[encoded data removed]",
      "text/plain": [
       "<matplotlib.figure.Figure at 0x2b9d68c7c3c8>"
      ]
     },
     "metadata": {
      "needs_background": "light"
     },
     "output_type": "display_data"
    }
   ],
   "source": [
    "fig,ax=plt.subplots(figsize=(5,5))\n",
    "ax.hist(ytt)"
   ]
  },
  {
   "cell_type": "code",
   "execution_count": 19,
   "metadata": {},
   "outputs": [],
   "source": [
    "acc_val=[]\n",
    "acc_train=[]\n",
    "auc_train=[]\n",
    "auc_val=[]\n",
    "models=[]"
   ]
  },
  {
   "cell_type": "code",
   "execution_count": 20,
   "metadata": {},
   "outputs": [
    {
     "data": {
      "text/plain": [
       "(39289, 5273)"
      ]
     },
     "execution_count": 20,
     "metadata": {},
     "output_type": "execute_result"
    }
   ],
   "source": [
    "x_train.shape"
   ]
  },
  {
   "cell_type": "code",
   "execution_count": 22,
   "metadata": {},
   "outputs": [
    {
     "name": "stderr",
     "output_type": "stream",
     "text": [
      "\n",
      "Mapping files:   0%|          | 0/3 [00:00<?, ?it/s]\u001b[A\n",
      "Mapping files: 100%|██████████| 3/3 [00:00<00:00, 26.14it/s]\u001b[A\n",
      "Mapping files:   0%|          | 0/3 [00:00<?, ?it/s]\u001b[A\n",
      "Mapping files: 100%|██████████| 3/3 [00:00<00:00, 94.87it/s]\u001b[A"
     ]
    },
    {
     "name": "stdout",
     "output_type": "stream",
     "text": [
      "Convertion\n",
      "Compute\n",
      "Filling Null Data\n",
      "Convertion\n",
      "Compute\n",
      "Filling Null Data\n",
      "Step 20 Accuracy_train 0.660483 AUC_train 0.724716 Accuracy_val 0.611991 AUC_val 0.665101  \n",
      "Step 21 Accuracy_train 0.661589 AUC_train 0.726510 Accuracy_val 0.610633 AUC_val 0.664318  \n",
      "Step 22 Accuracy_train 0.663273 AUC_train 0.731657 Accuracy_val 0.613348 AUC_val 0.662664  \n",
      "Step 23 Accuracy_train 0.665510 AUC_train 0.733923 Accuracy_val 0.608371 AUC_val 0.657758  \n",
      "Step 24 Accuracy_train 0.669482 AUC_train 0.737192 Accuracy_val 0.609729 AUC_val 0.661810  \n",
      "Step 25 Accuracy_train 0.672298 AUC_train 0.740188 Accuracy_val 0.612443 AUC_val 0.665166  \n",
      "Step 26 Accuracy_train 0.673027 AUC_train 0.740794 Accuracy_val 0.612217 AUC_val 0.665639  \n",
      "Step 27 Accuracy_train 0.674535 AUC_train 0.742084 Accuracy_val 0.611538 AUC_val 0.665774  \n",
      "Step 28 Accuracy_train 0.676043 AUC_train 0.744612 Accuracy_val 0.610633 AUC_val 0.665051  \n",
      "Step 29 Accuracy_train 0.677275 AUC_train 0.747282 Accuracy_val 0.610633 AUC_val 0.663410  \n",
      "Step 30 Accuracy_train 0.679060 AUC_train 0.749562 Accuracy_val 0.605656 AUC_val 0.659596  \n",
      "Step 31 Accuracy_train 0.680166 AUC_train 0.750595 Accuracy_val 0.608145 AUC_val 0.659825  \n"
     ]
    },
    {
     "ename": "KeyboardInterrupt",
     "evalue": "",
     "output_type": "error",
     "traceback": [
      "\u001b[0;31m---------------------------------------------------------------------------\u001b[0m",
      "\u001b[0;31mKeyboardInterrupt\u001b[0m                         Traceback (most recent call last)",
      "\u001b[0;32m<ipython-input-22-e1cf7148b1b6>\u001b[0m in \u001b[0;36m<module>\u001b[0;34m\u001b[0m\n\u001b[1;32m     36\u001b[0m     \u001b[0mbest_model\u001b[0m\u001b[0;34m=\u001b[0m\u001b[0;32mNone\u001b[0m\u001b[0;34m\u001b[0m\u001b[0m\n\u001b[1;32m     37\u001b[0m     \u001b[0;32mfor\u001b[0m \u001b[0mi\u001b[0m \u001b[0;32min\u001b[0m \u001b[0mrange\u001b[0m\u001b[0;34m(\u001b[0m\u001b[0;36m20\u001b[0m\u001b[0;34m,\u001b[0m\u001b[0;36m41\u001b[0m\u001b[0;34m)\u001b[0m\u001b[0;34m:\u001b[0m\u001b[0;34m\u001b[0m\u001b[0m\n\u001b[0;32m---> 38\u001b[0;31m         \u001b[0mclf\u001b[0m \u001b[0;34m=\u001b[0m \u001b[0mLogisticRegression\u001b[0m\u001b[0;34m(\u001b[0m\u001b[0mrandom_state\u001b[0m\u001b[0;34m=\u001b[0m\u001b[0;36m0\u001b[0m\u001b[0;34m,\u001b[0m \u001b[0msolver\u001b[0m\u001b[0;34m=\u001b[0m\u001b[0;34m'lbfgs'\u001b[0m\u001b[0;34m,\u001b[0m\u001b[0mmulti_class\u001b[0m\u001b[0;34m=\u001b[0m\u001b[0;34m'ovr'\u001b[0m\u001b[0;34m,\u001b[0m\u001b[0mmax_iter\u001b[0m \u001b[0;34m=\u001b[0m\u001b[0mi\u001b[0m\u001b[0;34m)\u001b[0m\u001b[0;34m.\u001b[0m\u001b[0mfit\u001b[0m\u001b[0;34m(\u001b[0m\u001b[0mx_train\u001b[0m\u001b[0;34m,\u001b[0m \u001b[0my_train\u001b[0m\u001b[0;34m[\u001b[0m\u001b[0;34m:\u001b[0m\u001b[0;34m,\u001b[0m\u001b[0;36m0\u001b[0m\u001b[0;34m]\u001b[0m\u001b[0;34m)\u001b[0m\u001b[0;34m\u001b[0m\u001b[0m\n\u001b[0m\u001b[1;32m     39\u001b[0m         \u001b[0mac\u001b[0m\u001b[0;34m=\u001b[0m\u001b[0mclf\u001b[0m\u001b[0;34m.\u001b[0m\u001b[0mscore\u001b[0m\u001b[0;34m(\u001b[0m\u001b[0mx_val\u001b[0m\u001b[0;34m,\u001b[0m \u001b[0my_val\u001b[0m\u001b[0;34m)\u001b[0m\u001b[0;34m\u001b[0m\u001b[0m\n\u001b[1;32m     40\u001b[0m         \u001b[0mac_train\u001b[0m\u001b[0;34m=\u001b[0m\u001b[0mclf\u001b[0m\u001b[0;34m.\u001b[0m\u001b[0mscore\u001b[0m\u001b[0;34m(\u001b[0m\u001b[0mx_train\u001b[0m\u001b[0;34m,\u001b[0m \u001b[0my_train\u001b[0m\u001b[0;34m)\u001b[0m\u001b[0;34m\u001b[0m\u001b[0m\n",
      "\u001b[0;32m/opt/oscer/software/scikit-learn/0.19.1-foss-2018a-Python-3.6.4/lib/python3.6/site-packages/sklearn/linear_model/logistic.py\u001b[0m in \u001b[0;36mfit\u001b[0;34m(self, X, y, sample_weight)\u001b[0m\n\u001b[1;32m   1289\u001b[0m                       \u001b[0mmax_squared_sum\u001b[0m\u001b[0;34m=\u001b[0m\u001b[0mmax_squared_sum\u001b[0m\u001b[0;34m,\u001b[0m\u001b[0;34m\u001b[0m\u001b[0m\n\u001b[1;32m   1290\u001b[0m                       sample_weight=sample_weight)\n\u001b[0;32m-> 1291\u001b[0;31m             for class_, warm_start_coef_ in zip(classes_, warm_start_coef))\n\u001b[0m\u001b[1;32m   1292\u001b[0m \u001b[0;34m\u001b[0m\u001b[0m\n\u001b[1;32m   1293\u001b[0m         \u001b[0mfold_coefs_\u001b[0m\u001b[0;34m,\u001b[0m \u001b[0m_\u001b[0m\u001b[0;34m,\u001b[0m \u001b[0mn_iter_\u001b[0m \u001b[0;34m=\u001b[0m \u001b[0mzip\u001b[0m\u001b[0;34m(\u001b[0m\u001b[0;34m*\u001b[0m\u001b[0mfold_coefs_\u001b[0m\u001b[0;34m)\u001b[0m\u001b[0;34m\u001b[0m\u001b[0m\n",
      "\u001b[0;32m/opt/oscer/software/scikit-learn/0.19.1-foss-2018a-Python-3.6.4/lib/python3.6/site-packages/sklearn/externals/joblib/parallel.py\u001b[0m in \u001b[0;36m__call__\u001b[0;34m(self, iterable)\u001b[0m\n\u001b[1;32m    777\u001b[0m             \u001b[0;31m# was dispatched. In particular this covers the edge\u001b[0m\u001b[0;34m\u001b[0m\u001b[0;34m\u001b[0m\u001b[0m\n\u001b[1;32m    778\u001b[0m             \u001b[0;31m# case of Parallel used with an exhausted iterator.\u001b[0m\u001b[0;34m\u001b[0m\u001b[0;34m\u001b[0m\u001b[0m\n\u001b[0;32m--> 779\u001b[0;31m             \u001b[0;32mwhile\u001b[0m \u001b[0mself\u001b[0m\u001b[0;34m.\u001b[0m\u001b[0mdispatch_one_batch\u001b[0m\u001b[0;34m(\u001b[0m\u001b[0miterator\u001b[0m\u001b[0;34m)\u001b[0m\u001b[0;34m:\u001b[0m\u001b[0;34m\u001b[0m\u001b[0m\n\u001b[0m\u001b[1;32m    780\u001b[0m                 \u001b[0mself\u001b[0m\u001b[0;34m.\u001b[0m\u001b[0m_iterating\u001b[0m \u001b[0;34m=\u001b[0m \u001b[0;32mTrue\u001b[0m\u001b[0;34m\u001b[0m\u001b[0m\n\u001b[1;32m    781\u001b[0m             \u001b[0;32melse\u001b[0m\u001b[0;34m:\u001b[0m\u001b[0;34m\u001b[0m\u001b[0m\n",
      "\u001b[0;32m/opt/oscer/software/scikit-learn/0.19.1-foss-2018a-Python-3.6.4/lib/python3.6/site-packages/sklearn/externals/joblib/parallel.py\u001b[0m in \u001b[0;36mdispatch_one_batch\u001b[0;34m(self, iterator)\u001b[0m\n\u001b[1;32m    623\u001b[0m                 \u001b[0;32mreturn\u001b[0m \u001b[0;32mFalse\u001b[0m\u001b[0;34m\u001b[0m\u001b[0m\n\u001b[1;32m    624\u001b[0m             \u001b[0;32melse\u001b[0m\u001b[0;34m:\u001b[0m\u001b[0;34m\u001b[0m\u001b[0m\n\u001b[0;32m--> 625\u001b[0;31m                 \u001b[0mself\u001b[0m\u001b[0;34m.\u001b[0m\u001b[0m_dispatch\u001b[0m\u001b[0;34m(\u001b[0m\u001b[0mtasks\u001b[0m\u001b[0;34m)\u001b[0m\u001b[0;34m\u001b[0m\u001b[0m\n\u001b[0m\u001b[1;32m    626\u001b[0m                 \u001b[0;32mreturn\u001b[0m \u001b[0;32mTrue\u001b[0m\u001b[0;34m\u001b[0m\u001b[0m\n\u001b[1;32m    627\u001b[0m \u001b[0;34m\u001b[0m\u001b[0m\n",
      "\u001b[0;32m/opt/oscer/software/scikit-learn/0.19.1-foss-2018a-Python-3.6.4/lib/python3.6/site-packages/sklearn/externals/joblib/parallel.py\u001b[0m in \u001b[0;36m_dispatch\u001b[0;34m(self, batch)\u001b[0m\n\u001b[1;32m    586\u001b[0m         \u001b[0mdispatch_timestamp\u001b[0m \u001b[0;34m=\u001b[0m \u001b[0mtime\u001b[0m\u001b[0;34m.\u001b[0m\u001b[0mtime\u001b[0m\u001b[0;34m(\u001b[0m\u001b[0;34m)\u001b[0m\u001b[0;34m\u001b[0m\u001b[0m\n\u001b[1;32m    587\u001b[0m         \u001b[0mcb\u001b[0m \u001b[0;34m=\u001b[0m \u001b[0mBatchCompletionCallBack\u001b[0m\u001b[0;34m(\u001b[0m\u001b[0mdispatch_timestamp\u001b[0m\u001b[0;34m,\u001b[0m \u001b[0mlen\u001b[0m\u001b[0;34m(\u001b[0m\u001b[0mbatch\u001b[0m\u001b[0;34m)\u001b[0m\u001b[0;34m,\u001b[0m \u001b[0mself\u001b[0m\u001b[0;34m)\u001b[0m\u001b[0;34m\u001b[0m\u001b[0m\n\u001b[0;32m--> 588\u001b[0;31m         \u001b[0mjob\u001b[0m \u001b[0;34m=\u001b[0m \u001b[0mself\u001b[0m\u001b[0;34m.\u001b[0m\u001b[0m_backend\u001b[0m\u001b[0;34m.\u001b[0m\u001b[0mapply_async\u001b[0m\u001b[0;34m(\u001b[0m\u001b[0mbatch\u001b[0m\u001b[0;34m,\u001b[0m \u001b[0mcallback\u001b[0m\u001b[0;34m=\u001b[0m\u001b[0mcb\u001b[0m\u001b[0;34m)\u001b[0m\u001b[0;34m\u001b[0m\u001b[0m\n\u001b[0m\u001b[1;32m    589\u001b[0m         \u001b[0mself\u001b[0m\u001b[0;34m.\u001b[0m\u001b[0m_jobs\u001b[0m\u001b[0;34m.\u001b[0m\u001b[0mappend\u001b[0m\u001b[0;34m(\u001b[0m\u001b[0mjob\u001b[0m\u001b[0;34m)\u001b[0m\u001b[0;34m\u001b[0m\u001b[0m\n\u001b[1;32m    590\u001b[0m \u001b[0;34m\u001b[0m\u001b[0m\n",
      "\u001b[0;32m/opt/oscer/software/scikit-learn/0.19.1-foss-2018a-Python-3.6.4/lib/python3.6/site-packages/sklearn/externals/joblib/_parallel_backends.py\u001b[0m in \u001b[0;36mapply_async\u001b[0;34m(self, func, callback)\u001b[0m\n\u001b[1;32m    109\u001b[0m     \u001b[0;32mdef\u001b[0m \u001b[0mapply_async\u001b[0m\u001b[0;34m(\u001b[0m\u001b[0mself\u001b[0m\u001b[0;34m,\u001b[0m \u001b[0mfunc\u001b[0m\u001b[0;34m,\u001b[0m \u001b[0mcallback\u001b[0m\u001b[0;34m=\u001b[0m\u001b[0;32mNone\u001b[0m\u001b[0;34m)\u001b[0m\u001b[0;34m:\u001b[0m\u001b[0;34m\u001b[0m\u001b[0m\n\u001b[1;32m    110\u001b[0m         \u001b[0;34m\"\"\"Schedule a func to be run\"\"\"\u001b[0m\u001b[0;34m\u001b[0m\u001b[0m\n\u001b[0;32m--> 111\u001b[0;31m         \u001b[0mresult\u001b[0m \u001b[0;34m=\u001b[0m \u001b[0mImmediateResult\u001b[0m\u001b[0;34m(\u001b[0m\u001b[0mfunc\u001b[0m\u001b[0;34m)\u001b[0m\u001b[0;34m\u001b[0m\u001b[0m\n\u001b[0m\u001b[1;32m    112\u001b[0m         \u001b[0;32mif\u001b[0m \u001b[0mcallback\u001b[0m\u001b[0;34m:\u001b[0m\u001b[0;34m\u001b[0m\u001b[0m\n\u001b[1;32m    113\u001b[0m             \u001b[0mcallback\u001b[0m\u001b[0;34m(\u001b[0m\u001b[0mresult\u001b[0m\u001b[0;34m)\u001b[0m\u001b[0;34m\u001b[0m\u001b[0m\n",
      "\u001b[0;32m/opt/oscer/software/scikit-learn/0.19.1-foss-2018a-Python-3.6.4/lib/python3.6/site-packages/sklearn/externals/joblib/_parallel_backends.py\u001b[0m in \u001b[0;36m__init__\u001b[0;34m(self, batch)\u001b[0m\n\u001b[1;32m    330\u001b[0m         \u001b[0;31m# Don't delay the application, to avoid keeping the input\u001b[0m\u001b[0;34m\u001b[0m\u001b[0;34m\u001b[0m\u001b[0m\n\u001b[1;32m    331\u001b[0m         \u001b[0;31m# arguments in memory\u001b[0m\u001b[0;34m\u001b[0m\u001b[0;34m\u001b[0m\u001b[0m\n\u001b[0;32m--> 332\u001b[0;31m         \u001b[0mself\u001b[0m\u001b[0;34m.\u001b[0m\u001b[0mresults\u001b[0m \u001b[0;34m=\u001b[0m \u001b[0mbatch\u001b[0m\u001b[0;34m(\u001b[0m\u001b[0;34m)\u001b[0m\u001b[0;34m\u001b[0m\u001b[0m\n\u001b[0m\u001b[1;32m    333\u001b[0m \u001b[0;34m\u001b[0m\u001b[0m\n\u001b[1;32m    334\u001b[0m     \u001b[0;32mdef\u001b[0m \u001b[0mget\u001b[0m\u001b[0;34m(\u001b[0m\u001b[0mself\u001b[0m\u001b[0;34m)\u001b[0m\u001b[0;34m:\u001b[0m\u001b[0;34m\u001b[0m\u001b[0m\n",
      "\u001b[0;32m/opt/oscer/software/scikit-learn/0.19.1-foss-2018a-Python-3.6.4/lib/python3.6/site-packages/sklearn/externals/joblib/parallel.py\u001b[0m in \u001b[0;36m__call__\u001b[0;34m(self)\u001b[0m\n\u001b[1;32m    129\u001b[0m \u001b[0;34m\u001b[0m\u001b[0m\n\u001b[1;32m    130\u001b[0m     \u001b[0;32mdef\u001b[0m \u001b[0m__call__\u001b[0m\u001b[0;34m(\u001b[0m\u001b[0mself\u001b[0m\u001b[0;34m)\u001b[0m\u001b[0;34m:\u001b[0m\u001b[0;34m\u001b[0m\u001b[0m\n\u001b[0;32m--> 131\u001b[0;31m         \u001b[0;32mreturn\u001b[0m \u001b[0;34m[\u001b[0m\u001b[0mfunc\u001b[0m\u001b[0;34m(\u001b[0m\u001b[0;34m*\u001b[0m\u001b[0margs\u001b[0m\u001b[0;34m,\u001b[0m \u001b[0;34m**\u001b[0m\u001b[0mkwargs\u001b[0m\u001b[0;34m)\u001b[0m \u001b[0;32mfor\u001b[0m \u001b[0mfunc\u001b[0m\u001b[0;34m,\u001b[0m \u001b[0margs\u001b[0m\u001b[0;34m,\u001b[0m \u001b[0mkwargs\u001b[0m \u001b[0;32min\u001b[0m \u001b[0mself\u001b[0m\u001b[0;34m.\u001b[0m\u001b[0mitems\u001b[0m\u001b[0;34m]\u001b[0m\u001b[0;34m\u001b[0m\u001b[0m\n\u001b[0m\u001b[1;32m    132\u001b[0m \u001b[0;34m\u001b[0m\u001b[0m\n\u001b[1;32m    133\u001b[0m     \u001b[0;32mdef\u001b[0m \u001b[0m__len__\u001b[0m\u001b[0;34m(\u001b[0m\u001b[0mself\u001b[0m\u001b[0;34m)\u001b[0m\u001b[0;34m:\u001b[0m\u001b[0;34m\u001b[0m\u001b[0m\n",
      "\u001b[0;32m/opt/oscer/software/scikit-learn/0.19.1-foss-2018a-Python-3.6.4/lib/python3.6/site-packages/sklearn/externals/joblib/parallel.py\u001b[0m in \u001b[0;36m<listcomp>\u001b[0;34m(.0)\u001b[0m\n\u001b[1;32m    129\u001b[0m \u001b[0;34m\u001b[0m\u001b[0m\n\u001b[1;32m    130\u001b[0m     \u001b[0;32mdef\u001b[0m \u001b[0m__call__\u001b[0m\u001b[0;34m(\u001b[0m\u001b[0mself\u001b[0m\u001b[0;34m)\u001b[0m\u001b[0;34m:\u001b[0m\u001b[0;34m\u001b[0m\u001b[0m\n\u001b[0;32m--> 131\u001b[0;31m         \u001b[0;32mreturn\u001b[0m \u001b[0;34m[\u001b[0m\u001b[0mfunc\u001b[0m\u001b[0;34m(\u001b[0m\u001b[0;34m*\u001b[0m\u001b[0margs\u001b[0m\u001b[0;34m,\u001b[0m \u001b[0;34m**\u001b[0m\u001b[0mkwargs\u001b[0m\u001b[0;34m)\u001b[0m \u001b[0;32mfor\u001b[0m \u001b[0mfunc\u001b[0m\u001b[0;34m,\u001b[0m \u001b[0margs\u001b[0m\u001b[0;34m,\u001b[0m \u001b[0mkwargs\u001b[0m \u001b[0;32min\u001b[0m \u001b[0mself\u001b[0m\u001b[0;34m.\u001b[0m\u001b[0mitems\u001b[0m\u001b[0;34m]\u001b[0m\u001b[0;34m\u001b[0m\u001b[0m\n\u001b[0m\u001b[1;32m    132\u001b[0m \u001b[0;34m\u001b[0m\u001b[0m\n\u001b[1;32m    133\u001b[0m     \u001b[0;32mdef\u001b[0m \u001b[0m__len__\u001b[0m\u001b[0;34m(\u001b[0m\u001b[0mself\u001b[0m\u001b[0;34m)\u001b[0m\u001b[0;34m:\u001b[0m\u001b[0;34m\u001b[0m\u001b[0m\n",
      "\u001b[0;32m/opt/oscer/software/scikit-learn/0.19.1-foss-2018a-Python-3.6.4/lib/python3.6/site-packages/sklearn/linear_model/logistic.py\u001b[0m in \u001b[0;36mlogistic_regression_path\u001b[0;34m(X, y, pos_class, Cs, fit_intercept, max_iter, tol, verbose, solver, coef, class_weight, dual, penalty, intercept_scaling, multi_class, random_state, check_input, max_squared_sum, sample_weight)\u001b[0m\n\u001b[1;32m    708\u001b[0m                     \u001b[0mfunc\u001b[0m\u001b[0;34m,\u001b[0m \u001b[0mw0\u001b[0m\u001b[0;34m,\u001b[0m \u001b[0mfprime\u001b[0m\u001b[0;34m=\u001b[0m\u001b[0;32mNone\u001b[0m\u001b[0;34m,\u001b[0m\u001b[0;34m\u001b[0m\u001b[0m\n\u001b[1;32m    709\u001b[0m                     \u001b[0margs\u001b[0m\u001b[0;34m=\u001b[0m\u001b[0;34m(\u001b[0m\u001b[0mX\u001b[0m\u001b[0;34m,\u001b[0m \u001b[0mtarget\u001b[0m\u001b[0;34m,\u001b[0m \u001b[0;36m1.\u001b[0m \u001b[0;34m/\u001b[0m \u001b[0mC\u001b[0m\u001b[0;34m,\u001b[0m \u001b[0msample_weight\u001b[0m\u001b[0;34m)\u001b[0m\u001b[0;34m,\u001b[0m\u001b[0;34m\u001b[0m\u001b[0m\n\u001b[0;32m--> 710\u001b[0;31m                     iprint=(verbose > 0) - 1, pgtol=tol, maxiter=max_iter)\n\u001b[0m\u001b[1;32m    711\u001b[0m             \u001b[0;32mexcept\u001b[0m \u001b[0mTypeError\u001b[0m\u001b[0;34m:\u001b[0m\u001b[0;34m\u001b[0m\u001b[0m\n\u001b[1;32m    712\u001b[0m                 \u001b[0;31m# old scipy doesn't have maxiter\u001b[0m\u001b[0;34m\u001b[0m\u001b[0;34m\u001b[0m\u001b[0m\n",
      "\u001b[0;32m/opt/oscer/software/Python/3.6.4-foss-2018a/lib/python3.6/site-packages/scipy-1.0.0-py3.6-linux-x86_64.egg/scipy/optimize/lbfgsb.py\u001b[0m in \u001b[0;36mfmin_l_bfgs_b\u001b[0;34m(func, x0, fprime, args, approx_grad, bounds, m, factr, pgtol, epsilon, iprint, maxfun, maxiter, disp, callback, maxls)\u001b[0m\n\u001b[1;32m    197\u001b[0m \u001b[0;34m\u001b[0m\u001b[0m\n\u001b[1;32m    198\u001b[0m     res = _minimize_lbfgsb(fun, x0, args=args, jac=jac, bounds=bounds,\n\u001b[0;32m--> 199\u001b[0;31m                            **opts)\n\u001b[0m\u001b[1;32m    200\u001b[0m     d = {'grad': res['jac'],\n\u001b[1;32m    201\u001b[0m          \u001b[0;34m'task'\u001b[0m\u001b[0;34m:\u001b[0m \u001b[0mres\u001b[0m\u001b[0;34m[\u001b[0m\u001b[0;34m'message'\u001b[0m\u001b[0;34m]\u001b[0m\u001b[0;34m,\u001b[0m\u001b[0;34m\u001b[0m\u001b[0m\n",
      "\u001b[0;32m/opt/oscer/software/Python/3.6.4-foss-2018a/lib/python3.6/site-packages/scipy-1.0.0-py3.6-linux-x86_64.egg/scipy/optimize/lbfgsb.py\u001b[0m in \u001b[0;36m_minimize_lbfgsb\u001b[0;34m(fun, x0, args, jac, bounds, disp, maxcor, ftol, gtol, eps, maxfun, maxiter, iprint, callback, maxls, **unknown_options)\u001b[0m\n\u001b[1;32m    333\u001b[0m             \u001b[0;31m# until the completion of the current minimization iteration.\u001b[0m\u001b[0;34m\u001b[0m\u001b[0;34m\u001b[0m\u001b[0m\n\u001b[1;32m    334\u001b[0m             \u001b[0;31m# Overwrite f and g:\u001b[0m\u001b[0;34m\u001b[0m\u001b[0;34m\u001b[0m\u001b[0m\n\u001b[0;32m--> 335\u001b[0;31m             \u001b[0mf\u001b[0m\u001b[0;34m,\u001b[0m \u001b[0mg\u001b[0m \u001b[0;34m=\u001b[0m \u001b[0mfunc_and_grad\u001b[0m\u001b[0;34m(\u001b[0m\u001b[0mx\u001b[0m\u001b[0;34m)\u001b[0m\u001b[0;34m\u001b[0m\u001b[0m\n\u001b[0m\u001b[1;32m    336\u001b[0m         \u001b[0;32melif\u001b[0m \u001b[0mtask_str\u001b[0m\u001b[0;34m.\u001b[0m\u001b[0mstartswith\u001b[0m\u001b[0;34m(\u001b[0m\u001b[0;34mb'NEW_X'\u001b[0m\u001b[0;34m)\u001b[0m\u001b[0;34m:\u001b[0m\u001b[0;34m\u001b[0m\u001b[0m\n\u001b[1;32m    337\u001b[0m             \u001b[0;31m# new iteration\u001b[0m\u001b[0;34m\u001b[0m\u001b[0;34m\u001b[0m\u001b[0m\n",
      "\u001b[0;32m/opt/oscer/software/Python/3.6.4-foss-2018a/lib/python3.6/site-packages/scipy-1.0.0-py3.6-linux-x86_64.egg/scipy/optimize/lbfgsb.py\u001b[0m in \u001b[0;36mfunc_and_grad\u001b[0;34m(x)\u001b[0m\n\u001b[1;32m    283\u001b[0m     \u001b[0;32melse\u001b[0m\u001b[0;34m:\u001b[0m\u001b[0;34m\u001b[0m\u001b[0m\n\u001b[1;32m    284\u001b[0m         \u001b[0;32mdef\u001b[0m \u001b[0mfunc_and_grad\u001b[0m\u001b[0;34m(\u001b[0m\u001b[0mx\u001b[0m\u001b[0;34m)\u001b[0m\u001b[0;34m:\u001b[0m\u001b[0;34m\u001b[0m\u001b[0m\n\u001b[0;32m--> 285\u001b[0;31m             \u001b[0mf\u001b[0m \u001b[0;34m=\u001b[0m \u001b[0mfun\u001b[0m\u001b[0;34m(\u001b[0m\u001b[0mx\u001b[0m\u001b[0;34m,\u001b[0m \u001b[0;34m*\u001b[0m\u001b[0margs\u001b[0m\u001b[0;34m)\u001b[0m\u001b[0;34m\u001b[0m\u001b[0m\n\u001b[0m\u001b[1;32m    286\u001b[0m             \u001b[0mg\u001b[0m \u001b[0;34m=\u001b[0m \u001b[0mjac\u001b[0m\u001b[0;34m(\u001b[0m\u001b[0mx\u001b[0m\u001b[0;34m,\u001b[0m \u001b[0;34m*\u001b[0m\u001b[0margs\u001b[0m\u001b[0;34m)\u001b[0m\u001b[0;34m\u001b[0m\u001b[0m\n\u001b[1;32m    287\u001b[0m             \u001b[0;32mreturn\u001b[0m \u001b[0mf\u001b[0m\u001b[0;34m,\u001b[0m \u001b[0mg\u001b[0m\u001b[0;34m\u001b[0m\u001b[0m\n",
      "\u001b[0;32m/opt/oscer/software/Python/3.6.4-foss-2018a/lib/python3.6/site-packages/scipy-1.0.0-py3.6-linux-x86_64.egg/scipy/optimize/optimize.py\u001b[0m in \u001b[0;36mfunction_wrapper\u001b[0;34m(*wrapper_args)\u001b[0m\n\u001b[1;32m    290\u001b[0m     \u001b[0;32mdef\u001b[0m \u001b[0mfunction_wrapper\u001b[0m\u001b[0;34m(\u001b[0m\u001b[0;34m*\u001b[0m\u001b[0mwrapper_args\u001b[0m\u001b[0;34m)\u001b[0m\u001b[0;34m:\u001b[0m\u001b[0;34m\u001b[0m\u001b[0m\n\u001b[1;32m    291\u001b[0m         \u001b[0mncalls\u001b[0m\u001b[0;34m[\u001b[0m\u001b[0;36m0\u001b[0m\u001b[0;34m]\u001b[0m \u001b[0;34m+=\u001b[0m \u001b[0;36m1\u001b[0m\u001b[0;34m\u001b[0m\u001b[0m\n\u001b[0;32m--> 292\u001b[0;31m         \u001b[0;32mreturn\u001b[0m \u001b[0mfunction\u001b[0m\u001b[0;34m(\u001b[0m\u001b[0;34m*\u001b[0m\u001b[0;34m(\u001b[0m\u001b[0mwrapper_args\u001b[0m \u001b[0;34m+\u001b[0m \u001b[0margs\u001b[0m\u001b[0;34m)\u001b[0m\u001b[0;34m)\u001b[0m\u001b[0;34m\u001b[0m\u001b[0m\n\u001b[0m\u001b[1;32m    293\u001b[0m \u001b[0;34m\u001b[0m\u001b[0m\n\u001b[1;32m    294\u001b[0m     \u001b[0;32mreturn\u001b[0m \u001b[0mncalls\u001b[0m\u001b[0;34m,\u001b[0m \u001b[0mfunction_wrapper\u001b[0m\u001b[0;34m\u001b[0m\u001b[0m\n",
      "\u001b[0;32m/opt/oscer/software/Python/3.6.4-foss-2018a/lib/python3.6/site-packages/scipy-1.0.0-py3.6-linux-x86_64.egg/scipy/optimize/optimize.py\u001b[0m in \u001b[0;36m__call__\u001b[0;34m(self, x, *args)\u001b[0m\n\u001b[1;32m     61\u001b[0m     \u001b[0;32mdef\u001b[0m \u001b[0m__call__\u001b[0m\u001b[0;34m(\u001b[0m\u001b[0mself\u001b[0m\u001b[0;34m,\u001b[0m \u001b[0mx\u001b[0m\u001b[0;34m,\u001b[0m \u001b[0;34m*\u001b[0m\u001b[0margs\u001b[0m\u001b[0;34m)\u001b[0m\u001b[0;34m:\u001b[0m\u001b[0;34m\u001b[0m\u001b[0m\n\u001b[1;32m     62\u001b[0m         \u001b[0mself\u001b[0m\u001b[0;34m.\u001b[0m\u001b[0mx\u001b[0m \u001b[0;34m=\u001b[0m \u001b[0mnumpy\u001b[0m\u001b[0;34m.\u001b[0m\u001b[0masarray\u001b[0m\u001b[0;34m(\u001b[0m\u001b[0mx\u001b[0m\u001b[0;34m)\u001b[0m\u001b[0;34m.\u001b[0m\u001b[0mcopy\u001b[0m\u001b[0;34m(\u001b[0m\u001b[0;34m)\u001b[0m\u001b[0;34m\u001b[0m\u001b[0m\n\u001b[0;32m---> 63\u001b[0;31m         \u001b[0mfg\u001b[0m \u001b[0;34m=\u001b[0m \u001b[0mself\u001b[0m\u001b[0;34m.\u001b[0m\u001b[0mfun\u001b[0m\u001b[0;34m(\u001b[0m\u001b[0mx\u001b[0m\u001b[0;34m,\u001b[0m \u001b[0;34m*\u001b[0m\u001b[0margs\u001b[0m\u001b[0;34m)\u001b[0m\u001b[0;34m\u001b[0m\u001b[0m\n\u001b[0m\u001b[1;32m     64\u001b[0m         \u001b[0mself\u001b[0m\u001b[0;34m.\u001b[0m\u001b[0mjac\u001b[0m \u001b[0;34m=\u001b[0m \u001b[0mfg\u001b[0m\u001b[0;34m[\u001b[0m\u001b[0;36m1\u001b[0m\u001b[0;34m]\u001b[0m\u001b[0;34m\u001b[0m\u001b[0m\n\u001b[1;32m     65\u001b[0m         \u001b[0;32mreturn\u001b[0m \u001b[0mfg\u001b[0m\u001b[0;34m[\u001b[0m\u001b[0;36m0\u001b[0m\u001b[0;34m]\u001b[0m\u001b[0;34m\u001b[0m\u001b[0m\n",
      "\u001b[0;32m/opt/oscer/software/scikit-learn/0.19.1-foss-2018a-Python-3.6.4/lib/python3.6/site-packages/sklearn/linear_model/logistic.py\u001b[0m in \u001b[0;36m_logistic_loss_and_grad\u001b[0;34m(w, X, y, alpha, sample_weight)\u001b[0m\n\u001b[1;32m    120\u001b[0m     \u001b[0mz0\u001b[0m \u001b[0;34m=\u001b[0m \u001b[0msample_weight\u001b[0m \u001b[0;34m*\u001b[0m \u001b[0;34m(\u001b[0m\u001b[0mz\u001b[0m \u001b[0;34m-\u001b[0m \u001b[0;36m1\u001b[0m\u001b[0;34m)\u001b[0m \u001b[0;34m*\u001b[0m \u001b[0my\u001b[0m\u001b[0;34m\u001b[0m\u001b[0m\n\u001b[1;32m    121\u001b[0m \u001b[0;34m\u001b[0m\u001b[0m\n\u001b[0;32m--> 122\u001b[0;31m     \u001b[0mgrad\u001b[0m\u001b[0;34m[\u001b[0m\u001b[0;34m:\u001b[0m\u001b[0mn_features\u001b[0m\u001b[0;34m]\u001b[0m \u001b[0;34m=\u001b[0m \u001b[0msafe_sparse_dot\u001b[0m\u001b[0;34m(\u001b[0m\u001b[0mX\u001b[0m\u001b[0;34m.\u001b[0m\u001b[0mT\u001b[0m\u001b[0;34m,\u001b[0m \u001b[0mz0\u001b[0m\u001b[0;34m)\u001b[0m \u001b[0;34m+\u001b[0m \u001b[0malpha\u001b[0m \u001b[0;34m*\u001b[0m \u001b[0mw\u001b[0m\u001b[0;34m\u001b[0m\u001b[0m\n\u001b[0m\u001b[1;32m    123\u001b[0m \u001b[0;34m\u001b[0m\u001b[0m\n\u001b[1;32m    124\u001b[0m     \u001b[0;31m# Case where we fit the intercept.\u001b[0m\u001b[0;34m\u001b[0m\u001b[0;34m\u001b[0m\u001b[0m\n",
      "\u001b[0;32m/opt/oscer/software/scikit-learn/0.19.1-foss-2018a-Python-3.6.4/lib/python3.6/site-packages/sklearn/utils/extmath.py\u001b[0m in \u001b[0;36msafe_sparse_dot\u001b[0;34m(a, b, dense_output)\u001b[0m\n\u001b[1;32m    138\u001b[0m         \u001b[0;32mreturn\u001b[0m \u001b[0mret\u001b[0m\u001b[0;34m\u001b[0m\u001b[0m\n\u001b[1;32m    139\u001b[0m     \u001b[0;32melse\u001b[0m\u001b[0;34m:\u001b[0m\u001b[0;34m\u001b[0m\u001b[0m\n\u001b[0;32m--> 140\u001b[0;31m         \u001b[0;32mreturn\u001b[0m \u001b[0mnp\u001b[0m\u001b[0;34m.\u001b[0m\u001b[0mdot\u001b[0m\u001b[0;34m(\u001b[0m\u001b[0ma\u001b[0m\u001b[0;34m,\u001b[0m \u001b[0mb\u001b[0m\u001b[0;34m)\u001b[0m\u001b[0;34m\u001b[0m\u001b[0m\n\u001b[0m\u001b[1;32m    141\u001b[0m \u001b[0;34m\u001b[0m\u001b[0m\n\u001b[1;32m    142\u001b[0m \u001b[0;34m\u001b[0m\u001b[0m\n",
      "\u001b[0;31mKeyboardInterrupt\u001b[0m: "
     ]
    }
   ],
   "source": [
    "#best_models=[]\n",
    "for i in range(9,10):\n",
    "    \n",
    "    (bim, fam, bed)=read_plink(\"/work/breastcancer/clean_test/cv/10-fold/sig_\"+str(i))\n",
    "    (bim2, fam2, bed2)=read_plink(\"/work/breastcancer/clean_test/cv/10-fold/val_\"+str(i))\n",
    "    ##fetch data\n",
    "    print(\"Convertion\")\n",
    "    bed=bed.astype('uint8')\n",
    "    print(\"Compute\")\n",
    "    X=bed.compute()\n",
    "    print(\"Filling Null Data\")\n",
    "    X[np.isnan(X)]=2\n",
    "    #test\n",
    "    print(\"Convertion\")\n",
    "    bed2=bed2.astype('uint8')\n",
    "    print(\"Compute\")\n",
    "    X_val=bed2.compute()\n",
    "    print(\"Filling Null Data\")\n",
    "    X_val[np.isnan(X_val)]=2\n",
    "    Y=fam[\"trait\"].astype(\"int\")\n",
    "    Y=Y-1\n",
    "    Xdf=pd.DataFrame(X.T)\n",
    "    Xdf[\"Y\"]=Y\n",
    "\n",
    "    Y_val=fam2[\"trait\"].astype(\"int\")\n",
    "    Y_val=Y_val-1\n",
    "    Xdf_val=pd.DataFrame(X_val.T)\n",
    "    Xdf_val[\"Y\"]=Y_val\n",
    "\n",
    "    x_train=Xdf.drop(['Y'],axis=1).values\n",
    "    y_train=Xdf[['Y']].values\n",
    "\n",
    "    x_val=Xdf_val.drop(['Y'],axis=1).values\n",
    "    y_val=Xdf_val[['Y']].values\n",
    "    best_auc=0\n",
    "    best_model=None\n",
    "    for i in range(10,41):\n",
    "        clf = LogisticRegression(random_state=0, solver='lbfgs',multi_class='ovr',max_iter =i).fit(x_train, y_train[:,0])\n",
    "        ac=clf.score(x_val, y_val)\n",
    "        ac_train=clf.score(x_train, y_train)\n",
    "        pred=clf.predict_proba(x_val)\n",
    "        pred_train=clf.predict_proba(x_train)\n",
    "        au=roc_auc_score(y_val, pred[:,1])\n",
    "        au_train=roc_auc_score(y_train, pred_train[:,1])\n",
    "        if best_auc<au:\n",
    "            best_model=clf\n",
    "            best_auc=au\n",
    "        print(\"Step %d Accuracy_train %f AUC_train %f Accuracy_val %f AUC_val %f  \"%(i,ac_train,au_train,ac,au))\n",
    "    best_models.append(best_model)"
   ]
  },
  {
   "cell_type": "code",
   "execution_count": 24,
   "metadata": {},
   "outputs": [],
   "source": [
    "best_models.append(best_model)"
   ]
  },
  {
   "cell_type": "code",
   "execution_count": 25,
   "metadata": {},
   "outputs": [
    {
     "name": "stderr",
     "output_type": "stream",
     "text": [
      "\n",
      "Mapping files:   0%|          | 0/3 [00:00<?, ?it/s]\u001b[A\n",
      "Mapping files: 100%|██████████| 3/3 [00:00<00:00, 99.34it/s]\u001b[A"
     ]
    },
    {
     "name": "stdout",
     "output_type": "stream",
     "text": [
      "Convertion\n",
      "Compute\n",
      "Filling Null Data\n",
      "Convertion\n"
     ]
    },
    {
     "name": "stderr",
     "output_type": "stream",
     "text": [
      "\n",
      "Mapping files:   0%|          | 0/3 [00:00<?, ?it/s]\u001b[A\n",
      "Mapping files: 100%|██████████| 3/3 [00:00<00:00, 98.58it/s]\u001b[A"
     ]
    },
    {
     "name": "stdout",
     "output_type": "stream",
     "text": [
      "Step 0 Accuracy_test 0.596416 AUC_test 0.647769\n",
      "Convertion\n",
      "Compute\n",
      "Filling Null Data\n",
      "Convertion\n"
     ]
    },
    {
     "name": "stderr",
     "output_type": "stream",
     "text": [
      "\n",
      "Mapping files:   0%|          | 0/3 [00:00<?, ?it/s]\u001b[A\n",
      "Mapping files: 100%|██████████| 3/3 [00:00<00:00, 97.16it/s]\u001b[A"
     ]
    },
    {
     "name": "stdout",
     "output_type": "stream",
     "text": [
      "Step 1 Accuracy_test 0.597434 AUC_test 0.649803\n",
      "Convertion\n",
      "Compute\n",
      "Filling Null Data\n",
      "Convertion\n"
     ]
    },
    {
     "name": "stderr",
     "output_type": "stream",
     "text": [
      "\n",
      "Mapping files:   0%|          | 0/3 [00:00<?, ?it/s]\u001b[A\n",
      "Mapping files: 100%|██████████| 3/3 [00:00<00:00, 98.86it/s]\u001b[A"
     ]
    },
    {
     "name": "stdout",
     "output_type": "stream",
     "text": [
      "Step 2 Accuracy_test 0.594380 AUC_test 0.649432\n",
      "Convertion\n",
      "Compute\n",
      "Filling Null Data\n",
      "Convertion\n"
     ]
    },
    {
     "name": "stderr",
     "output_type": "stream",
     "text": [
      "\n",
      "Mapping files:   0%|          | 0/3 [00:00<?, ?it/s]\u001b[A\n",
      "Mapping files: 100%|██████████| 3/3 [00:00<00:00, 96.87it/s]\u001b[A"
     ]
    },
    {
     "name": "stdout",
     "output_type": "stream",
     "text": [
      "Step 3 Accuracy_test 0.599063 AUC_test 0.652472\n",
      "Convertion\n",
      "Compute\n",
      "Filling Null Data\n",
      "Convertion\n"
     ]
    },
    {
     "name": "stderr",
     "output_type": "stream",
     "text": [
      "\n",
      "Mapping files:   0%|          | 0/3 [00:00<?, ?it/s]\u001b[A\n",
      "Mapping files: 100%|██████████| 3/3 [00:00<00:00, 99.24it/s]\u001b[A"
     ]
    },
    {
     "name": "stdout",
     "output_type": "stream",
     "text": [
      "Step 4 Accuracy_test 0.591326 AUC_test 0.641597\n",
      "Convertion\n",
      "Compute\n",
      "Filling Null Data\n",
      "Convertion\n"
     ]
    },
    {
     "name": "stderr",
     "output_type": "stream",
     "text": [
      "\n",
      "Mapping files:   0%|          | 0/3 [00:00<?, ?it/s]\u001b[A\n",
      "Mapping files: 100%|██████████| 3/3 [00:00<00:00, 97.78it/s]\u001b[A"
     ]
    },
    {
     "name": "stdout",
     "output_type": "stream",
     "text": [
      "Step 5 Accuracy_test 0.605376 AUC_test 0.654227\n",
      "Convertion\n",
      "Compute\n",
      "Filling Null Data\n",
      "Convertion\n"
     ]
    },
    {
     "name": "stderr",
     "output_type": "stream",
     "text": [
      "\n",
      "Mapping files:   0%|          | 0/3 [00:00<?, ?it/s]\u001b[A\n",
      "Mapping files: 100%|██████████| 3/3 [00:00<00:00, 94.93it/s]\u001b[A"
     ]
    },
    {
     "name": "stdout",
     "output_type": "stream",
     "text": [
      "Step 6 Accuracy_test 0.594787 AUC_test 0.649397\n",
      "Convertion\n",
      "Compute\n",
      "Filling Null Data\n",
      "Convertion\n"
     ]
    },
    {
     "name": "stderr",
     "output_type": "stream",
     "text": [
      "\n",
      "Mapping files:   0%|          | 0/3 [00:00<?, ?it/s]\u001b[A\n",
      "Mapping files: 100%|██████████| 3/3 [00:00<00:00, 87.56it/s]\u001b[A"
     ]
    },
    {
     "name": "stdout",
     "output_type": "stream",
     "text": [
      "Step 7 Accuracy_test 0.604154 AUC_test 0.650357\n",
      "Convertion\n",
      "Compute\n",
      "Filling Null Data\n",
      "Convertion\n"
     ]
    },
    {
     "name": "stderr",
     "output_type": "stream",
     "text": [
      "\n",
      "Mapping files:   0%|          | 0/3 [00:00<?, ?it/s]\u001b[A\n",
      "Mapping files: 100%|██████████| 3/3 [00:00<00:00, 91.47it/s]\u001b[A"
     ]
    },
    {
     "name": "stdout",
     "output_type": "stream",
     "text": [
      "Step 8 Accuracy_test 0.594584 AUC_test 0.645202\n",
      "Convertion\n",
      "Compute\n",
      "Filling Null Data\n",
      "Convertion\n",
      "Step 9 Accuracy_test 0.595602 AUC_test 0.647237\n"
     ]
    }
   ],
   "source": [
    "scores=[]\n",
    "for i in range(len(best_models)):\n",
    "    (bim, fam, bed)=read_plink(\"/work/breastcancer/clean_test/cv/test/test_\"+str(i))\n",
    "    ##fetch data\n",
    "    print(\"Convertion\")\n",
    "    bed=bed.astype('uint8')\n",
    "    print(\"Compute\")\n",
    "    X=bed.compute()\n",
    "    print(\"Filling Null Data\")\n",
    "    X[np.isnan(X)]=2\n",
    "    #test\n",
    "    print(\"Convertion\")\n",
    "    Y=fam[\"trait\"].astype(\"int\")\n",
    "    Y=Y-1\n",
    "    Xdf=pd.DataFrame(X.T)\n",
    "    Xdf[\"Y\"]=Y\n",
    "\n",
    "    x_train=Xdf.drop(['Y'],axis=1).values\n",
    "    y_train=Xdf[['Y']].values\n",
    "    clf=best_models[i]\n",
    "    ac_train=clf.score(x_train, y_train)\n",
    "    pred_train=clf.predict_proba(x_train)\n",
    "    au_train=roc_auc_score(y_train, pred_train[:,1]) \n",
    "    scores.append(au_train)\n",
    "    print(\"Step %d Accuracy_test %f AUC_test %f\"%(i,ac_train,au_train))"
   ]
  },
  {
   "cell_type": "code",
   "execution_count": 59,
   "metadata": {},
   "outputs": [
    {
     "name": "stdout",
     "output_type": "stream",
     "text": [
      "[[0.48979123 0.51020877]]\n",
      "Step 17 Accuracy_train 0.641528 AUC_train 0.695667 Accuracy_val 0.607288 AUC_val 0.654156 Accuracy_test 0.607288 AUC_test 0.658144\n",
      "[[0.49791951 0.50208049]]\n",
      "Step 18 Accuracy_train 0.641884 AUC_train 0.697342 Accuracy_val 0.607492 AUC_val 0.654994 Accuracy_test 0.607492 AUC_test 0.659005\n",
      "[[0.51050203 0.48949797]]\n",
      "Step 19 Accuracy_train 0.645448 AUC_train 0.703326 Accuracy_val 0.608510 AUC_val 0.657421 Accuracy_test 0.608510 AUC_test 0.659887\n",
      "[[0.52076923 0.47923077]]\n",
      "Step 20 Accuracy_train 0.648146 AUC_train 0.709705 Accuracy_val 0.608510 AUC_val 0.657371 Accuracy_test 0.608510 AUC_test 0.656854\n"
     ]
    },
    {
     "ename": "KeyboardInterrupt",
     "evalue": "",
     "output_type": "error",
     "traceback": [
      "\u001b[0;31m---------------------------------------------------------------------------\u001b[0m",
      "\u001b[0;31mKeyboardInterrupt\u001b[0m                         Traceback (most recent call last)",
      "\u001b[0;32m<ipython-input-59-54e7212a8ca3>\u001b[0m in \u001b[0;36m<module>\u001b[0;34m\u001b[0m\n\u001b[1;32m      1\u001b[0m \u001b[0;34m\u001b[0m\u001b[0m\n\u001b[1;32m      2\u001b[0m \u001b[0;32mfor\u001b[0m \u001b[0mi\u001b[0m \u001b[0;32min\u001b[0m \u001b[0mrange\u001b[0m\u001b[0;34m(\u001b[0m\u001b[0;36m17\u001b[0m\u001b[0;34m,\u001b[0m\u001b[0;36m40\u001b[0m\u001b[0;34m)\u001b[0m\u001b[0;34m:\u001b[0m\u001b[0;34m\u001b[0m\u001b[0m\n\u001b[0;32m----> 3\u001b[0;31m     \u001b[0mclf\u001b[0m \u001b[0;34m=\u001b[0m \u001b[0mLogisticRegression\u001b[0m\u001b[0;34m(\u001b[0m\u001b[0mrandom_state\u001b[0m\u001b[0;34m=\u001b[0m\u001b[0;36m0\u001b[0m\u001b[0;34m,\u001b[0m\u001b[0mmulti_class\u001b[0m\u001b[0;34m=\u001b[0m\u001b[0;34m'ovr'\u001b[0m\u001b[0;34m,\u001b[0m\u001b[0mmax_iter\u001b[0m \u001b[0;34m=\u001b[0m\u001b[0mi\u001b[0m\u001b[0;34m,\u001b[0m\u001b[0msolver\u001b[0m\u001b[0;34m=\u001b[0m\u001b[0;34m'lbfgs'\u001b[0m\u001b[0;34m)\u001b[0m\u001b[0;34m.\u001b[0m\u001b[0mfit\u001b[0m\u001b[0;34m(\u001b[0m\u001b[0mx_train\u001b[0m\u001b[0;34m,\u001b[0m \u001b[0my_train\u001b[0m\u001b[0;34m[\u001b[0m\u001b[0;34m:\u001b[0m\u001b[0;34m,\u001b[0m\u001b[0;36m0\u001b[0m\u001b[0;34m]\u001b[0m\u001b[0;34m)\u001b[0m\u001b[0;34m\u001b[0m\u001b[0m\n\u001b[0m\u001b[1;32m      4\u001b[0m     \u001b[0mmodels\u001b[0m\u001b[0;34m.\u001b[0m\u001b[0mappend\u001b[0m\u001b[0;34m(\u001b[0m\u001b[0mclf\u001b[0m\u001b[0;34m)\u001b[0m\u001b[0;34m\u001b[0m\u001b[0m\n\u001b[1;32m      5\u001b[0m     \u001b[0mac\u001b[0m\u001b[0;34m=\u001b[0m\u001b[0mclf\u001b[0m\u001b[0;34m.\u001b[0m\u001b[0mscore\u001b[0m\u001b[0;34m(\u001b[0m\u001b[0mx_val\u001b[0m\u001b[0;34m,\u001b[0m \u001b[0my_val\u001b[0m\u001b[0;34m)\u001b[0m\u001b[0;34m\u001b[0m\u001b[0m\n",
      "\u001b[0;32m/opt/oscer/software/scikit-learn/0.19.1-foss-2018a-Python-3.6.4/lib/python3.6/site-packages/sklearn/linear_model/logistic.py\u001b[0m in \u001b[0;36mfit\u001b[0;34m(self, X, y, sample_weight)\u001b[0m\n\u001b[1;32m   1289\u001b[0m                       \u001b[0mmax_squared_sum\u001b[0m\u001b[0;34m=\u001b[0m\u001b[0mmax_squared_sum\u001b[0m\u001b[0;34m,\u001b[0m\u001b[0;34m\u001b[0m\u001b[0m\n\u001b[1;32m   1290\u001b[0m                       sample_weight=sample_weight)\n\u001b[0;32m-> 1291\u001b[0;31m             for class_, warm_start_coef_ in zip(classes_, warm_start_coef))\n\u001b[0m\u001b[1;32m   1292\u001b[0m \u001b[0;34m\u001b[0m\u001b[0m\n\u001b[1;32m   1293\u001b[0m         \u001b[0mfold_coefs_\u001b[0m\u001b[0;34m,\u001b[0m \u001b[0m_\u001b[0m\u001b[0;34m,\u001b[0m \u001b[0mn_iter_\u001b[0m \u001b[0;34m=\u001b[0m \u001b[0mzip\u001b[0m\u001b[0;34m(\u001b[0m\u001b[0;34m*\u001b[0m\u001b[0mfold_coefs_\u001b[0m\u001b[0;34m)\u001b[0m\u001b[0;34m\u001b[0m\u001b[0m\n",
      "\u001b[0;32m/opt/oscer/software/scikit-learn/0.19.1-foss-2018a-Python-3.6.4/lib/python3.6/site-packages/sklearn/externals/joblib/parallel.py\u001b[0m in \u001b[0;36m__call__\u001b[0;34m(self, iterable)\u001b[0m\n\u001b[1;32m    777\u001b[0m             \u001b[0;31m# was dispatched. In particular this covers the edge\u001b[0m\u001b[0;34m\u001b[0m\u001b[0;34m\u001b[0m\u001b[0m\n\u001b[1;32m    778\u001b[0m             \u001b[0;31m# case of Parallel used with an exhausted iterator.\u001b[0m\u001b[0;34m\u001b[0m\u001b[0;34m\u001b[0m\u001b[0m\n\u001b[0;32m--> 779\u001b[0;31m             \u001b[0;32mwhile\u001b[0m \u001b[0mself\u001b[0m\u001b[0;34m.\u001b[0m\u001b[0mdispatch_one_batch\u001b[0m\u001b[0;34m(\u001b[0m\u001b[0miterator\u001b[0m\u001b[0;34m)\u001b[0m\u001b[0;34m:\u001b[0m\u001b[0;34m\u001b[0m\u001b[0m\n\u001b[0m\u001b[1;32m    780\u001b[0m                 \u001b[0mself\u001b[0m\u001b[0;34m.\u001b[0m\u001b[0m_iterating\u001b[0m \u001b[0;34m=\u001b[0m \u001b[0;32mTrue\u001b[0m\u001b[0;34m\u001b[0m\u001b[0m\n\u001b[1;32m    781\u001b[0m             \u001b[0;32melse\u001b[0m\u001b[0;34m:\u001b[0m\u001b[0;34m\u001b[0m\u001b[0m\n",
      "\u001b[0;32m/opt/oscer/software/scikit-learn/0.19.1-foss-2018a-Python-3.6.4/lib/python3.6/site-packages/sklearn/externals/joblib/parallel.py\u001b[0m in \u001b[0;36mdispatch_one_batch\u001b[0;34m(self, iterator)\u001b[0m\n\u001b[1;32m    623\u001b[0m                 \u001b[0;32mreturn\u001b[0m \u001b[0;32mFalse\u001b[0m\u001b[0;34m\u001b[0m\u001b[0m\n\u001b[1;32m    624\u001b[0m             \u001b[0;32melse\u001b[0m\u001b[0;34m:\u001b[0m\u001b[0;34m\u001b[0m\u001b[0m\n\u001b[0;32m--> 625\u001b[0;31m                 \u001b[0mself\u001b[0m\u001b[0;34m.\u001b[0m\u001b[0m_dispatch\u001b[0m\u001b[0;34m(\u001b[0m\u001b[0mtasks\u001b[0m\u001b[0;34m)\u001b[0m\u001b[0;34m\u001b[0m\u001b[0m\n\u001b[0m\u001b[1;32m    626\u001b[0m                 \u001b[0;32mreturn\u001b[0m \u001b[0;32mTrue\u001b[0m\u001b[0;34m\u001b[0m\u001b[0m\n\u001b[1;32m    627\u001b[0m \u001b[0;34m\u001b[0m\u001b[0m\n",
      "\u001b[0;32m/opt/oscer/software/scikit-learn/0.19.1-foss-2018a-Python-3.6.4/lib/python3.6/site-packages/sklearn/externals/joblib/parallel.py\u001b[0m in \u001b[0;36m_dispatch\u001b[0;34m(self, batch)\u001b[0m\n\u001b[1;32m    586\u001b[0m         \u001b[0mdispatch_timestamp\u001b[0m \u001b[0;34m=\u001b[0m \u001b[0mtime\u001b[0m\u001b[0;34m.\u001b[0m\u001b[0mtime\u001b[0m\u001b[0;34m(\u001b[0m\u001b[0;34m)\u001b[0m\u001b[0;34m\u001b[0m\u001b[0m\n\u001b[1;32m    587\u001b[0m         \u001b[0mcb\u001b[0m \u001b[0;34m=\u001b[0m \u001b[0mBatchCompletionCallBack\u001b[0m\u001b[0;34m(\u001b[0m\u001b[0mdispatch_timestamp\u001b[0m\u001b[0;34m,\u001b[0m \u001b[0mlen\u001b[0m\u001b[0;34m(\u001b[0m\u001b[0mbatch\u001b[0m\u001b[0;34m)\u001b[0m\u001b[0;34m,\u001b[0m \u001b[0mself\u001b[0m\u001b[0;34m)\u001b[0m\u001b[0;34m\u001b[0m\u001b[0m\n\u001b[0;32m--> 588\u001b[0;31m         \u001b[0mjob\u001b[0m \u001b[0;34m=\u001b[0m \u001b[0mself\u001b[0m\u001b[0;34m.\u001b[0m\u001b[0m_backend\u001b[0m\u001b[0;34m.\u001b[0m\u001b[0mapply_async\u001b[0m\u001b[0;34m(\u001b[0m\u001b[0mbatch\u001b[0m\u001b[0;34m,\u001b[0m \u001b[0mcallback\u001b[0m\u001b[0;34m=\u001b[0m\u001b[0mcb\u001b[0m\u001b[0;34m)\u001b[0m\u001b[0;34m\u001b[0m\u001b[0m\n\u001b[0m\u001b[1;32m    589\u001b[0m         \u001b[0mself\u001b[0m\u001b[0;34m.\u001b[0m\u001b[0m_jobs\u001b[0m\u001b[0;34m.\u001b[0m\u001b[0mappend\u001b[0m\u001b[0;34m(\u001b[0m\u001b[0mjob\u001b[0m\u001b[0;34m)\u001b[0m\u001b[0;34m\u001b[0m\u001b[0m\n\u001b[1;32m    590\u001b[0m \u001b[0;34m\u001b[0m\u001b[0m\n",
      "\u001b[0;32m/opt/oscer/software/scikit-learn/0.19.1-foss-2018a-Python-3.6.4/lib/python3.6/site-packages/sklearn/externals/joblib/_parallel_backends.py\u001b[0m in \u001b[0;36mapply_async\u001b[0;34m(self, func, callback)\u001b[0m\n\u001b[1;32m    109\u001b[0m     \u001b[0;32mdef\u001b[0m \u001b[0mapply_async\u001b[0m\u001b[0;34m(\u001b[0m\u001b[0mself\u001b[0m\u001b[0;34m,\u001b[0m \u001b[0mfunc\u001b[0m\u001b[0;34m,\u001b[0m \u001b[0mcallback\u001b[0m\u001b[0;34m=\u001b[0m\u001b[0;32mNone\u001b[0m\u001b[0;34m)\u001b[0m\u001b[0;34m:\u001b[0m\u001b[0;34m\u001b[0m\u001b[0m\n\u001b[1;32m    110\u001b[0m         \u001b[0;34m\"\"\"Schedule a func to be run\"\"\"\u001b[0m\u001b[0;34m\u001b[0m\u001b[0m\n\u001b[0;32m--> 111\u001b[0;31m         \u001b[0mresult\u001b[0m \u001b[0;34m=\u001b[0m \u001b[0mImmediateResult\u001b[0m\u001b[0;34m(\u001b[0m\u001b[0mfunc\u001b[0m\u001b[0;34m)\u001b[0m\u001b[0;34m\u001b[0m\u001b[0m\n\u001b[0m\u001b[1;32m    112\u001b[0m         \u001b[0;32mif\u001b[0m \u001b[0mcallback\u001b[0m\u001b[0;34m:\u001b[0m\u001b[0;34m\u001b[0m\u001b[0m\n\u001b[1;32m    113\u001b[0m             \u001b[0mcallback\u001b[0m\u001b[0;34m(\u001b[0m\u001b[0mresult\u001b[0m\u001b[0;34m)\u001b[0m\u001b[0;34m\u001b[0m\u001b[0m\n",
      "\u001b[0;32m/opt/oscer/software/scikit-learn/0.19.1-foss-2018a-Python-3.6.4/lib/python3.6/site-packages/sklearn/externals/joblib/_parallel_backends.py\u001b[0m in \u001b[0;36m__init__\u001b[0;34m(self, batch)\u001b[0m\n\u001b[1;32m    330\u001b[0m         \u001b[0;31m# Don't delay the application, to avoid keeping the input\u001b[0m\u001b[0;34m\u001b[0m\u001b[0;34m\u001b[0m\u001b[0m\n\u001b[1;32m    331\u001b[0m         \u001b[0;31m# arguments in memory\u001b[0m\u001b[0;34m\u001b[0m\u001b[0;34m\u001b[0m\u001b[0m\n\u001b[0;32m--> 332\u001b[0;31m         \u001b[0mself\u001b[0m\u001b[0;34m.\u001b[0m\u001b[0mresults\u001b[0m \u001b[0;34m=\u001b[0m \u001b[0mbatch\u001b[0m\u001b[0;34m(\u001b[0m\u001b[0;34m)\u001b[0m\u001b[0;34m\u001b[0m\u001b[0m\n\u001b[0m\u001b[1;32m    333\u001b[0m \u001b[0;34m\u001b[0m\u001b[0m\n\u001b[1;32m    334\u001b[0m     \u001b[0;32mdef\u001b[0m \u001b[0mget\u001b[0m\u001b[0;34m(\u001b[0m\u001b[0mself\u001b[0m\u001b[0;34m)\u001b[0m\u001b[0;34m:\u001b[0m\u001b[0;34m\u001b[0m\u001b[0m\n",
      "\u001b[0;32m/opt/oscer/software/scikit-learn/0.19.1-foss-2018a-Python-3.6.4/lib/python3.6/site-packages/sklearn/externals/joblib/parallel.py\u001b[0m in \u001b[0;36m__call__\u001b[0;34m(self)\u001b[0m\n\u001b[1;32m    129\u001b[0m \u001b[0;34m\u001b[0m\u001b[0m\n\u001b[1;32m    130\u001b[0m     \u001b[0;32mdef\u001b[0m \u001b[0m__call__\u001b[0m\u001b[0;34m(\u001b[0m\u001b[0mself\u001b[0m\u001b[0;34m)\u001b[0m\u001b[0;34m:\u001b[0m\u001b[0;34m\u001b[0m\u001b[0m\n\u001b[0;32m--> 131\u001b[0;31m         \u001b[0;32mreturn\u001b[0m \u001b[0;34m[\u001b[0m\u001b[0mfunc\u001b[0m\u001b[0;34m(\u001b[0m\u001b[0;34m*\u001b[0m\u001b[0margs\u001b[0m\u001b[0;34m,\u001b[0m \u001b[0;34m**\u001b[0m\u001b[0mkwargs\u001b[0m\u001b[0;34m)\u001b[0m \u001b[0;32mfor\u001b[0m \u001b[0mfunc\u001b[0m\u001b[0;34m,\u001b[0m \u001b[0margs\u001b[0m\u001b[0;34m,\u001b[0m \u001b[0mkwargs\u001b[0m \u001b[0;32min\u001b[0m \u001b[0mself\u001b[0m\u001b[0;34m.\u001b[0m\u001b[0mitems\u001b[0m\u001b[0;34m]\u001b[0m\u001b[0;34m\u001b[0m\u001b[0m\n\u001b[0m\u001b[1;32m    132\u001b[0m \u001b[0;34m\u001b[0m\u001b[0m\n\u001b[1;32m    133\u001b[0m     \u001b[0;32mdef\u001b[0m \u001b[0m__len__\u001b[0m\u001b[0;34m(\u001b[0m\u001b[0mself\u001b[0m\u001b[0;34m)\u001b[0m\u001b[0;34m:\u001b[0m\u001b[0;34m\u001b[0m\u001b[0m\n",
      "\u001b[0;32m/opt/oscer/software/scikit-learn/0.19.1-foss-2018a-Python-3.6.4/lib/python3.6/site-packages/sklearn/externals/joblib/parallel.py\u001b[0m in \u001b[0;36m<listcomp>\u001b[0;34m(.0)\u001b[0m\n\u001b[1;32m    129\u001b[0m \u001b[0;34m\u001b[0m\u001b[0m\n\u001b[1;32m    130\u001b[0m     \u001b[0;32mdef\u001b[0m \u001b[0m__call__\u001b[0m\u001b[0;34m(\u001b[0m\u001b[0mself\u001b[0m\u001b[0;34m)\u001b[0m\u001b[0;34m:\u001b[0m\u001b[0;34m\u001b[0m\u001b[0m\n\u001b[0;32m--> 131\u001b[0;31m         \u001b[0;32mreturn\u001b[0m \u001b[0;34m[\u001b[0m\u001b[0mfunc\u001b[0m\u001b[0;34m(\u001b[0m\u001b[0;34m*\u001b[0m\u001b[0margs\u001b[0m\u001b[0;34m,\u001b[0m \u001b[0;34m**\u001b[0m\u001b[0mkwargs\u001b[0m\u001b[0;34m)\u001b[0m \u001b[0;32mfor\u001b[0m \u001b[0mfunc\u001b[0m\u001b[0;34m,\u001b[0m \u001b[0margs\u001b[0m\u001b[0;34m,\u001b[0m \u001b[0mkwargs\u001b[0m \u001b[0;32min\u001b[0m \u001b[0mself\u001b[0m\u001b[0;34m.\u001b[0m\u001b[0mitems\u001b[0m\u001b[0;34m]\u001b[0m\u001b[0;34m\u001b[0m\u001b[0m\n\u001b[0m\u001b[1;32m    132\u001b[0m \u001b[0;34m\u001b[0m\u001b[0m\n\u001b[1;32m    133\u001b[0m     \u001b[0;32mdef\u001b[0m \u001b[0m__len__\u001b[0m\u001b[0;34m(\u001b[0m\u001b[0mself\u001b[0m\u001b[0;34m)\u001b[0m\u001b[0;34m:\u001b[0m\u001b[0;34m\u001b[0m\u001b[0m\n",
      "\u001b[0;32m/opt/oscer/software/scikit-learn/0.19.1-foss-2018a-Python-3.6.4/lib/python3.6/site-packages/sklearn/linear_model/logistic.py\u001b[0m in \u001b[0;36mlogistic_regression_path\u001b[0;34m(X, y, pos_class, Cs, fit_intercept, max_iter, tol, verbose, solver, coef, class_weight, dual, penalty, intercept_scaling, multi_class, random_state, check_input, max_squared_sum, sample_weight)\u001b[0m\n\u001b[1;32m    708\u001b[0m                     \u001b[0mfunc\u001b[0m\u001b[0;34m,\u001b[0m \u001b[0mw0\u001b[0m\u001b[0;34m,\u001b[0m \u001b[0mfprime\u001b[0m\u001b[0;34m=\u001b[0m\u001b[0;32mNone\u001b[0m\u001b[0;34m,\u001b[0m\u001b[0;34m\u001b[0m\u001b[0m\n\u001b[1;32m    709\u001b[0m                     \u001b[0margs\u001b[0m\u001b[0;34m=\u001b[0m\u001b[0;34m(\u001b[0m\u001b[0mX\u001b[0m\u001b[0;34m,\u001b[0m \u001b[0mtarget\u001b[0m\u001b[0;34m,\u001b[0m \u001b[0;36m1.\u001b[0m \u001b[0;34m/\u001b[0m \u001b[0mC\u001b[0m\u001b[0;34m,\u001b[0m \u001b[0msample_weight\u001b[0m\u001b[0;34m)\u001b[0m\u001b[0;34m,\u001b[0m\u001b[0;34m\u001b[0m\u001b[0m\n\u001b[0;32m--> 710\u001b[0;31m                     iprint=(verbose > 0) - 1, pgtol=tol, maxiter=max_iter)\n\u001b[0m\u001b[1;32m    711\u001b[0m             \u001b[0;32mexcept\u001b[0m \u001b[0mTypeError\u001b[0m\u001b[0;34m:\u001b[0m\u001b[0;34m\u001b[0m\u001b[0m\n\u001b[1;32m    712\u001b[0m                 \u001b[0;31m# old scipy doesn't have maxiter\u001b[0m\u001b[0;34m\u001b[0m\u001b[0;34m\u001b[0m\u001b[0m\n",
      "\u001b[0;32m/opt/oscer/software/Python/3.6.4-foss-2018a/lib/python3.6/site-packages/scipy-1.0.0-py3.6-linux-x86_64.egg/scipy/optimize/lbfgsb.py\u001b[0m in \u001b[0;36mfmin_l_bfgs_b\u001b[0;34m(func, x0, fprime, args, approx_grad, bounds, m, factr, pgtol, epsilon, iprint, maxfun, maxiter, disp, callback, maxls)\u001b[0m\n\u001b[1;32m    197\u001b[0m \u001b[0;34m\u001b[0m\u001b[0m\n\u001b[1;32m    198\u001b[0m     res = _minimize_lbfgsb(fun, x0, args=args, jac=jac, bounds=bounds,\n\u001b[0;32m--> 199\u001b[0;31m                            **opts)\n\u001b[0m\u001b[1;32m    200\u001b[0m     d = {'grad': res['jac'],\n\u001b[1;32m    201\u001b[0m          \u001b[0;34m'task'\u001b[0m\u001b[0;34m:\u001b[0m \u001b[0mres\u001b[0m\u001b[0;34m[\u001b[0m\u001b[0;34m'message'\u001b[0m\u001b[0;34m]\u001b[0m\u001b[0;34m,\u001b[0m\u001b[0;34m\u001b[0m\u001b[0m\n",
      "\u001b[0;32m/opt/oscer/software/Python/3.6.4-foss-2018a/lib/python3.6/site-packages/scipy-1.0.0-py3.6-linux-x86_64.egg/scipy/optimize/lbfgsb.py\u001b[0m in \u001b[0;36m_minimize_lbfgsb\u001b[0;34m(fun, x0, args, jac, bounds, disp, maxcor, ftol, gtol, eps, maxfun, maxiter, iprint, callback, maxls, **unknown_options)\u001b[0m\n\u001b[1;32m    333\u001b[0m             \u001b[0;31m# until the completion of the current minimization iteration.\u001b[0m\u001b[0;34m\u001b[0m\u001b[0;34m\u001b[0m\u001b[0m\n\u001b[1;32m    334\u001b[0m             \u001b[0;31m# Overwrite f and g:\u001b[0m\u001b[0;34m\u001b[0m\u001b[0;34m\u001b[0m\u001b[0m\n\u001b[0;32m--> 335\u001b[0;31m             \u001b[0mf\u001b[0m\u001b[0;34m,\u001b[0m \u001b[0mg\u001b[0m \u001b[0;34m=\u001b[0m \u001b[0mfunc_and_grad\u001b[0m\u001b[0;34m(\u001b[0m\u001b[0mx\u001b[0m\u001b[0;34m)\u001b[0m\u001b[0;34m\u001b[0m\u001b[0m\n\u001b[0m\u001b[1;32m    336\u001b[0m         \u001b[0;32melif\u001b[0m \u001b[0mtask_str\u001b[0m\u001b[0;34m.\u001b[0m\u001b[0mstartswith\u001b[0m\u001b[0;34m(\u001b[0m\u001b[0;34mb'NEW_X'\u001b[0m\u001b[0;34m)\u001b[0m\u001b[0;34m:\u001b[0m\u001b[0;34m\u001b[0m\u001b[0m\n\u001b[1;32m    337\u001b[0m             \u001b[0;31m# new iteration\u001b[0m\u001b[0;34m\u001b[0m\u001b[0;34m\u001b[0m\u001b[0m\n",
      "\u001b[0;32m/opt/oscer/software/Python/3.6.4-foss-2018a/lib/python3.6/site-packages/scipy-1.0.0-py3.6-linux-x86_64.egg/scipy/optimize/lbfgsb.py\u001b[0m in \u001b[0;36mfunc_and_grad\u001b[0;34m(x)\u001b[0m\n\u001b[1;32m    283\u001b[0m     \u001b[0;32melse\u001b[0m\u001b[0;34m:\u001b[0m\u001b[0;34m\u001b[0m\u001b[0m\n\u001b[1;32m    284\u001b[0m         \u001b[0;32mdef\u001b[0m \u001b[0mfunc_and_grad\u001b[0m\u001b[0;34m(\u001b[0m\u001b[0mx\u001b[0m\u001b[0;34m)\u001b[0m\u001b[0;34m:\u001b[0m\u001b[0;34m\u001b[0m\u001b[0m\n\u001b[0;32m--> 285\u001b[0;31m             \u001b[0mf\u001b[0m \u001b[0;34m=\u001b[0m \u001b[0mfun\u001b[0m\u001b[0;34m(\u001b[0m\u001b[0mx\u001b[0m\u001b[0;34m,\u001b[0m \u001b[0;34m*\u001b[0m\u001b[0margs\u001b[0m\u001b[0;34m)\u001b[0m\u001b[0;34m\u001b[0m\u001b[0m\n\u001b[0m\u001b[1;32m    286\u001b[0m             \u001b[0mg\u001b[0m \u001b[0;34m=\u001b[0m \u001b[0mjac\u001b[0m\u001b[0;34m(\u001b[0m\u001b[0mx\u001b[0m\u001b[0;34m,\u001b[0m \u001b[0;34m*\u001b[0m\u001b[0margs\u001b[0m\u001b[0;34m)\u001b[0m\u001b[0;34m\u001b[0m\u001b[0m\n\u001b[1;32m    287\u001b[0m             \u001b[0;32mreturn\u001b[0m \u001b[0mf\u001b[0m\u001b[0;34m,\u001b[0m \u001b[0mg\u001b[0m\u001b[0;34m\u001b[0m\u001b[0m\n",
      "\u001b[0;32m/opt/oscer/software/Python/3.6.4-foss-2018a/lib/python3.6/site-packages/scipy-1.0.0-py3.6-linux-x86_64.egg/scipy/optimize/optimize.py\u001b[0m in \u001b[0;36mfunction_wrapper\u001b[0;34m(*wrapper_args)\u001b[0m\n\u001b[1;32m    290\u001b[0m     \u001b[0;32mdef\u001b[0m \u001b[0mfunction_wrapper\u001b[0m\u001b[0;34m(\u001b[0m\u001b[0;34m*\u001b[0m\u001b[0mwrapper_args\u001b[0m\u001b[0;34m)\u001b[0m\u001b[0;34m:\u001b[0m\u001b[0;34m\u001b[0m\u001b[0m\n\u001b[1;32m    291\u001b[0m         \u001b[0mncalls\u001b[0m\u001b[0;34m[\u001b[0m\u001b[0;36m0\u001b[0m\u001b[0;34m]\u001b[0m \u001b[0;34m+=\u001b[0m \u001b[0;36m1\u001b[0m\u001b[0;34m\u001b[0m\u001b[0m\n\u001b[0;32m--> 292\u001b[0;31m         \u001b[0;32mreturn\u001b[0m \u001b[0mfunction\u001b[0m\u001b[0;34m(\u001b[0m\u001b[0;34m*\u001b[0m\u001b[0;34m(\u001b[0m\u001b[0mwrapper_args\u001b[0m \u001b[0;34m+\u001b[0m \u001b[0margs\u001b[0m\u001b[0;34m)\u001b[0m\u001b[0;34m)\u001b[0m\u001b[0;34m\u001b[0m\u001b[0m\n\u001b[0m\u001b[1;32m    293\u001b[0m \u001b[0;34m\u001b[0m\u001b[0m\n\u001b[1;32m    294\u001b[0m     \u001b[0;32mreturn\u001b[0m \u001b[0mncalls\u001b[0m\u001b[0;34m,\u001b[0m \u001b[0mfunction_wrapper\u001b[0m\u001b[0;34m\u001b[0m\u001b[0m\n",
      "\u001b[0;32m/opt/oscer/software/Python/3.6.4-foss-2018a/lib/python3.6/site-packages/scipy-1.0.0-py3.6-linux-x86_64.egg/scipy/optimize/optimize.py\u001b[0m in \u001b[0;36m__call__\u001b[0;34m(self, x, *args)\u001b[0m\n\u001b[1;32m     61\u001b[0m     \u001b[0;32mdef\u001b[0m \u001b[0m__call__\u001b[0m\u001b[0;34m(\u001b[0m\u001b[0mself\u001b[0m\u001b[0;34m,\u001b[0m \u001b[0mx\u001b[0m\u001b[0;34m,\u001b[0m \u001b[0;34m*\u001b[0m\u001b[0margs\u001b[0m\u001b[0;34m)\u001b[0m\u001b[0;34m:\u001b[0m\u001b[0;34m\u001b[0m\u001b[0m\n\u001b[1;32m     62\u001b[0m         \u001b[0mself\u001b[0m\u001b[0;34m.\u001b[0m\u001b[0mx\u001b[0m \u001b[0;34m=\u001b[0m \u001b[0mnumpy\u001b[0m\u001b[0;34m.\u001b[0m\u001b[0masarray\u001b[0m\u001b[0;34m(\u001b[0m\u001b[0mx\u001b[0m\u001b[0;34m)\u001b[0m\u001b[0;34m.\u001b[0m\u001b[0mcopy\u001b[0m\u001b[0;34m(\u001b[0m\u001b[0;34m)\u001b[0m\u001b[0;34m\u001b[0m\u001b[0m\n\u001b[0;32m---> 63\u001b[0;31m         \u001b[0mfg\u001b[0m \u001b[0;34m=\u001b[0m \u001b[0mself\u001b[0m\u001b[0;34m.\u001b[0m\u001b[0mfun\u001b[0m\u001b[0;34m(\u001b[0m\u001b[0mx\u001b[0m\u001b[0;34m,\u001b[0m \u001b[0;34m*\u001b[0m\u001b[0margs\u001b[0m\u001b[0;34m)\u001b[0m\u001b[0;34m\u001b[0m\u001b[0m\n\u001b[0m\u001b[1;32m     64\u001b[0m         \u001b[0mself\u001b[0m\u001b[0;34m.\u001b[0m\u001b[0mjac\u001b[0m \u001b[0;34m=\u001b[0m \u001b[0mfg\u001b[0m\u001b[0;34m[\u001b[0m\u001b[0;36m1\u001b[0m\u001b[0;34m]\u001b[0m\u001b[0;34m\u001b[0m\u001b[0m\n\u001b[1;32m     65\u001b[0m         \u001b[0;32mreturn\u001b[0m \u001b[0mfg\u001b[0m\u001b[0;34m[\u001b[0m\u001b[0;36m0\u001b[0m\u001b[0;34m]\u001b[0m\u001b[0;34m\u001b[0m\u001b[0m\n",
      "\u001b[0;32m/opt/oscer/software/scikit-learn/0.19.1-foss-2018a-Python-3.6.4/lib/python3.6/site-packages/sklearn/linear_model/logistic.py\u001b[0m in \u001b[0;36m_logistic_loss_and_grad\u001b[0;34m(w, X, y, alpha, sample_weight)\u001b[0m\n\u001b[1;32m    120\u001b[0m     \u001b[0mz0\u001b[0m \u001b[0;34m=\u001b[0m \u001b[0msample_weight\u001b[0m \u001b[0;34m*\u001b[0m \u001b[0;34m(\u001b[0m\u001b[0mz\u001b[0m \u001b[0;34m-\u001b[0m \u001b[0;36m1\u001b[0m\u001b[0;34m)\u001b[0m \u001b[0;34m*\u001b[0m \u001b[0my\u001b[0m\u001b[0;34m\u001b[0m\u001b[0m\n\u001b[1;32m    121\u001b[0m \u001b[0;34m\u001b[0m\u001b[0m\n\u001b[0;32m--> 122\u001b[0;31m     \u001b[0mgrad\u001b[0m\u001b[0;34m[\u001b[0m\u001b[0;34m:\u001b[0m\u001b[0mn_features\u001b[0m\u001b[0;34m]\u001b[0m \u001b[0;34m=\u001b[0m \u001b[0msafe_sparse_dot\u001b[0m\u001b[0;34m(\u001b[0m\u001b[0mX\u001b[0m\u001b[0;34m.\u001b[0m\u001b[0mT\u001b[0m\u001b[0;34m,\u001b[0m \u001b[0mz0\u001b[0m\u001b[0;34m)\u001b[0m \u001b[0;34m+\u001b[0m \u001b[0malpha\u001b[0m \u001b[0;34m*\u001b[0m \u001b[0mw\u001b[0m\u001b[0;34m\u001b[0m\u001b[0m\n\u001b[0m\u001b[1;32m    123\u001b[0m \u001b[0;34m\u001b[0m\u001b[0m\n\u001b[1;32m    124\u001b[0m     \u001b[0;31m# Case where we fit the intercept.\u001b[0m\u001b[0;34m\u001b[0m\u001b[0;34m\u001b[0m\u001b[0m\n",
      "\u001b[0;32m/opt/oscer/software/scikit-learn/0.19.1-foss-2018a-Python-3.6.4/lib/python3.6/site-packages/sklearn/utils/extmath.py\u001b[0m in \u001b[0;36msafe_sparse_dot\u001b[0;34m(a, b, dense_output)\u001b[0m\n\u001b[1;32m    138\u001b[0m         \u001b[0;32mreturn\u001b[0m \u001b[0mret\u001b[0m\u001b[0;34m\u001b[0m\u001b[0m\n\u001b[1;32m    139\u001b[0m     \u001b[0;32melse\u001b[0m\u001b[0;34m:\u001b[0m\u001b[0;34m\u001b[0m\u001b[0m\n\u001b[0;32m--> 140\u001b[0;31m         \u001b[0;32mreturn\u001b[0m \u001b[0mnp\u001b[0m\u001b[0;34m.\u001b[0m\u001b[0mdot\u001b[0m\u001b[0;34m(\u001b[0m\u001b[0ma\u001b[0m\u001b[0;34m,\u001b[0m \u001b[0mb\u001b[0m\u001b[0;34m)\u001b[0m\u001b[0;34m\u001b[0m\u001b[0m\n\u001b[0m\u001b[1;32m    141\u001b[0m \u001b[0;34m\u001b[0m\u001b[0m\n\u001b[1;32m    142\u001b[0m \u001b[0;34m\u001b[0m\u001b[0m\n",
      "\u001b[0;31mKeyboardInterrupt\u001b[0m: "
     ]
    }
   ],
   "source": [
    "\n",
    "for i in range(17,40):\n",
    "    clf = LogisticRegression(random_state=0,multi_class='ovr',max_iter =i,solver='lbfgs').fit(x_train, y_train[:,0])\n",
    "    models.append(clf)\n",
    "    ac=clf.score(x_val, y_val)\n",
    "    ac_train=clf.score(x_train, y_train)\n",
    "    acc_train.append(ac_train)\n",
    "    acc_val.append(ac)\n",
    "    pred=clf.predict_proba(x_val)\n",
    "    print(clf.predict_proba(x_val[1:2,:]))\n",
    "    pred_test=clf.predict_proba(x_test)\n",
    "    pred_train=clf.predict_proba(x_train)\n",
    "    au=roc_auc_score(y_val, pred[:,1])\n",
    "    au_test=roc_auc_score(y_test, pred_test[:,1])\n",
    "    au_train=roc_auc_score(y_train, pred_train[:,1])\n",
    "    auc_train.append(au_train)\n",
    "    auc_val.append(au)\n",
    "    print(\"Step %d Accuracy_train %f AUC_train %f Accuracy_val %f AUC_val %f Accuracy_test %f AUC_test %f\"%(i,ac_train,au_train,ac,au,clf.score(xt,yt),au_test))\n",
    "    "
   ]
  },
  {
   "cell_type": "code",
   "execution_count": 26,
   "metadata": {},
   "outputs": [
    {
     "data": {
      "text/plain": [
       "[0.6477692140686061,\n",
       " 0.6498031042465282,\n",
       " 0.6494319892165195,\n",
       " 0.6524715028943309,\n",
       " 0.6415966171091854,\n",
       " 0.6542266821883433,\n",
       " 0.649396858991606,\n",
       " 0.6503566966533383,\n",
       " 0.6452017107587062,\n",
       " 0.6472372658761978]"
      ]
     },
     "execution_count": 26,
     "metadata": {},
     "output_type": "execute_result"
    }
   ],
   "source": [
    "scores"
   ]
  },
  {
   "cell_type": "code",
   "execution_count": 22,
   "metadata": {},
   "outputs": [],
   "source": [
    "pred=models[17].predict_proba(x_val)"
   ]
  },
  {
   "cell_type": "code",
   "execution_count": null,
   "metadata": {},
   "outputs": [],
   "source": []
  },
  {
   "cell_type": "code",
   "execution_count": 41,
   "metadata": {},
   "outputs": [
    {
     "data": {
      "text/plain": [
       "array([[0.55934298, 0.44065702],\n",
       "       [0.5183279 , 0.4816721 ],\n",
       "       [0.58585985, 0.41414015],\n",
       "       ...,\n",
       "       [0.45612626, 0.54387374],\n",
       "       [0.50764994, 0.49235006],\n",
       "       [0.40764473, 0.59235527]])"
      ]
     },
     "execution_count": 41,
     "metadata": {},
     "output_type": "execute_result"
    }
   ],
   "source": [
    "prob"
   ]
  },
  {
   "cell_type": "code",
   "execution_count": 42,
   "metadata": {},
   "outputs": [
    {
     "data": {
      "text/plain": [
       "array([[0],\n",
       "       [1],\n",
       "       [1],\n",
       "       ...,\n",
       "       [1],\n",
       "       [1],\n",
       "       [1]])"
      ]
     },
     "execution_count": 42,
     "metadata": {},
     "output_type": "execute_result"
    }
   ],
   "source": [
    "yt"
   ]
  },
  {
   "cell_type": "code",
   "execution_count": 43,
   "metadata": {},
   "outputs": [
    {
     "data": {
      "text/plain": [
       "array([[2, 2, 1, ..., 2, 2, 2],\n",
       "       [1, 2, 2, ..., 2, 2, 2],\n",
       "       [2, 2, 2, ..., 2, 2, 2],\n",
       "       ...,\n",
       "       [0, 0, 0, ..., 0, 2, 2],\n",
       "       [1, 1, 2, ..., 2, 2, 2],\n",
       "       [2, 2, 2, ..., 2, 2, 2]], dtype=uint8)"
      ]
     },
     "execution_count": 43,
     "metadata": {},
     "output_type": "execute_result"
    }
   ],
   "source": [
    "xt"
   ]
  },
  {
   "cell_type": "code",
   "execution_count": null,
   "metadata": {},
   "outputs": [],
   "source": []
  },
  {
   "cell_type": "code",
   "execution_count": null,
   "metadata": {},
   "outputs": [],
   "source": []
  },
  {
   "cell_type": "code",
   "execution_count": 47,
   "metadata": {
    "scrolled": true
   },
   "outputs": [
    {
     "name": "stderr",
     "output_type": "stream",
     "text": [
      "\n",
      "\n",
      "Mapping files:   0%|          | 0/3 [00:00<?, ?it/s]\u001b[A\u001b[A\n",
      "\n",
      "Mapping files: 100%|██████████| 3/3 [00:00<00:00, 25.50it/s]\u001b[A\u001b[A\n",
      "\n",
      "Mapping files:   0%|          | 0/3 [00:00<?, ?it/s]\u001b[A\u001b[A\n",
      "\n",
      "Mapping files: 100%|██████████| 3/3 [00:00<00:00, 92.05it/s]\u001b[A\u001b[A"
     ]
    },
    {
     "name": "stdout",
     "output_type": "stream",
     "text": [
      "Convertion\n",
      "Compute\n",
      "Filling Null Data\n",
      "Convertion\n",
      "Compute\n",
      "Filling Null Data\n",
      "Step 30 Accuracy_train 0.598542 AUC_train 0.648029 Accuracy_val 0.601357 AUC_val 0.647868  \n",
      "Step 31 Accuracy_train 0.601383 AUC_train 0.649162 Accuracy_val 0.597964 AUC_val 0.649086  \n",
      "Step 32 Accuracy_train 0.600804 AUC_train 0.649917 Accuracy_val 0.600226 AUC_val 0.652021  \n",
      "Step 33 Accuracy_train 0.602388 AUC_train 0.651135 Accuracy_val 0.602036 AUC_val 0.652450  \n",
      "Step 34 Accuracy_train 0.603394 AUC_train 0.652104 Accuracy_val 0.604751 AUC_val 0.653308  \n",
      "Step 35 Accuracy_train 0.603444 AUC_train 0.652900 Accuracy_val 0.604299 AUC_val 0.652983  \n",
      "Step 36 Accuracy_train 0.604726 AUC_train 0.653789 Accuracy_val 0.605204 AUC_val 0.653263  \n",
      "Step 37 Accuracy_train 0.605782 AUC_train 0.654819 Accuracy_val 0.601584 AUC_val 0.652261  \n",
      "Step 38 Accuracy_train 0.606988 AUC_train 0.655674 Accuracy_val 0.604525 AUC_val 0.652945  \n",
      "Step 39 Accuracy_train 0.606687 AUC_train 0.656486 Accuracy_val 0.599095 AUC_val 0.651518  \n",
      "Step 40 Accuracy_train 0.608874 AUC_train 0.657225 Accuracy_val 0.599095 AUC_val 0.650328  \n",
      "Step 41 Accuracy_train 0.608547 AUC_train 0.657730 Accuracy_val 0.601584 AUC_val 0.651304  \n",
      "Step 42 Accuracy_train 0.608773 AUC_train 0.657726 Accuracy_val 0.600226 AUC_val 0.651298  \n"
     ]
    },
    {
     "ename": "KeyboardInterrupt",
     "evalue": "",
     "output_type": "error",
     "traceback": [
      "\u001b[0;31m---------------------------------------------------------------------------\u001b[0m",
      "\u001b[0;31mKeyboardInterrupt\u001b[0m                         Traceback (most recent call last)",
      "\u001b[0;32m<ipython-input-47-67bedf4776fd>\u001b[0m in \u001b[0;36m<module>\u001b[0;34m\u001b[0m\n\u001b[1;32m     36\u001b[0m     \u001b[0mbest_model\u001b[0m\u001b[0;34m=\u001b[0m\u001b[0;32mNone\u001b[0m\u001b[0;34m\u001b[0m\u001b[0m\n\u001b[1;32m     37\u001b[0m     \u001b[0;32mfor\u001b[0m \u001b[0mi\u001b[0m \u001b[0;32min\u001b[0m \u001b[0mrange\u001b[0m\u001b[0;34m(\u001b[0m\u001b[0;36m30\u001b[0m\u001b[0;34m,\u001b[0m\u001b[0;36m50\u001b[0m\u001b[0;34m)\u001b[0m\u001b[0;34m:\u001b[0m\u001b[0;34m\u001b[0m\u001b[0m\n\u001b[0;32m---> 38\u001b[0;31m         \u001b[0mclf\u001b[0m\u001b[0;34m=\u001b[0m\u001b[0mAdaBoostClassifier\u001b[0m\u001b[0;34m(\u001b[0m\u001b[0mDecisionTreeClassifier\u001b[0m\u001b[0;34m(\u001b[0m\u001b[0mmax_depth\u001b[0m\u001b[0;34m=\u001b[0m\u001b[0;36m1\u001b[0m\u001b[0;34m)\u001b[0m\u001b[0;34m,\u001b[0m\u001b[0mn_estimators\u001b[0m\u001b[0;34m=\u001b[0m\u001b[0mi\u001b[0m\u001b[0;34m)\u001b[0m\u001b[0;34m.\u001b[0m\u001b[0mfit\u001b[0m\u001b[0;34m(\u001b[0m\u001b[0mx_train\u001b[0m\u001b[0;34m,\u001b[0m \u001b[0my_train\u001b[0m\u001b[0;34m[\u001b[0m\u001b[0;34m:\u001b[0m\u001b[0;34m,\u001b[0m\u001b[0;36m0\u001b[0m\u001b[0;34m]\u001b[0m\u001b[0;34m)\u001b[0m\u001b[0;31m#RandomForestClassifier(n_estimators=5000, max_depth=i,random_state=0,n_jobs=40).fit(x_train, y_train[:,0])\u001b[0m\u001b[0;34m\u001b[0m\u001b[0m\n\u001b[0m\u001b[1;32m     39\u001b[0m         \u001b[0mac\u001b[0m\u001b[0;34m=\u001b[0m\u001b[0mclf\u001b[0m\u001b[0;34m.\u001b[0m\u001b[0mscore\u001b[0m\u001b[0;34m(\u001b[0m\u001b[0mx_val\u001b[0m\u001b[0;34m,\u001b[0m \u001b[0my_val\u001b[0m\u001b[0;34m)\u001b[0m\u001b[0;34m\u001b[0m\u001b[0m\n\u001b[1;32m     40\u001b[0m         \u001b[0mac_train\u001b[0m\u001b[0;34m=\u001b[0m\u001b[0mclf\u001b[0m\u001b[0;34m.\u001b[0m\u001b[0mscore\u001b[0m\u001b[0;34m(\u001b[0m\u001b[0mx_train\u001b[0m\u001b[0;34m,\u001b[0m \u001b[0my_train\u001b[0m\u001b[0;34m)\u001b[0m\u001b[0;34m\u001b[0m\u001b[0m\n",
      "\u001b[0;32m/opt/oscer/software/scikit-learn/0.19.1-foss-2018a-Python-3.6.4/lib/python3.6/site-packages/sklearn/ensemble/weight_boosting.py\u001b[0m in \u001b[0;36mfit\u001b[0;34m(self, X, y, sample_weight)\u001b[0m\n\u001b[1;32m    411\u001b[0m \u001b[0;34m\u001b[0m\u001b[0m\n\u001b[1;32m    412\u001b[0m         \u001b[0;31m# Fit\u001b[0m\u001b[0;34m\u001b[0m\u001b[0;34m\u001b[0m\u001b[0m\n\u001b[0;32m--> 413\u001b[0;31m         \u001b[0;32mreturn\u001b[0m \u001b[0msuper\u001b[0m\u001b[0;34m(\u001b[0m\u001b[0mAdaBoostClassifier\u001b[0m\u001b[0;34m,\u001b[0m \u001b[0mself\u001b[0m\u001b[0;34m)\u001b[0m\u001b[0;34m.\u001b[0m\u001b[0mfit\u001b[0m\u001b[0;34m(\u001b[0m\u001b[0mX\u001b[0m\u001b[0;34m,\u001b[0m \u001b[0my\u001b[0m\u001b[0;34m,\u001b[0m \u001b[0msample_weight\u001b[0m\u001b[0;34m)\u001b[0m\u001b[0;34m\u001b[0m\u001b[0m\n\u001b[0m\u001b[1;32m    414\u001b[0m \u001b[0;34m\u001b[0m\u001b[0m\n\u001b[1;32m    415\u001b[0m     \u001b[0;32mdef\u001b[0m \u001b[0m_validate_estimator\u001b[0m\u001b[0;34m(\u001b[0m\u001b[0mself\u001b[0m\u001b[0;34m)\u001b[0m\u001b[0;34m:\u001b[0m\u001b[0;34m\u001b[0m\u001b[0m\n",
      "\u001b[0;32m/opt/oscer/software/scikit-learn/0.19.1-foss-2018a-Python-3.6.4/lib/python3.6/site-packages/sklearn/ensemble/weight_boosting.py\u001b[0m in \u001b[0;36mfit\u001b[0;34m(self, X, y, sample_weight)\u001b[0m\n\u001b[1;32m    143\u001b[0m                 \u001b[0mX\u001b[0m\u001b[0;34m,\u001b[0m \u001b[0my\u001b[0m\u001b[0;34m,\u001b[0m\u001b[0;34m\u001b[0m\u001b[0m\n\u001b[1;32m    144\u001b[0m                 \u001b[0msample_weight\u001b[0m\u001b[0;34m,\u001b[0m\u001b[0;34m\u001b[0m\u001b[0m\n\u001b[0;32m--> 145\u001b[0;31m                 random_state)\n\u001b[0m\u001b[1;32m    146\u001b[0m \u001b[0;34m\u001b[0m\u001b[0m\n\u001b[1;32m    147\u001b[0m             \u001b[0;31m# Early termination\u001b[0m\u001b[0;34m\u001b[0m\u001b[0;34m\u001b[0m\u001b[0m\n",
      "\u001b[0;32m/opt/oscer/software/scikit-learn/0.19.1-foss-2018a-Python-3.6.4/lib/python3.6/site-packages/sklearn/ensemble/weight_boosting.py\u001b[0m in \u001b[0;36m_boost\u001b[0;34m(self, iboost, X, y, sample_weight, random_state)\u001b[0m\n\u001b[1;32m    471\u001b[0m         \"\"\"\n\u001b[1;32m    472\u001b[0m         \u001b[0;32mif\u001b[0m \u001b[0mself\u001b[0m\u001b[0;34m.\u001b[0m\u001b[0malgorithm\u001b[0m \u001b[0;34m==\u001b[0m \u001b[0;34m'SAMME.R'\u001b[0m\u001b[0;34m:\u001b[0m\u001b[0;34m\u001b[0m\u001b[0m\n\u001b[0;32m--> 473\u001b[0;31m             \u001b[0;32mreturn\u001b[0m \u001b[0mself\u001b[0m\u001b[0;34m.\u001b[0m\u001b[0m_boost_real\u001b[0m\u001b[0;34m(\u001b[0m\u001b[0miboost\u001b[0m\u001b[0;34m,\u001b[0m \u001b[0mX\u001b[0m\u001b[0;34m,\u001b[0m \u001b[0my\u001b[0m\u001b[0;34m,\u001b[0m \u001b[0msample_weight\u001b[0m\u001b[0;34m,\u001b[0m \u001b[0mrandom_state\u001b[0m\u001b[0;34m)\u001b[0m\u001b[0;34m\u001b[0m\u001b[0m\n\u001b[0m\u001b[1;32m    474\u001b[0m \u001b[0;34m\u001b[0m\u001b[0m\n\u001b[1;32m    475\u001b[0m         \u001b[0;32melse\u001b[0m\u001b[0;34m:\u001b[0m  \u001b[0;31m# elif self.algorithm == \"SAMME\":\u001b[0m\u001b[0;34m\u001b[0m\u001b[0m\n",
      "\u001b[0;32m/opt/oscer/software/scikit-learn/0.19.1-foss-2018a-Python-3.6.4/lib/python3.6/site-packages/sklearn/ensemble/weight_boosting.py\u001b[0m in \u001b[0;36m_boost_real\u001b[0;34m(self, iboost, X, y, sample_weight, random_state)\u001b[0m\n\u001b[1;32m    481\u001b[0m         \u001b[0mestimator\u001b[0m \u001b[0;34m=\u001b[0m \u001b[0mself\u001b[0m\u001b[0;34m.\u001b[0m\u001b[0m_make_estimator\u001b[0m\u001b[0;34m(\u001b[0m\u001b[0mrandom_state\u001b[0m\u001b[0;34m=\u001b[0m\u001b[0mrandom_state\u001b[0m\u001b[0;34m)\u001b[0m\u001b[0;34m\u001b[0m\u001b[0m\n\u001b[1;32m    482\u001b[0m \u001b[0;34m\u001b[0m\u001b[0m\n\u001b[0;32m--> 483\u001b[0;31m         \u001b[0mestimator\u001b[0m\u001b[0;34m.\u001b[0m\u001b[0mfit\u001b[0m\u001b[0;34m(\u001b[0m\u001b[0mX\u001b[0m\u001b[0;34m,\u001b[0m \u001b[0my\u001b[0m\u001b[0;34m,\u001b[0m \u001b[0msample_weight\u001b[0m\u001b[0;34m=\u001b[0m\u001b[0msample_weight\u001b[0m\u001b[0;34m)\u001b[0m\u001b[0;34m\u001b[0m\u001b[0m\n\u001b[0m\u001b[1;32m    484\u001b[0m \u001b[0;34m\u001b[0m\u001b[0m\n\u001b[1;32m    485\u001b[0m         \u001b[0my_predict_proba\u001b[0m \u001b[0;34m=\u001b[0m \u001b[0mestimator\u001b[0m\u001b[0;34m.\u001b[0m\u001b[0mpredict_proba\u001b[0m\u001b[0;34m(\u001b[0m\u001b[0mX\u001b[0m\u001b[0;34m)\u001b[0m\u001b[0;34m\u001b[0m\u001b[0m\n",
      "\u001b[0;32m/opt/oscer/software/scikit-learn/0.19.1-foss-2018a-Python-3.6.4/lib/python3.6/site-packages/sklearn/tree/tree.py\u001b[0m in \u001b[0;36mfit\u001b[0;34m(self, X, y, sample_weight, check_input, X_idx_sorted)\u001b[0m\n\u001b[1;32m    788\u001b[0m             \u001b[0msample_weight\u001b[0m\u001b[0;34m=\u001b[0m\u001b[0msample_weight\u001b[0m\u001b[0;34m,\u001b[0m\u001b[0;34m\u001b[0m\u001b[0m\n\u001b[1;32m    789\u001b[0m             \u001b[0mcheck_input\u001b[0m\u001b[0;34m=\u001b[0m\u001b[0mcheck_input\u001b[0m\u001b[0;34m,\u001b[0m\u001b[0;34m\u001b[0m\u001b[0m\n\u001b[0;32m--> 790\u001b[0;31m             X_idx_sorted=X_idx_sorted)\n\u001b[0m\u001b[1;32m    791\u001b[0m         \u001b[0;32mreturn\u001b[0m \u001b[0mself\u001b[0m\u001b[0;34m\u001b[0m\u001b[0m\n\u001b[1;32m    792\u001b[0m \u001b[0;34m\u001b[0m\u001b[0m\n",
      "\u001b[0;32m/opt/oscer/software/scikit-learn/0.19.1-foss-2018a-Python-3.6.4/lib/python3.6/site-packages/sklearn/tree/tree.py\u001b[0m in \u001b[0;36mfit\u001b[0;34m(self, X, y, sample_weight, check_input, X_idx_sorted)\u001b[0m\n\u001b[1;32m    360\u001b[0m                                            min_impurity_split)\n\u001b[1;32m    361\u001b[0m \u001b[0;34m\u001b[0m\u001b[0m\n\u001b[0;32m--> 362\u001b[0;31m         \u001b[0mbuilder\u001b[0m\u001b[0;34m.\u001b[0m\u001b[0mbuild\u001b[0m\u001b[0;34m(\u001b[0m\u001b[0mself\u001b[0m\u001b[0;34m.\u001b[0m\u001b[0mtree_\u001b[0m\u001b[0;34m,\u001b[0m \u001b[0mX\u001b[0m\u001b[0;34m,\u001b[0m \u001b[0my\u001b[0m\u001b[0;34m,\u001b[0m \u001b[0msample_weight\u001b[0m\u001b[0;34m,\u001b[0m \u001b[0mX_idx_sorted\u001b[0m\u001b[0;34m)\u001b[0m\u001b[0;34m\u001b[0m\u001b[0m\n\u001b[0m\u001b[1;32m    363\u001b[0m \u001b[0;34m\u001b[0m\u001b[0m\n\u001b[1;32m    364\u001b[0m         \u001b[0;32mif\u001b[0m \u001b[0mself\u001b[0m\u001b[0;34m.\u001b[0m\u001b[0mn_outputs_\u001b[0m \u001b[0;34m==\u001b[0m \u001b[0;36m1\u001b[0m\u001b[0;34m:\u001b[0m\u001b[0;34m\u001b[0m\u001b[0m\n",
      "\u001b[0;31mKeyboardInterrupt\u001b[0m: "
     ]
    }
   ],
   "source": [
    "#best_models=[]\n",
    "for i in range(1):\n",
    "    \n",
    "    (bim, fam, bed)=read_plink(\"/work/breastcancer/clean_test/cv/10-fold/sig_\"+str(i))\n",
    "    (bim2, fam2, bed2)=read_plink(\"/work/breastcancer/clean_test/cv/10-fold/val_\"+str(i))\n",
    "    ##fetch data\n",
    "    print(\"Convertion\")\n",
    "    bed=bed.astype('uint8')\n",
    "    print(\"Compute\")\n",
    "    X=bed.compute()\n",
    "    print(\"Filling Null Data\")\n",
    "    X[np.isnan(X)]=2\n",
    "    #test\n",
    "    print(\"Convertion\")\n",
    "    bed2=bed2.astype('uint8')\n",
    "    print(\"Compute\")\n",
    "    X_val=bed2.compute()\n",
    "    print(\"Filling Null Data\")\n",
    "    X_val[np.isnan(X_val)]=2\n",
    "    Y=fam[\"trait\"].astype(\"int\")\n",
    "    Y=Y-1\n",
    "    Xdf=pd.DataFrame(X.T)\n",
    "    Xdf[\"Y\"]=Y\n",
    "\n",
    "    Y_val=fam2[\"trait\"].astype(\"int\")\n",
    "    Y_val=Y_val-1\n",
    "    Xdf_val=pd.DataFrame(X_val.T)\n",
    "    Xdf_val[\"Y\"]=Y_val\n",
    "\n",
    "    x_train=Xdf.drop(['Y'],axis=1).values\n",
    "    y_train=Xdf[['Y']].values\n",
    "\n",
    "    x_val=Xdf_val.drop(['Y'],axis=1).values\n",
    "    y_val=Xdf_val[['Y']].values\n",
    "    best_auc=0\n",
    "    best_model=None\n",
    "    for i in range(30,50):\n",
    "        clf=AdaBoostClassifier(DecisionTreeClassifier(max_depth=1),n_estimators=i).fit(x_train, y_train[:,0])#RandomForestClassifier(n_estimators=5000, max_depth=i,random_state=0,n_jobs=40).fit(x_train, y_train[:,0])\n",
    "        ac=clf.score(x_val, y_val)\n",
    "        ac_train=clf.score(x_train, y_train)\n",
    "        pred=clf.predict_proba(x_val)\n",
    "        pred_train=clf.predict_proba(x_train)\n",
    "        au=roc_auc_score(y_val, pred[:,1])\n",
    "        au_train=roc_auc_score(y_train, pred_train[:,1])\n",
    "        if best_auc<au:\n",
    "            best_model=clf\n",
    "            best_auc=au\n",
    "        print(\"Step %d Accuracy_train %f AUC_train %f Accuracy_val %f AUC_val %f  \"%(i,ac_train,au_train,ac,au))\n",
    "    best_models.append(best_model)"
   ]
  },
  {
   "cell_type": "code",
   "execution_count": 48,
   "metadata": {},
   "outputs": [
    {
     "name": "stderr",
     "output_type": "stream",
     "text": [
      "\n",
      "\n",
      "Mapping files:   0%|          | 0/3 [00:00<?, ?it/s]\u001b[A\u001b[A\n",
      "\n",
      "Mapping files: 100%|██████████| 3/3 [00:00<00:00, 88.77it/s]\u001b[A\u001b[A"
     ]
    },
    {
     "name": "stdout",
     "output_type": "stream",
     "text": [
      "Convertion\n",
      "Compute\n",
      "Filling Null Data\n",
      "Convertion\n",
      "Step 43 Accuracy_test 0.605376 AUC_test 0.647009\n"
     ]
    }
   ],
   "source": [
    "(bim, fam, bed)=read_plink(\"/work/breastcancer/clean_test/cv/test/test_0\")\n",
    "##fetch data\n",
    "print(\"Convertion\")\n",
    "bed=bed.astype('uint8')\n",
    "print(\"Compute\")\n",
    "X=bed.compute()\n",
    "print(\"Filling Null Data\")\n",
    "X[np.isnan(X)]=2\n",
    "#test\n",
    "print(\"Convertion\")\n",
    "Y=fam[\"trait\"].astype(\"int\")\n",
    "Y=Y-1\n",
    "Xdf=pd.DataFrame(X.T)\n",
    "Xdf[\"Y\"]=Y\n",
    "x_train=Xdf.drop(['Y'],axis=1).values\n",
    "y_train=Xdf[['Y']].values\n",
    "clf=best_model\n",
    "ac_train=clf.score(x_train, y_train)\n",
    "pred_train=clf.predict_proba(x_train)\n",
    "au_train=roc_auc_score(y_train, pred_train[:,1]) \n",
    "scores.append(au_train)\n",
    "print(\"Step %d Accuracy_test %f AUC_test %f\"%(i,ac_train,au_train))"
   ]
  },
  {
   "cell_type": "code",
   "execution_count": 21,
   "metadata": {},
   "outputs": [],
   "source": [
    "def print_result(clf,x_val,y_val,x_test,y_test,name):\n",
    "    print(\"Validation:\")\n",
    "    print(\"Accuracy:\",clf.score(x_val,y_val))\n",
    "    print(\"AUC:\",roc_auc_score(y_val,clf.predict_proba(x_val)[:,1]))\n",
    "    print(\"Log Loss:\",log_loss(y_val,clf.predict_proba(x_val)[:,1]))\n",
    "    print(classification_report(y_val,np.round(clf.predict_proba(x_val)[:,1])))\n",
    "    print(\"Testing:\")\n",
    "    print(\"Accuracy:\",clf.score(x_test,y_test))\n",
    "    print(\"AUC:\",roc_auc_score(y_test,clf.predict_proba(x_test)[:,1]))\n",
    "    print(\"Log Loss:\",log_loss(y_test,clf.predict_proba(x_test)[:,1]))\n",
    "    print(classification_report(y_test,np.round(clf.predict_proba(x_test)[:,1])))\n",
    "    fpr, tpr, threshold = roc_curve(y_test,clf.predict_proba(x_test)[:,1])\n",
    "    pd.DataFrame(np.array([fpr,tpr,threshold]).T).to_csv(\"/work/breastcancer/clean_test/results/roc_\"+str(name)+\"001.csv\")"
   ]
  },
  {
   "cell_type": "code",
   "execution_count": 23,
   "metadata": {},
   "outputs": [],
   "source": [
    "clf = LogisticRegression(random_state=0,multi_class='ovr',max_iter =20,solver='lbfgs').fit(x_train, y_train[:,0])"
   ]
  },
  {
   "cell_type": "code",
   "execution_count": 24,
   "metadata": {},
   "outputs": [
    {
     "name": "stdout",
     "output_type": "stream",
     "text": [
      "Validation:\n",
      "Accuracy: 0.6085097719869706\n",
      "AUC: 0.6573713185864504\n",
      "Log Loss: 0.6497527253079121\n",
      "             precision    recall  f1-score   support\n",
      "\n",
      "          0       0.58      0.56      0.57      2295\n",
      "          1       0.63      0.65      0.64      2617\n",
      "\n",
      "avg / total       0.61      0.61      0.61      4912\n",
      "\n",
      "Testing:\n",
      "Accuracy: 0.6066775244299675\n",
      "AUC: 0.6568535700954513\n",
      "Log Loss: 0.64912991835998\n",
      "             precision    recall  f1-score   support\n",
      "\n",
      "          0       0.58      0.55      0.56      2280\n",
      "          1       0.63      0.66      0.64      2632\n",
      "\n",
      "avg / total       0.61      0.61      0.61      4912\n",
      "\n"
     ]
    }
   ],
   "source": [
    " print_result(clf,x_val,y_val,x_test,y_test,\"LBFGS\")"
   ]
  },
  {
   "cell_type": "code",
   "execution_count": 26,
   "metadata": {},
   "outputs": [
    {
     "name": "stdout",
     "output_type": "stream",
     "text": [
      "[0.00000000e+00 0.00000000e+00 4.38596491e-04 ... 9.99122807e-01\n",
      " 9.99122807e-01 1.00000000e+00]\n"
     ]
    }
   ],
   "source": [
    "fpr1, tpr1, threshold = roc_curve(y_test.T[0],clf.predict_proba(x_test)[:,1])\n",
    "print(fpr1)"
   ]
  },
  {
   "cell_type": "code",
   "execution_count": 32,
   "metadata": {},
   "outputs": [],
   "source": [
    "fpr2, tpr2, t = roc_curve(y_test.T[0],clf2.predict_proba(x_test)[:,1])\n",
    "\n",
    "fpr3, tpr3, t  = roc_curve(y_test.T[0],clf5.predict_proba(x_test)[:,1])\n",
    "\n",
    "fpr4, tpr4, t  = roc_curve(y_test.T[0],clf3.predict_proba(x_test)[:,1])\n",
    "\n",
    "fpr5, tpr5, t  = roc_curve(y_test.T[0],clf6.predict_proba(x_test)[:,1])\n",
    "\n",
    "fpr6, tpr6, t = roc_curve(y_test.T[0],clf7.predict_proba(x_test)[:,1])\n"
   ]
  },
  {
   "cell_type": "code",
   "execution_count": 31,
   "metadata": {},
   "outputs": [],
   "source": [
    "a=pd.read_csv(\"/work/breastcancer/clean_test/results/roc_logisitc001l2.csv\").drop(\"Unnamed: 0\",axis=1)\n",
    "b=pd.read_csv(\"/work/breastcancer/clean_test/results/dnn001_ROC.csv\").drop(\"Unnamed: 0\",axis=1)\n",
    "d=pd.read_csv(\"/work/breastcancer/clean_test/results/roc_SVM001.csv\").drop(\"Unnamed: 0\",axis=1)"
   ]
  },
  {
   "cell_type": "code",
   "execution_count": 41,
   "metadata": {},
   "outputs": [
    {
     "name": "stdout",
     "output_type": "stream",
     "text": [
      "[0.         0.56762918 1.        ]\n",
      "[0.         0.35448328 0.35942249 ... 0.99962006 0.99962006 1.        ]\n",
      "[3.79939210e-04 3.45744681e-02 3.45744681e-02 ... 9.99620061e-01\n",
      " 1.00000000e+00 1.00000000e+00]\n",
      "[3.79939210e-04 6.87689970e-02 6.87689970e-02 ... 9.99620061e-01\n",
      " 1.00000000e+00 1.00000000e+00]\n",
      "[3.79939210e-04 6.15501520e-02 6.15501520e-02 ... 9.99620061e-01\n",
      " 1.00000000e+00 1.00000000e+00]\n",
      "[3.79939210e-04 2.65957447e-02 2.65957447e-02 ... 9.99620061e-01\n",
      " 1.00000000e+00 1.00000000e+00]\n",
      "[3.79939210e-04 5.35714286e-02 5.35714286e-02 ... 9.99620061e-01\n",
      " 1.00000000e+00 1.00000000e+00]\n",
      "[3.79939210e-04 5.77507599e-02 5.77507599e-02 ... 9.99620061e-01\n",
      " 1.00000000e+00 1.00000000e+00]\n"
     ]
    },
    {
     "data": {
      "image/png": "[encoded data removed]",
      "text/plain": [
       "<matplotlib.figure.Figure at 0x2b9e6a31aba8>"
      ]
     },
     "metadata": {
      "needs_background": "light"
     },
     "output_type": "display_data"
    }
   ],
   "source": [
    "fpr=[fpr2,fpr3,fpr4,fpr5,fpr6,d[\"0\"].values,a[\"0\"].values,b[\"0\"].values]\n",
    "tpr=[tpr2,tpr3,tpr4,tpr5,tpr6,d[\"1\"].values,a[\"1\"].values,b[\"1\"].values]\n",
    "\n",
    "names=[\" \",\" \",\" \",\" \",\" \",\" \",\" \",\" \"]\n",
    "def plot_roc_curve(fpr, tpr, model_names):\n",
    "    fig,ax=plt.subplots(figsize=(15,10))\n",
    "    for i in range(len(tpr)):\n",
    "        print(tpr[i])\n",
    "        ax.plot(fpr[i], tpr[i], label=str(model_names[i]))\n",
    "    ax.plot([0, 1], [0, 1], color='darkblue', linestyle='--')\n",
    "    #ax.set_xlabel('False Positive Rate',fontsize=15)\n",
    "    #ax.set_ylabel('True Positive Rate',fontsize=15)\n",
    "    #plt.title('Receiver Operating Characteristic (ROC) Curve on Testing Set',fontsize=15)\n",
    "    legend = ax.legend(loc='lower center', frameon=False,shadow=True, fontsize='x-large')\n",
    "\n",
    "    plt.show()\n",
    "plot_roc_curve(fpr,tpr,names)"
   ]
  },
  {
   "cell_type": "code",
   "execution_count": 19,
   "metadata": {},
   "outputs": [],
   "source": [
    "import pickle"
   ]
  },
  {
   "cell_type": "code",
   "execution_count": 20,
   "metadata": {},
   "outputs": [
    {
     "ename": "NameError",
     "evalue": "name 'clf2' is not defined",
     "output_type": "error",
     "traceback": [
      "\u001b[0;31m---------------------------------------------------------------------------\u001b[0m",
      "\u001b[0;31mNameError\u001b[0m                                 Traceback (most recent call last)",
      "\u001b[0;32m<ipython-input-20-0875a1943d7a>\u001b[0m in \u001b[0;36m<module>\u001b[0;34m\u001b[0m\n\u001b[1;32m      1\u001b[0m \u001b[0;32mwith\u001b[0m \u001b[0mopen\u001b[0m\u001b[0;34m(\u001b[0m\u001b[0;34m'/work/breastcancer/clean_test/results/decisionTree.pickle'\u001b[0m\u001b[0;34m,\u001b[0m \u001b[0;34m'wb'\u001b[0m\u001b[0;34m)\u001b[0m \u001b[0;32mas\u001b[0m \u001b[0mhandle\u001b[0m\u001b[0;34m:\u001b[0m\u001b[0;34m\u001b[0m\u001b[0m\n\u001b[0;32m----> 2\u001b[0;31m     \u001b[0mpickle\u001b[0m\u001b[0;34m.\u001b[0m\u001b[0mdump\u001b[0m\u001b[0;34m(\u001b[0m\u001b[0mclf2\u001b[0m\u001b[0;34m,\u001b[0m \u001b[0mhandle\u001b[0m\u001b[0;34m,\u001b[0m \u001b[0mprotocol\u001b[0m\u001b[0;34m=\u001b[0m\u001b[0mpickle\u001b[0m\u001b[0;34m.\u001b[0m\u001b[0mHIGHEST_PROTOCOL\u001b[0m\u001b[0;34m)\u001b[0m\u001b[0;34m\u001b[0m\u001b[0m\n\u001b[0m",
      "\u001b[0;31mNameError\u001b[0m: name 'clf2' is not defined"
     ]
    }
   ],
   "source": [
    "with open('/work/breastcancer/clean_test/results/decisionTree.pickle', 'wb') as handle:\n",
    "    pickle.dump(clf2, handle, protocol=pickle.HIGHEST_PROTOCOL)"
   ]
  },
  {
   "cell_type": "code",
   "execution_count": null,
   "metadata": {},
   "outputs": [],
   "source": [
    "with open('/work/breastcancer/clean_test/results/randomForest.pickle', 'wb') as handle:\n",
    "    pickle.dump(clf3, handle, protocol=pickle.HIGHEST_PROTOCOL)"
   ]
  },
  {
   "cell_type": "code",
   "execution_count": 21,
   "metadata": {},
   "outputs": [
    {
     "ename": "NameError",
     "evalue": "name 'clf5' is not defined",
     "output_type": "error",
     "traceback": [
      "\u001b[0;31m---------------------------------------------------------------------------\u001b[0m",
      "\u001b[0;31mNameError\u001b[0m                                 Traceback (most recent call last)",
      "\u001b[0;32m<ipython-input-21-c36301272663>\u001b[0m in \u001b[0;36m<module>\u001b[0;34m\u001b[0m\n\u001b[1;32m      1\u001b[0m \u001b[0;32mwith\u001b[0m \u001b[0mopen\u001b[0m\u001b[0;34m(\u001b[0m\u001b[0;34m'/work/breastcancer/clean_test/results/NaiveBayes.pickle'\u001b[0m\u001b[0;34m,\u001b[0m \u001b[0;34m'wb'\u001b[0m\u001b[0;34m)\u001b[0m \u001b[0;32mas\u001b[0m \u001b[0mhandle\u001b[0m\u001b[0;34m:\u001b[0m\u001b[0;34m\u001b[0m\u001b[0m\n\u001b[0;32m----> 2\u001b[0;31m     \u001b[0mpickle\u001b[0m\u001b[0;34m.\u001b[0m\u001b[0mdump\u001b[0m\u001b[0;34m(\u001b[0m\u001b[0mclf5\u001b[0m\u001b[0;34m,\u001b[0m \u001b[0mhandle\u001b[0m\u001b[0;34m,\u001b[0m \u001b[0mprotocol\u001b[0m\u001b[0;34m=\u001b[0m\u001b[0mpickle\u001b[0m\u001b[0;34m.\u001b[0m\u001b[0mHIGHEST_PROTOCOL\u001b[0m\u001b[0;34m)\u001b[0m\u001b[0;34m\u001b[0m\u001b[0m\n\u001b[0m",
      "\u001b[0;31mNameError\u001b[0m: name 'clf5' is not defined"
     ]
    }
   ],
   "source": [
    "with open('/work/breastcancer/clean_test/results/NaiveBayes.pickle', 'wb') as handle:\n",
    "    pickle.dump(clf5, handle, protocol=pickle.HIGHEST_PROTOCOL)"
   ]
  },
  {
   "cell_type": "code",
   "execution_count": 80,
   "metadata": {},
   "outputs": [],
   "source": [
    "with open('/work/breastcancer/clean_test/results/AdaBoost.pickle', 'wb') as handle:\n",
    "    pickle.dump(clf6, handle, protocol=pickle.HIGHEST_PROTOCOL)"
   ]
  },
  {
   "cell_type": "code",
   "execution_count": 81,
   "metadata": {},
   "outputs": [],
   "source": [
    "with open('/work/breastcancer/clean_test/results/GradientBoosting.pickle', 'wb') as handle:\n",
    "    pickle.dump(clf7, handle, protocol=pickle.HIGHEST_PROTOCOL)"
   ]
  },
  {
   "cell_type": "code",
   "execution_count": 27,
   "metadata": {},
   "outputs": [],
   "source": [
    "clf2 = DecisionTreeClassifier(random_state=0).fit(x_train, y_train[:,0])"
   ]
  },
  {
   "cell_type": "code",
   "execution_count": 58,
   "metadata": {},
   "outputs": [
    {
     "name": "stdout",
     "output_type": "stream",
     "text": [
      "[1 1 1 ... 0 1 1] [1. 1. 0. ... 1. 0. 1.] 0.0\n"
     ]
    },
    {
     "name": "stderr",
     "output_type": "stream",
     "text": [
      "/home/adbadre/.local/lib/python3.6/site-packages/ipykernel_launcher.py:8: RuntimeWarning: invalid value encountered in long_scalars\n",
      "  \n"
     ]
    },
    {
     "name": "stdout",
     "output_type": "stream",
     "text": [
      "[[1168 1112]\n",
      " [1138 1494]]\n",
      "Recall: 0.567629179331307\n",
      "0.999\n"
     ]
    }
   ],
   "source": [
    "def Find_5percent_Cutoff(target, predicted,number_of_thresholds):\n",
    "    print(target,predicted,min(predicted))\n",
    "    for threshold in range(int(1.5*number_of_thresholds),int(number_of_thresholds*-0.5),-1):\n",
    "        class_values=np.int32(predicted>threshold/number_of_thresholds)\n",
    "        #print(class_values)\n",
    "        #print(confusion_matrix(target,class_values))\n",
    "        tn, fp, fn, tp=confusion_matrix(target,class_values).ravel()\n",
    "        if tp/(tp+fp) <0.90:\n",
    "            print(confusion_matrix(target,class_values))\n",
    "            print(\"Recall:\",tp/(tp+fn))\n",
    "\n",
    "            break\n",
    "    \n",
    "    return threshold/number_of_thresholds \n",
    "th=Find_5percent_Cutoff(y_test[:,0],clf2.predict_proba(x_test)[:,1],1000)\n",
    "print(th)"
   ]
  },
  {
   "cell_type": "code",
   "execution_count": 59,
   "metadata": {},
   "outputs": [
    {
     "name": "stdout",
     "output_type": "stream",
     "text": [
      "[1 1 1 ... 0 1 1] [0.51767635 0.71818291 0.55550845 ... 0.54808036 0.43709293 0.64055584] 0.3813206134881926\n"
     ]
    },
    {
     "name": "stderr",
     "output_type": "stream",
     "text": [
      "/home/adbadre/.local/lib/python3.6/site-packages/ipykernel_launcher.py:8: RuntimeWarning: invalid value encountered in long_scalars\n",
      "  \n"
     ]
    },
    {
     "name": "stdout",
     "output_type": "stream",
     "text": [
      "[[2231   49]\n",
      " [2207  425]]\n",
      "Recall: 0.1614741641337386\n",
      "0.61\n"
     ]
    }
   ],
   "source": [
    "def Find_5percent_Cutoff(target, predicted,number_of_thresholds):\n",
    "    print(target,predicted,min(predicted))\n",
    "    for threshold in range(int(1.5*number_of_thresholds),int(number_of_thresholds*-0.5),-1):\n",
    "        class_values=np.int32(predicted>threshold/number_of_thresholds)\n",
    "        #print(class_values)\n",
    "        #print(confusion_matrix(target,class_values))\n",
    "        tn, fp, fn, tp=confusion_matrix(target,class_values).ravel()\n",
    "        if tp/(tp+fp) <0.90:\n",
    "            print(confusion_matrix(target,class_values))\n",
    "            print(\"Recall:\",tp/(tp+fn))\n",
    "\n",
    "            break\n",
    "    \n",
    "    return threshold/number_of_thresholds \n",
    "th=Find_5percent_Cutoff(y_test[:,0],clf3.predict_proba(x_test)[:,1],100)\n",
    "print(th)"
   ]
  },
  {
   "cell_type": "code",
   "execution_count": 56,
   "metadata": {},
   "outputs": [
    {
     "name": "stdout",
     "output_type": "stream",
     "text": [
      "[1 1 1 ... 0 1 1] [4.12268729e-21 1.00000000e+00 1.00000000e+00 ... 9.96820669e-01\n",
      " 1.11628621e-22 1.00000000e+00] 2.164741512522469e-195\n"
     ]
    },
    {
     "name": "stderr",
     "output_type": "stream",
     "text": [
      "/home/adbadre/.local/lib/python3.6/site-packages/ipykernel_launcher.py:8: RuntimeWarning: invalid value encountered in long_scalars\n",
      "  \n"
     ]
    },
    {
     "name": "stdout",
     "output_type": "stream",
     "text": [
      "[[1618  662]\n",
      " [1457 1175]]\n",
      "Recall: 0.44642857142857145\n",
      "0.999\n"
     ]
    }
   ],
   "source": [
    "def Find_5percent_Cutoff(target, predicted,number_of_thresholds):\n",
    "    print(target,predicted,min(predicted))\n",
    "    for threshold in range(int(1.5*number_of_thresholds),int(number_of_thresholds*-0.5),-1):\n",
    "        class_values=np.int32(predicted>threshold/number_of_thresholds)\n",
    "        #print(class_values)\n",
    "        #print(confusion_matrix(target,class_values))\n",
    "        tn, fp, fn, tp=confusion_matrix(target,class_values).ravel()\n",
    "        if tp/(tp+fp) <0.90:\n",
    "            print(confusion_matrix(target,class_values))\n",
    "            print(\"Recall:\",tp/(tp+fn))\n",
    "\n",
    "            break\n",
    "    \n",
    "    return threshold/number_of_thresholds \n",
    "th=Find_5percent_Cutoff(y_test[:,0],clf5.predict_proba(x_test)[:,1],1000)\n",
    "print(th)"
   ]
  },
  {
   "cell_type": "code",
   "execution_count": 66,
   "metadata": {},
   "outputs": [
    {
     "name": "stdout",
     "output_type": "stream",
     "text": [
      "[1 1 1 ... 0 1 1] [0.4997769  0.50008179 0.50008678 ... 0.49992345 0.50001121 0.50025978] 0.4993847728132008\n",
      "[[2233   47]\n",
      " [2225  407]]\n",
      "Recall: 0.15463525835866263\n",
      "0.5003\n"
     ]
    }
   ],
   "source": [
    "def Find_5percent_Cutoff(target, predicted,number_of_thresholds):\n",
    "    print(target,predicted,min(predicted))\n",
    "    for threshold in range(int(0.5003*number_of_thresholds),int(number_of_thresholds*0.4996),-1):\n",
    "        class_values=np.int32(predicted>threshold/number_of_thresholds)\n",
    "        #print(class_values)\n",
    "        #print(confusion_matrix(target,class_values))\n",
    "        tn, fp, fn, tp=confusion_matrix(target,class_values).ravel()\n",
    "        if tp/(tp+fp) <0.95:\n",
    "            print(confusion_matrix(target,class_values))\n",
    "            print(\"Recall:\",tp/(tp+fn))\n",
    "\n",
    "            break\n",
    "    \n",
    "    return threshold/number_of_thresholds \n",
    "th6=Find_5percent_Cutoff(y_test[:,0],clf6.predict_proba(x_test)[:,1],10000)\n",
    "print(th6)"
   ]
  },
  {
   "cell_type": "code",
   "execution_count": 54,
   "metadata": {},
   "outputs": [
    {
     "name": "stdout",
     "output_type": "stream",
     "text": [
      "[1 1 1 ... 0 1 1] [0.42569805 0.90768242 0.48521685 ... 0.45776419 0.45460681 0.91055938] 0.18910982970151738\n"
     ]
    },
    {
     "name": "stderr",
     "output_type": "stream",
     "text": [
      "/home/adbadre/.local/lib/python3.6/site-packages/ipykernel_launcher.py:8: RuntimeWarning: invalid value encountered in long_scalars\n",
      "  \n"
     ]
    },
    {
     "name": "stdout",
     "output_type": "stream",
     "text": [
      "[[2226   54]\n",
      " [2164  468]]\n",
      "Recall: 0.1778115501519757\n",
      "0.701\n"
     ]
    }
   ],
   "source": [
    "def Find_5percent_Cutoff(target, predicted,number_of_thresholds):\n",
    "    print(target,predicted,min(predicted))\n",
    "    for threshold in range(int(1.5*number_of_thresholds),int(number_of_thresholds*-0.5),-1):\n",
    "        class_values=np.int32(predicted>threshold/number_of_thresholds)\n",
    "        #print(class_values)\n",
    "        #print(confusion_matrix(target,class_values))\n",
    "        tn, fp, fn, tp=confusion_matrix(target,class_values).ravel()\n",
    "        if tp/(tp+fp) <0.90:\n",
    "            print(confusion_matrix(target,class_values))\n",
    "            print(\"Recall:\",tp/(tp+fn))\n",
    "\n",
    "            break\n",
    "    \n",
    "    return threshold/number_of_thresholds \n",
    "th=Find_5percent_Cutoff(y_test[:,0],clf7.predict_proba(x_test)[:,1],1000)\n",
    "print(th)"
   ]
  },
  {
   "cell_type": "code",
   "execution_count": 25,
   "metadata": {},
   "outputs": [
    {
     "ename": "EOFError",
     "evalue": "Ran out of input",
     "output_type": "error",
     "traceback": [
      "\u001b[0;31m---------------------------------------------------------------------------\u001b[0m",
      "\u001b[0;31mEOFError\u001b[0m                                  Traceback (most recent call last)",
      "\u001b[0;32m<ipython-input-25-db6a373958fa>\u001b[0m in \u001b[0;36m<module>\u001b[0;34m\u001b[0m\n\u001b[1;32m      1\u001b[0m \u001b[0;32mwith\u001b[0m \u001b[0mopen\u001b[0m\u001b[0;34m(\u001b[0m\u001b[0;34m'/work/breastcancer/clean_test/results/decisionTree.pickle'\u001b[0m\u001b[0;34m,\u001b[0m \u001b[0;34m'rb'\u001b[0m\u001b[0;34m)\u001b[0m \u001b[0;32mas\u001b[0m \u001b[0mhandle\u001b[0m\u001b[0;34m:\u001b[0m\u001b[0;34m\u001b[0m\u001b[0m\n\u001b[0;32m----> 2\u001b[0;31m     \u001b[0mclf2\u001b[0m\u001b[0;34m=\u001b[0m\u001b[0mpickle\u001b[0m\u001b[0;34m.\u001b[0m\u001b[0mload\u001b[0m\u001b[0;34m(\u001b[0m\u001b[0mhandle\u001b[0m\u001b[0;34m)\u001b[0m\u001b[0;34m\u001b[0m\u001b[0m\n\u001b[0m",
      "\u001b[0;31mEOFError\u001b[0m: Ran out of input"
     ]
    }
   ],
   "source": [
    "with open('/work/breastcancer/clean_test/results/decisionTree.pickle', 'rb') as handle:\n",
    "    clf2=pickle.load(handle)"
   ]
  },
  {
   "cell_type": "code",
   "execution_count": 26,
   "metadata": {},
   "outputs": [],
   "source": [
    "with open('/work/breastcancer/clean_test/results/randomForest.pickle', 'rb') as handle:\n",
    "    clf3=pickle.load(handle)"
   ]
  },
  {
   "cell_type": "code",
   "execution_count": 24,
   "metadata": {},
   "outputs": [],
   "source": [
    "with open('/work/breastcancer/clean_test/results/SVM.pickle', 'rb') as fid:\n",
    "    cl4 = pickle.load(fid)"
   ]
  },
  {
   "cell_type": "code",
   "execution_count": 28,
   "metadata": {},
   "outputs": [],
   "source": [
    "with open('/work/breastcancer/clean_test/results/AdaBoost.pickle', 'rb') as handle:\n",
    "    clf6=pickle.load(handle)"
   ]
  },
  {
   "cell_type": "code",
   "execution_count": 29,
   "metadata": {},
   "outputs": [],
   "source": [
    "with open('/work/breastcancer/clean_test/results/GradientBoosting.pickle', 'rb') as fid:\n",
    "    gnb_loaded = pickle.load(fid)"
   ]
  },
  {
   "cell_type": "code",
   "execution_count": 30,
   "metadata": {},
   "outputs": [],
   "source": [
    "clf7=gnb_loaded"
   ]
  },
  {
   "cell_type": "code",
   "execution_count": 29,
   "metadata": {},
   "outputs": [],
   "source": [
    "results=pd.DataFrame(clf6.predict_proba(x_test)[:,1])\n"
   ]
  },
  {
   "cell_type": "code",
   "execution_count": 35,
   "metadata": {},
   "outputs": [
    {
     "data": {
      "text/plain": [
       "(2280,)"
      ]
     },
     "execution_count": 35,
     "metadata": {},
     "output_type": "execute_result"
    }
   ],
   "source": [
    "y_test[y_test==0].shape"
   ]
  },
  {
   "cell_type": "code",
   "execution_count": 36,
   "metadata": {},
   "outputs": [
    {
     "data": {
      "text/plain": [
       "Text(0,0.5,' ')"
      ]
     },
     "execution_count": 36,
     "metadata": {},
     "output_type": "execute_result"
    },
    {
     "data": {
      "image/png": "[encoded data removed]",
      "text/plain": [
       "<matplotlib.figure.Figure at 0x2af7c76ea198>"
      ]
     },
     "metadata": {
      "needs_background": "light"
     },
     "output_type": "display_data"
    }
   ],
   "source": [
    "target=pd.DataFrame(y_test)\n",
    "\n",
    "results=pd.DataFrame(clf7.predict_proba(x_test)[:,1])\n",
    "target.columns=[\"Prediction Target\"]\n",
    "result_pred=pd.concat([results,target],axis=1)\n",
    "result_pred.columns=[\"Predicted\",\"Prediction Target\"]\n",
    "fig, ax = plt.subplots(figsize = (10,10))\n",
    "r=result_pred.groupby('Prediction Target')['Predicted']\n",
    "r.plot(kind='hist',alpha=.4,legend=True)\n",
    "#ax.set_xlabel(\"PRS\",fontsize=15)\n",
    "plt.legend(fontsize=15)\n",
    "ax.legend(['Control','Case'],loc=\"upper left\",fontsize=16)\n",
    "ax.set_ylabel(\" \")\n"
   ]
  },
  {
   "cell_type": "code",
   "execution_count": null,
   "metadata": {},
   "outputs": [],
   "source": []
  },
  {
   "cell_type": "code",
   "execution_count": 30,
   "metadata": {},
   "outputs": [
    {
     "name": "stdout",
     "output_type": "stream",
     "text": [
      "Validation:\n",
      "Accuracy: 0.5364413680781759\n",
      "AUC: 0.5350974814415215\n",
      "Log Loss: 16.01092927580392\n",
      "             precision    recall  f1-score   support\n",
      "\n",
      "          0       0.50      0.51      0.51      2295\n",
      "          1       0.57      0.56      0.56      2617\n",
      "\n",
      "avg / total       0.54      0.54      0.54      4912\n",
      "\n",
      "Testing:\n",
      "Accuracy: 0.5419381107491856\n",
      "AUC: 0.5399549405428464\n",
      "Log Loss: 15.821078184220562\n",
      "             precision    recall  f1-score   support\n",
      "\n",
      "          0       0.51      0.51      0.51      2280\n",
      "          1       0.57      0.57      0.57      2632\n",
      "\n",
      "avg / total       0.54      0.54      0.54      4912\n",
      "\n"
     ]
    }
   ],
   "source": [
    " print_result(clf2,x_val,y_val,x_test,y_test,\"DecisionTree\")"
   ]
  },
  {
   "cell_type": "code",
   "execution_count": 31,
   "metadata": {},
   "outputs": [
    {
     "data": {
      "image/png": "[encoded data removed]",
      "text/plain": [
       "<matplotlib.figure.Figure at 0x2aca9ff402b0>"
      ]
     },
     "metadata": {
      "needs_background": "light"
     },
     "output_type": "display_data"
    },
    {
     "data": {
      "image/png": "[encoded data removed]",
      "text/plain": [
       "<matplotlib.figure.Figure at 0x2aca9ff408d0>"
      ]
     },
     "metadata": {
      "needs_background": "light"
     },
     "output_type": "display_data"
    }
   ],
   "source": [
    "fpr, tpr, threshold = roc_curve(y_test.T[0],clf2.predict_proba(x_test)[:,1])\n",
    "plt.plot(fpr, tpr, color='orange', label='ROC, ')\n",
    "plt.plot([0, 1], [0, 1], color='darkblue', linestyle='--')\n",
    "\n",
    "plt.show()\n",
    "def plot_roc_curve(fpr, tpr, model_name,AUC):\n",
    "    plt.plot(fpr, tpr, color='orange', label='ROC, AUC='+str(np.round(AUC*100,1))+\"%\")\n",
    "    plt.plot([0, 1], [0, 1], color='darkblue', linestyle='--')\n",
    "    plt.xlabel('False Positive Rate')\n",
    "    plt.ylabel('True Positive Rate')\n",
    "    plt.title(str(model_name)+' Receiver Operating Characteristic (ROC) Curve on Testing Set')\n",
    "    \n",
    "    plt.legend()\n",
    "    plt.show()\n",
    "plot_roc_curve(fpr,tpr,\"Decision Tree\\n\",0.509)"
   ]
  },
  {
   "cell_type": "code",
   "execution_count": 32,
   "metadata": {},
   "outputs": [],
   "source": [
    "clf3=RandomForestClassifier(n_estimators=3000, max_depth=10,\n",
    "                             random_state=0,n_jobs=40).fit(x_train, y_train[:,0])"
   ]
  },
  {
   "cell_type": "code",
   "execution_count": 33,
   "metadata": {},
   "outputs": [
    {
     "name": "stdout",
     "output_type": "stream",
     "text": [
      "Validation:\n",
      "Accuracy: 0.5956840390879479\n",
      "AUC: 0.6409559416684774\n",
      "Log Loss: 0.6568050203496386\n",
      "             precision    recall  f1-score   support\n",
      "\n",
      "          0       0.58      0.46      0.52      2295\n",
      "          1       0.60      0.71      0.65      2617\n",
      "\n",
      "avg / total       0.59      0.60      0.59      4912\n",
      "\n",
      "Testing:\n",
      "Accuracy: 0.5826547231270358\n",
      "AUC: 0.6363368527702234\n",
      "Log Loss: 0.6562956639496569\n",
      "             precision    recall  f1-score   support\n",
      "\n",
      "          0       0.57      0.44      0.49      2280\n",
      "          1       0.59      0.71      0.65      2632\n",
      "\n",
      "avg / total       0.58      0.58      0.57      4912\n",
      "\n"
     ]
    }
   ],
   "source": [
    " print_result(clf3,x_val,y_val,x_test,y_test,\"RandomForest\")"
   ]
  },
  {
   "cell_type": "code",
   "execution_count": 36,
   "metadata": {},
   "outputs": [
    {
     "data": {
      "image/png": "[encoded data removed]",
      "text/plain": [
       "<matplotlib.figure.Figure at 0x2afb2b1890b8>"
      ]
     },
     "metadata": {
      "needs_background": "light"
     },
     "output_type": "display_data"
    }
   ],
   "source": [
    "fpr, tpr, threshold = roc_curve(y_test.T[0],clf3.predict_proba(x_test)[:,1])\n",
    "def plot_roc_curve(fpr, tpr, model_name,AUC):\n",
    "    plt.plot(fpr, tpr, color='orange', label='ROC, AUC='+str(np.round(AUC*100,1))+\"%\")\n",
    "    plt.plot([0, 1], [0, 1], color='darkblue', linestyle='--')\n",
    "    plt.xlabel('False Positive Rate')\n",
    "    plt.ylabel('True Positive Rate')\n",
    "    plt.title(str(model_name)+' Receiver Operating Characteristic (ROC) Curve on Testing Set')\n",
    "    \n",
    "    plt.legend()\n",
    "    plt.show()\n",
    "plot_roc_curve(fpr,tpr,\"Random Forest\\n\",0.636)"
   ]
  },
  {
   "cell_type": "code",
   "execution_count": 34,
   "metadata": {},
   "outputs": [
    {
     "data": {
      "text/plain": [
       "0.6363368527702234"
      ]
     },
     "execution_count": 34,
     "metadata": {},
     "output_type": "execute_result"
    }
   ],
   "source": [
    "roc_auc_score(y_test,clf3.predict_proba(x_test)[:,1])"
   ]
  },
  {
   "cell_type": "code",
   "execution_count": 88,
   "metadata": {},
   "outputs": [],
   "source": [
    "tuned_parameters=[{\"n_estimators\":[x*50+1 for x in range(50)],\"max_depth\":[x+1 for x in range(10)]}]"
   ]
  },
  {
   "cell_type": "code",
   "execution_count": 89,
   "metadata": {},
   "outputs": [],
   "source": []
  },
  {
   "cell_type": "code",
   "execution_count": 37,
   "metadata": {},
   "outputs": [
    {
     "name": "stdout",
     "output_type": "stream",
     "text": [
      "Validation:\n",
      "Accuracy: 0.5956840390879479\n",
      "AUC: 0.6409559416684774\n",
      "Log Loss: 0.6568050203496386\n",
      "             precision    recall  f1-score   support\n",
      "\n",
      "          0       0.58      0.46      0.52      2295\n",
      "          1       0.60      0.71      0.65      2617\n",
      "\n",
      "avg / total       0.59      0.60      0.59      4912\n",
      "\n",
      "Testing:\n",
      "Accuracy: 0.5826547231270358\n",
      "AUC: 0.6363368527702234\n",
      "Log Loss: 0.6562956639496569\n",
      "             precision    recall  f1-score   support\n",
      "\n",
      "          0       0.57      0.44      0.49      2280\n",
      "          1       0.59      0.71      0.65      2632\n",
      "\n",
      "avg / total       0.58      0.58      0.57      4912\n",
      "\n"
     ]
    }
   ],
   "source": [
    " print_result(clf3,x_val,y_val,x_test,y_test,\"RandomForest\")"
   ]
  },
  {
   "cell_type": "code",
   "execution_count": null,
   "metadata": {},
   "outputs": [],
   "source": []
  },
  {
   "cell_type": "code",
   "execution_count": null,
   "metadata": {},
   "outputs": [],
   "source": []
  },
  {
   "cell_type": "code",
   "execution_count": 38,
   "metadata": {},
   "outputs": [
    {
     "ename": "NameError",
     "evalue": "name 'x_t' is not defined",
     "output_type": "error",
     "traceback": [
      "\u001b[0;31m---------------------------------------------------------------------------\u001b[0m",
      "\u001b[0;31mNameError\u001b[0m                                 Traceback (most recent call last)",
      "\u001b[0;32m<ipython-input-38-f8604f5db0ae>\u001b[0m in \u001b[0;36m<module>\u001b[0;34m\u001b[0m\n\u001b[0;32m----> 1\u001b[0;31m \u001b[0mx_t\u001b[0m\u001b[0;34m\u001b[0m\u001b[0m\n\u001b[0m",
      "\u001b[0;31mNameError\u001b[0m: name 'x_t' is not defined"
     ]
    }
   ],
   "source": [
    "x_t"
   ]
  },
  {
   "cell_type": "code",
   "execution_count": null,
   "metadata": {},
   "outputs": [],
   "source": [
    "clf4 = SVC().fit(x_train, y_train[:,0])"
   ]
  },
  {
   "cell_type": "code",
   "execution_count": null,
   "metadata": {},
   "outputs": [],
   "source": [
    " print_result(clf4,x_val,y_val,x_test,y_test,\"SVM\")"
   ]
  },
  {
   "cell_type": "code",
   "execution_count": null,
   "metadata": {},
   "outputs": [],
   "source": [
    "def Find_5percent_Cutoff(target, predicted,number_of_thresholds):\n",
    "    print(target,predicted,min(predicted))\n",
    "    for threshold in range(int(1.5*number_of_thresholds),int(number_of_thresholds*-0.5),-1):\n",
    "        class_values=np.int32(predicted>threshold/number_of_thresholds)\n",
    "        #print(class_values)\n",
    "        #print(confusion_matrix(target,class_values))\n",
    "        tn, fp, fn, tp=confusion_matrix(target,class_values).ravel()\n",
    "        if tp/(tp+fp) <0.95:\n",
    "            print(confusion_matrix(target,class_values))\n",
    "            print(\"Recall:\",tp/(tp+fn))\n",
    "\n",
    "            break\n",
    "    \n",
    "    return threshold/number_of_thresholds \n",
    "th=Find_5percent_Cutoff(y_test[:,0],clf4.predict_proba(x_test)[:,1],1000)\n",
    "print(th)"
   ]
  },
  {
   "cell_type": "code",
   "execution_count": null,
   "metadata": {},
   "outputs": [],
   "source": [
    "fpr, tpr, threshold = roc_curve(y_test.T[0],clf3.predict_proba(x_test)[:,1])\n",
    "def plot_roc_curve(fpr, tpr, model_name,AUC):\n",
    "    plt.plot(fpr, tpr, color='orange', label='ROC, AUC='+str(np.round(AUC*100,1))+\"%\")\n",
    "    plt.plot([0, 1], [0, 1], color='darkblue', linestyle='--')\n",
    "    plt.xlabel('False Positive Rate')\n",
    "    plt.ylabel('True Positive Rate')\n",
    "    plt.title(str(model_name)+' Receiver Operating Characteristic (ROC) Curve on Testing Set')\n",
    "    \n",
    "    plt.legend()\n",
    "    plt.show()\n",
    "plot_roc_curve(fpr,tpr,\"Random Forest\\n\",0.636)"
   ]
  },
  {
   "cell_type": "code",
   "execution_count": 22,
   "metadata": {},
   "outputs": [],
   "source": [
    "from sklearn.naive_bayes import GaussianNB\n",
    "clf5=GaussianNB().fit(x_train, y_train[:,0])\n"
   ]
  },
  {
   "cell_type": "code",
   "execution_count": 23,
   "metadata": {},
   "outputs": [
    {
     "ename": "NameError",
     "evalue": "name 'print_result' is not defined",
     "output_type": "error",
     "traceback": [
      "\u001b[0;31m---------------------------------------------------------------------------\u001b[0m",
      "\u001b[0;31mNameError\u001b[0m                                 Traceback (most recent call last)",
      "\u001b[0;32m<ipython-input-23-069c1cff2f6e>\u001b[0m in \u001b[0;36m<module>\u001b[0;34m\u001b[0m\n\u001b[0;32m----> 1\u001b[0;31m \u001b[0mprint_result\u001b[0m\u001b[0;34m(\u001b[0m\u001b[0mclf5\u001b[0m\u001b[0;34m,\u001b[0m\u001b[0mx_val\u001b[0m\u001b[0;34m,\u001b[0m\u001b[0my_val\u001b[0m\u001b[0;34m,\u001b[0m\u001b[0mx_test\u001b[0m\u001b[0;34m,\u001b[0m\u001b[0my_test\u001b[0m\u001b[0;34m,\u001b[0m\u001b[0;34m\"naiveBayes\"\u001b[0m\u001b[0;34m)\u001b[0m\u001b[0;34m\u001b[0m\u001b[0m\n\u001b[0m",
      "\u001b[0;31mNameError\u001b[0m: name 'print_result' is not defined"
     ]
    }
   ],
   "source": [
    " print_result(clf5,x_val,y_val,x_test,y_test,\"naiveBayes\")"
   ]
  },
  {
   "cell_type": "code",
   "execution_count": 41,
   "metadata": {},
   "outputs": [
    {
     "data": {
      "image/png": "[encoded data removed]",
      "text/plain": [
       "<matplotlib.figure.Figure at 0x2acb1eff6630>"
      ]
     },
     "metadata": {
      "needs_background": "light"
     },
     "output_type": "display_data"
    }
   ],
   "source": [
    "fpr, tpr, threshold = roc_curve(y_test.T[0],clf5.predict_proba(x_test)[:,1])\n",
    "def plot_roc_curve(fpr, tpr, model_name,AUC):\n",
    "    plt.plot(fpr, tpr, color='orange', label='ROC, AUC='+str(np.round(AUC*100,1))+\"%\")\n",
    "    plt.plot([0, 1], [0, 1], color='darkblue', linestyle='--')\n",
    "    plt.xlabel('False Positive Rate')\n",
    "    plt.ylabel('True Positive Rate')\n",
    "    plt.title(str(model_name)+' Receiver Operating Characteristic (ROC) Curve on Testing Set')\n",
    "    \n",
    "    plt.legend()\n",
    "    plt.show()\n",
    "plot_roc_curve(fpr,tpr,\"Naive Bayes\\n\",0.607)"
   ]
  },
  {
   "cell_type": "code",
   "execution_count": 42,
   "metadata": {},
   "outputs": [
    {
     "name": "stdout",
     "output_type": "stream",
     "text": [
      "0.5704397394136808\n"
     ]
    }
   ],
   "source": [
    "print(clf5.score(x_test, y_test))"
   ]
  },
  {
   "cell_type": "code",
   "execution_count": 43,
   "metadata": {},
   "outputs": [],
   "source": [
    "clf6=AdaBoostClassifier(n_estimators=2000).fit(x_train, y_train[:,0])"
   ]
  },
  {
   "cell_type": "code",
   "execution_count": 44,
   "metadata": {},
   "outputs": [
    {
     "name": "stdout",
     "output_type": "stream",
     "text": [
      "Validation:\n",
      "Accuracy: 0.5865228013029316\n",
      "AUC: 0.6354997448391321\n",
      "Log Loss: 0.6930312885348667\n",
      "             precision    recall  f1-score   support\n",
      "\n",
      "          0       0.56      0.56      0.56      2295\n",
      "          1       0.61      0.61      0.61      2617\n",
      "\n",
      "avg / total       0.59      0.59      0.59      4912\n",
      "\n",
      "Testing:\n",
      "Accuracy: 0.5928338762214984\n",
      "AUC: 0.6395585039726978\n",
      "Log Loss: 0.6930279348494839\n",
      "             precision    recall  f1-score   support\n",
      "\n",
      "          0       0.56      0.55      0.56      2280\n",
      "          1       0.62      0.63      0.62      2632\n",
      "\n",
      "avg / total       0.59      0.59      0.59      4912\n",
      "\n"
     ]
    }
   ],
   "source": [
    " print_result(clf6,x_val,y_val,x_test,y_test,\"ADABoost\")"
   ]
  },
  {
   "cell_type": "code",
   "execution_count": 45,
   "metadata": {},
   "outputs": [
    {
     "data": {
      "image/png": "[encoded data removed]",
      "text/plain": [
       "<matplotlib.figure.Figure at 0x2acb1fe69fd0>"
      ]
     },
     "metadata": {
      "needs_background": "light"
     },
     "output_type": "display_data"
    }
   ],
   "source": [
    "fpr, tpr, threshold = roc_curve(y_test.T[0],clf6.predict_proba(x_test)[:,1])\n",
    "def plot_roc_curve(fpr, tpr, model_name,AUC):\n",
    "    plt.plot(fpr, tpr, color='orange', label='ROC, AUC='+str(np.round(AUC*100,1))+\"%\")\n",
    "    plt.plot([0, 1], [0, 1], color='darkblue', linestyle='--')\n",
    "    plt.xlabel('False Positive Rate')\n",
    "    plt.ylabel('True Positive Rate')\n",
    "    plt.title(str(model_name)+' Receiver Operating Characteristic (ROC) Curve on Testing Set')\n",
    "    \n",
    "    plt.legend()\n",
    "    plt.show()\n",
    "plot_roc_curve(fpr,tpr,\"AdaBoost\\n\",0.644)"
   ]
  },
  {
   "cell_type": "code",
   "execution_count": 46,
   "metadata": {},
   "outputs": [
    {
     "data": {
      "text/plain": [
       "0.6395585039726978"
      ]
     },
     "execution_count": 46,
     "metadata": {},
     "output_type": "execute_result"
    }
   ],
   "source": [
    "roc_auc_score(y_test,clf6.predict_proba(x_test)[:,1])"
   ]
  },
  {
   "cell_type": "code",
   "execution_count": null,
   "metadata": {},
   "outputs": [],
   "source": []
  },
  {
   "cell_type": "code",
   "execution_count": 47,
   "metadata": {},
   "outputs": [
    {
     "data": {
      "text/plain": [
       "0.5928338762214984"
      ]
     },
     "execution_count": 47,
     "metadata": {},
     "output_type": "execute_result"
    }
   ],
   "source": [
    "clf6.score(x_test,y_test)"
   ]
  },
  {
   "cell_type": "code",
   "execution_count": 48,
   "metadata": {},
   "outputs": [
    {
     "name": "stdout",
     "output_type": "stream",
     "text": [
      "0.5865228013029316\n"
     ]
    }
   ],
   "source": [
    "print(clf6.score(x_val, y_val))"
   ]
  },
  {
   "cell_type": "code",
   "execution_count": 49,
   "metadata": {},
   "outputs": [],
   "source": [
    "clf7=GradientBoostingClassifier(n_estimators=400).fit(x_train, y_train[:,0])"
   ]
  },
  {
   "cell_type": "code",
   "execution_count": 50,
   "metadata": {},
   "outputs": [
    {
     "name": "stdout",
     "output_type": "stream",
     "text": [
      "Validation:\n",
      "Accuracy: 0.6089169381107492\n",
      "AUC: 0.6575268293535731\n",
      "Log Loss: 0.6379982177593536\n",
      "             precision    recall  f1-score   support\n",
      "\n",
      "          0       0.58      0.58      0.58      2295\n",
      "          1       0.63      0.63      0.63      2617\n",
      "\n",
      "avg / total       0.61      0.61      0.61      4912\n",
      "\n",
      "Testing:\n",
      "Accuracy: 0.6019951140065146\n",
      "AUC: 0.6510541646669866\n",
      "Log Loss: 0.6376466486145423\n",
      "             precision    recall  f1-score   support\n",
      "\n",
      "          0       0.57      0.57      0.57      2280\n",
      "          1       0.63      0.63      0.63      2632\n",
      "\n",
      "avg / total       0.60      0.60      0.60      4912\n",
      "\n"
     ]
    }
   ],
   "source": [
    "print_result(clf7,x_val,y_val,x_test,y_test,\"GradientBoosting\")"
   ]
  },
  {
   "cell_type": "code",
   "execution_count": 51,
   "metadata": {},
   "outputs": [
    {
     "data": {
      "image/png": "[encoded data removed]",
      "text/plain": [
       "<matplotlib.figure.Figure at 0x2acb1f166c18>"
      ]
     },
     "metadata": {
      "needs_background": "light"
     },
     "output_type": "display_data"
    }
   ],
   "source": [
    "fpr, tpr, threshold = roc_curve(y_test.T[0],clf7.predict_proba(x_test)[:,1])\n",
    "def plot_roc_curve(fpr, tpr, model_name,AUC):\n",
    "    plt.plot(fpr, tpr, color='orange', label='ROC, AUC='+str(np.round(AUC*100,1))+\"%\")\n",
    "    plt.plot([0, 1], [0, 1], color='darkblue', linestyle='--')\n",
    "    plt.xlabel('False Positive Rate')\n",
    "    plt.ylabel('True Positive Rate')\n",
    "    plt.title(str(model_name)+' Receiver Operating Characteristic (ROC) Curve on Testing Set')\n",
    "    \n",
    "    plt.legend()\n",
    "    plt.show()\n",
    "plot_roc_curve(fpr,tpr,\"Gradient Boosting\\n\",0.651)"
   ]
  },
  {
   "cell_type": "code",
   "execution_count": 32,
   "metadata": {},
   "outputs": [
    {
     "data": {
      "text/plain": [
       "0.6509051885031728"
      ]
     },
     "execution_count": 32,
     "metadata": {},
     "output_type": "execute_result"
    }
   ],
   "source": [
    "roc_auc_score(y_test,clf7.predict_proba(x_test)[:,1])"
   ]
  },
  {
   "cell_type": "code",
   "execution_count": 51,
   "metadata": {},
   "outputs": [
    {
     "ename": "NameError",
     "evalue": "name 'tp' is not defined",
     "output_type": "error",
     "traceback": [
      "\u001b[0;31m---------------------------------------------------------------------------\u001b[0m",
      "\u001b[0;31mNameError\u001b[0m                                 Traceback (most recent call last)",
      "\u001b[0;32m<ipython-input-51-7c84d2e10f96>\u001b[0m in \u001b[0;36m<module>\u001b[0;34m\u001b[0m\n\u001b[0;32m----> 1\u001b[0;31m \u001b[0mtp\u001b[0m\u001b[0;34m/\u001b[0m\u001b[0;34m(\u001b[0m\u001b[0mtp\u001b[0m\u001b[0;34m+\u001b[0m\u001b[0mfn\u001b[0m\u001b[0;34m)\u001b[0m\u001b[0;34m\u001b[0m\u001b[0m\n\u001b[0m",
      "\u001b[0;31mNameError\u001b[0m: name 'tp' is not defined"
     ]
    }
   ],
   "source": [
    "tp/(tp+fn)"
   ]
  },
  {
   "cell_type": "code",
   "execution_count": null,
   "metadata": {},
   "outputs": [],
   "source": [
    "print(clf7.score(x_val, y_val))"
   ]
  },
  {
   "cell_type": "code",
   "execution_count": 56,
   "metadata": {},
   "outputs": [
    {
     "name": "stdout",
     "output_type": "stream",
     "text": [
      "0.805\n",
      "1.0\n"
     ]
    }
   ],
   "source": [
    "print(clf.score(x_val, y_val))\n",
    "print(clf.score(x_train, y_train))\n"
   ]
  },
  {
   "cell_type": "code",
   "execution_count": 12,
   "metadata": {},
   "outputs": [
    {
     "data": {
      "text/plain": [
       "0.54125"
      ]
     },
     "execution_count": 12,
     "metadata": {},
     "output_type": "execute_result"
    }
   ],
   "source": [
    "clf2.score(x_val, y_val)"
   ]
  },
  {
   "cell_type": "code",
   "execution_count": 26,
   "metadata": {},
   "outputs": [
    {
     "data": {
      "text/plain": [
       "0.5325"
      ]
     },
     "execution_count": 26,
     "metadata": {},
     "output_type": "execute_result"
    }
   ],
   "source": [
    "clf3.score(x_val, y_val)"
   ]
  },
  {
   "cell_type": "code",
   "execution_count": null,
   "metadata": {},
   "outputs": [],
   "source": []
  },
  {
   "cell_type": "code",
   "execution_count": null,
   "metadata": {},
   "outputs": [],
   "source": [
    "clf4.score(x_val, y_val)"
   ]
  },
  {
   "cell_type": "code",
   "execution_count": 50,
   "metadata": {},
   "outputs": [],
   "source": [
    "pred=clf.predict(x_val)\n"
   ]
  },
  {
   "cell_type": "code",
   "execution_count": 20,
   "metadata": {},
   "outputs": [],
   "source": [
    "pred3=clf3.predict(x_val)"
   ]
  },
  {
   "cell_type": "code",
   "execution_count": 19,
   "metadata": {},
   "outputs": [],
   "source": [
    "pred4=clf4.predict(x_val)"
   ]
  },
  {
   "cell_type": "code",
   "execution_count": 63,
   "metadata": {},
   "outputs": [],
   "source": [
    "pred_proba=clf.predict_proba(x_val)"
   ]
  },
  {
   "cell_type": "code",
   "execution_count": null,
   "metadata": {},
   "outputs": [],
   "source": [
    "pred_proba3=clf3.predict_proba(x_val)"
   ]
  },
  {
   "cell_type": "code",
   "execution_count": null,
   "metadata": {},
   "outputs": [],
   "source": [
    "pred_proba4=clf4.predict_proba(x_val)"
   ]
  },
  {
   "cell_type": "code",
   "execution_count": 68,
   "metadata": {},
   "outputs": [
    {
     "data": {
      "text/plain": [
       "0.8133266296004429"
      ]
     },
     "execution_count": 68,
     "metadata": {},
     "output_type": "execute_result"
    }
   ],
   "source": [
    "roc_auc_score(y_val, pred)"
   ]
  },
  {
   "cell_type": "code",
   "execution_count": 40,
   "metadata": {},
   "outputs": [],
   "source": [
    "#roc_auc_score(y_val, pred)"
   ]
  },
  {
   "cell_type": "code",
   "execution_count": null,
   "metadata": {},
   "outputs": [],
   "source": []
  },
  {
   "cell_type": "code",
   "execution_count": null,
   "metadata": {},
   "outputs": [],
   "source": []
  },
  {
   "cell_type": "code",
   "execution_count": null,
   "metadata": {},
   "outputs": [],
   "source": []
  },
  {
   "cell_type": "code",
   "execution_count": null,
   "metadata": {},
   "outputs": [],
   "source": []
  },
  {
   "cell_type": "code",
   "execution_count": null,
   "metadata": {},
   "outputs": [],
   "source": []
  },
  {
   "cell_type": "code",
   "execution_count": null,
   "metadata": {
    "scrolled": true
   },
   "outputs": [],
   "source": []
  },
  {
   "cell_type": "code",
   "execution_count": null,
   "metadata": {},
   "outputs": [],
   "source": []
  },
  {
   "cell_type": "code",
   "execution_count": null,
   "metadata": {},
   "outputs": [],
   "source": []
  },
  {
   "cell_type": "code",
   "execution_count": null,
   "metadata": {},
   "outputs": [],
   "source": []
  },
  {
   "cell_type": "code",
   "execution_count": 23,
   "metadata": {},
   "outputs": [],
   "source": [
    "results=pd.DataFrame(pred[:,1])"
   ]
  },
  {
   "cell_type": "code",
   "execution_count": 24,
   "metadata": {},
   "outputs": [
    {
     "data": {
      "application/javascript": [
       "/* Put everything inside the global mpl namespace */\n",
       "window.mpl = {};\n",
       "\n",
       "\n",
       "mpl.get_websocket_type = function() {\n",
       "    if (typeof(WebSocket) !== 'undefined') {\n",
       "        return WebSocket;\n",
       "    } else if (typeof(MozWebSocket) !== 'undefined') {\n",
       "        return MozWebSocket;\n",
       "    } else {\n",
       "        alert('Your browser does not have WebSocket support.' +\n",
       "              'Please try Chrome, Safari or Firefox ≥ 6. ' +\n",
       "              'Firefox 4 and 5 are also supported but you ' +\n",
       "              'have to enable WebSockets in about:config.');\n",
       "    };\n",
       "}\n",
       "\n",
       "mpl.figure = function(figure_id, websocket, ondownload, parent_element) {\n",
       "    this.id = figure_id;\n",
       "\n",
       "    this.ws = websocket;\n",
       "\n",
       "    this.supports_binary = (this.ws.binaryType != undefined);\n",
       "\n",
       "    if (!this.supports_binary) {\n",
       "        var warnings = document.getElementById(\"mpl-warnings\");\n",
       "        if (warnings) {\n",
       "            warnings.style.display = 'block';\n",
       "            warnings.textContent = (\n",
       "                \"This browser does not support binary websocket messages. \" +\n",
       "                    \"Performance may be slow.\");\n",
       "        }\n",
       "    }\n",
       "\n",
       "    this.imageObj = new Image();\n",
       "\n",
       "    this.context = undefined;\n",
       "    this.message = undefined;\n",
       "    this.canvas = undefined;\n",
       "    this.rubberband_canvas = undefined;\n",
       "    this.rubberband_context = undefined;\n",
       "    this.format_dropdown = undefined;\n",
       "\n",
       "    this.image_mode = 'full';\n",
       "\n",
       "    this.root = $('<div/>');\n",
       "    this._root_extra_style(this.root)\n",
       "    this.root.attr('style', 'display: inline-block');\n",
       "\n",
       "    $(parent_element).append(this.root);\n",
       "\n",
       "    this._init_header(this);\n",
       "    this._init_canvas(this);\n",
       "    this._init_toolbar(this);\n",
       "\n",
       "    var fig = this;\n",
       "\n",
       "    this.waiting = false;\n",
       "\n",
       "    this.ws.onopen =  function () {\n",
       "            fig.send_message(\"supports_binary\", {value: fig.supports_binary});\n",
       "            fig.send_message(\"send_image_mode\", {});\n",
       "            if (mpl.ratio != 1) {\n",
       "                fig.send_message(\"set_dpi_ratio\", {'dpi_ratio': mpl.ratio});\n",
       "            }\n",
       "            fig.send_message(\"refresh\", {});\n",
       "        }\n",
       "\n",
       "    this.imageObj.onload = function() {\n",
       "            if (fig.image_mode == 'full') {\n",
       "                // Full images could contain transparency (where diff images\n",
       "                // almost always do), so we need to clear the canvas so that\n",
       "                // there is no ghosting.\n",
       "                fig.context.clearRect(0, 0, fig.canvas.width, fig.canvas.height);\n",
       "            }\n",
       "            fig.context.drawImage(fig.imageObj, 0, 0);\n",
       "        };\n",
       "\n",
       "    this.imageObj.onunload = function() {\n",
       "        fig.ws.close();\n",
       "    }\n",
       "\n",
       "    this.ws.onmessage = this._make_on_message_function(this);\n",
       "\n",
       "    this.ondownload = ondownload;\n",
       "}\n",
       "\n",
       "mpl.figure.prototype._init_header = function() {\n",
       "    var titlebar = $(\n",
       "        '<div class=\"ui-dialog-titlebar ui-widget-header ui-corner-all ' +\n",
       "        'ui-helper-clearfix\"/>');\n",
       "    var titletext = $(\n",
       "        '<div class=\"ui-dialog-title\" style=\"width: 100%; ' +\n",
       "        'text-align: center; padding: 3px;\"/>');\n",
       "    titlebar.append(titletext)\n",
       "    this.root.append(titlebar);\n",
       "    this.header = titletext[0];\n",
       "}\n",
       "\n",
       "\n",
       "\n",
       "mpl.figure.prototype._canvas_extra_style = function(canvas_div) {\n",
       "\n",
       "}\n",
       "\n",
       "\n",
       "mpl.figure.prototype._root_extra_style = function(canvas_div) {\n",
       "\n",
       "}\n",
       "\n",
       "mpl.figure.prototype._init_canvas = function() {\n",
       "    var fig = this;\n",
       "\n",
       "    var canvas_div = $('<div/>');\n",
       "\n",
       "    canvas_div.attr('style', 'position: relative; clear: both; outline: 0');\n",
       "\n",
       "    function canvas_keyboard_event(event) {\n",
       "        return fig.key_event(event, event['data']);\n",
       "    }\n",
       "\n",
       "    canvas_div.keydown('key_press', canvas_keyboard_event);\n",
       "    canvas_div.keyup('key_release', canvas_keyboard_event);\n",
       "    this.canvas_div = canvas_div\n",
       "    this._canvas_extra_style(canvas_div)\n",
       "    this.root.append(canvas_div);\n",
       "\n",
       "    var canvas = $('<canvas/>');\n",
       "    canvas.addClass('mpl-canvas');\n",
       "    canvas.attr('style', \"left: 0; top: 0; z-index: 0; outline: 0\")\n",
       "\n",
       "    this.canvas = canvas[0];\n",
       "    this.context = canvas[0].getContext(\"2d\");\n",
       "\n",
       "    var backingStore = this.context.backingStorePixelRatio ||\n",
       "\tthis.context.webkitBackingStorePixelRatio ||\n",
       "\tthis.context.mozBackingStorePixelRatio ||\n",
       "\tthis.context.msBackingStorePixelRatio ||\n",
       "\tthis.context.oBackingStorePixelRatio ||\n",
       "\tthis.context.backingStorePixelRatio || 1;\n",
       "\n",
       "    mpl.ratio = (window.devicePixelRatio || 1) / backingStore;\n",
       "\n",
       "    var rubberband = $('<canvas/>');\n",
       "    rubberband.attr('style', \"position: absolute; left: 0; top: 0; z-index: 1;\")\n",
       "\n",
       "    var pass_mouse_events = true;\n",
       "\n",
       "    canvas_div.resizable({\n",
       "        start: function(event, ui) {\n",
       "            pass_mouse_events = false;\n",
       "        },\n",
       "        resize: function(event, ui) {\n",
       "            fig.request_resize(ui.size.width, ui.size.height);\n",
       "        },\n",
       "        stop: function(event, ui) {\n",
       "            pass_mouse_events = true;\n",
       "            fig.request_resize(ui.size.width, ui.size.height);\n",
       "        },\n",
       "    });\n",
       "\n",
       "    function mouse_event_fn(event) {\n",
       "        if (pass_mouse_events)\n",
       "            return fig.mouse_event(event, event['data']);\n",
       "    }\n",
       "\n",
       "    rubberband.mousedown('button_press', mouse_event_fn);\n",
       "    rubberband.mouseup('button_release', mouse_event_fn);\n",
       "    // Throttle sequential mouse events to 1 every 20ms.\n",
       "    rubberband.mousemove('motion_notify', mouse_event_fn);\n",
       "\n",
       "    rubberband.mouseenter('figure_enter', mouse_event_fn);\n",
       "    rubberband.mouseleave('figure_leave', mouse_event_fn);\n",
       "\n",
       "    canvas_div.on(\"wheel\", function (event) {\n",
       "        event = event.originalEvent;\n",
       "        event['data'] = 'scroll'\n",
       "        if (event.deltaY < 0) {\n",
       "            event.step = 1;\n",
       "        } else {\n",
       "            event.step = -1;\n",
       "        }\n",
       "        mouse_event_fn(event);\n",
       "    });\n",
       "\n",
       "    canvas_div.append(canvas);\n",
       "    canvas_div.append(rubberband);\n",
       "\n",
       "    this.rubberband = rubberband;\n",
       "    this.rubberband_canvas = rubberband[0];\n",
       "    this.rubberband_context = rubberband[0].getContext(\"2d\");\n",
       "    this.rubberband_context.strokeStyle = \"#000000\";\n",
       "\n",
       "    this._resize_canvas = function(width, height) {\n",
       "        // Keep the size of the canvas, canvas container, and rubber band\n",
       "        // canvas in synch.\n",
       "        canvas_div.css('width', width)\n",
       "        canvas_div.css('height', height)\n",
       "\n",
       "        canvas.attr('width', width * mpl.ratio);\n",
       "        canvas.attr('height', height * mpl.ratio);\n",
       "        canvas.attr('style', 'width: ' + width + 'px; height: ' + height + 'px;');\n",
       "\n",
       "        rubberband.attr('width', width);\n",
       "        rubberband.attr('height', height);\n",
       "    }\n",
       "\n",
       "    // Set the figure to an initial 600x600px, this will subsequently be updated\n",
       "    // upon first draw.\n",
       "    this._resize_canvas(600, 600);\n",
       "\n",
       "    // Disable right mouse context menu.\n",
       "    $(this.rubberband_canvas).bind(\"contextmenu\",function(e){\n",
       "        return false;\n",
       "    });\n",
       "\n",
       "    function set_focus () {\n",
       "        canvas.focus();\n",
       "        canvas_div.focus();\n",
       "    }\n",
       "\n",
       "    window.setTimeout(set_focus, 100);\n",
       "}\n",
       "\n",
       "mpl.figure.prototype._init_toolbar = function() {\n",
       "    var fig = this;\n",
       "\n",
       "    var nav_element = $('<div/>')\n",
       "    nav_element.attr('style', 'width: 100%');\n",
       "    this.root.append(nav_element);\n",
       "\n",
       "    // Define a callback function for later on.\n",
       "    function toolbar_event(event) {\n",
       "        return fig.toolbar_button_onclick(event['data']);\n",
       "    }\n",
       "    function toolbar_mouse_event(event) {\n",
       "        return fig.toolbar_button_onmouseover(event['data']);\n",
       "    }\n",
       "\n",
       "    for(var toolbar_ind in mpl.toolbar_items) {\n",
       "        var name = mpl.toolbar_items[toolbar_ind][0];\n",
       "        var tooltip = mpl.toolbar_items[toolbar_ind][1];\n",
       "        var image = mpl.toolbar_items[toolbar_ind][2];\n",
       "        var method_name = mpl.toolbar_items[toolbar_ind][3];\n",
       "\n",
       "        if (!name) {\n",
       "            // put a spacer in here.\n",
       "            continue;\n",
       "        }\n",
       "        var button = $('<button/>');\n",
       "        button.addClass('ui-button ui-widget ui-state-default ui-corner-all ' +\n",
       "                        'ui-button-icon-only');\n",
       "        button.attr('role', 'button');\n",
       "        button.attr('aria-disabled', 'false');\n",
       "        button.click(method_name, toolbar_event);\n",
       "        button.mouseover(tooltip, toolbar_mouse_event);\n",
       "\n",
       "        var icon_img = $('<span/>');\n",
       "        icon_img.addClass('ui-button-icon-primary ui-icon');\n",
       "        icon_img.addClass(image);\n",
       "        icon_img.addClass('ui-corner-all');\n",
       "\n",
       "        var tooltip_span = $('<span/>');\n",
       "        tooltip_span.addClass('ui-button-text');\n",
       "        tooltip_span.html(tooltip);\n",
       "\n",
       "        button.append(icon_img);\n",
       "        button.append(tooltip_span);\n",
       "\n",
       "        nav_element.append(button);\n",
       "    }\n",
       "\n",
       "    var fmt_picker_span = $('<span/>');\n",
       "\n",
       "    var fmt_picker = $('<select/>');\n",
       "    fmt_picker.addClass('mpl-toolbar-option ui-widget ui-widget-content');\n",
       "    fmt_picker_span.append(fmt_picker);\n",
       "    nav_element.append(fmt_picker_span);\n",
       "    this.format_dropdown = fmt_picker[0];\n",
       "\n",
       "    for (var ind in mpl.extensions) {\n",
       "        var fmt = mpl.extensions[ind];\n",
       "        var option = $(\n",
       "            '<option/>', {selected: fmt === mpl.default_extension}).html(fmt);\n",
       "        fmt_picker.append(option)\n",
       "    }\n",
       "\n",
       "    // Add hover states to the ui-buttons\n",
       "    $( \".ui-button\" ).hover(\n",
       "        function() { $(this).addClass(\"ui-state-hover\");},\n",
       "        function() { $(this).removeClass(\"ui-state-hover\");}\n",
       "    );\n",
       "\n",
       "    var status_bar = $('<span class=\"mpl-message\"/>');\n",
       "    nav_element.append(status_bar);\n",
       "    this.message = status_bar[0];\n",
       "}\n",
       "\n",
       "mpl.figure.prototype.request_resize = function(x_pixels, y_pixels) {\n",
       "    // Request matplotlib to resize the figure. Matplotlib will then trigger a resize in the client,\n",
       "    // which will in turn request a refresh of the image.\n",
       "    this.send_message('resize', {'width': x_pixels, 'height': y_pixels});\n",
       "}\n",
       "\n",
       "mpl.figure.prototype.send_message = function(type, properties) {\n",
       "    properties['type'] = type;\n",
       "    properties['figure_id'] = this.id;\n",
       "    this.ws.send(JSON.stringify(properties));\n",
       "}\n",
       "\n",
       "mpl.figure.prototype.send_draw_message = function() {\n",
       "    if (!this.waiting) {\n",
       "        this.waiting = true;\n",
       "        this.ws.send(JSON.stringify({type: \"draw\", figure_id: this.id}));\n",
       "    }\n",
       "}\n",
       "\n",
       "\n",
       "mpl.figure.prototype.handle_save = function(fig, msg) {\n",
       "    var format_dropdown = fig.format_dropdown;\n",
       "    var format = format_dropdown.options[format_dropdown.selectedIndex].value;\n",
       "    fig.ondownload(fig, format);\n",
       "}\n",
       "\n",
       "\n",
       "mpl.figure.prototype.handle_resize = function(fig, msg) {\n",
       "    var size = msg['size'];\n",
       "    if (size[0] != fig.canvas.width || size[1] != fig.canvas.height) {\n",
       "        fig._resize_canvas(size[0], size[1]);\n",
       "        fig.send_message(\"refresh\", {});\n",
       "    };\n",
       "}\n",
       "\n",
       "mpl.figure.prototype.handle_rubberband = function(fig, msg) {\n",
       "    var x0 = msg['x0'] / mpl.ratio;\n",
       "    var y0 = (fig.canvas.height - msg['y0']) / mpl.ratio;\n",
       "    var x1 = msg['x1'] / mpl.ratio;\n",
       "    var y1 = (fig.canvas.height - msg['y1']) / mpl.ratio;\n",
       "    x0 = Math.floor(x0) + 0.5;\n",
       "    y0 = Math.floor(y0) + 0.5;\n",
       "    x1 = Math.floor(x1) + 0.5;\n",
       "    y1 = Math.floor(y1) + 0.5;\n",
       "    var min_x = Math.min(x0, x1);\n",
       "    var min_y = Math.min(y0, y1);\n",
       "    var width = Math.abs(x1 - x0);\n",
       "    var height = Math.abs(y1 - y0);\n",
       "\n",
       "    fig.rubberband_context.clearRect(\n",
       "        0, 0, fig.canvas.width, fig.canvas.height);\n",
       "\n",
       "    fig.rubberband_context.strokeRect(min_x, min_y, width, height);\n",
       "}\n",
       "\n",
       "mpl.figure.prototype.handle_figure_label = function(fig, msg) {\n",
       "    // Updates the figure title.\n",
       "    fig.header.textContent = msg['label'];\n",
       "}\n",
       "\n",
       "mpl.figure.prototype.handle_cursor = function(fig, msg) {\n",
       "    var cursor = msg['cursor'];\n",
       "    switch(cursor)\n",
       "    {\n",
       "    case 0:\n",
       "        cursor = 'pointer';\n",
       "        break;\n",
       "    case 1:\n",
       "        cursor = 'default';\n",
       "        break;\n",
       "    case 2:\n",
       "        cursor = 'crosshair';\n",
       "        break;\n",
       "    case 3:\n",
       "        cursor = 'move';\n",
       "        break;\n",
       "    }\n",
       "    fig.rubberband_canvas.style.cursor = cursor;\n",
       "}\n",
       "\n",
       "mpl.figure.prototype.handle_message = function(fig, msg) {\n",
       "    fig.message.textContent = msg['message'];\n",
       "}\n",
       "\n",
       "mpl.figure.prototype.handle_draw = function(fig, msg) {\n",
       "    // Request the server to send over a new figure.\n",
       "    fig.send_draw_message();\n",
       "}\n",
       "\n",
       "mpl.figure.prototype.handle_image_mode = function(fig, msg) {\n",
       "    fig.image_mode = msg['mode'];\n",
       "}\n",
       "\n",
       "mpl.figure.prototype.updated_canvas_event = function() {\n",
       "    // Called whenever the canvas gets updated.\n",
       "    this.send_message(\"ack\", {});\n",
       "}\n",
       "\n",
       "// A function to construct a web socket function for onmessage handling.\n",
       "// Called in the figure constructor.\n",
       "mpl.figure.prototype._make_on_message_function = function(fig) {\n",
       "    return function socket_on_message(evt) {\n",
       "        if (evt.data instanceof Blob) {\n",
       "            /* FIXME: We get \"Resource interpreted as Image but\n",
       "             * transferred with MIME type text/plain:\" errors on\n",
       "             * Chrome.  But how to set the MIME type?  It doesn't seem\n",
       "             * to be part of the websocket stream */\n",
       "            evt.data.type = \"image/png\";\n",
       "\n",
       "            /* Free the memory for the previous frames */\n",
       "            if (fig.imageObj.src) {\n",
       "                (window.URL || window.webkitURL).revokeObjectURL(\n",
       "                    fig.imageObj.src);\n",
       "            }\n",
       "\n",
       "            fig.imageObj.src = (window.URL || window.webkitURL).createObjectURL(\n",
       "                evt.data);\n",
       "            fig.updated_canvas_event();\n",
       "            fig.waiting = false;\n",
       "            return;\n",
       "        }\n",
       "        else if (typeof evt.data === 'string' && evt.data.slice(0, 21) == \"data:image/png;base64\") {\n",
       "            fig.imageObj.src = evt.data;\n",
       "            fig.updated_canvas_event();\n",
       "            fig.waiting = false;\n",
       "            return;\n",
       "        }\n",
       "\n",
       "        var msg = JSON.parse(evt.data);\n",
       "        var msg_type = msg['type'];\n",
       "\n",
       "        // Call the  \"handle_{type}\" callback, which takes\n",
       "        // the figure and JSON message as its only arguments.\n",
       "        try {\n",
       "            var callback = fig[\"handle_\" + msg_type];\n",
       "        } catch (e) {\n",
       "            console.log(\"No handler for the '\" + msg_type + \"' message type: \", msg);\n",
       "            return;\n",
       "        }\n",
       "\n",
       "        if (callback) {\n",
       "            try {\n",
       "                // console.log(\"Handling '\" + msg_type + \"' message: \", msg);\n",
       "                callback(fig, msg);\n",
       "            } catch (e) {\n",
       "                console.log(\"Exception inside the 'handler_\" + msg_type + \"' callback:\", e, e.stack, msg);\n",
       "            }\n",
       "        }\n",
       "    };\n",
       "}\n",
       "\n",
       "// from http://stackoverflow.com/questions/1114465/getting-mouse-location-in-canvas\n",
       "mpl.findpos = function(e) {\n",
       "    //this section is from http://www.quirksmode.org/js/events_properties.html\n",
       "    var targ;\n",
       "    if (!e)\n",
       "        e = window.event;\n",
       "    if (e.target)\n",
       "        targ = e.target;\n",
       "    else if (e.srcElement)\n",
       "        targ = e.srcElement;\n",
       "    if (targ.nodeType == 3) // defeat Safari bug\n",
       "        targ = targ.parentNode;\n",
       "\n",
       "    // jQuery normalizes the pageX and pageY\n",
       "    // pageX,Y are the mouse positions relative to the document\n",
       "    // offset() returns the position of the element relative to the document\n",
       "    var x = e.pageX - $(targ).offset().left;\n",
       "    var y = e.pageY - $(targ).offset().top;\n",
       "\n",
       "    return {\"x\": x, \"y\": y};\n",
       "};\n",
       "\n",
       "/*\n",
       " * return a copy of an object with only non-object keys\n",
       " * we need this to avoid circular references\n",
       " * http://stackoverflow.com/a/24161582/3208463\n",
       " */\n",
       "function simpleKeys (original) {\n",
       "  return Object.keys(original).reduce(function (obj, key) {\n",
       "    if (typeof original[key] !== 'object')\n",
       "        obj[key] = original[key]\n",
       "    return obj;\n",
       "  }, {});\n",
       "}\n",
       "\n",
       "mpl.figure.prototype.mouse_event = function(event, name) {\n",
       "    var canvas_pos = mpl.findpos(event)\n",
       "\n",
       "    if (name === 'button_press')\n",
       "    {\n",
       "        this.canvas.focus();\n",
       "        this.canvas_div.focus();\n",
       "    }\n",
       "\n",
       "    var x = canvas_pos.x * mpl.ratio;\n",
       "    var y = canvas_pos.y * mpl.ratio;\n",
       "\n",
       "    this.send_message(name, {x: x, y: y, button: event.button,\n",
       "                             step: event.step,\n",
       "                             guiEvent: simpleKeys(event)});\n",
       "\n",
       "    /* This prevents the web browser from automatically changing to\n",
       "     * the text insertion cursor when the button is pressed.  We want\n",
       "     * to control all of the cursor setting manually through the\n",
       "     * 'cursor' event from matplotlib */\n",
       "    event.preventDefault();\n",
       "    return false;\n",
       "}\n",
       "\n",
       "mpl.figure.prototype._key_event_extra = function(event, name) {\n",
       "    // Handle any extra behaviour associated with a key event\n",
       "}\n",
       "\n",
       "mpl.figure.prototype.key_event = function(event, name) {\n",
       "\n",
       "    // Prevent repeat events\n",
       "    if (name == 'key_press')\n",
       "    {\n",
       "        if (event.which === this._key)\n",
       "            return;\n",
       "        else\n",
       "            this._key = event.which;\n",
       "    }\n",
       "    if (name == 'key_release')\n",
       "        this._key = null;\n",
       "\n",
       "    var value = '';\n",
       "    if (event.ctrlKey && event.which != 17)\n",
       "        value += \"ctrl+\";\n",
       "    if (event.altKey && event.which != 18)\n",
       "        value += \"alt+\";\n",
       "    if (event.shiftKey && event.which != 16)\n",
       "        value += \"shift+\";\n",
       "\n",
       "    value += 'k';\n",
       "    value += event.which.toString();\n",
       "\n",
       "    this._key_event_extra(event, name);\n",
       "\n",
       "    this.send_message(name, {key: value,\n",
       "                             guiEvent: simpleKeys(event)});\n",
       "    return false;\n",
       "}\n",
       "\n",
       "mpl.figure.prototype.toolbar_button_onclick = function(name) {\n",
       "    if (name == 'download') {\n",
       "        this.handle_save(this, null);\n",
       "    } else {\n",
       "        this.send_message(\"toolbar_button\", {name: name});\n",
       "    }\n",
       "};\n",
       "\n",
       "mpl.figure.prototype.toolbar_button_onmouseover = function(tooltip) {\n",
       "    this.message.textContent = tooltip;\n",
       "};\n",
       "mpl.toolbar_items = [[\"Home\", \"Reset original view\", \"fa fa-home icon-home\", \"home\"], [\"Back\", \"Back to  previous view\", \"fa fa-arrow-left icon-arrow-left\", \"back\"], [\"Forward\", \"Forward to next view\", \"fa fa-arrow-right icon-arrow-right\", \"forward\"], [\"\", \"\", \"\", \"\"], [\"Pan\", \"Pan axes with left mouse, zoom with right\", \"fa fa-arrows icon-move\", \"pan\"], [\"Zoom\", \"Zoom to rectangle\", \"fa fa-square-o icon-check-empty\", \"zoom\"], [\"\", \"\", \"\", \"\"], [\"Download\", \"Download plot\", \"fa fa-floppy-o icon-save\", \"download\"]];\n",
       "\n",
       "mpl.extensions = [\"eps\", \"jpeg\", \"pdf\", \"png\", \"ps\", \"raw\", \"svg\", \"tif\"];\n",
       "\n",
       "mpl.default_extension = \"png\";var comm_websocket_adapter = function(comm) {\n",
       "    // Create a \"websocket\"-like object which calls the given IPython comm\n",
       "    // object with the appropriate methods. Currently this is a non binary\n",
       "    // socket, so there is still some room for performance tuning.\n",
       "    var ws = {};\n",
       "\n",
       "    ws.close = function() {\n",
       "        comm.close()\n",
       "    };\n",
       "    ws.send = function(m) {\n",
       "        //console.log('sending', m);\n",
       "        comm.send(m);\n",
       "    };\n",
       "    // Register the callback with on_msg.\n",
       "    comm.on_msg(function(msg) {\n",
       "        //console.log('receiving', msg['content']['data'], msg);\n",
       "        // Pass the mpl event to the overriden (by mpl) onmessage function.\n",
       "        ws.onmessage(msg['content']['data'])\n",
       "    });\n",
       "    return ws;\n",
       "}\n",
       "\n",
       "mpl.mpl_figure_comm = function(comm, msg) {\n",
       "    // This is the function which gets called when the mpl process\n",
       "    // starts-up an IPython Comm through the \"matplotlib\" channel.\n",
       "\n",
       "    var id = msg.content.data.id;\n",
       "    // Get hold of the div created by the display call when the Comm\n",
       "    // socket was opened in Python.\n",
       "    var element = $(\"#\" + id);\n",
       "    var ws_proxy = comm_websocket_adapter(comm)\n",
       "\n",
       "    function ondownload(figure, format) {\n",
       "        window.open(figure.imageObj.src);\n",
       "    }\n",
       "\n",
       "    var fig = new mpl.figure(id, ws_proxy,\n",
       "                           ondownload,\n",
       "                           element.get(0));\n",
       "\n",
       "    // Call onopen now - mpl needs it, as it is assuming we've passed it a real\n",
       "    // web socket which is closed, not our websocket->open comm proxy.\n",
       "    ws_proxy.onopen();\n",
       "\n",
       "    fig.parent_element = element.get(0);\n",
       "    fig.cell_info = mpl.find_output_cell(\"<div id='\" + id + \"'></div>\");\n",
       "    if (!fig.cell_info) {\n",
       "        console.error(\"Failed to find cell for figure\", id, fig);\n",
       "        return;\n",
       "    }\n",
       "\n",
       "    var output_index = fig.cell_info[2]\n",
       "    var cell = fig.cell_info[0];\n",
       "\n",
       "};\n",
       "\n",
       "mpl.figure.prototype.handle_close = function(fig, msg) {\n",
       "    var width = fig.canvas.width/mpl.ratio\n",
       "    fig.root.unbind('remove')\n",
       "\n",
       "    // Update the output cell to use the data from the current canvas.\n",
       "    fig.push_to_output();\n",
       "    var dataURL = fig.canvas.toDataURL();\n",
       "    // Re-enable the keyboard manager in IPython - without this line, in FF,\n",
       "    // the notebook keyboard shortcuts fail.\n",
       "    IPython.keyboard_manager.enable()\n",
       "    $(fig.parent_element).html('<img src=\"' + dataURL + '\" width=\"' + width + '\">');\n",
       "    fig.close_ws(fig, msg);\n",
       "}\n",
       "\n",
       "mpl.figure.prototype.close_ws = function(fig, msg){\n",
       "    fig.send_message('closing', msg);\n",
       "    // fig.ws.close()\n",
       "}\n",
       "\n",
       "mpl.figure.prototype.push_to_output = function(remove_interactive) {\n",
       "    // Turn the data on the canvas into data in the output cell.\n",
       "    var width = this.canvas.width/mpl.ratio\n",
       "    var dataURL = this.canvas.toDataURL();\n",
       "    this.cell_info[1]['text/html'] = '<img src=\"' + dataURL + '\" width=\"' + width + '\">';\n",
       "}\n",
       "\n",
       "mpl.figure.prototype.updated_canvas_event = function() {\n",
       "    // Tell IPython that the notebook contents must change.\n",
       "    IPython.notebook.set_dirty(true);\n",
       "    this.send_message(\"ack\", {});\n",
       "    var fig = this;\n",
       "    // Wait a second, then push the new image to the DOM so\n",
       "    // that it is saved nicely (might be nice to debounce this).\n",
       "    setTimeout(function () { fig.push_to_output() }, 1000);\n",
       "}\n",
       "\n",
       "mpl.figure.prototype._init_toolbar = function() {\n",
       "    var fig = this;\n",
       "\n",
       "    var nav_element = $('<div/>')\n",
       "    nav_element.attr('style', 'width: 100%');\n",
       "    this.root.append(nav_element);\n",
       "\n",
       "    // Define a callback function for later on.\n",
       "    function toolbar_event(event) {\n",
       "        return fig.toolbar_button_onclick(event['data']);\n",
       "    }\n",
       "    function toolbar_mouse_event(event) {\n",
       "        return fig.toolbar_button_onmouseover(event['data']);\n",
       "    }\n",
       "\n",
       "    for(var toolbar_ind in mpl.toolbar_items){\n",
       "        var name = mpl.toolbar_items[toolbar_ind][0];\n",
       "        var tooltip = mpl.toolbar_items[toolbar_ind][1];\n",
       "        var image = mpl.toolbar_items[toolbar_ind][2];\n",
       "        var method_name = mpl.toolbar_items[toolbar_ind][3];\n",
       "\n",
       "        if (!name) { continue; };\n",
       "\n",
       "        var button = $('<button class=\"btn btn-default\" href=\"#\" title=\"' + name + '\"><i class=\"fa ' + image + ' fa-lg\"></i></button>');\n",
       "        button.click(method_name, toolbar_event);\n",
       "        button.mouseover(tooltip, toolbar_mouse_event);\n",
       "        nav_element.append(button);\n",
       "    }\n",
       "\n",
       "    // Add the status bar.\n",
       "    var status_bar = $('<span class=\"mpl-message\" style=\"text-align:right; float: right;\"/>');\n",
       "    nav_element.append(status_bar);\n",
       "    this.message = status_bar[0];\n",
       "\n",
       "    // Add the close button to the window.\n",
       "    var buttongrp = $('<div class=\"btn-group inline pull-right\"></div>');\n",
       "    var button = $('<button class=\"btn btn-mini btn-primary\" href=\"#\" title=\"Stop Interaction\"><i class=\"fa fa-power-off icon-remove icon-large\"></i></button>');\n",
       "    button.click(function (evt) { fig.handle_close(fig, {}); } );\n",
       "    button.mouseover('Stop Interaction', toolbar_mouse_event);\n",
       "    buttongrp.append(button);\n",
       "    var titlebar = this.root.find($('.ui-dialog-titlebar'));\n",
       "    titlebar.prepend(buttongrp);\n",
       "}\n",
       "\n",
       "mpl.figure.prototype._root_extra_style = function(el){\n",
       "    var fig = this\n",
       "    el.on(\"remove\", function(){\n",
       "\tfig.close_ws(fig, {});\n",
       "    });\n",
       "}\n",
       "\n",
       "mpl.figure.prototype._canvas_extra_style = function(el){\n",
       "    // this is important to make the div 'focusable\n",
       "    el.attr('tabindex', 0)\n",
       "    // reach out to IPython and tell the keyboard manager to turn it's self\n",
       "    // off when our div gets focus\n",
       "\n",
       "    // location in version 3\n",
       "    if (IPython.notebook.keyboard_manager) {\n",
       "        IPython.notebook.keyboard_manager.register_events(el);\n",
       "    }\n",
       "    else {\n",
       "        // location in version 2\n",
       "        IPython.keyboard_manager.register_events(el);\n",
       "    }\n",
       "\n",
       "}\n",
       "\n",
       "mpl.figure.prototype._key_event_extra = function(event, name) {\n",
       "    var manager = IPython.notebook.keyboard_manager;\n",
       "    if (!manager)\n",
       "        manager = IPython.keyboard_manager;\n",
       "\n",
       "    // Check for shift+enter\n",
       "    if (event.shiftKey && event.which == 13) {\n",
       "        this.canvas_div.blur();\n",
       "        event.shiftKey = false;\n",
       "        // Send a \"J\" for go to next cell\n",
       "        event.which = 74;\n",
       "        event.keyCode = 74;\n",
       "        manager.command_mode();\n",
       "        manager.handle_keydown(event);\n",
       "    }\n",
       "}\n",
       "\n",
       "mpl.figure.prototype.handle_save = function(fig, msg) {\n",
       "    fig.ondownload(fig, null);\n",
       "}\n",
       "\n",
       "\n",
       "mpl.find_output_cell = function(html_output) {\n",
       "    // Return the cell and output element which can be found *uniquely* in the notebook.\n",
       "    // Note - this is a bit hacky, but it is done because the \"notebook_saving.Notebook\"\n",
       "    // IPython event is triggered only after the cells have been serialised, which for\n",
       "    // our purposes (turning an active figure into a static one), is too late.\n",
       "    var cells = IPython.notebook.get_cells();\n",
       "    var ncells = cells.length;\n",
       "    for (var i=0; i<ncells; i++) {\n",
       "        var cell = cells[i];\n",
       "        if (cell.cell_type === 'code'){\n",
       "            for (var j=0; j<cell.output_area.outputs.length; j++) {\n",
       "                var data = cell.output_area.outputs[j];\n",
       "                if (data.data) {\n",
       "                    // IPython >= 3 moved mimebundle to data attribute of output\n",
       "                    data = data.data;\n",
       "                }\n",
       "                if (data['text/html'] == html_output) {\n",
       "                    return [cell, data, j];\n",
       "                }\n",
       "            }\n",
       "        }\n",
       "    }\n",
       "}\n",
       "\n",
       "// Register the function which deals with the matplotlib target/channel.\n",
       "// The kernel may be null if the page has been refreshed.\n",
       "if (IPython.notebook.kernel != null) {\n",
       "    IPython.notebook.kernel.comm_manager.register_target('matplotlib', mpl.mpl_figure_comm);\n",
       "}\n"
      ],
      "text/plain": [
       "<IPython.core.display.Javascript object>"
      ]
     },
     "metadata": {},
     "output_type": "display_data"
    },
    {
     "data": {
      "text/html": [
       "<img src=\"data:image/png;base64,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\" width=\"500\">"
      ],
      "text/plain": [
       "<IPython.core.display.HTML object>"
      ]
     },
     "metadata": {},
     "output_type": "display_data"
    },
    {
     "data": {
      "text/plain": [
       "Text(0.5,1,'Histogram of the predicted values Full Dataset')"
      ]
     },
     "execution_count": 24,
     "metadata": {},
     "output_type": "execute_result"
    }
   ],
   "source": [
    "target=pd.DataFrame(y_val)\n",
    "target.columns=[\"Prediction Target\"]\n",
    "result_pred=pd.concat([results,target],axis=1)\n",
    "result_pred.columns=[\"Predicted\",\"Prediction Target\"]\n",
    "fig, ax = plt.subplots(figsize = (5,5))\n",
    "r=result_pred.groupby('Prediction Target')['Predicted']\n",
    "r.plot(kind='hist',alpha=.4,legend=True)\n",
    "ax.set_xlabel(\"Probabilities\")\n",
    "ax.set_ylabel(\"Density\")\n",
    "ax.set_title('Histogram of the predicted values Full Dataset')\n",
    "#plt.savefig('/work/breastcancer/histprediction_0.1_Bigger.png')"
   ]
  },
  {
   "cell_type": "code",
   "execution_count": 51,
   "metadata": {},
   "outputs": [
    {
     "name": "stderr",
     "output_type": "stream",
     "text": [
      "/home/adbadre/.local/lib/python3.6/site-packages/ipykernel_launcher.py:5: DeprecationWarning: \n",
      ".ix is deprecated. Please use\n",
      ".loc for label based indexing or\n",
      ".iloc for positional indexing\n",
      "\n",
      "See the documentation here:\n",
      "http://pandas.pydata.org/pandas-docs/stable/indexing.html#ix-indexer-is-deprecated\n",
      "  \"\"\"\n"
     ]
    }
   ],
   "source": [
    "def Find_Optimal_Cutoff(target, predicted):\n",
    "    fpr, tpr, threshold = roc_curve(target, predicted)\n",
    "    i = np.arange(len(tpr)) \n",
    "    roc = pd.DataFrame({'tf' : pd.Series(tpr-(1-fpr), index=i), 'threshold' : pd.Series(threshold, index=i)})\n",
    "    roc_t = roc.ix[(roc.tf-0).abs().argsort()[:1]]\n",
    "    return list(roc_t['threshold']) \n",
    "th=Find_Optimal_Cutoff(y_val,pred[:,1])\n"
   ]
  },
  {
   "cell_type": "code",
   "execution_count": 52,
   "metadata": {},
   "outputs": [
    {
     "data": {
      "text/plain": [
       "array([0, 1, 1, ..., 0, 0, 0])"
      ]
     },
     "execution_count": 52,
     "metadata": {},
     "output_type": "execute_result"
    }
   ],
   "source": [
    "y_val[:,0]"
   ]
  },
  {
   "cell_type": "code",
   "execution_count": 53,
   "metadata": {},
   "outputs": [
    {
     "name": "stdout",
     "output_type": "stream",
     "text": [
      "[0.4906969227750291]\n",
      "[[1246  635]\n",
      " [ 716 1403]]\n",
      "             precision    recall  f1-score   support\n",
      "\n",
      "          0       0.63      0.68      0.65      1881\n",
      "          1       0.69      0.65      0.67      2119\n",
      "\n",
      "avg / total       0.66      0.66      0.66      4000\n",
      "\n",
      "             precision    recall  f1-score   support\n",
      "\n",
      "          0       0.64      0.66      0.65      1881\n",
      "          1       0.69      0.66      0.68      2119\n",
      "\n",
      "avg / total       0.66      0.66      0.66      4000\n",
      "\n"
     ]
    }
   ],
   "source": [
    "func=lambda x: 1 if x >th[0]  else 0\n",
    "vfunc = np.vectorize(func)\n",
    "out_t=vfunc(pred[:,1])\n",
    "print(th)\n",
    "cm=confusion_matrix(y_val[:,0],out_t)\n",
    "print(cm)\n",
    "#open('/work/breastcancer/logistic_sklearn.txt', 'w')\n",
    "#with open('/work/breastcancer/logistic_sklearn.txt', 'a+') as file:\n",
    "    #file.write(\"Classification Report1:\\n\")\n",
    "    #file.write(classification_report(y_val.T[0],np.round(out.T[0])))\n",
    "print(classification_report(y_val[:,0],np.round(pred[:,1])))\n",
    "    #file.write(\"Classification Report2:\\n\")\n",
    "print(classification_report(y_val,np.round(out_t)))\n",
    "    #file.write(classification_report(y_val.T[0],np.round(out_t)))\n",
    "    #file.write(\"Optimal Theresold:\"+str(th)+\" Confusion Matrix:TP->\"+str(cm[0,0])\n",
    "     #          +\" FP->\"+str(cm[0,1])+\" FN\"+str(cm[1,0])+\" TN\"+str(cm[1,1]))\n",
    "    #file.write(\"\\n\"+str())"
   ]
  },
  {
   "cell_type": "code",
   "execution_count": 23,
   "metadata": {},
   "outputs": [
    {
     "data": {
      "text/plain": [
       "0.8107389686337054"
      ]
     },
     "execution_count": 23,
     "metadata": {},
     "output_type": "execute_result"
    }
   ],
   "source": [
    "1525/(1525+356)"
   ]
  },
  {
   "cell_type": "code",
   "execution_count": 19,
   "metadata": {},
   "outputs": [],
   "source": [
    "fpr,tpr,_=roc_curve(y_val,pred[:,1])"
   ]
  },
  {
   "cell_type": "code",
   "execution_count": 20,
   "metadata": {},
   "outputs": [
    {
     "data": {
      "application/javascript": [
       "/* Put everything inside the global mpl namespace */\n",
       "window.mpl = {};\n",
       "\n",
       "\n",
       "mpl.get_websocket_type = function() {\n",
       "    if (typeof(WebSocket) !== 'undefined') {\n",
       "        return WebSocket;\n",
       "    } else if (typeof(MozWebSocket) !== 'undefined') {\n",
       "        return MozWebSocket;\n",
       "    } else {\n",
       "        alert('Your browser does not have WebSocket support.' +\n",
       "              'Please try Chrome, Safari or Firefox ≥ 6. ' +\n",
       "              'Firefox 4 and 5 are also supported but you ' +\n",
       "              'have to enable WebSockets in about:config.');\n",
       "    };\n",
       "}\n",
       "\n",
       "mpl.figure = function(figure_id, websocket, ondownload, parent_element) {\n",
       "    this.id = figure_id;\n",
       "\n",
       "    this.ws = websocket;\n",
       "\n",
       "    this.supports_binary = (this.ws.binaryType != undefined);\n",
       "\n",
       "    if (!this.supports_binary) {\n",
       "        var warnings = document.getElementById(\"mpl-warnings\");\n",
       "        if (warnings) {\n",
       "            warnings.style.display = 'block';\n",
       "            warnings.textContent = (\n",
       "                \"This browser does not support binary websocket messages. \" +\n",
       "                    \"Performance may be slow.\");\n",
       "        }\n",
       "    }\n",
       "\n",
       "    this.imageObj = new Image();\n",
       "\n",
       "    this.context = undefined;\n",
       "    this.message = undefined;\n",
       "    this.canvas = undefined;\n",
       "    this.rubberband_canvas = undefined;\n",
       "    this.rubberband_context = undefined;\n",
       "    this.format_dropdown = undefined;\n",
       "\n",
       "    this.image_mode = 'full';\n",
       "\n",
       "    this.root = $('<div/>');\n",
       "    this._root_extra_style(this.root)\n",
       "    this.root.attr('style', 'display: inline-block');\n",
       "\n",
       "    $(parent_element).append(this.root);\n",
       "\n",
       "    this._init_header(this);\n",
       "    this._init_canvas(this);\n",
       "    this._init_toolbar(this);\n",
       "\n",
       "    var fig = this;\n",
       "\n",
       "    this.waiting = false;\n",
       "\n",
       "    this.ws.onopen =  function () {\n",
       "            fig.send_message(\"supports_binary\", {value: fig.supports_binary});\n",
       "            fig.send_message(\"send_image_mode\", {});\n",
       "            if (mpl.ratio != 1) {\n",
       "                fig.send_message(\"set_dpi_ratio\", {'dpi_ratio': mpl.ratio});\n",
       "            }\n",
       "            fig.send_message(\"refresh\", {});\n",
       "        }\n",
       "\n",
       "    this.imageObj.onload = function() {\n",
       "            if (fig.image_mode == 'full') {\n",
       "                // Full images could contain transparency (where diff images\n",
       "                // almost always do), so we need to clear the canvas so that\n",
       "                // there is no ghosting.\n",
       "                fig.context.clearRect(0, 0, fig.canvas.width, fig.canvas.height);\n",
       "            }\n",
       "            fig.context.drawImage(fig.imageObj, 0, 0);\n",
       "        };\n",
       "\n",
       "    this.imageObj.onunload = function() {\n",
       "        fig.ws.close();\n",
       "    }\n",
       "\n",
       "    this.ws.onmessage = this._make_on_message_function(this);\n",
       "\n",
       "    this.ondownload = ondownload;\n",
       "}\n",
       "\n",
       "mpl.figure.prototype._init_header = function() {\n",
       "    var titlebar = $(\n",
       "        '<div class=\"ui-dialog-titlebar ui-widget-header ui-corner-all ' +\n",
       "        'ui-helper-clearfix\"/>');\n",
       "    var titletext = $(\n",
       "        '<div class=\"ui-dialog-title\" style=\"width: 100%; ' +\n",
       "        'text-align: center; padding: 3px;\"/>');\n",
       "    titlebar.append(titletext)\n",
       "    this.root.append(titlebar);\n",
       "    this.header = titletext[0];\n",
       "}\n",
       "\n",
       "\n",
       "\n",
       "mpl.figure.prototype._canvas_extra_style = function(canvas_div) {\n",
       "\n",
       "}\n",
       "\n",
       "\n",
       "mpl.figure.prototype._root_extra_style = function(canvas_div) {\n",
       "\n",
       "}\n",
       "\n",
       "mpl.figure.prototype._init_canvas = function() {\n",
       "    var fig = this;\n",
       "\n",
       "    var canvas_div = $('<div/>');\n",
       "\n",
       "    canvas_div.attr('style', 'position: relative; clear: both; outline: 0');\n",
       "\n",
       "    function canvas_keyboard_event(event) {\n",
       "        return fig.key_event(event, event['data']);\n",
       "    }\n",
       "\n",
       "    canvas_div.keydown('key_press', canvas_keyboard_event);\n",
       "    canvas_div.keyup('key_release', canvas_keyboard_event);\n",
       "    this.canvas_div = canvas_div\n",
       "    this._canvas_extra_style(canvas_div)\n",
       "    this.root.append(canvas_div);\n",
       "\n",
       "    var canvas = $('<canvas/>');\n",
       "    canvas.addClass('mpl-canvas');\n",
       "    canvas.attr('style', \"left: 0; top: 0; z-index: 0; outline: 0\")\n",
       "\n",
       "    this.canvas = canvas[0];\n",
       "    this.context = canvas[0].getContext(\"2d\");\n",
       "\n",
       "    var backingStore = this.context.backingStorePixelRatio ||\n",
       "\tthis.context.webkitBackingStorePixelRatio ||\n",
       "\tthis.context.mozBackingStorePixelRatio ||\n",
       "\tthis.context.msBackingStorePixelRatio ||\n",
       "\tthis.context.oBackingStorePixelRatio ||\n",
       "\tthis.context.backingStorePixelRatio || 1;\n",
       "\n",
       "    mpl.ratio = (window.devicePixelRatio || 1) / backingStore;\n",
       "\n",
       "    var rubberband = $('<canvas/>');\n",
       "    rubberband.attr('style', \"position: absolute; left: 0; top: 0; z-index: 1;\")\n",
       "\n",
       "    var pass_mouse_events = true;\n",
       "\n",
       "    canvas_div.resizable({\n",
       "        start: function(event, ui) {\n",
       "            pass_mouse_events = false;\n",
       "        },\n",
       "        resize: function(event, ui) {\n",
       "            fig.request_resize(ui.size.width, ui.size.height);\n",
       "        },\n",
       "        stop: function(event, ui) {\n",
       "            pass_mouse_events = true;\n",
       "            fig.request_resize(ui.size.width, ui.size.height);\n",
       "        },\n",
       "    });\n",
       "\n",
       "    function mouse_event_fn(event) {\n",
       "        if (pass_mouse_events)\n",
       "            return fig.mouse_event(event, event['data']);\n",
       "    }\n",
       "\n",
       "    rubberband.mousedown('button_press', mouse_event_fn);\n",
       "    rubberband.mouseup('button_release', mouse_event_fn);\n",
       "    // Throttle sequential mouse events to 1 every 20ms.\n",
       "    rubberband.mousemove('motion_notify', mouse_event_fn);\n",
       "\n",
       "    rubberband.mouseenter('figure_enter', mouse_event_fn);\n",
       "    rubberband.mouseleave('figure_leave', mouse_event_fn);\n",
       "\n",
       "    canvas_div.on(\"wheel\", function (event) {\n",
       "        event = event.originalEvent;\n",
       "        event['data'] = 'scroll'\n",
       "        if (event.deltaY < 0) {\n",
       "            event.step = 1;\n",
       "        } else {\n",
       "            event.step = -1;\n",
       "        }\n",
       "        mouse_event_fn(event);\n",
       "    });\n",
       "\n",
       "    canvas_div.append(canvas);\n",
       "    canvas_div.append(rubberband);\n",
       "\n",
       "    this.rubberband = rubberband;\n",
       "    this.rubberband_canvas = rubberband[0];\n",
       "    this.rubberband_context = rubberband[0].getContext(\"2d\");\n",
       "    this.rubberband_context.strokeStyle = \"#000000\";\n",
       "\n",
       "    this._resize_canvas = function(width, height) {\n",
       "        // Keep the size of the canvas, canvas container, and rubber band\n",
       "        // canvas in synch.\n",
       "        canvas_div.css('width', width)\n",
       "        canvas_div.css('height', height)\n",
       "\n",
       "        canvas.attr('width', width * mpl.ratio);\n",
       "        canvas.attr('height', height * mpl.ratio);\n",
       "        canvas.attr('style', 'width: ' + width + 'px; height: ' + height + 'px;');\n",
       "\n",
       "        rubberband.attr('width', width);\n",
       "        rubberband.attr('height', height);\n",
       "    }\n",
       "\n",
       "    // Set the figure to an initial 600x600px, this will subsequently be updated\n",
       "    // upon first draw.\n",
       "    this._resize_canvas(600, 600);\n",
       "\n",
       "    // Disable right mouse context menu.\n",
       "    $(this.rubberband_canvas).bind(\"contextmenu\",function(e){\n",
       "        return false;\n",
       "    });\n",
       "\n",
       "    function set_focus () {\n",
       "        canvas.focus();\n",
       "        canvas_div.focus();\n",
       "    }\n",
       "\n",
       "    window.setTimeout(set_focus, 100);\n",
       "}\n",
       "\n",
       "mpl.figure.prototype._init_toolbar = function() {\n",
       "    var fig = this;\n",
       "\n",
       "    var nav_element = $('<div/>')\n",
       "    nav_element.attr('style', 'width: 100%');\n",
       "    this.root.append(nav_element);\n",
       "\n",
       "    // Define a callback function for later on.\n",
       "    function toolbar_event(event) {\n",
       "        return fig.toolbar_button_onclick(event['data']);\n",
       "    }\n",
       "    function toolbar_mouse_event(event) {\n",
       "        return fig.toolbar_button_onmouseover(event['data']);\n",
       "    }\n",
       "\n",
       "    for(var toolbar_ind in mpl.toolbar_items) {\n",
       "        var name = mpl.toolbar_items[toolbar_ind][0];\n",
       "        var tooltip = mpl.toolbar_items[toolbar_ind][1];\n",
       "        var image = mpl.toolbar_items[toolbar_ind][2];\n",
       "        var method_name = mpl.toolbar_items[toolbar_ind][3];\n",
       "\n",
       "        if (!name) {\n",
       "            // put a spacer in here.\n",
       "            continue;\n",
       "        }\n",
       "        var button = $('<button/>');\n",
       "        button.addClass('ui-button ui-widget ui-state-default ui-corner-all ' +\n",
       "                        'ui-button-icon-only');\n",
       "        button.attr('role', 'button');\n",
       "        button.attr('aria-disabled', 'false');\n",
       "        button.click(method_name, toolbar_event);\n",
       "        button.mouseover(tooltip, toolbar_mouse_event);\n",
       "\n",
       "        var icon_img = $('<span/>');\n",
       "        icon_img.addClass('ui-button-icon-primary ui-icon');\n",
       "        icon_img.addClass(image);\n",
       "        icon_img.addClass('ui-corner-all');\n",
       "\n",
       "        var tooltip_span = $('<span/>');\n",
       "        tooltip_span.addClass('ui-button-text');\n",
       "        tooltip_span.html(tooltip);\n",
       "\n",
       "        button.append(icon_img);\n",
       "        button.append(tooltip_span);\n",
       "\n",
       "        nav_element.append(button);\n",
       "    }\n",
       "\n",
       "    var fmt_picker_span = $('<span/>');\n",
       "\n",
       "    var fmt_picker = $('<select/>');\n",
       "    fmt_picker.addClass('mpl-toolbar-option ui-widget ui-widget-content');\n",
       "    fmt_picker_span.append(fmt_picker);\n",
       "    nav_element.append(fmt_picker_span);\n",
       "    this.format_dropdown = fmt_picker[0];\n",
       "\n",
       "    for (var ind in mpl.extensions) {\n",
       "        var fmt = mpl.extensions[ind];\n",
       "        var option = $(\n",
       "            '<option/>', {selected: fmt === mpl.default_extension}).html(fmt);\n",
       "        fmt_picker.append(option)\n",
       "    }\n",
       "\n",
       "    // Add hover states to the ui-buttons\n",
       "    $( \".ui-button\" ).hover(\n",
       "        function() { $(this).addClass(\"ui-state-hover\");},\n",
       "        function() { $(this).removeClass(\"ui-state-hover\");}\n",
       "    );\n",
       "\n",
       "    var status_bar = $('<span class=\"mpl-message\"/>');\n",
       "    nav_element.append(status_bar);\n",
       "    this.message = status_bar[0];\n",
       "}\n",
       "\n",
       "mpl.figure.prototype.request_resize = function(x_pixels, y_pixels) {\n",
       "    // Request matplotlib to resize the figure. Matplotlib will then trigger a resize in the client,\n",
       "    // which will in turn request a refresh of the image.\n",
       "    this.send_message('resize', {'width': x_pixels, 'height': y_pixels});\n",
       "}\n",
       "\n",
       "mpl.figure.prototype.send_message = function(type, properties) {\n",
       "    properties['type'] = type;\n",
       "    properties['figure_id'] = this.id;\n",
       "    this.ws.send(JSON.stringify(properties));\n",
       "}\n",
       "\n",
       "mpl.figure.prototype.send_draw_message = function() {\n",
       "    if (!this.waiting) {\n",
       "        this.waiting = true;\n",
       "        this.ws.send(JSON.stringify({type: \"draw\", figure_id: this.id}));\n",
       "    }\n",
       "}\n",
       "\n",
       "\n",
       "mpl.figure.prototype.handle_save = function(fig, msg) {\n",
       "    var format_dropdown = fig.format_dropdown;\n",
       "    var format = format_dropdown.options[format_dropdown.selectedIndex].value;\n",
       "    fig.ondownload(fig, format);\n",
       "}\n",
       "\n",
       "\n",
       "mpl.figure.prototype.handle_resize = function(fig, msg) {\n",
       "    var size = msg['size'];\n",
       "    if (size[0] != fig.canvas.width || size[1] != fig.canvas.height) {\n",
       "        fig._resize_canvas(size[0], size[1]);\n",
       "        fig.send_message(\"refresh\", {});\n",
       "    };\n",
       "}\n",
       "\n",
       "mpl.figure.prototype.handle_rubberband = function(fig, msg) {\n",
       "    var x0 = msg['x0'] / mpl.ratio;\n",
       "    var y0 = (fig.canvas.height - msg['y0']) / mpl.ratio;\n",
       "    var x1 = msg['x1'] / mpl.ratio;\n",
       "    var y1 = (fig.canvas.height - msg['y1']) / mpl.ratio;\n",
       "    x0 = Math.floor(x0) + 0.5;\n",
       "    y0 = Math.floor(y0) + 0.5;\n",
       "    x1 = Math.floor(x1) + 0.5;\n",
       "    y1 = Math.floor(y1) + 0.5;\n",
       "    var min_x = Math.min(x0, x1);\n",
       "    var min_y = Math.min(y0, y1);\n",
       "    var width = Math.abs(x1 - x0);\n",
       "    var height = Math.abs(y1 - y0);\n",
       "\n",
       "    fig.rubberband_context.clearRect(\n",
       "        0, 0, fig.canvas.width, fig.canvas.height);\n",
       "\n",
       "    fig.rubberband_context.strokeRect(min_x, min_y, width, height);\n",
       "}\n",
       "\n",
       "mpl.figure.prototype.handle_figure_label = function(fig, msg) {\n",
       "    // Updates the figure title.\n",
       "    fig.header.textContent = msg['label'];\n",
       "}\n",
       "\n",
       "mpl.figure.prototype.handle_cursor = function(fig, msg) {\n",
       "    var cursor = msg['cursor'];\n",
       "    switch(cursor)\n",
       "    {\n",
       "    case 0:\n",
       "        cursor = 'pointer';\n",
       "        break;\n",
       "    case 1:\n",
       "        cursor = 'default';\n",
       "        break;\n",
       "    case 2:\n",
       "        cursor = 'crosshair';\n",
       "        break;\n",
       "    case 3:\n",
       "        cursor = 'move';\n",
       "        break;\n",
       "    }\n",
       "    fig.rubberband_canvas.style.cursor = cursor;\n",
       "}\n",
       "\n",
       "mpl.figure.prototype.handle_message = function(fig, msg) {\n",
       "    fig.message.textContent = msg['message'];\n",
       "}\n",
       "\n",
       "mpl.figure.prototype.handle_draw = function(fig, msg) {\n",
       "    // Request the server to send over a new figure.\n",
       "    fig.send_draw_message();\n",
       "}\n",
       "\n",
       "mpl.figure.prototype.handle_image_mode = function(fig, msg) {\n",
       "    fig.image_mode = msg['mode'];\n",
       "}\n",
       "\n",
       "mpl.figure.prototype.updated_canvas_event = function() {\n",
       "    // Called whenever the canvas gets updated.\n",
       "    this.send_message(\"ack\", {});\n",
       "}\n",
       "\n",
       "// A function to construct a web socket function for onmessage handling.\n",
       "// Called in the figure constructor.\n",
       "mpl.figure.prototype._make_on_message_function = function(fig) {\n",
       "    return function socket_on_message(evt) {\n",
       "        if (evt.data instanceof Blob) {\n",
       "            /* FIXME: We get \"Resource interpreted as Image but\n",
       "             * transferred with MIME type text/plain:\" errors on\n",
       "             * Chrome.  But how to set the MIME type?  It doesn't seem\n",
       "             * to be part of the websocket stream */\n",
       "            evt.data.type = \"image/png\";\n",
       "\n",
       "            /* Free the memory for the previous frames */\n",
       "            if (fig.imageObj.src) {\n",
       "                (window.URL || window.webkitURL).revokeObjectURL(\n",
       "                    fig.imageObj.src);\n",
       "            }\n",
       "\n",
       "            fig.imageObj.src = (window.URL || window.webkitURL).createObjectURL(\n",
       "                evt.data);\n",
       "            fig.updated_canvas_event();\n",
       "            fig.waiting = false;\n",
       "            return;\n",
       "        }\n",
       "        else if (typeof evt.data === 'string' && evt.data.slice(0, 21) == \"data:image/png;base64\") {\n",
       "            fig.imageObj.src = evt.data;\n",
       "            fig.updated_canvas_event();\n",
       "            fig.waiting = false;\n",
       "            return;\n",
       "        }\n",
       "\n",
       "        var msg = JSON.parse(evt.data);\n",
       "        var msg_type = msg['type'];\n",
       "\n",
       "        // Call the  \"handle_{type}\" callback, which takes\n",
       "        // the figure and JSON message as its only arguments.\n",
       "        try {\n",
       "            var callback = fig[\"handle_\" + msg_type];\n",
       "        } catch (e) {\n",
       "            console.log(\"No handler for the '\" + msg_type + \"' message type: \", msg);\n",
       "            return;\n",
       "        }\n",
       "\n",
       "        if (callback) {\n",
       "            try {\n",
       "                // console.log(\"Handling '\" + msg_type + \"' message: \", msg);\n",
       "                callback(fig, msg);\n",
       "            } catch (e) {\n",
       "                console.log(\"Exception inside the 'handler_\" + msg_type + \"' callback:\", e, e.stack, msg);\n",
       "            }\n",
       "        }\n",
       "    };\n",
       "}\n",
       "\n",
       "// from http://stackoverflow.com/questions/1114465/getting-mouse-location-in-canvas\n",
       "mpl.findpos = function(e) {\n",
       "    //this section is from http://www.quirksmode.org/js/events_properties.html\n",
       "    var targ;\n",
       "    if (!e)\n",
       "        e = window.event;\n",
       "    if (e.target)\n",
       "        targ = e.target;\n",
       "    else if (e.srcElement)\n",
       "        targ = e.srcElement;\n",
       "    if (targ.nodeType == 3) // defeat Safari bug\n",
       "        targ = targ.parentNode;\n",
       "\n",
       "    // jQuery normalizes the pageX and pageY\n",
       "    // pageX,Y are the mouse positions relative to the document\n",
       "    // offset() returns the position of the element relative to the document\n",
       "    var x = e.pageX - $(targ).offset().left;\n",
       "    var y = e.pageY - $(targ).offset().top;\n",
       "\n",
       "    return {\"x\": x, \"y\": y};\n",
       "};\n",
       "\n",
       "/*\n",
       " * return a copy of an object with only non-object keys\n",
       " * we need this to avoid circular references\n",
       " * http://stackoverflow.com/a/24161582/3208463\n",
       " */\n",
       "function simpleKeys (original) {\n",
       "  return Object.keys(original).reduce(function (obj, key) {\n",
       "    if (typeof original[key] !== 'object')\n",
       "        obj[key] = original[key]\n",
       "    return obj;\n",
       "  }, {});\n",
       "}\n",
       "\n",
       "mpl.figure.prototype.mouse_event = function(event, name) {\n",
       "    var canvas_pos = mpl.findpos(event)\n",
       "\n",
       "    if (name === 'button_press')\n",
       "    {\n",
       "        this.canvas.focus();\n",
       "        this.canvas_div.focus();\n",
       "    }\n",
       "\n",
       "    var x = canvas_pos.x * mpl.ratio;\n",
       "    var y = canvas_pos.y * mpl.ratio;\n",
       "\n",
       "    this.send_message(name, {x: x, y: y, button: event.button,\n",
       "                             step: event.step,\n",
       "                             guiEvent: simpleKeys(event)});\n",
       "\n",
       "    /* This prevents the web browser from automatically changing to\n",
       "     * the text insertion cursor when the button is pressed.  We want\n",
       "     * to control all of the cursor setting manually through the\n",
       "     * 'cursor' event from matplotlib */\n",
       "    event.preventDefault();\n",
       "    return false;\n",
       "}\n",
       "\n",
       "mpl.figure.prototype._key_event_extra = function(event, name) {\n",
       "    // Handle any extra behaviour associated with a key event\n",
       "}\n",
       "\n",
       "mpl.figure.prototype.key_event = function(event, name) {\n",
       "\n",
       "    // Prevent repeat events\n",
       "    if (name == 'key_press')\n",
       "    {\n",
       "        if (event.which === this._key)\n",
       "            return;\n",
       "        else\n",
       "            this._key = event.which;\n",
       "    }\n",
       "    if (name == 'key_release')\n",
       "        this._key = null;\n",
       "\n",
       "    var value = '';\n",
       "    if (event.ctrlKey && event.which != 17)\n",
       "        value += \"ctrl+\";\n",
       "    if (event.altKey && event.which != 18)\n",
       "        value += \"alt+\";\n",
       "    if (event.shiftKey && event.which != 16)\n",
       "        value += \"shift+\";\n",
       "\n",
       "    value += 'k';\n",
       "    value += event.which.toString();\n",
       "\n",
       "    this._key_event_extra(event, name);\n",
       "\n",
       "    this.send_message(name, {key: value,\n",
       "                             guiEvent: simpleKeys(event)});\n",
       "    return false;\n",
       "}\n",
       "\n",
       "mpl.figure.prototype.toolbar_button_onclick = function(name) {\n",
       "    if (name == 'download') {\n",
       "        this.handle_save(this, null);\n",
       "    } else {\n",
       "        this.send_message(\"toolbar_button\", {name: name});\n",
       "    }\n",
       "};\n",
       "\n",
       "mpl.figure.prototype.toolbar_button_onmouseover = function(tooltip) {\n",
       "    this.message.textContent = tooltip;\n",
       "};\n",
       "mpl.toolbar_items = [[\"Home\", \"Reset original view\", \"fa fa-home icon-home\", \"home\"], [\"Back\", \"Back to  previous view\", \"fa fa-arrow-left icon-arrow-left\", \"back\"], [\"Forward\", \"Forward to next view\", \"fa fa-arrow-right icon-arrow-right\", \"forward\"], [\"\", \"\", \"\", \"\"], [\"Pan\", \"Pan axes with left mouse, zoom with right\", \"fa fa-arrows icon-move\", \"pan\"], [\"Zoom\", \"Zoom to rectangle\", \"fa fa-square-o icon-check-empty\", \"zoom\"], [\"\", \"\", \"\", \"\"], [\"Download\", \"Download plot\", \"fa fa-floppy-o icon-save\", \"download\"]];\n",
       "\n",
       "mpl.extensions = [\"eps\", \"jpeg\", \"pdf\", \"png\", \"ps\", \"raw\", \"svg\", \"tif\"];\n",
       "\n",
       "mpl.default_extension = \"png\";var comm_websocket_adapter = function(comm) {\n",
       "    // Create a \"websocket\"-like object which calls the given IPython comm\n",
       "    // object with the appropriate methods. Currently this is a non binary\n",
       "    // socket, so there is still some room for performance tuning.\n",
       "    var ws = {};\n",
       "\n",
       "    ws.close = function() {\n",
       "        comm.close()\n",
       "    };\n",
       "    ws.send = function(m) {\n",
       "        //console.log('sending', m);\n",
       "        comm.send(m);\n",
       "    };\n",
       "    // Register the callback with on_msg.\n",
       "    comm.on_msg(function(msg) {\n",
       "        //console.log('receiving', msg['content']['data'], msg);\n",
       "        // Pass the mpl event to the overriden (by mpl) onmessage function.\n",
       "        ws.onmessage(msg['content']['data'])\n",
       "    });\n",
       "    return ws;\n",
       "}\n",
       "\n",
       "mpl.mpl_figure_comm = function(comm, msg) {\n",
       "    // This is the function which gets called when the mpl process\n",
       "    // starts-up an IPython Comm through the \"matplotlib\" channel.\n",
       "\n",
       "    var id = msg.content.data.id;\n",
       "    // Get hold of the div created by the display call when the Comm\n",
       "    // socket was opened in Python.\n",
       "    var element = $(\"#\" + id);\n",
       "    var ws_proxy = comm_websocket_adapter(comm)\n",
       "\n",
       "    function ondownload(figure, format) {\n",
       "        window.open(figure.imageObj.src);\n",
       "    }\n",
       "\n",
       "    var fig = new mpl.figure(id, ws_proxy,\n",
       "                           ondownload,\n",
       "                           element.get(0));\n",
       "\n",
       "    // Call onopen now - mpl needs it, as it is assuming we've passed it a real\n",
       "    // web socket which is closed, not our websocket->open comm proxy.\n",
       "    ws_proxy.onopen();\n",
       "\n",
       "    fig.parent_element = element.get(0);\n",
       "    fig.cell_info = mpl.find_output_cell(\"<div id='\" + id + \"'></div>\");\n",
       "    if (!fig.cell_info) {\n",
       "        console.error(\"Failed to find cell for figure\", id, fig);\n",
       "        return;\n",
       "    }\n",
       "\n",
       "    var output_index = fig.cell_info[2]\n",
       "    var cell = fig.cell_info[0];\n",
       "\n",
       "};\n",
       "\n",
       "mpl.figure.prototype.handle_close = function(fig, msg) {\n",
       "    var width = fig.canvas.width/mpl.ratio\n",
       "    fig.root.unbind('remove')\n",
       "\n",
       "    // Update the output cell to use the data from the current canvas.\n",
       "    fig.push_to_output();\n",
       "    var dataURL = fig.canvas.toDataURL();\n",
       "    // Re-enable the keyboard manager in IPython - without this line, in FF,\n",
       "    // the notebook keyboard shortcuts fail.\n",
       "    IPython.keyboard_manager.enable()\n",
       "    $(fig.parent_element).html('<img src=\"' + dataURL + '\" width=\"' + width + '\">');\n",
       "    fig.close_ws(fig, msg);\n",
       "}\n",
       "\n",
       "mpl.figure.prototype.close_ws = function(fig, msg){\n",
       "    fig.send_message('closing', msg);\n",
       "    // fig.ws.close()\n",
       "}\n",
       "\n",
       "mpl.figure.prototype.push_to_output = function(remove_interactive) {\n",
       "    // Turn the data on the canvas into data in the output cell.\n",
       "    var width = this.canvas.width/mpl.ratio\n",
       "    var dataURL = this.canvas.toDataURL();\n",
       "    this.cell_info[1]['text/html'] = '<img src=\"' + dataURL + '\" width=\"' + width + '\">';\n",
       "}\n",
       "\n",
       "mpl.figure.prototype.updated_canvas_event = function() {\n",
       "    // Tell IPython that the notebook contents must change.\n",
       "    IPython.notebook.set_dirty(true);\n",
       "    this.send_message(\"ack\", {});\n",
       "    var fig = this;\n",
       "    // Wait a second, then push the new image to the DOM so\n",
       "    // that it is saved nicely (might be nice to debounce this).\n",
       "    setTimeout(function () { fig.push_to_output() }, 1000);\n",
       "}\n",
       "\n",
       "mpl.figure.prototype._init_toolbar = function() {\n",
       "    var fig = this;\n",
       "\n",
       "    var nav_element = $('<div/>')\n",
       "    nav_element.attr('style', 'width: 100%');\n",
       "    this.root.append(nav_element);\n",
       "\n",
       "    // Define a callback function for later on.\n",
       "    function toolbar_event(event) {\n",
       "        return fig.toolbar_button_onclick(event['data']);\n",
       "    }\n",
       "    function toolbar_mouse_event(event) {\n",
       "        return fig.toolbar_button_onmouseover(event['data']);\n",
       "    }\n",
       "\n",
       "    for(var toolbar_ind in mpl.toolbar_items){\n",
       "        var name = mpl.toolbar_items[toolbar_ind][0];\n",
       "        var tooltip = mpl.toolbar_items[toolbar_ind][1];\n",
       "        var image = mpl.toolbar_items[toolbar_ind][2];\n",
       "        var method_name = mpl.toolbar_items[toolbar_ind][3];\n",
       "\n",
       "        if (!name) { continue; };\n",
       "\n",
       "        var button = $('<button class=\"btn btn-default\" href=\"#\" title=\"' + name + '\"><i class=\"fa ' + image + ' fa-lg\"></i></button>');\n",
       "        button.click(method_name, toolbar_event);\n",
       "        button.mouseover(tooltip, toolbar_mouse_event);\n",
       "        nav_element.append(button);\n",
       "    }\n",
       "\n",
       "    // Add the status bar.\n",
       "    var status_bar = $('<span class=\"mpl-message\" style=\"text-align:right; float: right;\"/>');\n",
       "    nav_element.append(status_bar);\n",
       "    this.message = status_bar[0];\n",
       "\n",
       "    // Add the close button to the window.\n",
       "    var buttongrp = $('<div class=\"btn-group inline pull-right\"></div>');\n",
       "    var button = $('<button class=\"btn btn-mini btn-primary\" href=\"#\" title=\"Stop Interaction\"><i class=\"fa fa-power-off icon-remove icon-large\"></i></button>');\n",
       "    button.click(function (evt) { fig.handle_close(fig, {}); } );\n",
       "    button.mouseover('Stop Interaction', toolbar_mouse_event);\n",
       "    buttongrp.append(button);\n",
       "    var titlebar = this.root.find($('.ui-dialog-titlebar'));\n",
       "    titlebar.prepend(buttongrp);\n",
       "}\n",
       "\n",
       "mpl.figure.prototype._root_extra_style = function(el){\n",
       "    var fig = this\n",
       "    el.on(\"remove\", function(){\n",
       "\tfig.close_ws(fig, {});\n",
       "    });\n",
       "}\n",
       "\n",
       "mpl.figure.prototype._canvas_extra_style = function(el){\n",
       "    // this is important to make the div 'focusable\n",
       "    el.attr('tabindex', 0)\n",
       "    // reach out to IPython and tell the keyboard manager to turn it's self\n",
       "    // off when our div gets focus\n",
       "\n",
       "    // location in version 3\n",
       "    if (IPython.notebook.keyboard_manager) {\n",
       "        IPython.notebook.keyboard_manager.register_events(el);\n",
       "    }\n",
       "    else {\n",
       "        // location in version 2\n",
       "        IPython.keyboard_manager.register_events(el);\n",
       "    }\n",
       "\n",
       "}\n",
       "\n",
       "mpl.figure.prototype._key_event_extra = function(event, name) {\n",
       "    var manager = IPython.notebook.keyboard_manager;\n",
       "    if (!manager)\n",
       "        manager = IPython.keyboard_manager;\n",
       "\n",
       "    // Check for shift+enter\n",
       "    if (event.shiftKey && event.which == 13) {\n",
       "        this.canvas_div.blur();\n",
       "        event.shiftKey = false;\n",
       "        // Send a \"J\" for go to next cell\n",
       "        event.which = 74;\n",
       "        event.keyCode = 74;\n",
       "        manager.command_mode();\n",
       "        manager.handle_keydown(event);\n",
       "    }\n",
       "}\n",
       "\n",
       "mpl.figure.prototype.handle_save = function(fig, msg) {\n",
       "    fig.ondownload(fig, null);\n",
       "}\n",
       "\n",
       "\n",
       "mpl.find_output_cell = function(html_output) {\n",
       "    // Return the cell and output element which can be found *uniquely* in the notebook.\n",
       "    // Note - this is a bit hacky, but it is done because the \"notebook_saving.Notebook\"\n",
       "    // IPython event is triggered only after the cells have been serialised, which for\n",
       "    // our purposes (turning an active figure into a static one), is too late.\n",
       "    var cells = IPython.notebook.get_cells();\n",
       "    var ncells = cells.length;\n",
       "    for (var i=0; i<ncells; i++) {\n",
       "        var cell = cells[i];\n",
       "        if (cell.cell_type === 'code'){\n",
       "            for (var j=0; j<cell.output_area.outputs.length; j++) {\n",
       "                var data = cell.output_area.outputs[j];\n",
       "                if (data.data) {\n",
       "                    // IPython >= 3 moved mimebundle to data attribute of output\n",
       "                    data = data.data;\n",
       "                }\n",
       "                if (data['text/html'] == html_output) {\n",
       "                    return [cell, data, j];\n",
       "                }\n",
       "            }\n",
       "        }\n",
       "    }\n",
       "}\n",
       "\n",
       "// Register the function which deals with the matplotlib target/channel.\n",
       "// The kernel may be null if the page has been refreshed.\n",
       "if (IPython.notebook.kernel != null) {\n",
       "    IPython.notebook.kernel.comm_manager.register_target('matplotlib', mpl.mpl_figure_comm);\n",
       "}\n"
      ],
      "text/plain": [
       "<IPython.core.display.Javascript object>"
      ]
     },
     "metadata": {},
     "output_type": "display_data"
    },
    {
     "data": {
      "text/html": [
       "<img src=\"data:image/png;base64,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\" width=\"500\">"
      ],
      "text/plain": [
       "<IPython.core.display.HTML object>"
      ]
     },
     "metadata": {},
     "output_type": "display_data"
    },
    {
     "data": {
      "text/plain": [
       "[<matplotlib.lines.Line2D at 0x2ac919c53f60>]"
      ]
     },
     "execution_count": 20,
     "metadata": {},
     "output_type": "execute_result"
    }
   ],
   "source": [
    "fig,ax=plt.subplots(figsize=(5,5))\n",
    "ax.plot(fpr,tpr)\n",
    "ax.plot([0,1],[0,1],color='navy', lw=2, linestyle='--')"
   ]
  },
  {
   "cell_type": "code",
   "execution_count": null,
   "metadata": {},
   "outputs": [],
   "source": []
  }
 ],
 "metadata": {
  "kernelspec": {
   "display_name": "Python 3",
   "language": "python",
   "name": "python3"
  },
  "language_info": {
   "codemirror_mode": {
    "name": "ipython",
    "version": 3
   },
   "file_extension": ".py",
   "mimetype": "text/x-python",
   "name": "python",
   "nbconvert_exporter": "python",
   "pygments_lexer": "ipython3",
   "version": "3.6.5"
  }
 },
 "nbformat": 4,
 "nbformat_minor": 2
}
