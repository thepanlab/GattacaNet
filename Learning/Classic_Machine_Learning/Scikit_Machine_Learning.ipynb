{
 "cells": [
  {
   "cell_type": "code",
   "execution_count": null,
   "metadata": {},
   "outputs": [],
   "source": [
    "%matplotlib inline\n",
    "import tensorflow as tf\n",
    "import numpy as np\n",
    "from pandas_plink import read_plink\n",
    "import pandas as pd\n",
    "import matplotlib.pyplot as plt\n",
    "from sklearn.decomposition import PCA\n",
    "from sklearn.linear_model import LogisticRegression\n",
    "from joblib import Parallel, delayed\n",
    "from sklearn import metrics\n",
    "from math import sqrt\n",
    "\n",
    "import random\n",
    "from sklearn.metrics import roc_curve\n",
    "from sklearn.metrics import accuracy_score\n",
    "from sklearn.metrics import auc\n",
    "from sklearn.metrics import confusion_matrix\n",
    "from sklearn.metrics import classification_report\n",
    "from sklearn.metrics import precision_score\n",
    "from sklearn.preprocessing import OneHotEncoder\n",
    "from sklearn.metrics import roc_auc_score\n",
    "from sklearn.tree import DecisionTreeClassifier\n",
    "from sklearn.ensemble import RandomForestClassifier,AdaBoostClassifier,GradientBoostingClassifier\n",
    "from sklearn.ensemble import BaggingClassifier\n",
    "from sklearn.multiclass import OneVsRestClassifier\n",
    "from sklearn.svm import SVC\n",
    "from sklearn.naive_bayes import GaussianNB\n",
    "from sklearn.metrics import log_loss"
   ]
  },
  {
   "cell_type": "code",
   "execution_count": null,
   "metadata": {},
   "outputs": [],
   "source": [
    "''' Parameters for experiment '''\n",
    "threshold=\"0.001\"\n",
    "path_logs=\"/work/breastcancer/clean_test/logs/\"\n",
    "path_to_files=\"/work/breastcancer/clean_test/\"\n",
    "''' getting bim,fam,bed for training,validation and test sets '''\n",
    "(bim, fam, bed)=read_plink(path_to_files+\"train/sig\"+threshold)\n",
    "(bim2, fam2, bed2)=read_plink(path_to_files+\"validation/val\"+threshold)\n",
    "(bim3, fam3, bed3)=read_plink(path_to_files+\"test/test\"+threshold)\n",
    "\n",
    "path_logs=\"/work/breastcancer/clean_test/logs/\"\n",
    "\n",
    "print(bim)\n",
    "\n",
    "print(fam)\n",
    "\n",
    "''' Creating arrays with optimal data structure and filling missing values with 2--> Homozygous major '''\n",
    "print(\"Convertion\")\n",
    "bed=bed.astype('uint8')\n",
    "print(\"Compute\")\n",
    "X=bed.compute()\n",
    "print(\"Filling Null Data\")\n",
    "X[np.isnan(X)]=2\n",
    "#validation\n",
    "print(\"Convertion\")\n",
    "bed2=bed2.astype('uint8')\n",
    "print(\"Compute\")\n",
    "X_val=bed2.compute()\n",
    "print(\"Filling Null Data\")\n",
    "X_val[np.isnan(X_val)]=2\n",
    "#test\n",
    "print(\"Convertion\")\n",
    "bed3=bed3.astype('uint8')\n",
    "print(\"Compute\")\n",
    "X_test=bed3.compute()\n",
    "print(\"Filling Null Data\")\n",
    "X_test[np.isnan(X_test)]=2\n",
    "\n",
    "''' Preparing data.shape=(individuals,SNP) '''\n",
    "#train\n",
    "Y=fam[\"trait\"].astype(\"int\")\n",
    "Y=Y-1\n",
    "Xdf=pd.DataFrame(X.T)\n",
    "Xdf[\"Y\"]=Y\n",
    "\n",
    "#validation\n",
    "Y_val=fam2[\"trait\"].astype(\"int\")\n",
    "Y_val=Y_val-1\n",
    "Xdf_val=pd.DataFrame(X_val.T)\n",
    "Xdf_val[\"Y\"]=Y_val\n",
    "\n",
    "#test\n",
    "Y_test=fam3[\"trait\"].astype(\"int\")\n",
    "Y_test=Y_test-1\n",
    "Xdf_test=pd.DataFrame(X_test.T)\n",
    "Xdf_test[\"Y\"]=Y_test\n",
    "\n",
    "''' Getting np arrays '''\n",
    "x_train=Xdf.drop(['Y'],axis=1).values\n",
    "y_train=Xdf[['Y']].values\n",
    "\n",
    "x_val=Xdf_val.drop(['Y'],axis=1).values\n",
    "y_val=Xdf_val[['Y']].values\n",
    "\n",
    "x_test=Xdf_test.drop(['Y'],axis=1).values\n",
    "y_test=Xdf_test[['Y']].values"
   ]
  },
  {
   "cell_type": "code",
   "execution_count": null,
   "metadata": {},
   "outputs": [],
   "source": [
    "''' Function that plot the ROC curve'''\n",
    "def plot_roc_curve(fpr, tpr, model_name,AUC):\n",
    "    plt.plot(fpr, tpr, color='orange', label='ROC, AUC='+str(np.round(AUC*100,1))+\"%\")\n",
    "    plt.plot([0, 1], [0, 1], color='darkblue', linestyle='--')\n",
    "    plt.xlabel('False Positive Rate')\n",
    "    plt.ylabel('True Positive Rate')\n",
    "    plt.title(str(model_name)+' Receiver Operating Characteristic (ROC) Curve on Testing Set')\n",
    "    \n",
    "    plt.legend()\n",
    "    plt.show()"
   ]
  },
  {
   "cell_type": "code",
   "execution_count": null,
   "metadata": {},
   "outputs": [],
   "source": [
    "'''Function that output the validation scores'''\n",
    "def print_result(model,x_val,y_val,name):\n",
    "    prediction=model.predict_proba(x_val,y_val)\n",
    "    print(\"Validation:\")\n",
    "    print(\"Accuracy:\",accuracy_score(y_val,np.round(prediction[:,1])))\n",
    "    print(\"AUC:\",roc_auc_score(y_val,prediction[:,1]))\n",
    "    print(\"Log Loss:\",log_loss(y_val,prediction[:,1]))\n",
    "    print(classification_report(y_val,np.round(prediction[:,1])))\n",
    "    return roc_auc_score(y_val,prediction[:,1])"
   ]
  },
  {
   "cell_type": "code",
   "execution_count": null,
   "metadata": {},
   "outputs": [],
   "source": [
    "'''Function that output the test scores and record the information'''\n",
    "def print_result_test(model,x_test,y_test,name):\n",
    "    prediction=model.predict_proba(x_test,y_test)\n",
    "    print(\"Testing:\")\n",
    "    print(\"Accuracy:\")\n",
    "    print(\"AUC:\",roc_auc_score(y_val,prediction[:,1]))\n",
    "    print(\"Log Loss:\",log_loss(y_val,prediction[:,1]))\n",
    "    print(classification_report(y_val,np.round(prediction[:,1])))\n",
    "    fpr, tpr, threshold = roc_curve(y_test,prediction[:,1])\n",
    "    plot_roc_curve(fpr,tpr,name,)\n",
    "    pd.DataFrame(np.array([fpr,tpr,threshold]).T).to_csv(path_logs+\"roc_\"+str(name)+\"001.csv\")"
   ]
  },
  {
   "cell_type": "code",
   "execution_count": null,
   "metadata": {},
   "outputs": [],
   "source": [
    "'''Decision Tree'''"
   ]
  },
  {
   "cell_type": "code",
   "execution_count": null,
   "metadata": {},
   "outputs": [],
   "source": [
    "''' Training model'''\n",
    "clf2 = DecisionTreeClassifier(random_state=0).fit(x_train, y_train[:,0])"
   ]
  },
  {
   "cell_type": "code",
   "execution_count": null,
   "metadata": {
    "scrolled": true
   },
   "outputs": [],
   "source": [
    "'''Printing result validation set'''\n",
    "print_result(clf2,x_val,y_val,\"DecisionTree\")"
   ]
  },
  {
   "cell_type": "code",
   "execution_count": null,
   "metadata": {},
   "outputs": [],
   "source": [
    "'''Printing result test set'''\n",
    "print_result_test(clf2,x_test,y_test,\"DecisionTree\")"
   ]
  },
  {
   "cell_type": "code",
   "execution_count": null,
   "metadata": {},
   "outputs": [],
   "source": [
    "'''Random Forest'''"
   ]
  },
  {
   "cell_type": "code",
   "execution_count": null,
   "metadata": {},
   "outputs": [],
   "source": [
    "''' Training model'''\n",
    "estimators=[x*500 for x in range(1,10)]\n",
    "models=[]\n",
    "for number_estimator in estimators:\n",
    "    clf3=RandomForestClassifier(n_estimators=number_estimator,random_state=0,n_jobs=40).fit(x_train, y_train[:,0])\n",
    "    models.append(clf3)"
   ]
  },
  {
   "cell_type": "code",
   "execution_count": null,
   "metadata": {},
   "outputs": [],
   "source": [
    "'''Printing result validation set for each hyper parameter'''\n",
    "i=0\n",
    "best_auc=0\n",
    "local_auc=None\n",
    "best_model=None\n",
    "for model in models: \n",
    "    local_auc=print_result(model,x_val,y_val,\"RandomForest with estimators=\"+estimators[i])\n",
    "    if local_auc>best_auc:\n",
    "        best_auc=local_auc\n",
    "        best_model=model\n",
    "    i+=1"
   ]
  },
  {
   "cell_type": "code",
   "execution_count": null,
   "metadata": {},
   "outputs": [],
   "source": [
    "'''Printing result test set'''\n",
    "print_result_test(best_model,x_test,y_test,\"Random Forest\")"
   ]
  },
  {
   "cell_type": "code",
   "execution_count": null,
   "metadata": {},
   "outputs": [],
   "source": [
    "'''SVM Classifier'''"
   ]
  },
  {
   "cell_type": "code",
   "execution_count": null,
   "metadata": {},
   "outputs": [],
   "source": [
    "''' Training model'''\n",
    "Cs=[0.001,0.01,0.1,1,5,10,15,20]\n",
    "models=[]\n",
    "for C in Cs:\n",
    "    clf4 = SVC(C=C).fit(x_train, y_train[:,0])\n",
    "    models.append(clf4)"
   ]
  },
  {
   "cell_type": "code",
   "execution_count": null,
   "metadata": {},
   "outputs": [],
   "source": [
    "'''Printing result validation set for each hyper parameter'''\n",
    "i=0\n",
    "best_auc=0\n",
    "local_auc=None\n",
    "best_model=None\n",
    "for model in models: \n",
    "    local_auc=print_result(model,x_val,y_val,\"SVM classifier with C=\"+Cs[i])\n",
    "    if local_auc>best_auc:\n",
    "        best_auc=local_auc\n",
    "        best_model=model\n",
    "    i+=1"
   ]
  },
  {
   "cell_type": "code",
   "execution_count": null,
   "metadata": {},
   "outputs": [],
   "source": [
    "'''Printing result test set'''\n",
    "print_result_test(best_model,x_test,y_test,\"SVM Classifier\")"
   ]
  },
  {
   "cell_type": "code",
   "execution_count": null,
   "metadata": {},
   "outputs": [],
   "source": [
    "'''Naive Bayes'''"
   ]
  },
  {
   "cell_type": "code",
   "execution_count": null,
   "metadata": {},
   "outputs": [],
   "source": [
    "''' Training model'''\n",
    "clf5=GaussianNB().fit(x_train, y_train[:,0])"
   ]
  },
  {
   "cell_type": "code",
   "execution_count": null,
   "metadata": {},
   "outputs": [],
   "source": [
    "'''Printing result validation set'''\n",
    "print_result(clf5,x_val,y_val,\"Naive Gauss\")"
   ]
  },
  {
   "cell_type": "code",
   "execution_count": null,
   "metadata": {},
   "outputs": [],
   "source": [
    "'''Printing result test set'''\n",
    "print_result_test(clf5,x_test,y_test,\"Naive Gauss\")"
   ]
  },
  {
   "cell_type": "code",
   "execution_count": null,
   "metadata": {},
   "outputs": [],
   "source": [
    "''' AdaBoost'''"
   ]
  },
  {
   "cell_type": "code",
   "execution_count": null,
   "metadata": {},
   "outputs": [],
   "source": [
    "''' Training model'''\n",
    "estimators=[x*500 for x in range(1,10)]\n",
    "models=[]\n",
    "for number_estimator in estimators:\n",
    "    clf6=AdaBoostClassifier(n_estimators=number_estimator).fit(x_train, y_train[:,0])\n",
    "    models.append(clf6)\n"
   ]
  },
  {
   "cell_type": "code",
   "execution_count": null,
   "metadata": {},
   "outputs": [],
   "source": [
    "'''Printing result validation set for each hyper parameter'''\n",
    "i=0\n",
    "best_auc=0\n",
    "local_auc=None\n",
    "best_model=None\n",
    "for model in models: \n",
    "    local_auc=print_result(model,x_val,y_val,\"AdaBoost with estimators=\"+estimators[i])\n",
    "    if local_auc>best_auc:\n",
    "        best_auc=local_auc\n",
    "        best_model=model\n",
    "    i+=1"
   ]
  },
  {
   "cell_type": "code",
   "execution_count": null,
   "metadata": {},
   "outputs": [],
   "source": [
    "'''Printing result test set'''\n",
    "print_result_test(best_model,x_test,y_test,\"AdaBoost\")"
   ]
  },
  {
   "cell_type": "code",
   "execution_count": null,
   "metadata": {},
   "outputs": [],
   "source": [
    "''' Gradient Boosting'''"
   ]
  },
  {
   "cell_type": "code",
   "execution_count": null,
   "metadata": {},
   "outputs": [],
   "source": [
    "''' Training model'''\n",
    "estimators=[x*100 for x in range(1,10)]\n",
    "models=[]\n",
    "for number_estimator in estimators:\n",
    "    clf7=GradientBoostingClassifier(n_estimators=number_estimator).fit(x_train, y_train[:,0])\n",
    "    models.append(clf7)\n"
   ]
  },
  {
   "cell_type": "code",
   "execution_count": null,
   "metadata": {},
   "outputs": [],
   "source": [
    "'''Printing result validation set for each hyper parameter'''\n",
    "i=0\n",
    "best_auc=0\n",
    "local_auc=None\n",
    "best_model=None\n",
    "for model in models: \n",
    "    local_auc=print_result(model,x_val,y_val,\"Gradient Boosting with estimators=\"+estimators[i])\n",
    "    if local_auc>best_auc:\n",
    "        best_auc=local_auc\n",
    "        best_model=model\n",
    "    i+=1\n",
    "print(\"Best Parameter=\"+best_model.)"
   ]
  },
  {
   "cell_type": "code",
   "execution_count": null,
   "metadata": {},
   "outputs": [],
   "source": [
    "'''Printing result test set'''\n",
    "print_result_test(best_model,x_test,y_test,\"Gradient Boosting\")"
   ]
  }
 ],
 "metadata": {
  "kernelspec": {
   "display_name": "Python 3",
   "language": "python",
   "name": "python3"
  },
  "language_info": {
   "codemirror_mode": {
    "name": "ipython",
    "version": 3
   },
   "file_extension": ".py",
   "mimetype": "text/x-python",
   "name": "python",
   "nbconvert_exporter": "python",
   "pygments_lexer": "ipython3",
   "version": "3.6.5"
  }
 },
 "nbformat": 4,
 "nbformat_minor": 2
}
